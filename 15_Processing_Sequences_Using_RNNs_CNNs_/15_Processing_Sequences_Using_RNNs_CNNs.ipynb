{
  "nbformat": 4,
  "nbformat_minor": 0,
  "metadata": {
    "colab": {
      "provenance": [],
      "toc_visible": true
    },
    "kernelspec": {
      "name": "python3",
      "display_name": "Python 3"
    },
    "language_info": {
      "name": "python"
    },
    "accelerator": "GPU",
    "gpuClass": "standard"
  },
  "cells": [
    {
      "cell_type": "markdown",
      "metadata": {
        "id": "yt5IqvkeBL0x"
      },
      "source": [
        "**Fifteenth chapter of Hands-on Machine learning with Scikit-Learn, Keras, and Tensorflow.**\n",
        "\n",
        "Find the book from → [Hands-on Machine Learning with Scikit-Learn, Keras and TensorFlow (3rd edition)](https://homl.info/er3)"
      ]
    },
    {
      "cell_type": "markdown",
      "metadata": {
        "id": "cZd2FTYdJUTE"
      },
      "source": [
        "# Setup"
      ]
    },
    {
      "cell_type": "code",
      "execution_count": null,
      "metadata": {
        "id": "zX-50w-3BK4k"
      },
      "outputs": [],
      "source": [
        "import sys\n",
        "\n",
        "assert sys.version_info >= (3, 7)"
      ]
    },
    {
      "cell_type": "code",
      "execution_count": null,
      "metadata": {
        "id": "zuqo7mtsJYEM"
      },
      "outputs": [],
      "source": [
        "from packaging import version\n",
        "import tensorflow as tf\n",
        "\n",
        "assert version.parse(tf.__version__) >= version.parse(\"2.8.0\")"
      ]
    },
    {
      "cell_type": "code",
      "execution_count": null,
      "metadata": {
        "id": "Ee3ohiu_JZHW"
      },
      "outputs": [],
      "source": [
        "import matplotlib.pyplot as plt\n",
        "\n",
        "plt.rc('font', size=14)\n",
        "plt.rc('axes', labelsize=14, titlesize=14)\n",
        "plt.rc('legend', fontsize=14)\n",
        "plt.rc('xtick', labelsize=10)\n",
        "plt.rc('ytick', labelsize=10)"
      ]
    },
    {
      "cell_type": "code",
      "execution_count": null,
      "metadata": {
        "id": "o-nY1pU5JaB-"
      },
      "outputs": [],
      "source": [
        "from pathlib import Path\n",
        "\n",
        "IMAGES_PATH = Path() / \"images\" / \"rnn\"\n",
        "IMAGES_PATH.mkdir(parents=True, exist_ok=True)"
      ]
    },
    {
      "cell_type": "code",
      "execution_count": null,
      "metadata": {
        "id": "S15Jgv466QoM"
      },
      "outputs": [],
      "source": [
        "# Is this notebook running on Colab or Kaggle?\n",
        "IS_COLAB = \"google.colab\" in sys.modules\n",
        "IS_KAGGLE = \"kaggle_secrets\" in sys.modules\n",
        "\n",
        "if not tf.config.list_physical_devices('GPU'):\n",
        "    print(\"No GPU was detected. Neural nets can be very slow without a GPU.\")\n",
        "    if IS_COLAB:\n",
        "        print(\"Go to Runtime > Change runtime and select a GPU hardware \"\n",
        "              \"accelerator.\")\n",
        "    if IS_KAGGLE:\n",
        "        print(\"Go to Settings > Accelerator and select GPU.\")"
      ]
    },
    {
      "cell_type": "markdown",
      "source": [
        "# Forecasting a Time Series\n",
        "\n",
        "Let's download the ridership data from the ageron/data project. It originally comes from Chicago's Transit Authority, and was downloaded from the [Chicago's Data Portal](https://homl.info/ridership)."
      ],
      "metadata": {
        "id": "TgPfmBiz1Zlx"
      }
    },
    {
      "cell_type": "code",
      "source": [
        "tf.keras.utils.get_file(\n",
        "    \"ridership.tgz\",\n",
        "    \"https://github.com/ageron/data/raw/main/ridership.tgz\",\n",
        "    cache_dir=\".\",\n",
        "    extract=True\n",
        ")"
      ],
      "metadata": {
        "colab": {
          "base_uri": "https://localhost:8080/",
          "height": 70
        },
        "id": "NFzzEXhj1aLb",
        "outputId": "e0f04eb9-f7a5-47c1-df01-1da8dbea0151"
      },
      "execution_count": null,
      "outputs": [
        {
          "output_type": "stream",
          "name": "stdout",
          "text": [
            "Downloading data from https://github.com/ageron/data/raw/main/ridership.tgz\n",
            "108512/108512 [==============================] - 0s 0us/step\n"
          ]
        },
        {
          "output_type": "execute_result",
          "data": {
            "text/plain": [
              "'./datasets/ridership.tgz'"
            ],
            "application/vnd.google.colaboratory.intrinsic+json": {
              "type": "string"
            }
          },
          "metadata": {},
          "execution_count": 6
        }
      ]
    },
    {
      "cell_type": "code",
      "source": [
        "import pandas as pd\n",
        "from pathlib import Path\n",
        "\n",
        "path = Path(\"datasets/ridership/CTA_-_Ridership_-_Daily_Boarding_Totals.csv\")\n",
        "df = pd.read_csv(path, parse_dates=[\"service_date\"])\n",
        "df.columns = [\"date\", \"day_type\", \"bus\", \"rail\", \"total\"]  # shorter names\n",
        "df = df.sort_values(\"date\").set_index(\"date\")\n",
        "df = df.drop(\"total\", axis=1)  # no need for total, it's just bus + rail\n",
        "df = df.drop_duplicates()  # remove duplicated months (2011-10 and 2014-07)"
      ],
      "metadata": {
        "id": "kPrH2EJ52IZK"
      },
      "execution_count": null,
      "outputs": []
    },
    {
      "cell_type": "code",
      "source": [
        "df.head()"
      ],
      "metadata": {
        "id": "6t05wpZV2SUl",
        "colab": {
          "base_uri": "https://localhost:8080/",
          "height": 238
        },
        "outputId": "e3979d43-0876-4d0d-c30d-f63574dd96af"
      },
      "execution_count": null,
      "outputs": [
        {
          "output_type": "execute_result",
          "data": {
            "text/plain": [
              "           day_type     bus    rail\n",
              "date                               \n",
              "2001-01-01        U  297192  126455\n",
              "2001-01-02        W  780827  501952\n",
              "2001-01-03        W  824923  536432\n",
              "2001-01-04        W  870021  550011\n",
              "2001-01-05        W  890426  557917"
            ],
            "text/html": [
              "\n",
              "  <div id=\"df-dfdefe23-6f13-453a-983d-0479d011616e\">\n",
              "    <div class=\"colab-df-container\">\n",
              "      <div>\n",
              "<style scoped>\n",
              "    .dataframe tbody tr th:only-of-type {\n",
              "        vertical-align: middle;\n",
              "    }\n",
              "\n",
              "    .dataframe tbody tr th {\n",
              "        vertical-align: top;\n",
              "    }\n",
              "\n",
              "    .dataframe thead th {\n",
              "        text-align: right;\n",
              "    }\n",
              "</style>\n",
              "<table border=\"1\" class=\"dataframe\">\n",
              "  <thead>\n",
              "    <tr style=\"text-align: right;\">\n",
              "      <th></th>\n",
              "      <th>day_type</th>\n",
              "      <th>bus</th>\n",
              "      <th>rail</th>\n",
              "    </tr>\n",
              "    <tr>\n",
              "      <th>date</th>\n",
              "      <th></th>\n",
              "      <th></th>\n",
              "      <th></th>\n",
              "    </tr>\n",
              "  </thead>\n",
              "  <tbody>\n",
              "    <tr>\n",
              "      <th>2001-01-01</th>\n",
              "      <td>U</td>\n",
              "      <td>297192</td>\n",
              "      <td>126455</td>\n",
              "    </tr>\n",
              "    <tr>\n",
              "      <th>2001-01-02</th>\n",
              "      <td>W</td>\n",
              "      <td>780827</td>\n",
              "      <td>501952</td>\n",
              "    </tr>\n",
              "    <tr>\n",
              "      <th>2001-01-03</th>\n",
              "      <td>W</td>\n",
              "      <td>824923</td>\n",
              "      <td>536432</td>\n",
              "    </tr>\n",
              "    <tr>\n",
              "      <th>2001-01-04</th>\n",
              "      <td>W</td>\n",
              "      <td>870021</td>\n",
              "      <td>550011</td>\n",
              "    </tr>\n",
              "    <tr>\n",
              "      <th>2001-01-05</th>\n",
              "      <td>W</td>\n",
              "      <td>890426</td>\n",
              "      <td>557917</td>\n",
              "    </tr>\n",
              "  </tbody>\n",
              "</table>\n",
              "</div>\n",
              "      <button class=\"colab-df-convert\" onclick=\"convertToInteractive('df-dfdefe23-6f13-453a-983d-0479d011616e')\"\n",
              "              title=\"Convert this dataframe to an interactive table.\"\n",
              "              style=\"display:none;\">\n",
              "        \n",
              "  <svg xmlns=\"http://www.w3.org/2000/svg\" height=\"24px\"viewBox=\"0 0 24 24\"\n",
              "       width=\"24px\">\n",
              "    <path d=\"M0 0h24v24H0V0z\" fill=\"none\"/>\n",
              "    <path d=\"M18.56 5.44l.94 2.06.94-2.06 2.06-.94-2.06-.94-.94-2.06-.94 2.06-2.06.94zm-11 1L8.5 8.5l.94-2.06 2.06-.94-2.06-.94L8.5 2.5l-.94 2.06-2.06.94zm10 10l.94 2.06.94-2.06 2.06-.94-2.06-.94-.94-2.06-.94 2.06-2.06.94z\"/><path d=\"M17.41 7.96l-1.37-1.37c-.4-.4-.92-.59-1.43-.59-.52 0-1.04.2-1.43.59L10.3 9.45l-7.72 7.72c-.78.78-.78 2.05 0 2.83L4 21.41c.39.39.9.59 1.41.59.51 0 1.02-.2 1.41-.59l7.78-7.78 2.81-2.81c.8-.78.8-2.07 0-2.86zM5.41 20L4 18.59l7.72-7.72 1.47 1.35L5.41 20z\"/>\n",
              "  </svg>\n",
              "      </button>\n",
              "      \n",
              "  <style>\n",
              "    .colab-df-container {\n",
              "      display:flex;\n",
              "      flex-wrap:wrap;\n",
              "      gap: 12px;\n",
              "    }\n",
              "\n",
              "    .colab-df-convert {\n",
              "      background-color: #E8F0FE;\n",
              "      border: none;\n",
              "      border-radius: 50%;\n",
              "      cursor: pointer;\n",
              "      display: none;\n",
              "      fill: #1967D2;\n",
              "      height: 32px;\n",
              "      padding: 0 0 0 0;\n",
              "      width: 32px;\n",
              "    }\n",
              "\n",
              "    .colab-df-convert:hover {\n",
              "      background-color: #E2EBFA;\n",
              "      box-shadow: 0px 1px 2px rgba(60, 64, 67, 0.3), 0px 1px 3px 1px rgba(60, 64, 67, 0.15);\n",
              "      fill: #174EA6;\n",
              "    }\n",
              "\n",
              "    [theme=dark] .colab-df-convert {\n",
              "      background-color: #3B4455;\n",
              "      fill: #D2E3FC;\n",
              "    }\n",
              "\n",
              "    [theme=dark] .colab-df-convert:hover {\n",
              "      background-color: #434B5C;\n",
              "      box-shadow: 0px 1px 3px 1px rgba(0, 0, 0, 0.15);\n",
              "      filter: drop-shadow(0px 1px 2px rgba(0, 0, 0, 0.3));\n",
              "      fill: #FFFFFF;\n",
              "    }\n",
              "  </style>\n",
              "\n",
              "      <script>\n",
              "        const buttonEl =\n",
              "          document.querySelector('#df-dfdefe23-6f13-453a-983d-0479d011616e button.colab-df-convert');\n",
              "        buttonEl.style.display =\n",
              "          google.colab.kernel.accessAllowed ? 'block' : 'none';\n",
              "\n",
              "        async function convertToInteractive(key) {\n",
              "          const element = document.querySelector('#df-dfdefe23-6f13-453a-983d-0479d011616e');\n",
              "          const dataTable =\n",
              "            await google.colab.kernel.invokeFunction('convertToInteractive',\n",
              "                                                     [key], {});\n",
              "          if (!dataTable) return;\n",
              "\n",
              "          const docLinkHtml = 'Like what you see? Visit the ' +\n",
              "            '<a target=\"_blank\" href=https://colab.research.google.com/notebooks/data_table.ipynb>data table notebook</a>'\n",
              "            + ' to learn more about interactive tables.';\n",
              "          element.innerHTML = '';\n",
              "          dataTable['output_type'] = 'display_data';\n",
              "          await google.colab.output.renderOutput(dataTable, element);\n",
              "          const docLink = document.createElement('div');\n",
              "          docLink.innerHTML = docLinkHtml;\n",
              "          element.appendChild(docLink);\n",
              "        }\n",
              "      </script>\n",
              "    </div>\n",
              "  </div>\n",
              "  "
            ]
          },
          "metadata": {},
          "execution_count": 8
        }
      ]
    },
    {
      "cell_type": "code",
      "source": [
        "import matplotlib.pyplot as plt\n",
        "\n",
        "df[\"2019-03\":\"2019-05\"].plot(grid=True, marker=\".\", figsize=(8, 3.5))\n",
        "plt.show()"
      ],
      "metadata": {
        "colab": {
          "base_uri": "https://localhost:8080/",
          "height": 268
        },
        "id": "-NIW5jeAAYP2",
        "outputId": "b3835efd-d72b-4968-af3a-c97296913d17"
      },
      "execution_count": null,
      "outputs": [
        {
          "output_type": "display_data",
          "data": {
            "text/plain": [
              "<Figure size 576x252 with 1 Axes>"
            ],
            "image/png": "[encoded data removed]"
          },
          "metadata": {
            "needs_background": "light"
          }
        }
      ]
    },
    {
      "cell_type": "code",
      "source": [
        "diff_7 = df[[\"bus\", \"rail\"]].diff(7)[\"2019-03\":\"2019-05\"]\n",
        "\n",
        "fig, axs = plt.subplots(2, 1, sharex=True, figsize=(8, 5))\n",
        "df.plot(ax=axs[0], legend=False, marker=\".\")  # original time series\n",
        "df.shift(7).plot(ax=axs[0], grid=True, legend=False, linestyle=\":\")  # lagged\n",
        "diff_7.plot(ax=axs[1], grid=True, marker=\".\")  # 7-day difference time series\n",
        "axs[0].set_ylim([170_000, 900_000])  # extra code – beautifies the plot\n",
        "plt.show()"
      ],
      "metadata": {
        "colab": {
          "base_uri": "https://localhost:8080/",
          "height": 349
        },
        "id": "GS34WXh_A20W",
        "outputId": "95896480-71ae-48fe-f0d0-39aabef7f86c"
      },
      "execution_count": null,
      "outputs": [
        {
          "output_type": "display_data",
          "data": {
            "text/plain": [
              "<Figure size 576x360 with 2 Axes>"
            ],
            "image/png": "[encoded data removed]"
          },
          "metadata": {
            "needs_background": "light"
          }
        }
      ]
    },
    {
      "cell_type": "code",
      "source": [
        "list(df.loc[\"2019-05-25\":\"2019-05-27\"][\"day_type\"])"
      ],
      "metadata": {
        "colab": {
          "base_uri": "https://localhost:8080/"
        },
        "id": "yYnwOK-sB8-8",
        "outputId": "9e2ed17b-68c8-48d1-ed2a-abfef6ed7403"
      },
      "execution_count": null,
      "outputs": [
        {
          "output_type": "execute_result",
          "data": {
            "text/plain": [
              "['A', 'U', 'U']"
            ]
          },
          "metadata": {},
          "execution_count": 12
        }
      ]
    },
    {
      "cell_type": "markdown",
      "source": [
        "Mean absolute error (MAE), also called mean absolute deviation (MAD):"
      ],
      "metadata": {
        "id": "mgsPh6zOCry9"
      }
    },
    {
      "cell_type": "code",
      "source": [
        "diff_7.abs().mean()"
      ],
      "metadata": {
        "colab": {
          "base_uri": "https://localhost:8080/"
        },
        "id": "f28WcCdGClOS",
        "outputId": "2168cb8f-5914-4fa5-c32b-674927d570b2"
      },
      "execution_count": null,
      "outputs": [
        {
          "output_type": "execute_result",
          "data": {
            "text/plain": [
              "bus     43915.608696\n",
              "rail    42143.271739\n",
              "dtype: float64"
            ]
          },
          "metadata": {},
          "execution_count": 13
        }
      ]
    },
    {
      "cell_type": "markdown",
      "source": [
        "Now let's look at the yearly seasonality and the long-term trends:"
      ],
      "metadata": {
        "id": "lhm6EK6rK5G1"
      }
    },
    {
      "cell_type": "code",
      "source": [
        "period = slice(\"2001\", \"2019\")\n",
        "df_monthly = df.resample('M').mean()  # compute the mean for each month\n",
        "rolling_average_12_months = df_monthly[period].rolling(window=12).mean()\n",
        "\n",
        "fig, ax = plt.subplots(figsize=(8, 4))\n",
        "df_monthly[period].plot(ax=ax, marker=\".\")\n",
        "rolling_average_12_months.plot(ax=ax, grid=True, legend=False)\n",
        "plt.show()"
      ],
      "metadata": {
        "colab": {
          "base_uri": "https://localhost:8080/",
          "height": 294
        },
        "id": "7R5iXvR9CtXu",
        "outputId": "eccff63e-d2e1-4423-a876-8638f9efd779"
      },
      "execution_count": null,
      "outputs": [
        {
          "output_type": "display_data",
          "data": {
            "text/plain": [
              "<Figure size 576x288 with 1 Axes>"
            ],
            "image/png": "[encoded data removed]"
          },
          "metadata": {
            "needs_background": "light"
          }
        }
      ]
    },
    {
      "cell_type": "code",
      "source": [
        "df_monthly.diff(12)[period].plot(grid=True, marker=\".\", figsize=(8, 3))\n",
        "plt.show()"
      ],
      "metadata": {
        "colab": {
          "base_uri": "https://localhost:8080/",
          "height": 229
        },
        "id": "IcWLLsmjLC71",
        "outputId": "e61cc1e7-7491-4058-82fe-9c69cd926e36"
      },
      "execution_count": null,
      "outputs": [
        {
          "output_type": "display_data",
          "data": {
            "text/plain": [
              "<Figure size 576x216 with 1 Axes>"
            ],
            "image/png": "[encoded data removed]"
          },
          "metadata": {
            "needs_background": "light"
          }
        }
      ]
    },
    {
      "cell_type": "markdown",
      "source": [
        "## The ARMA Model Family\n",
        "\n",
        "If running on Colab or Kaggle, install the statsmodels library:"
      ],
      "metadata": {
        "id": "Wfg0_TDBM2Gf"
      }
    },
    {
      "cell_type": "code",
      "source": [
        "if \"google.colab\" in sys.modules:\n",
        "    %pip install -q -U statsmodels"
      ],
      "metadata": {
        "colab": {
          "base_uri": "https://localhost:8080/"
        },
        "id": "p_XTfsQeMCv-",
        "outputId": "9515cb21-99b4-4f55-b07e-f3a9c778e84d"
      },
      "execution_count": null,
      "outputs": [
        {
          "output_type": "stream",
          "name": "stdout",
          "text": [
            "\u001b[?25l     \u001b[90m━━━━━━━━━━━━━━━━━━━━━━━━━━━━━━━━━━━━━━━━\u001b[0m \u001b[32m0.0/9.9 MB\u001b[0m \u001b[31m?\u001b[0m eta \u001b[36m-:--:--\u001b[0m\r\u001b[2K     \u001b[91m━\u001b[0m\u001b[90m╺\u001b[0m\u001b[90m━━━━━━━━━━━━━━━━━━━━━━━━━━━━━━━━━━━━━━\u001b[0m \u001b[32m0.3/9.9 MB\u001b[0m \u001b[31m8.6 MB/s\u001b[0m eta \u001b[36m0:00:02\u001b[0m\r\u001b[2K     \u001b[91m━━━━━━━━━━━━━\u001b[0m\u001b[90m╺\u001b[0m\u001b[90m━━━━━━━━━━━━━━━━━━━━━━━━━━\u001b[0m \u001b[32m3.3/9.9 MB\u001b[0m \u001b[31m46.9 MB/s\u001b[0m eta \u001b[36m0:00:01\u001b[0m\r\u001b[2K     \u001b[91m━━━━━━━━━━━━━━━━━━━━━━━━━━━━━━━━━━━━━━━\u001b[0m\u001b[91m╸\u001b[0m \u001b[32m9.9/9.9 MB\u001b[0m \u001b[31m96.2 MB/s\u001b[0m eta \u001b[36m0:00:01\u001b[0m\r\u001b[2K     \u001b[90m━━━━━━━━━━━━━━━━━━━━━━━━━━━━━━━━━━━━━━━━\u001b[0m \u001b[32m9.9/9.9 MB\u001b[0m \u001b[31m66.5 MB/s\u001b[0m eta \u001b[36m0:00:00\u001b[0m\n",
            "\u001b[?25h"
          ]
        }
      ]
    },
    {
      "cell_type": "code",
      "source": [
        "from statsmodels.tsa.arima.model import ARIMA\n",
        "\n",
        "origin, today = \"2019-01-01\", \"2019-05-31\"\n",
        "rail_series = df.loc[origin:today][\"rail\"].asfreq(\"D\")\n",
        "model = ARIMA(rail_series,\n",
        "              order=(1, 0, 0),\n",
        "              seasonal_order=(0, 1, 1, 7))\n",
        "model = model.fit()\n",
        "y_pred = model.forecast()  # returns 427,758.6"
      ],
      "metadata": {
        "id": "AdM4U-fkM5ma"
      },
      "execution_count": null,
      "outputs": []
    },
    {
      "cell_type": "code",
      "source": [
        "y_pred[0]  # ARIMA forecast"
      ],
      "metadata": {
        "colab": {
          "base_uri": "https://localhost:8080/"
        },
        "id": "OKtC9WDHO2Pg",
        "outputId": "9bad8a3f-4a72-412b-cfcc-e8cc04e01f71"
      },
      "execution_count": null,
      "outputs": [
        {
          "output_type": "execute_result",
          "data": {
            "text/plain": [
              "427758.62641035335"
            ]
          },
          "metadata": {},
          "execution_count": 19
        }
      ]
    },
    {
      "cell_type": "code",
      "source": [
        "df[\"rail\"].loc[\"2019-06-01\"]  # target value"
      ],
      "metadata": {
        "colab": {
          "base_uri": "https://localhost:8080/"
        },
        "id": "dvy6zdK5O4-J",
        "outputId": "61457468-8388-40c1-c639-ef3a2ce9df1c"
      },
      "execution_count": null,
      "outputs": [
        {
          "output_type": "execute_result",
          "data": {
            "text/plain": [
              "379044"
            ]
          },
          "metadata": {},
          "execution_count": 20
        }
      ]
    },
    {
      "cell_type": "code",
      "source": [
        "df[\"rail\"].loc[\"2019-05-25\"]  # naive forecast (value from one week earlier)"
      ],
      "metadata": {
        "colab": {
          "base_uri": "https://localhost:8080/"
        },
        "id": "uM4nwx-HPMIC",
        "outputId": "33320e1b-965f-42df-c713-b7d250d8f53e"
      },
      "execution_count": null,
      "outputs": [
        {
          "output_type": "execute_result",
          "data": {
            "text/plain": [
              "426932"
            ]
          },
          "metadata": {},
          "execution_count": 21
        }
      ]
    },
    {
      "cell_type": "markdown",
      "source": [
        "The forecast is 427,759 passengers, when in fact there were 379,044. Yikes,\n",
        "we’re 12.9% off—that’s pretty bad. It’s actually slightly worse than naive\n",
        "forecasting, which forecasts 426,932, off by 12.6%."
      ],
      "metadata": {
        "id": "zaGB55wOPUE8"
      }
    },
    {
      "cell_type": "code",
      "source": [
        "origin, start_date, end_date = \"2019-01-01\", \"2019-03-01\", \"2019-05-31\"\n",
        "time_period = pd.date_range(start_date, end_date)\n",
        "rail_series = df.loc[origin:end_date][\"rail\"].asfreq(\"D\")\n",
        "y_preds = []\n",
        "for today in time_period.shift(-1):\n",
        "    model = ARIMA(rail_series[origin:today],  # train on data up to \"today\"\n",
        "                  order=(1, 0, 0),\n",
        "                  seasonal_order=(0, 1, 1, 7))\n",
        "    model = model.fit()  # note that we retrain the model every day!\n",
        "    y_pred = model.forecast()[0]\n",
        "    y_preds.append(y_pred)\n",
        "\n",
        "y_preds = pd.Series(y_preds, index=time_period)\n",
        "mae = (y_preds - rail_series[time_period]).abs().mean()  # returns 32,040.7"
      ],
      "metadata": {
        "id": "x2WMI1ozPOFQ"
      },
      "execution_count": null,
      "outputs": []
    },
    {
      "cell_type": "code",
      "source": [
        "mae"
      ],
      "metadata": {
        "colab": {
          "base_uri": "https://localhost:8080/"
        },
        "id": "VfKfZH2QPzNu",
        "outputId": "84b2af3d-aee1-4214-c88c-1fef84b0e642"
      },
      "execution_count": null,
      "outputs": [
        {
          "output_type": "execute_result",
          "data": {
            "text/plain": [
              "32040.720089453378"
            ]
          },
          "metadata": {},
          "execution_count": 23
        }
      ]
    },
    {
      "cell_type": "code",
      "source": [
        "fig, ax = plt.subplots(figsize=(8, 3))\n",
        "rail_series.loc[time_period].plot(label=\"True\", ax=ax, marker=\".\", grid=True)\n",
        "ax.plot(y_preds, color=\"r\", marker=\".\", label=\"SARIMA Forecasts\")\n",
        "plt.legend()\n",
        "plt.show()"
      ],
      "metadata": {
        "colab": {
          "base_uri": "https://localhost:8080/",
          "height": 241
        },
        "id": "7r-Jj-3xQRWC",
        "outputId": "19978465-47df-423d-8349-2d2fcb1a512a"
      },
      "execution_count": null,
      "outputs": [
        {
          "output_type": "display_data",
          "data": {
            "text/plain": [
              "<Figure size 576x216 with 1 Axes>"
            ],
            "image/png": "[encoded data removed]"
          },
          "metadata": {
            "needs_background": "light"
          }
        }
      ]
    },
    {
      "cell_type": "code",
      "source": [
        "# shows how to plot the Autocorrelation Function (ACF) and the\n",
        "# Partial Autocorrelation Function (PACF)\n",
        "from statsmodels.graphics.tsaplots import plot_acf, plot_pacf\n",
        "\n",
        "fig, axs = plt.subplots(nrows=1, ncols=2, figsize=(15, 5))\n",
        "plot_acf(df[period][\"rail\"], ax=axs[0], lags=35)\n",
        "axs[0].grid()\n",
        "plot_pacf(df[period][\"rail\"], ax=axs[1], lags=35, method=\"ywm\")\n",
        "axs[1].grid()\n",
        "plt.show()"
      ],
      "metadata": {
        "colab": {
          "base_uri": "https://localhost:8080/",
          "height": 337
        },
        "id": "wbJkJxCnQTUe",
        "outputId": "1850988a-67ac-41bb-80b9-631a2798c1f8"
      },
      "execution_count": null,
      "outputs": [
        {
          "output_type": "display_data",
          "data": {
            "text/plain": [
              "<Figure size 1080x360 with 2 Axes>"
            ],
            "image/png": "[encoded data removed]"
          },
          "metadata": {
            "needs_background": "light"
          }
        }
      ]
    },
    {
      "cell_type": "markdown",
      "source": [
        "## Preparing the Data for Machine Learning Models\n"
      ],
      "metadata": {
        "id": "laLlL2PySMhf"
      }
    },
    {
      "cell_type": "code",
      "source": [
        "import tensorflow as tf\n",
        "\n",
        "my_series = [0, 1, 2, 3, 4, 5]\n",
        "my_dataset = tf.keras.utils.timeseries_dataset_from_array(\n",
        "    my_series,\n",
        "    targets=my_series[3:],  # the targets are 3 steps into the future\n",
        "    sequence_length=3,\n",
        "    batch_size=2\n",
        ")\n",
        "list(my_dataset)"
      ],
      "metadata": {
        "colab": {
          "base_uri": "https://localhost:8080/"
        },
        "id": "i2OF5egHQdNs",
        "outputId": "33b2756e-bb3b-4dec-a6e8-44bd9e6ef595"
      },
      "execution_count": null,
      "outputs": [
        {
          "output_type": "execute_result",
          "data": {
            "text/plain": [
              "[(<tf.Tensor: shape=(2, 3), dtype=int32, numpy=\n",
              "  array([[0, 1, 2],\n",
              "         [1, 2, 3]], dtype=int32)>,\n",
              "  <tf.Tensor: shape=(2,), dtype=int32, numpy=array([3, 4], dtype=int32)>),\n",
              " (<tf.Tensor: shape=(1, 3), dtype=int32, numpy=array([[2, 3, 4]], dtype=int32)>,\n",
              "  <tf.Tensor: shape=(1,), dtype=int32, numpy=array([5], dtype=int32)>)]"
            ]
          },
          "metadata": {},
          "execution_count": 10
        }
      ]
    },
    {
      "cell_type": "markdown",
      "source": [
        "Another way to get the same result is to use the window() method of\n",
        "tf.data’s Dataset class. It’s more complex, but it gives you full control,"
      ],
      "metadata": {
        "id": "R45C3vp_Smtz"
      }
    },
    {
      "cell_type": "code",
      "source": [
        "for window_dataset in tf.data.Dataset.range(6).window(4, shift=1):\n",
        "    for element in window_dataset:\n",
        "        print(f\"{element}\", end=\" \")\n",
        "    print()"
      ],
      "metadata": {
        "colab": {
          "base_uri": "https://localhost:8080/"
        },
        "id": "uoyqAttCSNlx",
        "outputId": "65309dd7-4487-4c16-f494-ccda72564902"
      },
      "execution_count": null,
      "outputs": [
        {
          "output_type": "stream",
          "name": "stdout",
          "text": [
            "0 1 2 3 \n",
            "1 2 3 4 \n",
            "2 3 4 5 \n",
            "3 4 5 \n",
            "4 5 \n",
            "5 \n"
          ]
        }
      ]
    },
    {
      "cell_type": "code",
      "source": [
        "dataset = tf.data.Dataset.range(6).window(4, shift=1, drop_remainder=True)\n",
        "dataset = dataset.flat_map(lambda window_dataset: window_dataset.batch(4))\n",
        "for window_tensor in dataset:\n",
        "    print(f\"{window_tensor}\")"
      ],
      "metadata": {
        "colab": {
          "base_uri": "https://localhost:8080/"
        },
        "id": "xAAE3973SrRM",
        "outputId": "f586053d-4988-43d3-cd92-e9200d47a062"
      },
      "execution_count": null,
      "outputs": [
        {
          "output_type": "stream",
          "name": "stderr",
          "text": [
            "WARNING:tensorflow:From /usr/local/lib/python3.8/dist-packages/tensorflow/python/autograph/pyct/static_analysis/liveness.py:83: Analyzer.lamba_check (from tensorflow.python.autograph.pyct.static_analysis.liveness) is deprecated and will be removed after 2023-09-23.\n",
            "Instructions for updating:\n",
            "Lambda fuctions will be no more assumed to be used in the statement where they are used, or at least in the same block. https://github.com/tensorflow/tensorflow/issues/56089\n"
          ]
        },
        {
          "output_type": "stream",
          "name": "stdout",
          "text": [
            "[0 1 2 3]\n",
            "[1 2 3 4]\n",
            "[2 3 4 5]\n"
          ]
        }
      ]
    },
    {
      "cell_type": "code",
      "source": [
        "def to_windows(dataset, length):\n",
        "    dataset = dataset.window(length, shift=1, drop_remainder=True)\n",
        "    return dataset.flat_map(lambda window_ds: window_ds.batch(length))"
      ],
      "metadata": {
        "id": "2CENcKkHYRnu"
      },
      "execution_count": null,
      "outputs": []
    },
    {
      "cell_type": "code",
      "source": [
        "dataset = to_windows(tf.data.Dataset.range(6), 4)\n",
        "dataset = dataset.map(lambda window: (window[:-1], window[-1]))\n",
        "list(dataset.batch(2))"
      ],
      "metadata": {
        "colab": {
          "base_uri": "https://localhost:8080/"
        },
        "id": "BrJEbCZrYdQZ",
        "outputId": "2f60e302-41f1-420d-d57d-fe422e52c2d8"
      },
      "execution_count": null,
      "outputs": [
        {
          "output_type": "execute_result",
          "data": {
            "text/plain": [
              "[(<tf.Tensor: shape=(2, 3), dtype=int64, numpy=\n",
              "  array([[0, 1, 2],\n",
              "         [1, 2, 3]])>,\n",
              "  <tf.Tensor: shape=(2,), dtype=int64, numpy=array([3, 4])>),\n",
              " (<tf.Tensor: shape=(1, 3), dtype=int64, numpy=array([[2, 3, 4]])>,\n",
              "  <tf.Tensor: shape=(1,), dtype=int64, numpy=array([5])>)]"
            ]
          },
          "metadata": {},
          "execution_count": 30
        }
      ]
    },
    {
      "cell_type": "markdown",
      "source": [
        "Before we continue looking at the data, let's split the time series into three periods, for training, validation and testing. We won't look at the test data for now:"
      ],
      "metadata": {
        "id": "hfsukMdPY8v9"
      }
    },
    {
      "cell_type": "code",
      "source": [
        "rail_train = df[\"rail\"][\"2016-01\":\"2018-12\"] / 1e6\n",
        "rail_valid = df[\"rail\"][\"2019-01\":\"2019-05\"] / 1e6\n",
        "rail_test = df[\"rail\"][\"2019-06\":] / 1e6"
      ],
      "metadata": {
        "id": "Jhei99iIYk7u"
      },
      "execution_count": null,
      "outputs": []
    },
    {
      "cell_type": "code",
      "source": [
        "seq_length = 56\n",
        "tf.random.set_seed(42)  # extra code – ensures reproducibility\n",
        "train_ds = tf.keras.utils.timeseries_dataset_from_array(\n",
        "    rail_train.to_numpy(),\n",
        "    targets=rail_train[seq_length:],\n",
        "    sequence_length=seq_length,\n",
        "    batch_size=32,\n",
        "    shuffle=True,\n",
        "    seed=42\n",
        ")\n",
        "valid_ds = tf.keras.utils.timeseries_dataset_from_array(\n",
        "    rail_valid.to_numpy(),\n",
        "    targets=rail_valid[seq_length:],\n",
        "    sequence_length=seq_length,\n",
        "    batch_size=32\n",
        ")"
      ],
      "metadata": {
        "id": "jGf7efUHY-OT"
      },
      "execution_count": null,
      "outputs": []
    },
    {
      "cell_type": "markdown",
      "source": [
        "## Forecasting Using a Linear Model\n",
        "\n",
        "now we’re ready to build and train any regression model we want!"
      ],
      "metadata": {
        "id": "lgrqKrU4ZbO2"
      }
    },
    {
      "cell_type": "code",
      "source": [
        "tf.random.set_seed(42)\n",
        "model = tf.keras.Sequential([\n",
        "    tf.keras.layers.Dense(1, input_shape=[seq_length])\n",
        "])\n",
        "early_stopping_cb = tf.keras.callbacks.EarlyStopping(\n",
        "    monitor=\"val_mae\", patience=50, restore_best_weights=True)\n",
        "opt = tf.keras.optimizers.SGD(learning_rate=0.02, momentum=0.9)\n",
        "model.compile(loss=tf.keras.losses.Huber(), optimizer=opt, metrics=[\"mae\"])\n",
        "history = model.fit(train_ds, validation_data=valid_ds, epochs=500,\n",
        "                    callbacks=[early_stopping_cb])"
      ],
      "metadata": {
        "colab": {
          "base_uri": "https://localhost:8080/"
        },
        "id": "DHMKyipIZX1T",
        "outputId": "afa85b20-2fdf-49f3-a5c4-212cef311147"
      },
      "execution_count": null,
      "outputs": [
        {
          "output_type": "stream",
          "name": "stdout",
          "text": [
            "Epoch 1/500\n",
            "33/33 [==============================] - 7s 18ms/step - loss: 0.0470 - mae: 0.2409 - val_loss: 0.0087 - val_mae: 0.1013\n",
            "Epoch 2/500\n",
            "33/33 [==============================] - 0s 10ms/step - loss: 0.0104 - mae: 0.1045 - val_loss: 0.0072 - val_mae: 0.0928\n",
            "Epoch 3/500\n",
            "33/33 [==============================] - 0s 11ms/step - loss: 0.0082 - mae: 0.0928 - val_loss: 0.0049 - val_mae: 0.0709\n",
            "Epoch 4/500\n",
            "33/33 [==============================] - 0s 10ms/step - loss: 0.0072 - mae: 0.0833 - val_loss: 0.0046 - val_mae: 0.0689\n",
            "Epoch 5/500\n",
            "33/33 [==============================] - 0s 9ms/step - loss: 0.0068 - mae: 0.0819 - val_loss: 0.0045 - val_mae: 0.0704\n",
            "Epoch 6/500\n",
            "33/33 [==============================] - 1s 14ms/step - loss: 0.0063 - mae: 0.0767 - val_loss: 0.0041 - val_mae: 0.0649\n",
            "Epoch 7/500\n",
            "33/33 [==============================] - 0s 10ms/step - loss: 0.0059 - mae: 0.0756 - val_loss: 0.0040 - val_mae: 0.0649\n",
            "Epoch 8/500\n",
            "33/33 [==============================] - 0s 10ms/step - loss: 0.0056 - mae: 0.0727 - val_loss: 0.0034 - val_mae: 0.0557\n",
            "Epoch 9/500\n",
            "33/33 [==============================] - 0s 10ms/step - loss: 0.0051 - mae: 0.0678 - val_loss: 0.0036 - val_mae: 0.0611\n",
            "Epoch 10/500\n",
            "33/33 [==============================] - 0s 11ms/step - loss: 0.0049 - mae: 0.0654 - val_loss: 0.0034 - val_mae: 0.0589\n",
            "Epoch 11/500\n",
            "33/33 [==============================] - 0s 10ms/step - loss: 0.0052 - mae: 0.0728 - val_loss: 0.0050 - val_mae: 0.0762\n",
            "Epoch 12/500\n",
            "33/33 [==============================] - 0s 10ms/step - loss: 0.0049 - mae: 0.0680 - val_loss: 0.0030 - val_mae: 0.0517\n",
            "Epoch 13/500\n",
            "33/33 [==============================] - 0s 10ms/step - loss: 0.0045 - mae: 0.0631 - val_loss: 0.0040 - val_mae: 0.0685\n",
            "Epoch 14/500\n",
            "33/33 [==============================] - 1s 18ms/step - loss: 0.0044 - mae: 0.0633 - val_loss: 0.0032 - val_mae: 0.0534\n",
            "Epoch 15/500\n",
            "33/33 [==============================] - 0s 11ms/step - loss: 0.0051 - mae: 0.0711 - val_loss: 0.0044 - val_mae: 0.0706\n",
            "Epoch 16/500\n",
            "33/33 [==============================] - 0s 12ms/step - loss: 0.0048 - mae: 0.0680 - val_loss: 0.0028 - val_mae: 0.0472\n",
            "Epoch 17/500\n",
            "33/33 [==============================] - 0s 11ms/step - loss: 0.0047 - mae: 0.0675 - val_loss: 0.0034 - val_mae: 0.0560\n",
            "Epoch 18/500\n",
            "33/33 [==============================] - 0s 7ms/step - loss: 0.0048 - mae: 0.0670 - val_loss: 0.0040 - val_mae: 0.0652\n",
            "Epoch 19/500\n",
            "33/33 [==============================] - 0s 7ms/step - loss: 0.0040 - mae: 0.0596 - val_loss: 0.0026 - val_mae: 0.0453\n",
            "Epoch 20/500\n",
            "33/33 [==============================] - 0s 7ms/step - loss: 0.0037 - mae: 0.0566 - val_loss: 0.0028 - val_mae: 0.0467\n",
            "Epoch 21/500\n",
            "33/33 [==============================] - 0s 6ms/step - loss: 0.0040 - mae: 0.0613 - val_loss: 0.0026 - val_mae: 0.0441\n",
            "Epoch 22/500\n",
            "33/33 [==============================] - 0s 6ms/step - loss: 0.0039 - mae: 0.0596 - val_loss: 0.0028 - val_mae: 0.0469\n",
            "Epoch 23/500\n",
            "33/33 [==============================] - 0s 7ms/step - loss: 0.0036 - mae: 0.0557 - val_loss: 0.0025 - val_mae: 0.0440\n",
            "Epoch 24/500\n",
            "33/33 [==============================] - 0s 7ms/step - loss: 0.0035 - mae: 0.0541 - val_loss: 0.0025 - val_mae: 0.0442\n",
            "Epoch 25/500\n",
            "33/33 [==============================] - 0s 7ms/step - loss: 0.0034 - mae: 0.0533 - val_loss: 0.0025 - val_mae: 0.0433\n",
            "Epoch 26/500\n",
            "33/33 [==============================] - 0s 6ms/step - loss: 0.0037 - mae: 0.0570 - val_loss: 0.0029 - val_mae: 0.0484\n",
            "Epoch 27/500\n",
            "33/33 [==============================] - 0s 6ms/step - loss: 0.0037 - mae: 0.0583 - val_loss: 0.0031 - val_mae: 0.0530\n",
            "Epoch 28/500\n",
            "33/33 [==============================] - 0s 6ms/step - loss: 0.0034 - mae: 0.0554 - val_loss: 0.0031 - val_mae: 0.0566\n",
            "Epoch 29/500\n",
            "33/33 [==============================] - 0s 6ms/step - loss: 0.0034 - mae: 0.0547 - val_loss: 0.0029 - val_mae: 0.0485\n",
            "Epoch 30/500\n",
            "33/33 [==============================] - 0s 6ms/step - loss: 0.0035 - mae: 0.0556 - val_loss: 0.0029 - val_mae: 0.0490\n",
            "Epoch 31/500\n",
            "33/33 [==============================] - 0s 6ms/step - loss: 0.0034 - mae: 0.0529 - val_loss: 0.0024 - val_mae: 0.0413\n",
            "Epoch 32/500\n",
            "33/33 [==============================] - 0s 6ms/step - loss: 0.0032 - mae: 0.0518 - val_loss: 0.0025 - val_mae: 0.0432\n",
            "Epoch 33/500\n",
            "33/33 [==============================] - 0s 6ms/step - loss: 0.0032 - mae: 0.0515 - val_loss: 0.0029 - val_mae: 0.0531\n",
            "Epoch 34/500\n",
            "33/33 [==============================] - 0s 7ms/step - loss: 0.0034 - mae: 0.0553 - val_loss: 0.0025 - val_mae: 0.0440\n",
            "Epoch 35/500\n",
            "33/33 [==============================] - 0s 7ms/step - loss: 0.0031 - mae: 0.0501 - val_loss: 0.0024 - val_mae: 0.0434\n",
            "Epoch 36/500\n",
            "33/33 [==============================] - 0s 7ms/step - loss: 0.0032 - mae: 0.0512 - val_loss: 0.0031 - val_mae: 0.0535\n",
            "Epoch 37/500\n",
            "33/33 [==============================] - 0s 7ms/step - loss: 0.0034 - mae: 0.0547 - val_loss: 0.0024 - val_mae: 0.0432\n",
            "Epoch 38/500\n",
            "33/33 [==============================] - 0s 6ms/step - loss: 0.0030 - mae: 0.0493 - val_loss: 0.0023 - val_mae: 0.0401\n",
            "Epoch 39/500\n",
            "33/33 [==============================] - 0s 6ms/step - loss: 0.0031 - mae: 0.0502 - val_loss: 0.0024 - val_mae: 0.0416\n",
            "Epoch 40/500\n",
            "33/33 [==============================] - 0s 7ms/step - loss: 0.0030 - mae: 0.0496 - val_loss: 0.0024 - val_mae: 0.0414\n",
            "Epoch 41/500\n",
            "33/33 [==============================] - 0s 7ms/step - loss: 0.0031 - mae: 0.0504 - val_loss: 0.0024 - val_mae: 0.0418\n",
            "Epoch 42/500\n",
            "33/33 [==============================] - 0s 7ms/step - loss: 0.0030 - mae: 0.0489 - val_loss: 0.0025 - val_mae: 0.0429\n",
            "Epoch 43/500\n",
            "33/33 [==============================] - 0s 7ms/step - loss: 0.0034 - mae: 0.0562 - val_loss: 0.0042 - val_mae: 0.0701\n",
            "Epoch 44/500\n",
            "33/33 [==============================] - 0s 6ms/step - loss: 0.0032 - mae: 0.0524 - val_loss: 0.0024 - val_mae: 0.0419\n",
            "Epoch 45/500\n",
            "33/33 [==============================] - 0s 7ms/step - loss: 0.0030 - mae: 0.0495 - val_loss: 0.0026 - val_mae: 0.0445\n",
            "Epoch 46/500\n",
            "33/33 [==============================] - 0s 6ms/step - loss: 0.0032 - mae: 0.0547 - val_loss: 0.0024 - val_mae: 0.0424\n",
            "Epoch 47/500\n",
            "33/33 [==============================] - 0s 6ms/step - loss: 0.0028 - mae: 0.0468 - val_loss: 0.0024 - val_mae: 0.0406\n",
            "Epoch 48/500\n",
            "33/33 [==============================] - 0s 7ms/step - loss: 0.0029 - mae: 0.0489 - val_loss: 0.0023 - val_mae: 0.0389\n",
            "Epoch 49/500\n",
            "33/33 [==============================] - 0s 6ms/step - loss: 0.0029 - mae: 0.0476 - val_loss: 0.0023 - val_mae: 0.0395\n",
            "Epoch 50/500\n",
            "33/33 [==============================] - 0s 6ms/step - loss: 0.0030 - mae: 0.0485 - val_loss: 0.0024 - val_mae: 0.0395\n",
            "Epoch 51/500\n",
            "33/33 [==============================] - 0s 6ms/step - loss: 0.0029 - mae: 0.0480 - val_loss: 0.0022 - val_mae: 0.0389\n",
            "Epoch 52/500\n",
            "33/33 [==============================] - 0s 8ms/step - loss: 0.0028 - mae: 0.0461 - val_loss: 0.0023 - val_mae: 0.0389\n",
            "Epoch 53/500\n",
            "33/33 [==============================] - 0s 10ms/step - loss: 0.0030 - mae: 0.0502 - val_loss: 0.0023 - val_mae: 0.0385\n",
            "Epoch 54/500\n",
            "33/33 [==============================] - 0s 10ms/step - loss: 0.0027 - mae: 0.0454 - val_loss: 0.0023 - val_mae: 0.0399\n",
            "Epoch 55/500\n",
            "33/33 [==============================] - 0s 11ms/step - loss: 0.0031 - mae: 0.0507 - val_loss: 0.0031 - val_mae: 0.0534\n",
            "Epoch 56/500\n",
            "33/33 [==============================] - 0s 11ms/step - loss: 0.0031 - mae: 0.0510 - val_loss: 0.0023 - val_mae: 0.0421\n",
            "Epoch 57/500\n",
            "33/33 [==============================] - 0s 8ms/step - loss: 0.0029 - mae: 0.0480 - val_loss: 0.0022 - val_mae: 0.0392\n",
            "Epoch 58/500\n",
            "33/33 [==============================] - 0s 7ms/step - loss: 0.0029 - mae: 0.0480 - val_loss: 0.0023 - val_mae: 0.0404\n",
            "Epoch 59/500\n",
            "33/33 [==============================] - 0s 8ms/step - loss: 0.0027 - mae: 0.0456 - val_loss: 0.0027 - val_mae: 0.0463\n",
            "Epoch 60/500\n",
            "33/33 [==============================] - 0s 7ms/step - loss: 0.0028 - mae: 0.0474 - val_loss: 0.0028 - val_mae: 0.0485\n",
            "Epoch 61/500\n",
            "33/33 [==============================] - 0s 6ms/step - loss: 0.0029 - mae: 0.0482 - val_loss: 0.0023 - val_mae: 0.0402\n",
            "Epoch 62/500\n",
            "33/33 [==============================] - 0s 6ms/step - loss: 0.0028 - mae: 0.0465 - val_loss: 0.0023 - val_mae: 0.0382\n",
            "Epoch 63/500\n",
            "33/33 [==============================] - 0s 7ms/step - loss: 0.0027 - mae: 0.0451 - val_loss: 0.0023 - val_mae: 0.0382\n",
            "Epoch 64/500\n",
            "33/33 [==============================] - 0s 7ms/step - loss: 0.0027 - mae: 0.0445 - val_loss: 0.0025 - val_mae: 0.0410\n",
            "Epoch 65/500\n",
            "33/33 [==============================] - 0s 6ms/step - loss: 0.0032 - mae: 0.0543 - val_loss: 0.0023 - val_mae: 0.0388\n",
            "Epoch 66/500\n",
            "33/33 [==============================] - 0s 6ms/step - loss: 0.0028 - mae: 0.0457 - val_loss: 0.0023 - val_mae: 0.0418\n",
            "Epoch 67/500\n",
            "33/33 [==============================] - 0s 6ms/step - loss: 0.0028 - mae: 0.0469 - val_loss: 0.0023 - val_mae: 0.0380\n",
            "Epoch 68/500\n",
            "33/33 [==============================] - 0s 7ms/step - loss: 0.0027 - mae: 0.0443 - val_loss: 0.0024 - val_mae: 0.0392\n",
            "Epoch 69/500\n",
            "33/33 [==============================] - 0s 6ms/step - loss: 0.0027 - mae: 0.0460 - val_loss: 0.0036 - val_mae: 0.0617\n",
            "Epoch 70/500\n",
            "33/33 [==============================] - 0s 7ms/step - loss: 0.0031 - mae: 0.0544 - val_loss: 0.0023 - val_mae: 0.0416\n",
            "Epoch 71/500\n",
            "33/33 [==============================] - 0s 7ms/step - loss: 0.0028 - mae: 0.0472 - val_loss: 0.0031 - val_mae: 0.0529\n",
            "Epoch 72/500\n",
            "33/33 [==============================] - 0s 6ms/step - loss: 0.0030 - mae: 0.0506 - val_loss: 0.0023 - val_mae: 0.0379\n",
            "Epoch 73/500\n",
            "33/33 [==============================] - 0s 6ms/step - loss: 0.0027 - mae: 0.0452 - val_loss: 0.0022 - val_mae: 0.0385\n",
            "Epoch 74/500\n",
            "33/33 [==============================] - 0s 6ms/step - loss: 0.0027 - mae: 0.0453 - val_loss: 0.0023 - val_mae: 0.0401\n",
            "Epoch 75/500\n",
            "33/33 [==============================] - 0s 7ms/step - loss: 0.0026 - mae: 0.0452 - val_loss: 0.0023 - val_mae: 0.0382\n",
            "Epoch 76/500\n",
            "33/33 [==============================] - 0s 7ms/step - loss: 0.0027 - mae: 0.0447 - val_loss: 0.0022 - val_mae: 0.0377\n",
            "Epoch 77/500\n",
            "33/33 [==============================] - 0s 6ms/step - loss: 0.0028 - mae: 0.0481 - val_loss: 0.0030 - val_mae: 0.0499\n",
            "Epoch 78/500\n",
            "33/33 [==============================] - 0s 6ms/step - loss: 0.0029 - mae: 0.0481 - val_loss: 0.0022 - val_mae: 0.0376\n",
            "Epoch 79/500\n",
            "33/33 [==============================] - 0s 7ms/step - loss: 0.0028 - mae: 0.0478 - val_loss: 0.0023 - val_mae: 0.0415\n",
            "Epoch 80/500\n",
            "33/33 [==============================] - 0s 7ms/step - loss: 0.0027 - mae: 0.0463 - val_loss: 0.0024 - val_mae: 0.0446\n",
            "Epoch 81/500\n",
            "33/33 [==============================] - 0s 6ms/step - loss: 0.0026 - mae: 0.0450 - val_loss: 0.0023 - val_mae: 0.0376\n",
            "Epoch 82/500\n",
            "33/33 [==============================] - 0s 6ms/step - loss: 0.0027 - mae: 0.0461 - val_loss: 0.0024 - val_mae: 0.0445\n",
            "Epoch 83/500\n",
            "33/33 [==============================] - 0s 6ms/step - loss: 0.0026 - mae: 0.0438 - val_loss: 0.0023 - val_mae: 0.0377\n",
            "Epoch 84/500\n",
            "33/33 [==============================] - 0s 6ms/step - loss: 0.0026 - mae: 0.0450 - val_loss: 0.0022 - val_mae: 0.0381\n",
            "Epoch 85/500\n",
            "33/33 [==============================] - 0s 7ms/step - loss: 0.0026 - mae: 0.0441 - val_loss: 0.0024 - val_mae: 0.0387\n",
            "Epoch 86/500\n",
            "33/33 [==============================] - 0s 6ms/step - loss: 0.0027 - mae: 0.0448 - val_loss: 0.0023 - val_mae: 0.0383\n",
            "Epoch 87/500\n",
            "33/33 [==============================] - 0s 6ms/step - loss: 0.0028 - mae: 0.0495 - val_loss: 0.0034 - val_mae: 0.0578\n",
            "Epoch 88/500\n",
            "33/33 [==============================] - 0s 7ms/step - loss: 0.0033 - mae: 0.0553 - val_loss: 0.0024 - val_mae: 0.0433\n",
            "Epoch 89/500\n",
            "33/33 [==============================] - 0s 6ms/step - loss: 0.0027 - mae: 0.0440 - val_loss: 0.0023 - val_mae: 0.0380\n",
            "Epoch 90/500\n",
            "33/33 [==============================] - 0s 7ms/step - loss: 0.0028 - mae: 0.0482 - val_loss: 0.0030 - val_mae: 0.0513\n",
            "Epoch 91/500\n",
            "33/33 [==============================] - 0s 7ms/step - loss: 0.0028 - mae: 0.0492 - val_loss: 0.0022 - val_mae: 0.0380\n",
            "Epoch 92/500\n",
            "33/33 [==============================] - 0s 6ms/step - loss: 0.0027 - mae: 0.0456 - val_loss: 0.0023 - val_mae: 0.0378\n",
            "Epoch 93/500\n",
            "33/33 [==============================] - 0s 12ms/step - loss: 0.0027 - mae: 0.0454 - val_loss: 0.0029 - val_mae: 0.0484\n",
            "Epoch 94/500\n",
            "33/33 [==============================] - 0s 11ms/step - loss: 0.0031 - mae: 0.0524 - val_loss: 0.0028 - val_mae: 0.0463\n",
            "Epoch 95/500\n",
            "33/33 [==============================] - 0s 11ms/step - loss: 0.0028 - mae: 0.0467 - val_loss: 0.0026 - val_mae: 0.0480\n",
            "Epoch 96/500\n",
            "33/33 [==============================] - 0s 11ms/step - loss: 0.0027 - mae: 0.0453 - val_loss: 0.0023 - val_mae: 0.0393\n",
            "Epoch 97/500\n",
            "33/33 [==============================] - 0s 12ms/step - loss: 0.0026 - mae: 0.0447 - val_loss: 0.0023 - val_mae: 0.0380\n",
            "Epoch 98/500\n",
            "33/33 [==============================] - 0s 7ms/step - loss: 0.0026 - mae: 0.0428 - val_loss: 0.0023 - val_mae: 0.0410\n",
            "Epoch 99/500\n",
            "33/33 [==============================] - 0s 7ms/step - loss: 0.0026 - mae: 0.0446 - val_loss: 0.0023 - val_mae: 0.0395\n",
            "Epoch 100/500\n",
            "33/33 [==============================] - 0s 7ms/step - loss: 0.0026 - mae: 0.0438 - val_loss: 0.0022 - val_mae: 0.0377\n",
            "Epoch 101/500\n",
            "33/33 [==============================] - 0s 7ms/step - loss: 0.0026 - mae: 0.0430 - val_loss: 0.0025 - val_mae: 0.0400\n",
            "Epoch 102/500\n",
            "33/33 [==============================] - 0s 6ms/step - loss: 0.0029 - mae: 0.0480 - val_loss: 0.0024 - val_mae: 0.0395\n",
            "Epoch 103/500\n",
            "33/33 [==============================] - 0s 7ms/step - loss: 0.0027 - mae: 0.0446 - val_loss: 0.0024 - val_mae: 0.0388\n",
            "Epoch 104/500\n",
            "33/33 [==============================] - 0s 7ms/step - loss: 0.0028 - mae: 0.0474 - val_loss: 0.0024 - val_mae: 0.0386\n",
            "Epoch 105/500\n",
            "33/33 [==============================] - 0s 7ms/step - loss: 0.0027 - mae: 0.0485 - val_loss: 0.0025 - val_mae: 0.0407\n",
            "Epoch 106/500\n",
            "33/33 [==============================] - 0s 7ms/step - loss: 0.0026 - mae: 0.0433 - val_loss: 0.0024 - val_mae: 0.0383\n",
            "Epoch 107/500\n",
            "33/33 [==============================] - 0s 7ms/step - loss: 0.0027 - mae: 0.0471 - val_loss: 0.0024 - val_mae: 0.0393\n",
            "Epoch 108/500\n",
            "33/33 [==============================] - 0s 7ms/step - loss: 0.0026 - mae: 0.0440 - val_loss: 0.0023 - val_mae: 0.0393\n",
            "Epoch 109/500\n",
            "33/33 [==============================] - 0s 6ms/step - loss: 0.0027 - mae: 0.0442 - val_loss: 0.0024 - val_mae: 0.0387\n",
            "Epoch 110/500\n",
            "33/33 [==============================] - 0s 6ms/step - loss: 0.0025 - mae: 0.0437 - val_loss: 0.0023 - val_mae: 0.0378\n",
            "Epoch 111/500\n",
            "33/33 [==============================] - 0s 7ms/step - loss: 0.0027 - mae: 0.0463 - val_loss: 0.0024 - val_mae: 0.0392\n",
            "Epoch 112/500\n",
            "33/33 [==============================] - 0s 7ms/step - loss: 0.0027 - mae: 0.0458 - val_loss: 0.0025 - val_mae: 0.0411\n",
            "Epoch 113/500\n",
            "33/33 [==============================] - 0s 8ms/step - loss: 0.0027 - mae: 0.0453 - val_loss: 0.0024 - val_mae: 0.0427\n",
            "Epoch 114/500\n",
            "33/33 [==============================] - 0s 7ms/step - loss: 0.0029 - mae: 0.0477 - val_loss: 0.0023 - val_mae: 0.0379\n",
            "Epoch 115/500\n",
            "33/33 [==============================] - 0s 7ms/step - loss: 0.0031 - mae: 0.0522 - val_loss: 0.0023 - val_mae: 0.0381\n",
            "Epoch 116/500\n",
            "33/33 [==============================] - 0s 7ms/step - loss: 0.0026 - mae: 0.0435 - val_loss: 0.0023 - val_mae: 0.0379\n",
            "Epoch 117/500\n",
            "33/33 [==============================] - 0s 7ms/step - loss: 0.0028 - mae: 0.0468 - val_loss: 0.0025 - val_mae: 0.0463\n",
            "Epoch 118/500\n",
            "33/33 [==============================] - 0s 7ms/step - loss: 0.0026 - mae: 0.0446 - val_loss: 0.0026 - val_mae: 0.0428\n",
            "Epoch 119/500\n",
            "33/33 [==============================] - 0s 7ms/step - loss: 0.0031 - mae: 0.0522 - val_loss: 0.0024 - val_mae: 0.0441\n",
            "Epoch 120/500\n",
            "33/33 [==============================] - 0s 7ms/step - loss: 0.0026 - mae: 0.0453 - val_loss: 0.0023 - val_mae: 0.0380\n",
            "Epoch 121/500\n",
            "33/33 [==============================] - 0s 7ms/step - loss: 0.0026 - mae: 0.0441 - val_loss: 0.0024 - val_mae: 0.0445\n",
            "Epoch 122/500\n",
            "33/33 [==============================] - 0s 6ms/step - loss: 0.0027 - mae: 0.0459 - val_loss: 0.0028 - val_mae: 0.0469\n",
            "Epoch 123/500\n",
            "33/33 [==============================] - 0s 6ms/step - loss: 0.0028 - mae: 0.0459 - val_loss: 0.0022 - val_mae: 0.0384\n",
            "Epoch 124/500\n",
            "33/33 [==============================] - 0s 7ms/step - loss: 0.0026 - mae: 0.0438 - val_loss: 0.0030 - val_mae: 0.0498\n",
            "Epoch 125/500\n",
            "33/33 [==============================] - 0s 6ms/step - loss: 0.0028 - mae: 0.0500 - val_loss: 0.0024 - val_mae: 0.0428\n",
            "Epoch 126/500\n",
            "33/33 [==============================] - 0s 6ms/step - loss: 0.0032 - mae: 0.0551 - val_loss: 0.0031 - val_mae: 0.0521\n",
            "Epoch 127/500\n",
            "33/33 [==============================] - 0s 7ms/step - loss: 0.0027 - mae: 0.0466 - val_loss: 0.0030 - val_mae: 0.0502\n",
            "Epoch 128/500\n",
            "33/33 [==============================] - 0s 7ms/step - loss: 0.0029 - mae: 0.0496 - val_loss: 0.0023 - val_mae: 0.0419\n"
          ]
        }
      ]
    },
    {
      "cell_type": "markdown",
      "source": [
        "This model reaches a validation MAE of about 37,866 (your mileage may\n",
        "vary). That’s better than naive forecasting, but worse than the SARIMA\n",
        "model"
      ],
      "metadata": {
        "id": "B3JzsxsMZ0TT"
      }
    },
    {
      "cell_type": "code",
      "source": [
        "#evaluates the model\n",
        "valid_loss, valid_mae = model.evaluate(valid_ds)\n",
        "valid_mae * 1e6"
      ],
      "metadata": {
        "colab": {
          "base_uri": "https://localhost:8080/"
        },
        "id": "hfW_ICx9Z-NY",
        "outputId": "502ff499-d4d4-4923-c26d-585b5b410959"
      },
      "execution_count": null,
      "outputs": [
        {
          "output_type": "stream",
          "name": "stdout",
          "text": [
            "3/3 [==============================] - 0s 12ms/step - loss: 0.0022 - mae: 0.0376\n"
          ]
        },
        {
          "output_type": "execute_result",
          "data": {
            "text/plain": [
              "37612.52388358116"
            ]
          },
          "metadata": {},
          "execution_count": 34
        }
      ]
    },
    {
      "cell_type": "markdown",
      "source": [
        "## Forecasting Using a Simple RNN"
      ],
      "metadata": {
        "id": "41pUK2DzZ5Ir"
      }
    },
    {
      "cell_type": "code",
      "source": [
        "tf.random.set_seed(42)  # extra code – ensures reproducibility\n",
        "model = tf.keras.Sequential([\n",
        "    tf.keras.layers.SimpleRNN(1, input_shape=[None, 1])\n",
        "])"
      ],
      "metadata": {
        "id": "xUKzZYrrZoIZ"
      },
      "execution_count": null,
      "outputs": []
    },
    {
      "cell_type": "code",
      "source": [
        "# defines a utility function we'll reuse several time\n",
        "\n",
        "def fit_and_evaluate(model, train_set, valid_set, learning_rate, epochs=500):\n",
        "    early_stopping_cb = tf.keras.callbacks.EarlyStopping(\n",
        "        monitor=\"val_mae\", patience=50, restore_best_weights=True)\n",
        "    opt = tf.keras.optimizers.SGD(learning_rate=learning_rate, momentum=0.9)\n",
        "    model.compile(loss=tf.keras.losses.Huber(), optimizer=opt, metrics=[\"mae\"])\n",
        "    history = model.fit(train_set, validation_data=valid_set, epochs=epochs,\n",
        "                        callbacks=[early_stopping_cb])\n",
        "    valid_loss, valid_mae = model.evaluate(valid_set)\n",
        "    return valid_mae * 1e6"
      ],
      "metadata": {
        "id": "WMslrJCiaEsf"
      },
      "execution_count": null,
      "outputs": []
    },
    {
      "cell_type": "code",
      "source": [
        "fit_and_evaluate(model, train_ds, valid_ds, learning_rate=0.02)"
      ],
      "metadata": {
        "colab": {
          "base_uri": "https://localhost:8080/"
        },
        "id": "dw2QVYE6bb_R",
        "outputId": "952dfa95-7d87-4485-b333-1a42d21ee76e"
      },
      "execution_count": null,
      "outputs": [
        {
          "output_type": "stream",
          "name": "stdout",
          "text": [
            "Epoch 1/500\n",
            "33/33 [==============================] - 5s 106ms/step - loss: 0.0280 - mae: 0.1851 - val_loss: 0.0197 - val_mae: 0.1558\n",
            "Epoch 2/500\n",
            "33/33 [==============================] - 1s 36ms/step - loss: 0.0177 - mae: 0.1513 - val_loss: 0.0190 - val_mae: 0.1540\n",
            "Epoch 3/500\n",
            "33/33 [==============================] - 1s 37ms/step - loss: 0.0172 - mae: 0.1540 - val_loss: 0.0186 - val_mae: 0.1493\n",
            "Epoch 4/500\n",
            "33/33 [==============================] - 1s 36ms/step - loss: 0.0170 - mae: 0.1534 - val_loss: 0.0181 - val_mae: 0.1494\n",
            "Epoch 5/500\n",
            "33/33 [==============================] - 1s 36ms/step - loss: 0.0166 - mae: 0.1545 - val_loss: 0.0177 - val_mae: 0.1496\n",
            "Epoch 6/500\n",
            "33/33 [==============================] - 1s 37ms/step - loss: 0.0163 - mae: 0.1534 - val_loss: 0.0178 - val_mae: 0.1426\n",
            "Epoch 7/500\n",
            "33/33 [==============================] - 1s 37ms/step - loss: 0.0164 - mae: 0.1535 - val_loss: 0.0173 - val_mae: 0.1460\n",
            "Epoch 8/500\n",
            "33/33 [==============================] - 1s 43ms/step - loss: 0.0162 - mae: 0.1543 - val_loss: 0.0170 - val_mae: 0.1464\n",
            "Epoch 9/500\n",
            "33/33 [==============================] - 2s 63ms/step - loss: 0.0159 - mae: 0.1545 - val_loss: 0.0170 - val_mae: 0.1435\n",
            "Epoch 10/500\n",
            "33/33 [==============================] - 2s 43ms/step - loss: 0.0158 - mae: 0.1542 - val_loss: 0.0170 - val_mae: 0.1401\n",
            "Epoch 11/500\n",
            "33/33 [==============================] - 1s 38ms/step - loss: 0.0158 - mae: 0.1541 - val_loss: 0.0165 - val_mae: 0.1450\n",
            "Epoch 12/500\n",
            "33/33 [==============================] - 1s 37ms/step - loss: 0.0156 - mae: 0.1534 - val_loss: 0.0164 - val_mae: 0.1459\n",
            "Epoch 13/500\n",
            "33/33 [==============================] - 1s 36ms/step - loss: 0.0156 - mae: 0.1545 - val_loss: 0.0163 - val_mae: 0.1434\n",
            "Epoch 14/500\n",
            "33/33 [==============================] - 1s 37ms/step - loss: 0.0155 - mae: 0.1537 - val_loss: 0.0165 - val_mae: 0.1395\n",
            "Epoch 15/500\n",
            "33/33 [==============================] - 1s 36ms/step - loss: 0.0155 - mae: 0.1529 - val_loss: 0.0162 - val_mae: 0.1427\n",
            "Epoch 16/500\n",
            "33/33 [==============================] - 1s 37ms/step - loss: 0.0155 - mae: 0.1540 - val_loss: 0.0164 - val_mae: 0.1385\n",
            "Epoch 17/500\n",
            "33/33 [==============================] - 2s 56ms/step - loss: 0.0154 - mae: 0.1534 - val_loss: 0.0159 - val_mae: 0.1436\n",
            "Epoch 18/500\n",
            "33/33 [==============================] - 1s 41ms/step - loss: 0.0153 - mae: 0.1524 - val_loss: 0.0159 - val_mae: 0.1422\n",
            "Epoch 19/500\n",
            "33/33 [==============================] - 1s 38ms/step - loss: 0.0153 - mae: 0.1534 - val_loss: 0.0161 - val_mae: 0.1381\n",
            "Epoch 20/500\n",
            "33/33 [==============================] - 1s 36ms/step - loss: 0.0153 - mae: 0.1532 - val_loss: 0.0160 - val_mae: 0.1384\n",
            "Epoch 21/500\n",
            "33/33 [==============================] - 1s 37ms/step - loss: 0.0152 - mae: 0.1523 - val_loss: 0.0156 - val_mae: 0.1432\n",
            "Epoch 22/500\n",
            "33/33 [==============================] - 1s 35ms/step - loss: 0.0151 - mae: 0.1532 - val_loss: 0.0157 - val_mae: 0.1399\n",
            "Epoch 23/500\n",
            "33/33 [==============================] - 1s 36ms/step - loss: 0.0151 - mae: 0.1522 - val_loss: 0.0156 - val_mae: 0.1409\n",
            "Epoch 24/500\n",
            "33/33 [==============================] - 1s 36ms/step - loss: 0.0150 - mae: 0.1537 - val_loss: 0.0157 - val_mae: 0.1385\n",
            "Epoch 25/500\n",
            "33/33 [==============================] - 2s 58ms/step - loss: 0.0151 - mae: 0.1527 - val_loss: 0.0156 - val_mae: 0.1392\n",
            "Epoch 26/500\n",
            "33/33 [==============================] - 1s 42ms/step - loss: 0.0150 - mae: 0.1510 - val_loss: 0.0153 - val_mae: 0.1422\n",
            "Epoch 27/500\n",
            "33/33 [==============================] - 1s 37ms/step - loss: 0.0150 - mae: 0.1522 - val_loss: 0.0153 - val_mae: 0.1422\n",
            "Epoch 28/500\n",
            "33/33 [==============================] - 1s 37ms/step - loss: 0.0149 - mae: 0.1530 - val_loss: 0.0154 - val_mae: 0.1391\n",
            "Epoch 29/500\n",
            "33/33 [==============================] - 1s 36ms/step - loss: 0.0149 - mae: 0.1516 - val_loss: 0.0154 - val_mae: 0.1371\n",
            "Epoch 30/500\n",
            "33/33 [==============================] - 1s 36ms/step - loss: 0.0148 - mae: 0.1522 - val_loss: 0.0153 - val_mae: 0.1379\n",
            "Epoch 31/500\n",
            "33/33 [==============================] - 1s 36ms/step - loss: 0.0148 - mae: 0.1504 - val_loss: 0.0150 - val_mae: 0.1422\n",
            "Epoch 32/500\n",
            "33/33 [==============================] - 2s 57ms/step - loss: 0.0148 - mae: 0.1504 - val_loss: 0.0152 - val_mae: 0.1375\n",
            "Epoch 33/500\n",
            "33/33 [==============================] - 2s 56ms/step - loss: 0.0147 - mae: 0.1516 - val_loss: 0.0151 - val_mae: 0.1385\n",
            "Epoch 34/500\n",
            "33/33 [==============================] - 1s 38ms/step - loss: 0.0147 - mae: 0.1518 - val_loss: 0.0151 - val_mae: 0.1380\n",
            "Epoch 35/500\n",
            "33/33 [==============================] - 1s 36ms/step - loss: 0.0146 - mae: 0.1495 - val_loss: 0.0150 - val_mae: 0.1377\n",
            "Epoch 36/500\n",
            "33/33 [==============================] - 1s 36ms/step - loss: 0.0146 - mae: 0.1512 - val_loss: 0.0151 - val_mae: 0.1357\n",
            "Epoch 37/500\n",
            "33/33 [==============================] - 1s 36ms/step - loss: 0.0146 - mae: 0.1491 - val_loss: 0.0149 - val_mae: 0.1379\n",
            "Epoch 38/500\n",
            "33/33 [==============================] - 1s 37ms/step - loss: 0.0145 - mae: 0.1505 - val_loss: 0.0148 - val_mae: 0.1379\n",
            "Epoch 39/500\n",
            "33/33 [==============================] - 1s 36ms/step - loss: 0.0145 - mae: 0.1489 - val_loss: 0.0149 - val_mae: 0.1351\n",
            "Epoch 40/500\n",
            "33/33 [==============================] - 1s 37ms/step - loss: 0.0144 - mae: 0.1495 - val_loss: 0.0147 - val_mae: 0.1386\n",
            "Epoch 41/500\n",
            "33/33 [==============================] - 2s 64ms/step - loss: 0.0144 - mae: 0.1482 - val_loss: 0.0147 - val_mae: 0.1374\n",
            "Epoch 42/500\n",
            "33/33 [==============================] - 1s 38ms/step - loss: 0.0144 - mae: 0.1499 - val_loss: 0.0148 - val_mae: 0.1336\n",
            "Epoch 43/500\n",
            "33/33 [==============================] - 1s 38ms/step - loss: 0.0143 - mae: 0.1483 - val_loss: 0.0145 - val_mae: 0.1371\n",
            "Epoch 44/500\n",
            "33/33 [==============================] - 1s 37ms/step - loss: 0.0142 - mae: 0.1480 - val_loss: 0.0145 - val_mae: 0.1375\n",
            "Epoch 45/500\n",
            "33/33 [==============================] - 1s 37ms/step - loss: 0.0142 - mae: 0.1491 - val_loss: 0.0146 - val_mae: 0.1336\n",
            "Epoch 46/500\n",
            "33/33 [==============================] - 1s 37ms/step - loss: 0.0142 - mae: 0.1468 - val_loss: 0.0144 - val_mae: 0.1365\n",
            "Epoch 47/500\n",
            "33/33 [==============================] - 1s 38ms/step - loss: 0.0141 - mae: 0.1481 - val_loss: 0.0144 - val_mae: 0.1360\n",
            "Epoch 48/500\n",
            "33/33 [==============================] - 1s 37ms/step - loss: 0.0141 - mae: 0.1457 - val_loss: 0.0144 - val_mae: 0.1341\n",
            "Epoch 49/500\n",
            "33/33 [==============================] - 2s 55ms/step - loss: 0.0141 - mae: 0.1482 - val_loss: 0.0144 - val_mae: 0.1335\n",
            "Epoch 50/500\n",
            "33/33 [==============================] - 2s 44ms/step - loss: 0.0140 - mae: 0.1463 - val_loss: 0.0142 - val_mae: 0.1366\n",
            "Epoch 51/500\n",
            "33/33 [==============================] - 1s 38ms/step - loss: 0.0140 - mae: 0.1464 - val_loss: 0.0143 - val_mae: 0.1323\n",
            "Epoch 52/500\n",
            "33/33 [==============================] - 1s 36ms/step - loss: 0.0139 - mae: 0.1461 - val_loss: 0.0141 - val_mae: 0.1345\n",
            "Epoch 53/500\n",
            "33/33 [==============================] - 1s 37ms/step - loss: 0.0139 - mae: 0.1465 - val_loss: 0.0142 - val_mae: 0.1321\n",
            "Epoch 54/500\n",
            "33/33 [==============================] - 1s 37ms/step - loss: 0.0139 - mae: 0.1445 - val_loss: 0.0140 - val_mae: 0.1343\n",
            "Epoch 55/500\n",
            "33/33 [==============================] - 1s 37ms/step - loss: 0.0138 - mae: 0.1457 - val_loss: 0.0139 - val_mae: 0.1349\n",
            "Epoch 56/500\n",
            "33/33 [==============================] - 1s 37ms/step - loss: 0.0138 - mae: 0.1438 - val_loss: 0.0139 - val_mae: 0.1334\n",
            "Epoch 57/500\n",
            "33/33 [==============================] - 2s 52ms/step - loss: 0.0138 - mae: 0.1461 - val_loss: 0.0139 - val_mae: 0.1336\n",
            "Epoch 58/500\n",
            "33/33 [==============================] - 1s 38ms/step - loss: 0.0137 - mae: 0.1436 - val_loss: 0.0139 - val_mae: 0.1323\n",
            "Epoch 59/500\n",
            "33/33 [==============================] - 1s 37ms/step - loss: 0.0137 - mae: 0.1436 - val_loss: 0.0138 - val_mae: 0.1328\n",
            "Epoch 60/500\n",
            "33/33 [==============================] - 1s 37ms/step - loss: 0.0136 - mae: 0.1437 - val_loss: 0.0138 - val_mae: 0.1316\n",
            "Epoch 61/500\n",
            "33/33 [==============================] - 1s 38ms/step - loss: 0.0136 - mae: 0.1442 - val_loss: 0.0138 - val_mae: 0.1314\n",
            "Epoch 62/500\n",
            "33/33 [==============================] - 1s 38ms/step - loss: 0.0136 - mae: 0.1415 - val_loss: 0.0137 - val_mae: 0.1318\n",
            "Epoch 63/500\n",
            "33/33 [==============================] - 2s 52ms/step - loss: 0.0135 - mae: 0.1436 - val_loss: 0.0136 - val_mae: 0.1314\n",
            "Epoch 64/500\n",
            "33/33 [==============================] - 2s 61ms/step - loss: 0.0134 - mae: 0.1433 - val_loss: 0.0136 - val_mae: 0.1304\n",
            "Epoch 65/500\n",
            "33/33 [==============================] - 1s 38ms/step - loss: 0.0135 - mae: 0.1427 - val_loss: 0.0137 - val_mae: 0.1280\n",
            "Epoch 66/500\n",
            "33/33 [==============================] - 1s 38ms/step - loss: 0.0134 - mae: 0.1420 - val_loss: 0.0135 - val_mae: 0.1294\n",
            "Epoch 67/500\n",
            "33/33 [==============================] - 1s 37ms/step - loss: 0.0133 - mae: 0.1420 - val_loss: 0.0135 - val_mae: 0.1296\n",
            "Epoch 68/500\n",
            "33/33 [==============================] - 1s 38ms/step - loss: 0.0133 - mae: 0.1413 - val_loss: 0.0134 - val_mae: 0.1299\n",
            "Epoch 69/500\n",
            "33/33 [==============================] - 1s 38ms/step - loss: 0.0132 - mae: 0.1414 - val_loss: 0.0134 - val_mae: 0.1291\n",
            "Epoch 70/500\n",
            "33/33 [==============================] - 2s 45ms/step - loss: 0.0132 - mae: 0.1404 - val_loss: 0.0134 - val_mae: 0.1275\n",
            "Epoch 71/500\n",
            "33/33 [==============================] - 3s 76ms/step - loss: 0.0132 - mae: 0.1402 - val_loss: 0.0133 - val_mae: 0.1287\n",
            "Epoch 72/500\n",
            "33/33 [==============================] - 1s 39ms/step - loss: 0.0131 - mae: 0.1408 - val_loss: 0.0132 - val_mae: 0.1282\n",
            "Epoch 73/500\n",
            "33/33 [==============================] - 1s 37ms/step - loss: 0.0131 - mae: 0.1399 - val_loss: 0.0131 - val_mae: 0.1284\n",
            "Epoch 74/500\n",
            "33/33 [==============================] - 1s 37ms/step - loss: 0.0130 - mae: 0.1388 - val_loss: 0.0131 - val_mae: 0.1274\n",
            "Epoch 75/500\n",
            "33/33 [==============================] - 1s 38ms/step - loss: 0.0130 - mae: 0.1398 - val_loss: 0.0131 - val_mae: 0.1269\n",
            "Epoch 76/500\n",
            "33/33 [==============================] - 1s 42ms/step - loss: 0.0130 - mae: 0.1386 - val_loss: 0.0131 - val_mae: 0.1267\n",
            "Epoch 77/500\n",
            "33/33 [==============================] - 2s 65ms/step - loss: 0.0129 - mae: 0.1399 - val_loss: 0.0130 - val_mae: 0.1272\n",
            "Epoch 78/500\n",
            "33/33 [==============================] - 2s 43ms/step - loss: 0.0129 - mae: 0.1372 - val_loss: 0.0130 - val_mae: 0.1250\n",
            "Epoch 79/500\n",
            "33/33 [==============================] - 1s 39ms/step - loss: 0.0128 - mae: 0.1378 - val_loss: 0.0128 - val_mae: 0.1270\n",
            "Epoch 80/500\n",
            "33/33 [==============================] - 1s 37ms/step - loss: 0.0128 - mae: 0.1375 - val_loss: 0.0128 - val_mae: 0.1262\n",
            "Epoch 81/500\n",
            "33/33 [==============================] - 1s 36ms/step - loss: 0.0127 - mae: 0.1374 - val_loss: 0.0128 - val_mae: 0.1245\n",
            "Epoch 82/500\n",
            "33/33 [==============================] - 1s 38ms/step - loss: 0.0127 - mae: 0.1373 - val_loss: 0.0127 - val_mae: 0.1262\n",
            "Epoch 83/500\n",
            "33/33 [==============================] - 1s 37ms/step - loss: 0.0127 - mae: 0.1363 - val_loss: 0.0128 - val_mae: 0.1229\n",
            "Epoch 84/500\n",
            "33/33 [==============================] - 1s 39ms/step - loss: 0.0126 - mae: 0.1371 - val_loss: 0.0126 - val_mae: 0.1251\n",
            "Epoch 85/500\n",
            "33/33 [==============================] - 2s 49ms/step - loss: 0.0126 - mae: 0.1356 - val_loss: 0.0126 - val_mae: 0.1247\n",
            "Epoch 86/500\n",
            "33/33 [==============================] - 1s 38ms/step - loss: 0.0125 - mae: 0.1363 - val_loss: 0.0126 - val_mae: 0.1228\n",
            "Epoch 87/500\n",
            "33/33 [==============================] - 1s 43ms/step - loss: 0.0125 - mae: 0.1338 - val_loss: 0.0125 - val_mae: 0.1230\n",
            "Epoch 88/500\n",
            "33/33 [==============================] - 2s 71ms/step - loss: 0.0124 - mae: 0.1359 - val_loss: 0.0124 - val_mae: 0.1232\n",
            "Epoch 89/500\n",
            "33/33 [==============================] - 2s 61ms/step - loss: 0.0124 - mae: 0.1347 - val_loss: 0.0125 - val_mae: 0.1215\n",
            "Epoch 90/500\n",
            "33/33 [==============================] - 2s 65ms/step - loss: 0.0124 - mae: 0.1342 - val_loss: 0.0123 - val_mae: 0.1234\n",
            "Epoch 91/500\n",
            "33/33 [==============================] - 3s 82ms/step - loss: 0.0123 - mae: 0.1336 - val_loss: 0.0123 - val_mae: 0.1221\n",
            "Epoch 92/500\n",
            "33/33 [==============================] - 2s 67ms/step - loss: 0.0123 - mae: 0.1340 - val_loss: 0.0123 - val_mae: 0.1208\n",
            "Epoch 93/500\n",
            "33/33 [==============================] - 2s 66ms/step - loss: 0.0122 - mae: 0.1325 - val_loss: 0.0122 - val_mae: 0.1212\n",
            "Epoch 94/500\n",
            "33/33 [==============================] - 1s 38ms/step - loss: 0.0122 - mae: 0.1337 - val_loss: 0.0122 - val_mae: 0.1212\n",
            "Epoch 95/500\n",
            "33/33 [==============================] - 1s 36ms/step - loss: 0.0121 - mae: 0.1323 - val_loss: 0.0122 - val_mae: 0.1205\n",
            "Epoch 96/500\n",
            "33/33 [==============================] - 1s 38ms/step - loss: 0.0121 - mae: 0.1319 - val_loss: 0.0121 - val_mae: 0.1206\n",
            "Epoch 97/500\n",
            "33/33 [==============================] - 2s 53ms/step - loss: 0.0120 - mae: 0.1320 - val_loss: 0.0120 - val_mae: 0.1204\n",
            "Epoch 98/500\n",
            "33/33 [==============================] - 2s 63ms/step - loss: 0.0120 - mae: 0.1321 - val_loss: 0.0120 - val_mae: 0.1199\n",
            "Epoch 99/500\n",
            "33/33 [==============================] - 1s 37ms/step - loss: 0.0120 - mae: 0.1312 - val_loss: 0.0119 - val_mae: 0.1201\n",
            "Epoch 100/500\n",
            "33/33 [==============================] - 1s 38ms/step - loss: 0.0119 - mae: 0.1306 - val_loss: 0.0119 - val_mae: 0.1192\n",
            "Epoch 101/500\n",
            "33/33 [==============================] - 1s 37ms/step - loss: 0.0119 - mae: 0.1302 - val_loss: 0.0118 - val_mae: 0.1199\n",
            "Epoch 102/500\n",
            "33/33 [==============================] - 1s 37ms/step - loss: 0.0118 - mae: 0.1303 - val_loss: 0.0118 - val_mae: 0.1189\n",
            "Epoch 103/500\n",
            "33/33 [==============================] - 1s 37ms/step - loss: 0.0118 - mae: 0.1300 - val_loss: 0.0118 - val_mae: 0.1189\n",
            "Epoch 104/500\n",
            "33/33 [==============================] - 2s 65ms/step - loss: 0.0117 - mae: 0.1297 - val_loss: 0.0117 - val_mae: 0.1191\n",
            "Epoch 105/500\n",
            "33/33 [==============================] - 1s 38ms/step - loss: 0.0117 - mae: 0.1293 - val_loss: 0.0117 - val_mae: 0.1189\n",
            "Epoch 106/500\n",
            "33/33 [==============================] - 1s 39ms/step - loss: 0.0116 - mae: 0.1289 - val_loss: 0.0116 - val_mae: 0.1185\n",
            "Epoch 107/500\n",
            "33/33 [==============================] - 1s 37ms/step - loss: 0.0116 - mae: 0.1288 - val_loss: 0.0116 - val_mae: 0.1180\n",
            "Epoch 108/500\n",
            "33/33 [==============================] - 1s 37ms/step - loss: 0.0116 - mae: 0.1282 - val_loss: 0.0116 - val_mae: 0.1177\n",
            "Epoch 109/500\n",
            "33/33 [==============================] - 1s 40ms/step - loss: 0.0115 - mae: 0.1273 - val_loss: 0.0115 - val_mae: 0.1176\n",
            "Epoch 110/500\n",
            "33/33 [==============================] - 2s 48ms/step - loss: 0.0115 - mae: 0.1287 - val_loss: 0.0114 - val_mae: 0.1181\n",
            "Epoch 111/500\n",
            "33/33 [==============================] - 1s 37ms/step - loss: 0.0114 - mae: 0.1269 - val_loss: 0.0114 - val_mae: 0.1171\n",
            "Epoch 112/500\n",
            "33/33 [==============================] - 1s 37ms/step - loss: 0.0114 - mae: 0.1266 - val_loss: 0.0114 - val_mae: 0.1171\n",
            "Epoch 113/500\n",
            "33/33 [==============================] - 1s 38ms/step - loss: 0.0114 - mae: 0.1270 - val_loss: 0.0113 - val_mae: 0.1171\n",
            "Epoch 114/500\n",
            "33/33 [==============================] - 1s 37ms/step - loss: 0.0113 - mae: 0.1266 - val_loss: 0.0113 - val_mae: 0.1168\n",
            "Epoch 115/500\n",
            "33/33 [==============================] - 1s 37ms/step - loss: 0.0113 - mae: 0.1256 - val_loss: 0.0113 - val_mae: 0.1164\n",
            "Epoch 116/500\n",
            "33/33 [==============================] - 1s 42ms/step - loss: 0.0112 - mae: 0.1257 - val_loss: 0.0112 - val_mae: 0.1165\n",
            "Epoch 117/500\n",
            "33/33 [==============================] - 3s 87ms/step - loss: 0.0112 - mae: 0.1254 - val_loss: 0.0112 - val_mae: 0.1159\n",
            "Epoch 118/500\n",
            "33/33 [==============================] - 2s 63ms/step - loss: 0.0111 - mae: 0.1248 - val_loss: 0.0111 - val_mae: 0.1159\n",
            "Epoch 119/500\n",
            "33/33 [==============================] - 1s 38ms/step - loss: 0.0111 - mae: 0.1246 - val_loss: 0.0111 - val_mae: 0.1157\n",
            "Epoch 120/500\n",
            "33/33 [==============================] - 1s 38ms/step - loss: 0.0111 - mae: 0.1249 - val_loss: 0.0110 - val_mae: 0.1152\n",
            "Epoch 121/500\n",
            "33/33 [==============================] - 1s 37ms/step - loss: 0.0110 - mae: 0.1240 - val_loss: 0.0110 - val_mae: 0.1148\n",
            "Epoch 122/500\n",
            "33/33 [==============================] - 1s 43ms/step - loss: 0.0110 - mae: 0.1238 - val_loss: 0.0109 - val_mae: 0.1149\n",
            "Epoch 123/500\n",
            "33/33 [==============================] - 2s 64ms/step - loss: 0.0110 - mae: 0.1236 - val_loss: 0.0109 - val_mae: 0.1144\n",
            "Epoch 124/500\n",
            "33/33 [==============================] - 2s 44ms/step - loss: 0.0109 - mae: 0.1226 - val_loss: 0.0109 - val_mae: 0.1140\n",
            "Epoch 125/500\n",
            "33/33 [==============================] - 1s 37ms/step - loss: 0.0109 - mae: 0.1226 - val_loss: 0.0108 - val_mae: 0.1139\n",
            "Epoch 126/500\n",
            "33/33 [==============================] - 1s 39ms/step - loss: 0.0109 - mae: 0.1232 - val_loss: 0.0108 - val_mae: 0.1135\n",
            "Epoch 127/500\n",
            "33/33 [==============================] - 1s 38ms/step - loss: 0.0108 - mae: 0.1220 - val_loss: 0.0108 - val_mae: 0.1133\n",
            "Epoch 128/500\n",
            "33/33 [==============================] - 2s 49ms/step - loss: 0.0108 - mae: 0.1217 - val_loss: 0.0108 - val_mae: 0.1128\n",
            "Epoch 129/500\n",
            "33/33 [==============================] - 2s 61ms/step - loss: 0.0108 - mae: 0.1215 - val_loss: 0.0107 - val_mae: 0.1126\n",
            "Epoch 130/500\n",
            "33/33 [==============================] - 3s 93ms/step - loss: 0.0107 - mae: 0.1213 - val_loss: 0.0107 - val_mae: 0.1124\n",
            "Epoch 131/500\n",
            "33/33 [==============================] - 1s 38ms/step - loss: 0.0107 - mae: 0.1214 - val_loss: 0.0107 - val_mae: 0.1119\n",
            "Epoch 132/500\n",
            "33/33 [==============================] - 1s 38ms/step - loss: 0.0107 - mae: 0.1205 - val_loss: 0.0107 - val_mae: 0.1115\n",
            "Epoch 133/500\n",
            "33/33 [==============================] - 2s 46ms/step - loss: 0.0107 - mae: 0.1205 - val_loss: 0.0106 - val_mae: 0.1114\n",
            "Epoch 134/500\n",
            "33/33 [==============================] - 3s 97ms/step - loss: 0.0106 - mae: 0.1203 - val_loss: 0.0106 - val_mae: 0.1109\n",
            "Epoch 135/500\n",
            "33/33 [==============================] - 1s 40ms/step - loss: 0.0106 - mae: 0.1200 - val_loss: 0.0106 - val_mae: 0.1105\n",
            "Epoch 136/500\n",
            "33/33 [==============================] - 1s 40ms/step - loss: 0.0106 - mae: 0.1195 - val_loss: 0.0105 - val_mae: 0.1104\n",
            "Epoch 137/500\n",
            "33/33 [==============================] - 1s 38ms/step - loss: 0.0106 - mae: 0.1192 - val_loss: 0.0105 - val_mae: 0.1101\n",
            "Epoch 138/500\n",
            "33/33 [==============================] - 1s 37ms/step - loss: 0.0106 - mae: 0.1194 - val_loss: 0.0105 - val_mae: 0.1096\n",
            "Epoch 139/500\n",
            "33/33 [==============================] - 1s 38ms/step - loss: 0.0105 - mae: 0.1185 - val_loss: 0.0105 - val_mae: 0.1093\n",
            "Epoch 140/500\n",
            "33/33 [==============================] - 2s 55ms/step - loss: 0.0105 - mae: 0.1191 - val_loss: 0.0104 - val_mae: 0.1092\n",
            "Epoch 141/500\n",
            "33/33 [==============================] - 2s 54ms/step - loss: 0.0105 - mae: 0.1184 - val_loss: 0.0105 - val_mae: 0.1087\n",
            "Epoch 142/500\n",
            "33/33 [==============================] - 2s 64ms/step - loss: 0.0105 - mae: 0.1176 - val_loss: 0.0105 - val_mae: 0.1084\n",
            "Epoch 143/500\n",
            "33/33 [==============================] - 1s 40ms/step - loss: 0.0105 - mae: 0.1177 - val_loss: 0.0104 - val_mae: 0.1084\n",
            "Epoch 144/500\n",
            "33/33 [==============================] - 1s 39ms/step - loss: 0.0105 - mae: 0.1177 - val_loss: 0.0104 - val_mae: 0.1080\n",
            "Epoch 145/500\n",
            "33/33 [==============================] - 3s 82ms/step - loss: 0.0105 - mae: 0.1172 - val_loss: 0.0104 - val_mae: 0.1078\n",
            "Epoch 146/500\n",
            "33/33 [==============================] - 3s 69ms/step - loss: 0.0104 - mae: 0.1171 - val_loss: 0.0104 - val_mae: 0.1075\n",
            "Epoch 147/500\n",
            "33/33 [==============================] - 1s 39ms/step - loss: 0.0104 - mae: 0.1171 - val_loss: 0.0103 - val_mae: 0.1075\n",
            "Epoch 148/500\n",
            "33/33 [==============================] - 1s 39ms/step - loss: 0.0104 - mae: 0.1167 - val_loss: 0.0103 - val_mae: 0.1072\n",
            "Epoch 149/500\n",
            "33/33 [==============================] - 1s 39ms/step - loss: 0.0104 - mae: 0.1162 - val_loss: 0.0104 - val_mae: 0.1069\n",
            "Epoch 150/500\n",
            "33/33 [==============================] - 1s 37ms/step - loss: 0.0104 - mae: 0.1165 - val_loss: 0.0103 - val_mae: 0.1069\n",
            "Epoch 151/500\n",
            "33/33 [==============================] - 1s 38ms/step - loss: 0.0104 - mae: 0.1162 - val_loss: 0.0103 - val_mae: 0.1065\n",
            "Epoch 152/500\n",
            "33/33 [==============================] - 2s 55ms/step - loss: 0.0104 - mae: 0.1163 - val_loss: 0.0103 - val_mae: 0.1065\n",
            "Epoch 153/500\n",
            "33/33 [==============================] - 2s 43ms/step - loss: 0.0104 - mae: 0.1157 - val_loss: 0.0103 - val_mae: 0.1062\n",
            "Epoch 154/500\n",
            "33/33 [==============================] - 1s 38ms/step - loss: 0.0104 - mae: 0.1156 - val_loss: 0.0103 - val_mae: 0.1059\n",
            "Epoch 155/500\n",
            "33/33 [==============================] - 1s 38ms/step - loss: 0.0104 - mae: 0.1156 - val_loss: 0.0103 - val_mae: 0.1058\n",
            "Epoch 156/500\n",
            "33/33 [==============================] - 1s 38ms/step - loss: 0.0104 - mae: 0.1154 - val_loss: 0.0103 - val_mae: 0.1058\n",
            "Epoch 157/500\n",
            "33/33 [==============================] - 1s 38ms/step - loss: 0.0104 - mae: 0.1151 - val_loss: 0.0103 - val_mae: 0.1056\n",
            "Epoch 158/500\n",
            "33/33 [==============================] - 1s 40ms/step - loss: 0.0104 - mae: 0.1152 - val_loss: 0.0103 - val_mae: 0.1054\n",
            "Epoch 159/500\n",
            "33/33 [==============================] - 1s 39ms/step - loss: 0.0104 - mae: 0.1150 - val_loss: 0.0103 - val_mae: 0.1054\n",
            "Epoch 160/500\n",
            "33/33 [==============================] - 2s 53ms/step - loss: 0.0104 - mae: 0.1150 - val_loss: 0.0103 - val_mae: 0.1052\n",
            "Epoch 161/500\n",
            "33/33 [==============================] - 1s 40ms/step - loss: 0.0104 - mae: 0.1147 - val_loss: 0.0103 - val_mae: 0.1050\n",
            "Epoch 162/500\n",
            "33/33 [==============================] - 1s 40ms/step - loss: 0.0104 - mae: 0.1151 - val_loss: 0.0103 - val_mae: 0.1050\n",
            "Epoch 163/500\n",
            "33/33 [==============================] - 1s 39ms/step - loss: 0.0104 - mae: 0.1147 - val_loss: 0.0103 - val_mae: 0.1048\n",
            "Epoch 164/500\n",
            "33/33 [==============================] - 1s 39ms/step - loss: 0.0104 - mae: 0.1144 - val_loss: 0.0103 - val_mae: 0.1048\n",
            "Epoch 165/500\n",
            "33/33 [==============================] - 2s 63ms/step - loss: 0.0104 - mae: 0.1147 - val_loss: 0.0103 - val_mae: 0.1046\n",
            "Epoch 166/500\n",
            "33/33 [==============================] - 2s 45ms/step - loss: 0.0104 - mae: 0.1143 - val_loss: 0.0103 - val_mae: 0.1045\n",
            "Epoch 167/500\n",
            "33/33 [==============================] - 2s 54ms/step - loss: 0.0104 - mae: 0.1143 - val_loss: 0.0103 - val_mae: 0.1044\n",
            "Epoch 168/500\n",
            "33/33 [==============================] - 1s 39ms/step - loss: 0.0104 - mae: 0.1143 - val_loss: 0.0102 - val_mae: 0.1044\n",
            "Epoch 169/500\n",
            "33/33 [==============================] - 1s 38ms/step - loss: 0.0104 - mae: 0.1142 - val_loss: 0.0103 - val_mae: 0.1044\n",
            "Epoch 170/500\n",
            "33/33 [==============================] - 1s 39ms/step - loss: 0.0104 - mae: 0.1143 - val_loss: 0.0102 - val_mae: 0.1043\n",
            "Epoch 171/500\n",
            "33/33 [==============================] - 1s 39ms/step - loss: 0.0104 - mae: 0.1141 - val_loss: 0.0103 - val_mae: 0.1041\n",
            "Epoch 172/500\n",
            "33/33 [==============================] - 2s 64ms/step - loss: 0.0104 - mae: 0.1145 - val_loss: 0.0102 - val_mae: 0.1042\n",
            "Epoch 173/500\n",
            "33/33 [==============================] - 2s 43ms/step - loss: 0.0104 - mae: 0.1141 - val_loss: 0.0103 - val_mae: 0.1040\n",
            "Epoch 174/500\n",
            "33/33 [==============================] - 1s 38ms/step - loss: 0.0104 - mae: 0.1139 - val_loss: 0.0103 - val_mae: 0.1039\n",
            "Epoch 175/500\n",
            "33/33 [==============================] - 1s 38ms/step - loss: 0.0104 - mae: 0.1137 - val_loss: 0.0103 - val_mae: 0.1039\n",
            "Epoch 176/500\n",
            "33/33 [==============================] - 1s 39ms/step - loss: 0.0103 - mae: 0.1138 - val_loss: 0.0103 - val_mae: 0.1038\n",
            "Epoch 177/500\n",
            "33/33 [==============================] - 1s 38ms/step - loss: 0.0103 - mae: 0.1139 - val_loss: 0.0103 - val_mae: 0.1038\n",
            "Epoch 178/500\n",
            "33/33 [==============================] - 1s 39ms/step - loss: 0.0104 - mae: 0.1139 - val_loss: 0.0102 - val_mae: 0.1037\n",
            "Epoch 179/500\n",
            "33/33 [==============================] - 1s 40ms/step - loss: 0.0103 - mae: 0.1137 - val_loss: 0.0103 - val_mae: 0.1037\n",
            "Epoch 180/500\n",
            "33/33 [==============================] - 2s 64ms/step - loss: 0.0104 - mae: 0.1138 - val_loss: 0.0103 - val_mae: 0.1036\n",
            "Epoch 181/500\n",
            "33/33 [==============================] - 2s 46ms/step - loss: 0.0104 - mae: 0.1138 - val_loss: 0.0103 - val_mae: 0.1036\n",
            "Epoch 182/500\n",
            "33/33 [==============================] - 1s 38ms/step - loss: 0.0103 - mae: 0.1135 - val_loss: 0.0103 - val_mae: 0.1035\n",
            "Epoch 183/500\n",
            "33/33 [==============================] - 1s 38ms/step - loss: 0.0104 - mae: 0.1138 - val_loss: 0.0102 - val_mae: 0.1037\n",
            "Epoch 184/500\n",
            "33/33 [==============================] - 1s 39ms/step - loss: 0.0104 - mae: 0.1136 - val_loss: 0.0102 - val_mae: 0.1035\n",
            "Epoch 185/500\n",
            "33/33 [==============================] - 2s 64ms/step - loss: 0.0103 - mae: 0.1138 - val_loss: 0.0103 - val_mae: 0.1034\n",
            "Epoch 186/500\n",
            "33/33 [==============================] - 2s 51ms/step - loss: 0.0103 - mae: 0.1134 - val_loss: 0.0103 - val_mae: 0.1034\n",
            "Epoch 187/500\n",
            "33/33 [==============================] - 2s 61ms/step - loss: 0.0103 - mae: 0.1133 - val_loss: 0.0103 - val_mae: 0.1034\n",
            "Epoch 188/500\n",
            "33/33 [==============================] - 2s 53ms/step - loss: 0.0103 - mae: 0.1135 - val_loss: 0.0102 - val_mae: 0.1034\n",
            "Epoch 189/500\n",
            "33/33 [==============================] - 1s 38ms/step - loss: 0.0103 - mae: 0.1135 - val_loss: 0.0103 - val_mae: 0.1033\n",
            "Epoch 190/500\n",
            "33/33 [==============================] - 1s 38ms/step - loss: 0.0103 - mae: 0.1135 - val_loss: 0.0102 - val_mae: 0.1034\n",
            "Epoch 191/500\n",
            "33/33 [==============================] - 1s 39ms/step - loss: 0.0104 - mae: 0.1136 - val_loss: 0.0102 - val_mae: 0.1033\n",
            "Epoch 192/500\n",
            "33/33 [==============================] - 1s 36ms/step - loss: 0.0103 - mae: 0.1134 - val_loss: 0.0103 - val_mae: 0.1032\n",
            "Epoch 193/500\n",
            "33/33 [==============================] - 1s 36ms/step - loss: 0.0103 - mae: 0.1132 - val_loss: 0.0103 - val_mae: 0.1032\n",
            "Epoch 194/500\n",
            "33/33 [==============================] - 2s 55ms/step - loss: 0.0103 - mae: 0.1134 - val_loss: 0.0103 - val_mae: 0.1032\n",
            "Epoch 195/500\n",
            "33/33 [==============================] - 2s 60ms/step - loss: 0.0103 - mae: 0.1133 - val_loss: 0.0103 - val_mae: 0.1032\n",
            "Epoch 196/500\n",
            "33/33 [==============================] - 1s 38ms/step - loss: 0.0103 - mae: 0.1134 - val_loss: 0.0102 - val_mae: 0.1032\n",
            "Epoch 197/500\n",
            "33/33 [==============================] - 1s 40ms/step - loss: 0.0103 - mae: 0.1133 - val_loss: 0.0103 - val_mae: 0.1032\n",
            "Epoch 198/500\n",
            "33/33 [==============================] - 1s 39ms/step - loss: 0.0104 - mae: 0.1133 - val_loss: 0.0102 - val_mae: 0.1032\n",
            "Epoch 199/500\n",
            "33/33 [==============================] - 1s 39ms/step - loss: 0.0103 - mae: 0.1134 - val_loss: 0.0103 - val_mae: 0.1031\n",
            "Epoch 200/500\n",
            "33/33 [==============================] - 1s 38ms/step - loss: 0.0104 - mae: 0.1136 - val_loss: 0.0102 - val_mae: 0.1034\n",
            "Epoch 201/500\n",
            "33/33 [==============================] - 1s 38ms/step - loss: 0.0103 - mae: 0.1131 - val_loss: 0.0103 - val_mae: 0.1032\n",
            "Epoch 202/500\n",
            "33/33 [==============================] - 2s 62ms/step - loss: 0.0104 - mae: 0.1133 - val_loss: 0.0103 - val_mae: 0.1031\n",
            "Epoch 203/500\n",
            "33/33 [==============================] - 1s 40ms/step - loss: 0.0103 - mae: 0.1132 - val_loss: 0.0103 - val_mae: 0.1031\n",
            "Epoch 204/500\n",
            "33/33 [==============================] - 1s 37ms/step - loss: 0.0104 - mae: 0.1134 - val_loss: 0.0103 - val_mae: 0.1031\n",
            "Epoch 205/500\n",
            "33/33 [==============================] - 1s 38ms/step - loss: 0.0104 - mae: 0.1133 - val_loss: 0.0102 - val_mae: 0.1032\n",
            "Epoch 206/500\n",
            "33/33 [==============================] - 1s 38ms/step - loss: 0.0103 - mae: 0.1131 - val_loss: 0.0103 - val_mae: 0.1030\n",
            "Epoch 207/500\n",
            "33/33 [==============================] - 1s 38ms/step - loss: 0.0104 - mae: 0.1132 - val_loss: 0.0103 - val_mae: 0.1030\n",
            "Epoch 208/500\n",
            "33/33 [==============================] - 2s 60ms/step - loss: 0.0104 - mae: 0.1133 - val_loss: 0.0103 - val_mae: 0.1031\n",
            "Epoch 209/500\n",
            "33/33 [==============================] - 2s 55ms/step - loss: 0.0103 - mae: 0.1129 - val_loss: 0.0103 - val_mae: 0.1030\n",
            "Epoch 210/500\n",
            "33/33 [==============================] - 1s 39ms/step - loss: 0.0104 - mae: 0.1132 - val_loss: 0.0103 - val_mae: 0.1030\n",
            "Epoch 211/500\n",
            "33/33 [==============================] - 1s 38ms/step - loss: 0.0103 - mae: 0.1132 - val_loss: 0.0103 - val_mae: 0.1030\n",
            "Epoch 212/500\n",
            "33/33 [==============================] - 1s 38ms/step - loss: 0.0103 - mae: 0.1132 - val_loss: 0.0102 - val_mae: 0.1031\n",
            "Epoch 213/500\n",
            "33/33 [==============================] - 1s 37ms/step - loss: 0.0104 - mae: 0.1134 - val_loss: 0.0102 - val_mae: 0.1030\n",
            "Epoch 214/500\n",
            "33/33 [==============================] - 1s 38ms/step - loss: 0.0104 - mae: 0.1129 - val_loss: 0.0103 - val_mae: 0.1030\n",
            "Epoch 215/500\n",
            "33/33 [==============================] - 2s 58ms/step - loss: 0.0104 - mae: 0.1134 - val_loss: 0.0103 - val_mae: 0.1030\n",
            "Epoch 216/500\n",
            "33/33 [==============================] - 2s 57ms/step - loss: 0.0104 - mae: 0.1132 - val_loss: 0.0102 - val_mae: 0.1031\n",
            "Epoch 217/500\n",
            "33/33 [==============================] - 1s 38ms/step - loss: 0.0104 - mae: 0.1131 - val_loss: 0.0103 - val_mae: 0.1030\n",
            "Epoch 218/500\n",
            "33/33 [==============================] - 1s 39ms/step - loss: 0.0104 - mae: 0.1132 - val_loss: 0.0103 - val_mae: 0.1030\n",
            "Epoch 219/500\n",
            "33/33 [==============================] - 1s 37ms/step - loss: 0.0103 - mae: 0.1132 - val_loss: 0.0103 - val_mae: 0.1030\n",
            "Epoch 220/500\n",
            "33/33 [==============================] - 1s 38ms/step - loss: 0.0103 - mae: 0.1133 - val_loss: 0.0103 - val_mae: 0.1030\n",
            "Epoch 221/500\n",
            "33/33 [==============================] - 1s 37ms/step - loss: 0.0103 - mae: 0.1132 - val_loss: 0.0102 - val_mae: 0.1030\n",
            "Epoch 222/500\n",
            "33/33 [==============================] - 1s 39ms/step - loss: 0.0104 - mae: 0.1134 - val_loss: 0.0102 - val_mae: 0.1032\n",
            "Epoch 223/500\n",
            "33/33 [==============================] - 1s 37ms/step - loss: 0.0103 - mae: 0.1128 - val_loss: 0.0103 - val_mae: 0.1029\n",
            "Epoch 224/500\n",
            "33/33 [==============================] - 2s 53ms/step - loss: 0.0103 - mae: 0.1130 - val_loss: 0.0103 - val_mae: 0.1030\n",
            "Epoch 225/500\n",
            "33/33 [==============================] - 2s 45ms/step - loss: 0.0103 - mae: 0.1132 - val_loss: 0.0103 - val_mae: 0.1030\n",
            "Epoch 226/500\n",
            "33/33 [==============================] - 1s 40ms/step - loss: 0.0104 - mae: 0.1131 - val_loss: 0.0102 - val_mae: 0.1031\n",
            "Epoch 227/500\n",
            "33/33 [==============================] - 1s 38ms/step - loss: 0.0103 - mae: 0.1131 - val_loss: 0.0103 - val_mae: 0.1030\n",
            "Epoch 228/500\n",
            "33/33 [==============================] - 1s 37ms/step - loss: 0.0104 - mae: 0.1134 - val_loss: 0.0103 - val_mae: 0.1030\n",
            "Epoch 229/500\n",
            "33/33 [==============================] - 1s 37ms/step - loss: 0.0103 - mae: 0.1126 - val_loss: 0.0103 - val_mae: 0.1029\n",
            "Epoch 230/500\n",
            "33/33 [==============================] - 1s 42ms/step - loss: 0.0104 - mae: 0.1133 - val_loss: 0.0102 - val_mae: 0.1030\n",
            "Epoch 231/500\n",
            "33/33 [==============================] - 2s 50ms/step - loss: 0.0104 - mae: 0.1130 - val_loss: 0.0103 - val_mae: 0.1029\n",
            "Epoch 232/500\n",
            "33/33 [==============================] - 1s 39ms/step - loss: 0.0103 - mae: 0.1131 - val_loss: 0.0103 - val_mae: 0.1029\n",
            "Epoch 233/500\n",
            "33/33 [==============================] - 1s 38ms/step - loss: 0.0103 - mae: 0.1128 - val_loss: 0.0103 - val_mae: 0.1029\n",
            "Epoch 234/500\n",
            "33/33 [==============================] - 1s 38ms/step - loss: 0.0104 - mae: 0.1134 - val_loss: 0.0102 - val_mae: 0.1030\n",
            "Epoch 235/500\n",
            "33/33 [==============================] - 1s 38ms/step - loss: 0.0103 - mae: 0.1128 - val_loss: 0.0103 - val_mae: 0.1029\n",
            "Epoch 236/500\n",
            "33/33 [==============================] - 1s 37ms/step - loss: 0.0103 - mae: 0.1130 - val_loss: 0.0103 - val_mae: 0.1030\n",
            "Epoch 237/500\n",
            "33/33 [==============================] - 1s 38ms/step - loss: 0.0104 - mae: 0.1132 - val_loss: 0.0103 - val_mae: 0.1030\n",
            "Epoch 238/500\n",
            "33/33 [==============================] - 2s 52ms/step - loss: 0.0104 - mae: 0.1129 - val_loss: 0.0102 - val_mae: 0.1030\n",
            "Epoch 239/500\n",
            "33/33 [==============================] - 2s 46ms/step - loss: 0.0103 - mae: 0.1132 - val_loss: 0.0103 - val_mae: 0.1030\n",
            "Epoch 240/500\n",
            "33/33 [==============================] - 1s 39ms/step - loss: 0.0103 - mae: 0.1132 - val_loss: 0.0103 - val_mae: 0.1029\n",
            "Epoch 241/500\n",
            "33/33 [==============================] - 1s 39ms/step - loss: 0.0104 - mae: 0.1133 - val_loss: 0.0103 - val_mae: 0.1029\n",
            "Epoch 242/500\n",
            "33/33 [==============================] - 1s 39ms/step - loss: 0.0103 - mae: 0.1130 - val_loss: 0.0103 - val_mae: 0.1029\n",
            "Epoch 243/500\n",
            "33/33 [==============================] - 1s 39ms/step - loss: 0.0103 - mae: 0.1127 - val_loss: 0.0103 - val_mae: 0.1029\n",
            "Epoch 244/500\n",
            "33/33 [==============================] - 2s 45ms/step - loss: 0.0104 - mae: 0.1132 - val_loss: 0.0103 - val_mae: 0.1029\n",
            "Epoch 245/500\n",
            "33/33 [==============================] - 2s 50ms/step - loss: 0.0104 - mae: 0.1127 - val_loss: 0.0103 - val_mae: 0.1029\n",
            "Epoch 246/500\n",
            "33/33 [==============================] - 1s 38ms/step - loss: 0.0104 - mae: 0.1131 - val_loss: 0.0103 - val_mae: 0.1029\n",
            "Epoch 247/500\n",
            "33/33 [==============================] - 1s 37ms/step - loss: 0.0104 - mae: 0.1131 - val_loss: 0.0102 - val_mae: 0.1030\n",
            "Epoch 248/500\n",
            "33/33 [==============================] - 1s 37ms/step - loss: 0.0103 - mae: 0.1132 - val_loss: 0.0103 - val_mae: 0.1029\n",
            "Epoch 249/500\n",
            "33/33 [==============================] - 1s 39ms/step - loss: 0.0103 - mae: 0.1129 - val_loss: 0.0103 - val_mae: 0.1029\n",
            "Epoch 250/500\n",
            "33/33 [==============================] - 2s 59ms/step - loss: 0.0103 - mae: 0.1130 - val_loss: 0.0103 - val_mae: 0.1029\n",
            "Epoch 251/500\n",
            "33/33 [==============================] - 2s 64ms/step - loss: 0.0103 - mae: 0.1129 - val_loss: 0.0103 - val_mae: 0.1029\n",
            "Epoch 252/500\n",
            "33/33 [==============================] - 2s 44ms/step - loss: 0.0103 - mae: 0.1130 - val_loss: 0.0103 - val_mae: 0.1029\n",
            "Epoch 253/500\n",
            "33/33 [==============================] - 1s 39ms/step - loss: 0.0104 - mae: 0.1130 - val_loss: 0.0102 - val_mae: 0.1029\n",
            "Epoch 254/500\n",
            "33/33 [==============================] - 1s 39ms/step - loss: 0.0104 - mae: 0.1130 - val_loss: 0.0102 - val_mae: 0.1029\n",
            "Epoch 255/500\n",
            "33/33 [==============================] - 1s 38ms/step - loss: 0.0104 - mae: 0.1129 - val_loss: 0.0102 - val_mae: 0.1029\n",
            "Epoch 256/500\n",
            "33/33 [==============================] - 1s 39ms/step - loss: 0.0103 - mae: 0.1130 - val_loss: 0.0102 - val_mae: 0.1029\n",
            "Epoch 257/500\n",
            "33/33 [==============================] - 1s 39ms/step - loss: 0.0103 - mae: 0.1128 - val_loss: 0.0103 - val_mae: 0.1028\n",
            "Epoch 258/500\n",
            "33/33 [==============================] - 1s 43ms/step - loss: 0.0103 - mae: 0.1129 - val_loss: 0.0103 - val_mae: 0.1028\n",
            "Epoch 259/500\n",
            "33/33 [==============================] - 2s 49ms/step - loss: 0.0104 - mae: 0.1134 - val_loss: 0.0102 - val_mae: 0.1030\n",
            "Epoch 260/500\n",
            "33/33 [==============================] - 1s 38ms/step - loss: 0.0103 - mae: 0.1128 - val_loss: 0.0103 - val_mae: 0.1028\n",
            "Epoch 261/500\n",
            "33/33 [==============================] - 1s 38ms/step - loss: 0.0104 - mae: 0.1127 - val_loss: 0.0103 - val_mae: 0.1028\n",
            "Epoch 262/500\n",
            "33/33 [==============================] - 1s 39ms/step - loss: 0.0103 - mae: 0.1128 - val_loss: 0.0103 - val_mae: 0.1028\n",
            "Epoch 263/500\n",
            "33/33 [==============================] - 1s 39ms/step - loss: 0.0104 - mae: 0.1133 - val_loss: 0.0103 - val_mae: 0.1029\n",
            "Epoch 264/500\n",
            "33/33 [==============================] - 1s 37ms/step - loss: 0.0103 - mae: 0.1129 - val_loss: 0.0103 - val_mae: 0.1029\n",
            "Epoch 265/500\n",
            "33/33 [==============================] - 2s 62ms/step - loss: 0.0104 - mae: 0.1130 - val_loss: 0.0102 - val_mae: 0.1029\n",
            "Epoch 266/500\n",
            "33/33 [==============================] - 2s 55ms/step - loss: 0.0104 - mae: 0.1129 - val_loss: 0.0102 - val_mae: 0.1029\n",
            "Epoch 267/500\n",
            "33/33 [==============================] - 1s 38ms/step - loss: 0.0103 - mae: 0.1131 - val_loss: 0.0103 - val_mae: 0.1029\n",
            "Epoch 268/500\n",
            "33/33 [==============================] - 1s 40ms/step - loss: 0.0104 - mae: 0.1133 - val_loss: 0.0102 - val_mae: 0.1029\n",
            "Epoch 269/500\n",
            "33/33 [==============================] - 1s 38ms/step - loss: 0.0104 - mae: 0.1129 - val_loss: 0.0103 - val_mae: 0.1028\n",
            "Epoch 270/500\n",
            "33/33 [==============================] - 1s 39ms/step - loss: 0.0104 - mae: 0.1129 - val_loss: 0.0102 - val_mae: 0.1029\n",
            "Epoch 271/500\n",
            "33/33 [==============================] - 2s 58ms/step - loss: 0.0103 - mae: 0.1130 - val_loss: 0.0103 - val_mae: 0.1029\n",
            "Epoch 272/500\n",
            "33/33 [==============================] - 2s 62ms/step - loss: 0.0103 - mae: 0.1129 - val_loss: 0.0103 - val_mae: 0.1028\n",
            "Epoch 273/500\n",
            "33/33 [==============================] - 1s 39ms/step - loss: 0.0103 - mae: 0.1131 - val_loss: 0.0103 - val_mae: 0.1029\n",
            "Epoch 274/500\n",
            "33/33 [==============================] - 1s 37ms/step - loss: 0.0103 - mae: 0.1131 - val_loss: 0.0102 - val_mae: 0.1029\n",
            "Epoch 275/500\n",
            "33/33 [==============================] - 1s 38ms/step - loss: 0.0104 - mae: 0.1131 - val_loss: 0.0103 - val_mae: 0.1028\n",
            "Epoch 276/500\n",
            "33/33 [==============================] - 1s 37ms/step - loss: 0.0104 - mae: 0.1133 - val_loss: 0.0102 - val_mae: 0.1031\n",
            "Epoch 277/500\n",
            "33/33 [==============================] - 2s 68ms/step - loss: 0.0103 - mae: 0.1130 - val_loss: 0.0103 - val_mae: 0.1029\n",
            "Epoch 278/500\n",
            "33/33 [==============================] - 1s 38ms/step - loss: 0.0103 - mae: 0.1129 - val_loss: 0.0103 - val_mae: 0.1028\n",
            "Epoch 279/500\n",
            "33/33 [==============================] - 1s 39ms/step - loss: 0.0104 - mae: 0.1134 - val_loss: 0.0102 - val_mae: 0.1030\n",
            "Epoch 280/500\n",
            "33/33 [==============================] - 1s 39ms/step - loss: 0.0103 - mae: 0.1130 - val_loss: 0.0103 - val_mae: 0.1029\n",
            "Epoch 281/500\n",
            "33/33 [==============================] - 1s 38ms/step - loss: 0.0103 - mae: 0.1128 - val_loss: 0.0103 - val_mae: 0.1029\n",
            "Epoch 282/500\n",
            "33/33 [==============================] - 1s 38ms/step - loss: 0.0103 - mae: 0.1130 - val_loss: 0.0103 - val_mae: 0.1029\n",
            "Epoch 283/500\n",
            "33/33 [==============================] - 1s 40ms/step - loss: 0.0104 - mae: 0.1134 - val_loss: 0.0103 - val_mae: 0.1029\n",
            "Epoch 284/500\n",
            "33/33 [==============================] - 2s 64ms/step - loss: 0.0103 - mae: 0.1129 - val_loss: 0.0103 - val_mae: 0.1029\n",
            "Epoch 285/500\n",
            "33/33 [==============================] - 1s 40ms/step - loss: 0.0103 - mae: 0.1130 - val_loss: 0.0103 - val_mae: 0.1029\n",
            "Epoch 286/500\n",
            "33/33 [==============================] - 1s 39ms/step - loss: 0.0103 - mae: 0.1130 - val_loss: 0.0103 - val_mae: 0.1029\n",
            "Epoch 287/500\n",
            "33/33 [==============================] - 1s 40ms/step - loss: 0.0103 - mae: 0.1128 - val_loss: 0.0103 - val_mae: 0.1029\n",
            "Epoch 288/500\n",
            "33/33 [==============================] - 1s 39ms/step - loss: 0.0104 - mae: 0.1131 - val_loss: 0.0103 - val_mae: 0.1029\n",
            "Epoch 289/500\n",
            "33/33 [==============================] - 1s 39ms/step - loss: 0.0103 - mae: 0.1129 - val_loss: 0.0103 - val_mae: 0.1028\n",
            "Epoch 290/500\n",
            "33/33 [==============================] - 1s 39ms/step - loss: 0.0103 - mae: 0.1129 - val_loss: 0.0103 - val_mae: 0.1029\n",
            "Epoch 291/500\n",
            "33/33 [==============================] - 2s 62ms/step - loss: 0.0103 - mae: 0.1131 - val_loss: 0.0103 - val_mae: 0.1029\n",
            "Epoch 292/500\n",
            "33/33 [==============================] - 1s 39ms/step - loss: 0.0103 - mae: 0.1129 - val_loss: 0.0103 - val_mae: 0.1028\n",
            "Epoch 293/500\n",
            "33/33 [==============================] - 1s 39ms/step - loss: 0.0103 - mae: 0.1131 - val_loss: 0.0102 - val_mae: 0.1031\n",
            "Epoch 294/500\n",
            "33/33 [==============================] - 1s 40ms/step - loss: 0.0103 - mae: 0.1130 - val_loss: 0.0103 - val_mae: 0.1029\n",
            "Epoch 295/500\n",
            "33/33 [==============================] - 1s 39ms/step - loss: 0.0103 - mae: 0.1128 - val_loss: 0.0103 - val_mae: 0.1029\n",
            "Epoch 296/500\n",
            "33/33 [==============================] - 1s 38ms/step - loss: 0.0103 - mae: 0.1133 - val_loss: 0.0102 - val_mae: 0.1030\n",
            "Epoch 297/500\n",
            "33/33 [==============================] - 1s 39ms/step - loss: 0.0103 - mae: 0.1132 - val_loss: 0.0102 - val_mae: 0.1029\n",
            "Epoch 298/500\n",
            "33/33 [==============================] - 2s 52ms/step - loss: 0.0103 - mae: 0.1130 - val_loss: 0.0103 - val_mae: 0.1028\n",
            "Epoch 299/500\n",
            "33/33 [==============================] - 2s 63ms/step - loss: 0.0104 - mae: 0.1132 - val_loss: 0.0103 - val_mae: 0.1029\n",
            "Epoch 300/500\n",
            "33/33 [==============================] - 1s 39ms/step - loss: 0.0104 - mae: 0.1129 - val_loss: 0.0103 - val_mae: 0.1029\n",
            "Epoch 301/500\n",
            "33/33 [==============================] - 1s 39ms/step - loss: 0.0104 - mae: 0.1131 - val_loss: 0.0102 - val_mae: 0.1030\n",
            "Epoch 302/500\n",
            "33/33 [==============================] - 1s 40ms/step - loss: 0.0103 - mae: 0.1130 - val_loss: 0.0103 - val_mae: 0.1028\n",
            "Epoch 303/500\n",
            "33/33 [==============================] - 1s 40ms/step - loss: 0.0103 - mae: 0.1127 - val_loss: 0.0103 - val_mae: 0.1029\n",
            "Epoch 304/500\n",
            "33/33 [==============================] - 1s 39ms/step - loss: 0.0103 - mae: 0.1132 - val_loss: 0.0103 - val_mae: 0.1029\n",
            "Epoch 305/500\n",
            "33/33 [==============================] - 2s 48ms/step - loss: 0.0104 - mae: 0.1131 - val_loss: 0.0103 - val_mae: 0.1029\n",
            "Epoch 306/500\n",
            "33/33 [==============================] - 2s 71ms/step - loss: 0.0104 - mae: 0.1129 - val_loss: 0.0102 - val_mae: 0.1029\n",
            "Epoch 307/500\n",
            "33/33 [==============================] - 3s 76ms/step - loss: 0.0103 - mae: 0.1129 - val_loss: 0.0103 - val_mae: 0.1029\n",
            "Epoch 308/500\n",
            "33/33 [==============================] - 1s 40ms/step - loss: 0.0104 - mae: 0.1131 - val_loss: 0.0102 - val_mae: 0.1030\n",
            "Epoch 309/500\n",
            "33/33 [==============================] - 1s 40ms/step - loss: 0.0103 - mae: 0.1128 - val_loss: 0.0103 - val_mae: 0.1028\n",
            "Epoch 310/500\n",
            "33/33 [==============================] - 1s 38ms/step - loss: 0.0104 - mae: 0.1131 - val_loss: 0.0103 - val_mae: 0.1029\n",
            "Epoch 311/500\n",
            "33/33 [==============================] - 1s 38ms/step - loss: 0.0103 - mae: 0.1129 - val_loss: 0.0103 - val_mae: 0.1029\n",
            "3/3 [==============================] - 0s 12ms/step - loss: 0.0103 - mae: 0.1028\n"
          ]
        },
        {
          "output_type": "execute_result",
          "data": {
            "text/plain": [
              "102783.6874127388"
            ]
          },
          "metadata": {},
          "execution_count": 37
        }
      ]
    },
    {
      "cell_type": "markdown",
      "source": [
        "Let’s fix both of these issues: we will create a model with a larger recurrent\n",
        "layer, containing 32 recurrent neurons, and we will add a dense output layer\n",
        "on top of it with a single output neuron and no activation function. The\n",
        "recurrent layer will be able to carry much more information from one time\n",
        "step to the next, and the dense output layer will project the final output from\n",
        "32 dimensions down to 1, without any value range constraints:"
      ],
      "metadata": {
        "id": "ef8c1l_6cCSQ"
      }
    },
    {
      "cell_type": "code",
      "source": [
        "tf.random.set_seed(42)  # extra code – ensures reproducibility\n",
        "univar_model = tf.keras.Sequential([\n",
        "    tf.keras.layers.SimpleRNN(32, input_shape=[None, 1]),\n",
        "    tf.keras.layers.Dense(1)  # no activation function by default\n",
        "])"
      ],
      "metadata": {
        "id": "-sdM8rHMbdT6"
      },
      "execution_count": null,
      "outputs": []
    },
    {
      "cell_type": "code",
      "source": [
        "# compiles, fits, and evaluates the model, like earlier\n",
        "fit_and_evaluate(univar_model, train_ds, valid_ds, learning_rate=0.05)"
      ],
      "metadata": {
        "colab": {
          "base_uri": "https://localhost:8080/"
        },
        "id": "ojxkJ41icEJj",
        "outputId": "b99da996-0cc6-41eb-95d4-def360e97cf2"
      },
      "execution_count": null,
      "outputs": [
        {
          "output_type": "stream",
          "name": "stdout",
          "text": [
            "Epoch 1/500\n",
            "33/33 [==============================] - 2s 44ms/step - loss: 0.0169 - mae: 0.1453 - val_loss: 0.0047 - val_mae: 0.0769\n",
            "Epoch 2/500\n",
            "33/33 [==============================] - 1s 37ms/step - loss: 0.0050 - mae: 0.0746 - val_loss: 0.0033 - val_mae: 0.0615\n",
            "Epoch 3/500\n",
            "33/33 [==============================] - 1s 38ms/step - loss: 0.0039 - mae: 0.0613 - val_loss: 0.0029 - val_mae: 0.0550\n",
            "Epoch 4/500\n",
            "33/33 [==============================] - 1s 37ms/step - loss: 0.0034 - mae: 0.0527 - val_loss: 0.0021 - val_mae: 0.0382\n",
            "Epoch 5/500\n",
            "33/33 [==============================] - 1s 36ms/step - loss: 0.0035 - mae: 0.0558 - val_loss: 0.0022 - val_mae: 0.0377\n",
            "Epoch 6/500\n",
            "33/33 [==============================] - 1s 43ms/step - loss: 0.0029 - mae: 0.0492 - val_loss: 0.0031 - val_mae: 0.0582\n",
            "Epoch 7/500\n",
            "33/33 [==============================] - 2s 68ms/step - loss: 0.0029 - mae: 0.0478 - val_loss: 0.0022 - val_mae: 0.0361\n",
            "Epoch 8/500\n",
            "33/33 [==============================] - 1s 37ms/step - loss: 0.0027 - mae: 0.0446 - val_loss: 0.0026 - val_mae: 0.0444\n",
            "Epoch 9/500\n",
            "33/33 [==============================] - 1s 37ms/step - loss: 0.0029 - mae: 0.0499 - val_loss: 0.0022 - val_mae: 0.0406\n",
            "Epoch 10/500\n",
            "33/33 [==============================] - 1s 37ms/step - loss: 0.0027 - mae: 0.0448 - val_loss: 0.0019 - val_mae: 0.0335\n",
            "Epoch 11/500\n",
            "33/33 [==============================] - 1s 38ms/step - loss: 0.0027 - mae: 0.0444 - val_loss: 0.0021 - val_mae: 0.0363\n",
            "Epoch 12/500\n",
            "33/33 [==============================] - 1s 38ms/step - loss: 0.0029 - mae: 0.0498 - val_loss: 0.0020 - val_mae: 0.0346\n",
            "Epoch 13/500\n",
            "33/33 [==============================] - 2s 47ms/step - loss: 0.0026 - mae: 0.0435 - val_loss: 0.0026 - val_mae: 0.0441\n",
            "Epoch 14/500\n",
            "33/33 [==============================] - 2s 63ms/step - loss: 0.0027 - mae: 0.0448 - val_loss: 0.0019 - val_mae: 0.0353\n",
            "Epoch 15/500\n",
            "33/33 [==============================] - 1s 38ms/step - loss: 0.0028 - mae: 0.0462 - val_loss: 0.0022 - val_mae: 0.0434\n",
            "Epoch 16/500\n",
            "33/33 [==============================] - 1s 39ms/step - loss: 0.0027 - mae: 0.0461 - val_loss: 0.0023 - val_mae: 0.0418\n",
            "Epoch 17/500\n",
            "33/33 [==============================] - 1s 40ms/step - loss: 0.0027 - mae: 0.0446 - val_loss: 0.0019 - val_mae: 0.0337\n",
            "Epoch 18/500\n",
            "33/33 [==============================] - 1s 40ms/step - loss: 0.0026 - mae: 0.0431 - val_loss: 0.0021 - val_mae: 0.0392\n",
            "Epoch 19/500\n",
            "33/33 [==============================] - 1s 37ms/step - loss: 0.0025 - mae: 0.0425 - val_loss: 0.0018 - val_mae: 0.0297\n",
            "Epoch 20/500\n",
            "33/33 [==============================] - 1s 41ms/step - loss: 0.0025 - mae: 0.0420 - val_loss: 0.0020 - val_mae: 0.0345\n",
            "Epoch 21/500\n",
            "33/33 [==============================] - 2s 46ms/step - loss: 0.0026 - mae: 0.0426 - val_loss: 0.0021 - val_mae: 0.0372\n",
            "Epoch 22/500\n",
            "33/33 [==============================] - 1s 38ms/step - loss: 0.0029 - mae: 0.0465 - val_loss: 0.0020 - val_mae: 0.0372\n",
            "Epoch 23/500\n",
            "33/33 [==============================] - 1s 38ms/step - loss: 0.0026 - mae: 0.0447 - val_loss: 0.0019 - val_mae: 0.0322\n",
            "Epoch 24/500\n",
            "33/33 [==============================] - 1s 36ms/step - loss: 0.0026 - mae: 0.0450 - val_loss: 0.0020 - val_mae: 0.0349\n",
            "Epoch 25/500\n",
            "33/33 [==============================] - 1s 36ms/step - loss: 0.0027 - mae: 0.0454 - val_loss: 0.0019 - val_mae: 0.0368\n",
            "Epoch 26/500\n",
            "33/33 [==============================] - 1s 37ms/step - loss: 0.0026 - mae: 0.0450 - val_loss: 0.0017 - val_mae: 0.0306\n",
            "Epoch 27/500\n",
            "33/33 [==============================] - 2s 51ms/step - loss: 0.0025 - mae: 0.0429 - val_loss: 0.0020 - val_mae: 0.0398\n",
            "Epoch 28/500\n",
            "33/33 [==============================] - 2s 62ms/step - loss: 0.0026 - mae: 0.0422 - val_loss: 0.0020 - val_mae: 0.0402\n",
            "Epoch 29/500\n",
            "33/33 [==============================] - 1s 37ms/step - loss: 0.0025 - mae: 0.0425 - val_loss: 0.0019 - val_mae: 0.0355\n",
            "Epoch 30/500\n",
            "33/33 [==============================] - 1s 37ms/step - loss: 0.0025 - mae: 0.0431 - val_loss: 0.0021 - val_mae: 0.0377\n",
            "Epoch 31/500\n",
            "33/33 [==============================] - 1s 39ms/step - loss: 0.0025 - mae: 0.0405 - val_loss: 0.0019 - val_mae: 0.0360\n",
            "Epoch 32/500\n",
            "33/33 [==============================] - 1s 36ms/step - loss: 0.0025 - mae: 0.0426 - val_loss: 0.0021 - val_mae: 0.0392\n",
            "Epoch 33/500\n",
            "33/33 [==============================] - 1s 36ms/step - loss: 0.0026 - mae: 0.0443 - val_loss: 0.0021 - val_mae: 0.0375\n",
            "Epoch 34/500\n",
            "33/33 [==============================] - 1s 38ms/step - loss: 0.0025 - mae: 0.0427 - val_loss: 0.0021 - val_mae: 0.0389\n",
            "Epoch 35/500\n",
            "33/33 [==============================] - 1s 38ms/step - loss: 0.0025 - mae: 0.0414 - val_loss: 0.0018 - val_mae: 0.0331\n",
            "Epoch 36/500\n",
            "33/33 [==============================] - 2s 64ms/step - loss: 0.0027 - mae: 0.0454 - val_loss: 0.0024 - val_mae: 0.0451\n",
            "Epoch 37/500\n",
            "33/33 [==============================] - 1s 38ms/step - loss: 0.0027 - mae: 0.0464 - val_loss: 0.0018 - val_mae: 0.0325\n",
            "Epoch 38/500\n",
            "33/33 [==============================] - 1s 38ms/step - loss: 0.0025 - mae: 0.0422 - val_loss: 0.0020 - val_mae: 0.0349\n",
            "Epoch 39/500\n",
            "33/33 [==============================] - 1s 37ms/step - loss: 0.0026 - mae: 0.0442 - val_loss: 0.0020 - val_mae: 0.0354\n",
            "Epoch 40/500\n",
            "33/33 [==============================] - 1s 37ms/step - loss: 0.0026 - mae: 0.0444 - val_loss: 0.0019 - val_mae: 0.0345\n",
            "Epoch 41/500\n",
            "33/33 [==============================] - 1s 36ms/step - loss: 0.0025 - mae: 0.0426 - val_loss: 0.0025 - val_mae: 0.0483\n",
            "Epoch 42/500\n",
            "33/33 [==============================] - 1s 37ms/step - loss: 0.0026 - mae: 0.0465 - val_loss: 0.0017 - val_mae: 0.0282\n",
            "Epoch 43/500\n",
            "33/33 [==============================] - 2s 47ms/step - loss: 0.0028 - mae: 0.0480 - val_loss: 0.0019 - val_mae: 0.0331\n",
            "Epoch 44/500\n",
            "33/33 [==============================] - 2s 47ms/step - loss: 0.0024 - mae: 0.0395 - val_loss: 0.0019 - val_mae: 0.0352\n",
            "Epoch 45/500\n",
            "33/33 [==============================] - 1s 39ms/step - loss: 0.0025 - mae: 0.0433 - val_loss: 0.0018 - val_mae: 0.0305\n",
            "Epoch 46/500\n",
            "33/33 [==============================] - 1s 37ms/step - loss: 0.0026 - mae: 0.0439 - val_loss: 0.0024 - val_mae: 0.0443\n",
            "Epoch 47/500\n",
            "33/33 [==============================] - 1s 37ms/step - loss: 0.0025 - mae: 0.0425 - val_loss: 0.0022 - val_mae: 0.0408\n",
            "Epoch 48/500\n",
            "33/33 [==============================] - 1s 38ms/step - loss: 0.0025 - mae: 0.0418 - val_loss: 0.0018 - val_mae: 0.0321\n",
            "Epoch 49/500\n",
            "33/33 [==============================] - 1s 37ms/step - loss: 0.0025 - mae: 0.0416 - val_loss: 0.0024 - val_mae: 0.0455\n",
            "Epoch 50/500\n",
            "33/33 [==============================] - 1s 39ms/step - loss: 0.0025 - mae: 0.0418 - val_loss: 0.0018 - val_mae: 0.0318\n",
            "Epoch 51/500\n",
            "33/33 [==============================] - 2s 49ms/step - loss: 0.0025 - mae: 0.0422 - val_loss: 0.0020 - val_mae: 0.0362\n",
            "Epoch 52/500\n",
            "33/33 [==============================] - 1s 37ms/step - loss: 0.0025 - mae: 0.0418 - val_loss: 0.0024 - val_mae: 0.0470\n",
            "Epoch 53/500\n",
            "33/33 [==============================] - 1s 38ms/step - loss: 0.0025 - mae: 0.0434 - val_loss: 0.0020 - val_mae: 0.0399\n",
            "Epoch 54/500\n",
            "33/33 [==============================] - 1s 36ms/step - loss: 0.0024 - mae: 0.0412 - val_loss: 0.0020 - val_mae: 0.0383\n",
            "Epoch 55/500\n",
            "33/33 [==============================] - 1s 36ms/step - loss: 0.0023 - mae: 0.0401 - val_loss: 0.0020 - val_mae: 0.0358\n",
            "Epoch 56/500\n",
            "33/33 [==============================] - 2s 51ms/step - loss: 0.0024 - mae: 0.0395 - val_loss: 0.0021 - val_mae: 0.0428\n",
            "Epoch 57/500\n",
            "33/33 [==============================] - 2s 45ms/step - loss: 0.0024 - mae: 0.0421 - val_loss: 0.0018 - val_mae: 0.0331\n",
            "Epoch 58/500\n",
            "33/33 [==============================] - 1s 37ms/step - loss: 0.0023 - mae: 0.0398 - val_loss: 0.0021 - val_mae: 0.0400\n",
            "Epoch 59/500\n",
            "33/33 [==============================] - 1s 37ms/step - loss: 0.0024 - mae: 0.0416 - val_loss: 0.0018 - val_mae: 0.0289\n",
            "Epoch 60/500\n",
            "33/33 [==============================] - 1s 38ms/step - loss: 0.0024 - mae: 0.0402 - val_loss: 0.0018 - val_mae: 0.0316\n",
            "Epoch 61/500\n",
            "33/33 [==============================] - 1s 38ms/step - loss: 0.0024 - mae: 0.0399 - val_loss: 0.0019 - val_mae: 0.0339\n",
            "Epoch 62/500\n",
            "33/33 [==============================] - 4s 122ms/step - loss: 0.0023 - mae: 0.0392 - val_loss: 0.0020 - val_mae: 0.0352\n",
            "Epoch 63/500\n",
            "33/33 [==============================] - 5s 132ms/step - loss: 0.0026 - mae: 0.0444 - val_loss: 0.0018 - val_mae: 0.0310\n",
            "Epoch 64/500\n",
            "33/33 [==============================] - 4s 132ms/step - loss: 0.0023 - mae: 0.0401 - val_loss: 0.0018 - val_mae: 0.0321\n",
            "Epoch 65/500\n",
            "33/33 [==============================] - 2s 51ms/step - loss: 0.0023 - mae: 0.0411 - val_loss: 0.0020 - val_mae: 0.0363\n",
            "Epoch 66/500\n",
            "33/33 [==============================] - 1s 39ms/step - loss: 0.0025 - mae: 0.0415 - val_loss: 0.0020 - val_mae: 0.0341\n",
            "Epoch 67/500\n",
            "33/33 [==============================] - 2s 50ms/step - loss: 0.0024 - mae: 0.0410 - val_loss: 0.0019 - val_mae: 0.0354\n",
            "Epoch 68/500\n",
            "33/33 [==============================] - 1s 38ms/step - loss: 0.0025 - mae: 0.0424 - val_loss: 0.0021 - val_mae: 0.0401\n",
            "Epoch 69/500\n",
            "33/33 [==============================] - 1s 37ms/step - loss: 0.0023 - mae: 0.0410 - val_loss: 0.0021 - val_mae: 0.0377\n",
            "Epoch 70/500\n",
            "33/33 [==============================] - 1s 38ms/step - loss: 0.0024 - mae: 0.0423 - val_loss: 0.0020 - val_mae: 0.0358\n",
            "Epoch 71/500\n",
            "33/33 [==============================] - 1s 38ms/step - loss: 0.0024 - mae: 0.0412 - val_loss: 0.0018 - val_mae: 0.0322\n",
            "Epoch 72/500\n",
            "33/33 [==============================] - 2s 58ms/step - loss: 0.0024 - mae: 0.0418 - val_loss: 0.0018 - val_mae: 0.0346\n",
            "Epoch 73/500\n",
            "33/33 [==============================] - 2s 44ms/step - loss: 0.0025 - mae: 0.0410 - val_loss: 0.0019 - val_mae: 0.0363\n",
            "Epoch 74/500\n",
            "33/33 [==============================] - 1s 38ms/step - loss: 0.0024 - mae: 0.0422 - val_loss: 0.0020 - val_mae: 0.0394\n",
            "Epoch 75/500\n",
            "33/33 [==============================] - 1s 37ms/step - loss: 0.0023 - mae: 0.0408 - val_loss: 0.0023 - val_mae: 0.0396\n",
            "Epoch 76/500\n",
            "33/33 [==============================] - 1s 37ms/step - loss: 0.0025 - mae: 0.0442 - val_loss: 0.0020 - val_mae: 0.0342\n",
            "Epoch 77/500\n",
            "33/33 [==============================] - 1s 38ms/step - loss: 0.0024 - mae: 0.0400 - val_loss: 0.0019 - val_mae: 0.0360\n",
            "Epoch 78/500\n",
            "33/33 [==============================] - 1s 38ms/step - loss: 0.0024 - mae: 0.0404 - val_loss: 0.0020 - val_mae: 0.0398\n",
            "Epoch 79/500\n",
            "33/33 [==============================] - 2s 63ms/step - loss: 0.0023 - mae: 0.0407 - val_loss: 0.0018 - val_mae: 0.0329\n",
            "Epoch 80/500\n",
            "33/33 [==============================] - 1s 41ms/step - loss: 0.0024 - mae: 0.0400 - val_loss: 0.0020 - val_mae: 0.0347\n",
            "Epoch 81/500\n",
            "33/33 [==============================] - 1s 36ms/step - loss: 0.0025 - mae: 0.0424 - val_loss: 0.0017 - val_mae: 0.0299\n",
            "Epoch 82/500\n",
            "33/33 [==============================] - 1s 39ms/step - loss: 0.0023 - mae: 0.0399 - val_loss: 0.0020 - val_mae: 0.0343\n",
            "Epoch 83/500\n",
            "33/33 [==============================] - 1s 37ms/step - loss: 0.0023 - mae: 0.0395 - val_loss: 0.0020 - val_mae: 0.0380\n",
            "Epoch 84/500\n",
            "33/33 [==============================] - 1s 37ms/step - loss: 0.0027 - mae: 0.0475 - val_loss: 0.0028 - val_mae: 0.0503\n",
            "Epoch 85/500\n",
            "33/33 [==============================] - 1s 37ms/step - loss: 0.0027 - mae: 0.0472 - val_loss: 0.0020 - val_mae: 0.0373\n",
            "Epoch 86/500\n",
            "33/33 [==============================] - 1s 38ms/step - loss: 0.0024 - mae: 0.0426 - val_loss: 0.0019 - val_mae: 0.0331\n",
            "Epoch 87/500\n",
            "33/33 [==============================] - 2s 63ms/step - loss: 0.0025 - mae: 0.0439 - val_loss: 0.0022 - val_mae: 0.0403\n",
            "Epoch 88/500\n",
            "33/33 [==============================] - 2s 46ms/step - loss: 0.0025 - mae: 0.0417 - val_loss: 0.0026 - val_mae: 0.0528\n",
            "Epoch 89/500\n",
            "33/33 [==============================] - 1s 39ms/step - loss: 0.0027 - mae: 0.0443 - val_loss: 0.0018 - val_mae: 0.0304\n",
            "Epoch 90/500\n",
            "33/33 [==============================] - 1s 36ms/step - loss: 0.0023 - mae: 0.0400 - val_loss: 0.0020 - val_mae: 0.0364\n",
            "Epoch 91/500\n",
            "33/33 [==============================] - 1s 37ms/step - loss: 0.0023 - mae: 0.0408 - val_loss: 0.0019 - val_mae: 0.0374\n",
            "Epoch 92/500\n",
            "33/33 [==============================] - 1s 37ms/step - loss: 0.0024 - mae: 0.0410 - val_loss: 0.0019 - val_mae: 0.0329\n",
            "3/3 [==============================] - 0s 12ms/step - loss: 0.0017 - mae: 0.0282\n"
          ]
        },
        {
          "output_type": "execute_result",
          "data": {
            "text/plain": [
              "28221.752494573593"
            ]
          },
          "metadata": {},
          "execution_count": 39
        }
      ]
    },
    {
      "cell_type": "markdown",
      "source": [
        "## Forecasting Using a Deep RNN"
      ],
      "metadata": {
        "id": "OUKMaqc6cP_q"
      }
    },
    {
      "cell_type": "code",
      "source": [
        "tf.random.set_seed(42)  # extra code – ensures reproducibility\n",
        "deep_model = tf.keras.Sequential([\n",
        "    tf.keras.layers.SimpleRNN(32, return_sequences=True, input_shape=[None, 1]),\n",
        "    tf.keras.layers.SimpleRNN(32, return_sequences=True),\n",
        "    tf.keras.layers.SimpleRNN(32),\n",
        "    tf.keras.layers.Dense(1)\n",
        "])"
      ],
      "metadata": {
        "id": "fBINxg2GcRAZ"
      },
      "execution_count": null,
      "outputs": []
    },
    {
      "cell_type": "code",
      "source": [
        "# compiles, fits, and evaluates the model, like earlier\n",
        "fit_and_evaluate(deep_model, train_ds, valid_ds, learning_rate=0.01)"
      ],
      "metadata": {
        "colab": {
          "base_uri": "https://localhost:8080/"
        },
        "id": "7CxkBHbEgtm5",
        "outputId": "513ccde3-eda7-48a8-a6a0-f78f0531f9d0"
      },
      "execution_count": null,
      "outputs": [
        {
          "output_type": "stream",
          "name": "stdout",
          "text": [
            "Epoch 1/500\n",
            "33/33 [==============================] - 10s 203ms/step - loss: 0.0748 - mae: 0.2657 - val_loss: 0.0139 - val_mae: 0.1544\n",
            "Epoch 2/500\n",
            "33/33 [==============================] - 4s 125ms/step - loss: 0.0145 - mae: 0.1462 - val_loss: 0.0113 - val_mae: 0.1228\n",
            "Epoch 3/500\n",
            "33/33 [==============================] - 4s 132ms/step - loss: 0.0118 - mae: 0.1303 - val_loss: 0.0088 - val_mae: 0.1000\n",
            "Epoch 4/500\n",
            "33/33 [==============================] - 5s 149ms/step - loss: 0.0105 - mae: 0.1186 - val_loss: 0.0069 - val_mae: 0.1030\n",
            "Epoch 5/500\n",
            "33/33 [==============================] - 4s 132ms/step - loss: 0.0076 - mae: 0.0964 - val_loss: 0.0054 - val_mae: 0.0850\n",
            "Epoch 6/500\n",
            "33/33 [==============================] - 6s 178ms/step - loss: 0.0064 - mae: 0.0852 - val_loss: 0.0044 - val_mae: 0.0771\n",
            "Epoch 7/500\n",
            "33/33 [==============================] - 4s 126ms/step - loss: 0.0064 - mae: 0.0849 - val_loss: 0.0053 - val_mae: 0.0840\n",
            "Epoch 8/500\n",
            "33/33 [==============================] - 4s 129ms/step - loss: 0.0058 - mae: 0.0792 - val_loss: 0.0048 - val_mae: 0.0793\n",
            "Epoch 9/500\n",
            "33/33 [==============================] - 6s 170ms/step - loss: 0.0057 - mae: 0.0784 - val_loss: 0.0040 - val_mae: 0.0712\n",
            "Epoch 10/500\n",
            "33/33 [==============================] - 4s 132ms/step - loss: 0.0055 - mae: 0.0769 - val_loss: 0.0030 - val_mae: 0.0613\n",
            "Epoch 11/500\n",
            "33/33 [==============================] - 6s 179ms/step - loss: 0.0054 - mae: 0.0754 - val_loss: 0.0036 - val_mae: 0.0662\n",
            "Epoch 12/500\n",
            "33/33 [==============================] - 4s 129ms/step - loss: 0.0052 - mae: 0.0734 - val_loss: 0.0036 - val_mae: 0.0663\n",
            "Epoch 13/500\n",
            "33/33 [==============================] - 4s 130ms/step - loss: 0.0053 - mae: 0.0731 - val_loss: 0.0027 - val_mae: 0.0571\n",
            "Epoch 14/500\n",
            "33/33 [==============================] - 8s 231ms/step - loss: 0.0047 - mae: 0.0682 - val_loss: 0.0030 - val_mae: 0.0588\n",
            "Epoch 15/500\n",
            "33/33 [==============================] - 5s 135ms/step - loss: 0.0044 - mae: 0.0649 - val_loss: 0.0045 - val_mae: 0.0732\n",
            "Epoch 16/500\n",
            "33/33 [==============================] - 6s 168ms/step - loss: 0.0044 - mae: 0.0639 - val_loss: 0.0024 - val_mae: 0.0503\n",
            "Epoch 17/500\n",
            "33/33 [==============================] - 4s 131ms/step - loss: 0.0049 - mae: 0.0705 - val_loss: 0.0031 - val_mae: 0.0573\n",
            "Epoch 18/500\n",
            "33/33 [==============================] - 7s 204ms/step - loss: 0.0044 - mae: 0.0647 - val_loss: 0.0038 - val_mae: 0.0670\n",
            "Epoch 19/500\n",
            "33/33 [==============================] - 4s 132ms/step - loss: 0.0042 - mae: 0.0624 - val_loss: 0.0022 - val_mae: 0.0459\n",
            "Epoch 20/500\n",
            "33/33 [==============================] - 4s 126ms/step - loss: 0.0040 - mae: 0.0590 - val_loss: 0.0025 - val_mae: 0.0483\n",
            "Epoch 21/500\n",
            "33/33 [==============================] - 6s 175ms/step - loss: 0.0039 - mae: 0.0588 - val_loss: 0.0020 - val_mae: 0.0412\n",
            "Epoch 22/500\n",
            "33/33 [==============================] - 4s 130ms/step - loss: 0.0042 - mae: 0.0629 - val_loss: 0.0025 - val_mae: 0.0499\n",
            "Epoch 23/500\n",
            "33/33 [==============================] - 6s 183ms/step - loss: 0.0038 - mae: 0.0574 - val_loss: 0.0019 - val_mae: 0.0379\n",
            "Epoch 24/500\n",
            "33/33 [==============================] - 4s 130ms/step - loss: 0.0037 - mae: 0.0555 - val_loss: 0.0021 - val_mae: 0.0402\n",
            "Epoch 25/500\n",
            "33/33 [==============================] - 4s 133ms/step - loss: 0.0035 - mae: 0.0537 - val_loss: 0.0019 - val_mae: 0.0365\n",
            "Epoch 26/500\n",
            "33/33 [==============================] - 6s 183ms/step - loss: 0.0035 - mae: 0.0538 - val_loss: 0.0025 - val_mae: 0.0467\n",
            "Epoch 27/500\n",
            "33/33 [==============================] - 4s 133ms/step - loss: 0.0034 - mae: 0.0512 - val_loss: 0.0021 - val_mae: 0.0411\n",
            "Epoch 28/500\n",
            "33/33 [==============================] - 6s 178ms/step - loss: 0.0037 - mae: 0.0579 - val_loss: 0.0020 - val_mae: 0.0367\n",
            "Epoch 29/500\n",
            "33/33 [==============================] - 5s 135ms/step - loss: 0.0036 - mae: 0.0540 - val_loss: 0.0030 - val_mae: 0.0571\n",
            "Epoch 30/500\n",
            "33/33 [==============================] - 4s 130ms/step - loss: 0.0033 - mae: 0.0496 - val_loss: 0.0019 - val_mae: 0.0357\n",
            "Epoch 31/500\n",
            "33/33 [==============================] - 6s 180ms/step - loss: 0.0040 - mae: 0.0607 - val_loss: 0.0034 - val_mae: 0.0633\n",
            "Epoch 32/500\n",
            "33/33 [==============================] - 4s 132ms/step - loss: 0.0035 - mae: 0.0540 - val_loss: 0.0025 - val_mae: 0.0488\n",
            "Epoch 33/500\n",
            "33/33 [==============================] - 6s 171ms/step - loss: 0.0033 - mae: 0.0498 - val_loss: 0.0019 - val_mae: 0.0339\n",
            "Epoch 34/500\n",
            "33/33 [==============================] - 9s 262ms/step - loss: 0.0032 - mae: 0.0484 - val_loss: 0.0021 - val_mae: 0.0385\n",
            "Epoch 35/500\n",
            "33/33 [==============================] - 8s 229ms/step - loss: 0.0031 - mae: 0.0478 - val_loss: 0.0019 - val_mae: 0.0358\n",
            "Epoch 36/500\n",
            "33/33 [==============================] - 5s 139ms/step - loss: 0.0031 - mae: 0.0486 - val_loss: 0.0021 - val_mae: 0.0376\n",
            "Epoch 37/500\n",
            "33/33 [==============================] - 6s 194ms/step - loss: 0.0031 - mae: 0.0481 - val_loss: 0.0019 - val_mae: 0.0324\n",
            "Epoch 38/500\n",
            "33/33 [==============================] - 5s 140ms/step - loss: 0.0031 - mae: 0.0494 - val_loss: 0.0028 - val_mae: 0.0536\n",
            "Epoch 39/500\n",
            "33/33 [==============================] - 8s 240ms/step - loss: 0.0032 - mae: 0.0504 - val_loss: 0.0020 - val_mae: 0.0370\n",
            "Epoch 40/500\n",
            "33/33 [==============================] - 8s 233ms/step - loss: 0.0031 - mae: 0.0491 - val_loss: 0.0019 - val_mae: 0.0323\n",
            "Epoch 41/500\n",
            "33/33 [==============================] - 5s 139ms/step - loss: 0.0031 - mae: 0.0479 - val_loss: 0.0019 - val_mae: 0.0329\n",
            "Epoch 42/500\n",
            "33/33 [==============================] - 6s 180ms/step - loss: 0.0030 - mae: 0.0466 - val_loss: 0.0018 - val_mae: 0.0320\n",
            "Epoch 43/500\n",
            "33/33 [==============================] - 5s 148ms/step - loss: 0.0030 - mae: 0.0474 - val_loss: 0.0020 - val_mae: 0.0363\n",
            "Epoch 44/500\n",
            "33/33 [==============================] - 5s 137ms/step - loss: 0.0031 - mae: 0.0482 - val_loss: 0.0025 - val_mae: 0.0463\n",
            "Epoch 45/500\n",
            "33/33 [==============================] - 6s 188ms/step - loss: 0.0030 - mae: 0.0488 - val_loss: 0.0020 - val_mae: 0.0350\n",
            "Epoch 46/500\n",
            "33/33 [==============================] - 5s 135ms/step - loss: 0.0031 - mae: 0.0495 - val_loss: 0.0021 - val_mae: 0.0377\n",
            "Epoch 47/500\n",
            "33/33 [==============================] - 6s 178ms/step - loss: 0.0029 - mae: 0.0474 - val_loss: 0.0023 - val_mae: 0.0435\n",
            "Epoch 48/500\n",
            "33/33 [==============================] - 4s 131ms/step - loss: 0.0032 - mae: 0.0523 - val_loss: 0.0019 - val_mae: 0.0326\n",
            "Epoch 49/500\n",
            "33/33 [==============================] - 6s 184ms/step - loss: 0.0029 - mae: 0.0459 - val_loss: 0.0019 - val_mae: 0.0315\n",
            "Epoch 50/500\n",
            "33/33 [==============================] - 8s 251ms/step - loss: 0.0029 - mae: 0.0448 - val_loss: 0.0018 - val_mae: 0.0336\n",
            "Epoch 51/500\n",
            "33/33 [==============================] - 5s 137ms/step - loss: 0.0028 - mae: 0.0455 - val_loss: 0.0020 - val_mae: 0.0356\n",
            "Epoch 52/500\n",
            "33/33 [==============================] - 5s 137ms/step - loss: 0.0030 - mae: 0.0489 - val_loss: 0.0029 - val_mae: 0.0539\n",
            "Epoch 53/500\n",
            "33/33 [==============================] - 6s 187ms/step - loss: 0.0028 - mae: 0.0447 - val_loss: 0.0018 - val_mae: 0.0302\n",
            "Epoch 54/500\n",
            "33/33 [==============================] - 5s 139ms/step - loss: 0.0027 - mae: 0.0430 - val_loss: 0.0018 - val_mae: 0.0322\n",
            "Epoch 55/500\n",
            "33/33 [==============================] - 6s 163ms/step - loss: 0.0029 - mae: 0.0484 - val_loss: 0.0018 - val_mae: 0.0314\n",
            "Epoch 56/500\n",
            "33/33 [==============================] - 4s 133ms/step - loss: 0.0030 - mae: 0.0498 - val_loss: 0.0021 - val_mae: 0.0370\n",
            "Epoch 57/500\n",
            "33/33 [==============================] - 6s 191ms/step - loss: 0.0028 - mae: 0.0442 - val_loss: 0.0018 - val_mae: 0.0307\n",
            "Epoch 58/500\n",
            "33/33 [==============================] - 5s 135ms/step - loss: 0.0027 - mae: 0.0433 - val_loss: 0.0018 - val_mae: 0.0311\n",
            "Epoch 59/500\n",
            "33/33 [==============================] - 5s 137ms/step - loss: 0.0028 - mae: 0.0453 - val_loss: 0.0019 - val_mae: 0.0308\n",
            "Epoch 60/500\n",
            "33/33 [==============================] - 6s 169ms/step - loss: 0.0031 - mae: 0.0504 - val_loss: 0.0018 - val_mae: 0.0297\n",
            "Epoch 61/500\n",
            "33/33 [==============================] - 6s 190ms/step - loss: 0.0027 - mae: 0.0432 - val_loss: 0.0018 - val_mae: 0.0304\n",
            "Epoch 62/500\n",
            "33/33 [==============================] - 5s 134ms/step - loss: 0.0028 - mae: 0.0447 - val_loss: 0.0019 - val_mae: 0.0311\n",
            "Epoch 63/500\n",
            "33/33 [==============================] - 8s 231ms/step - loss: 0.0028 - mae: 0.0460 - val_loss: 0.0020 - val_mae: 0.0339\n",
            "Epoch 64/500\n",
            "33/33 [==============================] - 5s 151ms/step - loss: 0.0028 - mae: 0.0451 - val_loss: 0.0018 - val_mae: 0.0303\n",
            "Epoch 65/500\n",
            "33/33 [==============================] - 5s 158ms/step - loss: 0.0027 - mae: 0.0434 - val_loss: 0.0022 - val_mae: 0.0408\n",
            "Epoch 66/500\n",
            "33/33 [==============================] - 4s 133ms/step - loss: 0.0028 - mae: 0.0448 - val_loss: 0.0021 - val_mae: 0.0356\n",
            "Epoch 67/500\n",
            "33/33 [==============================] - 6s 181ms/step - loss: 0.0028 - mae: 0.0459 - val_loss: 0.0024 - val_mae: 0.0442\n",
            "Epoch 68/500\n",
            "33/33 [==============================] - 4s 129ms/step - loss: 0.0028 - mae: 0.0468 - val_loss: 0.0018 - val_mae: 0.0293\n",
            "Epoch 69/500\n",
            "33/33 [==============================] - 4s 132ms/step - loss: 0.0031 - mae: 0.0511 - val_loss: 0.0019 - val_mae: 0.0329\n",
            "Epoch 70/500\n",
            "33/33 [==============================] - 6s 182ms/step - loss: 0.0029 - mae: 0.0478 - val_loss: 0.0018 - val_mae: 0.0306\n",
            "Epoch 71/500\n",
            "33/33 [==============================] - 4s 132ms/step - loss: 0.0027 - mae: 0.0445 - val_loss: 0.0019 - val_mae: 0.0315\n",
            "Epoch 72/500\n",
            "33/33 [==============================] - 6s 170ms/step - loss: 0.0028 - mae: 0.0452 - val_loss: 0.0020 - val_mae: 0.0377\n",
            "Epoch 73/500\n",
            "33/33 [==============================] - 4s 131ms/step - loss: 0.0026 - mae: 0.0430 - val_loss: 0.0018 - val_mae: 0.0305\n",
            "Epoch 74/500\n",
            "33/33 [==============================] - 6s 181ms/step - loss: 0.0028 - mae: 0.0455 - val_loss: 0.0018 - val_mae: 0.0302\n",
            "Epoch 75/500\n",
            "33/33 [==============================] - 5s 139ms/step - loss: 0.0029 - mae: 0.0485 - val_loss: 0.0018 - val_mae: 0.0298\n",
            "Epoch 76/500\n",
            "33/33 [==============================] - 6s 168ms/step - loss: 0.0027 - mae: 0.0441 - val_loss: 0.0019 - val_mae: 0.0303\n",
            "Epoch 77/500\n",
            "33/33 [==============================] - 4s 132ms/step - loss: 0.0026 - mae: 0.0424 - val_loss: 0.0018 - val_mae: 0.0302\n",
            "Epoch 78/500\n",
            "33/33 [==============================] - 6s 182ms/step - loss: 0.0028 - mae: 0.0467 - val_loss: 0.0019 - val_mae: 0.0324\n",
            "Epoch 79/500\n",
            "33/33 [==============================] - 10s 309ms/step - loss: 0.0027 - mae: 0.0447 - val_loss: 0.0020 - val_mae: 0.0348\n",
            "Epoch 80/500\n",
            "33/33 [==============================] - 11s 314ms/step - loss: 0.0029 - mae: 0.0478 - val_loss: 0.0018 - val_mae: 0.0295\n",
            "Epoch 81/500\n",
            "33/33 [==============================] - 10s 298ms/step - loss: 0.0025 - mae: 0.0404 - val_loss: 0.0017 - val_mae: 0.0307\n",
            "Epoch 82/500\n",
            "33/33 [==============================] - 5s 142ms/step - loss: 0.0027 - mae: 0.0450 - val_loss: 0.0031 - val_mae: 0.0579\n",
            "Epoch 83/500\n",
            "33/33 [==============================] - 6s 175ms/step - loss: 0.0028 - mae: 0.0456 - val_loss: 0.0018 - val_mae: 0.0309\n",
            "Epoch 84/500\n",
            "33/33 [==============================] - 6s 177ms/step - loss: 0.0026 - mae: 0.0436 - val_loss: 0.0020 - val_mae: 0.0404\n",
            "Epoch 85/500\n",
            "33/33 [==============================] - 6s 177ms/step - loss: 0.0029 - mae: 0.0481 - val_loss: 0.0018 - val_mae: 0.0301\n",
            "Epoch 86/500\n",
            "33/33 [==============================] - 4s 129ms/step - loss: 0.0027 - mae: 0.0450 - val_loss: 0.0018 - val_mae: 0.0299\n",
            "Epoch 87/500\n",
            "33/33 [==============================] - 4s 128ms/step - loss: 0.0027 - mae: 0.0448 - val_loss: 0.0019 - val_mae: 0.0350\n",
            "Epoch 88/500\n",
            "33/33 [==============================] - 7s 223ms/step - loss: 0.0030 - mae: 0.0495 - val_loss: 0.0018 - val_mae: 0.0302\n",
            "Epoch 89/500\n",
            "33/33 [==============================] - 9s 262ms/step - loss: 0.0027 - mae: 0.0443 - val_loss: 0.0018 - val_mae: 0.0316\n",
            "Epoch 90/500\n",
            "33/33 [==============================] - 8s 247ms/step - loss: 0.0026 - mae: 0.0421 - val_loss: 0.0019 - val_mae: 0.0324\n",
            "Epoch 91/500\n",
            "33/33 [==============================] - 9s 285ms/step - loss: 0.0027 - mae: 0.0441 - val_loss: 0.0018 - val_mae: 0.0302\n",
            "Epoch 92/500\n",
            "33/33 [==============================] - 10s 297ms/step - loss: 0.0027 - mae: 0.0441 - val_loss: 0.0019 - val_mae: 0.0337\n",
            "Epoch 93/500\n",
            "33/33 [==============================] - 4s 130ms/step - loss: 0.0025 - mae: 0.0413 - val_loss: 0.0022 - val_mae: 0.0388\n",
            "Epoch 94/500\n",
            "33/33 [==============================] - 5s 159ms/step - loss: 0.0026 - mae: 0.0435 - val_loss: 0.0022 - val_mae: 0.0394\n",
            "Epoch 95/500\n",
            "33/33 [==============================] - 5s 142ms/step - loss: 0.0026 - mae: 0.0430 - val_loss: 0.0017 - val_mae: 0.0293\n",
            "Epoch 96/500\n",
            "33/33 [==============================] - 4s 126ms/step - loss: 0.0025 - mae: 0.0413 - val_loss: 0.0024 - val_mae: 0.0454\n",
            "Epoch 97/500\n",
            "33/33 [==============================] - 6s 178ms/step - loss: 0.0026 - mae: 0.0421 - val_loss: 0.0017 - val_mae: 0.0295\n",
            "Epoch 98/500\n",
            "33/33 [==============================] - 4s 129ms/step - loss: 0.0026 - mae: 0.0420 - val_loss: 0.0018 - val_mae: 0.0299\n",
            "Epoch 99/500\n",
            "33/33 [==============================] - 5s 137ms/step - loss: 0.0025 - mae: 0.0422 - val_loss: 0.0022 - val_mae: 0.0382\n",
            "Epoch 100/500\n",
            "33/33 [==============================] - 5s 150ms/step - loss: 0.0027 - mae: 0.0452 - val_loss: 0.0020 - val_mae: 0.0342\n",
            "Epoch 101/500\n",
            "33/33 [==============================] - 4s 127ms/step - loss: 0.0026 - mae: 0.0440 - val_loss: 0.0018 - val_mae: 0.0310\n",
            "Epoch 102/500\n",
            "33/33 [==============================] - 6s 182ms/step - loss: 0.0026 - mae: 0.0423 - val_loss: 0.0024 - val_mae: 0.0442\n",
            "Epoch 103/500\n",
            "33/33 [==============================] - 4s 130ms/step - loss: 0.0026 - mae: 0.0420 - val_loss: 0.0020 - val_mae: 0.0351\n",
            "Epoch 104/500\n",
            "33/33 [==============================] - 5s 135ms/step - loss: 0.0025 - mae: 0.0415 - val_loss: 0.0018 - val_mae: 0.0297\n",
            "Epoch 105/500\n",
            "33/33 [==============================] - 5s 148ms/step - loss: 0.0025 - mae: 0.0412 - val_loss: 0.0018 - val_mae: 0.0294\n",
            "Epoch 106/500\n",
            "33/33 [==============================] - 4s 130ms/step - loss: 0.0026 - mae: 0.0416 - val_loss: 0.0020 - val_mae: 0.0341\n",
            "Epoch 107/500\n",
            "33/33 [==============================] - 6s 180ms/step - loss: 0.0031 - mae: 0.0514 - val_loss: 0.0022 - val_mae: 0.0468\n",
            "Epoch 108/500\n",
            "33/33 [==============================] - 4s 133ms/step - loss: 0.0026 - mae: 0.0432 - val_loss: 0.0018 - val_mae: 0.0306\n",
            "Epoch 109/500\n",
            "33/33 [==============================] - 6s 178ms/step - loss: 0.0025 - mae: 0.0401 - val_loss: 0.0017 - val_mae: 0.0304\n",
            "Epoch 110/500\n",
            "33/33 [==============================] - 4s 129ms/step - loss: 0.0026 - mae: 0.0442 - val_loss: 0.0031 - val_mae: 0.0577\n",
            "Epoch 111/500\n",
            "33/33 [==============================] - 7s 206ms/step - loss: 0.0025 - mae: 0.0422 - val_loss: 0.0020 - val_mae: 0.0354\n",
            "Epoch 112/500\n",
            "33/33 [==============================] - 4s 128ms/step - loss: 0.0026 - mae: 0.0439 - val_loss: 0.0021 - val_mae: 0.0386\n",
            "Epoch 113/500\n",
            "33/33 [==============================] - 4s 128ms/step - loss: 0.0026 - mae: 0.0425 - val_loss: 0.0017 - val_mae: 0.0303\n",
            "Epoch 114/500\n",
            "33/33 [==============================] - 6s 178ms/step - loss: 0.0027 - mae: 0.0458 - val_loss: 0.0019 - val_mae: 0.0336\n",
            "Epoch 115/500\n",
            "33/33 [==============================] - 4s 128ms/step - loss: 0.0026 - mae: 0.0439 - val_loss: 0.0018 - val_mae: 0.0323\n",
            "Epoch 116/500\n",
            "33/33 [==============================] - 5s 140ms/step - loss: 0.0025 - mae: 0.0418 - val_loss: 0.0017 - val_mae: 0.0295\n",
            "Epoch 117/500\n",
            "33/33 [==============================] - 6s 163ms/step - loss: 0.0026 - mae: 0.0440 - val_loss: 0.0034 - val_mae: 0.0643\n",
            "Epoch 118/500\n",
            "33/33 [==============================] - 5s 136ms/step - loss: 0.0028 - mae: 0.0482 - val_loss: 0.0020 - val_mae: 0.0356\n",
            "3/3 [==============================] - 0s 18ms/step - loss: 0.0018 - mae: 0.0293\n"
          ]
        },
        {
          "output_type": "execute_result",
          "data": {
            "text/plain": [
              "29312.841594219208"
            ]
          },
          "metadata": {},
          "execution_count": 41
        }
      ]
    },
    {
      "cell_type": "markdown",
      "source": [
        "## Forecasting Multivariate Time Series"
      ],
      "metadata": {
        "id": "ZmcHgA_8hc_B"
      }
    },
    {
      "cell_type": "code",
      "source": [
        "df_mulvar = df[[\"bus\", \"rail\"]] / 1e6  # use both bus & rail series as input\n",
        "df_mulvar[\"next_day_type\"] = df[\"day_type\"].shift(-1)  # we know tomorrow's type\n",
        "df_mulvar = pd.get_dummies(df_mulvar)  # one-hot encode the day type"
      ],
      "metadata": {
        "id": "DQSl6QmKgxUX"
      },
      "execution_count": null,
      "outputs": []
    },
    {
      "cell_type": "code",
      "source": [
        "mulvar_train = df_mulvar[\"2016-01\":\"2018-12\"]\n",
        "mulvar_valid = df_mulvar[\"2019-01\":\"2019-05\"]\n",
        "mulvar_test = df_mulvar[\"2019-06\":]"
      ],
      "metadata": {
        "id": "q-cT5f1VhfCG"
      },
      "execution_count": null,
      "outputs": []
    },
    {
      "cell_type": "code",
      "source": [
        "tf.random.set_seed(42)  # extra code – ensures reproducibility\n",
        "\n",
        "train_mulvar_ds = tf.keras.utils.timeseries_dataset_from_array(\n",
        "    mulvar_train.to_numpy(),  # use all 5 columns as input\n",
        "    targets=mulvar_train[\"rail\"][seq_length:],  # forecast only the rail series\n",
        "    sequence_length=seq_length,\n",
        "    batch_size=32,\n",
        "    shuffle=True,\n",
        "    seed=42\n",
        ")\n",
        "valid_mulvar_ds = tf.keras.utils.timeseries_dataset_from_array(\n",
        "    mulvar_valid.to_numpy(),\n",
        "    targets=mulvar_valid[\"rail\"][seq_length:],\n",
        "    sequence_length=seq_length,\n",
        "    batch_size=32\n",
        ")"
      ],
      "metadata": {
        "id": "ohWIBDGGikFR"
      },
      "execution_count": null,
      "outputs": []
    },
    {
      "cell_type": "code",
      "source": [
        "tf.random.set_seed(42)  # extra code – ensures reproducibility\n",
        "mulvar_model = tf.keras.Sequential([\n",
        "    tf.keras.layers.SimpleRNN(32, input_shape=[None, 5]),\n",
        "    tf.keras.layers.Dense(1)\n",
        "])"
      ],
      "metadata": {
        "id": "YGngSyGwinez"
      },
      "execution_count": null,
      "outputs": []
    },
    {
      "cell_type": "code",
      "source": [
        "# compiles, fits, and evaluates the model, like earlier\n",
        "fit_and_evaluate(mulvar_model, train_mulvar_ds, valid_mulvar_ds,\n",
        "                 learning_rate=0.05)"
      ],
      "metadata": {
        "colab": {
          "base_uri": "https://localhost:8080/"
        },
        "id": "K-Jj7LZMiomy",
        "outputId": "334226b3-f5e3-45a7-b7bc-bb724ac9d522"
      },
      "execution_count": null,
      "outputs": [
        {
          "output_type": "stream",
          "name": "stdout",
          "text": [
            "Epoch 1/500\n",
            "33/33 [==============================] - 3s 46ms/step - loss: 0.0337 - mae: 0.1958 - val_loss: 0.0016 - val_mae: 0.0480\n",
            "Epoch 2/500\n",
            "33/33 [==============================] - 1s 40ms/step - loss: 0.0026 - mae: 0.0537 - val_loss: 9.4778e-04 - val_mae: 0.0320\n",
            "Epoch 3/500\n",
            "33/33 [==============================] - 1s 38ms/step - loss: 0.0018 - mae: 0.0405 - val_loss: 0.0015 - val_mae: 0.0460\n",
            "Epoch 4/500\n",
            "33/33 [==============================] - 1s 39ms/step - loss: 0.0018 - mae: 0.0424 - val_loss: 6.4743e-04 - val_mae: 0.0257\n",
            "Epoch 5/500\n",
            "33/33 [==============================] - 1s 40ms/step - loss: 0.0016 - mae: 0.0392 - val_loss: 0.0013 - val_mae: 0.0408\n",
            "Epoch 6/500\n",
            "33/33 [==============================] - 2s 64ms/step - loss: 0.0015 - mae: 0.0380 - val_loss: 7.6902e-04 - val_mae: 0.0288\n",
            "Epoch 7/500\n",
            "33/33 [==============================] - 2s 43ms/step - loss: 0.0015 - mae: 0.0376 - val_loss: 7.1372e-04 - val_mae: 0.0264\n",
            "Epoch 8/500\n",
            "33/33 [==============================] - 1s 37ms/step - loss: 0.0015 - mae: 0.0377 - val_loss: 6.7361e-04 - val_mae: 0.0263\n",
            "Epoch 9/500\n",
            "33/33 [==============================] - 1s 40ms/step - loss: 0.0014 - mae: 0.0365 - val_loss: 9.3833e-04 - val_mae: 0.0332\n",
            "Epoch 10/500\n",
            "33/33 [==============================] - 1s 40ms/step - loss: 0.0015 - mae: 0.0373 - val_loss: 6.8921e-04 - val_mae: 0.0272\n",
            "Epoch 11/500\n",
            "33/33 [==============================] - 1s 37ms/step - loss: 0.0013 - mae: 0.0352 - val_loss: 0.0013 - val_mae: 0.0412\n",
            "Epoch 12/500\n",
            "33/33 [==============================] - 1s 39ms/step - loss: 0.0014 - mae: 0.0357 - val_loss: 7.0882e-04 - val_mae: 0.0277\n",
            "Epoch 13/500\n",
            "33/33 [==============================] - 1s 43ms/step - loss: 0.0015 - mae: 0.0391 - val_loss: 8.7297e-04 - val_mae: 0.0321\n",
            "Epoch 14/500\n",
            "33/33 [==============================] - 2s 66ms/step - loss: 0.0015 - mae: 0.0377 - val_loss: 6.8731e-04 - val_mae: 0.0269\n",
            "Epoch 15/500\n",
            "33/33 [==============================] - 1s 39ms/step - loss: 0.0014 - mae: 0.0388 - val_loss: 6.5209e-04 - val_mae: 0.0254\n",
            "Epoch 16/500\n",
            "33/33 [==============================] - 1s 38ms/step - loss: 0.0015 - mae: 0.0381 - val_loss: 9.9191e-04 - val_mae: 0.0344\n",
            "Epoch 17/500\n",
            "33/33 [==============================] - 1s 37ms/step - loss: 0.0013 - mae: 0.0358 - val_loss: 7.9856e-04 - val_mae: 0.0296\n",
            "Epoch 18/500\n",
            "33/33 [==============================] - 1s 37ms/step - loss: 0.0014 - mae: 0.0367 - val_loss: 0.0012 - val_mae: 0.0407\n",
            "Epoch 19/500\n",
            "33/33 [==============================] - 1s 36ms/step - loss: 0.0014 - mae: 0.0384 - val_loss: 6.5282e-04 - val_mae: 0.0246\n",
            "Epoch 20/500\n",
            "33/33 [==============================] - 1s 38ms/step - loss: 0.0013 - mae: 0.0355 - val_loss: 0.0015 - val_mae: 0.0457\n",
            "Epoch 21/500\n",
            "33/33 [==============================] - 2s 48ms/step - loss: 0.0013 - mae: 0.0360 - val_loss: 6.3268e-04 - val_mae: 0.0244\n",
            "Epoch 22/500\n",
            "33/33 [==============================] - 2s 67ms/step - loss: 0.0013 - mae: 0.0348 - val_loss: 9.3335e-04 - val_mae: 0.0337\n",
            "Epoch 23/500\n",
            "33/33 [==============================] - 1s 38ms/step - loss: 0.0012 - mae: 0.0337 - val_loss: 7.1768e-04 - val_mae: 0.0274\n",
            "Epoch 24/500\n",
            "33/33 [==============================] - 1s 39ms/step - loss: 0.0012 - mae: 0.0339 - val_loss: 6.7222e-04 - val_mae: 0.0269\n",
            "Epoch 25/500\n",
            "33/33 [==============================] - 1s 39ms/step - loss: 0.0012 - mae: 0.0329 - val_loss: 6.7861e-04 - val_mae: 0.0271\n",
            "Epoch 26/500\n",
            "33/33 [==============================] - 1s 37ms/step - loss: 0.0012 - mae: 0.0345 - val_loss: 6.2182e-04 - val_mae: 0.0246\n",
            "Epoch 27/500\n",
            "33/33 [==============================] - 1s 38ms/step - loss: 0.0011 - mae: 0.0315 - val_loss: 0.0015 - val_mae: 0.0467\n",
            "Epoch 28/500\n",
            "33/33 [==============================] - 2s 46ms/step - loss: 0.0012 - mae: 0.0340 - val_loss: 6.8418e-04 - val_mae: 0.0258\n",
            "Epoch 29/500\n",
            "33/33 [==============================] - 2s 67ms/step - loss: 0.0012 - mae: 0.0347 - val_loss: 6.4241e-04 - val_mae: 0.0245\n",
            "Epoch 30/500\n",
            "33/33 [==============================] - 1s 39ms/step - loss: 0.0013 - mae: 0.0358 - val_loss: 7.7787e-04 - val_mae: 0.0279\n",
            "Epoch 31/500\n",
            "33/33 [==============================] - 1s 37ms/step - loss: 0.0014 - mae: 0.0379 - val_loss: 9.4581e-04 - val_mae: 0.0342\n",
            "Epoch 32/500\n",
            "33/33 [==============================] - 1s 38ms/step - loss: 0.0013 - mae: 0.0355 - val_loss: 9.1434e-04 - val_mae: 0.0328\n",
            "Epoch 33/500\n",
            "33/33 [==============================] - 1s 38ms/step - loss: 0.0012 - mae: 0.0332 - val_loss: 8.1722e-04 - val_mae: 0.0293\n",
            "Epoch 34/500\n",
            "33/33 [==============================] - 1s 39ms/step - loss: 0.0012 - mae: 0.0339 - val_loss: 7.2357e-04 - val_mae: 0.0270\n",
            "Epoch 35/500\n",
            "33/33 [==============================] - 1s 38ms/step - loss: 0.0012 - mae: 0.0329 - val_loss: 6.5996e-04 - val_mae: 0.0258\n",
            "Epoch 36/500\n",
            "33/33 [==============================] - 2s 50ms/step - loss: 0.0011 - mae: 0.0314 - val_loss: 8.2203e-04 - val_mae: 0.0303\n",
            "Epoch 37/500\n",
            "33/33 [==============================] - 2s 62ms/step - loss: 0.0012 - mae: 0.0355 - val_loss: 7.6342e-04 - val_mae: 0.0293\n",
            "Epoch 38/500\n",
            "33/33 [==============================] - 1s 40ms/step - loss: 0.0013 - mae: 0.0361 - val_loss: 7.3655e-04 - val_mae: 0.0276\n",
            "Epoch 39/500\n",
            "33/33 [==============================] - 1s 38ms/step - loss: 0.0011 - mae: 0.0309 - val_loss: 0.0013 - val_mae: 0.0432\n",
            "Epoch 40/500\n",
            "33/33 [==============================] - 1s 38ms/step - loss: 0.0013 - mae: 0.0370 - val_loss: 0.0011 - val_mae: 0.0385\n",
            "Epoch 41/500\n",
            "33/33 [==============================] - 1s 37ms/step - loss: 0.0012 - mae: 0.0335 - val_loss: 8.7468e-04 - val_mae: 0.0309\n",
            "Epoch 42/500\n",
            "33/33 [==============================] - 1s 38ms/step - loss: 0.0011 - mae: 0.0322 - val_loss: 9.0232e-04 - val_mae: 0.0326\n",
            "Epoch 43/500\n",
            "33/33 [==============================] - 1s 37ms/step - loss: 0.0012 - mae: 0.0336 - val_loss: 0.0010 - val_mae: 0.0362\n",
            "Epoch 44/500\n",
            "33/33 [==============================] - 2s 66ms/step - loss: 0.0013 - mae: 0.0376 - val_loss: 9.4259e-04 - val_mae: 0.0332\n",
            "Epoch 45/500\n",
            "33/33 [==============================] - 1s 39ms/step - loss: 0.0012 - mae: 0.0333 - val_loss: 7.8272e-04 - val_mae: 0.0294\n",
            "Epoch 46/500\n",
            "33/33 [==============================] - 1s 37ms/step - loss: 0.0011 - mae: 0.0316 - val_loss: 6.6432e-04 - val_mae: 0.0262\n",
            "Epoch 47/500\n",
            "33/33 [==============================] - 1s 38ms/step - loss: 0.0011 - mae: 0.0302 - val_loss: 6.1480e-04 - val_mae: 0.0238\n",
            "Epoch 48/500\n",
            "33/33 [==============================] - 1s 38ms/step - loss: 0.0011 - mae: 0.0325 - val_loss: 6.0567e-04 - val_mae: 0.0233\n",
            "Epoch 49/500\n",
            "33/33 [==============================] - 1s 37ms/step - loss: 0.0011 - mae: 0.0317 - val_loss: 7.6542e-04 - val_mae: 0.0280\n",
            "Epoch 50/500\n",
            "33/33 [==============================] - 1s 38ms/step - loss: 0.0011 - mae: 0.0316 - val_loss: 7.5013e-04 - val_mae: 0.0274\n",
            "Epoch 51/500\n",
            "33/33 [==============================] - 1s 36ms/step - loss: 0.0012 - mae: 0.0329 - val_loss: 6.7824e-04 - val_mae: 0.0260\n",
            "Epoch 52/500\n",
            "33/33 [==============================] - 2s 50ms/step - loss: 0.0011 - mae: 0.0326 - val_loss: 0.0018 - val_mae: 0.0515\n",
            "Epoch 53/500\n",
            "33/33 [==============================] - 2s 46ms/step - loss: 0.0012 - mae: 0.0334 - val_loss: 8.6152e-04 - val_mae: 0.0320\n",
            "Epoch 54/500\n",
            "33/33 [==============================] - 1s 39ms/step - loss: 0.0014 - mae: 0.0380 - val_loss: 6.7475e-04 - val_mae: 0.0254\n",
            "Epoch 55/500\n",
            "33/33 [==============================] - 1s 38ms/step - loss: 0.0011 - mae: 0.0313 - val_loss: 0.0012 - val_mae: 0.0390\n",
            "Epoch 56/500\n",
            "33/33 [==============================] - 1s 40ms/step - loss: 0.0012 - mae: 0.0332 - val_loss: 6.1264e-04 - val_mae: 0.0241\n",
            "Epoch 57/500\n",
            "33/33 [==============================] - 1s 37ms/step - loss: 0.0012 - mae: 0.0341 - val_loss: 0.0015 - val_mae: 0.0460\n",
            "Epoch 58/500\n",
            "33/33 [==============================] - 1s 36ms/step - loss: 0.0012 - mae: 0.0347 - val_loss: 5.5516e-04 - val_mae: 0.0220\n",
            "Epoch 59/500\n",
            "33/33 [==============================] - 2s 68ms/step - loss: 0.0011 - mae: 0.0303 - val_loss: 0.0015 - val_mae: 0.0476\n",
            "Epoch 60/500\n",
            "33/33 [==============================] - 3s 75ms/step - loss: 0.0012 - mae: 0.0341 - val_loss: 6.7608e-04 - val_mae: 0.0261\n",
            "Epoch 61/500\n",
            "33/33 [==============================] - 2s 45ms/step - loss: 0.0011 - mae: 0.0305 - val_loss: 6.6521e-04 - val_mae: 0.0248\n",
            "Epoch 62/500\n",
            "33/33 [==============================] - 1s 38ms/step - loss: 0.0011 - mae: 0.0311 - val_loss: 9.8543e-04 - val_mae: 0.0344\n",
            "Epoch 63/500\n",
            "33/33 [==============================] - 1s 38ms/step - loss: 0.0011 - mae: 0.0321 - val_loss: 6.6298e-04 - val_mae: 0.0250\n",
            "Epoch 64/500\n",
            "33/33 [==============================] - 1s 37ms/step - loss: 0.0011 - mae: 0.0307 - val_loss: 9.3712e-04 - val_mae: 0.0332\n",
            "Epoch 65/500\n",
            "33/33 [==============================] - 1s 37ms/step - loss: 0.0011 - mae: 0.0325 - val_loss: 6.2386e-04 - val_mae: 0.0245\n",
            "Epoch 66/500\n",
            "33/33 [==============================] - 1s 38ms/step - loss: 0.0010 - mae: 0.0304 - val_loss: 5.8805e-04 - val_mae: 0.0238\n",
            "Epoch 67/500\n",
            "33/33 [==============================] - 1s 38ms/step - loss: 0.0011 - mae: 0.0326 - val_loss: 7.3584e-04 - val_mae: 0.0284\n",
            "Epoch 68/500\n",
            "33/33 [==============================] - 2s 59ms/step - loss: 0.0011 - mae: 0.0324 - val_loss: 5.6905e-04 - val_mae: 0.0238\n",
            "Epoch 69/500\n",
            "33/33 [==============================] - 2s 56ms/step - loss: 0.0010 - mae: 0.0296 - val_loss: 8.9921e-04 - val_mae: 0.0324\n",
            "Epoch 70/500\n",
            "33/33 [==============================] - 1s 38ms/step - loss: 0.0011 - mae: 0.0311 - val_loss: 0.0010 - val_mae: 0.0362\n",
            "Epoch 71/500\n",
            "33/33 [==============================] - 1s 39ms/step - loss: 0.0011 - mae: 0.0315 - val_loss: 8.1523e-04 - val_mae: 0.0298\n",
            "Epoch 72/500\n",
            "33/33 [==============================] - 1s 37ms/step - loss: 0.0010 - mae: 0.0309 - val_loss: 6.9855e-04 - val_mae: 0.0258\n",
            "Epoch 73/500\n",
            "33/33 [==============================] - 1s 38ms/step - loss: 0.0011 - mae: 0.0315 - val_loss: 8.6940e-04 - val_mae: 0.0315\n",
            "Epoch 74/500\n",
            "33/33 [==============================] - 2s 44ms/step - loss: 0.0011 - mae: 0.0316 - val_loss: 0.0010 - val_mae: 0.0355\n",
            "Epoch 75/500\n",
            "33/33 [==============================] - 2s 64ms/step - loss: 0.0011 - mae: 0.0330 - val_loss: 6.9397e-04 - val_mae: 0.0258\n",
            "Epoch 76/500\n",
            "33/33 [==============================] - 2s 44ms/step - loss: 0.0010 - mae: 0.0307 - val_loss: 7.4654e-04 - val_mae: 0.0277\n",
            "Epoch 77/500\n",
            "33/33 [==============================] - 1s 37ms/step - loss: 0.0011 - mae: 0.0320 - val_loss: 6.6880e-04 - val_mae: 0.0266\n",
            "Epoch 78/500\n",
            "33/33 [==============================] - 1s 37ms/step - loss: 0.0011 - mae: 0.0307 - val_loss: 8.1320e-04 - val_mae: 0.0309\n",
            "Epoch 79/500\n",
            "33/33 [==============================] - 1s 37ms/step - loss: 0.0011 - mae: 0.0329 - val_loss: 0.0011 - val_mae: 0.0366\n",
            "Epoch 80/500\n",
            "33/33 [==============================] - 1s 38ms/step - loss: 0.0012 - mae: 0.0334 - val_loss: 7.2098e-04 - val_mae: 0.0265\n",
            "Epoch 81/500\n",
            "33/33 [==============================] - 1s 39ms/step - loss: 0.0011 - mae: 0.0334 - val_loss: 6.9604e-04 - val_mae: 0.0268\n",
            "Epoch 82/500\n",
            "33/33 [==============================] - 2s 61ms/step - loss: 0.0010 - mae: 0.0301 - val_loss: 5.9931e-04 - val_mae: 0.0242\n",
            "Epoch 83/500\n",
            "33/33 [==============================] - 2s 43ms/step - loss: 0.0012 - mae: 0.0330 - val_loss: 7.4964e-04 - val_mae: 0.0265\n",
            "Epoch 84/500\n",
            "33/33 [==============================] - 1s 37ms/step - loss: 0.0010 - mae: 0.0300 - val_loss: 7.6693e-04 - val_mae: 0.0288\n",
            "Epoch 85/500\n",
            "33/33 [==============================] - 1s 38ms/step - loss: 0.0010 - mae: 0.0300 - val_loss: 5.9330e-04 - val_mae: 0.0239\n",
            "Epoch 86/500\n",
            "33/33 [==============================] - 1s 39ms/step - loss: 9.7105e-04 - mae: 0.0286 - val_loss: 6.2140e-04 - val_mae: 0.0238\n",
            "Epoch 87/500\n",
            "33/33 [==============================] - 1s 40ms/step - loss: 9.8385e-04 - mae: 0.0295 - val_loss: 9.2749e-04 - val_mae: 0.0329\n",
            "Epoch 88/500\n",
            "33/33 [==============================] - 1s 38ms/step - loss: 9.6641e-04 - mae: 0.0290 - val_loss: 6.6338e-04 - val_mae: 0.0246\n",
            "Epoch 89/500\n",
            "33/33 [==============================] - 2s 50ms/step - loss: 0.0010 - mae: 0.0306 - val_loss: 6.4156e-04 - val_mae: 0.0253\n",
            "Epoch 90/500\n",
            "33/33 [==============================] - 1s 40ms/step - loss: 0.0010 - mae: 0.0305 - val_loss: 7.4229e-04 - val_mae: 0.0281\n",
            "Epoch 91/500\n",
            "33/33 [==============================] - 1s 39ms/step - loss: 9.5991e-04 - mae: 0.0290 - val_loss: 7.6757e-04 - val_mae: 0.0275\n",
            "Epoch 92/500\n",
            "33/33 [==============================] - 1s 38ms/step - loss: 9.7881e-04 - mae: 0.0294 - val_loss: 8.4943e-04 - val_mae: 0.0318\n",
            "Epoch 93/500\n",
            "33/33 [==============================] - 1s 37ms/step - loss: 0.0011 - mae: 0.0323 - val_loss: 9.4861e-04 - val_mae: 0.0336\n",
            "Epoch 94/500\n",
            "33/33 [==============================] - 1s 38ms/step - loss: 0.0011 - mae: 0.0324 - val_loss: 6.2267e-04 - val_mae: 0.0240\n",
            "Epoch 95/500\n",
            "33/33 [==============================] - 1s 37ms/step - loss: 9.9215e-04 - mae: 0.0296 - val_loss: 6.2207e-04 - val_mae: 0.0239\n",
            "Epoch 96/500\n",
            "33/33 [==============================] - 1s 40ms/step - loss: 0.0011 - mae: 0.0317 - val_loss: 0.0010 - val_mae: 0.0368\n",
            "Epoch 97/500\n",
            "33/33 [==============================] - 2s 50ms/step - loss: 0.0012 - mae: 0.0343 - val_loss: 0.0021 - val_mae: 0.0582\n",
            "Epoch 98/500\n",
            "33/33 [==============================] - 1s 37ms/step - loss: 0.0011 - mae: 0.0330 - val_loss: 6.5910e-04 - val_mae: 0.0248\n",
            "Epoch 99/500\n",
            "33/33 [==============================] - 1s 39ms/step - loss: 0.0010 - mae: 0.0304 - val_loss: 5.6707e-04 - val_mae: 0.0231\n",
            "Epoch 100/500\n",
            "33/33 [==============================] - 1s 38ms/step - loss: 0.0012 - mae: 0.0344 - val_loss: 0.0011 - val_mae: 0.0360\n",
            "Epoch 101/500\n",
            "33/33 [==============================] - 1s 38ms/step - loss: 0.0012 - mae: 0.0345 - val_loss: 6.4396e-04 - val_mae: 0.0253\n",
            "Epoch 102/500\n",
            "33/33 [==============================] - 1s 38ms/step - loss: 9.9372e-04 - mae: 0.0291 - val_loss: 6.9845e-04 - val_mae: 0.0266\n",
            "Epoch 103/500\n",
            "33/33 [==============================] - 2s 60ms/step - loss: 9.6985e-04 - mae: 0.0287 - val_loss: 9.6009e-04 - val_mae: 0.0337\n",
            "Epoch 104/500\n",
            "33/33 [==============================] - 2s 54ms/step - loss: 0.0011 - mae: 0.0325 - val_loss: 6.5108e-04 - val_mae: 0.0260\n",
            "Epoch 105/500\n",
            "33/33 [==============================] - 1s 39ms/step - loss: 0.0011 - mae: 0.0319 - val_loss: 6.5178e-04 - val_mae: 0.0254\n",
            "Epoch 106/500\n",
            "33/33 [==============================] - 1s 38ms/step - loss: 9.4442e-04 - mae: 0.0287 - val_loss: 7.3142e-04 - val_mae: 0.0269\n",
            "Epoch 107/500\n",
            "33/33 [==============================] - 1s 38ms/step - loss: 9.3643e-04 - mae: 0.0283 - val_loss: 6.1323e-04 - val_mae: 0.0242\n",
            "Epoch 108/500\n",
            "33/33 [==============================] - 1s 39ms/step - loss: 9.6574e-04 - mae: 0.0293 - val_loss: 5.7735e-04 - val_mae: 0.0235\n",
            "3/3 [==============================] - 0s 18ms/step - loss: 5.5516e-04 - mae: 0.0220\n"
          ]
        },
        {
          "output_type": "execute_result",
          "data": {
            "text/plain": [
              "21960.78561246395"
            ]
          },
          "metadata": {},
          "execution_count": 47
        }
      ]
    },
    {
      "cell_type": "code",
      "source": [
        "# build and train a multitask RNN that forecasts both bus and rail\n",
        "\n",
        "tf.random.set_seed(42)\n",
        "\n",
        "seq_length = 56\n",
        "train_multask_ds = tf.keras.utils.timeseries_dataset_from_array(\n",
        "    mulvar_train.to_numpy(),\n",
        "    targets=mulvar_train[[\"bus\", \"rail\"]][seq_length:],  # 2 targets per day\n",
        "    sequence_length=seq_length,\n",
        "    batch_size=32,\n",
        "    shuffle=True,\n",
        "    seed=42\n",
        ")\n",
        "valid_multask_ds = tf.keras.utils.timeseries_dataset_from_array(\n",
        "    mulvar_valid.to_numpy(),\n",
        "    targets=mulvar_valid[[\"bus\", \"rail\"]][seq_length:],\n",
        "    sequence_length=seq_length,\n",
        "    batch_size=32\n",
        ")\n",
        "\n",
        "tf.random.set_seed(42)\n",
        "multask_model = tf.keras.Sequential([\n",
        "    tf.keras.layers.SimpleRNN(32, input_shape=[None, 5]),\n",
        "    tf.keras.layers.Dense(2)\n",
        "])\n",
        "\n",
        "fit_and_evaluate(multask_model, train_multask_ds, valid_multask_ds,\n",
        "                 learning_rate=0.02)"
      ],
      "metadata": {
        "colab": {
          "base_uri": "https://localhost:8080/"
        },
        "id": "BYHvXcVxi0SC",
        "outputId": "75b50e0e-62f4-460d-a1da-0c12e9755264"
      },
      "execution_count": null,
      "outputs": [
        {
          "output_type": "stream",
          "name": "stdout",
          "text": [
            "Epoch 1/500\n",
            "33/33 [==============================] - 6s 44ms/step - loss: 0.0847 - mae: 0.2968 - val_loss: 0.0120 - val_mae: 0.1319\n",
            "Epoch 2/500\n",
            "33/33 [==============================] - 1s 37ms/step - loss: 0.0045 - mae: 0.0696 - val_loss: 0.0010 - val_mae: 0.0338\n",
            "Epoch 3/500\n",
            "33/33 [==============================] - 1s 40ms/step - loss: 0.0023 - mae: 0.0469 - val_loss: 9.4657e-04 - val_mae: 0.0317\n",
            "Epoch 4/500\n",
            "33/33 [==============================] - 2s 58ms/step - loss: 0.0021 - mae: 0.0455 - val_loss: 0.0021 - val_mae: 0.0527\n",
            "Epoch 5/500\n",
            "33/33 [==============================] - 1s 38ms/step - loss: 0.0021 - mae: 0.0452 - val_loss: 8.4550e-04 - val_mae: 0.0297\n",
            "Epoch 6/500\n",
            "33/33 [==============================] - 1s 38ms/step - loss: 0.0019 - mae: 0.0431 - val_loss: 0.0010 - val_mae: 0.0342\n",
            "Epoch 7/500\n",
            "33/33 [==============================] - 1s 38ms/step - loss: 0.0018 - mae: 0.0426 - val_loss: 8.5915e-04 - val_mae: 0.0303\n",
            "Epoch 8/500\n",
            "33/33 [==============================] - 1s 37ms/step - loss: 0.0018 - mae: 0.0421 - val_loss: 0.0012 - val_mae: 0.0381\n",
            "Epoch 9/500\n",
            "33/33 [==============================] - 1s 38ms/step - loss: 0.0017 - mae: 0.0412 - val_loss: 0.0010 - val_mae: 0.0346\n",
            "Epoch 10/500\n",
            "33/33 [==============================] - 1s 38ms/step - loss: 0.0017 - mae: 0.0407 - val_loss: 8.3095e-04 - val_mae: 0.0299\n",
            "Epoch 11/500\n",
            "33/33 [==============================] - 1s 38ms/step - loss: 0.0016 - mae: 0.0408 - val_loss: 7.9919e-04 - val_mae: 0.0291\n",
            "Epoch 12/500\n",
            "33/33 [==============================] - 2s 54ms/step - loss: 0.0016 - mae: 0.0397 - val_loss: 7.7590e-04 - val_mae: 0.0284\n",
            "Epoch 13/500\n",
            "33/33 [==============================] - 1s 37ms/step - loss: 0.0015 - mae: 0.0397 - val_loss: 7.0938e-04 - val_mae: 0.0267\n",
            "Epoch 14/500\n",
            "33/33 [==============================] - 2s 66ms/step - loss: 0.0015 - mae: 0.0388 - val_loss: 9.1541e-04 - val_mae: 0.0318\n",
            "Epoch 15/500\n",
            "33/33 [==============================] - 3s 89ms/step - loss: 0.0015 - mae: 0.0386 - val_loss: 8.0939e-04 - val_mae: 0.0295\n",
            "Epoch 16/500\n",
            "33/33 [==============================] - 2s 70ms/step - loss: 0.0014 - mae: 0.0381 - val_loss: 8.1146e-04 - val_mae: 0.0311\n",
            "Epoch 17/500\n",
            "33/33 [==============================] - 4s 120ms/step - loss: 0.0015 - mae: 0.0397 - val_loss: 0.0012 - val_mae: 0.0375\n",
            "Epoch 18/500\n",
            "33/33 [==============================] - 2s 67ms/step - loss: 0.0015 - mae: 0.0388 - val_loss: 8.9052e-04 - val_mae: 0.0315\n",
            "Epoch 19/500\n",
            "33/33 [==============================] - 3s 81ms/step - loss: 0.0014 - mae: 0.0375 - val_loss: 6.9810e-04 - val_mae: 0.0272\n",
            "Epoch 20/500\n",
            "33/33 [==============================] - 2s 46ms/step - loss: 0.0014 - mae: 0.0372 - val_loss: 7.0942e-04 - val_mae: 0.0280\n",
            "Epoch 21/500\n",
            "33/33 [==============================] - 1s 40ms/step - loss: 0.0013 - mae: 0.0368 - val_loss: 8.3468e-04 - val_mae: 0.0302\n",
            "Epoch 22/500\n",
            "33/33 [==============================] - 1s 39ms/step - loss: 0.0013 - mae: 0.0365 - val_loss: 9.6429e-04 - val_mae: 0.0329\n",
            "Epoch 23/500\n",
            "33/33 [==============================] - 2s 64ms/step - loss: 0.0013 - mae: 0.0367 - val_loss: 7.2846e-04 - val_mae: 0.0279\n",
            "Epoch 24/500\n",
            "33/33 [==============================] - 1s 38ms/step - loss: 0.0013 - mae: 0.0364 - val_loss: 7.2243e-04 - val_mae: 0.0273\n",
            "Epoch 25/500\n",
            "33/33 [==============================] - 1s 38ms/step - loss: 0.0013 - mae: 0.0360 - val_loss: 7.7924e-04 - val_mae: 0.0287\n",
            "Epoch 26/500\n",
            "33/33 [==============================] - 2s 60ms/step - loss: 0.0013 - mae: 0.0367 - val_loss: 7.9785e-04 - val_mae: 0.0290\n",
            "Epoch 27/500\n",
            "33/33 [==============================] - 1s 37ms/step - loss: 0.0013 - mae: 0.0363 - val_loss: 6.9096e-04 - val_mae: 0.0272\n",
            "Epoch 28/500\n",
            "33/33 [==============================] - 1s 38ms/step - loss: 0.0013 - mae: 0.0359 - val_loss: 7.2278e-04 - val_mae: 0.0284\n",
            "Epoch 29/500\n",
            "33/33 [==============================] - 1s 36ms/step - loss: 0.0013 - mae: 0.0374 - val_loss: 7.3131e-04 - val_mae: 0.0282\n",
            "Epoch 30/500\n",
            "33/33 [==============================] - 1s 36ms/step - loss: 0.0013 - mae: 0.0360 - val_loss: 7.4756e-04 - val_mae: 0.0288\n",
            "Epoch 31/500\n",
            "33/33 [==============================] - 1s 36ms/step - loss: 0.0012 - mae: 0.0357 - val_loss: 8.1068e-04 - val_mae: 0.0294\n",
            "Epoch 32/500\n",
            "33/33 [==============================] - 1s 40ms/step - loss: 0.0013 - mae: 0.0357 - val_loss: 7.5529e-04 - val_mae: 0.0292\n",
            "Epoch 33/500\n",
            "33/33 [==============================] - 2s 57ms/step - loss: 0.0013 - mae: 0.0361 - val_loss: 7.8544e-04 - val_mae: 0.0295\n",
            "Epoch 34/500\n",
            "33/33 [==============================] - 2s 47ms/step - loss: 0.0012 - mae: 0.0352 - val_loss: 8.1231e-04 - val_mae: 0.0297\n",
            "Epoch 35/500\n",
            "33/33 [==============================] - 1s 37ms/step - loss: 0.0012 - mae: 0.0352 - val_loss: 8.4320e-04 - val_mae: 0.0303\n",
            "Epoch 36/500\n",
            "33/33 [==============================] - 1s 38ms/step - loss: 0.0013 - mae: 0.0369 - val_loss: 7.5399e-04 - val_mae: 0.0287\n",
            "Epoch 37/500\n",
            "33/33 [==============================] - 3s 84ms/step - loss: 0.0013 - mae: 0.0361 - val_loss: 7.6615e-04 - val_mae: 0.0286\n",
            "Epoch 38/500\n",
            "33/33 [==============================] - 3s 79ms/step - loss: 0.0012 - mae: 0.0355 - val_loss: 6.8314e-04 - val_mae: 0.0264\n",
            "Epoch 39/500\n",
            "33/33 [==============================] - 3s 75ms/step - loss: 0.0012 - mae: 0.0351 - val_loss: 7.7918e-04 - val_mae: 0.0290\n",
            "Epoch 40/500\n",
            "33/33 [==============================] - 1s 37ms/step - loss: 0.0012 - mae: 0.0349 - val_loss: 8.2567e-04 - val_mae: 0.0300\n",
            "Epoch 41/500\n",
            "33/33 [==============================] - 1s 37ms/step - loss: 0.0012 - mae: 0.0349 - val_loss: 8.8014e-04 - val_mae: 0.0313\n",
            "Epoch 42/500\n",
            "33/33 [==============================] - 1s 38ms/step - loss: 0.0012 - mae: 0.0353 - val_loss: 7.6465e-04 - val_mae: 0.0292\n",
            "Epoch 43/500\n",
            "33/33 [==============================] - 1s 36ms/step - loss: 0.0012 - mae: 0.0349 - val_loss: 8.1386e-04 - val_mae: 0.0301\n",
            "Epoch 44/500\n",
            "33/33 [==============================] - 1s 37ms/step - loss: 0.0012 - mae: 0.0349 - val_loss: 7.1367e-04 - val_mae: 0.0275\n",
            "Epoch 45/500\n",
            "33/33 [==============================] - 1s 38ms/step - loss: 0.0012 - mae: 0.0345 - val_loss: 7.4772e-04 - val_mae: 0.0282\n",
            "Epoch 46/500\n",
            "33/33 [==============================] - 2s 58ms/step - loss: 0.0012 - mae: 0.0344 - val_loss: 7.2326e-04 - val_mae: 0.0275\n",
            "Epoch 47/500\n",
            "33/33 [==============================] - 2s 45ms/step - loss: 0.0012 - mae: 0.0348 - val_loss: 7.3043e-04 - val_mae: 0.0276\n",
            "Epoch 48/500\n",
            "33/33 [==============================] - 1s 39ms/step - loss: 0.0012 - mae: 0.0346 - val_loss: 6.8811e-04 - val_mae: 0.0265\n",
            "Epoch 49/500\n",
            "33/33 [==============================] - 1s 38ms/step - loss: 0.0012 - mae: 0.0343 - val_loss: 7.6205e-04 - val_mae: 0.0289\n",
            "Epoch 50/500\n",
            "33/33 [==============================] - 1s 37ms/step - loss: 0.0012 - mae: 0.0342 - val_loss: 8.1571e-04 - val_mae: 0.0297\n",
            "Epoch 51/500\n",
            "33/33 [==============================] - 1s 38ms/step - loss: 0.0012 - mae: 0.0346 - val_loss: 6.9141e-04 - val_mae: 0.0268\n",
            "Epoch 52/500\n",
            "33/33 [==============================] - 1s 36ms/step - loss: 0.0012 - mae: 0.0341 - val_loss: 7.7271e-04 - val_mae: 0.0290\n",
            "Epoch 53/500\n",
            "33/33 [==============================] - 2s 56ms/step - loss: 0.0012 - mae: 0.0342 - val_loss: 7.0733e-04 - val_mae: 0.0271\n",
            "Epoch 54/500\n",
            "33/33 [==============================] - 2s 47ms/step - loss: 0.0013 - mae: 0.0364 - val_loss: 6.7106e-04 - val_mae: 0.0262\n",
            "Epoch 55/500\n",
            "33/33 [==============================] - 1s 37ms/step - loss: 0.0012 - mae: 0.0337 - val_loss: 8.4253e-04 - val_mae: 0.0306\n",
            "Epoch 56/500\n",
            "33/33 [==============================] - 1s 38ms/step - loss: 0.0012 - mae: 0.0341 - val_loss: 6.7547e-04 - val_mae: 0.0259\n",
            "Epoch 57/500\n",
            "33/33 [==============================] - 1s 37ms/step - loss: 0.0012 - mae: 0.0340 - val_loss: 7.9555e-04 - val_mae: 0.0295\n",
            "Epoch 58/500\n",
            "33/33 [==============================] - 1s 37ms/step - loss: 0.0012 - mae: 0.0349 - val_loss: 6.8858e-04 - val_mae: 0.0270\n",
            "Epoch 59/500\n",
            "33/33 [==============================] - 1s 37ms/step - loss: 0.0012 - mae: 0.0337 - val_loss: 7.3821e-04 - val_mae: 0.0285\n",
            "Epoch 60/500\n",
            "33/33 [==============================] - 1s 37ms/step - loss: 0.0012 - mae: 0.0339 - val_loss: 7.4591e-04 - val_mae: 0.0288\n",
            "Epoch 61/500\n",
            "33/33 [==============================] - 2s 63ms/step - loss: 0.0012 - mae: 0.0337 - val_loss: 6.9743e-04 - val_mae: 0.0266\n",
            "Epoch 62/500\n",
            "33/33 [==============================] - 1s 38ms/step - loss: 0.0012 - mae: 0.0336 - val_loss: 6.8723e-04 - val_mae: 0.0270\n",
            "Epoch 63/500\n",
            "33/33 [==============================] - 1s 38ms/step - loss: 0.0012 - mae: 0.0339 - val_loss: 7.1782e-04 - val_mae: 0.0278\n",
            "Epoch 64/500\n",
            "33/33 [==============================] - 1s 37ms/step - loss: 0.0012 - mae: 0.0338 - val_loss: 7.5302e-04 - val_mae: 0.0289\n",
            "Epoch 65/500\n",
            "33/33 [==============================] - 1s 39ms/step - loss: 0.0011 - mae: 0.0336 - val_loss: 7.1330e-04 - val_mae: 0.0279\n",
            "Epoch 66/500\n",
            "33/33 [==============================] - 1s 42ms/step - loss: 0.0011 - mae: 0.0336 - val_loss: 7.3271e-04 - val_mae: 0.0281\n",
            "Epoch 67/500\n",
            "33/33 [==============================] - 1s 37ms/step - loss: 0.0012 - mae: 0.0337 - val_loss: 6.6557e-04 - val_mae: 0.0262\n",
            "Epoch 68/500\n",
            "33/33 [==============================] - 1s 38ms/step - loss: 0.0011 - mae: 0.0331 - val_loss: 7.1393e-04 - val_mae: 0.0276\n",
            "Epoch 69/500\n",
            "33/33 [==============================] - 1s 38ms/step - loss: 0.0011 - mae: 0.0334 - val_loss: 7.7985e-04 - val_mae: 0.0296\n",
            "Epoch 70/500\n",
            "33/33 [==============================] - 1s 37ms/step - loss: 0.0012 - mae: 0.0344 - val_loss: 6.8391e-04 - val_mae: 0.0265\n",
            "Epoch 71/500\n",
            "33/33 [==============================] - 1s 37ms/step - loss: 0.0011 - mae: 0.0333 - val_loss: 6.6888e-04 - val_mae: 0.0262\n",
            "Epoch 72/500\n",
            "33/33 [==============================] - 1s 42ms/step - loss: 0.0011 - mae: 0.0333 - val_loss: 8.4316e-04 - val_mae: 0.0306\n",
            "Epoch 73/500\n",
            "33/33 [==============================] - 2s 60ms/step - loss: 0.0011 - mae: 0.0334 - val_loss: 6.9958e-04 - val_mae: 0.0270\n",
            "Epoch 74/500\n",
            "33/33 [==============================] - 1s 38ms/step - loss: 0.0011 - mae: 0.0329 - val_loss: 6.7890e-04 - val_mae: 0.0266\n",
            "Epoch 75/500\n",
            "33/33 [==============================] - 1s 38ms/step - loss: 0.0011 - mae: 0.0334 - val_loss: 7.1374e-04 - val_mae: 0.0274\n",
            "Epoch 76/500\n",
            "33/33 [==============================] - 1s 38ms/step - loss: 0.0011 - mae: 0.0335 - val_loss: 6.5872e-04 - val_mae: 0.0256\n",
            "Epoch 77/500\n",
            "33/33 [==============================] - 1s 39ms/step - loss: 0.0011 - mae: 0.0330 - val_loss: 6.9871e-04 - val_mae: 0.0268\n",
            "Epoch 78/500\n",
            "33/33 [==============================] - 1s 40ms/step - loss: 0.0011 - mae: 0.0330 - val_loss: 7.0506e-04 - val_mae: 0.0274\n",
            "Epoch 79/500\n",
            "33/33 [==============================] - 2s 52ms/step - loss: 0.0011 - mae: 0.0331 - val_loss: 7.1312e-04 - val_mae: 0.0278\n",
            "Epoch 80/500\n",
            "33/33 [==============================] - 1s 38ms/step - loss: 0.0011 - mae: 0.0331 - val_loss: 7.4423e-04 - val_mae: 0.0283\n",
            "Epoch 81/500\n",
            "33/33 [==============================] - 1s 38ms/step - loss: 0.0011 - mae: 0.0329 - val_loss: 7.2668e-04 - val_mae: 0.0277\n",
            "Epoch 82/500\n",
            "33/33 [==============================] - 1s 38ms/step - loss: 0.0011 - mae: 0.0329 - val_loss: 6.5874e-04 - val_mae: 0.0257\n",
            "Epoch 83/500\n",
            "33/33 [==============================] - 1s 37ms/step - loss: 0.0011 - mae: 0.0326 - val_loss: 6.8995e-04 - val_mae: 0.0271\n",
            "Epoch 84/500\n",
            "33/33 [==============================] - 2s 57ms/step - loss: 0.0011 - mae: 0.0334 - val_loss: 6.9732e-04 - val_mae: 0.0265\n",
            "Epoch 85/500\n",
            "33/33 [==============================] - 2s 55ms/step - loss: 0.0011 - mae: 0.0331 - val_loss: 7.2287e-04 - val_mae: 0.0282\n",
            "Epoch 86/500\n",
            "33/33 [==============================] - 1s 38ms/step - loss: 0.0011 - mae: 0.0330 - val_loss: 6.7664e-04 - val_mae: 0.0263\n",
            "Epoch 87/500\n",
            "33/33 [==============================] - 1s 38ms/step - loss: 0.0011 - mae: 0.0327 - val_loss: 6.8882e-04 - val_mae: 0.0268\n",
            "Epoch 88/500\n",
            "33/33 [==============================] - 1s 38ms/step - loss: 0.0011 - mae: 0.0329 - val_loss: 6.7751e-04 - val_mae: 0.0259\n",
            "Epoch 89/500\n",
            "33/33 [==============================] - 1s 36ms/step - loss: 0.0011 - mae: 0.0336 - val_loss: 7.4509e-04 - val_mae: 0.0284\n",
            "Epoch 90/500\n",
            "33/33 [==============================] - 1s 38ms/step - loss: 0.0011 - mae: 0.0326 - val_loss: 6.9861e-04 - val_mae: 0.0272\n",
            "Epoch 91/500\n",
            "33/33 [==============================] - 2s 64ms/step - loss: 0.0012 - mae: 0.0337 - val_loss: 6.6194e-04 - val_mae: 0.0257\n",
            "Epoch 92/500\n",
            "33/33 [==============================] - 1s 38ms/step - loss: 0.0012 - mae: 0.0344 - val_loss: 6.9008e-04 - val_mae: 0.0267\n",
            "Epoch 93/500\n",
            "33/33 [==============================] - 1s 38ms/step - loss: 0.0011 - mae: 0.0331 - val_loss: 6.5836e-04 - val_mae: 0.0257\n",
            "Epoch 94/500\n",
            "33/33 [==============================] - 1s 38ms/step - loss: 0.0011 - mae: 0.0337 - val_loss: 8.3037e-04 - val_mae: 0.0305\n",
            "Epoch 95/500\n",
            "33/33 [==============================] - 1s 37ms/step - loss: 0.0011 - mae: 0.0334 - val_loss: 9.3309e-04 - val_mae: 0.0335\n",
            "Epoch 96/500\n",
            "33/33 [==============================] - 2s 51ms/step - loss: 0.0012 - mae: 0.0342 - val_loss: 6.6427e-04 - val_mae: 0.0262\n",
            "Epoch 97/500\n",
            "33/33 [==============================] - 2s 50ms/step - loss: 0.0011 - mae: 0.0322 - val_loss: 7.0858e-04 - val_mae: 0.0271\n",
            "Epoch 98/500\n",
            "33/33 [==============================] - 1s 37ms/step - loss: 0.0011 - mae: 0.0328 - val_loss: 7.6489e-04 - val_mae: 0.0290\n",
            "Epoch 99/500\n",
            "33/33 [==============================] - 1s 37ms/step - loss: 0.0011 - mae: 0.0331 - val_loss: 7.9643e-04 - val_mae: 0.0295\n",
            "Epoch 100/500\n",
            "33/33 [==============================] - 1s 38ms/step - loss: 0.0012 - mae: 0.0339 - val_loss: 7.6728e-04 - val_mae: 0.0291\n",
            "Epoch 101/500\n",
            "33/33 [==============================] - 1s 38ms/step - loss: 0.0011 - mae: 0.0327 - val_loss: 7.6103e-04 - val_mae: 0.0289\n",
            "Epoch 102/500\n",
            "33/33 [==============================] - 1s 37ms/step - loss: 0.0011 - mae: 0.0322 - val_loss: 6.6568e-04 - val_mae: 0.0261\n",
            "Epoch 103/500\n",
            "33/33 [==============================] - 2s 47ms/step - loss: 0.0011 - mae: 0.0325 - val_loss: 6.7406e-04 - val_mae: 0.0262\n",
            "Epoch 104/500\n",
            "33/33 [==============================] - 2s 56ms/step - loss: 0.0012 - mae: 0.0336 - val_loss: 6.6294e-04 - val_mae: 0.0263\n",
            "Epoch 105/500\n",
            "33/33 [==============================] - 1s 40ms/step - loss: 0.0012 - mae: 0.0344 - val_loss: 6.5433e-04 - val_mae: 0.0260\n",
            "Epoch 106/500\n",
            "33/33 [==============================] - 1s 39ms/step - loss: 0.0011 - mae: 0.0332 - val_loss: 7.1555e-04 - val_mae: 0.0274\n",
            "Epoch 107/500\n",
            "33/33 [==============================] - 1s 36ms/step - loss: 0.0011 - mae: 0.0321 - val_loss: 6.7094e-04 - val_mae: 0.0264\n",
            "Epoch 108/500\n",
            "33/33 [==============================] - 1s 38ms/step - loss: 0.0011 - mae: 0.0324 - val_loss: 6.6782e-04 - val_mae: 0.0260\n",
            "Epoch 109/500\n",
            "33/33 [==============================] - 1s 38ms/step - loss: 0.0011 - mae: 0.0321 - val_loss: 7.3171e-04 - val_mae: 0.0281\n",
            "Epoch 110/500\n",
            "33/33 [==============================] - 1s 37ms/step - loss: 0.0011 - mae: 0.0320 - val_loss: 7.2075e-04 - val_mae: 0.0279\n",
            "Epoch 111/500\n",
            "33/33 [==============================] - 1s 39ms/step - loss: 0.0011 - mae: 0.0323 - val_loss: 6.9329e-04 - val_mae: 0.0269\n",
            "Epoch 112/500\n",
            "33/33 [==============================] - 2s 57ms/step - loss: 0.0011 - mae: 0.0327 - val_loss: 6.4567e-04 - val_mae: 0.0257\n",
            "Epoch 113/500\n",
            "33/33 [==============================] - 1s 40ms/step - loss: 0.0011 - mae: 0.0318 - val_loss: 7.2867e-04 - val_mae: 0.0279\n",
            "Epoch 114/500\n",
            "33/33 [==============================] - 1s 38ms/step - loss: 0.0011 - mae: 0.0322 - val_loss: 7.4251e-04 - val_mae: 0.0286\n",
            "Epoch 115/500\n",
            "33/33 [==============================] - 2s 54ms/step - loss: 0.0011 - mae: 0.0318 - val_loss: 6.6294e-04 - val_mae: 0.0260\n",
            "Epoch 116/500\n",
            "33/33 [==============================] - 1s 38ms/step - loss: 0.0011 - mae: 0.0322 - val_loss: 6.6336e-04 - val_mae: 0.0260\n",
            "Epoch 117/500\n",
            "33/33 [==============================] - 2s 51ms/step - loss: 0.0011 - mae: 0.0323 - val_loss: 7.0375e-04 - val_mae: 0.0269\n",
            "Epoch 118/500\n",
            "33/33 [==============================] - 1s 38ms/step - loss: 0.0011 - mae: 0.0328 - val_loss: 6.4138e-04 - val_mae: 0.0258\n",
            "Epoch 119/500\n",
            "33/33 [==============================] - 1s 39ms/step - loss: 0.0011 - mae: 0.0326 - val_loss: 6.5957e-04 - val_mae: 0.0259\n",
            "Epoch 120/500\n",
            "33/33 [==============================] - 1s 38ms/step - loss: 0.0011 - mae: 0.0325 - val_loss: 8.4108e-04 - val_mae: 0.0312\n",
            "Epoch 121/500\n",
            "33/33 [==============================] - 1s 38ms/step - loss: 0.0011 - mae: 0.0320 - val_loss: 6.4738e-04 - val_mae: 0.0255\n",
            "Epoch 122/500\n",
            "33/33 [==============================] - 1s 37ms/step - loss: 0.0010 - mae: 0.0314 - val_loss: 7.2099e-04 - val_mae: 0.0279\n",
            "Epoch 123/500\n",
            "33/33 [==============================] - 2s 45ms/step - loss: 0.0011 - mae: 0.0329 - val_loss: 7.0360e-04 - val_mae: 0.0270\n",
            "Epoch 124/500\n",
            "33/33 [==============================] - 1s 40ms/step - loss: 0.0011 - mae: 0.0320 - val_loss: 6.6143e-04 - val_mae: 0.0263\n",
            "Epoch 125/500\n",
            "33/33 [==============================] - 1s 38ms/step - loss: 0.0011 - mae: 0.0324 - val_loss: 6.4972e-04 - val_mae: 0.0256\n",
            "Epoch 126/500\n",
            "33/33 [==============================] - 1s 37ms/step - loss: 0.0011 - mae: 0.0319 - val_loss: 6.8299e-04 - val_mae: 0.0268\n",
            "Epoch 127/500\n",
            "33/33 [==============================] - 1s 38ms/step - loss: 0.0011 - mae: 0.0327 - val_loss: 7.4862e-04 - val_mae: 0.0284\n",
            "Epoch 128/500\n",
            "33/33 [==============================] - 1s 42ms/step - loss: 0.0011 - mae: 0.0321 - val_loss: 7.2543e-04 - val_mae: 0.0280\n",
            "Epoch 129/500\n",
            "33/33 [==============================] - 1s 39ms/step - loss: 0.0011 - mae: 0.0318 - val_loss: 7.4707e-04 - val_mae: 0.0286\n",
            "Epoch 130/500\n",
            "33/33 [==============================] - 1s 38ms/step - loss: 0.0011 - mae: 0.0318 - val_loss: 6.7275e-04 - val_mae: 0.0266\n",
            "Epoch 131/500\n",
            "33/33 [==============================] - 1s 37ms/step - loss: 0.0011 - mae: 0.0321 - val_loss: 6.9956e-04 - val_mae: 0.0274\n",
            "Epoch 132/500\n",
            "33/33 [==============================] - 1s 38ms/step - loss: 0.0011 - mae: 0.0316 - val_loss: 6.6152e-04 - val_mae: 0.0265\n",
            "Epoch 133/500\n",
            "33/33 [==============================] - 1s 39ms/step - loss: 0.0011 - mae: 0.0318 - val_loss: 6.9214e-04 - val_mae: 0.0273\n",
            "Epoch 134/500\n",
            "33/33 [==============================] - 1s 38ms/step - loss: 0.0010 - mae: 0.0317 - val_loss: 8.1650e-04 - val_mae: 0.0303\n",
            "Epoch 135/500\n",
            "33/33 [==============================] - 2s 58ms/step - loss: 0.0011 - mae: 0.0330 - val_loss: 6.9311e-04 - val_mae: 0.0271\n",
            "Epoch 136/500\n",
            "33/33 [==============================] - 1s 39ms/step - loss: 0.0011 - mae: 0.0318 - val_loss: 6.8051e-04 - val_mae: 0.0265\n",
            "Epoch 137/500\n",
            "33/33 [==============================] - 1s 39ms/step - loss: 0.0010 - mae: 0.0316 - val_loss: 6.6986e-04 - val_mae: 0.0264\n",
            "Epoch 138/500\n",
            "33/33 [==============================] - 1s 38ms/step - loss: 0.0011 - mae: 0.0318 - val_loss: 7.3668e-04 - val_mae: 0.0283\n",
            "Epoch 139/500\n",
            "33/33 [==============================] - 1s 38ms/step - loss: 0.0011 - mae: 0.0316 - val_loss: 6.4341e-04 - val_mae: 0.0253\n",
            "Epoch 140/500\n",
            "33/33 [==============================] - 2s 55ms/step - loss: 0.0011 - mae: 0.0325 - val_loss: 6.8223e-04 - val_mae: 0.0269\n",
            "Epoch 141/500\n",
            "33/33 [==============================] - 2s 47ms/step - loss: 0.0011 - mae: 0.0336 - val_loss: 0.0010 - val_mae: 0.0351\n",
            "Epoch 142/500\n",
            "33/33 [==============================] - 2s 54ms/step - loss: 0.0011 - mae: 0.0326 - val_loss: 6.6244e-04 - val_mae: 0.0262\n",
            "Epoch 143/500\n",
            "33/33 [==============================] - 1s 38ms/step - loss: 0.0010 - mae: 0.0313 - val_loss: 6.9656e-04 - val_mae: 0.0270\n",
            "Epoch 144/500\n",
            "33/33 [==============================] - 1s 38ms/step - loss: 0.0010 - mae: 0.0316 - val_loss: 6.4884e-04 - val_mae: 0.0254\n",
            "Epoch 145/500\n",
            "33/33 [==============================] - 1s 38ms/step - loss: 0.0010 - mae: 0.0312 - val_loss: 7.6045e-04 - val_mae: 0.0289\n",
            "Epoch 146/500\n",
            "33/33 [==============================] - 1s 39ms/step - loss: 0.0010 - mae: 0.0314 - val_loss: 8.5311e-04 - val_mae: 0.0315\n",
            "Epoch 147/500\n",
            "33/33 [==============================] - 1s 37ms/step - loss: 0.0011 - mae: 0.0324 - val_loss: 6.4116e-04 - val_mae: 0.0258\n",
            "Epoch 148/500\n",
            "33/33 [==============================] - 1s 38ms/step - loss: 0.0011 - mae: 0.0322 - val_loss: 8.1322e-04 - val_mae: 0.0298\n",
            "Epoch 149/500\n",
            "33/33 [==============================] - 2s 46ms/step - loss: 0.0011 - mae: 0.0318 - val_loss: 8.4342e-04 - val_mae: 0.0314\n",
            "Epoch 150/500\n",
            "33/33 [==============================] - 1s 38ms/step - loss: 0.0011 - mae: 0.0319 - val_loss: 6.6080e-04 - val_mae: 0.0262\n",
            "Epoch 151/500\n",
            "33/33 [==============================] - 1s 41ms/step - loss: 0.0010 - mae: 0.0314 - val_loss: 6.8495e-04 - val_mae: 0.0265\n",
            "Epoch 152/500\n",
            "33/33 [==============================] - 1s 38ms/step - loss: 0.0010 - mae: 0.0313 - val_loss: 6.9110e-04 - val_mae: 0.0268\n",
            "Epoch 153/500\n",
            "33/33 [==============================] - 1s 38ms/step - loss: 0.0010 - mae: 0.0312 - val_loss: 6.5244e-04 - val_mae: 0.0258\n",
            "Epoch 154/500\n",
            "33/33 [==============================] - 1s 38ms/step - loss: 0.0010 - mae: 0.0308 - val_loss: 6.4176e-04 - val_mae: 0.0251\n",
            "Epoch 155/500\n",
            "33/33 [==============================] - 1s 37ms/step - loss: 0.0011 - mae: 0.0322 - val_loss: 6.6232e-04 - val_mae: 0.0257\n",
            "Epoch 156/500\n",
            "33/33 [==============================] - 2s 51ms/step - loss: 0.0010 - mae: 0.0310 - val_loss: 7.1887e-04 - val_mae: 0.0280\n",
            "Epoch 157/500\n",
            "33/33 [==============================] - 1s 39ms/step - loss: 0.0011 - mae: 0.0318 - val_loss: 7.6226e-04 - val_mae: 0.0291\n",
            "Epoch 158/500\n",
            "33/33 [==============================] - 1s 40ms/step - loss: 0.0010 - mae: 0.0316 - val_loss: 6.9998e-04 - val_mae: 0.0272\n",
            "Epoch 159/500\n",
            "33/33 [==============================] - 1s 39ms/step - loss: 0.0010 - mae: 0.0309 - val_loss: 6.6174e-04 - val_mae: 0.0264\n",
            "Epoch 160/500\n",
            "33/33 [==============================] - 1s 37ms/step - loss: 0.0010 - mae: 0.0312 - val_loss: 7.3856e-04 - val_mae: 0.0285\n",
            "Epoch 161/500\n",
            "33/33 [==============================] - 2s 46ms/step - loss: 0.0010 - mae: 0.0316 - val_loss: 6.4023e-04 - val_mae: 0.0255\n",
            "Epoch 162/500\n",
            "33/33 [==============================] - 2s 58ms/step - loss: 0.0010 - mae: 0.0307 - val_loss: 6.4299e-04 - val_mae: 0.0258\n",
            "Epoch 163/500\n",
            "33/33 [==============================] - 1s 39ms/step - loss: 0.0010 - mae: 0.0315 - val_loss: 6.8090e-04 - val_mae: 0.0267\n",
            "Epoch 164/500\n",
            "33/33 [==============================] - 1s 39ms/step - loss: 0.0010 - mae: 0.0309 - val_loss: 6.5779e-04 - val_mae: 0.0263\n",
            "Epoch 165/500\n",
            "33/33 [==============================] - 1s 39ms/step - loss: 0.0010 - mae: 0.0313 - val_loss: 6.7154e-04 - val_mae: 0.0265\n",
            "Epoch 166/500\n",
            "33/33 [==============================] - 1s 39ms/step - loss: 0.0010 - mae: 0.0313 - val_loss: 6.5896e-04 - val_mae: 0.0260\n",
            "Epoch 167/500\n",
            "33/33 [==============================] - 1s 38ms/step - loss: 0.0010 - mae: 0.0313 - val_loss: 7.3353e-04 - val_mae: 0.0282\n",
            "Epoch 168/500\n",
            "33/33 [==============================] - 2s 49ms/step - loss: 0.0011 - mae: 0.0325 - val_loss: 6.5531e-04 - val_mae: 0.0254\n",
            "Epoch 169/500\n",
            "33/33 [==============================] - 1s 39ms/step - loss: 0.0010 - mae: 0.0308 - val_loss: 6.6642e-04 - val_mae: 0.0265\n",
            "Epoch 170/500\n",
            "33/33 [==============================] - 1s 38ms/step - loss: 0.0010 - mae: 0.0309 - val_loss: 6.6455e-04 - val_mae: 0.0263\n",
            "Epoch 171/500\n",
            "33/33 [==============================] - 1s 38ms/step - loss: 0.0010 - mae: 0.0307 - val_loss: 6.3045e-04 - val_mae: 0.0251\n",
            "Epoch 172/500\n",
            "33/33 [==============================] - 1s 37ms/step - loss: 0.0010 - mae: 0.0311 - val_loss: 6.8435e-04 - val_mae: 0.0265\n",
            "Epoch 173/500\n",
            "33/33 [==============================] - 1s 38ms/step - loss: 0.0011 - mae: 0.0330 - val_loss: 6.4995e-04 - val_mae: 0.0253\n",
            "Epoch 174/500\n",
            "33/33 [==============================] - 2s 62ms/step - loss: 0.0011 - mae: 0.0321 - val_loss: 6.9263e-04 - val_mae: 0.0272\n",
            "Epoch 175/500\n",
            "33/33 [==============================] - 2s 45ms/step - loss: 0.0011 - mae: 0.0327 - val_loss: 6.5186e-04 - val_mae: 0.0260\n",
            "Epoch 176/500\n",
            "33/33 [==============================] - 1s 39ms/step - loss: 0.0010 - mae: 0.0312 - val_loss: 6.7790e-04 - val_mae: 0.0265\n",
            "Epoch 177/500\n",
            "33/33 [==============================] - 1s 39ms/step - loss: 0.0010 - mae: 0.0307 - val_loss: 6.6297e-04 - val_mae: 0.0265\n",
            "Epoch 178/500\n",
            "33/33 [==============================] - 1s 39ms/step - loss: 0.0010 - mae: 0.0311 - val_loss: 6.3339e-04 - val_mae: 0.0255\n",
            "Epoch 179/500\n",
            "33/33 [==============================] - 1s 38ms/step - loss: 0.0010 - mae: 0.0308 - val_loss: 6.7340e-04 - val_mae: 0.0267\n",
            "Epoch 180/500\n",
            "33/33 [==============================] - 1s 39ms/step - loss: 0.0010 - mae: 0.0311 - val_loss: 7.9319e-04 - val_mae: 0.0297\n",
            "Epoch 181/500\n",
            "33/33 [==============================] - 1s 38ms/step - loss: 0.0010 - mae: 0.0321 - val_loss: 6.7043e-04 - val_mae: 0.0265\n",
            "Epoch 182/500\n",
            "33/33 [==============================] - 1s 40ms/step - loss: 0.0010 - mae: 0.0313 - val_loss: 6.5159e-04 - val_mae: 0.0254\n",
            "Epoch 183/500\n",
            "33/33 [==============================] - 1s 38ms/step - loss: 9.9706e-04 - mae: 0.0303 - val_loss: 6.3329e-04 - val_mae: 0.0254\n",
            "Epoch 184/500\n",
            "33/33 [==============================] - 1s 39ms/step - loss: 0.0010 - mae: 0.0304 - val_loss: 6.6920e-04 - val_mae: 0.0265\n",
            "Epoch 185/500\n",
            "33/33 [==============================] - 1s 38ms/step - loss: 0.0010 - mae: 0.0309 - val_loss: 6.7737e-04 - val_mae: 0.0264\n",
            "Epoch 186/500\n",
            "33/33 [==============================] - 1s 37ms/step - loss: 0.0010 - mae: 0.0307 - val_loss: 7.3857e-04 - val_mae: 0.0285\n",
            "Epoch 187/500\n",
            "33/33 [==============================] - 2s 56ms/step - loss: 0.0010 - mae: 0.0309 - val_loss: 6.8904e-04 - val_mae: 0.0273\n",
            "Epoch 188/500\n",
            "33/33 [==============================] - 1s 40ms/step - loss: 0.0010 - mae: 0.0310 - val_loss: 8.5951e-04 - val_mae: 0.0318\n",
            "Epoch 189/500\n",
            "33/33 [==============================] - 1s 39ms/step - loss: 0.0010 - mae: 0.0314 - val_loss: 6.3931e-04 - val_mae: 0.0257\n",
            "Epoch 190/500\n",
            "33/33 [==============================] - 1s 38ms/step - loss: 0.0010 - mae: 0.0311 - val_loss: 6.6991e-04 - val_mae: 0.0265\n",
            "Epoch 191/500\n",
            "33/33 [==============================] - 1s 38ms/step - loss: 9.9063e-04 - mae: 0.0306 - val_loss: 6.8811e-04 - val_mae: 0.0269\n",
            "Epoch 192/500\n",
            "33/33 [==============================] - 1s 38ms/step - loss: 9.9808e-04 - mae: 0.0304 - val_loss: 6.5391e-04 - val_mae: 0.0257\n",
            "Epoch 193/500\n",
            "33/33 [==============================] - 1s 39ms/step - loss: 9.9541e-04 - mae: 0.0304 - val_loss: 6.4527e-04 - val_mae: 0.0259\n",
            "Epoch 194/500\n",
            "33/33 [==============================] - 1s 39ms/step - loss: 0.0010 - mae: 0.0306 - val_loss: 6.4324e-04 - val_mae: 0.0257\n",
            "Epoch 195/500\n",
            "33/33 [==============================] - 2s 45ms/step - loss: 0.0010 - mae: 0.0304 - val_loss: 6.7147e-04 - val_mae: 0.0261\n",
            "Epoch 196/500\n",
            "33/33 [==============================] - 1s 38ms/step - loss: 0.0010 - mae: 0.0314 - val_loss: 6.7880e-04 - val_mae: 0.0267\n",
            "Epoch 197/500\n",
            "33/33 [==============================] - 1s 38ms/step - loss: 0.0010 - mae: 0.0310 - val_loss: 6.9142e-04 - val_mae: 0.0270\n",
            "Epoch 198/500\n",
            "33/33 [==============================] - 1s 39ms/step - loss: 9.8631e-04 - mae: 0.0300 - val_loss: 6.8524e-04 - val_mae: 0.0270\n",
            "Epoch 199/500\n",
            "33/33 [==============================] - 1s 39ms/step - loss: 0.0010 - mae: 0.0309 - val_loss: 6.4423e-04 - val_mae: 0.0259\n",
            "Epoch 200/500\n",
            "33/33 [==============================] - 2s 61ms/step - loss: 0.0010 - mae: 0.0309 - val_loss: 7.4844e-04 - val_mae: 0.0289\n",
            "Epoch 201/500\n",
            "33/33 [==============================] - 1s 40ms/step - loss: 0.0010 - mae: 0.0309 - val_loss: 6.6077e-04 - val_mae: 0.0266\n",
            "Epoch 202/500\n",
            "33/33 [==============================] - 1s 38ms/step - loss: 0.0010 - mae: 0.0306 - val_loss: 7.3027e-04 - val_mae: 0.0277\n",
            "Epoch 203/500\n",
            "33/33 [==============================] - 1s 39ms/step - loss: 0.0010 - mae: 0.0314 - val_loss: 7.5517e-04 - val_mae: 0.0287\n",
            "Epoch 204/500\n",
            "33/33 [==============================] - 2s 68ms/step - loss: 0.0010 - mae: 0.0308 - val_loss: 6.7538e-04 - val_mae: 0.0267\n",
            "Epoch 205/500\n",
            "33/33 [==============================] - 2s 64ms/step - loss: 9.9312e-04 - mae: 0.0303 - val_loss: 6.4845e-04 - val_mae: 0.0258\n",
            "Epoch 206/500\n",
            "33/33 [==============================] - 1s 40ms/step - loss: 0.0010 - mae: 0.0310 - val_loss: 7.5747e-04 - val_mae: 0.0294\n",
            "Epoch 207/500\n",
            "33/33 [==============================] - 1s 40ms/step - loss: 0.0010 - mae: 0.0316 - val_loss: 7.0480e-04 - val_mae: 0.0272\n",
            "Epoch 208/500\n",
            "33/33 [==============================] - 1s 38ms/step - loss: 9.9820e-04 - mae: 0.0307 - val_loss: 6.6359e-04 - val_mae: 0.0262\n",
            "Epoch 209/500\n",
            "33/33 [==============================] - 1s 38ms/step - loss: 9.8970e-04 - mae: 0.0306 - val_loss: 6.6678e-04 - val_mae: 0.0260\n",
            "Epoch 210/500\n",
            "33/33 [==============================] - 1s 39ms/step - loss: 9.9715e-04 - mae: 0.0305 - val_loss: 6.5117e-04 - val_mae: 0.0260\n",
            "Epoch 211/500\n",
            "33/33 [==============================] - 1s 38ms/step - loss: 9.8901e-04 - mae: 0.0302 - val_loss: 6.5397e-04 - val_mae: 0.0259\n",
            "Epoch 212/500\n",
            "33/33 [==============================] - 2s 57ms/step - loss: 0.0010 - mae: 0.0311 - val_loss: 7.6456e-04 - val_mae: 0.0294\n",
            "Epoch 213/500\n",
            "33/33 [==============================] - 1s 39ms/step - loss: 0.0010 - mae: 0.0315 - val_loss: 6.5653e-04 - val_mae: 0.0257\n",
            "Epoch 214/500\n",
            "33/33 [==============================] - 1s 39ms/step - loss: 9.8621e-04 - mae: 0.0303 - val_loss: 7.1242e-04 - val_mae: 0.0275\n",
            "Epoch 215/500\n",
            "33/33 [==============================] - 1s 40ms/step - loss: 0.0011 - mae: 0.0326 - val_loss: 7.5013e-04 - val_mae: 0.0283\n",
            "Epoch 216/500\n",
            "33/33 [==============================] - 1s 39ms/step - loss: 0.0010 - mae: 0.0308 - val_loss: 6.8047e-04 - val_mae: 0.0272\n",
            "Epoch 217/500\n",
            "33/33 [==============================] - 1s 38ms/step - loss: 0.0010 - mae: 0.0307 - val_loss: 6.7697e-04 - val_mae: 0.0264\n",
            "Epoch 218/500\n",
            "33/33 [==============================] - 2s 56ms/step - loss: 9.7569e-04 - mae: 0.0301 - val_loss: 6.7290e-04 - val_mae: 0.0269\n",
            "Epoch 219/500\n",
            "33/33 [==============================] - 1s 40ms/step - loss: 9.7601e-04 - mae: 0.0301 - val_loss: 6.5275e-04 - val_mae: 0.0260\n",
            "Epoch 220/500\n",
            "33/33 [==============================] - 1s 39ms/step - loss: 0.0010 - mae: 0.0309 - val_loss: 6.3545e-04 - val_mae: 0.0256\n",
            "Epoch 221/500\n",
            "33/33 [==============================] - 1s 39ms/step - loss: 0.0010 - mae: 0.0312 - val_loss: 6.4193e-04 - val_mae: 0.0254\n",
            "3/3 [==============================] - 0s 13ms/step - loss: 6.3045e-04 - mae: 0.0251\n"
          ]
        },
        {
          "output_type": "execute_result",
          "data": {
            "text/plain": [
              "25059.58266556263"
            ]
          },
          "metadata": {},
          "execution_count": 16
        }
      ]
    },
    {
      "cell_type": "code",
      "source": [
        "# evaluates the naive forecasts for bus\n",
        "bus_naive = mulvar_valid[\"bus\"].shift(7)[seq_length:]\n",
        "bus_target = mulvar_valid[\"bus\"][seq_length:]\n",
        "(bus_target - bus_naive).abs().mean() * 1e6"
      ],
      "metadata": {
        "colab": {
          "base_uri": "https://localhost:8080/"
        },
        "id": "cbEf1i7Vi3ol",
        "outputId": "0836b120-c2d6-45d7-cbb7-e907fa337f3d"
      },
      "execution_count": null,
      "outputs": [
        {
          "output_type": "execute_result",
          "data": {
            "text/plain": [
              "43441.63157894738"
            ]
          },
          "metadata": {},
          "execution_count": 49
        }
      ]
    },
    {
      "cell_type": "code",
      "source": [
        "# evaluates the multitask RNN's forecasts both bus and rail\n",
        "Y_preds_valid = multask_model.predict(valid_multask_ds)\n",
        "for idx, name in enumerate([\"bus\", \"rail\"]):\n",
        "    mae = 1e6 * tf.keras.metrics.mean_absolute_error(\n",
        "        mulvar_valid[name][seq_length:], Y_preds_valid[:, idx])\n",
        "    print(name, int(mae))"
      ],
      "metadata": {
        "colab": {
          "base_uri": "https://localhost:8080/"
        },
        "id": "KpbDU3H8i59v",
        "outputId": "d9aaf9d4-281c-4a5f-90ba-770e9b971c17"
      },
      "execution_count": null,
      "outputs": [
        {
          "output_type": "stream",
          "name": "stdout",
          "text": [
            "3/3 [==============================] - 0s 8ms/step\n",
            "bus 26493\n",
            "rail 24261\n"
          ]
        }
      ]
    },
    {
      "cell_type": "markdown",
      "source": [
        "## Forecasting Several Time Steps Ahead"
      ],
      "metadata": {
        "id": "YNJan6i4i7_r"
      }
    },
    {
      "cell_type": "code",
      "source": [
        "import numpy as np\n",
        "\n",
        "X = rail_valid.to_numpy()[np.newaxis, :seq_length, np.newaxis]\n",
        "for step_ahead in range(14):\n",
        "    y_pred_one = univar_model.predict(X)\n",
        "    X = np.concatenate([X, y_pred_one.reshape(1, 1, 1)], axis=1)"
      ],
      "metadata": {
        "colab": {
          "base_uri": "https://localhost:8080/"
        },
        "id": "ePg4GP7ui8gf",
        "outputId": "819ce2c4-a8e3-4c45-ddbf-d8eb4256cd61"
      },
      "execution_count": null,
      "outputs": [
        {
          "output_type": "stream",
          "name": "stdout",
          "text": [
            "1/1 [==============================] - 0s 200ms/step\n",
            "1/1 [==============================] - 1s 532ms/step\n",
            "1/1 [==============================] - 0s 60ms/step\n",
            "1/1 [==============================] - 0s 81ms/step\n",
            "1/1 [==============================] - 0s 95ms/step\n",
            "1/1 [==============================] - 0s 81ms/step\n",
            "1/1 [==============================] - 0s 100ms/step\n",
            "1/1 [==============================] - 0s 132ms/step\n",
            "1/1 [==============================] - 0s 55ms/step\n",
            "1/1 [==============================] - 0s 89ms/step\n",
            "1/1 [==============================] - 0s 109ms/step\n",
            "1/1 [==============================] - 0s 64ms/step\n",
            "1/1 [==============================] - 0s 61ms/step\n",
            "1/1 [==============================] - 0s 64ms/step\n"
          ]
        }
      ]
    },
    {
      "cell_type": "code",
      "source": [
        "# generates and saves Figure 15–11\n",
        "\n",
        "# The forecasts start on 2019-02-26, as it is the 57th day of 2019, and they end\n",
        "# on 2019-03-11. That's 14 days in total.\n",
        "Y_pred = pd.Series(X[0, -14:, 0],\n",
        "                   index=pd.date_range(\"2019-02-26\", \"2019-03-11\"))\n",
        "\n",
        "fig, ax = plt.subplots(figsize=(8, 3.5))\n",
        "(rail_valid * 1e6)[\"2019-02-01\":\"2019-03-11\"].plot(\n",
        "    label=\"True\", marker=\".\", ax=ax)\n",
        "(Y_pred * 1e6).plot(\n",
        "    label=\"Predictions\", grid=True, marker=\"x\", color=\"r\", ax=ax)\n",
        "ax.vlines(\"2019-02-25\", 0, 1e6, color=\"k\", linestyle=\"--\", label=\"Today\")\n",
        "ax.set_ylim([200_000, 800_000])\n",
        "plt.legend(loc=\"center left\")\n",
        "\n",
        "plt.show()"
      ],
      "metadata": {
        "colab": {
          "base_uri": "https://localhost:8080/",
          "height": 295
        },
        "id": "AAB5z4XApOYb",
        "outputId": "be9ce2db-3a73-4435-ea86-f4e3f93afadf"
      },
      "execution_count": null,
      "outputs": [
        {
          "output_type": "display_data",
          "data": {
            "text/plain": [
              "<Figure size 576x252 with 1 Axes>"
            ],
            "image/png": "[encoded data removed]"
          },
          "metadata": {
            "needs_background": "light"
          }
        }
      ]
    },
    {
      "cell_type": "markdown",
      "source": [
        "Now let's create an RNN that predicts all 14 next values at once:"
      ],
      "metadata": {
        "id": "j-prut2tp_Yf"
      }
    },
    {
      "cell_type": "code",
      "source": [
        "tf.random.set_seed(42)  # extra code – ensures reproducibility\n",
        "\n",
        "def split_inputs_and_targets(mulvar_series, ahead=14, target_col=1):\n",
        "    return mulvar_series[:, :-ahead], mulvar_series[:, -ahead:, target_col]\n",
        "\n",
        "ahead_train_ds = tf.keras.utils.timeseries_dataset_from_array(\n",
        "    mulvar_train.to_numpy(),\n",
        "    targets=None,\n",
        "    sequence_length=seq_length + 14,\n",
        "    batch_size=32,\n",
        "    shuffle=True,\n",
        "    seed=42\n",
        ").map(split_inputs_and_targets)\n",
        "ahead_valid_ds = tf.keras.utils.timeseries_dataset_from_array(\n",
        "    mulvar_valid.to_numpy(),\n",
        "    targets=None,\n",
        "    sequence_length=seq_length + 14,\n",
        "    batch_size=32\n",
        ").map(split_inputs_and_targets)"
      ],
      "metadata": {
        "id": "eSc2omIFpc_r"
      },
      "execution_count": null,
      "outputs": []
    },
    {
      "cell_type": "code",
      "source": [
        "tf.random.set_seed(42)\n",
        "\n",
        "ahead_model = tf.keras.Sequential([\n",
        "    tf.keras.layers.SimpleRNN(32, input_shape=[None, 5]),\n",
        "    tf.keras.layers.Dense(14)\n",
        "])"
      ],
      "metadata": {
        "id": "nCV7B8LpqG9G"
      },
      "execution_count": null,
      "outputs": []
    },
    {
      "cell_type": "code",
      "source": [
        "# compiles, fits, and evaluates the model, like earlier\n",
        "fit_and_evaluate(ahead_model, ahead_train_ds, ahead_valid_ds,\n",
        "                 learning_rate=0.02)"
      ],
      "metadata": {
        "colab": {
          "base_uri": "https://localhost:8080/"
        },
        "id": "TYB52FL4qMRb",
        "outputId": "01cb7568-301a-4620-8d13-50ba83c61593"
      },
      "execution_count": null,
      "outputs": [
        {
          "output_type": "stream",
          "name": "stdout",
          "text": [
            "Epoch 1/500\n",
            "33/33 [==============================] - 5s 117ms/step - loss: 0.0808 - mae: 0.3015 - val_loss: 0.0225 - val_mae: 0.1725\n",
            "Epoch 2/500\n",
            "33/33 [==============================] - 2s 54ms/step - loss: 0.0173 - mae: 0.1501 - val_loss: 0.0112 - val_mae: 0.1227\n",
            "Epoch 3/500\n",
            "33/33 [==============================] - 1s 37ms/step - loss: 0.0122 - mae: 0.1238 - val_loss: 0.0087 - val_mae: 0.1072\n",
            "Epoch 4/500\n",
            "33/33 [==============================] - 3s 79ms/step - loss: 0.0104 - mae: 0.1123 - val_loss: 0.0073 - val_mae: 0.0973\n",
            "Epoch 5/500\n",
            "33/33 [==============================] - 1s 38ms/step - loss: 0.0093 - mae: 0.1043 - val_loss: 0.0064 - val_mae: 0.0898\n",
            "Epoch 6/500\n",
            "33/33 [==============================] - 1s 37ms/step - loss: 0.0085 - mae: 0.0984 - val_loss: 0.0057 - val_mae: 0.0840\n",
            "Epoch 7/500\n",
            "33/33 [==============================] - 1s 36ms/step - loss: 0.0079 - mae: 0.0935 - val_loss: 0.0051 - val_mae: 0.0786\n",
            "Epoch 8/500\n",
            "33/33 [==============================] - 1s 36ms/step - loss: 0.0075 - mae: 0.0897 - val_loss: 0.0048 - val_mae: 0.0759\n",
            "Epoch 9/500\n",
            "33/33 [==============================] - 1s 37ms/step - loss: 0.0071 - mae: 0.0862 - val_loss: 0.0044 - val_mae: 0.0722\n",
            "Epoch 10/500\n",
            "33/33 [==============================] - 2s 51ms/step - loss: 0.0068 - mae: 0.0833 - val_loss: 0.0040 - val_mae: 0.0689\n",
            "Epoch 11/500\n",
            "33/33 [==============================] - 1s 42ms/step - loss: 0.0065 - mae: 0.0806 - val_loss: 0.0037 - val_mae: 0.0661\n",
            "Epoch 12/500\n",
            "33/33 [==============================] - 1s 36ms/step - loss: 0.0062 - mae: 0.0786 - val_loss: 0.0035 - val_mae: 0.0640\n",
            "Epoch 13/500\n",
            "33/33 [==============================] - 1s 37ms/step - loss: 0.0061 - mae: 0.0772 - val_loss: 0.0035 - val_mae: 0.0633\n",
            "Epoch 14/500\n",
            "33/33 [==============================] - 1s 37ms/step - loss: 0.0059 - mae: 0.0751 - val_loss: 0.0032 - val_mae: 0.0602\n",
            "Epoch 15/500\n",
            "33/33 [==============================] - 1s 37ms/step - loss: 0.0057 - mae: 0.0737 - val_loss: 0.0030 - val_mae: 0.0590\n",
            "Epoch 16/500\n",
            "33/33 [==============================] - 1s 38ms/step - loss: 0.0056 - mae: 0.0723 - val_loss: 0.0030 - val_mae: 0.0585\n",
            "Epoch 17/500\n",
            "33/33 [==============================] - 2s 55ms/step - loss: 0.0055 - mae: 0.0712 - val_loss: 0.0028 - val_mae: 0.0568\n",
            "Epoch 18/500\n",
            "33/33 [==============================] - 1s 43ms/step - loss: 0.0054 - mae: 0.0701 - val_loss: 0.0027 - val_mae: 0.0557\n",
            "Epoch 19/500\n",
            "33/33 [==============================] - 1s 37ms/step - loss: 0.0053 - mae: 0.0691 - val_loss: 0.0027 - val_mae: 0.0549\n",
            "Epoch 20/500\n",
            "33/33 [==============================] - 1s 37ms/step - loss: 0.0052 - mae: 0.0681 - val_loss: 0.0026 - val_mae: 0.0540\n",
            "Epoch 21/500\n",
            "33/33 [==============================] - 1s 37ms/step - loss: 0.0051 - mae: 0.0672 - val_loss: 0.0025 - val_mae: 0.0528\n",
            "Epoch 22/500\n",
            "33/33 [==============================] - 1s 35ms/step - loss: 0.0050 - mae: 0.0670 - val_loss: 0.0025 - val_mae: 0.0528\n",
            "Epoch 23/500\n",
            "33/33 [==============================] - 1s 37ms/step - loss: 0.0049 - mae: 0.0661 - val_loss: 0.0024 - val_mae: 0.0512\n",
            "Epoch 24/500\n",
            "33/33 [==============================] - 2s 61ms/step - loss: 0.0049 - mae: 0.0658 - val_loss: 0.0024 - val_mae: 0.0519\n",
            "Epoch 25/500\n",
            "33/33 [==============================] - 2s 52ms/step - loss: 0.0048 - mae: 0.0650 - val_loss: 0.0023 - val_mae: 0.0505\n",
            "Epoch 26/500\n",
            "33/33 [==============================] - 1s 39ms/step - loss: 0.0048 - mae: 0.0647 - val_loss: 0.0023 - val_mae: 0.0499\n",
            "Epoch 27/500\n",
            "33/33 [==============================] - 1s 36ms/step - loss: 0.0047 - mae: 0.0636 - val_loss: 0.0022 - val_mae: 0.0498\n",
            "Epoch 28/500\n",
            "33/33 [==============================] - 1s 36ms/step - loss: 0.0047 - mae: 0.0633 - val_loss: 0.0022 - val_mae: 0.0491\n",
            "Epoch 29/500\n",
            "33/33 [==============================] - 1s 38ms/step - loss: 0.0046 - mae: 0.0628 - val_loss: 0.0021 - val_mae: 0.0482\n",
            "Epoch 30/500\n",
            "33/33 [==============================] - 1s 36ms/step - loss: 0.0046 - mae: 0.0624 - val_loss: 0.0021 - val_mae: 0.0477\n",
            "Epoch 31/500\n",
            "33/33 [==============================] - 1s 41ms/step - loss: 0.0046 - mae: 0.0624 - val_loss: 0.0021 - val_mae: 0.0486\n",
            "Epoch 32/500\n",
            "33/33 [==============================] - 2s 64ms/step - loss: 0.0045 - mae: 0.0616 - val_loss: 0.0021 - val_mae: 0.0473\n",
            "Epoch 33/500\n",
            "33/33 [==============================] - 1s 38ms/step - loss: 0.0045 - mae: 0.0615 - val_loss: 0.0020 - val_mae: 0.0472\n",
            "Epoch 34/500\n",
            "33/33 [==============================] - 1s 36ms/step - loss: 0.0045 - mae: 0.0611 - val_loss: 0.0019 - val_mae: 0.0461\n",
            "Epoch 35/500\n",
            "33/33 [==============================] - 1s 38ms/step - loss: 0.0044 - mae: 0.0608 - val_loss: 0.0021 - val_mae: 0.0474\n",
            "Epoch 36/500\n",
            "33/33 [==============================] - 1s 35ms/step - loss: 0.0044 - mae: 0.0606 - val_loss: 0.0020 - val_mae: 0.0463\n",
            "Epoch 37/500\n",
            "33/33 [==============================] - 1s 37ms/step - loss: 0.0044 - mae: 0.0602 - val_loss: 0.0019 - val_mae: 0.0457\n",
            "Epoch 38/500\n",
            "33/33 [==============================] - 1s 42ms/step - loss: 0.0044 - mae: 0.0604 - val_loss: 0.0020 - val_mae: 0.0466\n",
            "Epoch 39/500\n",
            "33/33 [==============================] - 2s 64ms/step - loss: 0.0043 - mae: 0.0596 - val_loss: 0.0019 - val_mae: 0.0459\n",
            "Epoch 40/500\n",
            "33/33 [==============================] - 2s 44ms/step - loss: 0.0043 - mae: 0.0594 - val_loss: 0.0019 - val_mae: 0.0457\n",
            "Epoch 41/500\n",
            "33/33 [==============================] - 1s 36ms/step - loss: 0.0042 - mae: 0.0590 - val_loss: 0.0019 - val_mae: 0.0451\n",
            "Epoch 42/500\n",
            "33/33 [==============================] - 2s 59ms/step - loss: 0.0042 - mae: 0.0591 - val_loss: 0.0019 - val_mae: 0.0443\n",
            "Epoch 43/500\n",
            "33/33 [==============================] - 3s 83ms/step - loss: 0.0042 - mae: 0.0588 - val_loss: 0.0018 - val_mae: 0.0444\n",
            "Epoch 44/500\n",
            "33/33 [==============================] - 2s 65ms/step - loss: 0.0042 - mae: 0.0587 - val_loss: 0.0019 - val_mae: 0.0450\n",
            "Epoch 45/500\n",
            "33/33 [==============================] - 1s 37ms/step - loss: 0.0042 - mae: 0.0585 - val_loss: 0.0019 - val_mae: 0.0455\n",
            "Epoch 46/500\n",
            "33/33 [==============================] - 1s 37ms/step - loss: 0.0041 - mae: 0.0579 - val_loss: 0.0019 - val_mae: 0.0449\n",
            "Epoch 47/500\n",
            "33/33 [==============================] - 1s 36ms/step - loss: 0.0041 - mae: 0.0580 - val_loss: 0.0018 - val_mae: 0.0439\n",
            "Epoch 48/500\n",
            "33/33 [==============================] - 1s 38ms/step - loss: 0.0041 - mae: 0.0574 - val_loss: 0.0018 - val_mae: 0.0433\n",
            "Epoch 49/500\n",
            "33/33 [==============================] - 1s 37ms/step - loss: 0.0041 - mae: 0.0576 - val_loss: 0.0018 - val_mae: 0.0434\n",
            "Epoch 50/500\n",
            "33/33 [==============================] - 2s 45ms/step - loss: 0.0041 - mae: 0.0573 - val_loss: 0.0018 - val_mae: 0.0438\n",
            "Epoch 51/500\n",
            "33/33 [==============================] - 2s 46ms/step - loss: 0.0040 - mae: 0.0571 - val_loss: 0.0018 - val_mae: 0.0434\n",
            "Epoch 52/500\n",
            "33/33 [==============================] - 1s 36ms/step - loss: 0.0040 - mae: 0.0569 - val_loss: 0.0017 - val_mae: 0.0428\n",
            "Epoch 53/500\n",
            "33/33 [==============================] - 1s 37ms/step - loss: 0.0040 - mae: 0.0565 - val_loss: 0.0017 - val_mae: 0.0425\n",
            "Epoch 54/500\n",
            "33/33 [==============================] - 1s 36ms/step - loss: 0.0040 - mae: 0.0574 - val_loss: 0.0018 - val_mae: 0.0440\n",
            "Epoch 55/500\n",
            "33/33 [==============================] - 1s 35ms/step - loss: 0.0040 - mae: 0.0566 - val_loss: 0.0018 - val_mae: 0.0431\n",
            "Epoch 56/500\n",
            "33/33 [==============================] - 1s 37ms/step - loss: 0.0040 - mae: 0.0566 - val_loss: 0.0017 - val_mae: 0.0431\n",
            "Epoch 57/500\n",
            "33/33 [==============================] - 1s 35ms/step - loss: 0.0040 - mae: 0.0565 - val_loss: 0.0018 - val_mae: 0.0436\n",
            "Epoch 58/500\n",
            "33/33 [==============================] - 2s 59ms/step - loss: 0.0039 - mae: 0.0561 - val_loss: 0.0017 - val_mae: 0.0427\n",
            "Epoch 59/500\n",
            "33/33 [==============================] - 1s 43ms/step - loss: 0.0039 - mae: 0.0557 - val_loss: 0.0017 - val_mae: 0.0422\n",
            "Epoch 60/500\n",
            "33/33 [==============================] - 1s 37ms/step - loss: 0.0039 - mae: 0.0559 - val_loss: 0.0017 - val_mae: 0.0420\n",
            "Epoch 61/500\n",
            "33/33 [==============================] - 1s 36ms/step - loss: 0.0039 - mae: 0.0558 - val_loss: 0.0017 - val_mae: 0.0421\n",
            "Epoch 62/500\n",
            "33/33 [==============================] - 1s 38ms/step - loss: 0.0039 - mae: 0.0556 - val_loss: 0.0017 - val_mae: 0.0418\n",
            "Epoch 63/500\n",
            "33/33 [==============================] - 1s 38ms/step - loss: 0.0039 - mae: 0.0551 - val_loss: 0.0017 - val_mae: 0.0428\n",
            "Epoch 64/500\n",
            "33/33 [==============================] - 2s 57ms/step - loss: 0.0038 - mae: 0.0550 - val_loss: 0.0017 - val_mae: 0.0423\n",
            "Epoch 65/500\n",
            "33/33 [==============================] - 2s 56ms/step - loss: 0.0038 - mae: 0.0550 - val_loss: 0.0017 - val_mae: 0.0424\n",
            "Epoch 66/500\n",
            "33/33 [==============================] - 1s 39ms/step - loss: 0.0038 - mae: 0.0546 - val_loss: 0.0016 - val_mae: 0.0409\n",
            "Epoch 67/500\n",
            "33/33 [==============================] - 1s 38ms/step - loss: 0.0038 - mae: 0.0557 - val_loss: 0.0018 - val_mae: 0.0436\n",
            "Epoch 68/500\n",
            "33/33 [==============================] - 1s 36ms/step - loss: 0.0038 - mae: 0.0548 - val_loss: 0.0016 - val_mae: 0.0410\n",
            "Epoch 69/500\n",
            "33/33 [==============================] - 1s 36ms/step - loss: 0.0038 - mae: 0.0548 - val_loss: 0.0017 - val_mae: 0.0414\n",
            "Epoch 70/500\n",
            "33/33 [==============================] - 1s 38ms/step - loss: 0.0038 - mae: 0.0540 - val_loss: 0.0016 - val_mae: 0.0409\n",
            "Epoch 71/500\n",
            "33/33 [==============================] - 2s 45ms/step - loss: 0.0038 - mae: 0.0545 - val_loss: 0.0017 - val_mae: 0.0420\n",
            "Epoch 72/500\n",
            "33/33 [==============================] - 2s 70ms/step - loss: 0.0038 - mae: 0.0539 - val_loss: 0.0016 - val_mae: 0.0410\n",
            "Epoch 73/500\n",
            "33/33 [==============================] - 2s 67ms/step - loss: 0.0037 - mae: 0.0540 - val_loss: 0.0017 - val_mae: 0.0417\n",
            "Epoch 74/500\n",
            "33/33 [==============================] - 1s 38ms/step - loss: 0.0037 - mae: 0.0539 - val_loss: 0.0017 - val_mae: 0.0413\n",
            "Epoch 75/500\n",
            "33/33 [==============================] - 1s 38ms/step - loss: 0.0037 - mae: 0.0538 - val_loss: 0.0017 - val_mae: 0.0415\n",
            "Epoch 76/500\n",
            "33/33 [==============================] - 1s 37ms/step - loss: 0.0037 - mae: 0.0535 - val_loss: 0.0017 - val_mae: 0.0413\n",
            "Epoch 77/500\n",
            "33/33 [==============================] - 1s 37ms/step - loss: 0.0037 - mae: 0.0537 - val_loss: 0.0016 - val_mae: 0.0399\n",
            "Epoch 78/500\n",
            "33/33 [==============================] - 2s 59ms/step - loss: 0.0037 - mae: 0.0535 - val_loss: 0.0016 - val_mae: 0.0408\n",
            "Epoch 79/500\n",
            "33/33 [==============================] - 1s 43ms/step - loss: 0.0037 - mae: 0.0536 - val_loss: 0.0016 - val_mae: 0.0402\n",
            "Epoch 80/500\n",
            "33/33 [==============================] - 1s 39ms/step - loss: 0.0037 - mae: 0.0532 - val_loss: 0.0016 - val_mae: 0.0407\n",
            "Epoch 81/500\n",
            "33/33 [==============================] - 1s 39ms/step - loss: 0.0037 - mae: 0.0530 - val_loss: 0.0016 - val_mae: 0.0398\n",
            "Epoch 82/500\n",
            "33/33 [==============================] - 1s 38ms/step - loss: 0.0037 - mae: 0.0536 - val_loss: 0.0016 - val_mae: 0.0406\n",
            "Epoch 83/500\n",
            "33/33 [==============================] - 1s 36ms/step - loss: 0.0036 - mae: 0.0530 - val_loss: 0.0016 - val_mae: 0.0405\n",
            "Epoch 84/500\n",
            "33/33 [==============================] - 1s 36ms/step - loss: 0.0036 - mae: 0.0528 - val_loss: 0.0016 - val_mae: 0.0412\n",
            "Epoch 85/500\n",
            "33/33 [==============================] - 2s 58ms/step - loss: 0.0036 - mae: 0.0527 - val_loss: 0.0016 - val_mae: 0.0399\n",
            "Epoch 86/500\n",
            "33/33 [==============================] - 2s 44ms/step - loss: 0.0037 - mae: 0.0532 - val_loss: 0.0015 - val_mae: 0.0396\n",
            "Epoch 87/500\n",
            "33/33 [==============================] - 1s 37ms/step - loss: 0.0036 - mae: 0.0529 - val_loss: 0.0016 - val_mae: 0.0415\n",
            "Epoch 88/500\n",
            "33/33 [==============================] - 1s 38ms/step - loss: 0.0036 - mae: 0.0526 - val_loss: 0.0016 - val_mae: 0.0397\n",
            "Epoch 89/500\n",
            "33/33 [==============================] - 1s 36ms/step - loss: 0.0036 - mae: 0.0526 - val_loss: 0.0016 - val_mae: 0.0402\n",
            "Epoch 90/500\n",
            "33/33 [==============================] - 1s 38ms/step - loss: 0.0036 - mae: 0.0525 - val_loss: 0.0016 - val_mae: 0.0401\n",
            "Epoch 91/500\n",
            "33/33 [==============================] - 2s 55ms/step - loss: 0.0036 - mae: 0.0525 - val_loss: 0.0016 - val_mae: 0.0401\n",
            "Epoch 92/500\n",
            "33/33 [==============================] - 1s 38ms/step - loss: 0.0036 - mae: 0.0519 - val_loss: 0.0016 - val_mae: 0.0401\n",
            "Epoch 93/500\n",
            "33/33 [==============================] - 1s 38ms/step - loss: 0.0036 - mae: 0.0518 - val_loss: 0.0015 - val_mae: 0.0395\n",
            "Epoch 94/500\n",
            "33/33 [==============================] - 1s 39ms/step - loss: 0.0036 - mae: 0.0523 - val_loss: 0.0016 - val_mae: 0.0403\n",
            "Epoch 95/500\n",
            "33/33 [==============================] - 1s 39ms/step - loss: 0.0035 - mae: 0.0520 - val_loss: 0.0016 - val_mae: 0.0399\n",
            "Epoch 96/500\n",
            "33/33 [==============================] - 1s 38ms/step - loss: 0.0035 - mae: 0.0519 - val_loss: 0.0015 - val_mae: 0.0393\n",
            "Epoch 97/500\n",
            "33/33 [==============================] - 2s 53ms/step - loss: 0.0035 - mae: 0.0516 - val_loss: 0.0016 - val_mae: 0.0398\n",
            "Epoch 98/500\n",
            "33/33 [==============================] - 2s 64ms/step - loss: 0.0035 - mae: 0.0515 - val_loss: 0.0015 - val_mae: 0.0391\n",
            "Epoch 99/500\n",
            "33/33 [==============================] - 1s 38ms/step - loss: 0.0035 - mae: 0.0516 - val_loss: 0.0016 - val_mae: 0.0397\n",
            "Epoch 100/500\n",
            "33/33 [==============================] - 2s 52ms/step - loss: 0.0035 - mae: 0.0517 - val_loss: 0.0015 - val_mae: 0.0387\n",
            "Epoch 101/500\n",
            "33/33 [==============================] - 2s 62ms/step - loss: 0.0035 - mae: 0.0515 - val_loss: 0.0015 - val_mae: 0.0395\n",
            "Epoch 102/500\n",
            "33/33 [==============================] - 3s 85ms/step - loss: 0.0035 - mae: 0.0516 - val_loss: 0.0016 - val_mae: 0.0403\n",
            "Epoch 103/500\n",
            "33/33 [==============================] - 4s 119ms/step - loss: 0.0035 - mae: 0.0517 - val_loss: 0.0016 - val_mae: 0.0400\n",
            "Epoch 104/500\n",
            "33/33 [==============================] - 3s 86ms/step - loss: 0.0035 - mae: 0.0515 - val_loss: 0.0015 - val_mae: 0.0390\n",
            "Epoch 105/500\n",
            "33/33 [==============================] - 1s 39ms/step - loss: 0.0035 - mae: 0.0512 - val_loss: 0.0016 - val_mae: 0.0395\n",
            "Epoch 106/500\n",
            "33/33 [==============================] - 1s 38ms/step - loss: 0.0035 - mae: 0.0507 - val_loss: 0.0015 - val_mae: 0.0388\n",
            "Epoch 107/500\n",
            "33/33 [==============================] - 1s 40ms/step - loss: 0.0035 - mae: 0.0511 - val_loss: 0.0015 - val_mae: 0.0395\n",
            "Epoch 108/500\n",
            "33/33 [==============================] - 2s 59ms/step - loss: 0.0035 - mae: 0.0513 - val_loss: 0.0016 - val_mae: 0.0401\n",
            "Epoch 109/500\n",
            "33/33 [==============================] - 1s 39ms/step - loss: 0.0035 - mae: 0.0509 - val_loss: 0.0015 - val_mae: 0.0388\n",
            "Epoch 110/500\n",
            "33/33 [==============================] - 1s 38ms/step - loss: 0.0035 - mae: 0.0510 - val_loss: 0.0016 - val_mae: 0.0400\n",
            "Epoch 111/500\n",
            "33/33 [==============================] - 1s 38ms/step - loss: 0.0034 - mae: 0.0509 - val_loss: 0.0015 - val_mae: 0.0389\n",
            "Epoch 112/500\n",
            "33/33 [==============================] - 1s 39ms/step - loss: 0.0035 - mae: 0.0512 - val_loss: 0.0015 - val_mae: 0.0391\n",
            "Epoch 113/500\n",
            "33/33 [==============================] - 1s 37ms/step - loss: 0.0034 - mae: 0.0507 - val_loss: 0.0016 - val_mae: 0.0399\n",
            "Epoch 114/500\n",
            "33/33 [==============================] - 1s 39ms/step - loss: 0.0034 - mae: 0.0506 - val_loss: 0.0015 - val_mae: 0.0388\n",
            "Epoch 115/500\n",
            "33/33 [==============================] - 2s 62ms/step - loss: 0.0034 - mae: 0.0512 - val_loss: 0.0016 - val_mae: 0.0400\n",
            "Epoch 116/500\n",
            "33/33 [==============================] - 1s 39ms/step - loss: 0.0034 - mae: 0.0503 - val_loss: 0.0015 - val_mae: 0.0382\n",
            "Epoch 117/500\n",
            "33/33 [==============================] - 1s 37ms/step - loss: 0.0034 - mae: 0.0510 - val_loss: 0.0016 - val_mae: 0.0396\n",
            "Epoch 118/500\n",
            "33/33 [==============================] - 1s 38ms/step - loss: 0.0034 - mae: 0.0507 - val_loss: 0.0015 - val_mae: 0.0394\n",
            "Epoch 119/500\n",
            "33/33 [==============================] - 1s 39ms/step - loss: 0.0034 - mae: 0.0501 - val_loss: 0.0015 - val_mae: 0.0389\n",
            "Epoch 120/500\n",
            "33/33 [==============================] - 2s 45ms/step - loss: 0.0034 - mae: 0.0501 - val_loss: 0.0015 - val_mae: 0.0387\n",
            "Epoch 121/500\n",
            "33/33 [==============================] - 2s 48ms/step - loss: 0.0034 - mae: 0.0505 - val_loss: 0.0015 - val_mae: 0.0391\n",
            "Epoch 122/500\n",
            "33/33 [==============================] - 1s 38ms/step - loss: 0.0034 - mae: 0.0499 - val_loss: 0.0015 - val_mae: 0.0387\n",
            "Epoch 123/500\n",
            "33/33 [==============================] - 1s 37ms/step - loss: 0.0034 - mae: 0.0503 - val_loss: 0.0015 - val_mae: 0.0390\n",
            "Epoch 124/500\n",
            "33/33 [==============================] - 1s 40ms/step - loss: 0.0034 - mae: 0.0499 - val_loss: 0.0015 - val_mae: 0.0389\n",
            "Epoch 125/500\n",
            "33/33 [==============================] - 1s 38ms/step - loss: 0.0034 - mae: 0.0503 - val_loss: 0.0015 - val_mae: 0.0385\n",
            "Epoch 126/500\n",
            "33/33 [==============================] - 1s 38ms/step - loss: 0.0034 - mae: 0.0498 - val_loss: 0.0015 - val_mae: 0.0387\n",
            "Epoch 127/500\n",
            "33/33 [==============================] - 2s 61ms/step - loss: 0.0033 - mae: 0.0498 - val_loss: 0.0015 - val_mae: 0.0383\n",
            "Epoch 128/500\n",
            "33/33 [==============================] - 2s 43ms/step - loss: 0.0033 - mae: 0.0498 - val_loss: 0.0015 - val_mae: 0.0391\n",
            "Epoch 129/500\n",
            "33/33 [==============================] - 1s 36ms/step - loss: 0.0034 - mae: 0.0503 - val_loss: 0.0015 - val_mae: 0.0386\n",
            "Epoch 130/500\n",
            "33/33 [==============================] - 1s 37ms/step - loss: 0.0033 - mae: 0.0496 - val_loss: 0.0015 - val_mae: 0.0390\n",
            "Epoch 131/500\n",
            "33/33 [==============================] - 1s 38ms/step - loss: 0.0033 - mae: 0.0498 - val_loss: 0.0015 - val_mae: 0.0380\n",
            "Epoch 132/500\n",
            "33/33 [==============================] - 1s 37ms/step - loss: 0.0033 - mae: 0.0494 - val_loss: 0.0016 - val_mae: 0.0395\n",
            "Epoch 133/500\n",
            "33/33 [==============================] - 1s 38ms/step - loss: 0.0033 - mae: 0.0497 - val_loss: 0.0015 - val_mae: 0.0382\n",
            "Epoch 134/500\n",
            "33/33 [==============================] - 1s 37ms/step - loss: 0.0033 - mae: 0.0496 - val_loss: 0.0015 - val_mae: 0.0394\n",
            "Epoch 135/500\n",
            "33/33 [==============================] - 2s 58ms/step - loss: 0.0033 - mae: 0.0497 - val_loss: 0.0015 - val_mae: 0.0377\n",
            "Epoch 136/500\n",
            "33/33 [==============================] - 1s 38ms/step - loss: 0.0033 - mae: 0.0493 - val_loss: 0.0015 - val_mae: 0.0389\n",
            "Epoch 137/500\n",
            "33/33 [==============================] - 1s 37ms/step - loss: 0.0033 - mae: 0.0492 - val_loss: 0.0014 - val_mae: 0.0378\n",
            "Epoch 138/500\n",
            "33/33 [==============================] - 1s 36ms/step - loss: 0.0033 - mae: 0.0496 - val_loss: 0.0015 - val_mae: 0.0379\n",
            "Epoch 139/500\n",
            "33/33 [==============================] - 1s 38ms/step - loss: 0.0033 - mae: 0.0492 - val_loss: 0.0015 - val_mae: 0.0389\n",
            "Epoch 140/500\n",
            "33/33 [==============================] - 1s 38ms/step - loss: 0.0033 - mae: 0.0495 - val_loss: 0.0015 - val_mae: 0.0382\n",
            "Epoch 141/500\n",
            "33/33 [==============================] - 1s 38ms/step - loss: 0.0033 - mae: 0.0490 - val_loss: 0.0015 - val_mae: 0.0377\n",
            "Epoch 142/500\n",
            "33/33 [==============================] - 2s 62ms/step - loss: 0.0033 - mae: 0.0492 - val_loss: 0.0015 - val_mae: 0.0386\n",
            "Epoch 143/500\n",
            "33/33 [==============================] - 2s 53ms/step - loss: 0.0033 - mae: 0.0491 - val_loss: 0.0014 - val_mae: 0.0375\n",
            "Epoch 144/500\n",
            "33/33 [==============================] - 1s 40ms/step - loss: 0.0033 - mae: 0.0489 - val_loss: 0.0015 - val_mae: 0.0381\n",
            "Epoch 145/500\n",
            "33/33 [==============================] - 1s 38ms/step - loss: 0.0033 - mae: 0.0498 - val_loss: 0.0015 - val_mae: 0.0396\n",
            "Epoch 146/500\n",
            "33/33 [==============================] - 1s 38ms/step - loss: 0.0033 - mae: 0.0496 - val_loss: 0.0015 - val_mae: 0.0378\n",
            "Epoch 147/500\n",
            "33/33 [==============================] - 1s 39ms/step - loss: 0.0033 - mae: 0.0485 - val_loss: 0.0015 - val_mae: 0.0383\n",
            "Epoch 148/500\n",
            "33/33 [==============================] - 1s 39ms/step - loss: 0.0033 - mae: 0.0486 - val_loss: 0.0015 - val_mae: 0.0377\n",
            "Epoch 149/500\n",
            "33/33 [==============================] - 2s 58ms/step - loss: 0.0033 - mae: 0.0488 - val_loss: 0.0014 - val_mae: 0.0375\n",
            "Epoch 150/500\n",
            "33/33 [==============================] - 1s 38ms/step - loss: 0.0033 - mae: 0.0489 - val_loss: 0.0015 - val_mae: 0.0377\n",
            "Epoch 151/500\n",
            "33/33 [==============================] - 1s 38ms/step - loss: 0.0033 - mae: 0.0492 - val_loss: 0.0015 - val_mae: 0.0382\n",
            "Epoch 152/500\n",
            "33/33 [==============================] - 1s 38ms/step - loss: 0.0032 - mae: 0.0485 - val_loss: 0.0014 - val_mae: 0.0374\n",
            "Epoch 153/500\n",
            "33/33 [==============================] - 1s 38ms/step - loss: 0.0032 - mae: 0.0486 - val_loss: 0.0015 - val_mae: 0.0376\n",
            "Epoch 154/500\n",
            "33/33 [==============================] - 1s 36ms/step - loss: 0.0032 - mae: 0.0483 - val_loss: 0.0015 - val_mae: 0.0382\n",
            "Epoch 155/500\n",
            "33/33 [==============================] - 1s 38ms/step - loss: 0.0032 - mae: 0.0491 - val_loss: 0.0014 - val_mae: 0.0374\n",
            "Epoch 156/500\n",
            "33/33 [==============================] - 2s 53ms/step - loss: 0.0032 - mae: 0.0482 - val_loss: 0.0014 - val_mae: 0.0376\n",
            "Epoch 157/500\n",
            "33/33 [==============================] - 2s 45ms/step - loss: 0.0032 - mae: 0.0483 - val_loss: 0.0015 - val_mae: 0.0380\n",
            "Epoch 158/500\n",
            "33/33 [==============================] - 1s 39ms/step - loss: 0.0032 - mae: 0.0481 - val_loss: 0.0015 - val_mae: 0.0382\n",
            "Epoch 159/500\n",
            "33/33 [==============================] - 1s 38ms/step - loss: 0.0032 - mae: 0.0482 - val_loss: 0.0015 - val_mae: 0.0380\n",
            "Epoch 160/500\n",
            "33/33 [==============================] - 1s 37ms/step - loss: 0.0032 - mae: 0.0483 - val_loss: 0.0014 - val_mae: 0.0374\n",
            "Epoch 161/500\n",
            "33/33 [==============================] - 1s 36ms/step - loss: 0.0032 - mae: 0.0482 - val_loss: 0.0015 - val_mae: 0.0376\n",
            "Epoch 162/500\n",
            "33/33 [==============================] - 2s 54ms/step - loss: 0.0032 - mae: 0.0483 - val_loss: 0.0015 - val_mae: 0.0383\n",
            "Epoch 163/500\n",
            "33/33 [==============================] - 2s 61ms/step - loss: 0.0032 - mae: 0.0482 - val_loss: 0.0015 - val_mae: 0.0376\n",
            "Epoch 164/500\n",
            "33/33 [==============================] - 2s 54ms/step - loss: 0.0032 - mae: 0.0486 - val_loss: 0.0015 - val_mae: 0.0380\n",
            "Epoch 165/500\n",
            "33/33 [==============================] - 2s 61ms/step - loss: 0.0032 - mae: 0.0484 - val_loss: 0.0015 - val_mae: 0.0393\n",
            "Epoch 166/500\n",
            "33/33 [==============================] - 1s 37ms/step - loss: 0.0032 - mae: 0.0489 - val_loss: 0.0015 - val_mae: 0.0374\n",
            "Epoch 167/500\n",
            "33/33 [==============================] - 1s 40ms/step - loss: 0.0032 - mae: 0.0484 - val_loss: 0.0015 - val_mae: 0.0384\n",
            "Epoch 168/500\n",
            "33/33 [==============================] - 1s 36ms/step - loss: 0.0032 - mae: 0.0482 - val_loss: 0.0014 - val_mae: 0.0373\n",
            "Epoch 169/500\n",
            "33/33 [==============================] - 2s 61ms/step - loss: 0.0032 - mae: 0.0485 - val_loss: 0.0014 - val_mae: 0.0375\n",
            "Epoch 170/500\n",
            "33/33 [==============================] - 2s 55ms/step - loss: 0.0032 - mae: 0.0476 - val_loss: 0.0014 - val_mae: 0.0369\n",
            "Epoch 171/500\n",
            "33/33 [==============================] - 1s 37ms/step - loss: 0.0032 - mae: 0.0476 - val_loss: 0.0015 - val_mae: 0.0385\n",
            "Epoch 172/500\n",
            "33/33 [==============================] - 1s 38ms/step - loss: 0.0032 - mae: 0.0480 - val_loss: 0.0014 - val_mae: 0.0373\n",
            "Epoch 173/500\n",
            "33/33 [==============================] - 1s 38ms/step - loss: 0.0032 - mae: 0.0482 - val_loss: 0.0015 - val_mae: 0.0376\n",
            "Epoch 174/500\n",
            "33/33 [==============================] - 1s 36ms/step - loss: 0.0032 - mae: 0.0480 - val_loss: 0.0015 - val_mae: 0.0377\n",
            "Epoch 175/500\n",
            "33/33 [==============================] - 1s 38ms/step - loss: 0.0032 - mae: 0.0479 - val_loss: 0.0014 - val_mae: 0.0373\n",
            "Epoch 176/500\n",
            "33/33 [==============================] - 1s 42ms/step - loss: 0.0032 - mae: 0.0476 - val_loss: 0.0014 - val_mae: 0.0372\n",
            "Epoch 177/500\n",
            "33/33 [==============================] - 2s 59ms/step - loss: 0.0032 - mae: 0.0479 - val_loss: 0.0015 - val_mae: 0.0378\n",
            "Epoch 178/500\n",
            "33/33 [==============================] - 1s 37ms/step - loss: 0.0032 - mae: 0.0478 - val_loss: 0.0015 - val_mae: 0.0381\n",
            "Epoch 179/500\n",
            "33/33 [==============================] - 1s 38ms/step - loss: 0.0032 - mae: 0.0485 - val_loss: 0.0014 - val_mae: 0.0375\n",
            "Epoch 180/500\n",
            "33/33 [==============================] - 1s 37ms/step - loss: 0.0032 - mae: 0.0477 - val_loss: 0.0014 - val_mae: 0.0374\n",
            "Epoch 181/500\n",
            "33/33 [==============================] - 1s 38ms/step - loss: 0.0031 - mae: 0.0476 - val_loss: 0.0014 - val_mae: 0.0371\n",
            "Epoch 182/500\n",
            "33/33 [==============================] - 1s 37ms/step - loss: 0.0032 - mae: 0.0477 - val_loss: 0.0015 - val_mae: 0.0372\n",
            "Epoch 183/500\n",
            "33/33 [==============================] - 1s 37ms/step - loss: 0.0032 - mae: 0.0482 - val_loss: 0.0015 - val_mae: 0.0377\n",
            "Epoch 184/500\n",
            "33/33 [==============================] - 1s 41ms/step - loss: 0.0032 - mae: 0.0480 - val_loss: 0.0015 - val_mae: 0.0376\n",
            "Epoch 185/500\n",
            "33/33 [==============================] - 2s 61ms/step - loss: 0.0031 - mae: 0.0475 - val_loss: 0.0015 - val_mae: 0.0374\n",
            "Epoch 186/500\n",
            "33/33 [==============================] - 2s 46ms/step - loss: 0.0032 - mae: 0.0478 - val_loss: 0.0014 - val_mae: 0.0370\n",
            "Epoch 187/500\n",
            "33/33 [==============================] - 1s 38ms/step - loss: 0.0032 - mae: 0.0478 - val_loss: 0.0015 - val_mae: 0.0381\n",
            "Epoch 188/500\n",
            "33/33 [==============================] - 1s 38ms/step - loss: 0.0031 - mae: 0.0474 - val_loss: 0.0015 - val_mae: 0.0377\n",
            "Epoch 189/500\n",
            "33/33 [==============================] - 1s 37ms/step - loss: 0.0032 - mae: 0.0478 - val_loss: 0.0014 - val_mae: 0.0370\n",
            "Epoch 190/500\n",
            "33/33 [==============================] - 1s 36ms/step - loss: 0.0031 - mae: 0.0473 - val_loss: 0.0014 - val_mae: 0.0369\n",
            "Epoch 191/500\n",
            "33/33 [==============================] - 1s 39ms/step - loss: 0.0031 - mae: 0.0474 - val_loss: 0.0014 - val_mae: 0.0368\n",
            "Epoch 192/500\n",
            "33/33 [==============================] - 1s 39ms/step - loss: 0.0032 - mae: 0.0476 - val_loss: 0.0014 - val_mae: 0.0377\n",
            "Epoch 193/500\n",
            "33/33 [==============================] - 2s 61ms/step - loss: 0.0031 - mae: 0.0477 - val_loss: 0.0014 - val_mae: 0.0375\n",
            "Epoch 194/500\n",
            "33/33 [==============================] - 2s 50ms/step - loss: 0.0031 - mae: 0.0472 - val_loss: 0.0014 - val_mae: 0.0367\n",
            "Epoch 195/500\n",
            "33/33 [==============================] - 1s 39ms/step - loss: 0.0031 - mae: 0.0477 - val_loss: 0.0014 - val_mae: 0.0369\n",
            "Epoch 196/500\n",
            "33/33 [==============================] - 1s 38ms/step - loss: 0.0031 - mae: 0.0471 - val_loss: 0.0014 - val_mae: 0.0372\n",
            "Epoch 197/500\n",
            "33/33 [==============================] - 1s 38ms/step - loss: 0.0031 - mae: 0.0475 - val_loss: 0.0014 - val_mae: 0.0374\n",
            "Epoch 198/500\n",
            "33/33 [==============================] - 1s 38ms/step - loss: 0.0031 - mae: 0.0474 - val_loss: 0.0014 - val_mae: 0.0375\n",
            "Epoch 199/500\n",
            "33/33 [==============================] - 1s 38ms/step - loss: 0.0031 - mae: 0.0470 - val_loss: 0.0014 - val_mae: 0.0368\n",
            "Epoch 200/500\n",
            "33/33 [==============================] - 2s 58ms/step - loss: 0.0031 - mae: 0.0471 - val_loss: 0.0015 - val_mae: 0.0380\n",
            "Epoch 201/500\n",
            "33/33 [==============================] - 1s 38ms/step - loss: 0.0031 - mae: 0.0473 - val_loss: 0.0014 - val_mae: 0.0368\n",
            "Epoch 202/500\n",
            "33/33 [==============================] - 1s 37ms/step - loss: 0.0031 - mae: 0.0472 - val_loss: 0.0014 - val_mae: 0.0373\n",
            "Epoch 203/500\n",
            "33/33 [==============================] - 1s 38ms/step - loss: 0.0031 - mae: 0.0471 - val_loss: 0.0014 - val_mae: 0.0368\n",
            "Epoch 204/500\n",
            "33/33 [==============================] - 1s 37ms/step - loss: 0.0031 - mae: 0.0470 - val_loss: 0.0014 - val_mae: 0.0366\n",
            "Epoch 205/500\n",
            "33/33 [==============================] - 1s 37ms/step - loss: 0.0031 - mae: 0.0478 - val_loss: 0.0014 - val_mae: 0.0371\n",
            "Epoch 206/500\n",
            "33/33 [==============================] - 1s 36ms/step - loss: 0.0031 - mae: 0.0475 - val_loss: 0.0015 - val_mae: 0.0373\n",
            "Epoch 207/500\n",
            "33/33 [==============================] - 2s 52ms/step - loss: 0.0031 - mae: 0.0469 - val_loss: 0.0015 - val_mae: 0.0382\n",
            "Epoch 208/500\n",
            "33/33 [==============================] - 2s 64ms/step - loss: 0.0031 - mae: 0.0469 - val_loss: 0.0015 - val_mae: 0.0382\n",
            "Epoch 209/500\n",
            "33/33 [==============================] - 1s 39ms/step - loss: 0.0031 - mae: 0.0472 - val_loss: 0.0014 - val_mae: 0.0367\n",
            "Epoch 210/500\n",
            "33/33 [==============================] - 1s 38ms/step - loss: 0.0032 - mae: 0.0478 - val_loss: 0.0015 - val_mae: 0.0379\n",
            "Epoch 211/500\n",
            "33/33 [==============================] - 1s 37ms/step - loss: 0.0032 - mae: 0.0484 - val_loss: 0.0015 - val_mae: 0.0377\n",
            "Epoch 212/500\n",
            "33/33 [==============================] - 1s 37ms/step - loss: 0.0031 - mae: 0.0474 - val_loss: 0.0015 - val_mae: 0.0376\n",
            "Epoch 213/500\n",
            "33/33 [==============================] - 1s 39ms/step - loss: 0.0031 - mae: 0.0467 - val_loss: 0.0014 - val_mae: 0.0363\n",
            "Epoch 214/500\n",
            "33/33 [==============================] - 1s 38ms/step - loss: 0.0031 - mae: 0.0472 - val_loss: 0.0014 - val_mae: 0.0375\n",
            "Epoch 215/500\n",
            "33/33 [==============================] - 2s 56ms/step - loss: 0.0031 - mae: 0.0471 - val_loss: 0.0015 - val_mae: 0.0383\n",
            "Epoch 216/500\n",
            "33/33 [==============================] - 2s 60ms/step - loss: 0.0031 - mae: 0.0470 - val_loss: 0.0015 - val_mae: 0.0382\n",
            "Epoch 217/500\n",
            "33/33 [==============================] - 1s 39ms/step - loss: 0.0031 - mae: 0.0468 - val_loss: 0.0015 - val_mae: 0.0376\n",
            "Epoch 218/500\n",
            "33/33 [==============================] - 1s 38ms/step - loss: 0.0031 - mae: 0.0472 - val_loss: 0.0014 - val_mae: 0.0368\n",
            "Epoch 219/500\n",
            "33/33 [==============================] - 1s 40ms/step - loss: 0.0031 - mae: 0.0469 - val_loss: 0.0015 - val_mae: 0.0388\n",
            "Epoch 220/500\n",
            "33/33 [==============================] - 1s 38ms/step - loss: 0.0031 - mae: 0.0465 - val_loss: 0.0014 - val_mae: 0.0369\n",
            "Epoch 221/500\n",
            "33/33 [==============================] - 1s 38ms/step - loss: 0.0031 - mae: 0.0467 - val_loss: 0.0014 - val_mae: 0.0369\n",
            "Epoch 222/500\n",
            "33/33 [==============================] - 2s 67ms/step - loss: 0.0031 - mae: 0.0466 - val_loss: 0.0014 - val_mae: 0.0368\n",
            "Epoch 223/500\n",
            "33/33 [==============================] - 1s 38ms/step - loss: 0.0031 - mae: 0.0466 - val_loss: 0.0015 - val_mae: 0.0372\n",
            "Epoch 224/500\n",
            "33/33 [==============================] - 1s 38ms/step - loss: 0.0031 - mae: 0.0468 - val_loss: 0.0014 - val_mae: 0.0371\n",
            "Epoch 225/500\n",
            "33/33 [==============================] - 1s 39ms/step - loss: 0.0031 - mae: 0.0469 - val_loss: 0.0014 - val_mae: 0.0371\n",
            "Epoch 226/500\n",
            "33/33 [==============================] - 1s 38ms/step - loss: 0.0031 - mae: 0.0467 - val_loss: 0.0014 - val_mae: 0.0369\n",
            "Epoch 227/500\n",
            "33/33 [==============================] - 2s 49ms/step - loss: 0.0031 - mae: 0.0467 - val_loss: 0.0015 - val_mae: 0.0382\n",
            "Epoch 228/500\n",
            "33/33 [==============================] - 2s 49ms/step - loss: 0.0031 - mae: 0.0467 - val_loss: 0.0014 - val_mae: 0.0368\n",
            "Epoch 229/500\n",
            "33/33 [==============================] - 1s 40ms/step - loss: 0.0030 - mae: 0.0467 - val_loss: 0.0015 - val_mae: 0.0394\n",
            "Epoch 230/500\n",
            "33/33 [==============================] - 1s 37ms/step - loss: 0.0030 - mae: 0.0466 - val_loss: 0.0014 - val_mae: 0.0365\n",
            "Epoch 231/500\n",
            "33/33 [==============================] - 1s 37ms/step - loss: 0.0031 - mae: 0.0467 - val_loss: 0.0014 - val_mae: 0.0367\n",
            "Epoch 232/500\n",
            "33/33 [==============================] - 1s 37ms/step - loss: 0.0030 - mae: 0.0460 - val_loss: 0.0015 - val_mae: 0.0388\n",
            "Epoch 233/500\n",
            "33/33 [==============================] - 1s 38ms/step - loss: 0.0030 - mae: 0.0463 - val_loss: 0.0015 - val_mae: 0.0376\n",
            "Epoch 234/500\n",
            "33/33 [==============================] - 1s 37ms/step - loss: 0.0030 - mae: 0.0465 - val_loss: 0.0014 - val_mae: 0.0367\n",
            "Epoch 235/500\n",
            "33/33 [==============================] - 2s 51ms/step - loss: 0.0031 - mae: 0.0466 - val_loss: 0.0015 - val_mae: 0.0379\n",
            "Epoch 236/500\n",
            "33/33 [==============================] - 1s 39ms/step - loss: 0.0031 - mae: 0.0468 - val_loss: 0.0014 - val_mae: 0.0364\n",
            "Epoch 237/500\n",
            "33/33 [==============================] - 1s 38ms/step - loss: 0.0030 - mae: 0.0466 - val_loss: 0.0014 - val_mae: 0.0366\n",
            "Epoch 238/500\n",
            "33/33 [==============================] - 1s 37ms/step - loss: 0.0030 - mae: 0.0460 - val_loss: 0.0015 - val_mae: 0.0391\n",
            "Epoch 239/500\n",
            "33/33 [==============================] - 1s 39ms/step - loss: 0.0031 - mae: 0.0478 - val_loss: 0.0014 - val_mae: 0.0369\n",
            "Epoch 240/500\n",
            "33/33 [==============================] - 2s 58ms/step - loss: 0.0031 - mae: 0.0468 - val_loss: 0.0015 - val_mae: 0.0393\n",
            "Epoch 241/500\n",
            "33/33 [==============================] - 2s 45ms/step - loss: 0.0030 - mae: 0.0463 - val_loss: 0.0014 - val_mae: 0.0369\n",
            "Epoch 242/500\n",
            "33/33 [==============================] - 1s 40ms/step - loss: 0.0030 - mae: 0.0463 - val_loss: 0.0014 - val_mae: 0.0364\n",
            "Epoch 243/500\n",
            "33/33 [==============================] - 1s 39ms/step - loss: 0.0030 - mae: 0.0462 - val_loss: 0.0014 - val_mae: 0.0366\n",
            "Epoch 244/500\n",
            "33/33 [==============================] - 1s 39ms/step - loss: 0.0030 - mae: 0.0460 - val_loss: 0.0014 - val_mae: 0.0369\n",
            "Epoch 245/500\n",
            "33/33 [==============================] - 1s 39ms/step - loss: 0.0030 - mae: 0.0463 - val_loss: 0.0016 - val_mae: 0.0395\n",
            "Epoch 246/500\n",
            "33/33 [==============================] - 2s 59ms/step - loss: 0.0031 - mae: 0.0468 - val_loss: 0.0014 - val_mae: 0.0367\n",
            "Epoch 247/500\n",
            "33/33 [==============================] - 1s 38ms/step - loss: 0.0030 - mae: 0.0464 - val_loss: 0.0014 - val_mae: 0.0371\n",
            "Epoch 248/500\n",
            "33/33 [==============================] - 1s 39ms/step - loss: 0.0030 - mae: 0.0464 - val_loss: 0.0014 - val_mae: 0.0367\n",
            "Epoch 249/500\n",
            "33/33 [==============================] - 1s 39ms/step - loss: 0.0031 - mae: 0.0474 - val_loss: 0.0014 - val_mae: 0.0367\n",
            "Epoch 250/500\n",
            "33/33 [==============================] - 1s 38ms/step - loss: 0.0030 - mae: 0.0462 - val_loss: 0.0014 - val_mae: 0.0365\n",
            "Epoch 251/500\n",
            "33/33 [==============================] - 1s 36ms/step - loss: 0.0031 - mae: 0.0473 - val_loss: 0.0014 - val_mae: 0.0368\n",
            "Epoch 252/500\n",
            "33/33 [==============================] - 1s 39ms/step - loss: 0.0031 - mae: 0.0473 - val_loss: 0.0014 - val_mae: 0.0364\n",
            "Epoch 253/500\n",
            "33/33 [==============================] - 2s 55ms/step - loss: 0.0030 - mae: 0.0457 - val_loss: 0.0014 - val_mae: 0.0364\n",
            "Epoch 254/500\n",
            "33/33 [==============================] - 2s 62ms/step - loss: 0.0030 - mae: 0.0458 - val_loss: 0.0014 - val_mae: 0.0373\n",
            "Epoch 255/500\n",
            "33/33 [==============================] - 1s 38ms/step - loss: 0.0030 - mae: 0.0460 - val_loss: 0.0014 - val_mae: 0.0368\n",
            "Epoch 256/500\n",
            "33/33 [==============================] - 1s 38ms/step - loss: 0.0030 - mae: 0.0461 - val_loss: 0.0014 - val_mae: 0.0363\n",
            "Epoch 257/500\n",
            "33/33 [==============================] - 1s 38ms/step - loss: 0.0030 - mae: 0.0457 - val_loss: 0.0015 - val_mae: 0.0376\n",
            "Epoch 258/500\n",
            "33/33 [==============================] - 1s 39ms/step - loss: 0.0030 - mae: 0.0462 - val_loss: 0.0014 - val_mae: 0.0372\n",
            "Epoch 259/500\n",
            "33/33 [==============================] - 3s 74ms/step - loss: 0.0030 - mae: 0.0466 - val_loss: 0.0014 - val_mae: 0.0360\n",
            "Epoch 260/500\n",
            "33/33 [==============================] - 3s 98ms/step - loss: 0.0030 - mae: 0.0460 - val_loss: 0.0014 - val_mae: 0.0370\n",
            "Epoch 261/500\n",
            "33/33 [==============================] - 2s 58ms/step - loss: 0.0030 - mae: 0.0461 - val_loss: 0.0015 - val_mae: 0.0375\n",
            "Epoch 262/500\n",
            "33/33 [==============================] - 3s 95ms/step - loss: 0.0030 - mae: 0.0459 - val_loss: 0.0014 - val_mae: 0.0358\n",
            "Epoch 263/500\n",
            "33/33 [==============================] - 2s 44ms/step - loss: 0.0030 - mae: 0.0463 - val_loss: 0.0015 - val_mae: 0.0375\n",
            "Epoch 264/500\n",
            "33/33 [==============================] - 1s 38ms/step - loss: 0.0031 - mae: 0.0467 - val_loss: 0.0014 - val_mae: 0.0375\n",
            "Epoch 265/500\n",
            "33/33 [==============================] - 2s 49ms/step - loss: 0.0030 - mae: 0.0461 - val_loss: 0.0014 - val_mae: 0.0363\n",
            "Epoch 266/500\n",
            "33/33 [==============================] - 1s 39ms/step - loss: 0.0030 - mae: 0.0461 - val_loss: 0.0016 - val_mae: 0.0393\n",
            "Epoch 267/500\n",
            "33/33 [==============================] - 1s 41ms/step - loss: 0.0030 - mae: 0.0468 - val_loss: 0.0014 - val_mae: 0.0365\n",
            "Epoch 268/500\n",
            "33/33 [==============================] - 1s 38ms/step - loss: 0.0030 - mae: 0.0463 - val_loss: 0.0014 - val_mae: 0.0360\n",
            "Epoch 269/500\n",
            "33/33 [==============================] - 1s 37ms/step - loss: 0.0031 - mae: 0.0469 - val_loss: 0.0019 - val_mae: 0.0454\n",
            "Epoch 270/500\n",
            "33/33 [==============================] - 1s 39ms/step - loss: 0.0031 - mae: 0.0474 - val_loss: 0.0014 - val_mae: 0.0373\n",
            "Epoch 271/500\n",
            "33/33 [==============================] - 1s 40ms/step - loss: 0.0030 - mae: 0.0459 - val_loss: 0.0015 - val_mae: 0.0375\n",
            "Epoch 272/500\n",
            "33/33 [==============================] - 2s 63ms/step - loss: 0.0030 - mae: 0.0458 - val_loss: 0.0014 - val_mae: 0.0358\n",
            "Epoch 273/500\n",
            "33/33 [==============================] - 2s 50ms/step - loss: 0.0030 - mae: 0.0456 - val_loss: 0.0014 - val_mae: 0.0370\n",
            "Epoch 274/500\n",
            "33/33 [==============================] - 1s 38ms/step - loss: 0.0030 - mae: 0.0459 - val_loss: 0.0014 - val_mae: 0.0360\n",
            "Epoch 275/500\n",
            "33/33 [==============================] - 1s 39ms/step - loss: 0.0030 - mae: 0.0458 - val_loss: 0.0014 - val_mae: 0.0368\n",
            "Epoch 276/500\n",
            "33/33 [==============================] - 1s 39ms/step - loss: 0.0030 - mae: 0.0459 - val_loss: 0.0014 - val_mae: 0.0365\n",
            "Epoch 277/500\n",
            "33/33 [==============================] - 1s 40ms/step - loss: 0.0030 - mae: 0.0461 - val_loss: 0.0014 - val_mae: 0.0373\n",
            "Epoch 278/500\n",
            "33/33 [==============================] - 2s 65ms/step - loss: 0.0030 - mae: 0.0464 - val_loss: 0.0015 - val_mae: 0.0364\n",
            "Epoch 279/500\n",
            "33/33 [==============================] - 1s 39ms/step - loss: 0.0030 - mae: 0.0459 - val_loss: 0.0014 - val_mae: 0.0356\n",
            "Epoch 280/500\n",
            "33/33 [==============================] - 1s 38ms/step - loss: 0.0030 - mae: 0.0456 - val_loss: 0.0014 - val_mae: 0.0364\n",
            "Epoch 281/500\n",
            "33/33 [==============================] - 1s 37ms/step - loss: 0.0030 - mae: 0.0458 - val_loss: 0.0014 - val_mae: 0.0363\n",
            "Epoch 282/500\n",
            "33/33 [==============================] - 1s 39ms/step - loss: 0.0030 - mae: 0.0460 - val_loss: 0.0014 - val_mae: 0.0365\n",
            "Epoch 283/500\n",
            "33/33 [==============================] - 1s 40ms/step - loss: 0.0030 - mae: 0.0456 - val_loss: 0.0014 - val_mae: 0.0369\n",
            "Epoch 284/500\n",
            "33/33 [==============================] - 1s 39ms/step - loss: 0.0030 - mae: 0.0457 - val_loss: 0.0015 - val_mae: 0.0374\n",
            "Epoch 285/500\n",
            "33/33 [==============================] - 2s 59ms/step - loss: 0.0030 - mae: 0.0461 - val_loss: 0.0015 - val_mae: 0.0377\n",
            "Epoch 286/500\n",
            "33/33 [==============================] - 1s 40ms/step - loss: 0.0030 - mae: 0.0455 - val_loss: 0.0015 - val_mae: 0.0391\n",
            "Epoch 287/500\n",
            "33/33 [==============================] - 1s 38ms/step - loss: 0.0030 - mae: 0.0460 - val_loss: 0.0014 - val_mae: 0.0362\n",
            "Epoch 288/500\n",
            "33/33 [==============================] - 1s 39ms/step - loss: 0.0030 - mae: 0.0460 - val_loss: 0.0015 - val_mae: 0.0383\n",
            "Epoch 289/500\n",
            "33/33 [==============================] - 1s 39ms/step - loss: 0.0030 - mae: 0.0470 - val_loss: 0.0015 - val_mae: 0.0379\n",
            "Epoch 290/500\n",
            "33/33 [==============================] - 1s 37ms/step - loss: 0.0030 - mae: 0.0466 - val_loss: 0.0020 - val_mae: 0.0464\n",
            "Epoch 291/500\n",
            "33/33 [==============================] - 1s 40ms/step - loss: 0.0031 - mae: 0.0480 - val_loss: 0.0014 - val_mae: 0.0359\n",
            "Epoch 292/500\n",
            "33/33 [==============================] - 2s 65ms/step - loss: 0.0030 - mae: 0.0462 - val_loss: 0.0014 - val_mae: 0.0363\n",
            "Epoch 293/500\n",
            "33/33 [==============================] - 1s 39ms/step - loss: 0.0030 - mae: 0.0460 - val_loss: 0.0014 - val_mae: 0.0369\n",
            "Epoch 294/500\n",
            "33/33 [==============================] - 1s 39ms/step - loss: 0.0030 - mae: 0.0462 - val_loss: 0.0014 - val_mae: 0.0365\n",
            "Epoch 295/500\n",
            "33/33 [==============================] - 1s 39ms/step - loss: 0.0030 - mae: 0.0458 - val_loss: 0.0014 - val_mae: 0.0362\n",
            "Epoch 296/500\n",
            "33/33 [==============================] - 1s 39ms/step - loss: 0.0030 - mae: 0.0456 - val_loss: 0.0015 - val_mae: 0.0382\n",
            "Epoch 297/500\n",
            "33/33 [==============================] - 1s 39ms/step - loss: 0.0030 - mae: 0.0462 - val_loss: 0.0014 - val_mae: 0.0360\n",
            "Epoch 298/500\n",
            "33/33 [==============================] - 2s 48ms/step - loss: 0.0030 - mae: 0.0454 - val_loss: 0.0014 - val_mae: 0.0358\n",
            "Epoch 299/500\n",
            "33/33 [==============================] - 2s 53ms/step - loss: 0.0030 - mae: 0.0456 - val_loss: 0.0015 - val_mae: 0.0389\n",
            "Epoch 300/500\n",
            "33/33 [==============================] - 1s 39ms/step - loss: 0.0030 - mae: 0.0454 - val_loss: 0.0014 - val_mae: 0.0368\n",
            "Epoch 301/500\n",
            "33/33 [==============================] - 1s 39ms/step - loss: 0.0030 - mae: 0.0462 - val_loss: 0.0014 - val_mae: 0.0360\n",
            "Epoch 302/500\n",
            "33/33 [==============================] - 1s 38ms/step - loss: 0.0030 - mae: 0.0454 - val_loss: 0.0015 - val_mae: 0.0384\n",
            "Epoch 303/500\n",
            "33/33 [==============================] - 1s 39ms/step - loss: 0.0030 - mae: 0.0456 - val_loss: 0.0014 - val_mae: 0.0365\n",
            "Epoch 304/500\n",
            "33/33 [==============================] - 1s 40ms/step - loss: 0.0029 - mae: 0.0454 - val_loss: 0.0014 - val_mae: 0.0362\n",
            "Epoch 305/500\n",
            "33/33 [==============================] - 1s 38ms/step - loss: 0.0030 - mae: 0.0456 - val_loss: 0.0014 - val_mae: 0.0365\n",
            "Epoch 306/500\n",
            "33/33 [==============================] - 2s 50ms/step - loss: 0.0030 - mae: 0.0455 - val_loss: 0.0015 - val_mae: 0.0375\n",
            "Epoch 307/500\n",
            "33/33 [==============================] - 1s 39ms/step - loss: 0.0030 - mae: 0.0457 - val_loss: 0.0014 - val_mae: 0.0363\n",
            "Epoch 308/500\n",
            "33/33 [==============================] - 1s 39ms/step - loss: 0.0030 - mae: 0.0457 - val_loss: 0.0015 - val_mae: 0.0369\n",
            "Epoch 309/500\n",
            "33/33 [==============================] - 1s 40ms/step - loss: 0.0030 - mae: 0.0461 - val_loss: 0.0014 - val_mae: 0.0368\n",
            "Epoch 310/500\n",
            "33/33 [==============================] - 1s 40ms/step - loss: 0.0030 - mae: 0.0457 - val_loss: 0.0017 - val_mae: 0.0426\n",
            "Epoch 311/500\n",
            "33/33 [==============================] - 1s 40ms/step - loss: 0.0030 - mae: 0.0461 - val_loss: 0.0015 - val_mae: 0.0369\n",
            "Epoch 312/500\n",
            "33/33 [==============================] - 1s 38ms/step - loss: 0.0030 - mae: 0.0465 - val_loss: 0.0014 - val_mae: 0.0364\n",
            "Epoch 313/500\n",
            "33/33 [==============================] - 2s 58ms/step - loss: 0.0030 - mae: 0.0454 - val_loss: 0.0014 - val_mae: 0.0357\n",
            "Epoch 314/500\n",
            "33/33 [==============================] - 2s 61ms/step - loss: 0.0030 - mae: 0.0455 - val_loss: 0.0014 - val_mae: 0.0366\n",
            "Epoch 315/500\n",
            "33/33 [==============================] - 1s 40ms/step - loss: 0.0029 - mae: 0.0451 - val_loss: 0.0016 - val_mae: 0.0393\n",
            "Epoch 316/500\n",
            "33/33 [==============================] - 1s 38ms/step - loss: 0.0030 - mae: 0.0463 - val_loss: 0.0014 - val_mae: 0.0362\n",
            "Epoch 317/500\n",
            "33/33 [==============================] - 1s 38ms/step - loss: 0.0030 - mae: 0.0459 - val_loss: 0.0014 - val_mae: 0.0369\n",
            "Epoch 318/500\n",
            "33/33 [==============================] - 1s 39ms/step - loss: 0.0029 - mae: 0.0453 - val_loss: 0.0014 - val_mae: 0.0360\n",
            "Epoch 319/500\n",
            "33/33 [==============================] - 1s 38ms/step - loss: 0.0029 - mae: 0.0451 - val_loss: 0.0014 - val_mae: 0.0359\n",
            "Epoch 320/500\n",
            "33/33 [==============================] - 2s 48ms/step - loss: 0.0029 - mae: 0.0453 - val_loss: 0.0014 - val_mae: 0.0362\n",
            "Epoch 321/500\n",
            "33/33 [==============================] - 2s 65ms/step - loss: 0.0029 - mae: 0.0450 - val_loss: 0.0014 - val_mae: 0.0367\n",
            "Epoch 322/500\n",
            "33/33 [==============================] - 1s 41ms/step - loss: 0.0029 - mae: 0.0450 - val_loss: 0.0014 - val_mae: 0.0360\n",
            "Epoch 323/500\n",
            "33/33 [==============================] - 1s 40ms/step - loss: 0.0030 - mae: 0.0453 - val_loss: 0.0014 - val_mae: 0.0358\n",
            "Epoch 324/500\n",
            "33/33 [==============================] - 1s 40ms/step - loss: 0.0030 - mae: 0.0459 - val_loss: 0.0014 - val_mae: 0.0360\n",
            "Epoch 325/500\n",
            "33/33 [==============================] - 1s 38ms/step - loss: 0.0029 - mae: 0.0449 - val_loss: 0.0014 - val_mae: 0.0357\n",
            "Epoch 326/500\n",
            "33/33 [==============================] - 1s 39ms/step - loss: 0.0029 - mae: 0.0455 - val_loss: 0.0014 - val_mae: 0.0358\n",
            "Epoch 327/500\n",
            "33/33 [==============================] - 2s 65ms/step - loss: 0.0030 - mae: 0.0455 - val_loss: 0.0014 - val_mae: 0.0359\n",
            "Epoch 328/500\n",
            "33/33 [==============================] - 1s 40ms/step - loss: 0.0029 - mae: 0.0455 - val_loss: 0.0014 - val_mae: 0.0361\n",
            "Epoch 329/500\n",
            "33/33 [==============================] - 1s 40ms/step - loss: 0.0029 - mae: 0.0451 - val_loss: 0.0014 - val_mae: 0.0358\n",
            "3/3 [==============================] - 0s 10ms/step - loss: 0.0014 - mae: 0.0356\n"
          ]
        },
        {
          "output_type": "execute_result",
          "data": {
            "text/plain": [
              "35594.41864490509"
            ]
          },
          "metadata": {},
          "execution_count": 55
        }
      ]
    },
    {
      "cell_type": "code",
      "source": [
        "X = mulvar_valid.to_numpy()[np.newaxis, :seq_length]  # shape [1, 56, 5]\n",
        "Y_pred = ahead_model.predict(X)  # shape [1, 14]"
      ],
      "metadata": {
        "colab": {
          "base_uri": "https://localhost:8080/"
        },
        "id": "G9gNuBNqqPz5",
        "outputId": "d394964f-3ac5-484c-a105-0a52cd42728f"
      },
      "execution_count": null,
      "outputs": [
        {
          "output_type": "stream",
          "name": "stdout",
          "text": [
            "1/1 [==============================] - 0s 127ms/step\n"
          ]
        }
      ]
    },
    {
      "cell_type": "markdown",
      "source": [
        "## Forecasting Using a Sequence-to-Sequence Model\n"
      ],
      "metadata": {
        "id": "2Mf-fNr7q_jC"
      }
    },
    {
      "cell_type": "markdown",
      "source": [
        "Now let's create an RNN that predicts the next 14 steps at each time step. That is, instead of just forecasting time steps 56 to 69 based on time steps 0 to 55, it will forecast time steps 1 to 14 at time step 0, then time steps 2 to 15 at time step 1, and so on, and finally it will forecast time steps 56 to 69 at the last time step. Notice that the model is causal: when it makes predictions at any time step, it can only see past time steps.\n",
        "\n",
        "To prepare the datasets, we can use `to_windows()` twice, to get sequences of consecutive windows, like this:"
      ],
      "metadata": {
        "id": "yHxKpjPU9gjg"
      }
    },
    {
      "cell_type": "code",
      "source": [
        "my_series = tf.data.Dataset.range(7)\n",
        "dataset = to_windows(to_windows(my_series, 3), 4)\n",
        "list(dataset)"
      ],
      "metadata": {
        "id": "PSwzWRbhrABp",
        "colab": {
          "base_uri": "https://localhost:8080/"
        },
        "outputId": "4d991c73-aafa-405e-b31c-a49e43a8bef1"
      },
      "execution_count": null,
      "outputs": [
        {
          "output_type": "stream",
          "name": "stderr",
          "text": [
            "WARNING:tensorflow:From /usr/local/lib/python3.8/dist-packages/tensorflow/python/autograph/pyct/static_analysis/liveness.py:83: Analyzer.lamba_check (from tensorflow.python.autograph.pyct.static_analysis.liveness) is deprecated and will be removed after 2023-09-23.\n",
            "Instructions for updating:\n",
            "Lambda fuctions will be no more assumed to be used in the statement where they are used, or at least in the same block. https://github.com/tensorflow/tensorflow/issues/56089\n"
          ]
        },
        {
          "output_type": "execute_result",
          "data": {
            "text/plain": [
              "[<tf.Tensor: shape=(4, 3), dtype=int64, numpy=\n",
              " array([[0, 1, 2],\n",
              "        [1, 2, 3],\n",
              "        [2, 3, 4],\n",
              "        [3, 4, 5]])>, <tf.Tensor: shape=(4, 3), dtype=int64, numpy=\n",
              " array([[1, 2, 3],\n",
              "        [2, 3, 4],\n",
              "        [3, 4, 5],\n",
              "        [4, 5, 6]])>]"
            ]
          },
          "metadata": {},
          "execution_count": 20
        }
      ]
    },
    {
      "cell_type": "markdown",
      "source": [
        "Then we can split these elements into the desired inputs and targets:"
      ],
      "metadata": {
        "id": "VFChTGaV9qkJ"
      }
    },
    {
      "cell_type": "code",
      "source": [
        "dataset = dataset.map(lambda S: (S[:, 0], S[:, 1:]))\n",
        "list(dataset)"
      ],
      "metadata": {
        "colab": {
          "base_uri": "https://localhost:8080/"
        },
        "id": "n0N2WUeE9kh7",
        "outputId": "a1857d2a-8a16-40cb-827a-c7c04fce5344"
      },
      "execution_count": null,
      "outputs": [
        {
          "output_type": "execute_result",
          "data": {
            "text/plain": [
              "[(<tf.Tensor: shape=(4,), dtype=int64, numpy=array([0, 1, 2, 3])>,\n",
              "  <tf.Tensor: shape=(4, 2), dtype=int64, numpy=\n",
              "  array([[1, 2],\n",
              "         [2, 3],\n",
              "         [3, 4],\n",
              "         [4, 5]])>),\n",
              " (<tf.Tensor: shape=(4,), dtype=int64, numpy=array([1, 2, 3, 4])>,\n",
              "  <tf.Tensor: shape=(4, 2), dtype=int64, numpy=\n",
              "  array([[2, 3],\n",
              "         [3, 4],\n",
              "         [4, 5],\n",
              "         [5, 6]])>)]"
            ]
          },
          "metadata": {},
          "execution_count": 21
        }
      ]
    },
    {
      "cell_type": "markdown",
      "source": [
        "Let's wrap this idea into a utility function. It will also take care of shuffling (optional) and batching:"
      ],
      "metadata": {
        "id": "ZgmkfxH_9uB2"
      }
    },
    {
      "cell_type": "code",
      "source": [
        "def to_seq2seq_dataset(series, seq_length=56, ahead=14, target_col=1,\n",
        "                       batch_size=32, shuffle=False, seed=None):\n",
        "    ds = to_windows(tf.data.Dataset.from_tensor_slices(series), ahead + 1)\n",
        "    ds = to_windows(ds, seq_length).map(lambda S: (S[:, 0], S[:, 1:, 1]))\n",
        "    if shuffle:\n",
        "        ds = ds.shuffle(8 * batch_size, seed=seed)\n",
        "    return ds.batch(batch_size)"
      ],
      "metadata": {
        "id": "suOEhhEZ9roi"
      },
      "execution_count": null,
      "outputs": []
    },
    {
      "cell_type": "code",
      "source": [
        "seq2seq_train = to_seq2seq_dataset(mulvar_train, shuffle=True, seed=42)\n",
        "seq2seq_valid = to_seq2seq_dataset(mulvar_valid)"
      ],
      "metadata": {
        "id": "IazhHoil-O9u"
      },
      "execution_count": null,
      "outputs": []
    },
    {
      "cell_type": "code",
      "source": [
        "tf.random.set_seed(42)  # extra code – ensures reproducibility\n",
        "seq2seq_model = tf.keras.Sequential([\n",
        "    tf.keras.layers.SimpleRNN(32, return_sequences=True, input_shape=[None, 5]),\n",
        "    tf.keras.layers.Dense(14)\n",
        "    # equivalent: tf.keras.layers.TimeDistributed(tf.keras.layers.Dense(14))\n",
        "    # also equivalent: tf.keras.layers.Conv1D(14, kernel_size=1)\n",
        "])"
      ],
      "metadata": {
        "id": "aQ9bpZu9-TNZ"
      },
      "execution_count": null,
      "outputs": []
    },
    {
      "cell_type": "code",
      "source": [
        "fit_and_evaluate(seq2seq_model, seq2seq_train, seq2seq_valid,\n",
        "                 learning_rate=0.1)"
      ],
      "metadata": {
        "colab": {
          "base_uri": "https://localhost:8080/"
        },
        "id": "xzLz_El_-aBJ",
        "outputId": "0cdba4e3-5dc3-495b-e2b7-d2eaf67b313f"
      },
      "execution_count": null,
      "outputs": [
        {
          "output_type": "stream",
          "name": "stdout",
          "text": [
            "Epoch 1/500\n",
            "33/33 [==============================] - 6s 109ms/step - loss: 0.0756 - mae: 0.2788 - val_loss: 0.0141 - val_mae: 0.1337\n",
            "Epoch 2/500\n",
            "33/33 [==============================] - 2s 45ms/step - loss: 0.0100 - mae: 0.1062 - val_loss: 0.0078 - val_mae: 0.0899\n",
            "Epoch 3/500\n",
            "33/33 [==============================] - 2s 44ms/step - loss: 0.0066 - mae: 0.0817 - val_loss: 0.0071 - val_mae: 0.0860\n",
            "Epoch 4/500\n",
            "33/33 [==============================] - 2s 48ms/step - loss: 0.0056 - mae: 0.0729 - val_loss: 0.0058 - val_mae: 0.0745\n",
            "Epoch 5/500\n",
            "33/33 [==============================] - 1s 43ms/step - loss: 0.0051 - mae: 0.0682 - val_loss: 0.0051 - val_mae: 0.0672\n",
            "Epoch 6/500\n",
            "33/33 [==============================] - 2s 56ms/step - loss: 0.0048 - mae: 0.0660 - val_loss: 0.0053 - val_mae: 0.0703\n",
            "Epoch 7/500\n",
            "33/33 [==============================] - 2s 62ms/step - loss: 0.0046 - mae: 0.0639 - val_loss: 0.0051 - val_mae: 0.0682\n",
            "Epoch 8/500\n",
            "33/33 [==============================] - 2s 44ms/step - loss: 0.0045 - mae: 0.0618 - val_loss: 0.0043 - val_mae: 0.0584\n",
            "Epoch 9/500\n",
            "33/33 [==============================] - 2s 45ms/step - loss: 0.0044 - mae: 0.0610 - val_loss: 0.0042 - val_mae: 0.0571\n",
            "Epoch 10/500\n",
            "33/33 [==============================] - 2s 46ms/step - loss: 0.0043 - mae: 0.0604 - val_loss: 0.0044 - val_mae: 0.0596\n",
            "Epoch 11/500\n",
            "33/33 [==============================] - 2s 47ms/step - loss: 0.0043 - mae: 0.0606 - val_loss: 0.0042 - val_mae: 0.0575\n",
            "Epoch 12/500\n",
            "33/33 [==============================] - 2s 46ms/step - loss: 0.0042 - mae: 0.0595 - val_loss: 0.0044 - val_mae: 0.0589\n",
            "Epoch 13/500\n",
            "33/33 [==============================] - 2s 56ms/step - loss: 0.0040 - mae: 0.0571 - val_loss: 0.0042 - val_mae: 0.0574\n",
            "Epoch 14/500\n",
            "33/33 [==============================] - 2s 48ms/step - loss: 0.0040 - mae: 0.0569 - val_loss: 0.0044 - val_mae: 0.0593\n",
            "Epoch 15/500\n",
            "33/33 [==============================] - 2s 46ms/step - loss: 0.0040 - mae: 0.0572 - val_loss: 0.0040 - val_mae: 0.0535\n",
            "Epoch 16/500\n",
            "33/33 [==============================] - 1s 43ms/step - loss: 0.0039 - mae: 0.0560 - val_loss: 0.0040 - val_mae: 0.0536\n",
            "Epoch 17/500\n",
            "33/33 [==============================] - 1s 43ms/step - loss: 0.0039 - mae: 0.0560 - val_loss: 0.0040 - val_mae: 0.0540\n",
            "Epoch 18/500\n",
            "33/33 [==============================] - 2s 45ms/step - loss: 0.0038 - mae: 0.0553 - val_loss: 0.0041 - val_mae: 0.0560\n",
            "Epoch 19/500\n",
            "33/33 [==============================] - 2s 67ms/step - loss: 0.0039 - mae: 0.0560 - val_loss: 0.0041 - val_mae: 0.0557\n",
            "Epoch 20/500\n",
            "33/33 [==============================] - 2s 51ms/step - loss: 0.0038 - mae: 0.0553 - val_loss: 0.0040 - val_mae: 0.0537\n",
            "Epoch 21/500\n",
            "33/33 [==============================] - 2s 44ms/step - loss: 0.0038 - mae: 0.0547 - val_loss: 0.0040 - val_mae: 0.0536\n",
            "Epoch 22/500\n",
            "33/33 [==============================] - 2s 46ms/step - loss: 0.0039 - mae: 0.0564 - val_loss: 0.0039 - val_mae: 0.0520\n",
            "Epoch 23/500\n",
            "33/33 [==============================] - 2s 44ms/step - loss: 0.0039 - mae: 0.0564 - val_loss: 0.0038 - val_mae: 0.0516\n",
            "Epoch 24/500\n",
            "33/33 [==============================] - 1s 43ms/step - loss: 0.0038 - mae: 0.0550 - val_loss: 0.0038 - val_mae: 0.0513\n",
            "Epoch 25/500\n",
            "33/33 [==============================] - 2s 45ms/step - loss: 0.0038 - mae: 0.0548 - val_loss: 0.0039 - val_mae: 0.0524\n",
            "Epoch 26/500\n",
            "33/33 [==============================] - 3s 73ms/step - loss: 0.0037 - mae: 0.0537 - val_loss: 0.0039 - val_mae: 0.0519\n",
            "Epoch 27/500\n",
            "33/33 [==============================] - 2s 44ms/step - loss: 0.0037 - mae: 0.0537 - val_loss: 0.0038 - val_mae: 0.0514\n",
            "Epoch 28/500\n",
            "33/33 [==============================] - 2s 47ms/step - loss: 0.0037 - mae: 0.0543 - val_loss: 0.0038 - val_mae: 0.0508\n",
            "Epoch 29/500\n",
            "33/33 [==============================] - 2s 45ms/step - loss: 0.0037 - mae: 0.0536 - val_loss: 0.0038 - val_mae: 0.0510\n",
            "Epoch 30/500\n",
            "33/33 [==============================] - 1s 43ms/step - loss: 0.0036 - mae: 0.0529 - val_loss: 0.0038 - val_mae: 0.0507\n",
            "Epoch 31/500\n",
            "33/33 [==============================] - 2s 54ms/step - loss: 0.0036 - mae: 0.0526 - val_loss: 0.0039 - val_mae: 0.0517\n",
            "Epoch 32/500\n",
            "33/33 [==============================] - 2s 49ms/step - loss: 0.0036 - mae: 0.0522 - val_loss: 0.0038 - val_mae: 0.0510\n",
            "Epoch 33/500\n",
            "33/33 [==============================] - 2s 44ms/step - loss: 0.0035 - mae: 0.0519 - val_loss: 0.0039 - val_mae: 0.0511\n",
            "Epoch 34/500\n",
            "33/33 [==============================] - 2s 44ms/step - loss: 0.0035 - mae: 0.0522 - val_loss: 0.0038 - val_mae: 0.0512\n",
            "Epoch 35/500\n",
            "33/33 [==============================] - 2s 45ms/step - loss: 0.0035 - mae: 0.0516 - val_loss: 0.0039 - val_mae: 0.0515\n",
            "Epoch 36/500\n",
            "33/33 [==============================] - 2s 44ms/step - loss: 0.0035 - mae: 0.0521 - val_loss: 0.0038 - val_mae: 0.0507\n",
            "Epoch 37/500\n",
            "33/33 [==============================] - 2s 74ms/step - loss: 0.0036 - mae: 0.0530 - val_loss: 0.0038 - val_mae: 0.0508\n",
            "Epoch 38/500\n",
            "33/33 [==============================] - 2s 44ms/step - loss: 0.0035 - mae: 0.0515 - val_loss: 0.0038 - val_mae: 0.0510\n",
            "Epoch 39/500\n",
            "33/33 [==============================] - 2s 45ms/step - loss: 0.0035 - mae: 0.0519 - val_loss: 0.0039 - val_mae: 0.0513\n",
            "Epoch 40/500\n",
            "33/33 [==============================] - 2s 45ms/step - loss: 0.0035 - mae: 0.0520 - val_loss: 0.0038 - val_mae: 0.0507\n",
            "Epoch 41/500\n",
            "33/33 [==============================] - 2s 44ms/step - loss: 0.0035 - mae: 0.0522 - val_loss: 0.0038 - val_mae: 0.0506\n",
            "Epoch 42/500\n",
            "33/33 [==============================] - 2s 56ms/step - loss: 0.0035 - mae: 0.0524 - val_loss: 0.0038 - val_mae: 0.0505\n",
            "Epoch 43/500\n",
            "33/33 [==============================] - 2s 47ms/step - loss: 0.0035 - mae: 0.0513 - val_loss: 0.0038 - val_mae: 0.0509\n",
            "Epoch 44/500\n",
            "33/33 [==============================] - 2s 44ms/step - loss: 0.0035 - mae: 0.0510 - val_loss: 0.0038 - val_mae: 0.0508\n",
            "Epoch 45/500\n",
            "33/33 [==============================] - 2s 46ms/step - loss: 0.0035 - mae: 0.0514 - val_loss: 0.0038 - val_mae: 0.0507\n",
            "Epoch 46/500\n",
            "33/33 [==============================] - 2s 45ms/step - loss: 0.0035 - mae: 0.0516 - val_loss: 0.0038 - val_mae: 0.0501\n",
            "Epoch 47/500\n",
            "33/33 [==============================] - 2s 46ms/step - loss: 0.0035 - mae: 0.0521 - val_loss: 0.0038 - val_mae: 0.0503\n",
            "Epoch 48/500\n",
            "33/33 [==============================] - 2s 46ms/step - loss: 0.0034 - mae: 0.0512 - val_loss: 0.0038 - val_mae: 0.0506\n",
            "Epoch 49/500\n",
            "33/33 [==============================] - 2s 67ms/step - loss: 0.0034 - mae: 0.0508 - val_loss: 0.0038 - val_mae: 0.0503\n",
            "Epoch 50/500\n",
            "33/33 [==============================] - 2s 47ms/step - loss: 0.0034 - mae: 0.0503 - val_loss: 0.0038 - val_mae: 0.0507\n",
            "Epoch 51/500\n",
            "33/33 [==============================] - 2s 45ms/step - loss: 0.0034 - mae: 0.0501 - val_loss: 0.0039 - val_mae: 0.0512\n",
            "Epoch 52/500\n",
            "33/33 [==============================] - 2s 45ms/step - loss: 0.0034 - mae: 0.0504 - val_loss: 0.0038 - val_mae: 0.0503\n",
            "Epoch 53/500\n",
            "33/33 [==============================] - 2s 45ms/step - loss: 0.0034 - mae: 0.0499 - val_loss: 0.0038 - val_mae: 0.0506\n",
            "Epoch 54/500\n",
            "33/33 [==============================] - 2s 46ms/step - loss: 0.0034 - mae: 0.0503 - val_loss: 0.0038 - val_mae: 0.0508\n",
            "Epoch 55/500\n",
            "33/33 [==============================] - 2s 52ms/step - loss: 0.0034 - mae: 0.0511 - val_loss: 0.0039 - val_mae: 0.0511\n",
            "Epoch 56/500\n",
            "33/33 [==============================] - 4s 130ms/step - loss: 0.0034 - mae: 0.0500 - val_loss: 0.0038 - val_mae: 0.0501\n",
            "Epoch 57/500\n",
            "33/33 [==============================] - 4s 97ms/step - loss: 0.0034 - mae: 0.0501 - val_loss: 0.0038 - val_mae: 0.0500\n",
            "Epoch 58/500\n",
            "33/33 [==============================] - 2s 45ms/step - loss: 0.0034 - mae: 0.0508 - val_loss: 0.0038 - val_mae: 0.0501\n",
            "Epoch 59/500\n",
            "33/33 [==============================] - 2s 60ms/step - loss: 0.0033 - mae: 0.0499 - val_loss: 0.0039 - val_mae: 0.0511\n",
            "Epoch 60/500\n",
            "33/33 [==============================] - 2s 44ms/step - loss: 0.0033 - mae: 0.0496 - val_loss: 0.0038 - val_mae: 0.0505\n",
            "Epoch 61/500\n",
            "33/33 [==============================] - 2s 45ms/step - loss: 0.0033 - mae: 0.0497 - val_loss: 0.0038 - val_mae: 0.0503\n",
            "Epoch 62/500\n",
            "33/33 [==============================] - 3s 79ms/step - loss: 0.0033 - mae: 0.0496 - val_loss: 0.0038 - val_mae: 0.0503\n",
            "Epoch 63/500\n",
            "33/33 [==============================] - 2s 61ms/step - loss: 0.0033 - mae: 0.0499 - val_loss: 0.0038 - val_mae: 0.0504\n",
            "Epoch 64/500\n",
            "33/33 [==============================] - 2s 62ms/step - loss: 0.0033 - mae: 0.0492 - val_loss: 0.0039 - val_mae: 0.0517\n",
            "Epoch 65/500\n",
            "33/33 [==============================] - 2s 44ms/step - loss: 0.0033 - mae: 0.0500 - val_loss: 0.0039 - val_mae: 0.0528\n",
            "Epoch 66/500\n",
            "33/33 [==============================] - 2s 46ms/step - loss: 0.0034 - mae: 0.0504 - val_loss: 0.0038 - val_mae: 0.0497\n",
            "Epoch 67/500\n",
            "33/33 [==============================] - 2s 44ms/step - loss: 0.0034 - mae: 0.0506 - val_loss: 0.0038 - val_mae: 0.0500\n",
            "Epoch 68/500\n",
            "33/33 [==============================] - 2s 46ms/step - loss: 0.0033 - mae: 0.0499 - val_loss: 0.0038 - val_mae: 0.0498\n",
            "Epoch 69/500\n",
            "33/33 [==============================] - 2s 47ms/step - loss: 0.0033 - mae: 0.0497 - val_loss: 0.0037 - val_mae: 0.0494\n",
            "Epoch 70/500\n",
            "33/33 [==============================] - 2s 56ms/step - loss: 0.0033 - mae: 0.0498 - val_loss: 0.0037 - val_mae: 0.0497\n",
            "Epoch 71/500\n",
            "33/33 [==============================] - 2s 44ms/step - loss: 0.0033 - mae: 0.0500 - val_loss: 0.0037 - val_mae: 0.0495\n",
            "Epoch 72/500\n",
            "33/33 [==============================] - 2s 47ms/step - loss: 0.0033 - mae: 0.0501 - val_loss: 0.0037 - val_mae: 0.0493\n",
            "Epoch 73/500\n",
            "33/33 [==============================] - 2s 45ms/step - loss: 0.0033 - mae: 0.0491 - val_loss: 0.0038 - val_mae: 0.0498\n",
            "Epoch 74/500\n",
            "33/33 [==============================] - 2s 44ms/step - loss: 0.0034 - mae: 0.0503 - val_loss: 0.0037 - val_mae: 0.0495\n",
            "Epoch 75/500\n",
            "33/33 [==============================] - 2s 50ms/step - loss: 0.0034 - mae: 0.0509 - val_loss: 0.0038 - val_mae: 0.0499\n",
            "Epoch 76/500\n",
            "33/33 [==============================] - 2s 69ms/step - loss: 0.0034 - mae: 0.0507 - val_loss: 0.0038 - val_mae: 0.0516\n",
            "Epoch 77/500\n",
            "33/33 [==============================] - 2s 45ms/step - loss: 0.0033 - mae: 0.0500 - val_loss: 0.0037 - val_mae: 0.0495\n",
            "Epoch 78/500\n",
            "33/33 [==============================] - 2s 46ms/step - loss: 0.0032 - mae: 0.0485 - val_loss: 0.0037 - val_mae: 0.0493\n",
            "Epoch 79/500\n",
            "33/33 [==============================] - 2s 59ms/step - loss: 0.0033 - mae: 0.0486 - val_loss: 0.0038 - val_mae: 0.0499\n",
            "Epoch 80/500\n",
            "33/33 [==============================] - 3s 97ms/step - loss: 0.0033 - mae: 0.0488 - val_loss: 0.0038 - val_mae: 0.0498\n",
            "Epoch 81/500\n",
            "33/33 [==============================] - 6s 161ms/step - loss: 0.0033 - mae: 0.0496 - val_loss: 0.0037 - val_mae: 0.0495\n",
            "Epoch 82/500\n",
            "33/33 [==============================] - 2s 50ms/step - loss: 0.0033 - mae: 0.0496 - val_loss: 0.0037 - val_mae: 0.0494\n",
            "Epoch 83/500\n",
            "33/33 [==============================] - 2s 44ms/step - loss: 0.0033 - mae: 0.0490 - val_loss: 0.0037 - val_mae: 0.0492\n",
            "Epoch 84/500\n",
            "33/33 [==============================] - 2s 45ms/step - loss: 0.0033 - mae: 0.0492 - val_loss: 0.0037 - val_mae: 0.0497\n",
            "Epoch 85/500\n",
            "33/33 [==============================] - 2s 45ms/step - loss: 0.0033 - mae: 0.0489 - val_loss: 0.0037 - val_mae: 0.0495\n",
            "Epoch 86/500\n",
            "33/33 [==============================] - 2s 61ms/step - loss: 0.0032 - mae: 0.0487 - val_loss: 0.0038 - val_mae: 0.0500\n",
            "Epoch 87/500\n",
            "33/33 [==============================] - 2s 45ms/step - loss: 0.0032 - mae: 0.0486 - val_loss: 0.0037 - val_mae: 0.0495\n",
            "Epoch 88/500\n",
            "33/33 [==============================] - 2s 45ms/step - loss: 0.0032 - mae: 0.0482 - val_loss: 0.0038 - val_mae: 0.0497\n",
            "Epoch 89/500\n",
            "33/33 [==============================] - 2s 48ms/step - loss: 0.0033 - mae: 0.0489 - val_loss: 0.0037 - val_mae: 0.0496\n",
            "Epoch 90/500\n",
            "33/33 [==============================] - 2s 44ms/step - loss: 0.0032 - mae: 0.0484 - val_loss: 0.0037 - val_mae: 0.0495\n",
            "Epoch 91/500\n",
            "33/33 [==============================] - 2s 69ms/step - loss: 0.0032 - mae: 0.0486 - val_loss: 0.0038 - val_mae: 0.0497\n",
            "Epoch 92/500\n",
            "33/33 [==============================] - 2s 44ms/step - loss: 0.0032 - mae: 0.0487 - val_loss: 0.0037 - val_mae: 0.0493\n",
            "Epoch 93/500\n",
            "33/33 [==============================] - 1s 42ms/step - loss: 0.0033 - mae: 0.0491 - val_loss: 0.0037 - val_mae: 0.0493\n",
            "Epoch 94/500\n",
            "33/33 [==============================] - 2s 45ms/step - loss: 0.0034 - mae: 0.0507 - val_loss: 0.0037 - val_mae: 0.0488\n",
            "Epoch 95/500\n",
            "33/33 [==============================] - 2s 45ms/step - loss: 0.0033 - mae: 0.0489 - val_loss: 0.0037 - val_mae: 0.0492\n",
            "Epoch 96/500\n",
            "33/33 [==============================] - 2s 44ms/step - loss: 0.0033 - mae: 0.0491 - val_loss: 0.0038 - val_mae: 0.0512\n",
            "Epoch 97/500\n",
            "33/33 [==============================] - 3s 75ms/step - loss: 0.0032 - mae: 0.0486 - val_loss: 0.0037 - val_mae: 0.0494\n",
            "Epoch 98/500\n",
            "33/33 [==============================] - 2s 45ms/step - loss: 0.0032 - mae: 0.0478 - val_loss: 0.0037 - val_mae: 0.0494\n",
            "Epoch 99/500\n",
            "33/33 [==============================] - 2s 44ms/step - loss: 0.0032 - mae: 0.0488 - val_loss: 0.0037 - val_mae: 0.0498\n",
            "Epoch 100/500\n",
            "33/33 [==============================] - 2s 46ms/step - loss: 0.0032 - mae: 0.0485 - val_loss: 0.0037 - val_mae: 0.0496\n",
            "Epoch 101/500\n",
            "33/33 [==============================] - 2s 44ms/step - loss: 0.0032 - mae: 0.0487 - val_loss: 0.0037 - val_mae: 0.0496\n",
            "Epoch 102/500\n",
            "33/33 [==============================] - 2s 44ms/step - loss: 0.0032 - mae: 0.0481 - val_loss: 0.0037 - val_mae: 0.0495\n",
            "Epoch 103/500\n",
            "33/33 [==============================] - 2s 52ms/step - loss: 0.0032 - mae: 0.0484 - val_loss: 0.0037 - val_mae: 0.0491\n",
            "Epoch 104/500\n",
            "33/33 [==============================] - 2s 68ms/step - loss: 0.0033 - mae: 0.0490 - val_loss: 0.0037 - val_mae: 0.0490\n",
            "Epoch 105/500\n",
            "33/33 [==============================] - 2s 43ms/step - loss: 0.0032 - mae: 0.0487 - val_loss: 0.0037 - val_mae: 0.0489\n",
            "Epoch 106/500\n",
            "33/33 [==============================] - 2s 44ms/step - loss: 0.0032 - mae: 0.0485 - val_loss: 0.0037 - val_mae: 0.0492\n",
            "Epoch 107/500\n",
            "33/33 [==============================] - 2s 51ms/step - loss: 0.0032 - mae: 0.0475 - val_loss: 0.0037 - val_mae: 0.0492\n",
            "Epoch 108/500\n",
            "33/33 [==============================] - 4s 100ms/step - loss: 0.0032 - mae: 0.0479 - val_loss: 0.0037 - val_mae: 0.0494\n",
            "Epoch 109/500\n",
            "33/33 [==============================] - 3s 79ms/step - loss: 0.0032 - mae: 0.0479 - val_loss: 0.0038 - val_mae: 0.0498\n",
            "Epoch 110/500\n",
            "33/33 [==============================] - 2s 44ms/step - loss: 0.0032 - mae: 0.0483 - val_loss: 0.0037 - val_mae: 0.0495\n",
            "Epoch 111/500\n",
            "33/33 [==============================] - 2s 46ms/step - loss: 0.0032 - mae: 0.0487 - val_loss: 0.0037 - val_mae: 0.0487\n",
            "Epoch 112/500\n",
            "33/33 [==============================] - 2s 46ms/step - loss: 0.0033 - mae: 0.0488 - val_loss: 0.0037 - val_mae: 0.0492\n",
            "Epoch 113/500\n",
            "33/33 [==============================] - 2s 46ms/step - loss: 0.0032 - mae: 0.0481 - val_loss: 0.0037 - val_mae: 0.0490\n",
            "Epoch 114/500\n",
            "33/33 [==============================] - 3s 79ms/step - loss: 0.0032 - mae: 0.0478 - val_loss: 0.0037 - val_mae: 0.0493\n",
            "Epoch 115/500\n",
            "33/33 [==============================] - 2s 45ms/step - loss: 0.0032 - mae: 0.0482 - val_loss: 0.0037 - val_mae: 0.0493\n",
            "Epoch 116/500\n",
            "33/33 [==============================] - 2s 44ms/step - loss: 0.0032 - mae: 0.0475 - val_loss: 0.0037 - val_mae: 0.0492\n",
            "Epoch 117/500\n",
            "33/33 [==============================] - 2s 44ms/step - loss: 0.0032 - mae: 0.0476 - val_loss: 0.0038 - val_mae: 0.0499\n",
            "Epoch 118/500\n",
            "33/33 [==============================] - 2s 46ms/step - loss: 0.0032 - mae: 0.0478 - val_loss: 0.0037 - val_mae: 0.0497\n",
            "Epoch 119/500\n",
            "33/33 [==============================] - 2s 45ms/step - loss: 0.0032 - mae: 0.0489 - val_loss: 0.0037 - val_mae: 0.0488\n",
            "Epoch 120/500\n",
            "33/33 [==============================] - 3s 81ms/step - loss: 0.0032 - mae: 0.0489 - val_loss: 0.0037 - val_mae: 0.0495\n",
            "Epoch 121/500\n",
            "33/33 [==============================] - 2s 44ms/step - loss: 0.0032 - mae: 0.0475 - val_loss: 0.0037 - val_mae: 0.0492\n",
            "Epoch 122/500\n",
            "33/33 [==============================] - 2s 46ms/step - loss: 0.0031 - mae: 0.0475 - val_loss: 0.0037 - val_mae: 0.0490\n",
            "Epoch 123/500\n",
            "33/33 [==============================] - 2s 46ms/step - loss: 0.0031 - mae: 0.0474 - val_loss: 0.0037 - val_mae: 0.0494\n",
            "Epoch 124/500\n",
            "33/33 [==============================] - 2s 47ms/step - loss: 0.0031 - mae: 0.0476 - val_loss: 0.0037 - val_mae: 0.0491\n",
            "Epoch 125/500\n",
            "33/33 [==============================] - 2s 48ms/step - loss: 0.0032 - mae: 0.0476 - val_loss: 0.0037 - val_mae: 0.0500\n",
            "Epoch 126/500\n",
            "33/33 [==============================] - 2s 47ms/step - loss: 0.0032 - mae: 0.0479 - val_loss: 0.0037 - val_mae: 0.0494\n",
            "Epoch 127/500\n",
            "33/33 [==============================] - 3s 81ms/step - loss: 0.0031 - mae: 0.0474 - val_loss: 0.0037 - val_mae: 0.0491\n",
            "Epoch 128/500\n",
            "33/33 [==============================] - 2s 45ms/step - loss: 0.0031 - mae: 0.0473 - val_loss: 0.0037 - val_mae: 0.0493\n",
            "Epoch 129/500\n",
            "33/33 [==============================] - 2s 45ms/step - loss: 0.0032 - mae: 0.0478 - val_loss: 0.0037 - val_mae: 0.0496\n",
            "Epoch 130/500\n",
            "33/33 [==============================] - 2s 46ms/step - loss: 0.0031 - mae: 0.0470 - val_loss: 0.0038 - val_mae: 0.0503\n",
            "Epoch 131/500\n",
            "33/33 [==============================] - 2s 46ms/step - loss: 0.0031 - mae: 0.0473 - val_loss: 0.0037 - val_mae: 0.0496\n",
            "Epoch 132/500\n",
            "33/33 [==============================] - 3s 103ms/step - loss: 0.0032 - mae: 0.0481 - val_loss: 0.0037 - val_mae: 0.0492\n",
            "Epoch 133/500\n",
            "33/33 [==============================] - 2s 46ms/step - loss: 0.0032 - mae: 0.0487 - val_loss: 0.0037 - val_mae: 0.0489\n",
            "Epoch 134/500\n",
            "33/33 [==============================] - 2s 45ms/step - loss: 0.0032 - mae: 0.0475 - val_loss: 0.0037 - val_mae: 0.0489\n",
            "Epoch 135/500\n",
            "33/33 [==============================] - 2s 45ms/step - loss: 0.0031 - mae: 0.0474 - val_loss: 0.0037 - val_mae: 0.0489\n",
            "Epoch 136/500\n",
            "33/33 [==============================] - 2s 45ms/step - loss: 0.0032 - mae: 0.0478 - val_loss: 0.0037 - val_mae: 0.0491\n",
            "Epoch 137/500\n",
            "33/33 [==============================] - 2s 46ms/step - loss: 0.0032 - mae: 0.0478 - val_loss: 0.0037 - val_mae: 0.0488\n",
            "Epoch 138/500\n",
            "33/33 [==============================] - 2s 61ms/step - loss: 0.0031 - mae: 0.0472 - val_loss: 0.0037 - val_mae: 0.0493\n",
            "Epoch 139/500\n",
            "33/33 [==============================] - 2s 44ms/step - loss: 0.0031 - mae: 0.0473 - val_loss: 0.0037 - val_mae: 0.0491\n",
            "Epoch 140/500\n",
            "33/33 [==============================] - 2s 45ms/step - loss: 0.0032 - mae: 0.0478 - val_loss: 0.0037 - val_mae: 0.0493\n",
            "Epoch 141/500\n",
            "33/33 [==============================] - 2s 50ms/step - loss: 0.0031 - mae: 0.0475 - val_loss: 0.0037 - val_mae: 0.0491\n",
            "Epoch 142/500\n",
            "33/33 [==============================] - 3s 72ms/step - loss: 0.0032 - mae: 0.0479 - val_loss: 0.0037 - val_mae: 0.0498\n",
            "Epoch 143/500\n",
            "33/33 [==============================] - 3s 82ms/step - loss: 0.0032 - mae: 0.0479 - val_loss: 0.0038 - val_mae: 0.0505\n",
            "Epoch 144/500\n",
            "33/33 [==============================] - 2s 47ms/step - loss: 0.0031 - mae: 0.0473 - val_loss: 0.0037 - val_mae: 0.0490\n",
            "Epoch 145/500\n",
            "33/33 [==============================] - 2s 45ms/step - loss: 0.0031 - mae: 0.0471 - val_loss: 0.0037 - val_mae: 0.0490\n",
            "Epoch 146/500\n",
            "33/33 [==============================] - 2s 45ms/step - loss: 0.0031 - mae: 0.0476 - val_loss: 0.0037 - val_mae: 0.0491\n",
            "Epoch 147/500\n",
            "33/33 [==============================] - 2s 44ms/step - loss: 0.0031 - mae: 0.0469 - val_loss: 0.0037 - val_mae: 0.0492\n",
            "Epoch 148/500\n",
            "33/33 [==============================] - 2s 47ms/step - loss: 0.0031 - mae: 0.0477 - val_loss: 0.0037 - val_mae: 0.0497\n",
            "Epoch 149/500\n",
            "33/33 [==============================] - 2s 46ms/step - loss: 0.0032 - mae: 0.0481 - val_loss: 0.0036 - val_mae: 0.0486\n",
            "Epoch 150/500\n",
            "33/33 [==============================] - 3s 82ms/step - loss: 0.0031 - mae: 0.0474 - val_loss: 0.0037 - val_mae: 0.0492\n",
            "Epoch 151/500\n",
            "33/33 [==============================] - 2s 44ms/step - loss: 0.0032 - mae: 0.0479 - val_loss: 0.0037 - val_mae: 0.0496\n",
            "Epoch 152/500\n",
            "33/33 [==============================] - 2s 46ms/step - loss: 0.0031 - mae: 0.0475 - val_loss: 0.0038 - val_mae: 0.0509\n",
            "Epoch 153/500\n",
            "33/33 [==============================] - 2s 45ms/step - loss: 0.0032 - mae: 0.0482 - val_loss: 0.0037 - val_mae: 0.0488\n",
            "Epoch 154/500\n",
            "33/33 [==============================] - 2s 45ms/step - loss: 0.0032 - mae: 0.0477 - val_loss: 0.0036 - val_mae: 0.0486\n",
            "Epoch 155/500\n",
            "33/33 [==============================] - 3s 85ms/step - loss: 0.0031 - mae: 0.0475 - val_loss: 0.0036 - val_mae: 0.0487\n",
            "Epoch 156/500\n",
            "33/33 [==============================] - 2s 46ms/step - loss: 0.0031 - mae: 0.0468 - val_loss: 0.0037 - val_mae: 0.0490\n",
            "Epoch 157/500\n",
            "33/33 [==============================] - 2s 47ms/step - loss: 0.0031 - mae: 0.0472 - val_loss: 0.0036 - val_mae: 0.0487\n",
            "Epoch 158/500\n",
            "33/33 [==============================] - 2s 47ms/step - loss: 0.0031 - mae: 0.0468 - val_loss: 0.0037 - val_mae: 0.0490\n",
            "Epoch 159/500\n",
            "33/33 [==============================] - 2s 45ms/step - loss: 0.0031 - mae: 0.0467 - val_loss: 0.0037 - val_mae: 0.0489\n",
            "Epoch 160/500\n",
            "33/33 [==============================] - 2s 55ms/step - loss: 0.0031 - mae: 0.0468 - val_loss: 0.0037 - val_mae: 0.0491\n",
            "Epoch 161/500\n",
            "33/33 [==============================] - 2s 49ms/step - loss: 0.0031 - mae: 0.0468 - val_loss: 0.0037 - val_mae: 0.0493\n",
            "Epoch 162/500\n",
            "33/33 [==============================] - 2s 47ms/step - loss: 0.0031 - mae: 0.0473 - val_loss: 0.0037 - val_mae: 0.0493\n",
            "Epoch 163/500\n",
            "33/33 [==============================] - 2s 48ms/step - loss: 0.0031 - mae: 0.0468 - val_loss: 0.0037 - val_mae: 0.0495\n",
            "Epoch 164/500\n",
            "33/33 [==============================] - 2s 46ms/step - loss: 0.0031 - mae: 0.0471 - val_loss: 0.0037 - val_mae: 0.0488\n",
            "Epoch 165/500\n",
            "33/33 [==============================] - 2s 47ms/step - loss: 0.0031 - mae: 0.0471 - val_loss: 0.0037 - val_mae: 0.0491\n",
            "Epoch 166/500\n",
            "33/33 [==============================] - 3s 75ms/step - loss: 0.0031 - mae: 0.0468 - val_loss: 0.0037 - val_mae: 0.0499\n",
            "Epoch 167/500\n",
            "33/33 [==============================] - 2s 48ms/step - loss: 0.0031 - mae: 0.0466 - val_loss: 0.0037 - val_mae: 0.0495\n",
            "Epoch 168/500\n",
            "33/33 [==============================] - 2s 45ms/step - loss: 0.0031 - mae: 0.0466 - val_loss: 0.0037 - val_mae: 0.0492\n",
            "Epoch 169/500\n",
            "33/33 [==============================] - 2s 46ms/step - loss: 0.0031 - mae: 0.0466 - val_loss: 0.0037 - val_mae: 0.0493\n",
            "Epoch 170/500\n",
            "33/33 [==============================] - 2s 44ms/step - loss: 0.0031 - mae: 0.0472 - val_loss: 0.0036 - val_mae: 0.0489\n",
            "Epoch 171/500\n",
            "33/33 [==============================] - 2s 44ms/step - loss: 0.0031 - mae: 0.0475 - val_loss: 0.0036 - val_mae: 0.0488\n",
            "Epoch 172/500\n",
            "33/33 [==============================] - 2s 59ms/step - loss: 0.0032 - mae: 0.0482 - val_loss: 0.0037 - val_mae: 0.0499\n",
            "Epoch 173/500\n",
            "33/33 [==============================] - 2s 45ms/step - loss: 0.0031 - mae: 0.0470 - val_loss: 0.0036 - val_mae: 0.0489\n",
            "Epoch 174/500\n",
            "33/33 [==============================] - 2s 47ms/step - loss: 0.0031 - mae: 0.0467 - val_loss: 0.0037 - val_mae: 0.0489\n",
            "Epoch 175/500\n",
            "33/33 [==============================] - 2s 45ms/step - loss: 0.0031 - mae: 0.0470 - val_loss: 0.0037 - val_mae: 0.0493\n",
            "Epoch 176/500\n",
            "33/33 [==============================] - 2s 46ms/step - loss: 0.0031 - mae: 0.0468 - val_loss: 0.0037 - val_mae: 0.0491\n",
            "Epoch 177/500\n",
            "33/33 [==============================] - 2s 65ms/step - loss: 0.0031 - mae: 0.0472 - val_loss: 0.0037 - val_mae: 0.0495\n",
            "Epoch 178/500\n",
            "33/33 [==============================] - 2s 45ms/step - loss: 0.0031 - mae: 0.0475 - val_loss: 0.0037 - val_mae: 0.0491\n",
            "Epoch 179/500\n",
            "33/33 [==============================] - 2s 45ms/step - loss: 0.0031 - mae: 0.0476 - val_loss: 0.0037 - val_mae: 0.0495\n",
            "Epoch 180/500\n",
            "33/33 [==============================] - 2s 46ms/step - loss: 0.0031 - mae: 0.0467 - val_loss: 0.0037 - val_mae: 0.0490\n",
            "Epoch 181/500\n",
            "33/33 [==============================] - 2s 44ms/step - loss: 0.0031 - mae: 0.0468 - val_loss: 0.0037 - val_mae: 0.0490\n",
            "Epoch 182/500\n",
            "33/33 [==============================] - 2s 74ms/step - loss: 0.0031 - mae: 0.0468 - val_loss: 0.0036 - val_mae: 0.0486\n",
            "Epoch 183/500\n",
            "33/33 [==============================] - 2s 71ms/step - loss: 0.0031 - mae: 0.0471 - val_loss: 0.0036 - val_mae: 0.0488\n",
            "Epoch 184/500\n",
            "33/33 [==============================] - 2s 47ms/step - loss: 0.0031 - mae: 0.0469 - val_loss: 0.0036 - val_mae: 0.0488\n",
            "Epoch 185/500\n",
            "33/33 [==============================] - 2s 47ms/step - loss: 0.0031 - mae: 0.0466 - val_loss: 0.0037 - val_mae: 0.0491\n",
            "Epoch 186/500\n",
            "33/33 [==============================] - 2s 45ms/step - loss: 0.0031 - mae: 0.0466 - val_loss: 0.0037 - val_mae: 0.0490\n",
            "Epoch 187/500\n",
            "33/33 [==============================] - 2s 46ms/step - loss: 0.0031 - mae: 0.0467 - val_loss: 0.0037 - val_mae: 0.0492\n",
            "Epoch 188/500\n",
            "33/33 [==============================] - 2s 45ms/step - loss: 0.0031 - mae: 0.0468 - val_loss: 0.0037 - val_mae: 0.0495\n",
            "Epoch 189/500\n",
            "33/33 [==============================] - 3s 81ms/step - loss: 0.0031 - mae: 0.0465 - val_loss: 0.0036 - val_mae: 0.0488\n",
            "Epoch 190/500\n",
            "33/33 [==============================] - 2s 45ms/step - loss: 0.0030 - mae: 0.0463 - val_loss: 0.0037 - val_mae: 0.0497\n",
            "Epoch 191/500\n",
            "33/33 [==============================] - 2s 44ms/step - loss: 0.0031 - mae: 0.0467 - val_loss: 0.0037 - val_mae: 0.0491\n",
            "Epoch 192/500\n",
            "33/33 [==============================] - 2s 44ms/step - loss: 0.0031 - mae: 0.0466 - val_loss: 0.0037 - val_mae: 0.0492\n",
            "Epoch 193/500\n",
            "33/33 [==============================] - 2s 43ms/step - loss: 0.0031 - mae: 0.0470 - val_loss: 0.0036 - val_mae: 0.0490\n",
            "Epoch 194/500\n",
            "33/33 [==============================] - 2s 49ms/step - loss: 0.0031 - mae: 0.0467 - val_loss: 0.0037 - val_mae: 0.0491\n",
            "Epoch 195/500\n",
            "33/33 [==============================] - 2s 59ms/step - loss: 0.0031 - mae: 0.0470 - val_loss: 0.0036 - val_mae: 0.0489\n",
            "Epoch 196/500\n",
            "33/33 [==============================] - 2s 64ms/step - loss: 0.0031 - mae: 0.0466 - val_loss: 0.0036 - val_mae: 0.0488\n",
            "Epoch 197/500\n",
            "33/33 [==============================] - 2s 46ms/step - loss: 0.0031 - mae: 0.0467 - val_loss: 0.0036 - val_mae: 0.0487\n",
            "Epoch 198/500\n",
            "33/33 [==============================] - 2s 47ms/step - loss: 0.0031 - mae: 0.0465 - val_loss: 0.0036 - val_mae: 0.0486\n",
            "Epoch 199/500\n",
            "33/33 [==============================] - 2s 44ms/step - loss: 0.0031 - mae: 0.0468 - val_loss: 0.0036 - val_mae: 0.0486\n",
            "Epoch 200/500\n",
            "33/33 [==============================] - 2s 46ms/step - loss: 0.0031 - mae: 0.0467 - val_loss: 0.0036 - val_mae: 0.0486\n",
            "Epoch 201/500\n",
            "33/33 [==============================] - 2s 47ms/step - loss: 0.0031 - mae: 0.0466 - val_loss: 0.0036 - val_mae: 0.0488\n",
            "Epoch 202/500\n",
            "33/33 [==============================] - 2s 55ms/step - loss: 0.0031 - mae: 0.0466 - val_loss: 0.0037 - val_mae: 0.0492\n",
            "Epoch 203/500\n",
            "33/33 [==============================] - 2s 70ms/step - loss: 0.0031 - mae: 0.0466 - val_loss: 0.0037 - val_mae: 0.0494\n",
            "Epoch 204/500\n",
            "33/33 [==============================] - 2s 45ms/step - loss: 0.0031 - mae: 0.0466 - val_loss: 0.0036 - val_mae: 0.0491\n",
            "Epoch 205/500\n",
            "33/33 [==============================] - 2s 45ms/step - loss: 0.0031 - mae: 0.0465 - val_loss: 0.0037 - val_mae: 0.0496\n",
            "Epoch 206/500\n",
            "33/33 [==============================] - 2s 46ms/step - loss: 0.0031 - mae: 0.0468 - val_loss: 0.0036 - val_mae: 0.0488\n",
            "Epoch 207/500\n",
            "33/33 [==============================] - 2s 46ms/step - loss: 0.0031 - mae: 0.0470 - val_loss: 0.0036 - val_mae: 0.0488\n",
            "Epoch 208/500\n",
            "33/33 [==============================] - 2s 60ms/step - loss: 0.0030 - mae: 0.0464 - val_loss: 0.0037 - val_mae: 0.0493\n",
            "Epoch 209/500\n",
            "33/33 [==============================] - 2s 61ms/step - loss: 0.0031 - mae: 0.0468 - val_loss: 0.0036 - val_mae: 0.0488\n",
            "Epoch 210/500\n",
            "33/33 [==============================] - 2s 44ms/step - loss: 0.0031 - mae: 0.0473 - val_loss: 0.0036 - val_mae: 0.0489\n",
            "Epoch 211/500\n",
            "33/33 [==============================] - 2s 46ms/step - loss: 0.0031 - mae: 0.0468 - val_loss: 0.0036 - val_mae: 0.0489\n",
            "Epoch 212/500\n",
            "33/33 [==============================] - 2s 46ms/step - loss: 0.0031 - mae: 0.0466 - val_loss: 0.0036 - val_mae: 0.0487\n",
            "Epoch 213/500\n",
            "33/33 [==============================] - 2s 44ms/step - loss: 0.0031 - mae: 0.0467 - val_loss: 0.0036 - val_mae: 0.0489\n",
            "Epoch 214/500\n",
            "33/33 [==============================] - 2s 61ms/step - loss: 0.0030 - mae: 0.0465 - val_loss: 0.0036 - val_mae: 0.0486\n",
            "Epoch 215/500\n",
            "33/33 [==============================] - 2s 60ms/step - loss: 0.0031 - mae: 0.0466 - val_loss: 0.0037 - val_mae: 0.0496\n",
            "Epoch 216/500\n",
            "33/33 [==============================] - 2s 45ms/step - loss: 0.0031 - mae: 0.0468 - val_loss: 0.0036 - val_mae: 0.0487\n",
            "Epoch 217/500\n",
            "33/33 [==============================] - 2s 45ms/step - loss: 0.0031 - mae: 0.0474 - val_loss: 0.0037 - val_mae: 0.0497\n",
            "Epoch 218/500\n",
            "33/33 [==============================] - 2s 45ms/step - loss: 0.0031 - mae: 0.0468 - val_loss: 0.0036 - val_mae: 0.0488\n",
            "Epoch 219/500\n",
            "33/33 [==============================] - 2s 45ms/step - loss: 0.0031 - mae: 0.0468 - val_loss: 0.0036 - val_mae: 0.0494\n",
            "Epoch 220/500\n",
            "33/33 [==============================] - 1s 43ms/step - loss: 0.0031 - mae: 0.0469 - val_loss: 0.0036 - val_mae: 0.0488\n",
            "Epoch 221/500\n",
            "33/33 [==============================] - 3s 78ms/step - loss: 0.0031 - mae: 0.0465 - val_loss: 0.0037 - val_mae: 0.0499\n",
            "Epoch 222/500\n",
            "33/33 [==============================] - 2s 46ms/step - loss: 0.0030 - mae: 0.0464 - val_loss: 0.0036 - val_mae: 0.0488\n",
            "Epoch 223/500\n",
            "33/33 [==============================] - 2s 46ms/step - loss: 0.0030 - mae: 0.0464 - val_loss: 0.0037 - val_mae: 0.0493\n",
            "Epoch 224/500\n",
            "33/33 [==============================] - 2s 67ms/step - loss: 0.0030 - mae: 0.0465 - val_loss: 0.0036 - val_mae: 0.0489\n",
            "Epoch 225/500\n",
            "33/33 [==============================] - 2s 44ms/step - loss: 0.0030 - mae: 0.0463 - val_loss: 0.0037 - val_mae: 0.0499\n",
            "Epoch 226/500\n",
            "33/33 [==============================] - 3s 95ms/step - loss: 0.0030 - mae: 0.0463 - val_loss: 0.0036 - val_mae: 0.0490\n",
            "Epoch 227/500\n",
            "33/33 [==============================] - 2s 57ms/step - loss: 0.0030 - mae: 0.0464 - val_loss: 0.0036 - val_mae: 0.0489\n",
            "Epoch 228/500\n",
            "33/33 [==============================] - 2s 47ms/step - loss: 0.0031 - mae: 0.0468 - val_loss: 0.0036 - val_mae: 0.0489\n",
            "Epoch 229/500\n",
            "33/33 [==============================] - 2s 45ms/step - loss: 0.0031 - mae: 0.0470 - val_loss: 0.0038 - val_mae: 0.0522\n",
            "Epoch 230/500\n",
            "33/33 [==============================] - 2s 46ms/step - loss: 0.0031 - mae: 0.0470 - val_loss: 0.0036 - val_mae: 0.0495\n",
            "Epoch 231/500\n",
            "33/33 [==============================] - 2s 44ms/step - loss: 0.0030 - mae: 0.0464 - val_loss: 0.0036 - val_mae: 0.0488\n",
            "Epoch 232/500\n",
            "33/33 [==============================] - 2s 67ms/step - loss: 0.0030 - mae: 0.0466 - val_loss: 0.0036 - val_mae: 0.0489\n",
            "Epoch 233/500\n",
            "33/33 [==============================] - 2s 46ms/step - loss: 0.0030 - mae: 0.0464 - val_loss: 0.0037 - val_mae: 0.0501\n",
            "Epoch 234/500\n",
            "33/33 [==============================] - 2s 45ms/step - loss: 0.0030 - mae: 0.0465 - val_loss: 0.0036 - val_mae: 0.0486\n",
            "Epoch 235/500\n",
            "33/33 [==============================] - 2s 44ms/step - loss: 0.0030 - mae: 0.0460 - val_loss: 0.0037 - val_mae: 0.0497\n",
            "Epoch 236/500\n",
            "33/33 [==============================] - 2s 46ms/step - loss: 0.0031 - mae: 0.0472 - val_loss: 0.0036 - val_mae: 0.0488\n",
            "Epoch 237/500\n",
            "33/33 [==============================] - 2s 57ms/step - loss: 0.0030 - mae: 0.0464 - val_loss: 0.0036 - val_mae: 0.0493\n",
            "Epoch 238/500\n",
            "33/33 [==============================] - 2s 62ms/step - loss: 0.0030 - mae: 0.0464 - val_loss: 0.0036 - val_mae: 0.0488\n",
            "Epoch 239/500\n",
            "33/33 [==============================] - 2s 46ms/step - loss: 0.0030 - mae: 0.0463 - val_loss: 0.0036 - val_mae: 0.0491\n",
            "Epoch 240/500\n",
            "33/33 [==============================] - 2s 47ms/step - loss: 0.0030 - mae: 0.0462 - val_loss: 0.0036 - val_mae: 0.0488\n",
            "Epoch 241/500\n",
            "33/33 [==============================] - 2s 47ms/step - loss: 0.0030 - mae: 0.0468 - val_loss: 0.0036 - val_mae: 0.0489\n",
            "Epoch 242/500\n",
            "33/33 [==============================] - 2s 47ms/step - loss: 0.0030 - mae: 0.0464 - val_loss: 0.0037 - val_mae: 0.0497\n",
            "Epoch 243/500\n",
            "33/33 [==============================] - 3s 83ms/step - loss: 0.0030 - mae: 0.0463 - val_loss: 0.0036 - val_mae: 0.0488\n",
            "Epoch 244/500\n",
            "33/33 [==============================] - 2s 45ms/step - loss: 0.0030 - mae: 0.0464 - val_loss: 0.0036 - val_mae: 0.0486\n",
            "Epoch 245/500\n",
            "33/33 [==============================] - 2s 45ms/step - loss: 0.0031 - mae: 0.0470 - val_loss: 0.0036 - val_mae: 0.0496\n",
            "Epoch 246/500\n",
            "33/33 [==============================] - 2s 46ms/step - loss: 0.0030 - mae: 0.0466 - val_loss: 0.0036 - val_mae: 0.0491\n",
            "Epoch 247/500\n",
            "33/33 [==============================] - 2s 47ms/step - loss: 0.0030 - mae: 0.0462 - val_loss: 0.0036 - val_mae: 0.0487\n",
            "Epoch 248/500\n",
            "33/33 [==============================] - 2s 44ms/step - loss: 0.0030 - mae: 0.0461 - val_loss: 0.0036 - val_mae: 0.0488\n",
            "Epoch 249/500\n",
            "33/33 [==============================] - 2s 54ms/step - loss: 0.0030 - mae: 0.0467 - val_loss: 0.0037 - val_mae: 0.0500\n",
            "Epoch 250/500\n",
            "33/33 [==============================] - 2s 44ms/step - loss: 0.0031 - mae: 0.0468 - val_loss: 0.0037 - val_mae: 0.0508\n",
            "3/3 [==============================] - 0s 25ms/step - loss: 0.0036 - mae: 0.0486\n"
          ]
        },
        {
          "output_type": "execute_result",
          "data": {
            "text/plain": [
              "48555.538058280945"
            ]
          },
          "metadata": {},
          "execution_count": 25
        }
      ]
    },
    {
      "cell_type": "code",
      "source": [
        "import numpy as np\n",
        "\n",
        "X = mulvar_valid.to_numpy()[np.newaxis, :seq_length]\n",
        "y_pred_14 = seq2seq_model.predict(X)[0, -1]  # only the last time step's output"
      ],
      "metadata": {
        "colab": {
          "base_uri": "https://localhost:8080/"
        },
        "id": "syaSolGk-cVN",
        "outputId": "a2837774-46dc-4478-9bd0-bc158f52bdda"
      },
      "execution_count": null,
      "outputs": [
        {
          "output_type": "stream",
          "name": "stdout",
          "text": [
            "1/1 [==============================] - 1s 636ms/step\n"
          ]
        }
      ]
    },
    {
      "cell_type": "code",
      "source": [
        "Y_pred_valid = seq2seq_model.predict(seq2seq_valid)\n",
        "for ahead in range(14):\n",
        "    preds = pd.Series(Y_pred_valid[:-1, -1, ahead],\n",
        "                      index=mulvar_valid.index[56 + ahead : -14 + ahead])\n",
        "    mae = (preds - mulvar_valid[\"rail\"]).abs().mean() * 1e6\n",
        "    print(f\"MAE for +{ahead + 1}: {mae:,.0f}\")"
      ],
      "metadata": {
        "colab": {
          "base_uri": "https://localhost:8080/"
        },
        "id": "dnq_Cird-30p",
        "outputId": "f8a3ad71-20ca-474c-a8bc-320940fc728b"
      },
      "execution_count": null,
      "outputs": [
        {
          "output_type": "stream",
          "name": "stdout",
          "text": [
            "3/3 [==============================] - 0s 19ms/step\n",
            "MAE for +1: 24,642\n",
            "MAE for +2: 29,924\n",
            "MAE for +3: 31,269\n",
            "MAE for +4: 33,748\n",
            "MAE for +5: 34,200\n",
            "MAE for +6: 35,121\n",
            "MAE for +7: 35,442\n",
            "MAE for +8: 36,623\n",
            "MAE for +9: 34,667\n",
            "MAE for +10: 35,421\n",
            "MAE for +11: 36,736\n",
            "MAE for +12: 35,805\n",
            "MAE for +13: 36,340\n",
            "MAE for +14: 34,526\n"
          ]
        }
      ]
    },
    {
      "cell_type": "markdown",
      "source": [
        "# Handling Long Sequences"
      ],
      "metadata": {
        "id": "e78N3fEN_TwB"
      }
    },
    {
      "cell_type": "markdown",
      "source": [
        "## Fighting the Unstable Gradients Problem\n",
        "\n",
        "the outputs are just equal to the hidden states: in\n",
        "other words, `new_states[0]` is equal to outputs, so we can safely\n",
        "ignore `new_states` in the rest of the `call()` method"
      ],
      "metadata": {
        "id": "mxBML_7AGZZI"
      }
    },
    {
      "cell_type": "code",
      "source": [
        "class LNSimpleRNNCell(tf.keras.layers.Layer):\n",
        "    def __init__(self, units, activation=\"tanh\", **kwargs):\n",
        "        super().__init__(**kwargs)\n",
        "        self.state_size = units\n",
        "        self.output_size = units\n",
        "        self.simple_rnn_cell = tf.keras.layers.SimpleRNNCell(units,\n",
        "                                                             activation=None)\n",
        "        self.layer_norm = tf.keras.layers.LayerNormalization()\n",
        "        self.activation = tf.keras.activations.get(activation)\n",
        "\n",
        "    def call(self, inputs, states):\n",
        "        outputs, new_states = self.simple_rnn_cell(inputs, states)\n",
        "        norm_outputs = self.activation(self.layer_norm(outputs))\n",
        "        return norm_outputs, [norm_outputs]"
      ],
      "metadata": {
        "id": "hiPnxARn_FJ7"
      },
      "execution_count": null,
      "outputs": []
    },
    {
      "cell_type": "code",
      "source": [
        "tf.random.set_seed(42)  # extra code – ensures reproducibility\n",
        "custom_ln_model = tf.keras.Sequential([\n",
        "    tf.keras.layers.RNN(LNSimpleRNNCell(32), return_sequences=True,\n",
        "                        input_shape=[None, 5]),\n",
        "    tf.keras.layers.Dense(14)\n",
        "])"
      ],
      "metadata": {
        "id": "JFpoCmtRCLdL"
      },
      "execution_count": null,
      "outputs": []
    },
    {
      "cell_type": "markdown",
      "source": [
        "Just training for 5 epochs to show that it works (you can increase this if you want):"
      ],
      "metadata": {
        "id": "YI1hXNxDCzOJ"
      }
    },
    {
      "cell_type": "code",
      "source": [
        "fit_and_evaluate(custom_ln_model, seq2seq_train, seq2seq_valid,\n",
        "                 learning_rate=0.1, epochs=5)"
      ],
      "metadata": {
        "colab": {
          "base_uri": "https://localhost:8080/"
        },
        "id": "uupmtrfMCwAc",
        "outputId": "568b32c9-5012-42d0-9afd-54a42b3eef2b"
      },
      "execution_count": null,
      "outputs": [
        {
          "output_type": "stream",
          "name": "stdout",
          "text": [
            "Epoch 1/5\n",
            "33/33 [==============================] - 9s 146ms/step - loss: 0.0794 - mae: 0.2843 - val_loss: 0.0217 - val_mae: 0.1503\n",
            "Epoch 2/5\n",
            "33/33 [==============================] - 3s 102ms/step - loss: 0.0151 - mae: 0.1452 - val_loss: 0.0171 - val_mae: 0.1278\n",
            "Epoch 3/5\n",
            "33/33 [==============================] - 3s 97ms/step - loss: 0.0127 - mae: 0.1309 - val_loss: 0.0140 - val_mae: 0.1210\n",
            "Epoch 4/5\n",
            "33/33 [==============================] - 3s 101ms/step - loss: 0.0116 - mae: 0.1229 - val_loss: 0.0133 - val_mae: 0.1160\n",
            "Epoch 5/5\n",
            "33/33 [==============================] - 3s 102ms/step - loss: 0.0107 - mae: 0.1158 - val_loss: 0.0120 - val_mae: 0.1112\n",
            "3/3 [==============================] - 0s 26ms/step - loss: 0.0120 - mae: 0.1112\n"
          ]
        },
        {
          "output_type": "execute_result",
          "data": {
            "text/plain": [
              "111225.28463602066"
            ]
          },
          "metadata": {},
          "execution_count": 32
        }
      ]
    },
    {
      "cell_type": "markdown",
      "source": [
        "### Creating a Custom RNN Class\n",
        "\n",
        "The RNN class is not magical. In fact, it's not too hard to implement your own RNN class:"
      ],
      "metadata": {
        "id": "YPaU-plkHQg6"
      }
    },
    {
      "cell_type": "code",
      "source": [
        "class MyRNN(tf.keras.layers.Layer):\n",
        "    def __init__(self, cell, return_sequences=False, **kwargs):\n",
        "        super().__init__(**kwargs)\n",
        "        self.cell = cell\n",
        "        self.return_sequences = return_sequences\n",
        "\n",
        "    def get_initial_state(self, inputs):\n",
        "        try:\n",
        "            return self.cell.get_initial_state(inputs)\n",
        "        except AttributeError:\n",
        "            # fallback to zeros if self.cell has no get_initial_state() method\n",
        "            batch_size = tf.shape(inputs)[0]\n",
        "            return [tf.zeros([batch_size, self.cell.state_size],\n",
        "                             dtype=inputs.dtype)]\n",
        "\n",
        "    @tf.function\n",
        "    def call(self, inputs):\n",
        "        states = self.get_initial_state(inputs)\n",
        "        shape = tf.shape(inputs)\n",
        "        batch_size = shape[0]\n",
        "        n_steps = shape[1]\n",
        "        sequences = tf.TensorArray(\n",
        "            inputs.dtype, size=(n_steps if self.return_sequences else 0))\n",
        "        outputs = tf.zeros(shape=[batch_size, self.cell.output_size],\n",
        "                           dtype=inputs.dtype)\n",
        "        for step in tf.range(n_steps):\n",
        "            outputs, states = self.cell(inputs[:, step], states)\n",
        "            if self.return_sequences:\n",
        "                sequences = sequences.write(step, outputs)\n",
        "\n",
        "        if self.return_sequences:\n",
        "            # stack the outputs into an array of shape\n",
        "            # [time steps, batch size, dims], then transpose it to shape\n",
        "            # [batch size, time steps, dims]\n",
        "            return tf.transpose(sequences.stack(), [1, 0, 2])\n",
        "        else:\n",
        "            return outputs"
      ],
      "metadata": {
        "id": "GbWqPsQgHSrm"
      },
      "execution_count": null,
      "outputs": []
    },
    {
      "cell_type": "markdown",
      "source": [
        "Note that `@tf.function` requires the `outputs` variable to be created before the `for` loop, which is why we initialize its value to a zero tensor, even though we don't use that value at all. Once the function is converted to a graph, this unused value will be pruned from the graph, so it doesn't impact performance. Similarly, `@tf.function` requires the `sequences` variable to be created before the `if` statement where it is used, even if `self.return_sequences` is `False`, so we create a `TensorArray` of size 0 in this case."
      ],
      "metadata": {
        "id": "QlhHsIs3H0eW"
      }
    },
    {
      "cell_type": "code",
      "source": [
        "tf.random.set_seed(42)\n",
        "\n",
        "custom_model = tf.keras.Sequential([\n",
        "    MyRNN(LNSimpleRNNCell(32), return_sequences=True, input_shape=[None, 5]),\n",
        "    tf.keras.layers.Dense(14)\n",
        "])"
      ],
      "metadata": {
        "id": "Hbj63Cu3HotM"
      },
      "execution_count": null,
      "outputs": []
    },
    {
      "cell_type": "code",
      "source": [
        "fit_and_evaluate(custom_model, seq2seq_train, seq2seq_valid,\n",
        "                 learning_rate=0.1, epochs=5)"
      ],
      "metadata": {
        "colab": {
          "base_uri": "https://localhost:8080/"
        },
        "id": "EAppHJzdH3OQ",
        "outputId": "ad10d2f4-6a98-4a72-843b-f63c2d319eb1"
      },
      "execution_count": null,
      "outputs": [
        {
          "output_type": "stream",
          "name": "stdout",
          "text": [
            "Epoch 1/5\n",
            "33/33 [==============================] - 8s 170ms/step - loss: 0.0670 - mae: 0.2597 - val_loss: 0.0185 - val_mae: 0.1531\n",
            "Epoch 2/5\n",
            "33/33 [==============================] - 6s 180ms/step - loss: 0.0146 - mae: 0.1420 - val_loss: 0.0153 - val_mae: 0.1263\n",
            "Epoch 3/5\n",
            "33/33 [==============================] - 6s 186ms/step - loss: 0.0122 - mae: 0.1290 - val_loss: 0.0133 - val_mae: 0.1172\n",
            "Epoch 4/5\n",
            "33/33 [==============================] - 3s 101ms/step - loss: 0.0107 - mae: 0.1173 - val_loss: 0.0114 - val_mae: 0.1076\n",
            "Epoch 5/5\n",
            "33/33 [==============================] - 4s 105ms/step - loss: 0.0092 - mae: 0.1041 - val_loss: 0.0093 - val_mae: 0.0949\n",
            "3/3 [==============================] - 0s 28ms/step - loss: 0.0093 - mae: 0.0949\n"
          ]
        },
        {
          "output_type": "execute_result",
          "data": {
            "text/plain": [
              "94931.39386177063"
            ]
          },
          "metadata": {},
          "execution_count": 35
        }
      ]
    },
    {
      "cell_type": "markdown",
      "source": [
        "## Tackling the Short-Term Memory Problem\n",
        "\n",
        "Due to the transformations that the data goes through when traversing an\n",
        "RNN, some information is lost at each time step. After a while, the RNN’s\n",
        "state contains virtually no trace of the first inputs. This can be a\n",
        "showstopper"
      ],
      "metadata": {
        "id": "2bB5REHWGTLU"
      }
    },
    {
      "cell_type": "markdown",
      "source": [
        "### LSTM cells\n"
      ],
      "metadata": {
        "id": "KhHXWtBKGux5"
      }
    },
    {
      "cell_type": "code",
      "source": [
        "tf.random.set_seed(42)  # extra code – ensures reproducibility\n",
        "lstm_model = tf.keras.models.Sequential([\n",
        "    tf.keras.layers.LSTM(32, return_sequences=True, input_shape=[None, 5]),\n",
        "    tf.keras.layers.Dense(14)\n",
        "])"
      ],
      "metadata": {
        "id": "6oSxEBMGC0ld"
      },
      "execution_count": null,
      "outputs": []
    },
    {
      "cell_type": "code",
      "source": [
        "fit_and_evaluate(lstm_model, seq2seq_train, seq2seq_valid,\n",
        "                 learning_rate=0.1, epochs=5)"
      ],
      "metadata": {
        "colab": {
          "base_uri": "https://localhost:8080/"
        },
        "id": "As9VxI-PH8AH",
        "outputId": "aefab904-291a-426d-844a-cf1ef8047dc0"
      },
      "execution_count": null,
      "outputs": [
        {
          "output_type": "stream",
          "name": "stdout",
          "text": [
            "Epoch 1/5\n",
            "33/33 [==============================] - 4s 27ms/step - loss: 0.0565 - mae: 0.2556 - val_loss: 0.0187 - val_mae: 0.1660\n",
            "Epoch 2/5\n",
            "33/33 [==============================] - 0s 12ms/step - loss: 0.0174 - mae: 0.1577 - val_loss: 0.0176 - val_mae: 0.1475\n",
            "Epoch 3/5\n",
            "33/33 [==============================] - 0s 12ms/step - loss: 0.0159 - mae: 0.1522 - val_loss: 0.0169 - val_mae: 0.1420\n",
            "Epoch 4/5\n",
            "33/33 [==============================] - 0s 12ms/step - loss: 0.0151 - mae: 0.1480 - val_loss: 0.0162 - val_mae: 0.1393\n",
            "Epoch 5/5\n",
            "33/33 [==============================] - 0s 13ms/step - loss: 0.0145 - mae: 0.1450 - val_loss: 0.0157 - val_mae: 0.1360\n",
            "3/3 [==============================] - 0s 23ms/step - loss: 0.0157 - mae: 0.1360\n"
          ]
        },
        {
          "output_type": "execute_result",
          "data": {
            "text/plain": [
              "136006.99603557587"
            ]
          },
          "metadata": {},
          "execution_count": 37
        }
      ]
    },
    {
      "cell_type": "markdown",
      "source": [
        "An LSTM cell can learn to recognize an important input (that’s the\n",
        "role of the input gate), store it in the long-term state, preserve it for as long\n",
        "as it is needed (that’s the role of the forget gate), and extract it whenever it\n",
        "is needed. This explains why these cells have been amazingly successful at\n",
        "capturing long-term patterns in time series, long texts, audio recordings, and\n",
        "more.\n"
      ],
      "metadata": {
        "id": "ClE8eW7eLGRN"
      }
    },
    {
      "cell_type": "markdown",
      "source": [
        "### GRU cells"
      ],
      "metadata": {
        "id": "QVMheHAKOV1Q"
      }
    },
    {
      "cell_type": "code",
      "source": [
        "tf.random.set_seed(42)  # extra code – ensures reproducibility\n",
        "gru_model = tf.keras.Sequential([\n",
        "    tf.keras.layers.GRU(32, return_sequences=True, input_shape=[None, 5]),\n",
        "    tf.keras.layers.Dense(14)\n",
        "])"
      ],
      "metadata": {
        "id": "-V1Vy8c3H99P"
      },
      "execution_count": null,
      "outputs": []
    },
    {
      "cell_type": "code",
      "source": [
        "fit_and_evaluate(gru_model, seq2seq_train, seq2seq_valid,\n",
        "                 learning_rate=0.1, epochs=5)"
      ],
      "metadata": {
        "colab": {
          "base_uri": "https://localhost:8080/"
        },
        "id": "fN5zmvJmTBfK",
        "outputId": "36ff6bcd-00c9-4573-a77f-e64ee76a6e46"
      },
      "execution_count": null,
      "outputs": [
        {
          "output_type": "stream",
          "name": "stdout",
          "text": [
            "Epoch 1/5\n",
            "33/33 [==============================] - 3s 25ms/step - loss: 0.0534 - mae: 0.2556 - val_loss: 0.0202 - val_mae: 0.1647\n",
            "Epoch 2/5\n",
            "33/33 [==============================] - 0s 12ms/step - loss: 0.0159 - mae: 0.1482 - val_loss: 0.0155 - val_mae: 0.1360\n",
            "Epoch 3/5\n",
            "33/33 [==============================] - 0s 12ms/step - loss: 0.0133 - mae: 0.1349 - val_loss: 0.0141 - val_mae: 0.1255\n",
            "Epoch 4/5\n",
            "33/33 [==============================] - 0s 12ms/step - loss: 0.0120 - mae: 0.1263 - val_loss: 0.0129 - val_mae: 0.1206\n",
            "Epoch 5/5\n",
            "33/33 [==============================] - 0s 12ms/step - loss: 0.0112 - mae: 0.1209 - val_loss: 0.0123 - val_mae: 0.1174\n",
            "3/3 [==============================] - 0s 19ms/step - loss: 0.0123 - mae: 0.1174\n"
          ]
        },
        {
          "output_type": "execute_result",
          "data": {
            "text/plain": [
              "117401.83085203171"
            ]
          },
          "metadata": {},
          "execution_count": 39
        }
      ]
    },
    {
      "cell_type": "markdown",
      "source": [
        "### Using 1D convolutional layers to process sequences\n",
        "\n",
        "LSTM and GRU cells are one of the main reasons behind the success of\n",
        "RNNs. Yet while they can tackle much longer sequences than simple RNNs,\n",
        "they still have a fairly limited short-term memory, and they have a hard\n",
        "time learning long-term patterns in sequences of 100 time steps or more,\n",
        "such as audio samples, long time series, or long sentences. One way to\n",
        "solve this is to shorten the input sequences; for example, using 1D\n",
        "convolutional layers."
      ],
      "metadata": {
        "id": "d3TjEG9STG2j"
      }
    },
    {
      "cell_type": "markdown",
      "source": [
        "```\n",
        "  |-----0-----|      |-----3----|      |--... |-------52------|\n",
        "         |-----1----|      |-----4----|   ... |       |-------53------|\n",
        "               |-----2----|     |------5--...-51------|       |-------54------|\n",
        "X:  0  1  2  3  4  5  6  7  8  9 10 11 12 ...  104 105 106 107 108 109 110 111\n",
        "Y:      from 4     6     8    10    12    ...      106     108     110     112\n",
        "         to 17    19    21    23    25    ...      119     121     123     125\n",
        "```"
      ],
      "metadata": {
        "id": "-anDjCTDfYCh"
      }
    },
    {
      "cell_type": "code",
      "source": [
        "tf.random.set_seed(42)  # extra code – ensures reproducibility\n",
        "conv_rnn_model = tf.keras.Sequential([\n",
        "    tf.keras.layers.Conv1D(filters=32, kernel_size=4, strides=2,\n",
        "                           activation=\"relu\", input_shape=[None, 5]),\n",
        "    tf.keras.layers.GRU(32, return_sequences=True),\n",
        "    tf.keras.layers.Dense(14)\n",
        "])\n",
        "\n",
        "longer_train = to_seq2seq_dataset(mulvar_train, seq_length=112,\n",
        "                                       shuffle=True, seed=42)\n",
        "longer_valid = to_seq2seq_dataset(mulvar_valid, seq_length=112)\n",
        "downsampled_train = longer_train.map(lambda X, Y: (X, Y[:, 3::2]))\n",
        "downsampled_valid = longer_valid.map(lambda X, Y: (X, Y[:, 3::2]))"
      ],
      "metadata": {
        "id": "x8v9MEFjTDK2"
      },
      "execution_count": null,
      "outputs": []
    },
    {
      "cell_type": "code",
      "source": [
        "fit_and_evaluate(conv_rnn_model, downsampled_train, downsampled_valid,\n",
        "                 learning_rate=0.1, epochs=5)"
      ],
      "metadata": {
        "colab": {
          "base_uri": "https://localhost:8080/"
        },
        "id": "8mZ9vXgqTTnl",
        "outputId": "76b13cb7-a907-4661-85e9-cad25819aa55"
      },
      "execution_count": null,
      "outputs": [
        {
          "output_type": "stream",
          "name": "stdout",
          "text": [
            "Epoch 1/5\n",
            "31/31 [==============================] - 9s 55ms/step - loss: 0.0509 - mae: 0.2521 - val_loss: 0.0207 - val_mae: 0.1545\n",
            "Epoch 2/5\n",
            "31/31 [==============================] - 1s 22ms/step - loss: 0.0160 - mae: 0.1478 - val_loss: 0.0166 - val_mae: 0.1336\n",
            "Epoch 3/5\n",
            "31/31 [==============================] - 1s 28ms/step - loss: 0.0133 - mae: 0.1366 - val_loss: 0.0143 - val_mae: 0.1241\n",
            "Epoch 4/5\n",
            "31/31 [==============================] - 1s 28ms/step - loss: 0.0116 - mae: 0.1240 - val_loss: 0.0124 - val_mae: 0.1132\n",
            "Epoch 5/5\n",
            "31/31 [==============================] - 1s 25ms/step - loss: 0.0099 - mae: 0.1115 - val_loss: 0.0106 - val_mae: 0.1046\n",
            "1/1 [==============================] - 0s 151ms/step - loss: 0.0106 - mae: 0.1046\n"
          ]
        },
        {
          "output_type": "execute_result",
          "data": {
            "text/plain": [
              "104586.72791719437"
            ]
          },
          "metadata": {},
          "execution_count": 41
        }
      ]
    },
    {
      "cell_type": "markdown",
      "source": [
        "### WaveNet"
      ],
      "metadata": {
        "id": "XN7afulATWP5"
      }
    },
    {
      "cell_type": "markdown",
      "source": [
        "```\n",
        " ⋮\n",
        "C2  /\\ /\\ /\\ /\\ /\\ /\\ /\\ /\\ /\\ /\\ /\\ /\\ /\\...\n",
        "   \\  /  \\  /  \\  /  \\  /  \\  /  \\  /  \\     \n",
        "     /    \\      /    \\      /    \\          \n",
        "C1  /\\ /\\ /\\ /\\ /\\ /\\ /\\ /\\ /\\ /\\ /\\  /\\ /...\\\n",
        "X: 0  1  2  3  4  5  6  7  8  9  10 11 12 ... 111\n",
        "Y: 1  2  3  4  5  6  7  8  9  10 11 12 13 ... 112\n",
        " /14 15 16 17 18 19 20 21 22  23 24 25 26 ... 125\n",
        "```"
      ],
      "metadata": {
        "id": "1xiCsLd1lFgs"
      }
    },
    {
      "cell_type": "code",
      "source": [
        "tf.random.set_seed(42)  # extra code – ensures reproducibility\n",
        "wavenet_model = tf.keras.Sequential()\n",
        "wavenet_model.add(tf.keras.layers.InputLayer(input_shape=[None, 5]))\n",
        "for rate in (1, 2, 4, 8) * 2:\n",
        "    wavenet_model.add(tf.keras.layers.Conv1D(\n",
        "        filters=32, kernel_size=2, padding=\"causal\", activation=\"relu\",\n",
        "        dilation_rate=rate))\n",
        "wavenet_model.add(tf.keras.layers.Conv1D(filters=14, kernel_size=1))"
      ],
      "metadata": {
        "id": "TidhybirTU4x"
      },
      "execution_count": null,
      "outputs": []
    },
    {
      "cell_type": "code",
      "source": [
        "fit_and_evaluate(wavenet_model, longer_train, longer_valid,\n",
        "                 learning_rate=0.1, epochs=5)"
      ],
      "metadata": {
        "colab": {
          "base_uri": "https://localhost:8080/"
        },
        "id": "cs4L_vV0TY5k",
        "outputId": "a11366c9-0752-4868-832d-16209476fadc"
      },
      "execution_count": null,
      "outputs": [
        {
          "output_type": "stream",
          "name": "stdout",
          "text": [
            "Epoch 1/5\n",
            "31/31 [==============================] - 6s 48ms/step - loss: 0.0772 - mae: 0.3106 - val_loss: 0.0219 - val_mae: 0.1726\n",
            "Epoch 2/5\n",
            "31/31 [==============================] - 1s 36ms/step - loss: 0.0169 - mae: 0.1580 - val_loss: 0.0179 - val_mae: 0.1514\n",
            "Epoch 3/5\n",
            "31/31 [==============================] - 1s 34ms/step - loss: 0.0154 - mae: 0.1528 - val_loss: 0.0173 - val_mae: 0.1465\n",
            "Epoch 4/5\n",
            "31/31 [==============================] - 1s 25ms/step - loss: 0.0146 - mae: 0.1478 - val_loss: 0.0164 - val_mae: 0.1405\n",
            "Epoch 5/5\n",
            "31/31 [==============================] - 1s 26ms/step - loss: 0.0137 - mae: 0.1408 - val_loss: 0.0152 - val_mae: 0.1332\n",
            "1/1 [==============================] - 0s 117ms/step - loss: 0.0152 - mae: 0.1332\n"
          ]
        },
        {
          "output_type": "execute_result",
          "data": {
            "text/plain": [
              "133173.54023456573"
            ]
          },
          "metadata": {},
          "execution_count": 43
        }
      ]
    },
    {
      "cell_type": "markdown",
      "source": [
        "#### Wavenet Implementation\n",
        "\n",
        "Here is the original WaveNet defined in the paper: it uses Gated Activation Units instead of ReLU and parametrized skip connections, plus it pads with zeros on the left to avoid getting shorter and shorter sequences:"
      ],
      "metadata": {
        "id": "1QjuqXAOTbrk"
      }
    },
    {
      "cell_type": "code",
      "source": [
        "class GatedActivationUnit(tf.keras.layers.Layer):\n",
        "    def __init__(self, activation=\"tanh\", **kwargs):\n",
        "        super().__init__(**kwargs)\n",
        "        self.activation = tf.keras.activations.get(activation)\n",
        "\n",
        "    def call(self, inputs):\n",
        "        n_filters = inputs.shape[-1] // 2\n",
        "        linear_output = self.activation(inputs[..., :n_filters])\n",
        "        gate = tf.keras.activations.sigmoid(inputs[..., n_filters:])\n",
        "        return self.activation(linear_output) * gate"
      ],
      "metadata": {
        "id": "pzf5UifhTaMr"
      },
      "execution_count": null,
      "outputs": []
    },
    {
      "cell_type": "code",
      "source": [
        "def wavenet_residual_block(inputs, n_filters, dilation_rate):\n",
        "    z = tf.keras.layers.Conv1D(2 * n_filters, kernel_size=2, padding=\"causal\",\n",
        "                            dilation_rate=dilation_rate)(inputs)\n",
        "    z = GatedActivationUnit()(z)\n",
        "    z = tf.keras.layers.Conv1D(n_filters, kernel_size=1)(z)\n",
        "    return tf.keras.layers.Add()([z, inputs]), z"
      ],
      "metadata": {
        "id": "rbBeY29sTdkU"
      },
      "execution_count": null,
      "outputs": []
    },
    {
      "cell_type": "code",
      "source": [
        "tf.random.set_seed(42)\n",
        "\n",
        "n_layers_per_block = 3  # 10 in the paper\n",
        "n_blocks = 1  # 3 in the paper\n",
        "n_filters = 32  # 128 in the paper\n",
        "n_outputs = 14  # 256 in the paper\n",
        "\n",
        "inputs = tf.keras.layers.Input(shape=[None, 5])\n",
        "z = tf.keras.layers.Conv1D(n_filters, kernel_size=2, padding=\"causal\")(inputs)\n",
        "skip_to_last = []\n",
        "for dilation_rate in [2**i for i in range(n_layers_per_block)] * n_blocks:\n",
        "    z, skip = wavenet_residual_block(z, n_filters, dilation_rate)\n",
        "    skip_to_last.append(skip)\n",
        "\n",
        "z = tf.keras.activations.relu(tf.keras.layers.Add()(skip_to_last))\n",
        "z = tf.keras.layers.Conv1D(n_filters, kernel_size=1, activation=\"relu\")(z)\n",
        "Y_preds = tf.keras.layers.Conv1D(n_outputs, kernel_size=1)(z)\n",
        "\n",
        "full_wavenet_model = tf.keras.Model(inputs=[inputs], outputs=[Y_preds])"
      ],
      "metadata": {
        "id": "Hq3Aykx4TefZ"
      },
      "execution_count": null,
      "outputs": []
    },
    {
      "cell_type": "code",
      "source": [
        "fit_and_evaluate(full_wavenet_model, longer_train, longer_valid,\n",
        "                 learning_rate=0.1, epochs=5)"
      ],
      "metadata": {
        "colab": {
          "base_uri": "https://localhost:8080/"
        },
        "id": "kTooXswxTfzT",
        "outputId": "ccb70e77-ca24-4796-a518-a9084a227172"
      },
      "execution_count": null,
      "outputs": [
        {
          "output_type": "stream",
          "name": "stdout",
          "text": [
            "Epoch 1/5\n",
            "31/31 [==============================] - 7s 67ms/step - loss: 0.0663 - mae: 0.2810 - val_loss: 0.0218 - val_mae: 0.1464\n",
            "Epoch 2/5\n",
            "31/31 [==============================] - 1s 22ms/step - loss: 0.0135 - mae: 0.1358 - val_loss: 0.0143 - val_mae: 0.1256\n",
            "Epoch 3/5\n",
            "31/31 [==============================] - 1s 26ms/step - loss: 0.0111 - mae: 0.1206 - val_loss: 0.0130 - val_mae: 0.1167\n",
            "Epoch 4/5\n",
            "31/31 [==============================] - 1s 25ms/step - loss: 0.0097 - mae: 0.1102 - val_loss: 0.0112 - val_mae: 0.1082\n",
            "Epoch 5/5\n",
            "31/31 [==============================] - 1s 28ms/step - loss: 0.0083 - mae: 0.1001 - val_loss: 0.0098 - val_mae: 0.0999\n",
            "1/1 [==============================] - 0s 143ms/step - loss: 0.0098 - mae: 0.0999\n"
          ]
        },
        {
          "output_type": "execute_result",
          "data": {
            "text/plain": [
              "99882.52073526382"
            ]
          },
          "metadata": {},
          "execution_count": 47
        }
      ]
    },
    {
      "cell_type": "markdown",
      "source": [
        "# Summary\n",
        "\n",
        "In this chapter we explored the fundamentals of RNNs and used them to process sequences (namely, time series). In the process we also looked at other ways to process sequences, including CNNs. In the next chapter we will use RNNs for Natural Language Processing, and we will learn more about RNNs (bidirectional RNNs, stateful vs stateless RNNs, Encoder–Decoders, and Attention-augmented Encoder-Decoders). We will also look at the Transformer, an Attention-only architecture."
      ],
      "metadata": {
        "id": "Lb86Un92lQ5W"
      }
    },
    {
      "cell_type": "markdown",
      "source": [
        "1. Some applications for RNN:\n",
        "  - For a sequence-to-sequence RNN: predicting the weather (or any other time series), machine translation (using an Encoder–Decoder architecture), video captioning, speech to text, music generation (or other sequence generation), identifying the chords of a song.\n",
        "  - For a sequence-to-vector RNN: classifying music samples by music genre, analyzing the sentiment of a book review, predicting what word an aphasic patient is thinking of based on readings from brain implants, predicting the probability that a user will want to watch a movie based on their watch history (this is one of many possible implementations of collaborative filtering for a recommender system).\n",
        "  - For a vector-to-sequence RNN: image captioning, creating a music playlist based on an embedding of the current artist, generating a melody based on a set of parameters, locating pedestrians in a picture (e.g., a video frame from a self-driving car's camera).\n",
        "\n",
        "2. An RNN layer must have three-dimensional inputs: the first dimension is the batch dimension (its size is the batch size), the second dimension represents the time (its size is the number of time steps), and the third dimension holds the inputs at each time step (its size is the number of input features per time step). For example, if you want to process a batch containing 5 time series of 10 time steps each, with 2 values per time step (e.g., the temperature and the wind speed), the shape will be [5, 10, 2]. The outputs are also three-dimensional, with the same first two dimensions, but the last dimension is equal to the number of neurons. For example, if an RNN layer with 32 neurons processes the batch we just discussed, the output will have a shape of [5, 10, 32].\n",
        "\n",
        "3. To build a deep sequence-to-sequence RNN using Keras, you must set `return_sequences=True` for all RNN layers. To build a sequence-to-vector RNN, you must set `return_sequences=True` for all RNN layers except for the top RNN layer, which must have `return_sequences=False` (or do not set this argument at all, since `False` is the default).\n",
        "\n",
        "4. If you have a daily univariate time series, and you want to forecast the next seven days, the simplest RNN architecture you can use is a stack of RNN layers (all with `return_sequences=True` except for the top RNN layer), using seven neurons in the output RNN layer. You can then train this model using random windows from the time series (e.g., sequences of 30 consecutive days as the inputs, and a vector containing the values of the next 7 days as the target). This is a sequence-to-vector RNN. Alternatively, you could set `return_sequences=True` for all RNN layers to create a sequence-to-sequence RNN. You can train this model using random windows from the time series, with sequences of the same length as the inputs as the targets. Each target sequence should have seven values per time step (e.g., for time step _t_, the target should be a vector containing the values at time steps _t_ + 1 to _t_ + 7).\n",
        "\n",
        "5. The two main difficulties when training RNNs are unstable gradients (exploding or vanishing) and a very limited short-term memory. These problems both get worse when dealing with long sequences. To alleviate the unstable gradients problem, you can use a smaller learning rate, use a saturating activation function such as the hyperbolic tangent (which is the default), and possibly use gradient clipping, Layer Normalization, or dropout at each time step. To tackle the limited short-term memory problem, you can use `LSTM` or `GRU` layers (this also helps with the unstable gradients problem).\n",
        "\n",
        "6. An LSTM cell's architecture looks complicated, but it's actually not too hard if you understand the underlying logic. The cell has a short-term state vector and a long-term state vector. At each time step, the inputs and the previous short-term state are fed to a simple RNN cell and three gates: the forget gate decides what to remove from the long-term state, the input gate decides which part of the output of the simple RNN cell should be added to the long-term state, and the output gate decides which part of the long-term state should be output at this time step (after going through the tanh activation function). The new short-term state is equal to the output of the cell.\n",
        "\n",
        "7. An RNN layer is fundamentally sequential: in order to compute the outputs at time step _t_, it has to first compute the outputs at all earlier time steps. This makes it impossible to parallelize. On the other hand, a 1D convolutional layer lends itself well to parallelization since it does not hold a state between time steps. In other words, it has no memory: the output at any time step can be computed based only on a small window of values from the inputs without having to know all the past values. Moreover, since a 1D convolutional layer is not recurrent, it suffers less from unstable gradients. One or more 1D convolutional layers can be useful in an RNN to efficiently preprocess the inputs, for example to reduce their temporal resolution (downsampling) and thereby help the RNN layers detect long-term patterns. In fact, it is possible to use only convolutional layers, for example by building a WaveNet architecture.\n",
        "\n",
        "8.  To classify videos based on their visual content, one possible architecture could be to take (say) one frame per second, then run every frame through the same convolutional neural network (e.g., a pretrained Xception model, possibly frozen if your dataset is not large), feed the sequence of outputs from the CNN to a sequence-to-vector RNN, and finally run its output through a softmax layer, giving you all the class probabilities. For training you would use cross entropy as the cost function. If you wanted to use the audio for classification as well, you could use a stack of strided 1D convolutional layers to reduce the temporal resolution from thousands of audio frames per second to just one per second (to match the number of images per second), and concatenate the output sequence to the inputs of the sequence-to-vector RNN (along the last dimension)."
      ],
      "metadata": {
        "id": "45pZy8VHCCjp"
      }
    },
    {
      "cell_type": "code",
      "source": [],
      "metadata": {
        "id": "Z7r7EIozTg0K"
      },
      "execution_count": null,
      "outputs": []
    }
  ]
}