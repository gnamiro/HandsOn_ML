{
  "cells": [
    {
      "cell_type": "markdown",
      "metadata": {
        "id": "5h4Gs_JfZwtm"
      },
      "source": [
        "**Chapter 18 – Reinforcement Learning**"
      ]
    },
    {
      "cell_type": "markdown",
      "metadata": {
        "id": "4VL7gJQDZwtr"
      },
      "source": [
        "_This notebook contains all the sample code and solutions to the exercises in chapter 18._"
      ]
    },
    {
      "cell_type": "markdown",
      "metadata": {
        "id": "o3SluAc7Zwtr"
      },
      "source": [
        "<table align=\"left\">\n",
        "  <td>\n",
        "    <a href=\"https://colab.research.google.com/github/ageron/handson-ml3/blob/main/18_reinforcement_learning.ipynb\" target=\"_parent\"><img src=\"https://colab.research.google.com/assets/colab-badge.svg\" alt=\"Open In Colab\"/></a>\n",
        "  </td>\n",
        "  <td>\n",
        "    <a target=\"_blank\" href=\"https://kaggle.com/kernels/welcome?src=https://github.com/ageron/handson-ml3/blob/main/18_reinforcement_learning.ipynb\"><img src=\"https://kaggle.com/static/images/open-in-kaggle.svg\" /></a>\n",
        "  </td>\n",
        "</table>"
      ]
    },
    {
      "cell_type": "markdown",
      "metadata": {
        "id": "dFXIv9qNpKzt",
        "tags": []
      },
      "source": [
        "# Setup"
      ]
    },
    {
      "cell_type": "markdown",
      "metadata": {
        "id": "8IPbJEmZpKzu"
      },
      "source": [
        "This project requires Python 3.7 or above:"
      ]
    },
    {
      "cell_type": "code",
      "execution_count": 1,
      "metadata": {
        "id": "TFSU3FCOpKzu"
      },
      "outputs": [],
      "source": [
        "import sys\n",
        "\n",
        "assert sys.version_info >= (3, 7)"
      ]
    },
    {
      "cell_type": "markdown",
      "metadata": {
        "id": "GJtVEqxfpKzw"
      },
      "source": [
        "And TensorFlow ≥ 2.8:"
      ]
    },
    {
      "cell_type": "code",
      "execution_count": 2,
      "metadata": {
        "id": "0Piq5se2pKzx"
      },
      "outputs": [],
      "source": [
        "from packaging import version\n",
        "import tensorflow as tf\n",
        "\n",
        "assert version.parse(tf.__version__) >= version.parse(\"2.8.0\")"
      ]
    },
    {
      "cell_type": "markdown",
      "metadata": {
        "id": "DDaDoLQTpKzx"
      },
      "source": [
        "As we did in earlier chapters, let's define the default font sizes to make the figures prettier. We will also display some Matplotlib animations, and there are several possible options to do that: we will use the Javascript option."
      ]
    },
    {
      "cell_type": "code",
      "execution_count": 3,
      "metadata": {
        "id": "8d4TH3NbpKzx"
      },
      "outputs": [],
      "source": [
        "import matplotlib.animation\n",
        "import matplotlib.pyplot as plt\n",
        "\n",
        "plt.rc('font', size=14)\n",
        "plt.rc('axes', labelsize=14, titlesize=14)\n",
        "plt.rc('legend', fontsize=14)\n",
        "plt.rc('xtick', labelsize=10)\n",
        "plt.rc('ytick', labelsize=10)\n",
        "plt.rc('animation', html='jshtml')"
      ]
    },
    {
      "cell_type": "markdown",
      "metadata": {
        "id": "RcoUIRsvpKzy"
      },
      "source": [
        "And let's create the `images/rl` folder (if it doesn't already exist), and define the `save_fig()` function which is used through this notebook to save the figures in high-res for the book:"
      ]
    },
    {
      "cell_type": "code",
      "execution_count": 4,
      "metadata": {
        "id": "PQFH5Y9PpKzy"
      },
      "outputs": [],
      "source": [
        "from pathlib import Path\n",
        "\n",
        "IMAGES_PATH = Path() / \"images\" / \"rl\"\n",
        "IMAGES_PATH.mkdir(parents=True, exist_ok=True)\n",
        "\n",
        "def save_fig(fig_id, tight_layout=True, fig_extension=\"png\", resolution=300):\n",
        "    path = IMAGES_PATH / f\"{fig_id}.{fig_extension}\"\n",
        "    if tight_layout:\n",
        "        plt.tight_layout()\n",
        "    plt.savefig(path, format=fig_extension, dpi=resolution)"
      ]
    },
    {
      "cell_type": "markdown",
      "metadata": {
        "id": "YTsawKlapKzy"
      },
      "source": [
        "This chapter can be very slow without a GPU, so let's make sure there's one, or else issue a warning:"
      ]
    },
    {
      "cell_type": "code",
      "execution_count": 5,
      "metadata": {
        "id": "Ekxzo6pOpKzy"
      },
      "outputs": [],
      "source": [
        "if not tf.config.list_physical_devices('GPU'):\n",
        "    print(\"No GPU was detected. Neural nets can be very slow without a GPU.\")\n",
        "    if \"google.colab\" in sys.modules:\n",
        "        print(\"Go to Runtime > Change runtime and select a GPU hardware \"\n",
        "              \"accelerator.\")\n",
        "    if \"kaggle_secrets\" in sys.modules:\n",
        "        print(\"Go to Settings > Accelerator and select GPU.\")"
      ]
    },
    {
      "cell_type": "markdown",
      "metadata": {
        "id": "MkQsGOQwZwtw"
      },
      "source": [
        "Let's install the gym library, which provides many environments for Reinforcement Learning. We'll also install the extra libraries needed for classic control environments (including CartPole, which we will use shortly), as well as for Box2D and Atari environments, which are needed for the exercises.\n",
        "\n",
        "**Note:** by running the following cell, you accept the Atari ROM license."
      ]
    },
    {
      "cell_type": "code",
      "execution_count": 6,
      "metadata": {
        "id": "gUbs3Y58Zwtx",
        "colab": {
          "base_uri": "https://localhost:8080/"
        },
        "outputId": "2f85297a-c8c5-43c8-cae0-3ecff0553132"
      },
      "outputs": [
        {
          "output_type": "stream",
          "name": "stdout",
          "text": [
            "\u001b[?25l     \u001b[90m━━━━━━━━━━━━━━━━━━━━━━━━━━━━━━━━━━━━━━━━\u001b[0m \u001b[32m0.0/721.7 KB\u001b[0m \u001b[31m?\u001b[0m eta \u001b[36m-:--:--\u001b[0m\r\u001b[2K     \u001b[91m━━━━━━━━━━━━━━━━━\u001b[0m\u001b[91m╸\u001b[0m\u001b[90m━━━━━━━━━━━━━━━━━━━━━\u001b[0m \u001b[32m327.7/721.7 KB\u001b[0m \u001b[31m9.6 MB/s\u001b[0m eta \u001b[36m0:00:01\u001b[0m\r\u001b[2K     \u001b[90m━━━━━━━━━━━━━━━━━━━━━━━━━━━━━━━━━━━━━━\u001b[0m \u001b[32m721.7/721.7 KB\u001b[0m \u001b[31m13.2 MB/s\u001b[0m eta \u001b[36m0:00:00\u001b[0m\n",
            "\u001b[?25h  Installing build dependencies ... \u001b[?25l\u001b[?25hdone\n",
            "  Getting requirements to build wheel ... \u001b[?25l\u001b[?25hdone\n",
            "  Preparing metadata (pyproject.toml) ... \u001b[?25l\u001b[?25hdone\n",
            "  Building wheel for gym (pyproject.toml) ... \u001b[?25l\u001b[?25hdone\n",
            "\u001b[2K     \u001b[90m━━━━━━━━━━━━━━━━━━━━━━━━━━━━━━━━━━━━━━━━\u001b[0m \u001b[32m1.7/1.7 MB\u001b[0m \u001b[31m24.1 MB/s\u001b[0m eta \u001b[36m0:00:00\u001b[0m\n",
            "\u001b[2K     \u001b[90m━━━━━━━━━━━━━━━━━━━━━━━━━━━━━━━━━━━━━━━━\u001b[0m \u001b[32m1.8/1.8 MB\u001b[0m \u001b[31m62.9 MB/s\u001b[0m eta \u001b[36m0:00:00\u001b[0m\n",
            "\u001b[2K     \u001b[90m━━━━━━━━━━━━━━━━━━━━━━━━━━━━━━━━━━━━━━━━\u001b[0m \u001b[32m18.3/18.3 MB\u001b[0m \u001b[31m66.5 MB/s\u001b[0m eta \u001b[36m0:00:00\u001b[0m\n",
            "\u001b[2K     \u001b[90m━━━━━━━━━━━━━━━━━━━━━━━━━━━━━━━━━━━━━━\u001b[0m \u001b[32m374.4/374.4 KB\u001b[0m \u001b[31m40.6 MB/s\u001b[0m eta \u001b[36m0:00:00\u001b[0m\n",
            "\u001b[?25h  Preparing metadata (setup.py) ... \u001b[?25l\u001b[?25hdone\n",
            "\u001b[2K     \u001b[90m━━━━━━━━━━━━━━━━━━━━━━━━━━━━━━━━━━━━━━\u001b[0m \u001b[32m434.7/434.7 KB\u001b[0m \u001b[31m37.1 MB/s\u001b[0m eta \u001b[36m0:00:00\u001b[0m\n",
            "\u001b[?25h  Installing build dependencies ... \u001b[?25l\u001b[?25hdone\n",
            "  Getting requirements to build wheel ... \u001b[?25l\u001b[?25hdone\n",
            "  Preparing metadata (pyproject.toml) ... \u001b[?25l\u001b[?25hdone\n",
            "\u001b[2K     \u001b[90m━━━━━━━━━━━━━━━━━━━━━━━━━━━━━━━━━━━━━━━━\u001b[0m \u001b[32m8.6/8.6 MB\u001b[0m \u001b[31m107.5 MB/s\u001b[0m eta \u001b[36m0:00:00\u001b[0m\n",
            "\u001b[?25h  \u001b[1;31merror\u001b[0m: \u001b[1msubprocess-exited-with-error\u001b[0m\n",
            "  \n",
            "  \u001b[31m×\u001b[0m \u001b[32mpython setup.py bdist_wheel\u001b[0m did not run successfully.\n",
            "  \u001b[31m│\u001b[0m exit code: \u001b[1;36m1\u001b[0m\n",
            "  \u001b[31m╰─>\u001b[0m See above for output.\n",
            "  \n",
            "  \u001b[1;35mnote\u001b[0m: This error originates from a subprocess, and is likely not a problem with pip.\n",
            "  Building wheel for box2d-py (setup.py) ... \u001b[?25lerror\n",
            "\u001b[31m  ERROR: Failed building wheel for box2d-py\u001b[0m\u001b[31m\n",
            "\u001b[0m\u001b[?25h  Building wheel for AutoROM.accept-rom-license (pyproject.toml) ... \u001b[?25l\u001b[?25hdone\n",
            "  Running setup.py install for box2d-py ... \u001b[?25l\u001b[?25hdone\n",
            "\u001b[33m  DEPRECATION: box2d-py was installed using the legacy 'setup.py install' method, because a wheel could not be built for it. A possible replacement is to fix the wheel build issue reported above. Discussion can be found at https://github.com/pypa/pip/issues/8368\u001b[0m\u001b[33m\n",
            "\u001b[0m"
          ]
        }
      ],
      "source": [
        "if \"google.colab\" in sys.modules or \"kaggle_secrets\" in sys.modules:\n",
        "    %pip install -q -U gym\n",
        "    %pip install -q -U gym[classic_control,box2d,atari,accept-rom-license]"
      ]
    },
    {
      "cell_type": "markdown",
      "source": [
        "The -q option stands for quiet: it makes the output\n",
        "less verbose. The -U option stands for upgrade. The second %pip command installs the libraries required to run\n",
        "various kinds of environments. This includes classic environments from control theory–the science of controlling\n",
        "dynamical systems–such as balancing a pole on a cart. It also includes environments based on the Box2D library a 2D physics engine for games. Lastly, it includes environments based on the Arcade Learning Environment\n",
        "(ALE), which is an emulator for Atari 2600 games. Several Atari game ROMs are downloaded automatically, and\n",
        "by running this code you agree with Atari’s ROM licenses.\n"
      ],
      "metadata": {
        "id": "jEmom5k3Qs3R"
      }
    },
    {
      "cell_type": "markdown",
      "metadata": {
        "id": "EfKJtrjVZwtx"
      },
      "source": [
        "# Introduction to OpenAI gym"
      ]
    },
    {
      "cell_type": "markdown",
      "metadata": {
        "id": "bq0hliP0Zwtx"
      },
      "source": [
        "In this notebook we will be using [OpenAI gym](https://gym.openai.com/), a great toolkit for developing and comparing Reinforcement Learning algorithms. It provides many environments for your learning *agents* to interact with. Let's import Gym and make a new CartPole environment:"
      ]
    },
    {
      "cell_type": "code",
      "execution_count": 7,
      "metadata": {
        "id": "C-xBAwwQZwtx"
      },
      "outputs": [],
      "source": [
        "import gym\n",
        "\n",
        "env = gym.make(\"CartPole-v1\", render_mode=\"rgb_array\")"
      ]
    },
    {
      "cell_type": "markdown",
      "metadata": {
        "id": "K1ytA29WZwtx"
      },
      "source": [
        "The CartPole (version 1) is a very simple environment composed of a cart that can move left or right, and pole placed vertically on top of it. The agent must move the cart left or right to keep the pole upright."
      ]
    },
    {
      "cell_type": "markdown",
      "metadata": {
        "id": "JNCJ6RgMZwty"
      },
      "source": [
        "**Tip**: `gym.envs.registry` is a dictionary containing all available environments:"
      ]
    },
    {
      "cell_type": "code",
      "execution_count": 8,
      "metadata": {
        "id": "nlESsc9BZwty",
        "outputId": "08415969-5d33-43d1-d76a-154c055176f7",
        "colab": {
          "base_uri": "https://localhost:8080/"
        }
      },
      "outputs": [
        {
          "output_type": "execute_result",
          "data": {
            "text/plain": [
              "['ALE/Adventure-ram-v5',\n",
              " 'ALE/Adventure-v5',\n",
              " 'ALE/AirRaid-ram-v5',\n",
              " 'ALE/AirRaid-v5',\n",
              " 'ALE/Alien-ram-v5',\n",
              " '...']"
            ]
          },
          "metadata": {},
          "execution_count": 8
        }
      ],
      "source": [
        "# extra code – shows the first few environments\n",
        "envs = gym.envs.registry\n",
        "sorted(envs.keys())[:5] + [\"...\"]"
      ]
    },
    {
      "cell_type": "markdown",
      "metadata": {
        "id": "dd52K2X6Zwty"
      },
      "source": [
        "The registry values are environment specifications:"
      ]
    },
    {
      "cell_type": "code",
      "execution_count": 9,
      "metadata": {
        "id": "Zov6dncZZwtz",
        "outputId": "abcfba58-5edc-4c58-8dcb-382d850c4a5a",
        "colab": {
          "base_uri": "https://localhost:8080/"
        }
      },
      "outputs": [
        {
          "output_type": "execute_result",
          "data": {
            "text/plain": [
              "EnvSpec(id='CartPole-v1', entry_point='gym.envs.classic_control.cartpole:CartPoleEnv', reward_threshold=475.0, nondeterministic=False, max_episode_steps=500, order_enforce=True, autoreset=False, disable_env_checker=False, apply_api_compatibility=False, kwargs={}, namespace=None, name='CartPole', version=1)"
            ]
          },
          "metadata": {},
          "execution_count": 9
        }
      ],
      "source": [
        "# extra code – shows the specification for the CartPole-v1 environment\n",
        "envs[\"CartPole-v1\"]"
      ]
    },
    {
      "cell_type": "markdown",
      "metadata": {
        "id": "Gpp_aunZZwtz"
      },
      "source": [
        "Let's initialize the environment by calling is `reset()` method. This returns an observation, as well as a dictionary that may contain extra information. Both are environment-specific."
      ]
    },
    {
      "cell_type": "code",
      "execution_count": 10,
      "metadata": {
        "id": "SA47IEsrZwtz",
        "outputId": "e38dd2fc-a1de-4422-8f1f-85f0a54fe423",
        "colab": {
          "base_uri": "https://localhost:8080/"
        }
      },
      "outputs": [
        {
          "output_type": "execute_result",
          "data": {
            "text/plain": [
              "array([ 0.0273956 , -0.00611216,  0.03585979,  0.0197368 ], dtype=float32)"
            ]
          },
          "metadata": {},
          "execution_count": 10
        }
      ],
      "source": [
        "obs, info = env.reset(seed=42)\n",
        "obs"
      ]
    },
    {
      "cell_type": "code",
      "execution_count": 11,
      "metadata": {
        "id": "TRg1fzKwZwtz",
        "outputId": "4caf2f48-5cfd-4d3c-c1dc-98970fbd94aa",
        "colab": {
          "base_uri": "https://localhost:8080/"
        }
      },
      "outputs": [
        {
          "output_type": "execute_result",
          "data": {
            "text/plain": [
              "{}"
            ]
          },
          "metadata": {},
          "execution_count": 11
        }
      ],
      "source": [
        "info"
      ]
    },
    {
      "cell_type": "markdown",
      "metadata": {
        "id": "7kpnDpqYZwtz"
      },
      "source": [
        "In the case of the CartPole, each observation is a 1D NumPy array composed of 4 floats: they represent the cart's horizontal position, its velocity, the angle of the pole (0 = vertical), and the angular velocity."
      ]
    },
    {
      "cell_type": "markdown",
      "metadata": {
        "id": "2nv3Pc0KZwt0"
      },
      "source": [
        "An environment can be visualized by calling its `render()` method. If you set `render_mode` to `\"rgb_array\"` when creating the environment, then this will return a NumPy array."
      ]
    },
    {
      "cell_type": "code",
      "execution_count": 12,
      "metadata": {
        "id": "D99DU9f7Zwt0",
        "outputId": "5558103f-6667-444b-b147-2a0957da5ba3",
        "colab": {
          "base_uri": "https://localhost:8080/"
        }
      },
      "outputs": [
        {
          "output_type": "execute_result",
          "data": {
            "text/plain": [
              "(400, 600, 3)"
            ]
          },
          "metadata": {},
          "execution_count": 12
        }
      ],
      "source": [
        "img = env.render()\n",
        "img.shape  # height, width, channels (3 = Red, Green, Blue)"
      ]
    },
    {
      "cell_type": "code",
      "execution_count": 13,
      "metadata": {
        "id": "5cXePyw3Zwt0",
        "outputId": "71211799-a090-444a-fa15-9dd309085539",
        "colab": {
          "base_uri": "https://localhost:8080/",
          "height": 217
        }
      },
      "outputs": [
        {
          "output_type": "display_data",
          "data": {
            "text/plain": [
              "<Figure size 360x288 with 1 Axes>"
            ],
            "image/png": "[encoded data removed]"
          },
          "metadata": {
            "needs_background": "light"
          }
        }
      ],
      "source": [
        "# extra code – creates a little function to render and plot an environment\n",
        "\n",
        "def plot_environment(env, figsize=(5, 4)):\n",
        "    plt.figure(figsize=figsize)\n",
        "    img = env.render()\n",
        "    plt.imshow(img)\n",
        "    plt.axis(\"off\")\n",
        "    return img\n",
        "\n",
        "plot_environment(env)\n",
        "plt.show()"
      ]
    },
    {
      "cell_type": "markdown",
      "metadata": {
        "id": "0629uWqgZwt0"
      },
      "source": [
        "Let's see how to interact with an environment. Your agent will need to select an action from an \"action space\" (the set of possible actions). Let's see what this environment's action space looks like:"
      ]
    },
    {
      "cell_type": "code",
      "execution_count": 14,
      "metadata": {
        "id": "Au0w7i8SZwt0",
        "outputId": "ecf8ee50-77c8-45d2-9c07-6a8f6d05aa48",
        "colab": {
          "base_uri": "https://localhost:8080/"
        }
      },
      "outputs": [
        {
          "output_type": "execute_result",
          "data": {
            "text/plain": [
              "Discrete(2)"
            ]
          },
          "metadata": {},
          "execution_count": 14
        }
      ],
      "source": [
        "env.action_space"
      ]
    },
    {
      "cell_type": "markdown",
      "metadata": {
        "id": "0SkUBJxqZwt0"
      },
      "source": [
        "Yep, just two possible actions: accelerate towards the left (0) or towards the right (1)."
      ]
    },
    {
      "cell_type": "markdown",
      "metadata": {
        "id": "Xwv5wWBIZwt1"
      },
      "source": [
        "Since the pole is leaning toward the right (`obs[2] > 0`), let's accelerate the cart toward the right:"
      ]
    },
    {
      "cell_type": "code",
      "execution_count": 15,
      "metadata": {
        "id": "YaHVjyxbZwt1",
        "outputId": "115b1545-cab7-4e5b-f083-dd4a4f9533e5",
        "colab": {
          "base_uri": "https://localhost:8080/"
        }
      },
      "outputs": [
        {
          "output_type": "execute_result",
          "data": {
            "text/plain": [
              "array([ 0.02727336,  0.18847767,  0.03625453, -0.26141977], dtype=float32)"
            ]
          },
          "metadata": {},
          "execution_count": 15
        }
      ],
      "source": [
        "action = 1  # accelerate right\n",
        "obs, reward, done, truncated, info = env.step(action)\n",
        "obs"
      ]
    },
    {
      "cell_type": "markdown",
      "metadata": {
        "id": "f_qlKUJ9Zwt1"
      },
      "source": [
        "Notice that the cart is now moving toward the right (`obs[1] > 0`). The pole is still tilted toward the right (`obs[2] > 0`), but its angular velocity is now negative (`obs[3] < 0`), so it will likely be tilted toward the left after the next step."
      ]
    },
    {
      "cell_type": "code",
      "execution_count": 16,
      "metadata": {
        "id": "p21k1j-wZwt1",
        "outputId": "4da653f9-b678-4aaa-edab-e0f39e70441a",
        "colab": {
          "base_uri": "https://localhost:8080/",
          "height": 251
        }
      },
      "outputs": [
        {
          "output_type": "display_data",
          "data": {
            "text/plain": [
              "<Figure size 360x288 with 1 Axes>"
            ],
            "image/png": "[encoded data removed]"
          },
          "metadata": {
            "needs_background": "light"
          }
        }
      ],
      "source": [
        "# extra code – displays the environment\n",
        "plot_environment(env)\n",
        "save_fig(\"cart_pole_plot\")\n",
        "plt.show()"
      ]
    },
    {
      "cell_type": "markdown",
      "metadata": {
        "id": "FeRnT9WeZwt1"
      },
      "source": [
        "Looks like it's doing what we're telling it to do!"
      ]
    },
    {
      "cell_type": "markdown",
      "metadata": {
        "id": "jLngpRpzZwt1"
      },
      "source": [
        "The environment also tells the agent how much reward it got during the last step:"
      ]
    },
    {
      "cell_type": "code",
      "execution_count": 17,
      "metadata": {
        "id": "j6NLp53OZwt2",
        "outputId": "7730c48a-89e2-4d39-ac4e-c6c33fb55e90",
        "colab": {
          "base_uri": "https://localhost:8080/"
        }
      },
      "outputs": [
        {
          "output_type": "execute_result",
          "data": {
            "text/plain": [
              "1.0"
            ]
          },
          "metadata": {},
          "execution_count": 17
        }
      ],
      "source": [
        "reward"
      ]
    },
    {
      "cell_type": "markdown",
      "metadata": {
        "id": "fa-yU4dIZwt2"
      },
      "source": [
        "When the game is over, the environment returns `done=True`. In this case, it's not over yet:"
      ]
    },
    {
      "cell_type": "code",
      "execution_count": 18,
      "metadata": {
        "id": "vEAh50fkZwt2",
        "outputId": "7105e758-8ffc-4563-8312-d876dbb7b9a2",
        "colab": {
          "base_uri": "https://localhost:8080/"
        }
      },
      "outputs": [
        {
          "output_type": "execute_result",
          "data": {
            "text/plain": [
              "False"
            ]
          },
          "metadata": {},
          "execution_count": 18
        }
      ],
      "source": [
        "done"
      ]
    },
    {
      "cell_type": "markdown",
      "metadata": {
        "id": "1dnFZzNPZwt2"
      },
      "source": [
        "Some environment wrappers may want to interrupt the environment early. For example, when a time limit is reached or when an object goes out of bounds. In this case, `truncated` will be set to `True`. In this case, it's not truncated yet:"
      ]
    },
    {
      "cell_type": "code",
      "execution_count": 19,
      "metadata": {
        "id": "bA5tZea0Zwt2",
        "outputId": "14d31ce2-b93b-4c54-bfd0-1d6742283e1d",
        "colab": {
          "base_uri": "https://localhost:8080/"
        }
      },
      "outputs": [
        {
          "output_type": "execute_result",
          "data": {
            "text/plain": [
              "False"
            ]
          },
          "metadata": {},
          "execution_count": 19
        }
      ],
      "source": [
        "truncated"
      ]
    },
    {
      "cell_type": "markdown",
      "metadata": {
        "id": "50KzXL5FZwt3"
      },
      "source": [
        "Finally, `info` is an environment-specific dictionary that can provide some extra information that you may find useful for debugging or for training. For example, in some games it may indicate how many lives the agent has."
      ]
    },
    {
      "cell_type": "code",
      "execution_count": 20,
      "metadata": {
        "id": "6Q_3Nq-TZwt3",
        "outputId": "abe36bcd-422c-4af6-e93a-9a08702bac9c",
        "colab": {
          "base_uri": "https://localhost:8080/"
        }
      },
      "outputs": [
        {
          "output_type": "execute_result",
          "data": {
            "text/plain": [
              "{}"
            ]
          },
          "metadata": {},
          "execution_count": 20
        }
      ],
      "source": [
        "info"
      ]
    },
    {
      "cell_type": "markdown",
      "metadata": {
        "id": "PVR_E6edZwt3"
      },
      "source": [
        "The sequence of steps between the moment the environment is reset until it is done or truncated is called an \"episode\". At the end of an episode (i.e., when `step()` returns `done=True` or `truncated=True`), you should reset the environment before you continue to use it."
      ]
    },
    {
      "cell_type": "code",
      "execution_count": 21,
      "metadata": {
        "id": "ETRK0Ak8Zwt3"
      },
      "outputs": [],
      "source": [
        "if done or truncated:\n",
        "    obs, info = env.reset()"
      ]
    },
    {
      "cell_type": "markdown",
      "metadata": {
        "id": "c3T4lcozZwt3"
      },
      "source": [
        "Now how can we make the poll remain upright? We will need to define a _policy_ for that. This is the strategy that the agent will use to select an action at each step. It can use all the past actions and observations to decide what to do."
      ]
    },
    {
      "cell_type": "markdown",
      "metadata": {
        "id": "4qJlHKa5Zwt3"
      },
      "source": [
        "# A simple hard-coded policy"
      ]
    },
    {
      "cell_type": "markdown",
      "metadata": {
        "id": "6bSg8jT7Zwt3"
      },
      "source": [
        "Let's hard code a simple strategy: if the pole is tilting to the left, then push the cart to the left, and _vice versa_. Let's see if that works:"
      ]
    },
    {
      "cell_type": "code",
      "execution_count": 22,
      "metadata": {
        "id": "ItaFxjm1Zwt3"
      },
      "outputs": [],
      "source": [
        "def basic_policy(obs):\n",
        "    angle = obs[2]\n",
        "    return 0 if angle < 0 else 1\n",
        "\n",
        "totals = []\n",
        "for episode in range(500):\n",
        "    episode_rewards = 0\n",
        "    obs, info = env.reset(seed=episode)\n",
        "    for step in range(200):\n",
        "        action = basic_policy(obs)\n",
        "        obs, reward, done, truncated, info = env.step(action)\n",
        "        episode_rewards += reward\n",
        "        if done or truncated:\n",
        "            break\n",
        "\n",
        "    totals.append(episode_rewards)"
      ]
    },
    {
      "cell_type": "code",
      "execution_count": 23,
      "metadata": {
        "id": "WRorE8g_Zwt4",
        "outputId": "861da729-be83-41d5-c04f-bf05e7bff160",
        "colab": {
          "base_uri": "https://localhost:8080/"
        }
      },
      "outputs": [
        {
          "output_type": "execute_result",
          "data": {
            "text/plain": [
              "(41.698, 8.389445512070509, 24.0, 63.0)"
            ]
          },
          "metadata": {},
          "execution_count": 23
        }
      ],
      "source": [
        "import numpy as np\n",
        "\n",
        "np.mean(totals), np.std(totals), min(totals), max(totals)"
      ]
    },
    {
      "cell_type": "markdown",
      "metadata": {
        "id": "Yz2BQ1GUZwt4"
      },
      "source": [
        "Well, as expected, this strategy is a bit too basic: the best it did was to keep the poll up for only 63 steps. This environment is considered solved when the agent keeps the poll up for 200 steps."
      ]
    },
    {
      "cell_type": "markdown",
      "metadata": {
        "id": "877mHVKrZwt4"
      },
      "source": [
        "Let's visualize one episode. You can learn more about Matplotlib animations in the [Matplotlib tutorial notebook](tools_matplotlib.ipynb#Animations)."
      ]
    },
    {
      "cell_type": "code",
      "execution_count": 24,
      "metadata": {
        "id": "Wffyq-SXZwt4",
        "colab": {
          "base_uri": "https://localhost:8080/",
          "height": 386
        },
        "outputId": "37f3af16-a510-4481-a41f-92c1ee338e6e"
      },
      "outputs": [
        {
          "output_type": "execute_result",
          "data": {
            "text/plain": [
              "<matplotlib.animation.FuncAnimation at 0x7f6703c7b460>"
            ],
            "text/html": [
              "\n",
              "<link rel=\"stylesheet\"\n",
              "href=\"https://maxcdn.bootstrapcdn.com/font-awesome/4.4.0/css/font-awesome.min.css\">\n",
              "<script language=\"javascript\">\n",
              "  function isInternetExplorer() {\n",
              "    ua = navigator.userAgent;\n",
              "    /* MSIE used to detect old browsers and Trident used to newer ones*/\n",
              "    return ua.indexOf(\"MSIE \") > -1 || ua.indexOf(\"Trident/\") > -1;\n",
              "  }\n",
              "\n",
              "  /* Define the Animation class */\n",
              "  function Animation(frames, img_id, slider_id, interval, loop_select_id){\n",
              "    this.img_id = img_id;\n",
              "    this.slider_id = slider_id;\n",
              "    this.loop_select_id = loop_select_id;\n",
              "    this.interval = interval;\n",
              "    this.current_frame = 0;\n",
              "    this.direction = 0;\n",
              "    this.timer = null;\n",
              "    this.frames = new Array(frames.length);\n",
              "\n",
              "    for (var i=0; i<frames.length; i++)\n",
              "    {\n",
              "     this.frames[i] = new Image();\n",
              "     this.frames[i].src = frames[i];\n",
              "    }\n",
              "    var slider = document.getElementById(this.slider_id);\n",
              "    slider.max = this.frames.length - 1;\n",
              "    if (isInternetExplorer()) {\n",
              "        // switch from oninput to onchange because IE <= 11 does not conform\n",
              "        // with W3C specification. It ignores oninput and onchange behaves\n",
              "        // like oninput. In contrast, Microsoft Edge behaves correctly.\n",
              "        slider.setAttribute('onchange', slider.getAttribute('oninput'));\n",
              "        slider.setAttribute('oninput', null);\n",
              "    }\n",
              "    this.set_frame(this.current_frame);\n",
              "  }\n",
              "\n",
              "  Animation.prototype.get_loop_state = function(){\n",
              "    var button_group = document[this.loop_select_id].state;\n",
              "    for (var i = 0; i < button_group.length; i++) {\n",
              "        var button = button_group[i];\n",
              "        if (button.checked) {\n",
              "            return button.value;\n",
              "        }\n",
              "    }\n",
              "    return undefined;\n",
              "  }\n",
              "\n",
              "  Animation.prototype.set_frame = function(frame){\n",
              "    this.current_frame = frame;\n",
              "    document.getElementById(this.img_id).src =\n",
              "            this.frames[this.current_frame].src;\n",
              "    document.getElementById(this.slider_id).value = this.current_frame;\n",
              "  }\n",
              "\n",
              "  Animation.prototype.next_frame = function()\n",
              "  {\n",
              "    this.set_frame(Math.min(this.frames.length - 1, this.current_frame + 1));\n",
              "  }\n",
              "\n",
              "  Animation.prototype.previous_frame = function()\n",
              "  {\n",
              "    this.set_frame(Math.max(0, this.current_frame - 1));\n",
              "  }\n",
              "\n",
              "  Animation.prototype.first_frame = function()\n",
              "  {\n",
              "    this.set_frame(0);\n",
              "  }\n",
              "\n",
              "  Animation.prototype.last_frame = function()\n",
              "  {\n",
              "    this.set_frame(this.frames.length - 1);\n",
              "  }\n",
              "\n",
              "  Animation.prototype.slower = function()\n",
              "  {\n",
              "    this.interval /= 0.7;\n",
              "    if(this.direction > 0){this.play_animation();}\n",
              "    else if(this.direction < 0){this.reverse_animation();}\n",
              "  }\n",
              "\n",
              "  Animation.prototype.faster = function()\n",
              "  {\n",
              "    this.interval *= 0.7;\n",
              "    if(this.direction > 0){this.play_animation();}\n",
              "    else if(this.direction < 0){this.reverse_animation();}\n",
              "  }\n",
              "\n",
              "  Animation.prototype.anim_step_forward = function()\n",
              "  {\n",
              "    this.current_frame += 1;\n",
              "    if(this.current_frame < this.frames.length){\n",
              "      this.set_frame(this.current_frame);\n",
              "    }else{\n",
              "      var loop_state = this.get_loop_state();\n",
              "      if(loop_state == \"loop\"){\n",
              "        this.first_frame();\n",
              "      }else if(loop_state == \"reflect\"){\n",
              "        this.last_frame();\n",
              "        this.reverse_animation();\n",
              "      }else{\n",
              "        this.pause_animation();\n",
              "        this.last_frame();\n",
              "      }\n",
              "    }\n",
              "  }\n",
              "\n",
              "  Animation.prototype.anim_step_reverse = function()\n",
              "  {\n",
              "    this.current_frame -= 1;\n",
              "    if(this.current_frame >= 0){\n",
              "      this.set_frame(this.current_frame);\n",
              "    }else{\n",
              "      var loop_state = this.get_loop_state();\n",
              "      if(loop_state == \"loop\"){\n",
              "        this.last_frame();\n",
              "      }else if(loop_state == \"reflect\"){\n",
              "        this.first_frame();\n",
              "        this.play_animation();\n",
              "      }else{\n",
              "        this.pause_animation();\n",
              "        this.first_frame();\n",
              "      }\n",
              "    }\n",
              "  }\n",
              "\n",
              "  Animation.prototype.pause_animation = function()\n",
              "  {\n",
              "    this.direction = 0;\n",
              "    if (this.timer){\n",
              "      clearInterval(this.timer);\n",
              "      this.timer = null;\n",
              "    }\n",
              "  }\n",
              "\n",
              "  Animation.prototype.play_animation = function()\n",
              "  {\n",
              "    this.pause_animation();\n",
              "    this.direction = 1;\n",
              "    var t = this;\n",
              "    if (!this.timer) this.timer = setInterval(function() {\n",
              "        t.anim_step_forward();\n",
              "    }, this.interval);\n",
              "  }\n",
              "\n",
              "  Animation.prototype.reverse_animation = function()\n",
              "  {\n",
              "    this.pause_animation();\n",
              "    this.direction = -1;\n",
              "    var t = this;\n",
              "    if (!this.timer) this.timer = setInterval(function() {\n",
              "        t.anim_step_reverse();\n",
              "    }, this.interval);\n",
              "  }\n",
              "</script>\n",
              "\n",
              "<style>\n",
              ".animation {\n",
              "    display: inline-block;\n",
              "    text-align: center;\n",
              "}\n",
              "input[type=range].anim-slider {\n",
              "    width: 374px;\n",
              "    margin-left: auto;\n",
              "    margin-right: auto;\n",
              "}\n",
              ".anim-buttons {\n",
              "    margin: 8px 0px;\n",
              "}\n",
              ".anim-buttons button {\n",
              "    padding: 0;\n",
              "    width: 36px;\n",
              "}\n",
              ".anim-state label {\n",
              "    margin-right: 8px;\n",
              "}\n",
              ".anim-state input {\n",
              "    margin: 0;\n",
              "    vertical-align: middle;\n",
              "}\n",
              "</style>\n",
              "\n",
              "<div class=\"animation\">\n",
              "  <img id=\"_anim_img0d3c2464b2514be6a9c36797a0bb0ea0\">\n",
              "  <div class=\"anim-controls\">\n",
              "    <input id=\"_anim_slider0d3c2464b2514be6a9c36797a0bb0ea0\" type=\"range\" class=\"anim-slider\"\n",
              "           name=\"points\" min=\"0\" max=\"1\" step=\"1\" value=\"0\"\n",
              "           oninput=\"anim0d3c2464b2514be6a9c36797a0bb0ea0.set_frame(parseInt(this.value));\">\n",
              "    <div class=\"anim-buttons\">\n",
              "      <button title=\"Decrease speed\" aria-label=\"Decrease speed\" onclick=\"anim0d3c2464b2514be6a9c36797a0bb0ea0.slower()\">\n",
              "          <i class=\"fa fa-minus\"></i></button>\n",
              "      <button title=\"First frame\" aria-label=\"First frame\" onclick=\"anim0d3c2464b2514be6a9c36797a0bb0ea0.first_frame()\">\n",
              "        <i class=\"fa fa-fast-backward\"></i></button>\n",
              "      <button title=\"Previous frame\" aria-label=\"Previous frame\" onclick=\"anim0d3c2464b2514be6a9c36797a0bb0ea0.previous_frame()\">\n",
              "          <i class=\"fa fa-step-backward\"></i></button>\n",
              "      <button title=\"Play backwards\" aria-label=\"Play backwards\" onclick=\"anim0d3c2464b2514be6a9c36797a0bb0ea0.reverse_animation()\">\n",
              "          <i class=\"fa fa-play fa-flip-horizontal\"></i></button>\n",
              "      <button title=\"Pause\" aria-label=\"Pause\" onclick=\"anim0d3c2464b2514be6a9c36797a0bb0ea0.pause_animation()\">\n",
              "          <i class=\"fa fa-pause\"></i></button>\n",
              "      <button title=\"Play\" aria-label=\"Play\" onclick=\"anim0d3c2464b2514be6a9c36797a0bb0ea0.play_animation()\">\n",
              "          <i class=\"fa fa-play\"></i></button>\n",
              "      <button title=\"Next frame\" aria-label=\"Next frame\" onclick=\"anim0d3c2464b2514be6a9c36797a0bb0ea0.next_frame()\">\n",
              "          <i class=\"fa fa-step-forward\"></i></button>\n",
              "      <button title=\"Last frame\" aria-label=\"Last frame\" onclick=\"anim0d3c2464b2514be6a9c36797a0bb0ea0.last_frame()\">\n",
              "          <i class=\"fa fa-fast-forward\"></i></button>\n",
              "      <button title=\"Increase speed\" aria-label=\"Increase speed\" onclick=\"anim0d3c2464b2514be6a9c36797a0bb0ea0.faster()\">\n",
              "          <i class=\"fa fa-plus\"></i></button>\n",
              "    </div>\n",
              "    <form title=\"Repetition mode\" aria-label=\"Repetition mode\" action=\"#n\" name=\"_anim_loop_select0d3c2464b2514be6a9c36797a0bb0ea0\"\n",
              "          class=\"anim-state\">\n",
              "      <input type=\"radio\" name=\"state\" value=\"once\" id=\"_anim_radio1_0d3c2464b2514be6a9c36797a0bb0ea0\"\n",
              "             checked>\n",
              "      <label for=\"_anim_radio1_0d3c2464b2514be6a9c36797a0bb0ea0\">Once</label>\n",
              "      <input type=\"radio\" name=\"state\" value=\"loop\" id=\"_anim_radio2_0d3c2464b2514be6a9c36797a0bb0ea0\"\n",
              "             >\n",
              "      <label for=\"_anim_radio2_0d3c2464b2514be6a9c36797a0bb0ea0\">Loop</label>\n",
              "      <input type=\"radio\" name=\"state\" value=\"reflect\" id=\"_anim_radio3_0d3c2464b2514be6a9c36797a0bb0ea0\"\n",
              "             >\n",
              "      <label for=\"_anim_radio3_0d3c2464b2514be6a9c36797a0bb0ea0\">Reflect</label>\n",
              "    </form>\n",
              "  </div>\n",
              "</div>\n",
              "\n",
              "\n",
              "<script language=\"javascript\">\n",
              "  /* Instantiate the Animation class. */\n",
              "  /* The IDs given should match those used in the template above. */\n",
              "  (function() {\n",
              "    var img_id = \"_anim_img0d3c2464b2514be6a9c36797a0bb0ea0\";\n",
              "    var slider_id = \"_anim_slider0d3c2464b2514be6a9c36797a0bb0ea0\";\n",
              "    var loop_select_id = \"_anim_loop_select0d3c2464b2514be6a9c36797a0bb0ea0\";\n",
              "    var frames = new Array(55);\n",
              "    \n",
              "  frames[0] = \"data:image/png;base64,iVBORw0KGgoAAAANSUhEUgAAAbAAAAEgCAYAAADVKCZpAAAAOXRFWHRTb2Z0d2FyZQBNYXRwbG90\\\n",
              "bGliIHZlcnNpb24zLjcuMSwgaHR0cHM6Ly9tYXRwbG90bGliLm9yZy/bCgiHAAAACXBIWXMAAAsT\\\n",
              "AAALEwEAmpwYAAAINklEQVR4nO3dv49VaR3H8e9zZyaArAIFCyYatDEQO2vdxpYCafXfoLAioTX+\\\n",
              "FRTGxI7KbYiJMe4as1C40bj+YkIWf+yC2YGZZe49x2K2Ysb1Xub63PuB16s8c8P9JnDy5jnznHPa\\\n",
              "OI5jAUCYyaoHAICXIWAARBIwACIJGACRBAyASAIGQCQBAyCSgAEQScAAiCRgAEQSMAAiCRgAkQQM\\\n",
              "gEgCBkAkAQMgkoABEEnAAIgkYABEEjAAIgkYAJEEDIBIAgZAJAEDIJKAARBJwACIJGAARBIwACIJ\\\n",
              "GACRBAyASAIGQCQBAyCSgAEQScAAiCRgAEQSMAAiCRgAkQQMgEgCBkAkAQMgkoABEEnAAIgkYABE\\\n",
              "EjAAIgkYAJEEDIBIAgZAJAEDIJKAARBJwACIJGAARBIwACIJGACRBAyASAIGQCQBAyCSgAEQScAA\\\n",
              "iCRgAEQSMAAiCRgAkQQMgEgCBkAkAQMgkoABEEnAAIgkYABEEjAAIgkYAJEEDIBIAgZAJAEDIJKA\\\n",
              "ARBJwACIJGAARBIwACIJGACRBAyASAIGQCQBAyCSgAEQScAAiCRgAEQSMAAiCRgAkQQMgEgCBkAk\\\n",
              "AQMgkoABEEnAAIgkYABEEjAAIgkYAJEEDIBIAgZAJAEDIJKAARBJwACIJGAARBIwACIJGACRBAyA\\\n",
              "SAIGQCQBAyCSgAEQScAAiCRgAEQSMAAiCRgAkQQMgEgCBkAkAQMgkoABEEnAAIgkYABEEjAAIgkY\\\n",
              "AJEEDIBIAgZAJAEDIJKAARBJwACIJGAARBIwACIJGACRBAyASAIGQKTNVQ8Ar6PnT5/U3pNHh45v\\\n",
              "nT5bp85eXMFEkEfAoLNxHOvxX9+rB7/8yaGfnb/yVn3trR+sYCrI4xIirMA4m656BIgnYLACw3R/\\\n",
              "1SNAPAGD7kYrMFgCAYPexqphsAKD4xIw6M4KDJZBwGAF/A4Mjk/AoLOxqgYrMDg2AYPehlntPfnw\\\n",
              "8PE2qRNn3uw/D4QSMOhsHMf69JOPDh1vbVInv3R+BRNBJgGDNdI2tlY9AsQQMFgXrWqyKWAwLwGD\\\n",
              "tdGqTTyeFOYlYLBGJi4hwtwEDNZEa60mG1ZgMC8BgzViEwfMT8BgjUw2rcBgXgIGnY3jUAfP43hR\\\n",
              "q9Y2eo8DsQQMOhtn06P7BSxEwKCzgyfRKxgcl4BBZ8MwrXEUMDguAYPOrMBgOQQMOhtm0yorMDg2\\\n",
              "AYPOxtm+gMESCBh0Ng5TFxBhCQQMOnv28cMaps8PHT959mI1j5KCuQkYdDbd3akah0PHt06fqTZx\\\n",
              "IzPMS8BgTUw2tqq1tuoxIIaAwZo4eBeYgMG8BAzWxGRjs8oKDOYmYLAmmoDBQgQM1sRkY9MFRFiA\\\n",
              "gMGasAKDxQgYdHTwEN+jb2Nuk62yiQPmJ2DQ2X97En2bOB1hEc4Y6Gr87Gn0R3MfGMxPwKCncTx4\\\n",
              "Gj1wbAIGHY1VNQ77qx4DXgkCBj2Nn38JEZifgEFPLiHC0ggYdGUFBssiYNDROI41DAIGyyBg0NE4\\\n",
              "DjXde3r4B63VxtbJ/gNBMAGDjobp89r9aPvQ8cnmiTp9/tIKJoJcAgZroLX22fvAgHkJGKyFdvAw\\\n",
              "X2BuAgbroLWDF1oCcxMwWAOtygoMFiRgsA6swGBhAgbrwCYOWJiAwVqwiQMWJWDQ0zAcebi1Vq05\\\n",
              "HWERzhjoaJh5lQosi4BBR+NsWuM4rnoMeCUIGHRkBQbLI2DQ0cG7wKzAYBkEDDoarcBgaQQMOhpm\\\n",
              "UwswWBIBg44OVmAKBssgYNDR86dPjtyFuHnyjWqtrWAiyOXWfzim7e3t2t4+/JLKo2w8/G1NxsM3\\\n",
              "M+8Mp+rX7/6mDh7r+/muXLlS586dW3RMeOW00U0pcCy3bt2qmzdvzvXZH37/2/W971w5dPxnv3i/\\\n",
              "fvzTX9Vs+N+n4507d+rq1asLzwmvGisw6Gx/2KqHn36jns3O1JnNv9fFE3+p5/uz8l9JWIyAQUf7\\\n",
              "44m6/8l361/7X6mxWrW6Uv+evll7+/dWPRrEsYkDOvrTs2/VP/e/WmNNqqrVWBv1YO+b9eDppRrt\\\n",
              "ToSFCBh0NB236sWNGmNNane/2V0PCxIw6OjUZKdeLNWkptVmO/oFCxIw6OjrX7hfl07+rjba86oa\\\n",
              "a6vt1eXT79TZ9udVjwZxXptNHI8ePVr1CLyidnZ25v7sz9/5Q/3+bz+qj/e/XLvDG/XFjcf17uY/\\\n",
              "6r0/fjj3n/H48WP/nlmaixcvrnqEl/baBOz27durHoFX1P379+f+7L0PHtW9Dx5V1fsv/X13794V\\\n",
              "MJbmxo0bqx7hpb02AUv+S2K97e7u1ttvv93t+65fv+5GZii/AwMglIABEEnAAIgkYABEEjAAIgkY\\\n",
              "AJFem2308P9y+fLlunbtWrfvu3DhQrfvgnXmhZYARHIJEYBIAgZAJAEDIJKAARBJwACIJGAARBIw\\\n",
              "ACIJGACRBAyASAIGQCQBAyCSgAEQScAAiCRgAEQSMAAiCRgAkQQMgEgCBkAkAQMgkoABEEnAAIgk\\\n",
              "YABEEjAAIgkYAJEEDIBIAgZAJAEDIJKAARBJwACIJGAARBIwACIJGACRBAyASAIGQCQBAyCSgAEQ\\\n",
              "ScAAiCRgAEQSMAAiCRgAkQQMgEgCBkAkAQMgkoABEEnAAIgkYABEEjAAIgkYAJEEDIBIAgZAJAED\\\n",
              "IJKAARBJwACIJGAARBIwACIJGACRBAyASAIGQCQBAyCSgAEQScAAiCRgAEQSMAAiCRgAkQQMgEgC\\\n",
              "BkAkAQMgkoABEEnAAIgkYABEEjAAIgkYAJEEDIBIAgZAJAEDIJKAARBJwACIJGAARBIwACIJGACR\\\n",
              "BAyASP8BSHNP0JHogzgAAAAASUVORK5CYII=\\\n",
              "\"\n",
              "  frames[1] = \"data:image/png;base64,iVBORw0KGgoAAAANSUhEUgAAAbAAAAEgCAYAAADVKCZpAAAAOXRFWHRTb2Z0d2FyZQBNYXRwbG90\\\n",
              "bGliIHZlcnNpb24zLjcuMSwgaHR0cHM6Ly9tYXRwbG90bGliLm9yZy/bCgiHAAAACXBIWXMAAAsT\\\n",
              "AAALEwEAmpwYAAAINklEQVR4nO3dv49VaR3H8e9zZyaArAIFCyYatDEQO2vdxpYCafXfoLAioTX+\\\n",
              "FRTGxI7KbYiJMe4as1C40bj+YkIWf+yC2YGZZe49x2K2Ysb1Xub63PuB16s8c8P9JnDy5jnznHPa\\\n",
              "OI5jAUCYyaoHAICXIWAARBIwACIJGACRBAyASAIGQCQBAyCSgAEQScAAiCRgAEQSMAAiCRgAkQQM\\\n",
              "gEgCBkAkAQMgkoABEEnAAIgkYABEEjAAIgkYAJEEDIBIAgZAJAEDIJKAARBJwACIJGAARBIwACIJ\\\n",
              "GACRBAyASAIGQCQBAyCSgAEQScAAiCRgAEQSMAAiCRgAkQQMgEgCBkAkAQMgkoABEEnAAIgkYABE\\\n",
              "EjAAIgkYAJEEDIBIAgZAJAEDIJKAARBJwACIJGAARBIwACIJGACRBAyASAIGQCQBAyCSgAEQScAA\\\n",
              "iCRgAEQSMAAiCRgAkQQMgEgCBkAkAQMgkoABEEnAAIgkYABEEjAAIgkYAJEEDIBIAgZAJAEDIJKA\\\n",
              "ARBJwACIJGAARBIwACIJGACRBAyASAIGQCQBAyCSgAEQScAAiCRgAEQSMAAiCRgAkQQMgEgCBkAk\\\n",
              "AQMgkoABEEnAAIgkYABEEjAAIgkYAJEEDIBIAgZAJAEDIJKAARBJwACIJGAARBIwACIJGACRBAyA\\\n",
              "SAIGQCQBAyCSgAEQScAAiCRgAEQSMAAiCRgAkQQMgEgCBkAkAQMgkoABEEnAAIgkYABEEjAAIgkY\\\n",
              "AJEEDIBIAgZAJAEDIJKAARBJwACIJGAARBIwACIJGACRBAyASAIGQKTNVQ8Ar6PnT5/U3pNHh45v\\\n",
              "nT5bp85eXMFEkEfAoLNxHOvxX9+rB7/8yaGfnb/yVn3trR+sYCrI4xIirMA4m656BIgnYLACw3R/\\\n",
              "1SNAPAGD7kYrMFgCAYPexqphsAKD4xIw6M4KDJZBwGAF/A4Mjk/AoLOxqgYrMDg2AYPehlntPfnw\\\n",
              "8PE2qRNn3uw/D4QSMOhsHMf69JOPDh1vbVInv3R+BRNBJgGDNdI2tlY9AsQQMFgXrWqyKWAwLwGD\\\n",
              "tdGqTTyeFOYlYLBGJi4hwtwEDNZEa60mG1ZgMC8BgzViEwfMT8BgjUw2rcBgXgIGnY3jUAfP43hR\\\n",
              "q9Y2eo8DsQQMOhtn06P7BSxEwKCzgyfRKxgcl4BBZ8MwrXEUMDguAYPOrMBgOQQMOhtm0yorMDg2\\\n",
              "AYPOxtm+gMESCBh0Ng5TFxBhCQQMOnv28cMaps8PHT959mI1j5KCuQkYdDbd3akah0PHt06fqTZx\\\n",
              "IzPMS8BgTUw2tqq1tuoxIIaAwZo4eBeYgMG8BAzWxGRjs8oKDOYmYLAmmoDBQgQM1sRkY9MFRFiA\\\n",
              "gMGasAKDxQgYdHTwEN+jb2Nuk62yiQPmJ2DQ2X97En2bOB1hEc4Y6Gr87Gn0R3MfGMxPwKCncTx4\\\n",
              "Gj1wbAIGHY1VNQ77qx4DXgkCBj2Nn38JEZifgEFPLiHC0ggYdGUFBssiYNDROI41DAIGyyBg0NE4\\\n",
              "DjXde3r4B63VxtbJ/gNBMAGDjobp89r9aPvQ8cnmiTp9/tIKJoJcAgZroLX22fvAgHkJGKyFdvAw\\\n",
              "X2BuAgbroLWDF1oCcxMwWAOtygoMFiRgsA6swGBhAgbrwCYOWJiAwVqwiQMWJWDQ0zAcebi1Vq05\\\n",
              "HWERzhjoaJh5lQosi4BBR+NsWuM4rnoMeCUIGHRkBQbLI2DQ0cG7wKzAYBkEDDoarcBgaQQMOhpm\\\n",
              "UwswWBIBg44OVmAKBssgYNDR86dPjtyFuHnyjWqtrWAiyOXWfzim7e3t2t4+/JLKo2w8/G1NxsM3\\\n",
              "M+8Mp+rX7/6mDh7r+/muXLlS586dW3RMeOW00U0pcCy3bt2qmzdvzvXZH37/2/W971w5dPxnv3i/\\\n",
              "fvzTX9Vs+N+n4507d+rq1asLzwmvGisw6Gx/2KqHn36jns3O1JnNv9fFE3+p5/uz8l9JWIyAQUf7\\\n",
              "44m6/8l361/7X6mxWrW6Uv+evll7+/dWPRrEsYkDOvrTs2/VP/e/WmNNqqrVWBv1YO+b9eDppRrt\\\n",
              "ToSFCBh0NB236sWNGmNNane/2V0PCxIw6OjUZKdeLNWkptVmO/oFCxIw6OjrX7hfl07+rjba86oa\\\n",
              "a6vt1eXT79TZ9udVjwZxXptNHI8ePVr1CLyidnZ25v7sz9/5Q/3+bz+qj/e/XLvDG/XFjcf17uY/\\\n",
              "6r0/fjj3n/H48WP/nlmaixcvrnqEl/baBOz27durHoFX1P379+f+7L0PHtW9Dx5V1fsv/X13794V\\\n",
              "MJbmxo0bqx7hpb02AUv+S2K97e7u1ttvv93t+65fv+5GZii/AwMglIABEEnAAIgkYABEEjAAIgkY\\\n",
              "AJFem2308P9y+fLlunbtWrfvu3DhQrfvgnXmhZYARHIJEYBIAgZAJAEDIJKAARBJwACIJGAARBIw\\\n",
              "ACIJGACRBAyASAIGQCQBAyCSgAEQScAAiCRgAEQSMAAiCRgAkQQMgEgCBkAkAQMgkoABEEnAAIgk\\\n",
              "YABEEjAAIgkYAJEEDIBIAgZAJAEDIJKAARBJwACIJGAARBIwACIJGACRBAyASAIGQCQBAyCSgAEQ\\\n",
              "ScAAiCRgAEQSMAAiCRgAkQQMgEgCBkAkAQMgkoABEEnAAIgkYABEEjAAIgkYAJEEDIBIAgZAJAED\\\n",
              "IJKAARBJwACIJGAARBIwACIJGACRBAyASAIGQCQBAyCSgAEQScAAiCRgAEQSMAAiCRgAkQQMgEgC\\\n",
              "BkAkAQMgkoABEEnAAIgkYABEEjAAIgkYAJEEDIBIAgZAJAEDIJKAARBJwACIJGAARBIwACIJGACR\\\n",
              "BAyASP8BSHNP0JHogzgAAAAASUVORK5CYII=\\\n",
              "\"\n",
              "  frames[2] = \"data:image/png;base64,iVBORw0KGgoAAAANSUhEUgAAAbAAAAEgCAYAAADVKCZpAAAAOXRFWHRTb2Z0d2FyZQBNYXRwbG90\\\n",
              "bGliIHZlcnNpb24zLjcuMSwgaHR0cHM6Ly9tYXRwbG90bGliLm9yZy/bCgiHAAAACXBIWXMAAAsT\\\n",
              "AAALEwEAmpwYAAAINklEQVR4nO3dv49VaR3H8e9zZyaArAIFCyYatDEQO2vdxpYCafXfoLAioTX+\\\n",
              "FRTGxI7KbYiJMe4as1C40bj+YkIWf+yC2YGZZe49x2K2Ysb1Xub63PuB16s8c8P9JnDy5jnznHPa\\\n",
              "OI5jAUCYyaoHAICXIWAARBIwACIJGACRBAyASAIGQCQBAyCSgAEQScAAiCRgAEQSMAAiCRgAkQQM\\\n",
              "gEgCBkAkAQMgkoABEEnAAIgkYABEEjAAIgkYAJEEDIBIAgZAJAEDIJKAARBJwACIJGAARBIwACIJ\\\n",
              "GACRBAyASAIGQCQBAyCSgAEQScAAiCRgAEQSMAAiCRgAkQQMgEgCBkAkAQMgkoABEEnAAIgkYABE\\\n",
              "EjAAIgkYAJEEDIBIAgZAJAEDIJKAARBJwACIJGAARBIwACIJGACRBAyASAIGQCQBAyCSgAEQScAA\\\n",
              "iCRgAEQSMAAiCRgAkQQMgEgCBkAkAQMgkoABEEnAAIgkYABEEjAAIgkYAJEEDIBIAgZAJAEDIJKA\\\n",
              "ARBJwACIJGAARBIwACIJGACRBAyASAIGQCQBAyCSgAEQScAAiCRgAEQSMAAiCRgAkQQMgEgCBkAk\\\n",
              "AQMgkoABEEnAAIgkYABEEjAAIgkYAJEEDIBIAgZAJAEDIJKAARBJwACIJGAARBIwACIJGACRBAyA\\\n",
              "SAIGQCQBAyCSgAEQScAAiCRgAEQSMAAiCRgAkQQMgEgCBkAkAQMgkoABEEnAAIgkYABEEjAAIgkY\\\n",
              "AJEEDIBIAgZAJAEDIJKAARBJwACIJGAARBIwACIJGACRBAyASAIGQKTNVQ8Ar6PnT5/U3pNHh45v\\\n",
              "nT5bp85eXMFEkEfAoLNxHOvxX9+rB7/8yaGfnb/yVn3trR+sYCrI4xIirMA4m656BIgnYLACw3R/\\\n",
              "1SNAPAGD7kYrMFgCAYPexqphsAKD4xIw6M4KDJZBwGAF/A4Mjk/AoLOxqgYrMDg2AYPehlntPfnw\\\n",
              "8PE2qRNn3uw/D4QSMOhsHMf69JOPDh1vbVInv3R+BRNBJgGDNdI2tlY9AsQQMFgXrWqyKWAwLwGD\\\n",
              "tdGqTTyeFOYlYLBGJi4hwtwEDNZEa60mG1ZgMC8BgzViEwfMT8BgjUw2rcBgXgIGnY3jUAfP43hR\\\n",
              "q9Y2eo8DsQQMOhtn06P7BSxEwKCzgyfRKxgcl4BBZ8MwrXEUMDguAYPOrMBgOQQMOhtm0yorMDg2\\\n",
              "AYPOxtm+gMESCBh0Ng5TFxBhCQQMOnv28cMaps8PHT959mI1j5KCuQkYdDbd3akah0PHt06fqTZx\\\n",
              "IzPMS8BgTUw2tqq1tuoxIIaAwZo4eBeYgMG8BAzWxGRjs8oKDOYmYLAmmoDBQgQM1sRkY9MFRFiA\\\n",
              "gMGasAKDxQgYdHTwEN+jb2Nuk62yiQPmJ2DQ2X97En2bOB1hEc4Y6Gr87Gn0R3MfGMxPwKCncTx4\\\n",
              "Gj1wbAIGHY1VNQ77qx4DXgkCBj2Nn38JEZifgEFPLiHC0ggYdGUFBssiYNDROI41DAIGyyBg0NE4\\\n",
              "DjXde3r4B63VxtbJ/gNBMAGDjobp89r9aPvQ8cnmiTp9/tIKJoJcAgZroLX22fvAgHkJGKyFdvAw\\\n",
              "X2BuAgbroLWDF1oCcxMwWAOtygoMFiRgsA6swGBhAgbrwCYOWJiAwVqwiQMWJWDQ0zAcebi1Vq05\\\n",
              "HWERzhjoaJh5lQosi4BBR+NsWuM4rnoMeCUIGHRkBQbLI2DQ0cG7wKzAYBkEDDoarcBgaQQMOhpm\\\n",
              "UwswWBIBg44OVmAKBssgYNDR86dPjtyFuHnyjWqtrWAiyOXWfzim7e3t2t4+/JLKo2w8/G1NxsM3\\\n",
              "M+8Mp+rX7/6mDh7r+/muXLlS586dW3RMeOW00U0pcCy3bt2qmzdvzvXZH37/2/W971w5dPxnv3i/\\\n",
              "fvzTX9Vs+N+n4507d+rq1asLzwmvGisw6Gx/2KqHn36jns3O1JnNv9fFE3+p5/uz8l9JWIyAQUf7\\\n",
              "44m6/8l361/7X6mxWrW6Uv+evll7+/dWPRrEsYkDOvrTs2/VP/e/WmNNqqrVWBv1YO+b9eDppRrt\\\n",
              "ToSFCBh0NB236sWNGmNNane/2V0PCxIw6OjUZKdeLNWkptVmO/oFCxIw6OjrX7hfl07+rjba86oa\\\n",
              "a6vt1eXT79TZ9udVjwZxXptNHI8ePVr1CLyidnZ25v7sz9/5Q/3+bz+qj/e/XLvDG/XFjcf17uY/\\\n",
              "6r0/fjj3n/H48WP/nlmaixcvrnqEl/baBOz27durHoFX1P379+f+7L0PHtW9Dx5V1fsv/X13794V\\\n",
              "MJbmxo0bqx7hpb02AUv+S2K97e7u1ttvv93t+65fv+5GZii/AwMglIABEEnAAIgkYABEEjAAIgkY\\\n",
              "AJFem2308P9y+fLlunbtWrfvu3DhQrfvgnXmhZYARHIJEYBIAgZAJAEDIJKAARBJwACIJGAARBIw\\\n",
              "ACIJGACRBAyASAIGQCQBAyCSgAEQScAAiCRgAEQSMAAiCRgAkQQMgEgCBkAkAQMgkoABEEnAAIgk\\\n",
              "YABEEjAAIgkYAJEEDIBIAgZAJAEDIJKAARBJwACIJGAARBIwACIJGACRBAyASAIGQCQBAyCSgAEQ\\\n",
              "ScAAiCRgAEQSMAAiCRgAkQQMgEgCBkAkAQMgkoABEEnAAIgkYABEEjAAIgkYAJEEDIBIAgZAJAED\\\n",
              "IJKAARBJwACIJGAARBIwACIJGACRBAyASAIGQCQBAyCSgAEQScAAiCRgAEQSMAAiCRgAkQQMgEgC\\\n",
              "BkAkAQMgkoABEEnAAIgkYABEEjAAIgkYAJEEDIBIAgZAJAEDIJKAARBJwACIJGAARBIwACIJGACR\\\n",
              "BAyASP8BSHNP0JHogzgAAAAASUVORK5CYII=\\\n",
              "\"\n",
              "  frames[3] = \"data:image/png;base64,iVBORw0KGgoAAAANSUhEUgAAAbAAAAEgCAYAAADVKCZpAAAAOXRFWHRTb2Z0d2FyZQBNYXRwbG90\\\n",
              "bGliIHZlcnNpb24zLjcuMSwgaHR0cHM6Ly9tYXRwbG90bGliLm9yZy/bCgiHAAAACXBIWXMAAAsT\\\n",
              "AAALEwEAmpwYAAAID0lEQVR4nO3dsY5cVx3H8f+d3c3aXgORSCKDsGSQjIQbixeIUiH5CWioeQM/\\\n",
              "AS0vQG2LDpqkQxRIiNZRTBVFEJDACxbGVrxee3bmHoqt0G7wjGc4M7/s51PeWe2c5uqrc+bce4bW\\\n",
              "WisACDPZ9AAA4E0IGACRBAyASAIGQCQBAyCSgAEQScAAiCRgAEQSMAAiCRgAkQQMgEgCBkAkAQMg\\\n",
              "koABEEnAAIgkYABEEjAAIgkYAJEEDIBIAgZAJAEDIJKAARBJwACIJGAARBIwACIJGACRBAyASAIG\\\n",
              "QCQBAyCSgAEQScAAiCRgAEQSMAAiCRgAkQQMgEgCBkAkAQMgkoABEEnAAIgkYABEEjAAIgkYAJEE\\\n",
              "DIBIAgZAJAEDIJKAARBJwACIJGAARBIwACIJGACRBAyASAIGQCQBAyCSgAEQScAAiCRgAEQSMAAi\\\n",
              "CRgAkQQMgEgCBkAkAQMgkoABEEnAAIgkYABEEjAAIgkYAJEEDIBIAgZAJAEDIJKAARBJwACIJGAA\\\n",
              "RBIwACIJGACRBAyASAIGQCQBAyCSgAEQScAAiCRgAEQSMAAiCRgAkQQMgEgCBkAkAQMgkoABEEnA\\\n",
              "AIgkYABEEjAAIgkYAJEEDIBIAgZAJAEDIJKAARBJwACIJGAARBIwACIJGACRBAyASAIGQCQBAyCS\\\n",
              "gAEQScAAiCRgAEQSMAAiCRgAkQQMgEgCBkAkAQMgkoABEEnAAIgkYABEEjAAIgkYAJEEDIBIAgZA\\\n",
              "JAEDIJKAARBJwACIJGAARBIwACIJGACRBAyASAIGQCQBAyCSgAEQaXfTA4CLaHr0tF4+PTxzfe/g\\\n",
              "7br89rUNjAjyCBh01lqrf3/+cf31978889m7P3i/brz/kw2MCvJYQoQNaON800OAeAIGG9Dms00P\\\n",
              "AeIJGHTXzMBgDQQMNkDAYHUCBr21qjZaQoRVCRhswDg3A4NVCRh018zAYA0EDDbAb2CwOgGDDRAw\\\n",
              "WJ2AQWetNc+BwRoIGHTW2ljP//GnM9eHYVIH793oPyAIJWDQW2s1P3l59vow1O7+Qf/xQCgBg60x\\\n",
              "1DDZ2fQgIIaAwbYYqoYdB0TAogQMtogZGCxOwGBrWEKEZQgYbJFhYgkRFiVgsCWGqprsmIHBogQM\\\n",
              "tsUwmIHBEgQMtojfwGBxAgZbxAwMFidgsDWGGvwGBgsTMOisjWNVtXM/G2roOxgIJmDQWRvnX9Yv\\\n",
              "YAkCBp2dnsasYLAqAYPOTmdgAgarEjDorI1z8y9YAwGDzto4L0uIsDoBg85s4oD1EDDozAwM1kPA\\\n",
              "oLM2zqvZxAErEzDo7HQGBqxKwKCzcT47fxv94C0csAwBg86OHn9e4+zVmesH796oye5bGxgRZBIw\\\n",
              "6KzNZ+de39nbNwuDJQgYbIlhslODgMHCBAy2xOlhlgIGixIw2BLDzo5+wRIEDLbE6WnMCgaLEjDY\\\n",
              "EsPE7QjLcMfAlhgmuzZxwBIEDLaETRywHAGDLTFMbOKAZQgYbAkzMFiOgEFHp2+hP/9N9KcBAxYl\\\n",
              "YNDZ/3obvU0csDgBg66a41RgTQQMemrOA4N1ETDoqlWbCxisg4BBR621GpuAwToIGHRmBgbrIWDQ\\\n",
              "U7OJA9ZFwKArAYN1ETDoqJVdiLAuAgY9WUKEtREw6Km1Gmevzv1o4lVSsBQBg47G2as6evyXM9cn\\\n",
              "e/t18N6N/gOCYAIGHbWqqjae88lQw85e59FANgGDLTAMg7fRw5J2Nz0ASDefz+vBgwc1nU5f+7fD\\\n",
              "7Lh25uOZU79ms3l98vCPVZcfvfZ/XLlypW7fvu3N9Vx4Qzs9oAh4Q0dHR3Xz5s169Oj18fnm1y/X\\\n",
              "r3/247q8/9/Lhc+OXtZPf/5h/fnR09f+j1u3btXDhw9rMrGAwsVmBgbdDfX05J06nH6vhhrr2/uf\\\n",
              "VWuHNZuf99sY8GUEDDpqNdTj6Xfq0+mP6qTtV1XV3199v747fCRgsCRrENDRdLxUnzz/oE7apaoa\\\n",
              "qmqol+PV+viLD2o6czvCMtwx0NVQ83Z2u/xs3KsTMzBYioBBR8Mw1qXJ0ZnrlyZf1NwxK7AUAYOO\\\n",
              "3hpe1g+/9pu6uvOkhhprqHl9Y/efdfvqb2scTzY9PIhyYTZxHB4ebnoIfEUdHx/XOC62/Pf8eFq/\\\n",
              "+NVHNavf1b9OvlXD0Oqdvb/VePK8pieLzcBms1kdHh7aRs9aXLt2bdNDeGMXJmD37t3b9BD4ippO\\\n",
              "p/XixYuF/vbVybw+/MOnK33fs2fP6v79+x5kZi3u3r276SG8MQ8yw4qWeZB5HTzIDKfcAQBEEjAA\\\n",
              "IgkYAJEEDIBIAgZAJAEDINKFeQ4M/l92d3frzp079eTJky7fd/369S7fA9vOc2AARLKECEAkAQMg\\\n",
              "koABEEnAAIgkYABEEjAAIgkYAJEEDIBIAgZAJAEDIJKAARBJwACIJGAARBIwACIJGACRBAyASAIG\\\n",
              "QCQBAyCSgAEQScAAiCRgAEQSMAAiCRgAkQQMgEgCBkAkAQMgkoABEEnAAIgkYABEEjAAIgkYAJEE\\\n",
              "DIBIAgZAJAEDIJKAARBJwACIJGAARBIwACIJGACRBAyASAIGQCQBAyCSgAEQScAAiCRgAEQSMAAi\\\n",
              "CRgAkQQMgEgCBkAkAQMgkoABEEnAAIgkYABEEjAAIgkYAJEEDIBIAgZAJAEDIJKAARBJwACIJGAA\\\n",
              "RBIwACIJGACRBAyASAIGQCQBAyCSgAEQScAAiCRgAEQSMAAiCRgAkQQMgEgCBkAkAQMgkoABEEnA\\\n",
              "AIgkYABEEjAAIgkYAJEEDIBIAgZApP8AEJtkTB17zLIAAAAASUVORK5CYII=\\\n",
              "\"\n",
              "  frames[4] = \"data:image/png;base64,iVBORw0KGgoAAAANSUhEUgAAAbAAAAEgCAYAAADVKCZpAAAAOXRFWHRTb2Z0d2FyZQBNYXRwbG90\\\n",
              "bGliIHZlcnNpb24zLjcuMSwgaHR0cHM6Ly9tYXRwbG90bGliLm9yZy/bCgiHAAAACXBIWXMAAAsT\\\n",
              "AAALEwEAmpwYAAAGfUlEQVR4nO3dva5cVxmA4W/OH7YTEsUpYkwHEq6M8B0QyQ0tDeJCXFIh7oGC\\\n",
              "zoVFBR1S5IISJBc4jQtHKRAKdiSCFTs+ds6Z2RTQOBY6jgln9NrP083S0p6vGb2a2XtpVsuyLAMA\\\n",
              "MTvbHgAAXoaAAZAkYAAkCRgASQIGQJKAAZAkYAAkCRgASQIGQJKAAZAkYAAkCRgASQIGQJKAAZAk\\\n",
              "YAAkCRgASQIGQJKAAZAkYAAkCRgASQIGQJKAAZAkYAAkCRgASQIGQJKAAZAkYAAkCRgASQIGQJKA\\\n",
              "AZAkYAAkCRgASQIGQJKAAZAkYAAkCRgASQIGQJKAAZAkYAAkCRgASQIGQJKAAZAkYAAkCRgASQIG\\\n",
              "QJKAAZAkYAAkCRgASQIGQJKAAZAkYAAkCRgASQIGQJKAAZAkYAAkCRgASQIGQJKAAZAkYAAkCRgA\\\n",
              "SQIGQJKAAZAkYAAkCRgASQIGQJKAAZAkYAAkCRgASQIGQJKAAZAkYAAkCRgASQIGQJKAAZAkYAAk\\\n",
              "CRgASQIGQJKAAZAkYAAkCRgASQIGQJKAAZAkYAAkCRgASQIGQJKAAZAkYAAkCRgASQIGQJKAAZAk\\\n",
              "YAAkCRgASQIGQJKAAZAkYAAkCRgASQIGQJKAAZAkYAAkCRgASQIGQJKAAZAkYAAkCRgASQIGQJKA\\\n",
              "AZAkYAAkCRgASQIGQJKAAZAkYAAkCRgASQIGQJKAAZAkYAAkCRgASQIGQJKAAZAkYAAkCRgASQIG\\\n",
              "QJKAAZAkYAAkCRgASQIGQJKAAZC0t+0B4HWzbDbz6NOPZ1kfP7O+Wu3MG+99b3Z2fSzhRfikwCnb\\\n",
              "rI/mow9+PceHnz+zvrP3rfnhz381O+fe2tJk0OInRACSBAyAJAEDIEnAAEgSMACSBAyAJAEDIEnA\\\n",
              "AEgSMACSBAyAJAEDIEnAAEgSMACSBAyAJAEDIEnAAEgSMACSBAyAJAEDIEnAAEgSMACSBAyAJAED\\\n",
              "IEnAAEgSMACSBAyAJAEDIEnAAEgSMACSBAyAJAEDIEnAAEgSMACSBAyAJAEDIEnAAEgSMACSBAyA\\\n",
              "JAEDIEnAAEgSMACSBAyAJAEDIEnAAEgSMACSBAyAJAEDIEnAAEgSMACSBAyAJAEDIEnAAEgSMACS\\\n",
              "BAyAJAEDIEnAAEgSMACSBAyAJAEDIGlv2wPAq2BZlrl9+/Y8fvz4xL2rzfHsHh3N6ivr6816bt26\\\n",
              "NcvemROvcXBwMFeuXJnd3d2XnBj6VsuyLNseAurW6/Vcvnx57ty5c+LeMwd787tf/mzeffvcM+uP\\\n",
              "nxzNT3/x2/ns4eGJ17h48eLcvXt3zp07d+JeeFX5BgZb8vD4nfnk6fdnmZ35zsHHsz9/3/ZIkCJg\\\n",
              "sAX/PH5v/vr5T+bp5o2Zmfnbk0vzg4MPtjwVtHiIA07ZetmbDx++P083b87MamZWc7ScnQ8f/ni+\\\n",
              "XE6+/wX8m4DBFqyX/efWjpf9WZavPtoB/DcCBqdsNcuc2X303PqZnS9mZ7XZwkTQJGBwynZW6/nR\\\n",
              "t2/O23ufzmrWs5rNvLn72Vx56+bsr55uezzIeG0e4rh37962R+AVttlsZr1ev9Deo+P1/Ob3N2e1\\\n",
              "96f5x9F3Z1lW8+7+J/PHeTRfPPnyha6xXq/n/v37c/bs2f9lbJgLFy5se4SX9toE7Pr169segVfY\\\n",
              "sizz4MGDF9q73izzhz9/9J9Xf3mp9zs8PJwbN27M/v7z99Lg67h27dq2R3hpDjLDN+DrHGT+JjjI\\\n",
              "DO6BARAlYAAkCRgASQIGQJKAAZAkYAAkvTbnwOD/abVazdWrV+fSpUun8n7nz5/3Z5a89pwDAyDJ\\\n",
              "T4gAJAkYAEkCBkCSgAGQJGAAJAkYAEkCBkCSgAGQJGAAJAkYAEkCBkCSgAGQJGAAJAkYAEkCBkCS\\\n",
              "gAGQJGAAJAkYAEkCBkCSgAGQJGAAJAkYAEkCBkCSgAGQJGAAJAkYAEkCBkCSgAGQJGAAJAkYAEkC\\\n",
              "BkCSgAGQJGAAJAkYAEkCBkCSgAGQJGAAJAkYAEkCBkCSgAGQJGAAJAkYAEkCBkCSgAGQJGAAJAkY\\\n",
              "AEkCBkCSgAGQJGAAJAkYAEkCBkCSgAGQJGAAJAkYAEkCBkCSgAGQJGAAJAkYAEkCBkCSgAGQJGAA\\\n",
              "JAkYAEkCBkCSgAGQJGAAJAkYAEkCBkCSgAGQJGAAJAkYAEkCBkCSgAGQJGAAJAkYAEkCBkCSgAGQ\\\n",
              "JGAAJAkYAEkCBkCSgAGQJGAAJP0L9CO0kX3SXaEAAAAASUVORK5CYII=\\\n",
              "\"\n",
              "  frames[5] = \"data:image/png;base64,iVBORw0KGgoAAAANSUhEUgAAAbAAAAEgCAYAAADVKCZpAAAAOXRFWHRTb2Z0d2FyZQBNYXRwbG90\\\n",
              "bGliIHZlcnNpb24zLjcuMSwgaHR0cHM6Ly9tYXRwbG90bGliLm9yZy/bCgiHAAAACXBIWXMAAAsT\\\n",
              "AAALEwEAmpwYAAAIGUlEQVR4nO3dMY8dVxnH4Xfu9XptZ+0owbKtABWiSEGBUy89Eqn5IuQD8Dlo\\\n",
              "kNxZdIguEhIYUUWJIlOAMFJABhNbkbJ27Ni7M4di06Bd41nv1cz82eeprPHV3be5+umce2Zu11pr\\\n",
              "BQBhVnMPAACvQ8AAiCRgAEQSMAAiCRgAkQQMgEgCBkAkAQMgkoABEEnAAIgkYABEEjAAIgkYAJEE\\\n",
              "DIBIAgZAJAEDIJKAARBJwACIJGAARBIwACIJGACRBAyASAIGQCQBAyCSgAEQScAAiCRgAEQSMAAi\\\n",
              "CRgAkQQMgEgCBkAkAQMgkoABEEnAAIgkYABEEjAAIgkYAJEEDIBIAgZAJAEDIJKAARBJwACIJGAA\\\n",
              "RBIwACIJGACRBAyASAIGQCQBAyCSgAEQScAAiCRgAEQSMAAiCRgAkQQMgEgCBkAkAQMgkoABEEnA\\\n",
              "AIgkYABEEjAAIgkYAJEEDIBIAgZAJAEDIJKAARBJwACIJGAARBIwACIJGACRBAyASAIGQCQBAyCS\\\n",
              "gAEQScAAiCRgAEQSMAAiCRgAkQQMgEgCBkAkAQMgkoABEEnAAIgkYABEEjAAIgkYAJEEDIBIAgZA\\\n",
              "JAEDIJKAARBJwACIJGAARBIwACIJGACRBAyASAIGQCQBAyCSgAEQScAAiCRgAEQSMAAiCRgAkQQM\\\n",
              "gEgCBkAkAQMgkoABEEnAAIgkYABEEjAAIgkYAJEEDIBIAgZAJAEDIJKAARBJwACIJGAARBIwACIJ\\\n",
              "GACRBAyASAIGQCQBAyCSgAEQScAAiCRgAEQSMAAiCRgAkQQMgEjn5h4Azprne4/q+eNHR65vX7la\\\n",
              "25evzjARZBIwmNijv/yx/vnRr49cf+e9n9Q7771fXdfNMBXksYUIC9GGfu4RIIqAwUK0oa9qbe4x\\\n",
              "IIaAwUIcrsAEDMYSMFgIW4hwMgIGCzH0fTVbiDCagMFCWIHByQgYLEQbDhzigBMQMFgIhzjgZAQM\\\n",
              "FqINvXzBCQgYLIT7wOBkBAwmdunqd2u13jpy/auHn9Vw8GKGiSCTgMHE1ucvVa2OfvSG/edWYHAC\\\n",
              "AgYT61brqvLAXjgtAYOJdau1J87DBggYTGy1Ws89AvxfEDCYmi1E2AgBg4l1q3WVLUQ4NQGDidlC\\\n",
              "hM0QMJhYt3aIAzZBwGBinRUYbISAwcS6zndgsAkCBhPr1v/rFKInccBYAgaTe3m82jBMOgkkEzBY\\\n",
              "EL/KDOMJGCzIMBzMPQLEEDBYitaq9VZgMJaAwUK0qmpWYDCagMGC+A4MxhMwWBArMBhPwGAxWg2+\\\n",
              "A4PRBAyWotlChJMQMFgQW4gwnoDBDI5/Gn2r1gsYjCVgMLFuta6d6987cr0NfT158NcZJoJMAgYT\\\n",
              "67qu1lsXjv2/wQoMRhMwmMHhE+mB0xAwmEG3Ojf3CBBPwGBynV9lhg0QMJhBt7YCg9MSMJhaV1Zg\\\n",
              "sAECBjNY+Q4MTk3AYHKdU4iwAQIGM7CFCKcnYDADx+jh9AQMZvDyFVir1tqks0AqAYOJHf8g30Nt\\\n",
              "GKpKwGAMAYMFaW2osgKDUQQMFqQNvS1EGEnAYEEOf5FZwGAMAYMFaYMtRBhLwGBBbCHCeAIGC9Ka\\\n",
              "LUQYS8BgQdrQ20KEkQQMlmQYbCHCSAIGC+IUIownYDCDw0dJHX0ix9Dvf/M0DuBVBAxmcOlb365z\\\n",
              "F944cv3ZF/erf/50hokgj4DBDLrVVtUxz0RsbahmCxFGETCYQbdaVXfMFiIwnh8lgg26e/du7e3t\\\n",
              "vfqFz/fq3P7+kYS1VvXJx59U277yyrdYr9d18+bN2traer1hIVzXnNmFjdnd3a07d+688nU33t6p\\\n",
              "X/zs/br+9s5/Xe+HoX7681/V3//95SvfY2dnp+7du1fXrl177XkhmRUYzKDvh2qt6qv+St3/+vvV\\\n",
              "17m6fv6zenP9r7lHgxgCBjM4GIb68uCt+vOXP66nw+F24T++frfevfS7Ou54PXCUQxwwg4O+1aeP\\\n",
              "f1RPhzfrMFhd9e18/enJbj3tL889HkQQMJjBQd9qvz96+KJv56r5WMIoPikwg34Yanv1+Mj186tn\\\n",
              "ta6DGSaCPAIGM+j7vn7wxm/r7a371VVfXQ11cbVXP7z8YV1YP5l7PIhwZg5xPHjwYO4ROANevHgx\\\n",
              "6nX90OqXv/l9XbjwcT3a/04NbV1vbT2oP6we1xd7z0a9R2utHj58WINnJ3IKN27cmHuE13ZmAnbr\\\n",
              "1q25R+AM+Pzzz0e/9sOP/vbNvz59rb+1v79ft2/frp2dnVe/GF7igw8+mHuE1+ZGZtigsTcyb4Ib\\\n",
              "mTnrfAcGQCQBAyCSgAEQScAAiCRgAEQSMAAinZn7wGAKu7u7dfXq1Un+1sWLF2t7e3uSvwVL5D4w\\\n",
              "ACLZQgQgkoABEEnAAIgkYABEEjAAIgkYAJEEDIBIAgZAJAEDIJKAARBJwACIJGAARBIwACIJGACR\\\n",
              "BAyASAIGQCQBAyCSgAEQScAAiCRgAEQSMAAiCRgAkQQMgEgCBkAkAQMgkoABEEnAAIgkYABEEjAA\\\n",
              "IgkYAJEEDIBIAgZAJAEDIJKAARBJwACIJGAARBIwACIJGACRBAyASAIGQCQBAyCSgAEQScAAiCRg\\\n",
              "AEQSMAAiCRgAkQQMgEgCBkAkAQMgkoABEEnAAIgkYABEEjAAIgkYAJEEDIBIAgZAJAEDIJKAARBJ\\\n",
              "wACIJGAARBIwACIJGACRBAyASAIGQCQBAyCSgAEQScAAiCRgAEQSMAAiCRgAkQQMgEgCBkAkAQMg\\\n",
              "koABEEnAAIgkYABEEjAAIgkYAJEEDIBIAgZAJAEDINJ/ABPMWP1tkt3wAAAAAElFTkSuQmCC\\\n",
              "\"\n",
              "  frames[6] = \"data:image/png;base64,iVBORw0KGgoAAAANSUhEUgAAAbAAAAEgCAYAAADVKCZpAAAAOXRFWHRTb2Z0d2FyZQBNYXRwbG90\\\n",
              "bGliIHZlcnNpb24zLjcuMSwgaHR0cHM6Ly9tYXRwbG90bGliLm9yZy/bCgiHAAAACXBIWXMAAAsT\\\n",
              "AAALEwEAmpwYAAAIcElEQVR4nO3dQYtdZx3H8f+5985MYjrG2jGWqiBCrLiQIELAV6AIQt+ES3d9\\\n",
              "GW58CwXXDd25EhG0VRfqIkE3pmlLMDHYpNNm5t57Hhfppkw6czMTzjm/zuezCudecv+bhy/nmefc\\\n",
              "27XWWgFAmNnYAwDAaQgYAJEEDIBIAgZAJAEDIJKAARBJwACIJGAARBIwACIJGACRBAyASAIGQCQB\\\n",
              "AyCSgAEQScAAiCRgAEQSMAAiCRgAkQQMgEgCBkAkAQMgkoABEEnAAIgkYABEEjAAIgkYAJEEDIBI\\\n",
              "AgZAJAEDIJKAARBJwACIJGAARBIwACIJGACRBAyASAIGQCQBAyCSgAEQScAAiCRgAEQSMAAiCRgA\\\n",
              "kQQMgEgCBkAkAQMgkoABEEnAAIgkYABEEjAAIgkYAJEEDIBIAgZAJAEDIJKAARBJwACIJGAARBIw\\\n",
              "ACIJGACRBAyASAIGQCQBAyCSgAEQScAAiCRgAEQSMAAiCRgAkQQMgEgCBkAkAQMgkoABEEnAAIgk\\\n",
              "YABEEjAAIgkYAJEEDIBIAgZAJAEDIJKAARBJwACIJGAARBIwACIJGACRBAyASAIGQCQBAyCSgAEQ\\\n",
              "ScAAiCRgAEQSMAAiCRgAkQQMgEgCBkAkAQMgkoABEEnAAIgkYABEEjAAIgkYAJEEDIBIAgZAJAED\\\n",
              "IJKAARBJwACIJGAARBIwACIJGACRBAyASAIGQCQBAyCSgAEQScAAiCRgAEQSMAAiCRgAkQQMgEgC\\\n",
              "BkAkAQMgkoABEEnAAIgkYABEEjAAIgkYAJEEDIBIAgZAJAEDIJKAARBpMfYAcN4cPLxfB4/uH7m+\\\n",
              "8+W92tndG2EiyCRgMLD7//xjffDXt45cf+WHP6tXfvTz6rpuhKkgjy1EmIh+vaxqbewxIIaAwUT0\\\n",
              "q2VVCRhsSsBgIvr1spo7MNiYgMFE9CtbiPAsBAwmoq0PyxYibE7AYGCzre2qOnrScPV4v1rfDz8Q\\\n",
              "hBIwGNilr33704h91v6929WvDkeYCDIJGAxsNt+u7il3YMCzETAY2GyxVeVhZTgzAYOBdXMBg+dB\\\n",
              "wGBgs8VWdZ2lB2dlFcHAZvOtetopRODZCBgMbHbsFqLnwGBTAgZDOyZe/Xo16CiQTMBgQjwHBpsT\\\n",
              "MJiI1pqAwTMQMJiQJz+pAmxCwGAyWvVrd2CwKQGDqWj+BgbPQsBgYF03qwuXv37kemvr+uTBByNM\\\n",
              "BJkEDAbWzWZ14fKVoy+0VocfPRh+IAglYDCC2eLoz6kAz0bAYHDdk2+kB85EwGBonTsweB4EDAbX\\\n",
              "CRg8BwIGI5jNBQzOSsBgBN188fQXWqvWfCM9bELAYGDdMb/G3PerqtYPOA3kEjCYkH61dAcGGxIw\\\n",
              "mJC2XroDgw0JGExI36+qCRhsRMBgQtp6Va23hQibEDAYwecd5OhXthBhUwIGI7j41W/WfOfSkesf\\\n",
              "//dOrQ4+GmEiyCNgMIL59k7NZvMj11u/cgoRNiRgMIJutlXVWX5wFlYQjGA2X1Q3s/zgLKwgGEE3\\\n",
              "X1Qd840cwMkEDEYwm29VZwsRzsQKghF084WAwRlZQTCCrptVfc4OYluvhh0GQgkYTEy/Ohx7BIgg\\\n",
              "YDAlTcBgUwIGEyNgsBkBg4kRMNiMgMHE9Kvl2CNABAGDMXRViwu7T3mh1eH+g8HHgUQCBqPo6oUr\\\n",
              "33nqK/v3bg88C2QSMBjJbLE99ggQTcBgJLPF1tgjQDQBg5G4A4OzETAYSbfYGXsEiCZgMJK5LUQ4\\\n",
              "EwGDkRy3hdhaG3ASyCRgMILumB+zbP26qvUDTgOZBAwmpq1X1XoBg5MIGExM36+e3IUBxxIwmJi2\\\n",
              "XldrAgYnETCYmNbbQoRNLMYeAL5obt26VQ8enPyFvLOH79b8Kdf3P3pUf/nzO9UWF0/8P7quq2vX\\\n",
              "rtXFiye/F75ouua8LjxXr732Wr355psnvu/Vb71Uv/7lT+vF3c/GZ/+Tw/rFr96qf713cgTn83nd\\\n",
              "vHmzrl69etpxIZY7MBjJw48Pav/xsi58aa/eP/huLfud2tt+r1668H5d2LI04SRWCYxkuerr0fKF\\\n",
              "+vfDn9Sj9YtV1dW7j79f37v0drW6MfZ4MHkOccBIVuu+/v7hj+vR+qV6shS76mtRt/av18PV3tjj\\\n",
              "weQJGIxkuVrXwfroJsi6zau3NOFEVgmMZLnua6s+PHJ9e3ZQi245wkSQRcBgJKtVX69e/ENd2b5d\\\n",
              "s1pVVV87s/36we7vand+8glEOO/OzSGOu3fvjj0C58Tjx483el/fWv3mt2/X5d2bdf/wG7Vq2/WV\\\n",
              "xX/qT/P/1fv3H238effu3avd3d3Tjss59/LLL489wqmdm4C98cYbY4/AOXHnzp2N3/v7v93+9F//\\\n",
              "ONVntdbqxo0btbfn0Aen8/rrr489wql5kBmes00fZH4ePMjMeeZvYABEEjAAIgkYAJEEDIBIAgZA\\\n",
              "JAEDINK5eQ4MhnL9+vXBPms+n9elS5cG+zyYEs+BARDJFiIAkQQMgEgCBkAkAQMgkoABEEnAAIgk\\\n",
              "YABEEjAAIgkYAJEEDIBIAgZAJAEDIJKAARBJwACIJGAARBIwACIJGACRBAyASAIGQCQBAyCSgAEQ\\\n",
              "ScAAiCRgAEQSMAAiCRgAkQQMgEgCBkAkAQMgkoABEEnAAIgkYABEEjAAIgkYAJEEDIBIAgZAJAED\\\n",
              "IJKAARBJwACIJGAARBIwACIJGACRBAyASAIGQCQBAyCSgAEQScAAiCRgAEQSMAAiCRgAkQQMgEgC\\\n",
              "BkAkAQMgkoABEEnAAIgkYABEEjAAIgkYAJEEDIBIAgZAJAEDIJKAARBJwACIJGAARBIwACIJGACR\\\n",
              "BAyASAIGQCQBAyCSgAEQScAAiCRgAEQSMAAiCRgAkQQMgEgCBkAkAQMgkoABEEnAAIgkYABEEjAA\\\n",
              "IgkYAJH+DywBWorz1I39AAAAAElFTkSuQmCC\\\n",
              "\"\n",
              "  frames[7] = \"data:image/png;base64,iVBORw0KGgoAAAANSUhEUgAAAbAAAAEgCAYAAADVKCZpAAAAOXRFWHRTb2Z0d2FyZQBNYXRwbG90\\\n",
              "bGliIHZlcnNpb24zLjcuMSwgaHR0cHM6Ly9tYXRwbG90bGliLm9yZy/bCgiHAAAACXBIWXMAAAsT\\\n",
              "AAALEwEAmpwYAAAI5klEQVR4nO3dvW8kdx3H8e/srr0+H5fEIbk8IBShSIiniHSpKGlRKv6G8Adc\\\n",
              "zX9AHyHRpKVEilKlQeRSQRMkyOmEQkKsgMM9+M72PsxQhCbYjte+y8x+8OvVnDS7p/kWN3p7fDO/\\\n",
              "X9N1XVcAEGY09AAAcBECBkAkAQMgkoABEEnAAIgkYABEEjAAIgkYAJEEDIBIAgZAJAEDIJKAARBJ\\\n",
              "wACIJGAARBIwACIJGACRBAyASAIGQCQBAyCSgAEQScAAiCRgAEQSMAAiCRgAkQQMgEgCBkAkAQMg\\\n",
              "koABEEnAAIgkYABEEjAAIgkYAJEEDIBIAgZAJAEDIJKAARBJwACIJGAARBIwACIJGACRBAyASAIG\\\n",
              "QCQBAyCSgAEQScAAiCRgAEQSMAAiCRgAkQQMgEgCBkAkAQMgkoABEEnAAIgkYABEEjAAIgkYAJEE\\\n",
              "DIBIAgZAJAEDIJKAARBJwACIJGAARBIwACIJGACRBAyASAIGQCQBAyCSgAEQScAAiCRgAEQSMAAi\\\n",
              "CRgAkQQMgEgCBkAkAQMgkoABEEnAAIgkYABEEjAAIgkYAJEEDIBIAgZAJAEDIJKAARBJwACIJGAA\\\n",
              "RBIwACIJGACRBAyASAIGQCQBAyCSgAEQScAAiCRgAEQSMAAiCRgAkQQMgEgCBkAkAQMgkoABEEnA\\\n",
              "AIgkYABEEjAAIgkYAJEEDIBIAgZAJAEDIJKAARBJwACIJGAARBIwACIJGACRBAyASAIGQCQBAyCS\\\n",
              "gAEQScAAiCRgAEQSMAAiCRgAkQQMgEgCBkAkAQMgkoABEEnAAIgkYABEmgw9AFw2Xbus5fyo2sXR\\\n",
              "F3/OD6trl3X12e9UM/IzJaxKwKBHi8MHdfvd39TicL+Ws8Nazg+rnR/WaDKtH/38lzWZXh16RIgh\\\n",
              "YNCjtl3U/X/8pdrF7EvHm9G4lrNDAYNz8PsKWANd19Zyfjj0GBBFwGANdG1by5mAwXkIGPSoaUY1\\\n",
              "2bp27Hg7P6r93VsDTAS5BAx6NJps1vYz3z7hk67a5bz3eSCZgEGPmtGoxhtbQ48B/xcEDHrUNKMa\\\n",
              "bwoYPA4CBn1qRjU67Q6s66rrun7ngWACBj0bjU9+/bKdH1UJGKxMwKBHTdNUVXPiZ8v5YXVd2+9A\\\n",
              "EEzAYE0sZwfuwOAcBAzWxPzgXnXtcugxIIaAQc+u7LxQzXjj2PEHn/3t2BqJwOkEDHo2feLZUx/k\\\n",
              "AFYnYNCz8cZWVePSg0flKoKejTa3/vs0IvAoBAx6Np5MT7kDsx4inIeAQd9Ou/vqui8epQdWImCw\\\n",
              "JroqAYNzEDBYF+7A4FwEDHrWNE1Nv/H0seNd19bBnd0BJoJMAgY9a0bjuvLNEza17No6uvtZ/wNB\\\n",
              "KAGD3jU13rwy9BAQT8Cgb03VZCpg8KgEDHr3VXdgNrWEVQkYDKAZnbKp5WJWZU8wWImAQc++ahmp\\\n",
              "5fzIliqwIgGDNdIKGKxMwGCNzB/etScYrEjAYABXdl6o8eb2seMHdz6thdU4YCUCBgPY2H6yRpPN\\\n",
              "oceAaAIGAxhtTKsZufzgUbiCYADjybSa0XjoMSCagMEARpONak7c1LKqWy56ngYyCRgMoqk65XWw\\\n",
              "5dHDfkeBUAIG66QrTyHCigQM1sxy5g4MViFgMISmauupF074oKsH//yo93EgkYDBIJq6svPiiZ/M\\\n",
              "9vd6ngUyCRgMxKaW8GgEDAYymR5fSgpYnYDBQL7qDsymlnA2AYMBNE1z6koc7XJuSxVYgYDBmmkX\\\n",
              "M6txwAoEDNZMu5hX2woYnEXAYDAnryU1f3i3lkcPep4F8ggYDGTrqeu1cfWpY8fnD/5di4P9/geC\\\n",
              "MAIGAxlvbtd4Mh16DIglYDCQ0WSzmvFk6DEgloDBQEaTDQGDRyBgMJBmNDn9XTBPIcKZBAwG0jTN\\\n",
              "aXta1vLInmBwFgGDNbSwJxicScBgDS2PBAzOImAwoO1nXjrx+P7urZ4ngTwCBgOaPnn9xOPzg3s9\\\n",
              "TwJ5BAwGNLGpJVyYgMGAxps2tYSLEjAY0HhqU0u4KMsAwNfg9u3btbu7e+b3moefnXgR3r93t95/\\\n",
              "7w/Vnvqm2Je98sorde3atXNOCdmazo958Ni98cYb9eabb575vR+//Fz9+sbPjh3/69/36he/+l3d\\\n",
              "P5itdL6bN2/Wa6+9du45IZk7MFgDR+1WfXL43Tpsr9bTG5/WZHK3ppvjum9BDjiVgMGAuq7qYHGl\\\n",
              "/rT/07qzuF5VTX10+IPanm/UdPOdqlIwOI2HOGBAu5/v1zu3v1d3Fs/VF5djU12Na3/rJ7W98/2h\\\n",
              "x4O1JmAwoMPZou4dVNX/PKzRjCbVNBuDzAQpBAwGNFssq1neqaovP0s1bma1MToaZCZIIWAwoPli\\\n",
              "WS9tvFcvTm/VqOZV1dVmc1A/vPr72pmc/Rg+XGaX5iGOVd7Jgcfl4cPVVpNftl399t0/1vWnb9fe\\\n",
              "7Fs1667UE5N/1fvjvbr1yecrn29vb8+/cS7k+eefH3qEC7s0AXvrrbeGHoFL5MMPP1z5uzf//HFV\\\n",
              "fVxVH1z4fG+//XZ98MHF/z6X140bN4Ye4cK8yAxfg1VfZH5cvMjMZeT/wACIJGAARBIwACIJGACR\\\n",
              "BAyASAIGQKRL8x4Y9OnVV1+t119/vbfz7ezs9HYuWBfeAwMgkl8hAhBJwACIJGAARBIwACIJGACR\\\n",
              "BAyASAIGQCQBAyCSgAEQScAAiCRgAEQSMAAiCRgAkQQMgEgCBkAkAQMgkoABEEnAAIgkYABEEjAA\\\n",
              "IgkYAJEEDIBIAgZAJAEDIJKAARBJwACIJGAARBIwACIJGACRBAyASAIGQCQBAyCSgAEQScAAiCRg\\\n",
              "AEQSMAAiCRgAkQQMgEgCBkAkAQMgkoABEEnAAIgkYABEEjAAIgkYAJEEDIBIAgZAJAEDIJKAARBJ\\\n",
              "wACIJGAARBIwACIJGACRBAyASAIGQCQBAyCSgAEQScAAiCRgAEQSMAAiCRgAkQQMgEgCBkAkAQMg\\\n",
              "koABEEnAAIgkYABEEjAAIgkYAJEEDIBIAgZAJAEDIJKAARBJwACIJGAARBIwACIJGACRBAyASAIG\\\n",
              "QCQBAyCSgAEQ6T9XoYXzzv2qbgAAAABJRU5ErkJggg==\\\n",
              "\"\n",
              "  frames[8] = \"data:image/png;base64,iVBORw0KGgoAAAANSUhEUgAAAbAAAAEgCAYAAADVKCZpAAAAOXRFWHRTb2Z0d2FyZQBNYXRwbG90\\\n",
              "bGliIHZlcnNpb24zLjcuMSwgaHR0cHM6Ly9tYXRwbG90bGliLm9yZy/bCgiHAAAACXBIWXMAAAsT\\\n",
              "AAALEwEAmpwYAAAJjklEQVR4nO3dPY9cZxnH4fvMy+7a641jh4ATHEIRwEY0VCnSpU5huaPlO0Si\\\n",
              "TM93iJDyDYioIlIhEYFEMEpCkQiCncQOiWPHXu/O7rwcCouC7Kw9NuKc/bPXVT4z1tySd/TTzDzn\\\n",
              "OU3btm0BQJhB3wMAwOMQMAAiCRgAkQQMgEgCBkAkAQMgkoABEEnAAIgkYABEEjAAIgkYAJEEDIBI\\\n",
              "AgZAJAEDIJKAARBJwACIJGAARBIwACIJGACRBAyASAIGQCQBAyCSgAEQScAAiCRgAEQSMAAiCRgA\\\n",
              "kQQMgEgCBkAkAQMgkoABEEnAAIgkYABEEjAAIgkYAJEEDIBIAgZAJAEDIJKAARBJwACIJGAARBIw\\\n",
              "ACIJGACRBAyASAIGQCQBAyCSgAEQScAAiCRgAEQSMAAiCRgAkQQMgEgCBkAkAQMgkoABEEnAAIgk\\\n",
              "YABEEjAAIgkYAJEEDIBIAgZAJAEDIJKAARBJwACIJGAARBIwACIJGACRBAyASAIGQCQBAyCSgAEQ\\\n",
              "ScAAiCRgAEQSMAAiCRgAkQQMgEgCBkAkAQMgkoABEEnAAIgkYABEEjAAIgkYAJEEDIBIAgZAJAED\\\n",
              "IJKAARBJwACIJGAARBIwACIJGACRBAyASAIGQCQBAyCSgAEQScAAiCRgAEQSMAAiCRgAkQQMgEgC\\\n",
              "BkAkAQMgkoABEEnAAIgkYABEEjAAIgkYAJEEDIBIAgZAJAEDIJKAARBJwACIJGAARBIwACIJGACR\\\n",
              "BAyASAIGQCQBAyCSgAEQScAAiCRgAEQSMAAiCRgAkQQMgEgCBkAkAQMg0qjvAeA4adu2FvNpLaaT\\\n",
              "mk/3ajHdq/l0r9a3nqq1zSf7Hg+iCBh06PP3flu3/vanmk8n9+O1v1vz6V6df/FyfecnL1fTNH2P\\\n",
              "CDEEDDo0+ep6bd/46MD6bPduVbVVJWCwKr+BwREw3f26qm37HgOiCBh0aG3rbNWSrwnvfPLXahfz\\\n",
              "HiaCXAIGHdp8+vvVNMMD6+1iXq1PYPBIBAw6NNrYWvoJDHh0AgYdGp04tXSnYdu2vkKERyRg0KFm\\\n",
              "cPDrw6qqWsxrtnev22EgnIDBEdC2i5pNBAwehYBBhwaDYY2XnLixmE1rcvtG9wNBMAGDDg1Ga3Xy\\\n",
              "7PkD6+1iVnt3v+xhIsglYNClZlCjjc2+p4D/CwIGHWoGwxquLw+Ya8Hg0QgYdGwwXH4E6Xxvp6pd\\\n",
              "dDwN5BIw6ND9a8CWX8g827tX7ULAYFUCBl075CSO3Vuf1WI+7XgYyCVg0LGtcy/UYLx+YH3v6y+q\\\n",
              "nc96mAgyCRh0bLz55OEncgArEzDo2Gh9c+mJ9FX3T+QAViNg0LHBaO2Q38Hamu/vdD4PpBIwOCLa\\\n",
              "dlHT3e2+x4AYAgY9WHpLlcWidm5e7WEayCRg0LFmMKytZ3908IF2UZNbDvSFVQkYdKxpBrW2ebbv\\\n",
              "MSCegEHXmqbGJ04d8mDrPERYkYBBDwbjjaXri+m+8xBhRQIGHVu2gePfZvs7tXAaB6xEwKAHh0Vs\\\n",
              "vrfjOClYkYBBD0489VyNltwX7N6XV2u251owWIWAQQ/GJ05VM1o7sN4uZjZxwIoEDHowXD956I0t\\\n",
              "gdUIGPRgOFqvpln+9ltM9zqeBjIJGPSiWX5j5rZqunu382kgkYBBb5a//aa7dzqeAzIJGPShaWrr\\\n",
              "2R8ueaCtO9fe73wcSCRg0JO1zTNL1xfzaceTQCYBg56MTzzR9wgQTcCgJ8P1k0vX28W82sW842kg\\\n",
              "j4BBD5qmOfQ4qcV0z9eIsAIBgyNmvr97/1R64IEEDHoyXN+swWj9wPrurc9qb/tmDxNBFgGDnmyc\\\n",
              "frrGm08eWG8X86qFe4LBwwgY9GQ43qjBaNz3GBBLwKAng/F6DYYHT6SvKrsQYQUCBj1pmkEddnPm\\\n",
              "6cQ9weBhBAyOoNnEgb7wMAIGPRpvnl26vnPz044ngTwCBj3aeuaFpeu7X33S8SSQR8CgR85DhMcn\\\n",
              "YNCj0cap5Q+0bbVt2+0wEEbAoEfNYLR0fTGf1WLmOCl4EAGDI2gx26/5dNL3GHCkCRj0aDher+Ha\\\n",
              "iQPrs8ndmt673f1AEETAoEfjk6drbeupA+uzybaAwUMIGPRoMFqr4Xij7zEgkoBBjwaj8aEBa8tO\\\n",
              "RHgQAYM+NYNqBsvfhvP93Y6HgSwCBj1qDjvNt6pmu85DhAcRMOjd8ojt3LzW8RyQRcCgZ0+c//HS\\\n",
              "9XtfXK0qv4HBYZYfAwD8165du1bXrj38U1R7+/Ma18HPYbu7O/XO799ZOWEXL16sM2fOPOqYEEvA\\\n",
              "4H/k9ddfr9dee+2hz7vwvW/Vr35xqZrBfybs7x9/XD/7+Uu16kbEN998s1555ZXHmBQyCRj0bLI/\\\n",
              "q6qq6WKtPt37Qe3MT9fp0efVNH+u9fGwJvvznieEo0nA4AiYtuv1l+2X6+b0fLXVVFMXa23/RJ06\\\n",
              "+Zua7NuNCMvYxAFHwEc7P60vp89VW4OqaqqtYe1uvFjfff6lvkeDI0vAoGe3tyf1wdU79c1tHIPB\\\n",
              "sIajtX6GggACBj2b7M/q3vYX9c0t84Oa1drALVXgMAIGPZvO5vV0/bGe33i/hs1+VbU1biZ1YfOd\\\n",
              "+vbaP/oeD46sY7OJ48aNG32PwDGzvb290vPmi7Z+/bv36nsf/rK+mj5Tu4tTtTW8VX8Y/bOufLT6\\\n",
              "3+3t27f9nfPIzp071/cIj+3YBOyNN97oewSOmStXrqz83Hc/vFHvfnijqj547Nd7++236/r164/9\\\n",
              "7zmeXn311b5HeGzHJmDJ/0lk2tnZqbfeequz17t8+bILmTlW/AYGQCQBAyCSgAEQScAAiCRgAEQS\\\n",
              "MAAiHZtt9NC1Cxcu1KVLlzp7veQLUuFxNG276u3yAODo8BUiAJEEDIBIAgZAJAEDIJKAARBJwACI\\\n",
              "JGAARBIwACIJGACRBAyASAIGQCQBAyCSgAEQScAAiCRgAEQSMAAiCRgAkQQMgEgCBkAkAQMgkoAB\\\n",
              "EEnAAIgkYABEEjAAIgkYAJEEDIBIAgZAJAEDIJKAARBJwACIJGAARBIwACIJGACRBAyASAIGQCQB\\\n",
              "AyCSgAEQScAAiCRgAEQSMAAiCRgAkQQMgEgCBkAkAQMgkoABEEnAAIgkYABEEjAAIgkYAJEEDIBI\\\n",
              "AgZAJAEDIJKAARBJwACIJGAARBIwACIJGACRBAyASAIGQCQBAyCSgAEQScAAiCRgAEQSMAAiCRgA\\\n",
              "kQQMgEgCBkAkAQMgkoABEEnAAIgkYABEEjAAIgkYAJEEDIBIAgZAJAEDIJKAARBJwACIJGAARBIw\\\n",
              "ACIJGACR/gW14LQDwFOPnwAAAABJRU5ErkJggg==\\\n",
              "\"\n",
              "  frames[9] = \"data:image/png;base64,iVBORw0KGgoAAAANSUhEUgAAAbAAAAEgCAYAAADVKCZpAAAAOXRFWHRTb2Z0d2FyZQBNYXRwbG90\\\n",
              "bGliIHZlcnNpb24zLjcuMSwgaHR0cHM6Ly9tYXRwbG90bGliLm9yZy/bCgiHAAAACXBIWXMAAAsT\\\n",
              "AAALEwEAmpwYAAAJnklEQVR4nO3dy44cZxnH4be6ew72+BArBzsnhAiIWBGbSLAnbLOIfAncQ/YR\\\n",
              "myy4h2yyZhGyQQpkx4YFkChCOQkUmcjO2RmPZ7qnD8UiYUGmxm47omr+8vMsq1ruVxqXfuqur79q\\\n",
              "2rZtCwDCjIYeAADuhYABEEnAAIgkYABEEjAAIgkYAJEEDIBIAgZAJAEDIJKAARBJwACIJGAARBIw\\\n",
              "ACIJGACRBAyASAIGQCQBAyCSgAEQScAAiCRgAEQSMAAiCRgAkQQMgEgCBkAkAQMgkoABEEnAAIgk\\\n",
              "YABEEjAAIgkYAJEEDIBIAgZAJAEDIJKAARBJwACIJGAARBIwACIJGACRBAyASAIGQCQBAyCSgAEQ\\\n",
              "ScAAiCRgAEQSMAAiCRgAkQQMgEgCBkAkAQMgkoABEEnAAIgkYABEEjAAIgkYAJEEDIBIAgZAJAED\\\n",
              "IJKAARBJwACIJGAARBIwACIJGACRBAyASAIGQCQBAyCSgAEQScAAiCRgAEQSMAAiCRgAkQQMgEgC\\\n",
              "BkAkAQMgkoABEEnAAIgkYABEEjAAIgkYAJEEDIBIAgZAJAEDIJKAARBJwACIJGAARBIwACIJGACR\\\n",
              "BAyASAIGQCQBAyCSgAEQScAAiCRgAEQSMAAiCRgAkQQMgEgCBkAkAQMgkoABEEnAAIgkYABEEjAA\\\n",
              "IgkYAJEEDIBIAgZAJAEDIJKAARBJwACIJGAARBIwACIJGACRBAyASAIGQCQBAyCSgAEQScAAiCRg\\\n",
              "AEQSMAAiCRgAkQQMgEgCBkAkAQMgkoABEEnAAIgkYABEEjAAIgkYAJEmQw8A95O2bWu1nNdqPq3l\\\n",
              "fFar+ayW81ltnX2wNnceGHo8iCJg0KNP3vlTffXPv9ZyPv0mXocHtZzP6olfXKmLP3uumqYZekSI\\\n",
              "IWDQo+mX12rv+odHjs8PdqvatkrAYG3ugcEJML91o6raoceAKAIGPdo891Dnp6yb196r1Wo5wESQ\\\n",
              "S8CgR2cuPlXNaHzkeLtafvMVIrA2AYMebZw6V1Ud97natnyFCHdHwKBH483tzpWGbbuq5exggIkg\\\n",
              "l4BBn45ZZdiuVjWf7vU8DGQTMOhRU9V5D2y1mNXBF1f7HwiCCRj0aLSxXWcu/fjI8Xa1rNnelwNM\\\n",
              "BLkEDHrUjMa1cfr8sedbKxFhbQIGPWpG45psn+k8164WPU8D2QQMetQ0TY3GG53nFtNb1a5WPU8E\\\n",
              "uQQMTojDva98CoO7IGDQs61zD1UzOrqP9s1r79dqPhtgIsgkYNCzUxceq9Gk42tECzjgrggY9Gyy\\\n",
              "faaaxqUH35erCHo22dqp6vgxc1Vby/m093kglYBB347bTqpta76/2/MwkEvA4KRoV3VoNw5Ym4BB\\\n",
              "z5rRqE5deOzI8Xa1rJvXPxhgIsgkYNCzphnXzsM/6D5pJSKsTcCgb01Tk1PnOk+17cp+iLAmAYMB\\\n",
              "jDe2Oo8vD6d244A1CRj07JsnMnevRFzOblW7FDBYh4DBAEbjSedy+v0v/l2L2a0BJoI8AgYD2Hn4\\\n",
              "hzXZPnvk+GK2VyufwGAtAgYDGG/vfPMpDLhnAgYDmGyeruaYgK0W856ngUwCBgNoRuNvF3N8R1u1\\\n",
              "OLCdFKxDwOBEaWv69SdDDwERBAyG0FSdfrB7N47dj9/teRjIJGAwiKa2O/ZDBNYnYDCQzdPd20lV\\\n",
              "le2kYA0CBgOZbJ/pPL5aHNpOCtYgYDCAzhWI31oeTmu1OOxxGsgkYHDCLKY3azk7GHoMOPEEDAay\\\n",
              "dfahzseqzHY/q/n+1wNMBFkEDAaysfNATbZ3hh4DYgkYDGS8uV2jyWbnubZd9jwN5BEwGEgzmlQz\\\n",
              "Gneemx/c7HkayCNgMJCmaY55rGXVfN9+iHAnAgYDGm+e7jy++/E/ep4E8ggYDOjck890Hl9MPZUZ\\\n",
              "7kTAYEAbHcvo/8t2UnB7AgYD2jh1tvN4u1pWu7ISEW5HwGBAzei4pzIf1nI+7XkayCJgcAItpnt2\\\n",
              "44A7EDAY0Mbpc7V55sEjx+f7X9fh7ucDTAQ5BAwGNNnaOfY+GHB7AgYDGk02a7x5qvNcW62ViHAb\\\n",
              "AgYDasaTGk02Os8tZ/s9TwNZBAwGdLsHWx5axAG3JWBwQk2/ujb0CHCiCRgM7OyjP+08fuuzj6rK\\\n",
              "PTA4joDBwLYvXKo6dl964DgCBgM7fj/E1nZScBsCBgM7bhXiarmo5eyg52kgh4DB4Lq/PmyX81oc\\\n",
              "WkoPxxEwGFgzntR46+iDLecHN2v/s48GmAgydG+FDXxvV69eratXr975hcvDakY7NanvPMSyXdUH\\\n",
              "779b73223n2wy5cv14ULF+5hUsgkYPB/8sorr9RLL710x9dtTEb1m1//sn717I+OnHv55Zfr939+\\\n",
              "b633e/311+v555+/2zEhloDBwOaLVd06mNd8tVkfz35S+8vzdX7yST269a86teUSheO4OuAEmC03\\\n",
              "6+83n6sv5k9UW001dbl2F4/UhbN/q1FTtfJ7ZjjCIg44AT48eLY+nz9ZbY2qqqm2xvXR9Jk698jP\\\n",
              "azRymUIXVwacAMt2o767nL6tUT31+MUaj+zSAV0EDE6AW3ufVtuu/ufYqBa1OfJDZjiOgMEJ8N7b\\\n",
              "v6uLo7eraWfVtquaz27W+ekfa777TnmmJXS7bxZxXL9+fegRuM/s7e2t/drPb+zWa6/9tm4sH695\\\n",
              "na1bu1fr0+vv1u7+rBbL1Z3/gaq6ceOG/+fctUuXLg09wj27bwL26quvDj0C95m33npr7ddODxf1\\\n",
              "h7+8X1Xv3/P7vfnmm3XtmmeIcXdefPHFoUe4Z/dNwJL/SGTa39+vN954o7f3u3Llih8yc19xDwyA\\\n",
              "SAIGQCQBAyCSgAEQScAAiCRgAES6b5bRQ9+efvrpeuGFF3p7v+QfpMK9aNrWRjUA5PEVIgCRBAyA\\\n",
              "SAIGQCQBAyCSgAEQScAAiCRgAEQSMAAiCRgAkQQMgEgCBkAkAQMgkoABEEnAAIgkYABEEjAAIgkY\\\n",
              "AJEEDIBIAgZAJAEDIJKAARBJwACIJGAARBIwACIJGACRBAyASAIGQCQBAyCSgAEQScAAiCRgAEQS\\\n",
              "MAAiCRgAkQQMgEgCBkAkAQMgkoABEEnAAIgkYABEEjAAIgkYAJEEDIBIAgZAJAEDIJKAARBJwACI\\\n",
              "JGAARBIwACIJGACRBAyASAIGQCQBAyCSgAEQScAAiCRgAEQSMAAiCRgAkQQMgEgCBkAkAQMgkoAB\\\n",
              "EEnAAIgkYABEEjAAIgkYAJEEDIBIAgZAJAEDIJKAARBJwACIJGAARBIwACIJGACRBAyASAIGQCQB\\\n",
              "AyCSgAEQScAAiCRgAEQSMAAiCRgAkf4DDZ/BUc+ImggAAAAASUVORK5CYII=\\\n",
              "\"\n",
              "  frames[10] = \"data:image/png;base64,iVBORw0KGgoAAAANSUhEUgAAAbAAAAEgCAYAAADVKCZpAAAAOXRFWHRTb2Z0d2FyZQBNYXRwbG90\\\n",
              "bGliIHZlcnNpb24zLjcuMSwgaHR0cHM6Ly9tYXRwbG90bGliLm9yZy/bCgiHAAAACXBIWXMAAAsT\\\n",
              "AAALEwEAmpwYAAAJqUlEQVR4nO3dy44c53nH4be6e84kbUEUzAg2ETiyvRASAV5kHScrbXMH9j3o\\\n",
              "BoJcQ25A2mSXZBMkQDYBsvHCMmTDsWwhhhE7HIWSSHFOfazygsrGUzNs0nbV/MPn2bGqwX4X0/ih\\\n",
              "q7/6qum6risACDMZewAAeBECBkAkAQMgkoABEEnAAIgkYABEEjAAIgkYAJEEDIBIAgZAJAEDIJKA\\\n",
              "ARBJwACIJGAARBIwACIJGACRBAyASAIGQCQBAyCSgAEQScAAiCRgAEQSMAAiCRgAkQQMgEgCBkAk\\\n",
              "AQMgkoABEEnAAIgkYABEEjAAIgkYAJEEDIBIAgZAJAEDIJKAARBJwACIJGAARBIwACIJGACRBAyA\\\n",
              "SAIGQCQBAyCSgAEQScAAiCRgAEQSMAAiCRgAkQQMgEgCBkAkAQMgkoABEEnAAIgkYABEEjAAIgkY\\\n",
              "AJEEDIBIAgZAJAEDIJKAARBJwACIJGAARBIwACIJGACRBAyASAIGQCQBAyCSgAEQScAAiCRgAEQS\\\n",
              "MAAiCRgAkQQMgEgCBkAkAQMgkoABEEnAAIgkYABEEjAAIgkYAJEEDIBIAgZAJAEDIJKAARBJwACI\\\n",
              "JGAARBIwACIJGACRBAyASAIGQCQBAyCSgAEQScAAiCRgAEQSMAAiCRgAkQQMgEgCBkAkAQMgkoAB\\\n",
              "EEnAAIgkYABEEjAAIgkYAJEEDIBIAgZAJAEDIJKAARBJwACIJGAARBIwACIJGACRBAyASAIGQCQB\\\n",
              "AyCSgAEQScAAiCRgAEQSMAAiCRgAkQQMgEgCBkAkAQMgkoABEEnAAIgkYABEmo09ALxMuq6rdrOq\\\n",
              "djWvzWpR7WpRm9Wi9m6/WrtHXx57PIgiYDCgj3/8b/Xov35Qm9X8abyWF7VZLeqrf/7X9ZU//ctq\\\n",
              "mmbsESGGgMGA5p89qNPjjy4dX108qeq6KgGDrfkNDG6A1dnjqurGHgOiCBgMaPfO3d5vWScPPqy2\\\n",
              "3YwwEeQSMBjQra/8STWT6aXjXbt5egkR2JqAwYB2Du5UVc/vXF1XLiHC8xEwGNB0d793pWHXtbVZ\\\n",
              "XIwwEeQSMBjSFasMu7at1fx04GEgm4DBgJqq3t/A2vWiLj797+EHgmACBgOa7OzXrXtvXDretZta\\\n",
              "nH42wkSQS8BgQM1kWjuHX7ryfGclImxNwGBAzWRas/1bvee6dj3wNJBNwGBATdPUZLrTe249P6uu\\\n",
              "bQeeCHIJGNwQy9NHvoXBcxAwGNjenbvVTC7vo33y4GfVrhYjTASZBAwGdvDK6zWZ9VxGtIADnouA\\\n",
              "wcBm+7eqaXz04HflUwQDm+0dVfXczFzV1WY1H3weSCVgMLSrtpPqulqdPxl4GMglYHBTdG0t7cYB\\\n",
              "WxMwGFgzmdTBK69fOt61mzo5/vkIE0EmAYOBNc20jl6733/SSkTYmoDB0JqmZgd3ek91XWs/RNiS\\\n",
              "gMEIpjt7vcc3y7ndOGBLAgYDe/pE5v6ViJvFWXUbAYNtCBiMYDKd9S6nP//0V7VenI0wEeQRMBjB\\\n",
              "0Wt/XLP925eOrxen1foGBlsRMBjBdP/o6bcw4IUJGIxgtntYzRUBa9ergaeBTAIGI2gm0y8Wc/yW\\\n",
              "rmp9YTsp2IaAwY3S1fzzj8ceAiIIGIyhqTp8tX83jie//unAw0AmAYNRNLXfsx8isD0Bg5HsHvZv\\\n",
              "J1VVtpOCLQgYjGS2f6v3eLte2k4KtiBgMILeFYhf2Czn1a6XA04DmQQMbpj1/KQ2i4uxx4AbT8Bg\\\n",
              "JHu37/Y+VmXx5GGtzj8fYSLIImAwkp2jL9ds/2jsMSCWgMFIprv7NZnt9p7rus3A00AeAYORNJNZ\\\n",
              "NZNp77nVxcnA00AeAYORNE1zxWMtq1bn9kOEZxEwGNF097D3+JNf/2TgSSCPgMGI7nztzd7j67mn\\\n",
              "MsOzCBiMaKdnGf3/sZ0UXE/AYEQ7B7d7j3ftprrWSkS4joDBiJrJVU9lXtZmNR94GsgiYHADreen\\\n",
              "duOAZxAwGNHO4Z3avfXqpeOr889r+eSTESaCHAIGI5rtHV35OxhwPQGDEU1muzXdPeg911VnJSJc\\\n",
              "Q8BgRM10VpPZTu+5zeJ84Gkgi4DBiK57sOXSIg64loDBDTV/9GDsEeBGEzAY2e0/+lbv8bOHv6wq\\\n",
              "v4HBVQQMRrb/yr2qK/elB64iYDCyq/dD7GwnBdcQMBjZVasQ2826NouLgaeBHAIGo+u/fNhtVrVe\\\n",
              "WkoPVxEwGFkzndV07/KDLVcXJ3X+8JcjTAQZ+rfCBn5nm82m3n///Voul8944bKayVHN6rceYtm1\\\n",
              "9fOf/bQ+fLjd72CHh4f11ltvXXtvGfx/0nT2qoE/iLOzs3rjjTfq+Pj42tftzCb1N9/7Tv3Vt79+\\\n",
              "6dzfvvvv9U//8eFW7/fmm2/WBx98UJOJCyu8HHwDg5Gt1m2dXayq66o+X9+t4+XXq6m2Xt/7qA72\\\n",
              "fEThKj4dcAO0XVcPV1+rD06+U6tur6qq/mfxzdo5+s+aND+p1oUSuMS1BrgBFu1B/ejkL2rV7dfT\\\n",
              "VYlNzdtbdfcb363JtH+ZPbzsBAxugB9+9HEt1tNLx2ezg7JLB/QTMLgBjj99XDvN6aXj+9PTahqX\\\n",
              "D6GPgMENcHLyuP7s6F9rt/ukum5Tbbuq5ekv6rX5P1TT2U4K+rw0izietZQZft/Oz8+rbdutXvu/\\\n",
              "j8/q7/7+H+tk+S91Mb1f6/WmHvzq/frs8Se13mz3f6zX6zo+PraMnudy7969sUd4YS9NwN59992x\\\n",
              "R+Als1wu6+Jiu70M58t1/fP3P/riXz9+ofd7/Phxvffee25k5rm88847Y4/wwtzIDH8g297I/Pvi\\\n",
              "RmZeNv7SAYgkYABEEjAAIgkYAJEEDIBIAgZApJfmPjAY2nQ6rbfffrsePXo0yPvdv39/kPeBm8J9\\\n",
              "YABEcgkRgEgCBkAkAQMgkoABEEnAAIgkYABEEjAAIgkYAJEEDIBIAgZAJAEDIJKAARBJwACIJGAA\\\n",
              "RBIwACIJGACRBAyASAIGQCQBAyCSgAEQScAAiCRgAEQSMAAiCRgAkQQMgEgCBkAkAQMgkoABEEnA\\\n",
              "AIgkYABEEjAAIgkYAJEEDIBIAgZAJAEDIJKAARBJwACIJGAARBIwACIJGACRBAyASAIGQCQBAyCS\\\n",
              "gAEQScAAiCRgAEQSMAAiCRgAkQQMgEgCBkAkAQMgkoABEEnAAIgkYABEEjAAIgkYAJEEDIBIAgZA\\\n",
              "JAEDIJKAARBJwACIJGAARBIwACIJGACRBAyASAIGQCQBAyCSgAEQScAAiCRgAEQSMAAiCRgAkQQM\\\n",
              "gEgCBkAkAQMgkoABEEnAAIgkYABEEjAAIgkYAJEEDIBIvwGbo90HxrdaSwAAAABJRU5ErkJggg==\\\n",
              "\"\n",
              "  frames[11] = \"data:image/png;base64,iVBORw0KGgoAAAANSUhEUgAAAbAAAAEgCAYAAADVKCZpAAAAOXRFWHRTb2Z0d2FyZQBNYXRwbG90\\\n",
              "bGliIHZlcnNpb24zLjcuMSwgaHR0cHM6Ly9tYXRwbG90bGliLm9yZy/bCgiHAAAACXBIWXMAAAsT\\\n",
              "AAALEwEAmpwYAAAJsklEQVR4nO3dy44cZxnH4be6ew6ecRyiJMJEikEhAimWiMQVELHKlktA3EJW\\\n",
              "7BDXwA0kG3bABoHEBokNEhgFIwWUwAJIJsHE48y5D1UsnCAl3TOeCUnV/JnnkWbhryz3u7D1c3d9\\\n",
              "9XXTdV1XABBmNPQAAPBpCBgAkQQMgEgCBkAkAQMgkoABEEnAAIgkYABEEjAAIgkYAJEEDIBIAgZA\\\n",
              "JAEDIJKAARBJwACIJGAARBIwACIJGACRBAyASAIGQCQBAyCSgAEQScAAiCRgAEQSMAAiCRgAkQQM\\\n",
              "gEgCBkAkAQMgkoABEEnAAIgkYABEEjAAIgkYAJEEDIBIAgZAJAEDIJKAARBJwACIJGAARBIwACIJ\\\n",
              "GACRBAyASAIGQCQBAyCSgAEQScAAiCRgAEQSMAAiCRgAkQQMgEgCBkAkAQMgkoABEEnAAIgkYABE\\\n",
              "EjAAIgkYAJEEDIBIAgZAJAEDIJKAARBJwACIJGAARBIwACIJGACRBAyASAIGQCQBAyCSgAEQScAA\\\n",
              "iCRgAEQSMAAiCRgAkQQMgEgCBkAkAQMgkoABEEnAAIgkYABEEjAAIgkYAJEEDIBIAgZAJAEDIJKA\\\n",
              "ARBJwACIJGAARBIwACIJGACRBAyASAIGQCQBAyCSgAEQScAAiCRgAEQSMAAiCRgAkQQMgEgCBkAk\\\n",
              "AQMgkoABEEnAAIgkYABEEjAAIgkYAJEEDIBIAgZAJAEDIJKAARBJwACIJGAARBIwACIJGACRBAyA\\\n",
              "SAIGQCQBAyCSgAEQScAAiCRgAEQSMAAiCRgAkQQMgEgCBkAkAQMgkoABEGky9ABwlXRdV+18WovZ\\\n",
              "cbXT41rMjqu6rrae/nI1TTP0eBBFwKBH7979Vd3/6+9rMT3678/a1uP1wne+X+O1jaHHgygCBj06\\\n",
              "fv+d2t9582Nr47XNmh/vCxhckHtgMLD5yUEd3X976DEgjoBBj9ZvPFX1iXtd7Xxas4PdYQaCYAIG\\\n",
              "Pbr+xa9WMxqvvNZ1Xc/TQDYBgx6tXbtRVcu7DdvFrP9hIJyAQY/G65srt8vPDj+o8g4MLkTAoE+n\\\n",
              "POt1snfPR4hwQQIGPWqqVt4D23v7L9V1i/4HgmACBj0arW3W9ZvPr7jS+QgRLkjAoEfNaFxrW48v\\\n",
              "X+i6qq7tfyAIJmDQo2Y0rsnm9aX1rl3U7Hh/gIkgl4BBj5qmqdF4bWm9bec13bs3wESQS8DgEmhn\\\n",
              "J7W/89bQY0AUAYOebdx4qprR8jnatnDAxQgY9OzaE8/UaLL8MWJ1rWfB4AIEDHo22bxeTbP8T29+\\\n",
              "cmgnIlyAgEHPJhvbVSseZp4dfVBd62FmOC8Bg76dcpzU/s5btZhPex4GcgkYXBKLk8Oq1keIcF4C\\\n",
              "Bj1rRqO69sQzp1y1iQPOS8CgZ00zru2nb6240tX85Kj3eSCVgEHfmqYm124sLXddW7PD3f7ngVAC\\\n",
              "BgMYr20srXWLeT34+90BpoFMAgY9e/iNzKt3Ii6mx/0OA8EEDAYwGk9O3U7vNA44HwGDAWw//ZWa\\\n",
              "bD62tN7Op07jgHMSMBjAeHP74buwT5ifHFS7mA8wEeQRMBjAZH2rmhUBO3nwnvtgcE4CBgNoRuMP\\\n",
              "N3N83PEH79Vi5lkwOA8BAyCSgMEQmqqtJ1edxlHVzWc9DwOZBAwG0dTmqvMQu6rp4YP+x4FAAgYD\\\n",
              "Wd9aPk6qqqvpwf3eZ4FEAgYDmWxeX7m+9883ep4EMgkYDGDVDsSPtAv3wOA8BAwuma5rq3MaBzyS\\\n",
              "gMFANh57auXXqrTT44dHSgFnEjAYyNr2F2qyub20Pj85cBoHnIOAwUDG65s1mqwvrR/df7um++8P\\\n",
              "MBFkETAYSDOaVDMaL1/ouoc/wJkEDAbSNM0pX2tZNnHAOQgYDGi8vrVyfXa83/MkkEfAYEA3nr29\\\n",
              "cn12sNvvIBBIwGBAayu20VdV7b/7Vs+TQB4BgwGtXXts5bpdiPBoAgYDakbL38r8kc5ORDiTgMEl\\\n",
              "1C5mTuOARxAwGNDa1o1av/7k0no7O6nF9GiAiSCHgMGAJhvbK++DTfffr+MH7w0wEeQQMBjQaLJe\\\n",
              "4/VrS+vtfFqtd2BwJgGDATXjSY0mayuvdWUjB5xFwGBAZ36x5cyJ9HAWAYNLanr4YOgR4FITMBjY\\\n",
              "Y1/6+sr1492dnieBLAIGA9t84mbVinPp93feqod3woBVBAwGdtp5iMDZBAwGdtouxOra6haLfoeB\\\n",
              "IAIGg1u9E7FdzGt+ctDzLJBDwGBgzXhS443lL7ZczI7qZO/eABNBhtOPwgb+J4vFou7cuVPT6SMO\\\n",
              "5V1Mqxlt16Q+/m5rcXJYf/rdb6p94nxHSm1tbdWLL7545rNl8P+k6TzqD5+Lg4ODev7552tn5+zt\\\n",
              "8GuTUf3guy/Vt7/53NK1H7766/rZb/58rte7fft2vf766zUa+WCFq8E7MBjYbN7WwdGsuq7qwfyp\\\n",
              "2pk+V0219czGmzURIziVgMEl0HZd/Wv2bL2+91LNuo2qqnr75Gs12b5bTfOGMxFhBf+9g0vgpL1W\\\n",
              "f9z7Vs26zXq4K7Gp4/Z6PfPC92o8PmWbPVxxAgaXwB/efLdO5uOl9cnkWp22zR6uOgGDS2Dn37u1\\\n",
              "1uwvrW+O96tpfHwIqwgYXAJ7e7v1je1f1np3r7puUW07q+n+3+rp459U0zmNA1a5Mps4HrWVGT5r\\\n",
              "h4eH1bbtuX7ve7sH9aMf/7T2pr+oo/Gtms8X9c4/7tT7u/dqvjjfnzGfz2tnZ8c2ei7k5s2bQ4/w\\\n",
              "qV2ZgL366qtDj8AVM51O6+jo6Fy/93g6r5//9s0Pf3X3U73e7u5uvfbaax5k5kJeeeWVoUf41DzI\\\n",
              "DJ+T8z7I/FnxIDNXjb/pAEQSMAAiCRgAkQQMgEgCBkAkAQMg0pV5Dgz6Nh6P6+WXX6779+/38nq3\\\n",
              "bt3q5XXgsvAcGACRfIQIQCQBAyCSgAEQScAAiCRgAEQSMAAiCRgAkQQMgEgCBkAkAQMgkoABEEnA\\\n",
              "AIgkYABEEjAAIgkYAJEEDIBIAgZAJAEDIJKAARBJwACIJGAARBIwACIJGACRBAyASAIGQCQBAyCS\\\n",
              "gAEQScAAiCRgAEQSMAAiCRgAkQQMgEgCBkAkAQMgkoABEEnAAIgkYABEEjAAIgkYAJEEDIBIAgZA\\\n",
              "JAEDIJKAARBJwACIJGAARBIwACIJGACRBAyASAIGQCQBAyCSgAEQScAAiCRgAEQSMAAiCRgAkQQM\\\n",
              "gEgCBkAkAQMgkoABEEnAAIgkYABEEjAAIgkYAJEEDIBIAgZAJAEDIJKAARBJwACIJGAARBIwACIJ\\\n",
              "GACRBAyASAIGQCQBAyCSgAEQScAAiCRgAEQSMAAiCRgAkQQMgEgCBkCk/wAwweG+cDfrCgAAAABJ\\\n",
              "RU5ErkJggg==\\\n",
              "\"\n",
              "  frames[12] = \"data:image/png;base64,iVBORw0KGgoAAAANSUhEUgAAAbAAAAEgCAYAAADVKCZpAAAAOXRFWHRTb2Z0d2FyZQBNYXRwbG90\\\n",
              "bGliIHZlcnNpb24zLjcuMSwgaHR0cHM6Ly9tYXRwbG90bGliLm9yZy/bCgiHAAAACXBIWXMAAAsT\\\n",
              "AAALEwEAmpwYAAAJr0lEQVR4nO3dzY9ddR3H8e+59850+kwDSEER40NsxRX+BeqWBeFP8H9g5Ya4\\\n",
              "YeH/wIa1C2RjgrJjY9QIwQQIaEwDlKbCdDpP9/G4qJiUe2c6U+M588m8Xkk3v3Pb+03aybv3nt/9\\\n",
              "3aZt27YAIMyg7wEA4GEIGACRBAyASAIGQCQBAyCSgAEQScAAiCRgAEQSMAAiCRgAkQQMgEgCBkAk\\\n",
              "AQMgkoABEEnAAIgkYABEEjAAIgkYAJEEDIBIAgZAJAEDIJKAARBJwACIJGAARBIwACIJGACRBAyA\\\n",
              "SAIGQCQBAyCSgAEQScAAiCRgAEQSMAAiCRgAkQQMgEgCBkAkAQMgkoABEEnAAIgkYABEEjAAIgkY\\\n",
              "AJEEDIBIAgZAJAEDIJKAARBJwACIJGAARBIwACIJGACRBAyASAIGQCQBAyCSgAEQScAAiCRgAEQS\\\n",
              "MAAiCRgAkQQMgEgCBkAkAQMgkoABEEnAAIgkYABEEjAAIgkYAJEEDIBIAgZAJAEDIJKAARBJwACI\\\n",
              "JGAARBIwACIJGACRBAyASAIGQCQBAyCSgAEQScAAiCRgAEQSMAAiCRgAkQQMgEgCBkAkAQMgkoAB\\\n",
              "EEnAAIgkYABEEjAAIgkYAJEEDIBIAgZAJAEDIJKAARBJwACIJGAARBIwACIJGACRBAyASAIGQCQB\\\n",
              "AyCSgAEQScAAiCRgAEQSMAAiCRgAkQQMgEgCBkAkAQMgkoABEEnAAIgkYABEEjAAIgkYAJEEDIBI\\\n",
              "AgZAJAEDIJKAARBJwACIJGAARBIwACIJGACRBAyASAIGQCQBAyCSgAEQadT3AHCatG1bi9mk5tP9\\\n",
              "Wkz2az7dr2rbOvf4M9U0Td/jQRQBgw59/t4f6su//6Xmk73//lo7d7l+9OIva7h2pu/xIIqAQYf2\\\n",
              "v/istm9+dN/acG2jZvvbAgbH5B4Y9Gw23qm9Lz/tewyII2DQofVLj1V97V7XYjap6c5mPwNBMAGD\\\n",
              "Dl144nvVDIYrr7Vt2/E0kE3AoENrZy9V1fJuw8V82v0wEE7AoEPD9Y2V2+Wnu1tVXoHBsQgYdOmA\\\n",
              "z3qN7972FiIck4BBh5qqlffA7n76YbXtvPuBIJiAQYcGaxt14er3V1xpvYUIxyRg0KFmMKy1c5eX\\\n",
              "L7RtVbvofiAIJmDQoWYwrNHGhaX1djGv6f52DxNBLgGDDjVNU4Ph2tL6YjGryd3bPUwEuQQMToDF\\\n",
              "dFzbNz/uewyIImDQsTOXHqtmsHyOti0ccDwCBh07e+WpGoyW30asduGzYHAMAgYdG21cqKZZ/tGb\\\n",
              "jXftRIRjEDDo2OjM+aoVH2ae7m1Vu/BhZjgqAYOuHXCc1PbNj2s+m3Q8DOQSMDgh5uPdqoW3EOGo\\\n",
              "BAw61gwGdfbKUwdctYkDjkrAoGNNM6zzj397xZW2ZuO9zueBVAIGXWuaGp29tLTctoua7m52Pw+E\\\n",
              "EjDowXDtzNJaO5/VnRvv9TANZBIw6Ni9b2RevRNxPtnvdhgIJmDQg8FwdOB2eqdxwNEIGPTg/OPf\\\n",
              "qdHGxaX1xWziNA44IgGDHgw3zt97FfY1s/FOLeazHiaCPAIGPRitn6tmRcDGd265DwZHJGDQg2Yw\\\n",
              "/M9mjvvtb92q+dRnweAoBAyASAIGfWiqzj266jSOqnY27XgYyCRg0IumNladh9hWTXbvdD8OBBIw\\\n",
              "6Mn6ueXjpKramux82fkskEjAoCejjQsr1+9+8n7Hk0AmAYMerNqB+JXF3D0wOAoBgxOmbRfVOo0D\\\n",
              "HkjAoCdnLj628mtVFpP9e0dKAYcSMOjJ2vlHarRxfml9Nt5xGgccgYBBT4brGzUYrS+t7335aU22\\\n",
              "v+hhIsgiYNCTZjCqZjBcvtC2934BhxIw6EnTNAd8rWXZxAFHIGDQo+H6uZXr0/3tjieBPAIGPbr0\\\n",
              "9LMr16c7m90OAoEEDHq0tmIbfVXV9ucfdzwJ5BEw6NHa2Ysr1+1ChAcTMOhRM1j+VuavtHYiwqEE\\\n",
              "DE6gxXzqNA54AAGDHq2du1TrFx5dWl9MxzWf7PUwEeQQMOjR6Mz5lffBJttf1P6dWz1MBDkEDHo0\\\n",
              "GK3XcP3s0vpiNqmFV2BwKAGDHjXDUQ1GayuvtWUjBxxGwKBHh36x5dSJ9HAYAYMTarJ7p+8R4EQT\\\n",
              "MOjZxSd/uHJ9f/Nmx5NAFgGDnm1cuVq14lz67Zsf1707YcAqAgY9O+g8ROBwAgY9O2gXYrWLaufz\\\n",
              "boeBIAIGvVu9E3Exn9VsvNPxLJBDwKBnzXBUwzPLX2w5n+7V+O7tHiaCDAcfhQ38T27cuFE3btx4\\\n",
              "8APnk2oG52tU97/amo93629/frsWV452pNT169frypUrDzMqRBIw+D959dVX6+WXX37g49ZGg/rV\\\n",
              "L35aP3/uu0vXXnnllfrt2x8c6fneeOONev755487JsQSMOjZdLaonb1pTRfr9cn4B7U7v1yXR5/X\\\n",
              "k2f+UaOBd/nhIAIGJ8B4vl5/vfuz+tf0W9VWU01dr63ZN+qRi3+qpqlyJCIs8987OAE+2nuubk+f\\\n",
              "rrYGVdVUW8P65/6zNd34cQ0OOS8RTjMBgxNg3q7V17fTtzWon1x7poZDP6awip8MOAF2tm9V2y7u\\\n",
              "WxvUrC5vTA/4lBggYHACfPDub+qJwbvVtONq20VNx3fr8v7va7r1nvtfcIBTs4nj5k0ne9Ot7e3t\\\n",
              "Iz/29uZWvf76r2tz/s2a1sXa2bpRt26+X1u745rNFw/+A6pqc3PTv3OO7erVq32P8NBOTcBee+21\\\n",
              "vkfglHnnnXeO/Nj9yax+98cPq+rDh36+t956qz777LOH/v2cTi+99FLfIzy0UxOw5L8kMu3u7tab\\\n",
              "b77Z2fO9+OKLPsjMqeIeGACRBAyASAIGQCQBAyCSgAEQScAAiHRqttFD165du1YvvPBCZ8+X/IFU\\\n",
              "eBhN2zqoBoA83kIEIJKAARBJwACIJGAARBIwACIJGACRBAyASAIGQCQBAyCSgAEQScAAiCRgAEQS\\\n",
              "MAAiCRgAkQQMgEgCBkAkAQMgkoABEEnAAIgkYABEEjAAIgkYAJEEDIBIAgZAJAEDIJKAARBJwACI\\\n",
              "JGAARBIwACIJGACRBAyASAIGQCQBAyCSgAEQScAAiCRgAEQSMAAiCRgAkQQMgEgCBkAkAQMgkoAB\\\n",
              "EEnAAIgkYABEEjAAIgkYAJEEDIBIAgZAJAEDIJKAARBJwACIJGAARBIwACIJGACRBAyASAIGQCQB\\\n",
              "AyCSgAEQScAAiCRgAEQSMAAiCRgAkQQMgEgCBkAkAQMgkoABEEnAAIgkYABEEjAAIgkYAJEEDIBI\\\n",
              "AgZAJAEDIJKAARBJwACIJGAARBIwACIJGACRBAyASAIGQCQBAyDSvwFajccGIh3dIwAAAABJRU5E\\\n",
              "rkJggg==\\\n",
              "\"\n",
              "  frames[13] = \"data:image/png;base64,iVBORw0KGgoAAAANSUhEUgAAAbAAAAEgCAYAAADVKCZpAAAAOXRFWHRTb2Z0d2FyZQBNYXRwbG90\\\n",
              "bGliIHZlcnNpb24zLjcuMSwgaHR0cHM6Ly9tYXRwbG90bGliLm9yZy/bCgiHAAAACXBIWXMAAAsT\\\n",
              "AAALEwEAmpwYAAAJdUlEQVR4nO3dzW8cdx3H8e/sgx/quCktpWnVAhIRRRRx5UQluFdC3PhDKnHm\\\n",
              "LwH1ivgLQCgneiJCoqqgD4fSFoeQpk1ie9e7O8MhgIS8bjamzPiDX6/jby35e9jRWzM785um67qu\\\n",
              "ACDMaOgBAOA8BAyASAIGQCQBAyCSgAEQScAAiCRgAEQSMAAiCRgAkQQMgEgCBkAkAQMgkoABEEnA\\\n",
              "AIgkYABEEjAAIgkYAJEEDIBIAgZAJAEDIJKAARBJwACIJGAARBIwACIJGACRBAyASAIGQCQBAyCS\\\n",
              "gAEQScAAiCRgAEQSMAAiCRgAkQQMgEgCBkAkAQMgkoABEEnAAIgkYABEEjAAIgkYAJEEDIBIAgZA\\\n",
              "JAEDIJKAARBJwACIJGAARBIwACIJGACRBAyASAIGQCQBAyCSgAEQScAAiCRgAEQSMAAiCRgAkQQM\\\n",
              "gEgCBkAkAQMgkoABEEnAAIgkYABEEjAAIgkYAJEEDIBIAgZAJAEDIJKAARBJwACIJGAARBIwACIJ\\\n",
              "GACRBAyASAIGQCQBAyCSgAEQScAAiCRgAEQSMAAiCRgAkQQMgEgCBkAkAQMgkoABEEnAAIgkYABE\\\n",
              "EjAAIgkYAJEEDIBIAgZAJAEDIJKAARBJwACIJGAARBIwACIJGACRBAyASAIGQCQBAyCSgAEQScAA\\\n",
              "iCRgAEQSMAAiCRgAkQQMgEgCBkAkAQMgkoABEEnAAIgkYABEEjAAIgkYAJEEDIBIAgZAJAEDIJKA\\\n",
              "ARBJwACIJGAARBIwACIJGACRBAyASAIGQCQBAyCSgAEQScAAiDQZegC4TLquq3a1qHYxq9ViXu1i\\\n",
              "XqvFvLb3n6mtvaeGHg+iCBj06NYff1N33/99rRazh/E6Oa7VYl4vfu/H9dx3flhN0ww9IsQQMOjR\\\n",
              "7JO/1oODd0+tL4/vV1VXVQIGm/IbGFwAi+PPqrpu6DEgioBBj7b2n65ac5nw3odvV9euBpgIcgkY\\\n",
              "9Gjv2a9X04xPrXftqjpnYPBYBAx6NNnZX3sGBjw+AYMeTXavrL3TsOs6lxDhMQkY9KgZnb58WFVV\\\n",
              "7aqW88N+h4FwAgYXQNe1tZwJGDwOAYMejUbjmq7ZcaNdLmr26UH/A0EwAYMejSZb9cTTL55a79pl\\\n",
              "ze//fYCJIJeAQZ+aUU129oaeAv4vCBj0qBmNa7y9PmCeBYPHI2DQs9F4/Rakq/lRVdf2PA3kEjDo\\\n",
              "0cNnwNY/yLycH1bXChhsSsCgb2fsxHF89+NqV4ueh4FcAgY92792vUbT7VPr889uV7daDjARZBIw\\\n",
              "6Nl076mzd+QANiZg0LPJ9t7aHemrHu7IAWxGwKBno8nWGb+DdbU6Oep9HkglYHBBdF1bi+MHQ48B\\\n",
              "MQQMBrD2lSptW0d3PhhgGsgkYNCzZjSu/RdePv1B19bsrg19YVMCBj1rmlFt7T099BgQT8Cgb01T\\\n",
              "090rZ3zY2Q8RNiRgMIDRdGfters4sR8ibEjAoGfrbuD4l+XJUbV244CNCBgM4KyIreZHtpOCDQkY\\\n",
              "DGD3mZdqsua9YId//6CWc8+CwSYEDAYw3b1SzWTr1HrXLt3EARsSMBjAePuJM19sCWxGwGAA48l2\\\n",
              "Nc36w69dzHueBjIJGAyiWf9i5q5qcXy/92kgkYDBYNYffovjez3PAZkEDIbQNLX/wjfXfNDVvb+8\\\n",
              "1fs4kEjAYCBbe19au96uFj1PApkEDAYy3X1y6BEgmoDBQMbbT6xd79pVde2q52kgj4DBAJqmOXM7\\\n",
              "qXYxdxkRNiBgcMGsTo4f7koPfC4Bg4GMt/dqNNk+tX589+OaP7gzwESQRcBgIDtXn63p3lOn1rt2\\\n",
              "VdV6Jxg8ioDBQMbTnRpNpkOPAbEEDAYymm7XaHx6R/qqchcibEDAYCBNM6qzXs68mHknGDyKgMEF\\\n",
              "tJzZ0BceRcBgQNO9p9euH935qOdJII+AwYD2n7++dv34kw97ngTyCBgMyH6IcH4CBgOa7FxZ/0HX\\\n",
              "Vdd1/Q4DYQQMBtSMJmvX29Wy2qXtpODzCBhcQO3ypFaL2dBjwIUmYDCg8XS7xlu7p9aXs/u1OPy0\\\n",
              "/4EgiIDBgKZPXK2t/WdOrS9nDwQMHkHAYECjyVaNpztDjwGRBAwGNJpMzwxYV+5EhM8jYDCkZlTN\\\n",
              "aP1huDo57nkYyCJgMKDmrN18q2p5bD9E+DwCBoNbH7GjO3/peQ7IImAwsCdf/Pba9cPbH1SV38Dg\\\n",
              "LOu3AQD+KycnJ3Xz5s1arR79Ysru01s1rdPnYcfHR/Xm797cKGFXr16tV1555TyjQqymc5sTfOEO\\\n",
              "Dg7q+vXrdXh4+Mi//dZXv1w//+mPajT6z4S9/9e79ZOf/bI2OUJfffXVunHjxnnHhUjOwGBgs5Nl\\\n",
              "dVV1Z3Gt/jb/Wk2aZb2w8+cajz6t7em4ZiePPouDy0jA4AL4eH693j58tVb/PCQ/nn+jnq9f1ZXd\\\n",
              "7ZqdHA08HVxMbuKAgR2trtZbD75fq3//EtbUUftU/Wn2g7qyuz30eHBhCRgMrK2mVt3piyH7V56s\\\n",
              "l186vU8i8JCAwcBWy3nNju+eWt+bHNb2dDzARJBBwGBg9z47qPmHv6jd0b2qamtUq3pm+lF9d//G\\\n",
              "Wc84A3WJbuI4ODgYegQukdu3b2+8Ee+q7erGm7+tr7z3Xt1dPFejZllfnn5Uv25O6g/vbva9XSwW\\\n",
              "vuOcy7Vr14Ye4dwuTcDeeOONoUfgErl//34tl8uN//7mOwdV75w/QLdu3fId51xef/31oUc4Nw8y\\\n",
              "w//A4zzI/EXwIDOXkd/AAIgkYABEEjAAIgkYAJEEDIBIAgZApEvzHBj0aWdnp1577bWazWa9/D8v\\\n",
              "s+Qy8hwYAJFcQgQgkoABEEnAAIgkYABEEjAAIgkYAJEEDIBIAgZAJAEDIJKAARBJwACIJGAARBIw\\\n",
              "ACIJGACRBAyASAIGQCQBAyCSgAEQScAAiCRgAEQSMAAiCRgAkQQMgEgCBkAkAQMgkoABEEnAAIgk\\\n",
              "YABEEjAAIgkYAJEEDIBIAgZAJAEDIJKAARBJwACIJGAARBIwACIJGACRBAyASAIGQCQBAyCSgAEQ\\\n",
              "ScAAiCRgAEQSMAAiCRgAkQQMgEgCBkAkAQMgkoABEEnAAIgkYABEEjAAIgkYAJEEDIBIAgZAJAED\\\n",
              "IJKAARBJwACIJGAARBIwACIJGACRBAyASAIGQCQBAyCSgAEQScAAiCRgAEQSMAAiCRgAkQQMgEgC\\\n",
              "BkAkAQMgkoABEEnAAIgkYABEEjAAIgkYAJEEDIBIAgZAJAEDINI/AEPGxnfEwpDUAAAAAElFTkSu\\\n",
              "QmCC\\\n",
              "\"\n",
              "  frames[14] = \"data:image/png;base64,iVBORw0KGgoAAAANSUhEUgAAAbAAAAEgCAYAAADVKCZpAAAAOXRFWHRTb2Z0d2FyZQBNYXRwbG90\\\n",
              "bGliIHZlcnNpb24zLjcuMSwgaHR0cHM6Ly9tYXRwbG90bGliLm9yZy/bCgiHAAAACXBIWXMAAAsT\\\n",
              "AAALEwEAmpwYAAAJIklEQVR4nO3dy44cZxnH4bf6MAeP7WBHSQwBhESEBFGEd2GHkFijSNyEb8CX\\\n",
              "wQVELLNkixQ2sELECIlsMEJKMEkUKyaOEzv2jLunD8XCygKmJ25PTFX/M8+zrG6r34VHP1X3V9/X\\\n",
              "tG3bFgCEGfQ9AACchIABEEnAAIgkYABEEjAAIgkYAJEEDIBIAgZAJAEDIJKAARBJwACIJGAARBIw\\\n",
              "ACIJGACRBAyASAIGQCQBAyCSgAEQScAAiCRgAEQSMAAiCRgAkQQMgEgCBkAkAQMgkoABEEnAAIgk\\\n",
              "YABEEjAAIgkYAJEEDIBIAgZAJAEDIJKAARBJwACIJGAARBIwACIJGACRBAyASAIGQCQBAyCSgAEQ\\\n",
              "ScAAiCRgAEQSMAAiCRgAkQQMgEgCBkAkAQMgkoABEEnAAIgkYABEEjAAIgkYAJEEDIBIAgZAJAED\\\n",
              "IJKAARBJwACIJGAARBIwACIJGACRBAyASAIGQCQBAyCSgAEQScAAiCRgAEQSMAAiCRgAkQQMgEgC\\\n",
              "BkAkAQMgkoABEEnAAIgkYABEEjAAIgkYAJEEDIBIAgZAJAEDIJKAARBJwACIJGAARBIwACIJGACR\\\n",
              "BAyASAIGQCQBAyCSgAEQScAAiCRgAEQSMAAiCRgAkQQMgEgCBkAkAQMgkoABEEnAAIgkYABEEjAA\\\n",
              "IgkYAJEEDIBIAgZAJAEDIJKAARBJwACIJGAARBIwACIJGACRBAyASAIGQCQBAyCSgAEQScAAiCRg\\\n",
              "AEQSMAAiCRgAkQQMgEgCBkAkAQMgkoABEEnAAIgkYABEEjAAIgkYAJFGfQ8Ap0nbtrVczGo5m9Ri\\\n",
              "Nq3lbFqL2bS2zz1bW3vf6Hs8iCJg0KF//+339dmNv9ZiNnkUr8OHtZhN6zs/+WU9//LPqmmavkeE\\\n",
              "GAIGHZp8+lE9uPXukevz6UFVtVUlYLAuv4HBBlhM9x/1C1ibgEGXjrnBOvj0ZrXtottZIJyAQYfO\\\n",
              "XnqpmsHwyPXJZx9Vu1z2MBHkEjDo0PjMM+V3Lng6BAw6NNreq7LSEJ4KAYMODbfPrF4q31rBAU9K\\\n",
              "wKBDg9HWyutt29ZyNul4GsgmYLAB2nZZ88OHfY8BUQQMNkG7rIWAwRMRMOhQ0wxquH3myPXFbFIP\\\n",
              "bv2zh4kgl4BBhwbj7dp77ntHX2jbWvgNDJ6IgEGHmmZQw63dvseArwUBgw41TVOjraNfIX6htZwe\\\n",
              "1iZg0KVmUIOtnZUvtQt7IcKTEDDoUNM01TSr/+wWhwdVrf0QYV0CBhticfiwWgGDtQkYbIjD/bvV\\\n",
              "Ln2NCOsSMOjY7oVvVjMcH7m+//G/ajk77GEiyCRg0LHt88/VYDjqewyIJ2DQseHWbtUxCzmA9fkr\\\n",
              "go4Nt84cuxKxLc+BwboEDDo2GI2POdSyreVs2vk8kErAYEO0bVvz6X7fY0AMAYON0dZietD3EBBD\\\n",
              "wKAHzWB45Fq7XNT+Jx/0MA1kEjDoWDMc1fkXf3j0hbatw/t3uh8IQgkYdKyppsa7Z/seA+IJGHSt\\\n",
              "aWq4vdf3FBBPwKAHo2MOtWzbpTPBYE0CBh1rmubYnTgWs4kNfWFNAgYbZHkoYLAuAYMeNCt34vji\\\n",
              "Dmze8TSQScCgB7sXX1y5kGP/9vs1nzzoYSLII2DQg9HO3sojVdrl3CIOWJOAQQ+G452Vu3EA6xMw\\\n",
              "6MFgvFPN4JhDLd2AwVoEDHowGI6rGaxeyLGcO1IF1iFgsEnacqQKrEnAYMPMHakCaxEw6ENTNdo5\\\n",
              "t+KFtqb3Pu58HEgkYNCLps5eemnlK/u33+t2FAglYNCTkR3p4SsRMOiJgMFXI2DQk+H26iNVqm3t\\\n",
              "xgFrEDDoQdM01RxzpMpyfljtwoa+8DgCBhtmOT+s5WLW9xiw8QQMNszCHRisRcCgJ1tnL658Fmz6\\\n",
              "+e2aHdzrYSLIImDQk/Hu+ZULOZazSS3nhz1MBFkEDHoyGG/VYDjuewyIJWDQk8FoqxoBgxMTMOhJ\\\n",
              "MxhVMzhmKb1ViPBYAgY9aZqmVp8IVjWfOFIFHkfAYAM5EwweT8CgR81wtPL67OHnHU8CeQQMevTM\\\n",
              "t19eef3+zX90PAnkETDo0Wh31aGWVW277HgSyCNg0CNHqsDJrf4CHvhKbty4Ubdu3Xr8Gx/cqlVP\\\n",
              "gt2/f7/eeuuttY9VeeWVV+rcudV3c/B11bQOHoKn7sqVK/X6668/9n0//v4L9eurvzhy/fp7H9eV\\\n",
              "X/22prPFWp937dq1evXVV594TkjmDgw2wHS5UzcnP6jJcq8ujj+q8ehu7WyN1g4YnEYCBj2bLM7U\\\n",
              "2/d/Xnfnz1dVUx9MflTb82HtbP+u7u1P+x4PNpZFHNCj/cms/nL7ct2dv1CP/hybamtYB2d+Wuef\\\n",
              "Xb3EHnhEwKBHn9zbr/dvT6r+Z1OpwWBUzcBGv/BlBAx6NJ0tqpnfrar/Xks1bA5rPPD1IXwZAYMe\\\n",
              "Hc4W9d3xn+pb2+/WoGZV1dZW87Be3vtjXRitsQwfTrFTs4hjrWdy4Ck5ODhY632LZVu/+cPb9fzF\\\n",
              "G3Xn8MU6bHfr/OiT+vPwTr1789O1P+/OnTv+j3Mily5d6nuEEzs1AXvjjTf6HoFT5J133ln7vdf+\\\n",
              "/mFVfVhV10/8eW+++WZdv37yf8/pdfXq1b5HODEPMsP/wboPMj8tHmTmNPIbGACRBAyASAIGQCQB\\\n",
              "AyCSgAEQScAAiHRqngODLl2+fLlee+21zj7vwoULnX0WbArPgQEQyVeIAEQSMAAiCRgAkQQMgEgC\\\n",
              "BkAkAQMgkoABEEnAAIgkYABEEjAAIgkYAJEEDIBIAgZAJAEDIJKAARBJwACIJGAARBIwACIJGACR\\\n",
              "BAyASAIGQCQBAyCSgAEQScAAiCRgAEQSMAAiCRgAkQQMgEgCBkAkAQMgkoABEEnAAIgkYABEEjAA\\\n",
              "IgkYAJEEDIBIAgZAJAEDIJKAARBJwACIJGAARBIwACIJGACRBAyASAIGQCQBAyCSgAEQScAAiCRg\\\n",
              "AEQSMAAiCRgAkQQMgEgCBkAkAQMgkoABEEnAAIgkYABEEjAAIgkYAJEEDIBIAgZAJAEDIJKAARBJ\\\n",
              "wACIJGAARBIwACIJGACRBAyASAIGQCQBAyCSgAEQScAAiCRgAEQSMAAiCRgAkQQMgEgCBkAkAQMg\\\n",
              "koABEEnAAIgkYABE+g8fd5ml8qrB3QAAAABJRU5ErkJggg==\\\n",
              "\"\n",
              "  frames[15] = \"data:image/png;base64,iVBORw0KGgoAAAANSUhEUgAAAbAAAAEgCAYAAADVKCZpAAAAOXRFWHRTb2Z0d2FyZQBNYXRwbG90\\\n",
              "bGliIHZlcnNpb24zLjcuMSwgaHR0cHM6Ly9tYXRwbG90bGliLm9yZy/bCgiHAAAACXBIWXMAAAsT\\\n",
              "AAALEwEAmpwYAAAI40lEQVR4nO3dPW8lZxnH4XvmvNgb42RRlrAQKWlYCpAgEkUKClIh2pR8BDqa\\\n",
              "fApavkFEn3QgJISCUJIySrErRUIkm0S72cRZYnltn7ehiCiQ7fh415o5//i6ypljnbsZ/TTHM8/T\\\n",
              "dF3XFQCEaYceAAAeh4ABEEnAAIgkYABEEjAAIgkYAJEEDIBIAgZAJAEDIJKAARBJwACIJGAARBIw\\\n",
              "ACIJGACRBAyASAIGQCQBAyCSgAEQScAAiCRgAEQSMAAiCRgAkQQMgEgCBkAkAQMgkoABEEnAAIgk\\\n",
              "YABEEjAAIgkYAJEEDIBIAgZAJAEDIJKAARBJwACIJGAARBIwACIJGACRBAyASAIGQCQBAyCSgAEQ\\\n",
              "ScAAiCRgAEQSMAAiCRgAkQQMgEgCBkAkAQMgkoABEEnAAIgkYABEEjAAIgkYAJEEDIBIAgZAJAED\\\n",
              "IJKAARBJwACIJGAARBIwACIJGACRBAyASAIGQCQBAyCSgAEQScAAiCRgAEQSMAAiCRgAkQQMgEgC\\\n",
              "BkAkAQMgkoABEEnAAIgkYABEEjAAIgkYAJEEDIBIAgZAJAEDIJKAARBJwACIJGAARBIwACIJGACR\\\n",
              "BAyASAIGQCQBAyCSgAEQScAAiCRgAEQSMAAiCRgAkQQMgEgCBkAkAQMgkoABEEnAAIgkYABEEjAA\\\n",
              "IgkYAJEEDIBIAgZAJAEDIJKAARBJwACIJGAARBIwACIJGACRBAyASAIGQCQBAyCSgAEQScAAiCRg\\\n",
              "AEQSMAAiCRgAkQQMgEgCBkAkAQMgkoABEEnAAIgkYABEEjAAIgkYAJHGQw8AV8nhw3s1P3h44vj2\\\n",
              "9Zs13bne+zyQTMCgR/ff+2s9uPOPE8df+OVv67mfvlJN0wwwFWTyEyJsgOX8aOgRII6AwQZYzY+q\\\n",
              "um7oMSCKgMEGWM6OqkrA4CIEDHo0vrZbVSf/z3X81YPq3IHBhQgY9Gjney9W05687B59cbe61XKA\\\n",
              "iSCXgEGP2sl2nXYHBlycgEGPRtPtKo/Kw6UQMOjRaLI99AjwrSFg0KN2su1lZbgkAgY9Ou0Bjqqq\\\n",
              "rlvVajnveRrIJmCwCbquVvPjoaeAKAIGG6DrVgIGFyRgsAm6rpYCBhciYNCjth3X1u6NE8dXi1kd\\\n",
              "fvnpABNBLgGDHjWjSW0989yJ491qWbODLweYCHIJGPSoaZoaTbaGHgO+FQQM+tS21QoYXAoBgx41\\\n",
              "TVOjsdU44DIIGPSqqXY8Pf1U19lSBS5AwKBHTdOcuZjvajErm1rC+gQMNsRyfuQODC5AwGBDrObH\\\n",
              "Vd1q6DEghoDBhljOj92BwQUIGPTs2rPPVzOanDh+8ODftZrPBpgIMgkY9Gz61PVq29GJ48vjR35C\\\n",
              "hAsQMOhZO9mualx68KRcRdCz0WTLrsxwCQQMetZOttyBwSVwFUHP2tH4jJeZu+pWy97ngVQCBr07\\\n",
              "++dDm1rC+gQMNkTXdbWcHw49BsQQMNgY3dercQBrETAYwKlPIXZdLWeP+h8GQgkY9KxpR7X7g1sn\\\n",
              "jnerZe1/+sEAE0EmAYOeNU1T4+3vnHputZz3PA3kEjDoXVOjiV2Z4UkJGPStaaqdXht6CognYDCA\\\n",
              "0WTrzHO2VIH1CBgMoGnHpx7vVouqEjBYh4BBz75pId/VYlbdypYqsA4Bgw2yXMyshwhrEjDYIKv5\\\n",
              "rDqbWsJaBAwGcNaK9MvZo+qWiwEmgjwCBgN46sYLp77M/OiLj2txfDDARJBHwGAA7XhaTTM65Ywn\\\n",
              "EGFdAgYDaMfTalqXHzwJVxAMoJ1sVdOedgcGrEvAYADtaFJNc8blZyUOWIuAwQCapq06433m1WLW\\\n",
              "7zAQSsBgk3RVy/nR0FNABAGDDbOcHQ49AkQQMNgwy5k7MFiHgMEQmqrx9tOnnOhqtv9F7+NAIgGD\\\n",
              "QTS1e/NHp545+PzDnmeBTAIGA2mn20OPANEEDAYyml4begSIJmAwkNHEHRg8CQGDgbSTrdNPdF11\\\n",
              "VuOAcwkYDKBpmrMW4qjVcmFXZljDeOgB4Nvmzp07tbe3d+7n2q8+qtOW8/3Pw7169523qzt1u5X/\\\n",
              "1zRNvfTSS3Xtmv+ncfU0nd8q4FK9+uqr9cYbb5z7uV/9/MX6w+9+feL4+/+6X7//459r/9H5ayKO\\\n",
              "RqO6fft23bp163FGhWjuwGBgh8ud+uT4xzVfbdWN6cc1nezVZGSrFTiPgMFA9vYP6/7+Vn2w+E3t\\\n",
              "L79bVU19dPST+v72tJ7e+Vvt7VsTEb6JhzhgIJ99eVD/vPeL2l8+W19fik2talz3m1dqNfnhwNPB\\\n",
              "5hMwGMjxfFmHi5M/FS67Ua1cmnAuVwkMZDZf1qT76sTxaXtc42Y+wESQRcBgIMfzRd3afquem35Y\\\n",
              "bS2qalVb7UH9bPfvtTs6/zF8uOquzEMc9+7dG3oEroijo/X281quuvrTX96tZ3Zv1+ez52vRTev6\\\n",
              "+LN6Z/SwPvl8f+3ve/DgQe3u7j7uuFxxN2/eHHqEx3ZlAvb6668PPQJXxN27d9f+7Fvv/W/rlPcf\\\n",
              "67u6rqs333yzbty48Vh/D6+99trQIzw2LzLDJVv3RebL4EVmrjL/AwMgkoABEEnAAIgkYABEEjAA\\\n",
              "IgkYAJGuzHtg0JeXX365t+8ajUa1s7PT2/fBJvEeGACR/IQIQCQBAyCSgAEQScAAiCRgAEQSMAAi\\\n",
              "CRgAkQQMgEgCBkAkAQMgkoABEEnAAIgkYABEEjAAIgkYAJEEDIBIAgZAJAEDIJKAARBJwACIJGAA\\\n",
              "RBIwACIJGACRBAyASAIGQCQBAyCSgAEQScAAiCRgAEQSMAAiCRgAkQQMgEgCBkAkAQMgkoABEEnA\\\n",
              "AIgkYABEEjAAIgkYAJEEDIBIAgZAJAEDIJKAARBJwACIJGAARBIwACIJGACRBAyASAIGQCQBAyCS\\\n",
              "gAEQScAAiCRgAEQSMAAiCRgAkQQMgEgCBkAkAQMgkoABEEnAAIgkYABEEjAAIgkYAJEEDIBIAgZA\\\n",
              "JAEDIJKAARBJwACIJGAARBIwACIJGACRBAyASAIGQCQBAyCSgAEQScAAiCRgAEQSMAAiCRgAkQQM\\\n",
              "gEgCBkCk/wImpmeAzQ7lUAAAAABJRU5ErkJggg==\\\n",
              "\"\n",
              "  frames[16] = \"data:image/png;base64,iVBORw0KGgoAAAANSUhEUgAAAbAAAAEgCAYAAADVKCZpAAAAOXRFWHRTb2Z0d2FyZQBNYXRwbG90\\\n",
              "bGliIHZlcnNpb24zLjcuMSwgaHR0cHM6Ly9tYXRwbG90bGliLm9yZy/bCgiHAAAACXBIWXMAAAsT\\\n",
              "AAALEwEAmpwYAAAIV0lEQVR4nO3dT4skdx3H8W91z+zsLLPJRpfdPXiQgIeAHsx9vIsPQJ+GhzwA\\\n",
              "8Rl48CzsLXgUvAQEjQhCEEIkB0nwD4v7RyL7P+501c/DKrLMJFsz21TVx3m9TkN1T/f3MrznV12/\\\n",
              "6q611goAwqzmHgAAzkLAAIgkYABEEjAAIgkYAJEEDIBIAgZAJAEDIJKAARBJwACIJGAARBIwACIJ\\\n",
              "GACRBAyASAIGQCQBAyCSgAEQScAAiCRgAEQSMAAiCRgAkQQMgEgCBkAkAQMgkoABEEnAAIgkYABE\\\n",
              "EjAAIgkYAJEEDIBIAgZAJAEDIJKAARBJwACIJGAARBIwACIJGACRBAyASAIGQCQBAyCSgAEQScAA\\\n",
              "iCRgAEQSMAAiCRgAkQQMgEgCBkAkAQMgkoABEEnAAIgkYABEEjAAIgkYAJEEDIBIAgZAJAEDIJKA\\\n",
              "ARBJwACIJGAARBIwACIJGACRBAyASAIGQCQBAyCSgAEQScAAiCRgAEQSMAAiCRgAkQQMgEgCBkAk\\\n",
              "AQMgkoABEEnAAIgkYABEEjAAIgkYAJEEDIBIAgZAJAEDIJKAARBJwACIJGAARBIwACIJGACRBAyA\\\n",
              "SAIGQCQBAyCSgAEQScAAiCRgAEQSMAAiCRgAkQQMgEgCBkAkAQMgkoABEEnAAIgkYABEEjAAIgkY\\\n",
              "AJEEDIBIAgZAJAEDIJKAARBJwACIJGAARBIwACIJGACRBAyASAIGQCQBAyCSgAEQScAAiCRgAEQS\\\n",
              "MAAiCRgAkQQMgEgCBkAkAQMgkoABEEnAAIgkYABEEjAAIgkYAJEEDIBIO3MPAOfJ0G/q0Z1Pq9rw\\\n",
              "wvFuvVMH196sbuV/ShhLwGBCm389rj/98ic1bJ69cHx3/7X61g9+XOsL+zNNBnn8uwcL0KrV0Pdz\\\n",
              "jwFRBAyWoLVqw9HcU0AUAYOFaP1m7hEgioDBArTWahAwOBUBgyVordogYHAaAgaLYAUGpyVgsACt\\\n",
              "NZ+BwSkJGExotdqpvctXjx1v/VF9fv/uDBNBLgGDCXXrnbpw+avHjrehr2eP/znDRJBLwGBCXdfV\\\n",
              "ar079xjwf0HAYFJddWt3cINtEDCYUidgsC0CBhNbrQQMtkHAYEKdFRhsjYDBlLquVgIGWyFgMKkv\\\n",
              "X4G11iacBbIJGEyo67rquvXJDw7DyceBEwkYLMQwbKrKCgzGEjBYiNZv9AtOQcBgIYZ+U03BYDQB\\\n",
              "g4Vow1GVizhgNAGDhXj+fWACBmMJGCzE88/ABAzGEjBYiNZv7AODUxAwmNjFK9dP3Mz85LNb1fqj\\\n",
              "GSaCTAIGE9u9dKW61fHNzJunD6vZzAyjCRhMbLXeqa66uceAeAIGE+vWO1WdgMGrEjCY2PPvAxMw\\\n",
              "eFUCBhOzAoPtEDCYWLfeqU7A4JUJGExstd4tpxDh1QkYTKxb7egXbIGAwcS61aq+qGCt2QcGYwkY\\\n",
              "LEarwZ04YDQBgwVp/WbuESCGgMFCtGYFBqchYLAgVmAwnoDBYliBwWkIGCxFswKD0xAwWBArMBhP\\\n",
              "wGBqXVfrC/vHDrc21ObpoxkGgkwCBhPrVus6uP7m8QfaUI/v/XnyeSCVgMHEuvrv/RCBVyFgMINu\\\n",
              "vTP3CBBPwGBynRUYbIGAwdQ6KzDYBgGDyVmBwTYIGMxAwODVCRjM4MtOIbbWJpwEcgkYzKBbrU88\\\n",
              "7gstYTwBg4l13cnfxlxV1Ya+ygoMRhEwWJA29FZhMJKAwYK0fmMFBiMJGCzIMGxcxAEjCRgsSBv6\\\n",
              "qnIKEcYQMFiQ1luBwVgCBgvy/CpEKzAYQ8BgBuu9/RP3gm2ePqphs5lhIsjjjqKwRR999FE9ePDg\\\n",
              "5U98+lntdLvVVf/i4ft36oPf/67a3msvfYn1el1vv/127e66LRXnU9eccIetOTw8rPfff/+lz/v6\\\n",
              "jSv10x9+r66+fumF4/0w1Pd/9PP66537L32Ng4OD+uSTT+ratWtnnheSWYHBDI42fQ1Dq8f9a3Xr\\\n",
              "829UXzt1/cJf6vX13+ceDWIIGMzgqB/q/uaN+vj+d+vJ8Px04d8+f6veuvTrqvriW00B/+MiDpjB\\\n",
              "0abVhw++U0+G1+t5sLrq24X646PDetJfnns8iCBgMIOjvq9n/fETIH3bqebPEkbxlwIz2GyG2use\\\n",
              "Hjt+YfW01uUyehhDwGAGm76vbx78qr6ye6u66qurofZXD+rbl9+ri+tHc48HEc7NRRy3b9+eewTO\\\n",
              "gWfPno163qYf6me/+E1dvPiH+sfR12po63pj93b9dvWwPnvwdNRrtNbq3r17NQzu3MHZ3bhxY+4R\\\n",
              "zuzcBOzmzZtzj8A5cPfu3dHPfe+DT//z04dneq+jo6N699136+Dg4Ey/D1VV77zzztwjnJmNzLBF\\\n",
              "Yzcyb4ONzJx3PgMDIJKAARBJwACIJGAARBIwACIJGACRzs0+MJjC4eFhXb16dZL32t/fr729vUne\\\n",
              "C5bIPjAAIjmFCEAkAQMgkoABEEnAAIgkYABEEjAAIgkYAJEEDIBIAgZAJAEDIJKAARBJwACIJGAA\\\n",
              "RBIwACIJGACRBAyASAIGQCQBAyCSgAEQScAAiCRgAEQSMAAiCRgAkQQMgEgCBkAkAQMgkoABEEnA\\\n",
              "AIgkYABEEjAAIgkYAJEEDIBIAgZAJAEDIJKAARBJwACIJGAARBIwACIJGACRBAyASAIGQCQBAyCS\\\n",
              "gAEQScAAiCRgAEQSMAAiCRgAkQQMgEgCBkAkAQMgkoABEEnAAIgkYABEEjAAIgkYAJEEDIBIAgZA\\\n",
              "JAEDIJKAARBJwACIJGAARBIwACIJGACRBAyASAIGQCQBAyCSgAEQScAAiCRgAEQSMAAiCRgAkQQM\\\n",
              "gEgCBkAkAQMgkoABEEnAAIgkYABEEjAAIgkYAJEEDIBIAgZApH8DdrRsrHTFcZcAAAAASUVORK5C\\\n",
              "YII=\\\n",
              "\"\n",
              "  frames[17] = \"data:image/png;base64,iVBORw0KGgoAAAANSUhEUgAAAbAAAAEgCAYAAADVKCZpAAAAOXRFWHRTb2Z0d2FyZQBNYXRwbG90\\\n",
              "bGliIHZlcnNpb24zLjcuMSwgaHR0cHM6Ly9tYXRwbG90bGliLm9yZy/bCgiHAAAACXBIWXMAAAsT\\\n",
              "AAALEwEAmpwYAAAGMUlEQVR4nO3bwYqVZRzA4feMEyOGQhQymaDgtHGZbbsDCe9B5hK8kbZOKy9h\\\n",
              "oCuIBEFcFKiRCxXMialQszo0w9eqRdliHGxOv5nnWb5853v/iwM/eM95Z9M0TQMAYpYWPQAA7IeA\\\n",
              "AZAkYAAkCRgASQIGQJKAAZAkYAAkCRgASQIGQJKAAZAkYAAkCRgASQIGQJKAAZAkYAAkCRgASQIG\\\n",
              "QJKAAZAkYAAkCRgASQIGQJKAAZAkYAAkCRgASQIGQJKAAZAkYAAkCRgASQIGQJKAAZAkYAAkCRgA\\\n",
              "SQIGQJKAAZAkYAAkCRgASQIGQJKAAZAkYAAkCRgASQIGQJKAAZAkYAAkCRgASQIGQJKAAZAkYAAk\\\n",
              "CRgASQIGQJKAAZAkYAAkCRgASQIGQJKAAZAkYAAkCRgASQIGQJKAAZAkYAAkCRgASQIGQJKAAZAk\\\n",
              "YAAkCRgASQIGQJKAAZAkYAAkCRgASQIGQJKAAZAkYAAkCRgASQIGQJKAAZAkYAAkCRgASQIGQJKA\\\n",
              "AZAkYAAkCRgASQIGQJKAAZAkYAAkCRgASQIGQJKAAZAkYAAkCRgASQIGQJKAAZAkYAAkCRgASQIG\\\n",
              "QJKAAZAkYAAkCRgASQIGQJKAAZAkYAAkCRgASQIGQJKAAZAkYAAkCRgASQIGQJKAAZAkYAAkCRgA\\\n",
              "SQIGQJKAAZAkYAAkCRgASQIGQJKAAZAkYAAkCRgASQIGQJKAAZAkYAAkCRgASQIGQJKAAZAkYAAk\\\n",
              "CRgASQIGQJKAAZC0vOgB4KiZP98e8xfbr6yvnHpvrJx8bwETQZOAwQHb/vbmeHJ785X1Mx9/Oj64\\\n",
              "dHkBE0GTI0QAkgQMgCQBAyBJwABIEjAAkgQMgCQBAyBJwABIEjAAkgQMgCQBAyBJwABIEjAAkgQM\\\n",
              "gCQBAyBJwABIEjAAkgQMgCQBAyBJwABIEjAAkgQMgCQBAyBJwABIEjAAkgQMgCQBAyBJwABIEjAA\\\n",
              "kgQMgCQBAyBJwABIEjAAkgQMgCQBAyBJwABIEjAAkgQMgCQBAyBJwABIEjAAkgQMgCQBAyBJwABI\\\n",
              "EjAAkgQMgCQBAyBJwABIEjAAkgQMgCQBAyBJwABIEjAAkgQMgCQBAyBJwABIEjAAkgQMgCQBAyBp\\\n",
              "edEDwGGwtbU1Hjx4sKdnl7Yej2P/sv748ePxcP7Vnt6xtrY2Tp8+/RoTwuEjYPAGbG5ujvX19T09\\\n",
              "u375o7F++dIr6xvXr4/Pv7izp3dsbGyMq1evvtaMcNgIGCzA7rQ8nswvjBc7746Tyz+OMyvfLXok\\\n",
              "yBEwOGC70/L45pdPxvfzC2MaszEb0/jpj/fH7nR70aNBij9xwAF7+NvF8WS+NqaxNMaYjWksjSfz\\\n",
              "D8ej3y8uejRIETA4YLvjrTHG7B+rs7E7ORCB1yFgcMCOL70cs7H7t7XZ2B0rS78uaCJoEjA4YGdX\\\n",
              "7o8LJ+6M5dl8jDGN5dl8rJ24M84ev7/o0SDlyJxZPH36dNEjcIg9f/58z89++fXDsf3ss/Hzzup4\\\n",
              "uXtqvH3s2XhneWvcffjDa+3nO82bsLq6uugR9u3IBOzGjRuLHoFD7NatW3t+9t6j7XHv0fYY4+6+\\\n",
              "97t58+bY2dnZ9+fhL9euXVv0CPs2m6ZpWvQQULexsbHni8xvaj8XmTnq/AYGQJKAAZAkYAAkCRgA\\\n",
              "SQIGQJKAAZB0ZO6BwX/p/Pnz48qVKwe237lz5w5sL/i/cg8MgCRHiAAkCRgASQIGQJKAAZAkYAAk\\\n",
              "CRgASQIGQJKAAZAkYAAkCRgASQIGQJKAAZAkYAAkCRgASQIGQJKAAZAkYAAkCRgASQIGQJKAAZAk\\\n",
              "YAAkCRgASQIGQJKAAZAkYAAkCRgASQIGQJKAAZAkYAAkCRgASQIGQJKAAZAkYAAkCRgASQIGQJKA\\\n",
              "AZAkYAAkCRgASQIGQJKAAZAkYAAkCRgASQIGQJKAAZAkYAAkCRgASQIGQJKAAZAkYAAkCRgASQIG\\\n",
              "QJKAAZAkYAAkCRgASQIGQJKAAZAkYAAkCRgASQIGQJKAAZAkYAAkCRgASQIGQJKAAZAkYAAkCRgA\\\n",
              "SQIGQJKAAZAkYAAkCRgASQIGQJKAAZAkYAAkCRgASQIGQJKAAZAkYAAkCRgASQIGQJKAAZAkYAAk\\\n",
              "/Qlpw5IAAa8nBwAAAABJRU5ErkJggg==\\\n",
              "\"\n",
              "  frames[18] = \"data:image/png;base64,iVBORw0KGgoAAAANSUhEUgAAAbAAAAEgCAYAAADVKCZpAAAAOXRFWHRTb2Z0d2FyZQBNYXRwbG90\\\n",
              "bGliIHZlcnNpb24zLjcuMSwgaHR0cHM6Ly9tYXRwbG90bGliLm9yZy/bCgiHAAAACXBIWXMAAAsT\\\n",
              "AAALEwEAmpwYAAAIY0lEQVR4nO3dT69Udx3H8e+ZuRcEhCgxgLoxahqjwcaVaaJb12z1GfAAWLhz\\\n",
              "42OQnQuegDsSV8aYWmqicdE2tpWkjaRogKAFLr0zc44LiAYumDmX8XfmA6/X8peB+S44eXN+c/50\\\n",
              "wzAMBQBhZlMPAACHIWAARBIwACIJGACRBAyASAIGQCQBAyCSgAEQScAAiCRgAEQSMAAiCRgAkQQM\\\n",
              "gEgCBkAkAQMgkoABEEnAAIgkYABEEjAAIgkYAJEEDIBIAgZAJAEDIJKAARBJwACIJGAARBIwACIJ\\\n",
              "GACRBAyASAIGQCQBAyCSgAEQScAAiCRgAEQSMAAiCRgAkQQMgEgCBkAkAQMgkoABEEnAAIgkYABE\\\n",
              "EjAAIgkYAJEEDIBIAgZAJAEDIJKAARBJwACIJGAARBIwACIJGACRBAyASAIGQCQBAyCSgAEQScAA\\\n",
              "iCRgAEQSMAAiCRgAkQQMgEgCBkAkAQMgkoABEEnAAIgkYABEEjAAIgkYAJEEDIBIAgZAJAEDIJKA\\\n",
              "ARBJwACIJGAARBIwACIJGACRBAyASAIGQCQBAyCSgAEQScAAiCRgAEQSMAAiCRgAkQQMgEgCBkAk\\\n",
              "AQMgkoABEEnAAIgkYABEEjAAIgkYAJEEDIBIAgZAJAEDIJKAARBJwACIJGAARBIwACIJGACRBAyA\\\n",
              "SAIGQCQBAyCSgAEQScAAiCRgAEQSMAAiCRgAkQQMgEgCBkAkAQMgkoABEEnAAIgkYABEEjAAIgkY\\\n",
              "AJEEDIBIAgZAJAEDIJKAARBJwACIJGAARBIwACIJGACRBAyASAIGQKSdqQeAV83Q93XvH9drWC2f\\\n",
              "WO+6WZ04+/WazR2WsA5HCjS2WjysD3/9i1ruffrE+mznaH33xz+v2fFTE00GWWwhQmP9alE1DFOP\\\n",
              "AfEEDBoblosaBAxemIBBY/1qUVUCBi9KwKAxW4iwGQIGjdlChM0QMGhs8fBe1dAfWJ/tHq3qugkm\\\n",
              "gkwCBo09uPVx9cv9A+snznytZjtHJpgIMgkYbInZfLc6Z2CwNgGDLTGb79pChBEEDLbEbGe3qgQM\\\n",
              "1iVgsCW6nSO2EGEEAYMtYQsRxhEwaOjR/V/PvgdsNreFCGMIGDT29GtU/qPrbCHCCAIGLQ1DrVaL\\\n",
              "qaeAl4KAQUPD0NewFDDYBAGDpobHT6MHXpSAQUvDUL0zMNgIAYOGhmGoYXXwOYjAeAIGDQ2rRe3d\\\n",
              "vXlgvZvt1NFTX5pgIsglYNBQ369qcf/ugfXZfKeOnhQwGEPAYBt03eMbmYF1CRhsg657/DBfYF0C\\\n",
              "Blug62bVOQODUQQMtkLnbcwwkoDBNvAbGIwmYNDS0D9zueu66mbzxsNANgGDhjyFAzZHwKChfrn/\\\n",
              "+J1gwIsSMGioX3qMFGyKgEFDj7YQnYHBJggYNNSv9vULNkTAoKF+8Vk9u2BdVde1HgeiCRg09Okn\\\n",
              "H9TQrw6sf/7L36yuczjCGI4YaGhYLZ+5vnPkeHXOwGAUAYMt8OgxUgIGYwgYbAHPQYTxBAy2wGxn\\\n",
              "1wkYjCRgsAVsIcJ4AgaN/K9HSNlChPEEDJoZahgOXkJf9fiFlq5ChFEEDBoZhqH651xGD4wnYNBK\\\n",
              "31e/8joV2BQBg0aGoX/ujczAeAIGrQgYbJSAQSOPfgOzhQibImDQSL9a1PLhvQPr3Wxe8yPHJpgI\\\n",
              "sgkYNLL6bK8e/vPvB9bnR0/U575wboKJIJuAwcS6rqvZfHfqMSCOgMHEum5W3Xxn6jEgjoDB1AQM\\\n",
              "DkXAYGLdbGYLEQ5BwGBq3axmzsBgNAGDZp79NPqu66qbCRiMJWDQSL9aPK9hXgUGhyBg0Ei/3J96\\\n",
              "BHipCBg00i8EDDZJwKARZ2CwWQIGjTwK2PN+BAPGcukTvIDr16/XzZs31/rs/O6H1dXB6zX29vbq\\\n",
              "rd+/tVbazp8/XydPnhw7JryUumEY/JcQDunixYt1+fLltT7705/8oC788FvVdU8m7Oq1D+pnv/zN\\\n",
              "WgF7880364033jjEpPDycQYGjXzx1LHaH47Vjb3X6mF/ok7vflJnjnxcN2/fs7EIhyBg0Mhn/fH6\\\n",
              "479+VHeXZ6qqq48ffru+cfxPtbd4e+rRIJKLOKCRv9z/ft1dnq1Hh11XQ83rrw++VzfunZ16NIgk\\\n",
              "YNDIctitpy/hGGpeD/ZtIMJhCBg0cmx+r56+jH7e7ddqcX+agSCcgEEjrx3/Q33l6Ic1r0VVDXWk\\\n",
              "26vvnPhdHRv+NvVoEOmVuYhj3Xt1YIwHDx6s/dlf/fbPdfadj+r24qu13x+rUzu36tr8dr330a21\\\n",
              "/447d+74t8xGnTt3buoRDu2VCdiVK1emHoGX0Pvvv7/2Z6+9d6OqblTVO4f+vqtXr9a777576D8P\\\n",
              "T7t06dLUIxyaG5nhBYy5kXkT3MgM/+U3MAAiCRgAkQQMgEgCBkAkAQMgkoABEOmVuQ8M/h9ef/31\\\n",
              "unDhQrPvO336dLPvgm3nPjAAItlCBCCSgAEQScAAiCRgAEQSMAAiCRgAkQQMgEgCBkAkAQMgkoAB\\\n",
              "EEnAAIgkYABEEjAAIgkYAJEEDIBIAgZAJAEDIJKAARBJwACIJGAARBIwACIJGACRBAyASAIGQCQB\\\n",
              "AyCSgAEQScAAiCRgAEQSMAAiCRgAkQQMgEgCBkAkAQMgkoABEEnAAIgkYABEEjAAIgkYAJEEDIBI\\\n",
              "AgZAJAEDIJKAARBJwACIJGAARBIwACIJGACRBAyASAIGQCQBAyCSgAEQScAAiCRgAEQSMAAiCRgA\\\n",
              "kQQMgEgCBkAkAQMgkoABEEnAAIgkYABEEjAAIgkYAJEEDIBIAgZAJAEDIJKAARBJwACIJGAARBIw\\\n",
              "ACIJGACRBAyASAIGQCQBAyCSgAEQScAAiCRgAEQSMAAiCRgAkQQMgEgCBkAkAQMg0r8BpXBZBn16\\\n",
              "vvoAAAAASUVORK5CYII=\\\n",
              "\"\n",
              "  frames[19] = \"data:image/png;base64,iVBORw0KGgoAAAANSUhEUgAAAbAAAAEgCAYAAADVKCZpAAAAOXRFWHRTb2Z0d2FyZQBNYXRwbG90\\\n",
              "bGliIHZlcnNpb24zLjcuMSwgaHR0cHM6Ly9tYXRwbG90bGliLm9yZy/bCgiHAAAACXBIWXMAAAsT\\\n",
              "AAALEwEAmpwYAAAJCklEQVR4nO3dzYtddx3H8e859955SB8kadS0Yi3ZCCrUhasWFNwL/RvclK6l\\\n",
              "/0rBlUi3IuJO3BaCC1epRVOpjbSaPk3TTGYmM/fhuIi66L2xc2+dc/KZvF4wBH5zyf0u5vBm5p7f\\\n",
              "+TVd13UFAGHaoQcAgE0IGACRBAyASAIGQCQBAyCSgAEQScAAiCRgAEQSMAAiCRgAkQQMgEgCBkAk\\\n",
              "AQMgkoABEEnAAIgkYABEEjAAIgkYAJEEDIBIAgZAJAEDIJKAARBJwACIJGAARBIwACIJGACRBAyA\\\n",
              "SAIGQCQBAyCSgAEQScAAiCRgAEQSMAAiCRgAkQQMgEgCBkAkAQMgkoABEEnAAIgkYABEEjAAIgkY\\\n",
              "AJEEDIBIAgZAJAEDIJKAARBJwACIJGAARBIwACIJGACRBAyASAIGQCQBAyCSgAEQScAAiCRgAEQS\\\n",
              "MAAiCRgAkQQMgEgCBkAkAQMgkoABEEnAAIgkYABEEjAAIgkYAJEEDIBIAgZAJAEDIJKAARBJwACI\\\n",
              "JGAARBIwACIJGACRBAyASAIGQCQBAyCSgAEQScAAiCRgAEQSMAAiCRgAkQQMgEgCBkAkAQMgkoAB\\\n",
              "EEnAAIgkYABEEjAAIgkYAJEEDIBIAgZAJAEDIJKAARBJwACIJGAARBIwACIJGACRBAyASAIGQCQB\\\n",
              "AyCSgAEQScAAiCRgAEQSMAAiCRgAkQQMgEgCBkAkAQMgkoABEEnAAIgkYABEEjAAIgkYAJEEDIBI\\\n",
              "AgZAJAEDIJKAARBJwACIJGAARBIwACIJGACRBAyASAIGQCQBAyCSgAEQaTz0APAoOjm4XSd3P6l2\\\n",
              "slOjyU6Ntu7/27SjoUeDGAIGPeu6rvbe+WO994df12hr979fk90n6uqPf1rj7ceGHhEiCBj0rqv5\\\n",
              "8UF182nNjqY1O7pTVVXteLu6+Xzg2SCHz8Cgb11Xs+PDoaeAeAIGPeu6RR3tvT/0GBBPwKBn3WJR\\\n",
              "R5/+c2l9vPt4Na1LEk7L1QIPiQtPPVvteGvoMSCGgMFDYrS1U9U0Q48BMQQM+tZ1K5dHk51qGpck\\\n",
              "nJarBXo2n96r6hZL66Ot3SoBg1NztUDP5idH1a0IWDOyLRPWIWDQs/nJUdViOWBVVY3PwODUBAx6\\\n",
              "dvfWX2s+Ox56DIgnYNCz+fT4gTdyAKcnYPAQaEaT2r349NBjQBQBgx51XVdVy799taNxbT9xuf+B\\\n",
              "IJiAQc+6xYonzjft/Y3MwKkJGPSpW9Ts5GhpuWnaGk12BxgIcgkY9KhbLGp+vCpgTbWT7QEmglwC\\\n",
              "Bj3qFvOaHt5e/ob9X7A2AYMezWfHdfDh34YeA84FAQMgkoDBQ2Dr8UueRA9rcsVAnx7wBI4LT33T\\\n",
              "acywJlcM9GjxgMdIjbZ2q8qNHLAOAYMezY4PVjyH4z9ngQkYrEPAoEez48P/8RsYsA4Bgx4dfnyz\\\n",
              "um75UVKtwyxhbQIGPTrZ33vgjRwOs4T1CBgAkQQMgEgCBj3pum7l51+j7Qu14zBLWJuAQU+6xbzm\\\n",
              "0+Ol9Xa8VZPdJweYCLIJGPSkW8xrMb23tN40oxo5SgXWJmDQk24xq9nJioC1I2eBwQYEDHoyO7pb\\\n",
              "hx//fWm9adtqR1sDTATZBAx60nVddYvZ6m/aAgZrEzAAIgkY9Gb1EziAzQgY9GQxO1nZsPt7wPwN\\\n",
              "EdYlYNCT2fHByvXdi8/0PAmcDwIGPZndWx0wR6nAZgQMenJ856Na9TfE8faF/oeBc0DAoCcHH727\\\n",
              "ct1vYLAZAYOBNe3YWWCwAQEDIJKAQQ+6rqvqFkOPAeeKgEEPuvmsFrPp0GPAuSJg0IPFfHp/I/Pn\\\n",
              "TB67WDtf+doAE0E+AYMedPNpzWfLh1mOJtvuQoQNCRj04OTwszq+8/HSejMaVzt2lApsQsCgB4vZ\\\n",
              "dOVpzG07rnY8GWAiyCdgMKCmHVXTjoceAyIJGAypKZuYYUMCBj1YdQci8OUIGPRg/oCjVIDNCRj0\\\n",
              "4EFngV24/K2eJ4HzQ8CgB9PDOyvXd560iRk2JWDQg/1//GXl+mjbJmbYlIBBD7puvnJ9tOUwS9iU\\\n",
              "gMGAPEYKNmcHJWxgf3+/rl+/fqrXNk1To/39WrXb609vvVXdu8uPmPq8K1eu1NWrV9ecEs43AYMN\\\n",
              "vPnmm/Xiiy+e6rXbk1H9/Gc/qe8899Wl77388st1/Z0Pv/D/eOWVV+q1115be044zwQMztjO1rgm\\\n",
              "40ndOn6u9qZP1057UN/YuVHb7fKzEYHTEzA4YzvbW/Xe7Ad1vP+j6qqtqq4+OHmuvv/476vrhp4O\\\n",
              "cgkYnLEnL3+vDi/8sNoa/Xulqduzr9fv3vl2ffDp3UFng2TuQoQz1rbjapeeON/UZ0dV905mg8wE\\\n",
              "54GAwRmbNMc1aj7/MN+u2vntms4Wg8wE54GAwRm7OLlV333sjdpqjqqqq1FN65ntt+vZ8bWazlZv\\\n",
              "cAa+2CPzGditW7eGHoFzZG9v79Svffu9vfrlr35R+/Pf1p3Z5dpqj+qpyfv1wSe3a7443V0ch4eH\\\n",
              "foY5E1euXBl6hI09MgF7/fXXhx6Bc+TmzZunfu2tvbv1mzf+/KXe78aNG36GOROvvvrq0CNsrOk6\\\n",
              "N/LCuq5du1YvvPBCb+9nIzMs8xkYAJEEDIBIAgZAJAEDIJKAARBJwACI9MjsA4P/p0uXLtVLL73U\\\n",
              "2/s9//zzvb0XpLAPDIBI/oQIQCQBAyCSgAEQScAAiCRgAEQSMAAiCRgAkQQMgEgCBkAkAQMgkoAB\\\n",
              "EEnAAIgkYABEEjAAIgkYAJEEDIBIAgZAJAEDIJKAARBJwACIJGAARBIwACIJGACRBAyASAIGQCQB\\\n",
              "AyCSgAEQScAAiCRgAEQSMAAiCRgAkQQMgEgCBkAkAQMgkoABEEnAAIgkYABEEjAAIgkYAJEEDIBI\\\n",
              "AgZAJAEDIJKAARBJwACIJGAARBIwACIJGACRBAyASAIGQCQBAyCSgAEQScAAiCRgAEQSMAAiCRgA\\\n",
              "kQQMgEgCBkAkAQMgkoABEEnAAIgkYABEEjAAIgkYAJEEDIBIAgZAJAEDIJKAARBJwACIJGAARBIw\\\n",
              "ACIJGACRBAyASAIGQCQBAyCSgAEQScAAiCRgAEQSMAAiCRgAkQQMgEgCBkCkfwF70XxDTKV6RgAA\\\n",
              "AABJRU5ErkJggg==\\\n",
              "\"\n",
              "  frames[20] = \"data:image/png;base64,iVBORw0KGgoAAAANSUhEUgAAAbAAAAEgCAYAAADVKCZpAAAAOXRFWHRTb2Z0d2FyZQBNYXRwbG90\\\n",
              "bGliIHZlcnNpb24zLjcuMSwgaHR0cHM6Ly9tYXRwbG90bGliLm9yZy/bCgiHAAAACXBIWXMAAAsT\\\n",
              "AAALEwEAmpwYAAAJeklEQVR4nO3dPY9cZxnH4fucmdm3eO04CbHzghWCQJYQBUJKgeioI0Xis6QM\\\n",
              "SPkUdBQpqCKalBS0oFA4QpiIRITgRCvFyTr2et/m5VAYIYUZK7vrzJn819dVPme0cxe7+ml2zvOc\\\n",
              "puu6rgAgTLvqAQDgLAQMgEgCBkAkAQMgkoABEEnAAIgkYABEEjAAIgkYAJEEDIBIAgZAJAEDIJKA\\\n",
              "ARBJwACIJGAARBIwACIJGACRBAyASAIGQCQBAyCSgAEQScAAiCRgAEQSMAAiCRgAkQQMgEgCBkAk\\\n",
              "AQMgkoABEEnAAIgkYABEEjAAIgkYAJEEDIBIAgZAJAEDIJKAARBJwACIJGAARBIwACIJGACRBAyA\\\n",
              "SAIGQCQBAyCSgAEQScAAiCRgAEQSMAAiCRgAkQQMgEgCBkAkAQMgkoABEEnAAIgkYABEEjAAIgkY\\\n",
              "AJEEDIBIAgZAJAEDIJKAARBJwACIJGAARBIwACIJGACRBAyASAIGQCQBAyCSgAEQScAAiCRgAEQS\\\n",
              "MAAiCRgAkQQMgEgCBkAkAQMgkoABEEnAAIgkYABEEjAAIgkYAJEEDIBIAgZAJAEDIJKAARBJwACI\\\n",
              "JGAARBIwACIJGACRBAyASAIGQCQBAyCSgAEQScAAiCRgAEQSMAAiCRgAkQQMgEgCBkAkAQMgkoAB\\\n",
              "EEnAAIgkYABEEjAAIgkYAJEEDIBIAgZAJAEDIJKAARBJwACIJGAARBIwACIJGACRBAyASAIGQCQB\\\n",
              "AyCSgAEQScAAiCRgAEQSMAAiCRgAkQQMgEgCBkAkAQMgkoABEEnAAIg0XPUA8Dg6vn+nju59XoPR\\\n",
              "erWj9RqMNqodrVc7GFXTNKseDyIIGPSs67r64sN369aff1+D0UYN1jaqHW3UYLReT73807ry41+s\\\n",
              "ekSIIGDQt66ryeG96qbjmkzHNTm8979Lm5efX+FgkMV3YNC7rsb7X656CIgnYNCz2XRSd2/dnL/Q\\\n",
              "NLV+8Zn+B4JQAgYrMJtN59aadlgXrry8gmkgk4DBt0TTNDXcvLjqMSCGgEHPuumkqroFV5oarG32\\\n",
              "PQ7EEjDo2eTofnWz2cJrTdkDBiclYNCzydH9qm4+YE3bln7ByQkY9Ozwzk7NJuO59e3nflDtcH0F\\\n",
              "E0EmAYOeHd29Xd1sMrc+2rpUTTtYwUSQScDgW2K4cUHA4BQEDHrUdV11C/aAVVU1DvKFUxEw6FM3\\\n",
              "q+nx/qqngHNBwKBH3WxWk8P7c+tNO6z1bcdIwWkIGPRoNj2ug91P59bb4chJ9HBKAgY9mk0ndXT3\\\n",
              "s7n1ph3UcOPCCiaCXAIG3wJN09ZwY2vVY0AUAYM+dYvOQKyqpinHcMDpCBj0aHJ0v7qHRQw4FQGD\\\n",
              "Hk0O9mrRSfSbl59/cBYicGL+YqBH+59/vPAk+q1nrlXTOIUDTkPAoEeHuzsLT6IfbV387/dgwEkJ\\\n",
              "GHwLtKONVY8AcQQMetJ1XXULn8T84P5D5yDC6QgY9KWb1WxyPL/eNNUMhv3PA+EEDHoym05qejR/\\\n",
              "kO9oc7ue+M5L/Q8E4QQMetJNJzVZcBJ9045qsO4UDjgtAYOeTA73av/2v+fW28GwhmsCBqclYNCT\\\n",
              "Bw+znMxfaJpqBvaAwWkJGPTGEVLwTRIw6MlscrywYVtPXysH+cLpCRj0ZHxwd+H65lMeZAlnIWDQ\\\n",
              "k/H+3Vr0EWy0dan/YeAcEDDoyd1bf1u4Plx/oudJ4HwQMOjJbDpefKFpHCMFZyBgAEQSMOhBN5tW\\\n",
              "N5vOrQ83L9b69lMrmAjyCRj0YDYd13R8OLc+2rhQo60n+x8IzgEBgx7Mxsc1PZ4PWDtaq8GaZ4HB\\\n",
              "WQgY9OBo7/M63P10br1pBtW0HqUCZyFg0INuNlv4HVg1HmQJZyVgsEIDp9DDmQkY9GDhKfRVdem7\\\n",
              "P+p5Ejg/BAx6MDncW7g+2rzY8yRwfggY9GBycG/h+nBzu+dJ4PwQMOjB/hefLFx3ByKcnYBBDw6+\\\n",
              "uLXqEeDcETBYkbXtp2u05TswOCsBgyXrum7hk5hHmxdr6DZ6ODMBgyWbTY4WPkplMNqsdri2gong\\\n",
              "fBAwWLLp+Khmk+O59XY4qmbgJg44KwGDJRvfv7N4H5gHWcIjETBYsuOHBQx4JAIGK7L93A9XPQJE\\\n",
              "EzBYoq7rauEtiNXUxpNX+x4HzhUBgyWbHh3MLzZlDxg8IgGDJRsfLj4HsR2Mep4EzhcBgyXbv/3x\\\n",
              "Q664AxEehYDBMnXdwoAN1raqtQcMHom/IDil3d3dunnz5ole21RXg4ODuc9aR+2F+suNv1YNvv4k\\\n",
              "jmvXrtWLL754hknhfGu6B7dJASf0zjvv1Kuvvnqi17ZNU7/71S/re89d/sr6H979sH792z/WeDr7\\\n",
              "2p/x5ptv1htvvHGmWeE88wkMlmhtNKimGdYnh9+vLydXamtwp15Y/0ftHY5PFC/g4QQMlmh7a7P+\\\n",
              "efyzOtp7pbpqq6mubh9fq+Pp+6seDeK5iQOW6IWXfl77G69UV4N68I1YW5+Nv1sfHPxk1aNBPAGD\\\n",
              "JRoM16ttB/+32tS0swcMHpWAwRKttQfV1uQra91sVvf3PlvRRHB+CBgs0bNr/6rrT/ypRs1hVXU1\\\n",
              "aI7r6vC9ev+9t1c9GsR7bG7i2NnZWfUInBO7u7snfu2ND3aqefs39eXk2bo3vVyb7V5dGnxSt+/c\\\n",
              "PfHP2Nvb8/vL0ly9mnuo9GMTsLfeemvVI3BOnHQTc1XVRzt36qOdO1X19zO/340bN/z+sjSvv/76\\\n",
              "qkc4MxuZ4ZROs5H5m2AjMyzmOzAAIgkYAJEEDIBIAgZAJAEDIJKAARDpsdkHBt+UK1eu1Guvvdbb\\\n",
              "+12/fr2394Ik9oEBEMm/EAGIJGAARBIwACIJGACRBAyASAIGQCQBAyCSgAEQScAAiCRgAEQSMAAi\\\n",
              "CRgAkQQMgEgCBkAkAQMgkoABEEnAAIgkYABEEjAAIgkYAJEEDIBIAgZAJAEDIJKAARBJwACIJGAA\\\n",
              "RBIwACIJGACRBAyASAIGQCQBAyCSgAEQScAAiCRgAEQSMAAiCRgAkQQMgEgCBkAkAQMgkoABEEnA\\\n",
              "AIgkYABEEjAAIgkYAJEEDIBIAgZAJAEDIJKAARBJwACIJGAARBIwACIJGACRBAyASAIGQCQBAyCS\\\n",
              "gAEQScAAiCRgAEQSMAAiCRgAkQQMgEgCBkAkAQMgkoABEEnAAIgkYABEEjAAIgkYAJEEDIBIAgZA\\\n",
              "JAEDIJKAARBJwACIJGAARBIwACIJGACRBAyASAIGQCQBAyCSgAEQScAAiPQfFFqXHRpe8w4AAAAA\\\n",
              "SUVORK5CYII=\\\n",
              "\"\n",
              "  frames[21] = \"data:image/png;base64,iVBORw0KGgoAAAANSUhEUgAAAbAAAAEgCAYAAADVKCZpAAAAOXRFWHRTb2Z0d2FyZQBNYXRwbG90\\\n",
              "bGliIHZlcnNpb24zLjcuMSwgaHR0cHM6Ly9tYXRwbG90bGliLm9yZy/bCgiHAAAACXBIWXMAAAsT\\\n",
              "AAALEwEAmpwYAAAJ3UlEQVR4nO3dTW9j1RnA8ede+yZOJpkXQJ0XQCAQ0IJaqeoH6KKrdsWuX4A9\\\n",
              "K/aV+jEQK/aoEutuEC2qhi4QrVqhGbXqlFEYmLe8J/b16QK1Etijxgm+5vH8fstjK34Wsf5K7rnn\\\n",
              "VqWUEgCQTL3oAQDgNAQMgJQEDICUBAyAlAQMgJQEDICUBAyAlAQMgJQEDICUBAyAlAQMgJQEDICU\\\n",
              "BAyAlAQMgJQEDICUBAyAlAQMgJQEDICUBAyAlAQMgJQEDICUBAyAlAQMgJQEDICUBAyAlAQMgJQE\\\n",
              "DICUBAyAlAQMgJQEDICUBAyAlAQMgJQEDICUBAyAlAQMgJQEDICUBAyAlAQMgJQEDICUBAyAlAQM\\\n",
              "gJQEDICUBAyAlAQMgJQEDICUBAyAlAQMgJQEDICUBAyAlAQMgJQEDICUBAyAlAQMgJQEDICUBAyA\\\n",
              "lAQMgJQEDICUBAyAlAQMgJQEDICUBAyAlAQMgJQEDICUBAyAlAQMgJQEDICUBAyAlAQMgJQEDICU\\\n",
              "BAyAlAQMgJQEDICUBAyAlAQMgJQEDICUBAyAlAQMgJQEDICUBAyAlAQMgJQEDICUBAyAlAQMgJQE\\\n",
              "DICUBAyAlAQMgJQEDICUBAyAlAQMgJQEDICUBAyAlAQMgJQEDICUBAyAlAQMgJQEDICUBAyAlAQM\\\n",
              "gJQEDICUBAyAlAQMgJQEDICUBAyAlAQMgJQEDICUBAyAlAQMgJQEDICUBAyAlAQMgJQEDICUBAyA\\\n",
              "lAQMgJQEDICUBAyAlAQMgJQEDICUBAyAlAQMgJQEDICUBAyAlAQMgJQEDICUBAyAlAQMgJQEDICU\\\n",
              "+oseAB5Hx3sP4mjnbvSa1aib1eg1g6ib1ah7TVRVtejxIAUBg46VUuLejevx7+u/i14ziN7KIOpm\\\n",
              "EL1mNZ544Wdx+ce/WPSIkIKAQddKieP9h1HaYYzaYYwOd/730tqlawscDHJxDQw6VsZt7H1xc+pr\\\n",
              "Vd3reBrIS8CgY6WM43D7y4n1qu7H+WdeXcBEkJOAwfdFVcXKxhOLngLSEDDoWGmHEaVMrFdVHc3a\\\n",
              "5gImgpwEDDo2PNiJUtqpr1WVrySclG8LdOx4736UdjJgdb+JcA8YnJiAQcd2v7gZ49HRxPrmtVei\\\n",
              "16wuYCLIScCga5OXvyIiolm/YBs9zEDAoEOllCjj6de/+qvnIlwDgxPzbYEOlXEbo8Pd6S9WlXMQ\\\n",
              "YQYCBh0q41Ec7Xw1+UJVRa8ZdD8QJCZg0KF2eBS7Wzcm1nvNWmxee3kBE0FeAgbfA1Xdi2bt/KLH\\\n",
              "gFQEDLpUxlOXq7qO3spax8NAbgIGHRod7kWZcowUMDsBgw4d7z+Yeg5if7BhByLMSMCgQzu3P4sy\\\n",
              "Hk2sn3/m1ahqz5eFWQgYdKg93Ju6vrJ+0TmIMCMBg46UUqI84hyp3op7wGBWAgYdKeM2xsPJQ3z/\\\n",
              "yzUwmI2AQUdKO5p6jFTVa6LvQZYwMwGDjgwPtmP3zj8m1pvBRqw/+ewCJoLcBAw6Usbjqc8Bq/pN\\\n",
              "9AcbC5gIchMw6Mz0DRxVVX/9NGZgJgIGHWmHR498mCUwOwGDjgz3H0xdH1y83O0gsCQEDDqyf/dW\\\n",
              "TPsTbPPqyxFhCz3MSsCgI/tf3Zq63qxf7HYQWBICBgtW91fcxAynIGDQgTJupx7iC5yegEEH2tFx\\\n",
              "tMeHE+v9wUasnLvY/UCwBAQMOjAeHsXoaH9ivVm/EKubTy1gIshPwKADx7v34/DB1sR63V91Ej2c\\\n",
              "koBBB0oZR5TxxHpVV1HVvQVMBPkJGHTgURs4es1ax5PA8hAw6MBwf3vq+vmnf9TxJLA8BAw6cLx7\\\n",
              "d+p6s3Gp40lgeQgYdODhv/4ydb1ZO9/xJLA8BAw6UEo7dd0GDjg9AYM5K6VMfYxK3V/1HDA4AwGD\\\n",
              "ORsPD2M8Op5YH1z4gVM44AwEDOZsdHwQ7ehoYr23uh514yZmOC0Bgzk73rkbw/2HE+u9ZhB1z78Q\\\n",
              "4bQEDOZsdLQf4+HkX2BRVR6jAmcgYDBHpZSYuoMjwvUvOCMBgzmbdgp9RBUbV17qfBZYJgIGczbc\\\n",
              "ezB1feWcUzjgLAQM5qrE9ud/m1yuIvqDc92PA0tEwGCeSkzdgfg1GzjgLAQMFqBZvxh1s7LoMSA1\\\n",
              "AYM5GrfHUcaTD7Jcu3Q1+ivrC5gIloeAwRyNDveitMOJ9f5gIyrnIMKZCBjM0fHe/enHSDWrUVW+\\\n",
              "fnAWvkEwRwf3b0c79T6wcAoHnJGAwZx8fQrHFFUdg0vXuh0GlpCAwRyV0WhirarrWH/y2QVMA8tF\\\n",
              "wGBeSonhweQ9YFVUzkGE74CAwZyUMo6De7cnX6iqqJvV7geCJdNf9ACQyZ07d+LGjRsnem9VRtH7\\\n",
              "/LOJ8zbadhx//vjjKP21//szXnzxxbh8+fIpJoXlJ2Awg/fffz/eeOONE713sNKP937763jqwjdv\\\n",
              "WP705ufx5pu/jL3DyfvDvu3tt98+8efB40bAYE56dRXj6Metw1diZ/RkbPbvxrXVG/HPrQdxNGwX\\\n",
              "PR6kJ2AwJxc2N+PvBz+P/eFrUaKKKkrcG16NLx9+Em07ebwUMBubOGBOXvjhr2K391qUqCOiihJ1\\\n",
              "3D56KW7svPKIZzQDsxAwmJNefzDluKgq2nAGInwXBAzmZFDvRxXfvNY1Ho/i+ODegiaC5SJgMCcb\\\n",
              "o09i8+jDKO1+RJToV0dxpfpT3Lr5+0WPBkvhsdnEsbW1tegRWALb29snfu97H/w1/vDpb+LqMz+J\\\n",
              "S5eejp8+vxKXL+/Gve29mT7P7y7zdOXKlUWPcGqPTcDefffdRY/AErh+/fqJ31tKxNa93di698eo\\\n",
              "IuKDD+vo1dVMW+g/+uijaFtb7pmft956a9EjnFpVHnlkNvBt77zzTqc3FruRGR7NNTAAUhIwAFIS\\\n",
              "MABSEjAAUhIwAFISMABSemzuA4PvwnPPPRevv/56Z5/3/PPPd/ZZkI37wABIyb8QAUhJwABIScAA\\\n",
              "SEnAAEhJwABIScAASEnAAEhJwABIScAASEnAAEhJwABIScAASEnAAEhJwABIScAASEnAAEhJwABI\\\n",
              "ScAASEnAAEhJwABIScAASEnAAEhJwABIScAASEnAAEhJwABIScAASEnAAEhJwABIScAASEnAAEhJ\\\n",
              "wABIScAASEnAAEhJwABIScAASEnAAEhJwABIScAASEnAAEhJwABIScAASEnAAEhJwABIScAASEnA\\\n",
              "AEhJwABIScAASEnAAEhJwABIScAASEnAAEhJwABIScAASEnAAEhJwABIScAASEnAAEhJwABIScAA\\\n",
              "SEnAAEhJwABIScAASEnAAEhJwABIScAASEnAAEhJwABIScAASEnAAEhJwABIScAASEnAAEhJwABI\\\n",
              "ScAASEnAAEhJwABIScAASEnAAEhJwABIScAASOk/bUy3EEeW32oAAAAASUVORK5CYII=\\\n",
              "\"\n",
              "  frames[22] = \"data:image/png;base64,iVBORw0KGgoAAAANSUhEUgAAAbAAAAEgCAYAAADVKCZpAAAAOXRFWHRTb2Z0d2FyZQBNYXRwbG90\\\n",
              "bGliIHZlcnNpb24zLjcuMSwgaHR0cHM6Ly9tYXRwbG90bGliLm9yZy/bCgiHAAAACXBIWXMAAAsT\\\n",
              "AAALEwEAmpwYAAAKTElEQVR4nO3dS48cZxWA4VPV3XOfsWM7xHFiIoU4wYCUNRskNihbNvyTLNjx\\\n",
              "PxIhoURii0RghViigES8CAg5EAdIPL7POHPrmb5UsQgL0JTtubirc9rPs6xvZJ9N6VV31/dVUdd1\\\n",
              "HQCQTDntAQDgJAQMgJQEDICUBAyAlAQMgJQEDICUBAyAlAQMgJQEDICUBAyAlAQMgJQEDICUBAyA\\\n",
              "lAQMgJQEDICUBAyAlAQMgJQEDICUBAyAlAQMgJQEDICUBAyAlAQMgJQEDICUBAyAlAQMgJQEDICU\\\n",
              "BAyAlAQMgJQEDICUBAyAlAQMgJQEDICUBAyAlAQMgJQEDICUBAyAlAQMgJQEDICUBAyAlAQMgJQE\\\n",
              "DICUBAyAlAQMgJQEDICUBAyAlAQMgJQEDICUBAyAlAQMgJQEDICUBAyAlAQMgJQEDICUBAyAlAQM\\\n",
              "gJQEDICUBAyAlAQMgJQEDICUBAyAlAQMgJQEDICUBAyAlAQMgJQEDICUBAyAlAQMgJQEDICUBAyA\\\n",
              "lAQMgJQEDICUBAyAlAQMgJQEDICUBAyAlAQMgJQEDICUBAyAlAQMgJQEDICUBAyAlAQMgJQEDICU\\\n",
              "BAyAlAQMgJQEDICUBAyAlAQMgJQEDICUBAyAlAQMgJQEDICUBAyAlAQMgJQEDICUBAyAlAQMgJQE\\\n",
              "DICUBAyAlAQMgJQEDICUBAyAlAQMgJQEDICUBAyAlAQMgJQEDICUBAyAlAQMgJQEDICUBAyAlAQM\\\n",
              "gJQEDICUBAyAlAQMgJQEDICUBAyAlAQMgJQEDICUBAyAlAQMgJQEDICUBAyAlAQMgJQEDICUutMe\\\n",
              "AJ5FdV3H3v1/R9mbj97iWnTmFqMoimmPBakIGEzBeLgfN37/boyHg5hbPhvza8/H8oVXYunC5Vi5\\\n",
              "+K0oO71pjwhfewIGUzDY2YjRQT9G/a0Y7m7G7t3PYuMff4ooyvjeT34Wi2cvTntE+NrzGxhMwe6d\\\n",
              "GzHqbx26XhRFFOGrRDgKAYOW1XUddV03ri09/0p0F1ZanghyEjCYgmo0aLw+t3Q2yu5cy9NATgIG\\\n",
              "bavrGOxuNi5155ej6PhpGo5CwKBldTWKrc//2rxYFB6nhyMSMGhZXdcx3N85vFCUsXT+cvsDQVIC\\\n",
              "Bi2rq3FEHH6Ioyg7sXThm+0PBEkJGLRs2N/6b8T+X1EU0Vs+M4WJICcBg5b1N25GNRo2rBRRlh7g\\\n",
              "gKMSMGhZf2M96vHhgHUXliNKtyQclbsFWlTXdURdNa6tXnojOr35lieCvAQM2lRXzU8gRkRv6WwU\\\n",
              "ZaflgSAvAYMWVeNRDHY2GtfKbi/COYhwZAIGLaqG+7Fz6++Na4VNzHAsAgYtqiOibvgNrNNbiNVL\\\n",
              "325/IEhMwKBF4/3dxpPoi04vFtYuTGEiyEvAoEX9zfXGpxCLsoyytzCFiSAvAYMWbX3xt+ZTODo9\\\n",
              "v3/BMQkYtKSu66gbzkCMiFh76apH6OGYBAzaUldRNZzAERExv3o+wicwOBYBg5ZUo2GM9rYb17oL\\\n",
              "K2EPGByPgEFLhv2t2Ll7o3HNHjA4PgGDltRVFdXo4ND1zvxSLDx3aQoTQW4CBi2pxsOm91hGp7do\\\n",
              "DxicgIBBS4a7m43Xy24vOvPLLU8D+QkYtGTn9qfR+BEsvtrIDByPuwZa0n94q/H63Mq5lieB2SBg\\\n",
              "0ILHvchy7eXvhEfo4fgEDFpQDQ9iNOg3rs37BAYnImDQgtFgL0Z7W41rRafX8jQwGwQMWjDc2Yz9\\\n",
              "L+8cXiiKKMrSJmY4AQGDFjzqEN/5tW/E0rmXW54GZoOAQQtG/UecgTi3GN3FlZangdkgYNCC3Xv/\\\n",
              "arxedDpR+g0MTkTAoAXbt643Xu/0FlueBGaHgMGEfbUHrHlt7fJ32x0GZoiAwYTV42FU1ahxbX7V\\\n",
              "Ib5wUgIGEzba343xYL9xrbvgEF84KQGDCdvbuBkHW/ca1wpHSMGJCRhMWF2NG89BXDjzQvRWnpvC\\\n",
              "RDAbBAwmqK7rxrcwR0T0ls5E13vA4MQEDCZssLPReL0ztxhld67laWB2CBhMVB3b6580LxWFMxDh\\\n",
              "FAQMJqmOONi+37i0cOaFloeB2SJgMEH1I15iGVHE6ouvtzoLzBoBgwka7e9ENRocXigi5jyBCKci\\\n",
              "YDBBB9sPYjxs3sRclN2Wp4HZImAwQf3NmzE+2Dt0vezMRVG6/eA03EEwIY87xHfl4mvRW1xrdyCY\\\n",
              "MQIGE1PHsL/VuNJbWrMHDE5JwGBC6qqK3bufNa6Vna6vEOGU3EEwIXU1jr3GNzEX0V1YaX0emDUC\\\n",
              "Bi0ryk6svvjGtMeA9AQMJmQ82GveyFwUMbd6rv2BYMYIGEzIwfaDqMaH38RcFEV05xanMBHMFgGD\\\n",
              "Cdlevx5V0ybmwm0HT4M7CSagruuoq+ZzEFdfvBJlb6HliWD2CBhMRN18BmJEzK+ej7LjGCk4LXcR\\\n",
              "HNF4PI5r167FYNAcpv9VRBW99eY9YLfubcbND//4xH9jaWkp3nzzTe8Mg0co6rp+xGE3wP/a29uL\\\n",
              "K1euxPr6+hP/9szyfPzipz+OSxdWD62988Gf450PPnriv3H16tX4+OOPo9PpnGhemHU+gcEEdMoy\\\n",
              "zq4uxJfDC3Fr8GoUUcWl+U+jV92LG+ub0x4PZoKAwQT0up24P7gcnwx+FMN6PiIibh68Hq+Wv4nr\\\n",
              "nz+Y8nQwGzzEARNwZu1c/GX3hzGsFyKiiIgiDqqV+OjhD+L+1nDa48FMEDCYgNdeOh9RHj5tflT3\\\n",
              "Ylz52RmeBgGDCbj6yrlY7vYPXR/0H0R4bgqeCgGDCdje3oyXxr+KcnQnIsZRxDjOdO/Gzj9/HuPx\\\n",
              "kx/DB57smXmI4/bt29MegeT6/X6Mx+Mj/e27v70Wv/7DJ3Hxhd/F0tk34rVLz8X3X92Pe/e/iOqI\\\n",
              "n8DG43HcuXMnSu8NY4IuXrw47RFO7JkJ2HvvvTftEUhuOBxGv3/4a8EmVVXHrY2duLVxPSKux4dl\\\n",
              "Eb8syxg/4nipJg8fPoz333/fRmYm6u233572CCdmIzMc0XE2Mj8NNjLD4/luAoCUBAyAlAQMgJQE\\\n",
              "DICUBAyAlAQMgJSemX1gcFqdTifeeuut2NjYaOX/u3z5sj1g8Bj2gQGQkq8QAUhJwABIScAASEnA\\\n",
              "AEhJwABIScAASEnAAEhJwABIScAASEnAAEhJwABIScAASEnAAEhJwABIScAASEnAAEhJwABIScAA\\\n",
              "SEnAAEhJwABIScAASEnAAEhJwABIScAASEnAAEhJwABIScAASEnAAEhJwABIScAASEnAAEhJwABI\\\n",
              "ScAASEnAAEhJwABIScAASEnAAEhJwABIScAASEnAAEhJwABIScAASEnAAEhJwABIScAASEnAAEhJ\\\n",
              "wABIScAASEnAAEhJwABIScAASEnAAEhJwABIScAASEnAAEhJwABIScAASEnAAEhJwABIScAASEnA\\\n",
              "AEhJwABIScAASEnAAEhJwABIScAASEnAAEhJwABIScAASEnAAEhJwABIScAASEnAAEhJwABIScAA\\\n",
              "SEnAAEhJwABIScAASEnAAEhJwABIScAASOk/d9jx1143bXAAAAAASUVORK5CYII=\\\n",
              "\"\n",
              "  frames[23] = \"data:image/png;base64,iVBORw0KGgoAAAANSUhEUgAAAbAAAAEgCAYAAADVKCZpAAAAOXRFWHRTb2Z0d2FyZQBNYXRwbG90\\\n",
              "bGliIHZlcnNpb24zLjcuMSwgaHR0cHM6Ly9tYXRwbG90bGliLm9yZy/bCgiHAAAACXBIWXMAAAsT\\\n",
              "AAALEwEAmpwYAAAKWklEQVR4nO3du48dZxnA4XfmXHbXe7EdX7CdhARCZFsBgpAoqJAogCZS5IIW\\\n",
              "if8hZRAlf0SKSKlp0gWBgpBoIqGEIgiZKAlry/dL7L2fywxFSBF2NuztzMm7fp5yvmPvK9lHP+05\\\n",
              "831T1HVdBwAkU057AADYDwEDICUBAyAlAQMgJQEDICUBAyAlAQMgJQEDICUBAyAlAQMgJQEDICUB\\\n",
              "AyAlAQMgJQEDICUBAyAlAQMgJQEDICUBAyAlAQMgJQEDICUBAyAlAQMgJQEDICUBAyAlAQMgJQED\\\n",
              "ICUBAyAlAQMgJQEDICUBAyAlAQMgJQEDICUBAyAlAQMgJQEDICUBAyAlAQMgJQEDICUBAyAlAQMg\\\n",
              "JQEDICUBAyAlAQMgJQEDICUBAyAlAQMgJQEDICUBAyAlAQMgJQEDICUBAyAlAQMgJQEDICUBAyAl\\\n",
              "AQMgJQEDICUBAyAlAQMgJQEDICUBAyAlAQMgJQEDICUBAyAlAQMgJQEDICUBAyAlAQMgJQEDICUB\\\n",
              "AyAlAQMgJQEDICUBAyAlAQMgJQEDICUBAyAlAQMgJQEDICUBAyAlAQMgJQEDICUBAyAlAQMgJQED\\\n",
              "ICUBAyAlAQMgJQEDICUBAyAlAQMgJQEDICUBAyAlAQMgJQEDICUBAyAlAQMgJQEDICUBAyAlAQMg\\\n",
              "JQEDICUBAyAlAQMgJQEDICUBAyAlAQMgJQEDICUBAyAlAQMgJQEDICUBAyAlAQMgJQEDICUBAyAl\\\n",
              "AQMgJQEDICUBAyAlAQMgJQEDICUBAyAlAQMgJQEDICUBAyAlAQMgJQEDICUBAyAlAQMgJQEDICUB\\\n",
              "AyCl7rQHgCdRXdexfm85yt5M9OaWotOfi6Iopj0WpCJgMAXjwUZ8/Kc3YjwaRH/+RMwsnYn508/F\\\n",
              "sdPPxsK5F6Ls9KY9InztCRhMwWD1QYwG6zHaWInh2sNYu/NJPPjovYiijO/+8rcxd+LctEeErz3f\\\n",
              "gcEUrN35JEYbK9uuF0URRfgoEXZDwKBldV1HXdeNa/NnvxXducWWJ4KcBAymYLy11ni9P38yym6/\\\n",
              "5WkgJwGDltXVONbuX2tc6/Rnoyg7LU8EOQkYtKyuxrFy42rjWtmbdTs97JKAQeuav/8qym4sPX25\\\n",
              "5VkgLwGDlo0HmxF1te16UZYxs3hqChNBTgIGLRus3o9qPGpYKaI7c6z1eSArAYOWrdy4GtVwc4dV\\\n",
              "33/BbgkYtKiu66jGw8a1xfMvRtmbaXkiyEvAoE11FeOtjcal2ZPnnYEIeyBg0KJqPIrNx3ca1zr9\\\n",
              "uQi30MOuCRi0qBpuxsrN5j1gRVnaAwZ7IGDQojoiouEcxE5vNpbOX2x9HshMwKBFo83VxoN8i04v\\\n",
              "+ounpzAR5CVg0KL1e9d23MTc6c9OYSLIS8CgRas3/xV1Nd523RmIsHcCBi2p6zrqHc5BPP7MZafQ\\\n",
              "wx4JGLSkrsYxHjTvAesvnIoovB1hL7xjoCXVaBDD9UeNa85AhL0TMGjJaGMl1u7+e8d134HB3ggY\\\n",
              "tKSuq6ir7afQd+cWY/7s8+0PBMkJGLRktLnS+CzLTm/WHjDYBwGDlmw8vBlNBSvKTnScQg97JmDQ\\\n",
              "kkfX/tF4vSi7LU8CR4OAQQs+Pz5q+wkcEREnnn85PMgS9k7AoAX1eBjjwVbj2uzxb7Q8DRwNAgYt\\\n",
              "GG48jsHq/ca1Tn/OLfSwDwIGLRisPYqtx3e3XS/KbpRdT2GG/RAwaEPDI1QiIvqLp2Lu5PmWh4Gj\\\n",
              "QcCgBcONx43XO/256M4stDwNHA0CBi1o+vgwIqIsO1F03EYP+yFg0IJH1z9svN6bP+EGDtgnAYMJ\\\n",
              "q+s66tGwcW3pwsWWp4GjQ8BgwqrhZlSjQeOaMxBh/wQMJmy4/jhGW2uNa53+XMvTwNEhYDBhG5/d\\\n",
              "isHqg+0LRen7LzgAAYMJ+vwMxOY9YMdOPRMzS2faHQiOEAGDCRuuN+8B684t+ggRDkDAYMLW7n7a\\\n",
              "eL3s9KK0Bwz2TcBgkuo6Vm991Ljkty84GAGDiWr+/iuiiBPf/F6rk8BRI2AwQaOt9ajGo+0LRcTM\\\n",
              "kj1gcBACBhO0fv9ajDZXG9fK7kzL08DRImAwQVsr96Iabm673p1d8BwwOCABgwmp63rH54AdO/Ws\\\n",
              "x6jAAQkYTEy94x6w3tyS38DggAQMJqSuqtj87FbjWtntRRTefnAQ3kEwIXU1jpWbVxvXirLrHEQ4\\\n",
              "IAGDSanr/56F+GVF2Y0Tz788hYHgaBEwmJDh5kpENd52vShLh/jCIRAwmJCNBzeiGjc/ibnT7bc8\\\n",
              "DRw9AgYTsn5vufFJzJ3+nBs44BB4F8EEfNVzwBYvXIpOb7bdgeAIEjCYgLqqdtwD1p8/GYXHqMCB\\\n",
              "CRhMQDXairU7nzSulV3xgsMgYDAB9XgUm49ub7telJ3oHTtuDxgcAgGDCajrqvF62Z2JhbPfbnka\\\n",
              "OJp8lgG7dP369VheXt7Va3vDRxHj7XvARuMq3v/wahS9a//377h06VI89dRTe54TnhQCBrv05ptv\\\n",
              "xuuvv76r1/78Ry/Eb371k+h1O1+6fv/Bg7jys1/E5qDhIZf/4+23345XXnllX7PCk0DAYAJ+8J1z\\\n",
              "EeVsfLrxYqyPT8Tx7p04N/NxDEbbfysD9kfAYAKqYjb+vvLTuDd8NuoooojL8Wh0Jt5//w0Rg0Mi\\\n",
              "YHDI+t1O3Ct/HAvDb0bE53cb1tGJ5c2X4m83zkZVNW9wBvbGXYhwyBbm+nHhzOn4Il5fqKOMje0n\\\n",
              "SwH7JGBwyBaO9ePy092I+PKt9NV4EKNB8+kcwN75CBEO2WhURX/tr3G8LuNx5/tRF/3oFVuxNP5L\\\n",
              "3L7+3rTHgyPjiQnYrVvNj3aH3VpdXd3V627cX4lf/+738cyZP8bS6ZfizOkL8cPnyjg+/zDuP17f\\\n",
              "9c97+PCh/7dM3Llz56Y9wr49MQF76623pj0CyX3wwQe7fu3qxiD+uXw3YvnPURQRfyjLKMoihqPm\\\n",
              "EzqavPvuu3H79vbjqOAwvfbaa9MeYd+emIBl/kfi62FrayveeeedPf+5uo4YjquIPd49f+XKFRuZ\\\n",
              "4Su4iQOAlAQMgJQEDICUBAyAlAQMgJQEDICUnpjb6OGgLl68GK+++mprPy/zBlNoQ1HXtaOxAUjH\\\n",
              "R4gApCRgAKQkYACkJGAApCRgAKQkYACkJGAApCRgAKQkYACkJGAApCRgAKQkYACkJGAApCRgAKQk\\\n",
              "YACkJGAApCRgAKQkYACkJGAApCRgAKQkYACkJGAApCRgAKQkYACkJGAApCRgAKQkYACkJGAApCRg\\\n",
              "AKQkYACkJGAApCRgAKQkYACkJGAApCRgAKQkYACkJGAApCRgAKQkYACkJGAApCRgAKQkYACkJGAA\\\n",
              "pCRgAKQkYACkJGAApCRgAKQkYACkJGAApCRgAKQkYACkJGAApCRgAKQkYACkJGAApCRgAKQkYACk\\\n",
              "JGAApCRgAKQkYACkJGAApCRgAKQkYACkJGAApCRgAKQkYACkJGAApCRgAKQkYACkJGAApCRgAKQk\\\n",
              "YACkJGAApCRgAKQkYACkJGAApCRgAKQkYACkJGAApCRgAKQkYACk9B9u3t1xV9zOUgAAAABJRU5E\\\n",
              "rkJggg==\\\n",
              "\"\n",
              "  frames[24] = \"data:image/png;base64,iVBORw0KGgoAAAANSUhEUgAAAbAAAAEgCAYAAADVKCZpAAAAOXRFWHRTb2Z0d2FyZQBNYXRwbG90\\\n",
              "bGliIHZlcnNpb24zLjcuMSwgaHR0cHM6Ly9tYXRwbG90bGliLm9yZy/bCgiHAAAACXBIWXMAAAsT\\\n",
              "AAALEwEAmpwYAAAKcUlEQVR4nO3dvY9cVxnA4ffO7Mx+er12nHgTJ1jBUZSApYgWBVqqtPwR9Omp\\\n",
              "KPMX0KBQUQEdBZURKCBFfBkihXzj2F5vnHi9nzNz51CEBuaCveudO3nHz1Pes9p9ix39NDPn3FuV\\\n",
              "UkoAQDKdWQ8AACchYACkJGAApCRgAKQkYACkJGAApCRgAKQkYACkJGAApCRgAKQkYACkJGAApCRg\\\n",
              "AKQkYACkJGAApCRgAKQkYACkJGAApCRgAKQkYACkJGAApCRgAKQkYACkJGAApCRgAKQkYACkJGAA\\\n",
              "pCRgAKQkYACkJGAApCRgAKQkYACkJGAApCRgAKQkYACkJGAApCRgAKQkYACkJGAApCRgAKQkYACk\\\n",
              "JGAApCRgAKQkYACkJGAApCRgAKQkYACkJGAApCRgAKQkYACkJGAApCRgAKQkYACkJGAApCRgAKQk\\\n",
              "YACkJGAApCRgAKQkYACkJGAApCRgAKQkYACkJGAApCRgAKQkYACkJGAApCRgAKQkYACkJGAApCRg\\\n",
              "AKQkYACkJGAApCRgAKQkYACkJGAApCRgAKQkYACkJGAApCRgAKQkYACkJGAApCRgAKQkYACkJGAA\\\n",
              "pCRgAKQkYACkJGAApCRgAKQkYACkJGAApCRgAKQkYACkJGAApCRgAKQkYACkJGAApCRgAKQkYACk\\\n",
              "JGAApCRgAKQkYACkJGAApCRgAKQkYACkJGAApCRgAKQkYACkJGAApCRgAKQkYACkJGAApCRgAKQk\\\n",
              "YACkJGAApCRgAKQkYACkJGAApCRgAKQkYACkJGAApCRgAKQkYACkJGAApCRgAKQkYACkJGAApLQw\\\n",
              "6wHgcVRKif3tj6PTW4ze8np0+8tRVdWsx4JUBAxmoB4cxPu//nHUo0H0Vzdicf3JWL1wOVYuPBdr\\\n",
              "m1ei0+3NekT4yhMwmIHB/c9idLQfo8P7Mdz7PPa2Poi7//h9RNWJq9//YSxvbM56RPjK8x0YzMDe\\\n",
              "nQ9jdHh/4npVVVGFjxLhYQgYtKyUEqWMG9fWLl6JheUzLU8EOQkYtK7EcH+ncaW/dj66vcWW54Gc\\\n",
              "BAxaVsbj2P/sk8a1zkI/qk635YkgJwGDlpVxHbu3329c6/aXWp4G8hIwaFkZ1xFRJq5X3V5sXH6l\\\n",
              "/YEgKQGDlg337/07Yv+pqqror52fwUSQk4BBy/bufBTj4aBhpXKAGY5BwKBFpZQ42tmKMh5NrPVW\\\n",
              "ztrAAccgYNCqEuPRsHFl/dJL0bGFHh6agEGLSl3HYO/zxrXeyrp3YHAMAgYtqodHsXv7vebFquOO\\\n",
              "9HAMAgYtKuNRjA4a7oHY7cXyxtMzmAjyEjBoUT04iFImz4B1e4uxevH5GUwEeQkYtOho505EQ8Cq\\\n",
              "qhMLi6szmAjyEjBo0c6Ndxq30HeXVn3/BcckYNCSUkrUw8PGtfVnXrIDEY5JwKAlpR5FfbTXuLZ4\\\n",
              "5kJE5eUIx+EVAy0ZHd6PvTsfNa65Cz0cn4BBS+rhoPEQc6fbi4Xldd+BwTEJGLSklLrpKSrRXVqL\\\n",
              "lScutT8QJCdg0JLB/buN17sL/egtn215GshPwKAlX3z4x2h8C1ZVUXXtQITjEjBoyfBw8hZSEREr\\\n",
              "Fy5HhO+/4LgEDFpQxnWUevIAc0TE2lNuIQUnIWDQgtHgIIaHu41r/bWNdoeBOSFg0IKjnTtx8Nkn\\\n",
              "zYtV1xZ6OAEBgxaU8TjKuJ643l89F0sbF2cwEeQnYNCC/3ULqYWlteivbLQ7DMwJAYMWHNz9tPF6\\\n",
              "Z6Efnd5iy9PAfBAwaMEXH/+58XrVXfD9F5yQgMGUlVIaH2IZEbFx+ZWWp4H5IWAwZfXwMMajQePa\\\n",
              "0sZmy9PA/BAwmLLB7t0YHuw0rnX7yy1PA/NDwGDKjna2Y7h/b+J6p9uLTndhBhPBfBAwmKJSSuP5\\\n",
              "r4iI5See/fJJzMCJCBhM2WC3+TEqC0trPkKERyBgMFUldm+927hSdbpRdbwE4aS8emCaSsTB5zcb\\\n",
              "l/pr51seBuaLgMEUjcejL8+BTaji7HNXW58H5omAwRQN9+81nwGrIvpr59ofCOaIgMEU7W9/HKOD\\\n",
              "5icxV1W35WlgvggYTEkpJUaHe1HGk09iXlp/Krr9pRlMBfNDwGCK6sFB4/XlJ56NhaXVlqeB+SJg\\\n",
              "MC1lHEf3txuXFvorUXXchQMehYDBlJRxHTv//FvzYhUeowKPSMBgSkoZRz08mrhedbpx5pmXZjAR\\\n",
              "zBcBgykZHe5GlPHE9arqxOqF52YwEcwXAYMpOdrZjnE9nFyoKvdAhFMgYDAlu7ffi3HDR4j9tfM2\\\n",
              "cMApEDCYglJKjOvJ818REStPXo5Or9/yRDB/BAymoIzrxodYRkT0V895BwanQMBgCurhYex8cr1x\\\n",
              "rdPt2UIPp0DAYBrG4xgd7U1crrq9WD7/zAwGgvkjYDAF47rhDvQR0Vnox/L5Sy1PA/NJwGAKjna2\\\n",
              "ozSdAet0o7dydgYTwfwRMJiCLz78U5SGXYhVVUVVednBafBKgiloPMAcEWeefjGqjueAwWmwlxce\\\n",
              "wnA4jLfffjvqun7gz3aqiIWtm41rN784jNtvvRUR/38X4vr6ely9evUko8JjoyqllFkPAV91W1tb\\\n",
              "ceXKldjd3X3gz55Z6ccbP/hevPLC5sTaj356LX7+m3ce+DteffXVuHbt2olmhceFd2Bwys6dWY5v\\\n",
              "Pn8x7g434/bgcnRjFJeW3o3l6l6M6smNHcDJCBicuipuDq7E3/e/G3XpRUTEzaMX4mvlF/HXD7Zm\\\n",
              "PBvMD5s44JQtrT4V13e/E3Xpx5ffdVWxPz4bf7j77dj6fH/W48HcEDA4Zd+4fDHG0Zu4fjhaiINB\\\n",
              "8w1+geMTMDhl33rhQix1DyauDw8/iwh7puC0CBicst37t+NS/cuoRncjYhxV1HG+dyPuffCTsOkX\\\n",
              "Ts9js4nj1q1bsx6BxLa3tx86Pm/87Hexef4vsXnxV7Gy8WK8eGk9Ln39MG7e/vSh/95gMPA/Sys2\\\n",
              "NyePe2Tx2ATszTffnPUIJLa7uxvDYfPdNf5bPS5xY/t+3Ni+HhHX47edKt7sdo61hX5ra8v/LK14\\\n",
              "/fXXZz3CiTnIDA/hOAeZT4ODzPBgvgMDICUBAyAlAQMgJQEDICUBAyAlAQMgpcfmHBg8isXFxXjt\\\n",
              "tdfi4GDyFlHT8PLLL7fydyAz58AASMlHiACkJGAApCRgAKQkYACkJGAApCRgAKQkYACkJGAApCRg\\\n",
              "AKQkYACkJGAApCRgAKQkYACkJGAApCRgAKQkYACkJGAApCRgAKQkYACkJGAApCRgAKQkYACkJGAA\\\n",
              "pCRgAKQkYACkJGAApCRgAKQkYACkJGAApCRgAKQkYACkJGAApCRgAKQkYACkJGAApCRgAKQkYACk\\\n",
              "JGAApCRgAKQkYACkJGAApCRgAKQkYACkJGAApCRgAKQkYACkJGAApCRgAKQkYACkJGAApCRgAKQk\\\n",
              "YACkJGAApCRgAKQkYACkJGAApCRgAKQkYACkJGAApCRgAKQkYACkJGAApCRgAKQkYACkJGAApCRg\\\n",
              "AKQkYACkJGAApCRgAKQkYACkJGAApCRgAKQkYACkJGAApCRgAKQkYACkJGAApCRgAKQkYACkJGAA\\\n",
              "pCRgAKT0L767AqbIw92TAAAAAElFTkSuQmCC\\\n",
              "\"\n",
              "  frames[25] = \"data:image/png;base64,iVBORw0KGgoAAAANSUhEUgAAAbAAAAEgCAYAAADVKCZpAAAAOXRFWHRTb2Z0d2FyZQBNYXRwbG90\\\n",
              "bGliIHZlcnNpb24zLjcuMSwgaHR0cHM6Ly9tYXRwbG90bGliLm9yZy/bCgiHAAAACXBIWXMAAAsT\\\n",
              "AAALEwEAmpwYAAAKcUlEQVR4nO3dvY9cVxnA4ffO7Mx+er12nHgTJ1jBUZSApYgWBVqqtPwR9Omp\\\n",
              "KPMX0KBQUQEdBZURKCBFfBkihXzj2F5vnHi9nzNz51CEBuaCveudO3nHz1Pes9p9ix39NDPn3FuV\\\n",
              "UkoAQDKdWQ8AACchYACkJGAApCRgAKQkYACkJGAApCRgAKQkYACkJGAApCRgAKQkYACkJGAApCRg\\\n",
              "AKQkYACkJGAApCRgAKQkYACkJGAApCRgAKQkYACkJGAApCRgAKQkYACkJGAApCRgAKQkYACkJGAA\\\n",
              "pCRgAKQkYACkJGAApCRgAKQkYACkJGAApCRgAKQkYACkJGAApCRgAKQkYACkJGAApCRgAKQkYACk\\\n",
              "JGAApCRgAKQkYACkJGAApCRgAKQkYACkJGAApCRgAKQkYACkJGAApCRgAKQkYACkJGAApCRgAKQk\\\n",
              "YACkJGAApCRgAKQkYACkJGAApCRgAKQkYACkJGAApCRgAKQkYACkJGAApCRgAKQkYACkJGAApCRg\\\n",
              "AKQkYACkJGAApCRgAKQkYACkJGAApCRgAKQkYACkJGAApCRgAKQkYACkJGAApCRgAKQkYACkJGAA\\\n",
              "pCRgAKQkYACkJGAApCRgAKQkYACkJGAApCRgAKQkYACkJGAApCRgAKQkYACkJGAApCRgAKQkYACk\\\n",
              "JGAApCRgAKQkYACkJGAApCRgAKQkYACkJGAApCRgAKQkYACkJGAApCRgAKQkYACkJGAApCRgAKQk\\\n",
              "YACkJGAApCRgAKQkYACkJGAApCRgAKQkYACkJGAApCRgAKQkYACkJGAApCRgAKQkYACkJGAApLQw\\\n",
              "6wHgcVRKif3tj6PTW4ze8np0+8tRVdWsx4JUBAxmoB4cxPu//nHUo0H0Vzdicf3JWL1wOVYuPBdr\\\n",
              "m1ei0+3NekT4yhMwmIHB/c9idLQfo8P7Mdz7PPa2Poi7//h9RNWJq9//YSxvbM56RPjK8x0YzMDe\\\n",
              "nQ9jdHh/4npVVVGFjxLhYQgYtKyUEqWMG9fWLl6JheUzLU8EOQkYtK7EcH+ncaW/dj66vcWW54Gc\\\n",
              "BAxaVsbj2P/sk8a1zkI/qk635YkgJwGDlpVxHbu3329c6/aXWp4G8hIwaFkZ1xFRJq5X3V5sXH6l\\\n",
              "/YEgKQGDlg337/07Yv+pqqror52fwUSQk4BBy/bufBTj4aBhpXKAGY5BwKBFpZQ42tmKMh5NrPVW\\\n",
              "ztrAAccgYNCqEuPRsHFl/dJL0bGFHh6agEGLSl3HYO/zxrXeyrp3YHAMAgYtqodHsXv7vebFquOO\\\n",
              "9HAMAgYtKuNRjA4a7oHY7cXyxtMzmAjyEjBoUT04iFImz4B1e4uxevH5GUwEeQkYtOho505EQ8Cq\\\n",
              "qhMLi6szmAjyEjBo0c6Ndxq30HeXVn3/BcckYNCSUkrUw8PGtfVnXrIDEY5JwKAlpR5FfbTXuLZ4\\\n",
              "5kJE5eUIx+EVAy0ZHd6PvTsfNa65Cz0cn4BBS+rhoPEQc6fbi4Xldd+BwTEJGLSklLrpKSrRXVqL\\\n",
              "lScutT8QJCdg0JLB/buN17sL/egtn215GshPwKAlX3z4x2h8C1ZVUXXtQITjEjBoyfBw8hZSEREr\\\n",
              "Fy5HhO+/4LgEDFpQxnWUevIAc0TE2lNuIQUnIWDQgtHgIIaHu41r/bWNdoeBOSFg0IKjnTtx8Nkn\\\n",
              "zYtV1xZ6OAEBgxaU8TjKuJ643l89F0sbF2cwEeQnYNCC/3ULqYWlteivbLQ7DMwJAYMWHNz9tPF6\\\n",
              "Z6Efnd5iy9PAfBAwaMEXH/+58XrVXfD9F5yQgMGUlVIaH2IZEbFx+ZWWp4H5IWAwZfXwMMajQePa\\\n",
              "0sZmy9PA/BAwmLLB7t0YHuw0rnX7yy1PA/NDwGDKjna2Y7h/b+J6p9uLTndhBhPBfBAwmKJSSuP5\\\n",
              "r4iI5See/fJJzMCJCBhM2WC3+TEqC0trPkKERyBgMFUldm+927hSdbpRdbwE4aS8emCaSsTB5zcb\\\n",
              "l/pr51seBuaLgMEUjcejL8+BTaji7HNXW58H5omAwRQN9+81nwGrIvpr59ofCOaIgMEU7W9/HKOD\\\n",
              "5icxV1W35WlgvggYTEkpJUaHe1HGk09iXlp/Krr9pRlMBfNDwGCK6sFB4/XlJ56NhaXVlqeB+SJg\\\n",
              "MC1lHEf3txuXFvorUXXchQMehYDBlJRxHTv//FvzYhUeowKPSMBgSkoZRz08mrhedbpx5pmXZjAR\\\n",
              "zBcBgykZHe5GlPHE9arqxOqF52YwEcwXAYMpOdrZjnE9nFyoKvdAhFMgYDAlu7ffi3HDR4j9tfM2\\\n",
              "cMApEDCYglJKjOvJ818REStPXo5Or9/yRDB/BAymoIzrxodYRkT0V895BwanQMBgCurhYex8cr1x\\\n",
              "rdPt2UIPp0DAYBrG4xgd7U1crrq9WD7/zAwGgvkjYDAF47rhDvQR0Vnox/L5Sy1PA/NJwGAKjna2\\\n",
              "ozSdAet0o7dydgYTwfwRMJiCLz78U5SGXYhVVUVVednBafBKgiloPMAcEWeefjGqjueAwWmwlxce\\\n",
              "wnA4jLfffjvqun7gz3aqiIWtm41rN784jNtvvRUR/38X4vr6ely9evUko8JjoyqllFkPAV91W1tb\\\n",
              "ceXKldjd3X3gz55Z6ccbP/hevPLC5sTaj356LX7+m3ce+DteffXVuHbt2olmhceFd2Bwys6dWY5v\\\n",
              "Pn8x7g434/bgcnRjFJeW3o3l6l6M6smNHcDJCBicuipuDq7E3/e/G3XpRUTEzaMX4mvlF/HXD7Zm\\\n",
              "PBvMD5s44JQtrT4V13e/E3Xpx5ffdVWxPz4bf7j77dj6fH/W48HcEDA4Zd+4fDHG0Zu4fjhaiINB\\\n",
              "8w1+geMTMDhl33rhQix1DyauDw8/iwh7puC0CBicst37t+NS/cuoRncjYhxV1HG+dyPuffCTsOkX\\\n",
              "Ts9js4nj1q1bsx6BxLa3tx86Pm/87Hexef4vsXnxV7Gy8WK8eGk9Ln39MG7e/vSh/95gMPA/Sys2\\\n",
              "NyePe2Tx2ATszTffnPUIJLa7uxvDYfPdNf5bPS5xY/t+3Ni+HhHX47edKt7sdo61hX5ra8v/LK14\\\n",
              "/fXXZz3CiTnIDA/hOAeZT4ODzPBgvgMDICUBAyAlAQMgJQEDICUBAyAlAQMgpcfmHBg8isXFxXjt\\\n",
              "tdfi4GDyFlHT8PLLL7fydyAz58AASMlHiACkJGAApCRgAKQkYACkJGAApCRgAKQkYACkJGAApCRg\\\n",
              "AKQkYACkJGAApCRgAKQkYACkJGAApCRgAKQkYACkJGAApCRgAKQkYACkJGAApCRgAKQkYACkJGAA\\\n",
              "pCRgAKQkYACkJGAApCRgAKQkYACkJGAApCRgAKQkYACkJGAApCRgAKQkYACkJGAApCRgAKQkYACk\\\n",
              "JGAApCRgAKQkYACkJGAApCRgAKQkYACkJGAApCRgAKQkYACkJGAApCRgAKQkYACkJGAApCRgAKQk\\\n",
              "YACkJGAApCRgAKQkYACkJGAApCRgAKQkYACkJGAApCRgAKQkYACkJGAApCRgAKQkYACkJGAApCRg\\\n",
              "AKQkYACkJGAApCRgAKQkYACkJGAApCRgAKQkYACkJGAApCRgAKQkYACkJGAApCRgAKQkYACkJGAA\\\n",
              "pCRgAKT0L767AqbIw92TAAAAAElFTkSuQmCC\\\n",
              "\"\n",
              "  frames[26] = \"data:image/png;base64,iVBORw0KGgoAAAANSUhEUgAAAbAAAAEgCAYAAADVKCZpAAAAOXRFWHRTb2Z0d2FyZQBNYXRwbG90\\\n",
              "bGliIHZlcnNpb24zLjcuMSwgaHR0cHM6Ly9tYXRwbG90bGliLm9yZy/bCgiHAAAACXBIWXMAAAsT\\\n",
              "AAALEwEAmpwYAAAKa0lEQVR4nO3dyYsc5xnA4beql9klWYs9lndsxzImC4YccnEgCeRkMDoHAvkf\\\n",
              "fHTO+ScCBp9z8c0hRCGQQw4JNrFDsIPtjIT2kSzN3ktVDo4hplvObF2dt/U8x6960AtS8UM9Vd9X\\\n",
              "1HVdBwAkU057AAA4DAEDICUBAyAlAQMgJQEDICUBAyAlAQMgJQEDICUBAyAlAQMgJQEDICUBAyAl\\\n",
              "AQMgJQEDICUBAyAlAQMgJQEDICUBAyAlAQMgJQEDICUBAyAlAQMgJQEDICUBAyAlAQMgJQEDICUB\\\n",
              "AyAlAQMgJQEDICUBAyAlAQMgJQEDICUBAyAlAQMgJQEDICUBAyAlAQMgJQEDICUBAyAlAQMgJQED\\\n",
              "ICUBAyAlAQMgJQEDICUBAyAlAQMgJQEDICUBAyAlAQMgJQEDICUBAyAlAQMgJQEDICUBAyAlAQMg\\\n",
              "JQEDICUBAyAlAQMgJQEDICUBAyAlAQMgJQEDICUBAyAlAQMgJQEDICUBAyAlAQMgJQEDICUBAyAl\\\n",
              "AQMgJQEDICUBAyAlAQMgJQEDICUBAyAlAQMgJQEDICUBAyAlAQMgJQEDICUBAyAlAQMgJQEDICUB\\\n",
              "AyAlAQMgJQEDICUBAyAlAQMgJQEDICUBAyAlAQMgJQEDICUBAyAlAQMgJQEDICUBAyAlAQMgJQED\\\n",
              "ICUBAyAlAQMgJQEDICUBAyAlAQMgJQEDICUBAyAlAQMgJQEDICUBAyAlAQMgJQEDICUBAyAlAQMg\\\n",
              "JQEDICUBAyAlAQMgJQEDICUBAyAlAQMgJQEDICUBAyAlAQMgJQEDICUBAyAlAQMgJQEDICUBAyCl\\\n",
              "9rQHgIdRXdexfXstWt2F6CyejLLdjaIopj0WpCJgMAXD3k58+vtfRzXoR3fldCyefjKWHn0uVh5/\\\n",
              "MeZWzkx7PEhBwGAKept3YrC3FYOdjehtrsfmtU8iProU515+LZ597WfTHg9S8DswmIKtm5/FYGdj\\\n",
              "ZL0o3ZKwX+4WaFhd11HX9ch6UbZi5fyFKUwEOQkYTMFwb2t0sShj7sS55oeBpAQMGlZXw9havzyy\\\n",
              "XhRldBZWpjAR5CRg0LC6GsbG1Y/HXisKtyTsl7sFGjf6+6+IiIXT56NodxqeBfISMGjYsLcbUVcj\\\n",
              "6wunn4yyJWCwXwIGDettrkc1HIysdxZPRFG2pjAR5CRg0LCNqx9H1d8dWS/Klu2k4AAEDBpU13VU\\\n",
              "w/7ohaKM9txS8wNBYgIGTaqrGO7tjCy3uvOx8vi3pjAQ5CVg0KBqOIjd+zdH1ouyFZ2lk1OYCPIS\\\n",
              "MGhQ1d+NjWuj74AVRekJRDggAYMG1RERY/ZBjCgiPMABByJg0KDB7ubYjXxPPv3tKD1CDwciYNCg\\\n",
              "7duXx77EPH/qsQjbSMGBuGOgQZvXPom6Go6st7sL3gGDAxIwaEhd11GP2wexKKJoORwdDkrAoCF1\\\n",
              "NYxhb/QdsPb8SiyefWYKE0FuAgYNqQa96G/fG1lvtbvRXTwxhYkgNwGDhgx2NmLr1r9G1otWO1rd\\\n",
              "hSlMBLkJGDSkrquoq9Fd6CPCO2BwCAIGDRnsbow9y3J59YWIEDA4KAGDhuzcvRbjCrZ45qnmh4EZ\\\n",
              "IGDQkHuX/z52vbNoE184DAGDBny5fdToDhwRDrKEwxIwaEA97MewtzeyXnbmoj23OIWJID8Bgwb0\\\n",
              "d+5Hb3N9ZL27fCbmT61OYSLIT8CgAb2te7F3/9bIeqszFy3/A4NDETBowtgzwCKKsozCLvRwKO4c\\\n",
              "aEB/5/7Y9aJse4ADDknAoAHjvj6MiHjkuVcbngRmh4BBA+5d+Wjs+vzJRxueBGaHgMGE1XUd9aA/\\\n",
              "9lrZmW94GpgdAgYTVvV3oxr0RtaLVifKVmsKE8FsEDCYsP72/RjsbY2sL5xaje7y6SlMBLNBwGDC\\\n",
              "dr64Hr3NOyPr7fnlaHWcAwaHJWAwQV/ugTj+HbCy3Y2i1W52IJghAgYT1t8e/w5YFIV3wOAIBAwm\\\n",
              "bOvW52PXTzxxodlBYMYIGExSXcfm9X+OuVDEwiPnGx8HZomAwUSN//1XFBGdhRPNjgIzRsBgggZ7\\\n",
              "21ENB+Mv2sQXjsQdBBO0vX45BrubI+vdpUei1elOYSKYHQIGE7S3cTuq/u7I+sKZJ6M1tzSFiWB2\\\n",
              "CBhMSF3XDzwHrDO/EmW70/BEMFsEDCamfuA7YA6yhKNzB8GE1FUVu19cH3utbM81PA3MHgGDCamr\\\n",
              "YWxc+3hkvWi149Sz353CRDBbBAwmpa7/sxfi1xVFGXN2oYcjEzCYkP7uRkQ1HHutbHuEHo5KwGBC\\\n",
              "du5cjWo4ehJza27JS8xwDNxFMCHbt9fGnsS8/Njz0ep4iAOOSsBgAr7pHLDu0qkoSueAwVEJGExA\\\n",
              "XVUPfAes1Z2PcA4YHJmAwQRUg73YuvnZ+ItF6SBLOAYCBhNQDwexe+/GyHrZmY+Vx1+cwkQwewQM\\\n",
              "JqCuq7HrZasdcytnG54GZpPfJMM+XblyJdbW1vb12U7/XsRw9B2w/mAYf/ngw4jyf2/ke+HChTh9\\\n",
              "2gvP8CACBvv09ttvx1tvvbWvz/70+8/HL3/+w+i0W19bX19fj4s//kns9h5wyOV/effdd+P1118/\\\n",
              "1KzwMBAwmIDvvbAaUc7H5zsvxvbwVJxs34zVuU/jkyvrMazGf70IHIyAwQRUxXx8sPGjuN1/Kuoo\\\n",
              "ooiX497gXHz42V9jMBQwOA4CBses227F7fIHsdx/OiK+fFy+jlas7b4Sf7u1+qAzLoED8hQiHLPl\\\n",
              "hW6cP3c2vorXV+oooz9sjf8h4MAEDI7Z8mI3Xn6iHRFf/6qwGvaivzd+dw7g4HyFCMdsMKiiu/Wn\\\n",
              "OFmXcb/1naiLbnSKvVgZ/jFuXPnztMeDmfHQBOz69fFHu8N+bW5u7utzV9c34he/+k08ee53ceLs\\\n",
              "K3Hu7Pl49ZkyTi7djTsbO/v+8+7evevfLRO3uro67REO7aEJ2DvvvDPtEUju/fff3/dnN3d68Y+1\\\n",
              "WxFrf4iiiPhtWUZRFtEf7P8JxEuXLsWNG6PbUcFxevPNN6c9wqE9NAHL/JfE/4e9vb147733Dvxz\\\n",
              "dR3RH1YR4w9nfqCLFy96kRm+gYc4AEhJwABIScAASEnAAEhJwABIScAASOmheYwejuqll16KN954\\\n",
              "o7E/L/MLptCEoq7tjQ1APr5CBCAlAQMgJQEDICUBAyAlAQMgJQEDICUBAyAlAQMgJQEDICUBAyAl\\\n",
              "AQMgJQEDICUBAyAlAQMgJQEDICUBAyAlAQMgJQEDICUBAyAlAQMgJQEDICUBAyAlAQMgJQEDICUB\\\n",
              "AyAlAQMgJQEDICUBAyAlAQMgJQEDICUBAyAlAQMgJQEDICUBAyAlAQMgJQEDICUBAyAlAQMgJQED\\\n",
              "ICUBAyAlAQMgJQEDICUBAyAlAQMgJQEDICUBAyAlAQMgJQEDICUBAyAlAQMgJQEDICUBAyAlAQMg\\\n",
              "JQEDICUBAyAlAQMgJQEDICUBAyAlAQMgJQEDICUBAyAlAQMgJQEDICUBAyAlAQMgJQEDICUBAyAl\\\n",
              "AQMgJQEDICUBAyAlAQMgJQEDICUBAyAlAQMgJQEDICUBAyAlAQMgJQEDICUBAyAlAQMgJQEDIKV/\\\n",
              "A02i3O5XfXwYAAAAAElFTkSuQmCC\\\n",
              "\"\n",
              "  frames[27] = \"data:image/png;base64,iVBORw0KGgoAAAANSUhEUgAAAbAAAAEgCAYAAADVKCZpAAAAOXRFWHRTb2Z0d2FyZQBNYXRwbG90\\\n",
              "bGliIHZlcnNpb24zLjcuMSwgaHR0cHM6Ly9tYXRwbG90bGliLm9yZy/bCgiHAAAACXBIWXMAAAsT\\\n",
              "AAALEwEAmpwYAAAKKUlEQVR4nO3dzY4cZxWA4VP9Mz/tGXscO4kxcRKiOGAkkjUSCmKDcgdsuI3c\\\n",
              "AbfADlaOxA5FCgIJsSaAhCwRQDEoCULx2E7w2DPjmfZ0d1WxCJtkauL5SVVzxs+zrM+yz6b0uru/\\\n",
              "r6qo67oOAEimN+8BAOA4BAyAlAQMgJQEDICUBAyAlAQMgJQEDICUBAyAlAQMgJQEDICUBAyAlAQM\\\n",
              "gJQEDICUBAyAlAQMgJQEDICUBAyAlAQMgJQEDICUBAyAlAQMgJQEDICUBAyAlAQMgJQEDICUBAyA\\\n",
              "lAQMgJQEDICUBAyAlAQMgJQEDICUBAyAlAQMgJQEDICUBAyAlAQMgJQEDICUBAyAlAQMgJQEDICU\\\n",
              "BAyAlAQMgJQEDICUBAyAlAQMgJQEDICUBAyAlAQMgJQEDICUBAyAlAQMgJQEDICUBAyAlAQMgJQE\\\n",
              "DICUBAyAlAQMgJQEDICUBAyAlAQMgJQEDICUBAyAlAQMgJQEDICUBAyAlAQMgJQEDICUBAyAlAQM\\\n",
              "gJQEDICUBAyAlAQMgJQEDICUBAyAlAQMgJQEDICUBAyAlAQMgJQEDICUBAyAlAQMgJQEDICUBAyA\\\n",
              "lAQMgJQEDICUBAyAlAQMgJQEDICUBAyAlAQMgJQEDICUBAyAlAQMgJQEDICUBAyAlAQMgJQEDICU\\\n",
              "BAyAlAQMgJQEDICUBAyAlAQMgJQEDICUBAyAlAQMgJQEDICUBAyAlAQMgJQEDICUBAyAlAQMgJQE\\\n",
              "DICUBAyAlAQMgJQEDICUBAyAlAQMgJQEDICUBAyAlAQMgJQEDICUBAyAlAQMgJQEDICUBAyAlAQM\\\n",
              "gJQG8x4AnkSTnQcx3d2M4ehcDJdXo+j15z0SpCNg0LG6ruPeP/8Yt2/8JoZn1mLhzPkYXXguRhef\\\n",
              "j5VnX4rF1QvzHhFSEDDoWl3FZOd+lJPdKCe78ej+emx9/LeIiHj62uvx4us/nvOAkIPfwKBjdVXG\\\n",
              "zicfzXsMSE/AoGN1Xcfe9r39C0URi2ef7n4gSErAoGN1XUVEve960RvE6uVXuh8IkhIw6NhsvB11\\\n",
              "Ve27XhRFDEfn5jAR5CRg0LG9rU+jLqcNK0X0evZVwWEJGHTs4d0Po5pN9l3vDYYRRTGHiSAnAYMO\\\n",
              "1XUdTb9/RUSsXv5W9IeL3Q4EiQkYdKmuo5zuNS4tnFmLwleIcGgCBh2qqzKmu5uNa/2FZV8hwhEI\\\n",
              "GHSonI5j+9b7zYtFEYWAwaEJGHSorusop4/2Xe8NFmJ04cocJoK8BAw6VFdl4/WiP4yltWc7ngZy\\\n",
              "EzDo0Gx36387ET+v6PVjuHx2DhNBXgIGHXp498PGT2FFUXgnGByRgEGHxhu3Iur9j5EaLp+NonA7\\\n",
              "wlG4Y+D/wMqll6PouR3hKNwx0JG6KqOcHXCIeeWpCJ/A4EjcMdCRajaN2Xi7cW2wOOp4GshPwKAj\\\n",
              "s72dGN9fP3DdIWY4GgGDjlSzaUzHW/uu9wYLMTyz1v1AkJyAQUfqumx8EP1gaSVGF57rfiBITsCg\\\n",
              "Iwc9xLfXH8ZgaaXjaSA/AYOOjO/fjsaPYA4xw7EIGHRke/1m4/XeYKHjSeB0EDDowJe9iXnthVcj\\\n",
              "wg5EOCoBgw7UVRnVbNa4trByoeNp4HQQMOhANX0U5d5O49pg6UzH08DpIGDQgb3t/8Tuxq0DVr2J\\\n",
              "GY5DwKADVVlGXU73XR+OzsXiqq8Q4TgEDLpQN7+JebC04ikccEwCBh2Y7BxwiHmwGIOF5Y6ngdNB\\\n",
              "wKADk+17jdeLnkPMcFwCBh3YvPX3xuvD0Vq3g8ApImDQgaYNHBERq1+72vEkcHoIGLSsmk2jLps3\\\n",
              "cTjEDMcnYNCy2d5ulNNHjWsOMcPxCRi0bG/rk5jsPDhg1QFmOC4Bg5bN9najavgENlhejcGiLfRw\\\n",
              "XAIGLarr+sBDzEtnn4nhmfMdTwSnh4BByya7W43X+4uj6A8WO54GTg8Bg5aNN9Ybrxe9fhQ9tyAc\\\n",
              "l7sH2lTXsb3+fuOSNzHDyQgYzEURa89/Z95DQGoCBi2qZpOoq6pxzSFmOBkBgxZNH21HVU72LxQO\\\n",
              "McNJCRi0aOfuBzE9YBeiQ8xwMgIGLSpnk4h6/1eIy+cvx2BxNIeJ4PQQMGhJXdcRVd24trB6IXrD\\\n",
              "pY4ngtNFwKA1dUzHzW9iHi6tRG8w6HgeOF0EDNpS1zF5uNG4VPT6URRuPzgJdxC0pCpnsXWr+RCz\\\n",
              "DRxwcgIGLarL2b5rRa8fZ5/79hymgdNFwKAl1Wzvs40cX1T0YmntUvcDwSkjYNCS6c5m1NX+V6kU\\\n",
              "RRGDRYeY4aQEDFry8NN/RTXba1wr/AQGJyZg0JLpzoPGT2CLqxej6NtCDyclYNCCuq6jbngCR0TE\\\n",
              "mWdejJ4XWcKJCRi0oa5i9uhh49Jw+VwUvX7HA8Hp43sMOKSyLOPGjRsxmTQ8Xf4L+kUVqxu3G9c+\\\n",
              "Xr8d/3733cf+HaPRKF577bUo/GAGjYq6cZ8v8EW7u7tx9erVWF9ff+yffWp1OX75kx/FaHH4uetV\\\n",
              "VcdP3/5TXP/tXx77d1y7di3ee++96Pd9WoMmPoFBizanF+P25KUooorLix9ETO7En28+PoDA4wkY\\\n",
              "tGBpcRD3plfi5t4PY1p/tmHj1t4r8Y3iV/Hp5njO08HpYBMHtOD8uYvx150fxLReis+ee1jEXrUS\\\n",
              "Nza/H5u7+7fWA0cnYNCC7736QvT6+7fKz+ph+NUZvhoCBi1YWerHUm933/XJ+F7z8xGBIxMwaMH2\\\n",
              "9v34evl29GZ3I6KMIso4N/gktj76eVTl47fhA4/3xGziuHPnzrxHILnxeBxlebjfr3726xvxzu//\\\n",
              "EZee/V2M1r4ZL18+H9996VHcu3crqkN+AivLMu7evRu9nv9n0p5Ll/K+GeGJCdj169fnPQLJTafT\\\n",
              "GI8Pt4Owquq4vfEwbm/cjIib8YdeEb/o9aKsmh8v1eTBgwfx1ltvOchMq9588815j3BsDjLDIR3l\\\n",
              "IPNXwUFm+HK+mwAgJQEDICUBAyAlAQMgJQEDICUBAyClJ+YcGJxUv9+PN954IzY2Njr5965cueIM\\\n",
              "GHwJ58AASMlXiACkJGAApCRgAKQkYACkJGAApCRgAKQkYACkJGAApCRgAKQkYACkJGAApCRgAKQk\\\n",
              "YACkJGAApCRgAKQkYACkJGAApCRgAKQkYACkJGAApCRgAKQkYACkJGAApCRgAKQkYACkJGAApCRg\\\n",
              "AKQkYACkJGAApCRgAKQkYACkJGAApCRgAKQkYACkJGAApCRgAKQkYACkJGAApCRgAKQkYACkJGAA\\\n",
              "pCRgAKQkYACkJGAApCRgAKQkYACkJGAApCRgAKQkYACkJGAApCRgAKQkYACkJGAApCRgAKQkYACk\\\n",
              "JGAApCRgAKQkYACkJGAApCRgAKQkYACkJGAApCRgAKQkYACkJGAApCRgAKQkYACkJGAApCRgAKQk\\\n",
              "YACkJGAApCRgAKQkYACkJGAApCRgAKQkYACkJGAApCRgAKQkYACkJGAApCRgAKT0X4CD7+YDDEz2\\\n",
              "AAAAAElFTkSuQmCC\\\n",
              "\"\n",
              "  frames[28] = \"data:image/png;base64,iVBORw0KGgoAAAANSUhEUgAAAbAAAAEgCAYAAADVKCZpAAAAOXRFWHRTb2Z0d2FyZQBNYXRwbG90\\\n",
              "bGliIHZlcnNpb24zLjcuMSwgaHR0cHM6Ly9tYXRwbG90bGliLm9yZy/bCgiHAAAACXBIWXMAAAsT\\\n",
              "AAALEwEAmpwYAAAJ/klEQVR4nO3dy44cZxmA4a+qu2Z6xmPHB4IdJyEWOSmRkICwZcUKIaRchGGb\\\n",
              "Va6CS4iyyhVE2YLYICJwWCBOIjiAFGM7TuyMZ9zj6VMVCwukZGrE9Ey6mq/9PMv/b7m/hVuvprvq\\\n",
              "r6JpmiYAIJly2QMAwHEIGAApCRgAKQkYACkJGAApCRgAKQkYACkJGAApCRgAKQkYACkJGAApCRgA\\\n",
              "KQkYACkJGAApCRgAKQkYACkJGAApCRgAKQkYACkJGAApCRgAKQkYACkJGAApCRgAKQkYACkJGAAp\\\n",
              "CRgAKQkYACkJGAApCRgAKQkYACkJGAApCRgAKQkYACkJGAApCRgAKQkYACkJGAApCRgAKQkYACkJ\\\n",
              "GAApCRgAKQkYACkJGAApCRgAKQkYACkJGAApCRgAKQkYACkJGAApCRgAKQkYACkJGAApCRgAKQkY\\\n",
              "ACkJGAApCRgAKQkYACkJGAApCRgAKQkYACkJGAApCRgAKQkYACkJGAApCRgAKQkYACkJGAApCRgA\\\n",
              "KQkYACkJGAApCRgAKQkYACkJGAApCRgAKQkYACkJGAApCRgAKQkYACkJGAApCRgAKQkYACkJGAAp\\\n",
              "CRgAKQkYACkJGAApCRgAKQkYACkJGAApCRgAKQkYACkJGAApCRgAKQkYACkJGAApCRgAKQkYACkJ\\\n",
              "GAApCRgAKQkYACkJGAApCRgAKQkYACkJGAApCRgAKQkYACkJGAApCRgAKQkYACkJGAApCRgAKQkY\\\n",
              "ACkJGAApCRgAKQkYACkJGAApCRgAKQkYACkJGAApCRgAKQkYACkJGAApCRgAKQkYACkJGAApCRgA\\\n",
              "KfWXPQA8jsbD7Rjt3o1etR5ltR69ahBltR5lr4qiKJY9HqQgYNCxpmni3vXfxo1r70avGkRvbRBl\\\n",
              "NYhetR7nv/laXPzWD5Y9IqQgYNC1po7xcDua2SSms0lM93f/u7Vx7vISB4Nc/AYGHWvqOh7c+Xvr\\\n",
              "XlH2Op4G8hIw6FjT1DHa+ezAelH248wzry5hIshJwOD/RVHE2tb5ZU8BaQgYdGw23oto6gPrRVFG\\\n",
              "tXF6CRNBTgIGHZvs7URTz1r3isJHEo7KpwU6Nrzzj5hNRgfWy34V4R4wODIBg45NHu62foV4+vLL\\\n",
              "0avWlzAR5CRg0KGmaVrjFRFRbT7hMnqYg4BBl5o6pqO91q3++qkIv4HBkfm0QIeaehaTvfvtm0Xh\\\n",
              "HESYg4BBh2aTUTz4pOUUjqKIXjXofiBITMCgQ01TP7oP7Et61UacvvzSEiaCvAQMOnTo/V9lL6qN\\\n",
              "Mx1PA7kJGHRo+nD30ZWIX1KUZfTWNpYwEeQlYNCh8XD70MvogfkIGHRo9+ZfW79G7A+2XIEIcxIw\\\n",
              "6FDdcoRURMSZZ16NovR8WZiHgEFHmqaOup627q1tnnUOIsxJwKAj9Wwa09Gwda+35h4wmJeAQUdm\\\n",
              "o2Hsf37r0H2/gcF8BAw6MhuPYrT72YH1oldF34MsYW4CBktWDbZi88Kzyx4D0hEw6Eg9HUUcvIc5\\\n",
              "in4V/cFW9wNBcgIGHRkPt1vXi6J89DRmYC4CBh3ZvfVhtP4JBhyLgEFHRjuftq4Pzl7seBJYDQIG\\\n",
              "HWg7wPc/Tj/1UkS4hB7mJWDQgaaeRT0dt+5Vm2e7HQZWhIBBB+rJqPVBlhERZX/NTcxwDAIGHRgP\\\n",
              "78X+9ifLHgNWioBBB2aTcczGDw+s9wdbsXbqbPcDwQoQMOhE+0Uc1eYTsX76ax3PAqtBwKAD0/32\\\n",
              "U+jL/rqT6OGYBAw6MB5+3rpelEUUZa/jaWA1CBh0YOfjP7Wu96qNjieB1SFg0IHp6EHr+pmnX+l4\\\n",
              "ElgdAgYL1jTNoUcgVlvnuh0GVoiAwYLVk/3DT+HYONPxNLA6BAwWbDp6GLPJqHXPBRxwfAIGC7a/\\\n",
              "fSvGD+4eWC/7654DBicgYLBg9WwaTT07sD544utO4YATEDBYoKZpoqmnrXu99c0oKzcxw3EJGCzY\\\n",
              "ZG+ndb1XDaLs+QoRjkvAYMHGD+61bxSFx6jACQgYLFQTOzf+3Lrj9y84GQGDRWoi6tmkZaOIrUsv\\\n",
              "dj4OrBIBgwVq6umjkzharJ1yCgechIDBAk33h9G0/QVWRPQHp7ofCFaIgMECTR7uHHqMVIQLOOAk\\\n",
              "BAwWaO/uxzHdP3gSfbV5NspqbQkTweoQMFiQpmmiaerWvY1zT0V/bbPjiWC1CBgsUD1p//qwP9iK\\\n",
              "wjmIcCICBovSNDHe227d6lXrURQ+fnASPkGwIE09jd0bfzl03ykccDICBgvSNE1M9u4f3CjKGJy7\\\n",
              "3P1AsGIEDDpWlGVsXnh22WNAegIGC1JP9ltP4SiicA4ifAUEDBZksrfT+iDLKIooq/XuB4IV01/2\\\n",
              "AJDJnTt34vr160d67dr2h9FM9g+sz2Z1/O6DD6Lpb/zPf+P555+Pixcvzj0nPA4EDObw3nvvxdWr\\\n",
              "V4/02qs/+m789MevHVj/w0f/ijfe+GEM99tOqf+it95668jvB48bAYMFmjW9uDl6IXanF+J0/25c\\\n",
              "Xr8e/7y9HaNJy1eLwFwEDBagLIrY3NiMPz74ftwavRBNFFFEE/cmT8Wn938fs1n7EVPA0bmIAxag\\\n",
              "3ytjuPa9uDl6MZooI6KIJsq4OXoxru++HO1PCAPmIWCwAJuDKr7z0jfi4CNTipiFMxDhqyBgsABl\\\n",
              "UcTZjXEU8cXfuup6GuOH95Y0FawWAYMFmNV1FLsfxPnZr6OoH0ZEE/1iFJeK38THH/1i2ePBSnhs\\\n",
              "LuK4ffv2skdgBezs7BzpdfeHo/jJz96Np5/8ZZx78pU4f/7Z+PaVfly6sBP3doZzvZ//uyzSpUuX\\\n",
              "lj3CsT02AXvnnXeWPQIr4Nq1a0d+7d5oEn+7cTfixq+iKCJ+XpbRK4u5LqF///33YzZzyT2L8+ab\\\n",
              "by57hGMrmrbD2oBWb7/9dqc3FruRGQ7nNzAAUhIwAFISMABSEjAAUhIwAFISMABSemzuA4OvwnPP\\\n",
              "PRevv/56Z+935cqVzt4LsnEfGAAp+QoRgJQEDICUBAyAlAQMgJQEDICUBAyAlAQMgJQEDICUBAyA\\\n",
              "lAQMgJQEDICUBAyAlAQMgJQEDICUBAyAlAQMgJQEDICUBAyAlAQMgJQEDICUBAyAlAQMgJQEDICU\\\n",
              "BAyAlAQMgJQEDICUBAyAlAQMgJQEDICUBAyAlAQMgJQEDICUBAyAlAQMgJQEDICUBAyAlAQMgJQE\\\n",
              "DICUBAyAlAQMgJQEDICUBAyAlAQMgJQEDICUBAyAlAQMgJQEDICUBAyAlAQMgJQEDICUBAyAlAQM\\\n",
              "gJQEDICUBAyAlAQMgJQEDICUBAyAlAQMgJQEDICUBAyAlAQMgJQEDICUBAyAlAQMgJQEDICUBAyA\\\n",
              "lAQMgJQEDICUBAyAlAQMgJQEDICUBAyAlAQMgJQEDICUBAyAlAQMgJQEDICUBAyAlAQMgJQEDICU\\\n",
              "BAyAlP4NvIbMeTICOGQAAAAASUVORK5CYII=\\\n",
              "\"\n",
              "  frames[29] = \"data:image/png;base64,iVBORw0KGgoAAAANSUhEUgAAAbAAAAEgCAYAAADVKCZpAAAAOXRFWHRTb2Z0d2FyZQBNYXRwbG90\\\n",
              "bGliIHZlcnNpb24zLjcuMSwgaHR0cHM6Ly9tYXRwbG90bGliLm9yZy/bCgiHAAAACXBIWXMAAAsT\\\n",
              "AAALEwEAmpwYAAAJiklEQVR4nO3dvY8cdxnA8Wdm3+7FduIQ2YY4RqQIhlSpaKChj+Q/gIY/Ig1S\\\n",
              "moj/gIYa11BFQrQ0KOJFSiicBAuESYiJ41zO9767M0ORNOjmxO1edibP+vNpLP/m5H0Kj77am5nf\\\n",
              "FE3TNAEAyZR9DwAAyxAwAFISMABSEjAAUhIwAFISMABSEjAAUhIwAFISMABSEjAAUhIwAFISMABS\\\n",
              "EjAAUhIwAFISMABSEjAAUhIwAFISMABSEjAAUhIwAFISMABSEjAAUhIwAFISMABSEjAAUhIwAFIS\\\n",
              "MABSEjAAUhIwAFISMABSEjAAUhIwAFISMABSEjAAUhIwAFISMABSEjAAUhIwAFISMABSEjAAUhIw\\\n",
              "AFISMABSEjAAUhIwAFISMABSEjAAUhIwAFISMABSEjAAUhIwAFISMABSEjAAUhIwAFISMABSEjAA\\\n",
              "UhIwAFISMABSEjAAUhIwAFISMABSEjAAUhIwAFISMABSEjAAUhIwAFISMABSEjAAUhIwAFISMABS\\\n",
              "EjAAUhIwAFISMABSEjAAUhIwAFISMABSEjAAUhIwAFISMABSEjAAUhIwAFISMABSEjAAUhIwAFIS\\\n",
              "MABSEjAAUhIwAFISMABSEjAAUhIwAFISMABSEjAAUhIwAFISMABSEjAAUhIwAFISMABSEjAAUhIw\\\n",
              "AFISMABSEjAAUhIwAFISMABSEjAAUhIwAFISMABSEjAAUhIwAFISMABSEjAAUhIwAFISMABSEjAA\\\n",
              "UhIwAFISMABSEjAAUhIwAFISMABSEjAAUhIwAFISMABSEjAAUhIwAFISMABSEjAAUhIwAFISMABS\\\n",
              "GvY9ADxtmrqOg0f/iKIcRjmaxGA0iXL4xZ9FOeh7PEhDwKBj85ODuP+7X0ZdTaMcbcRgtBGD8UYM\\\n",
              "Ny7HSz/+aQwn232PCCkIGHRsfnIQdT2LanoU1fQoZl+ul8NJNFXV62yQiWtg0LH50V40dd33GJCe\\\n",
              "gEHH9j7+IOrZ8an18aWrroHBAgQMOnbWt6+tb7wY5XDc8TSQl4DB18RwYzuK0ikJ5+VsgQ41TRNN\\\n",
              "NW89NphsRxROSTgvZwt0qKmrmJ8ctB5z/QsWI2DQpaY+M2AREUVRdDgM5CZg0KF6PovjnY9PrRfl\\\n",
              "IMbbz3Y/ECQmYNChup7Hyd6np9bL4Tg2n3uhh4kgLwGDr4GiKGM4udT3GJCKgEGHmvqMraLKQQw3\\\n",
              "trodBpITMOhQdXwQTdOcWi+KIorS1qSwCAGDDs2O9yJaAgYsTsCgQ4ePP4ymafs1YhHhFnpYiIBB\\\n",
              "h04+/0/rN7ArN78XpQeZYSECBl8D4+2rvoHBggQMOtI0TTTRfv1ruHk5IgQMFiFg0JGmrqJqeQ9Y\\\n",
              "RMTAa1RgYQIGHWnqeVQnh2cetw8iLEbAoCPV9CiOdz9pPyhesDABg45U05OY7j8+tT7cuBRbz9/q\\\n",
              "YSLITcCgZ+VwHKONy32PAekIGHSm/Q7EohzGYLLZ8SyQn4BBR6rpUWvDirKM0l2IsDABg47Mjvb6\\\n",
              "HgHWioBBR+ZHT+KMr2CdzwLrwJkDHXny0b3W9Svf+m7YhQMWJ2DQkbqat66PLz3X8SSwHgQMOvDF\\\n",
              "Syzb70IcbbqFHpYhYNCBpq6jqdreAxYxmGx1PA2sBwGDDjTV9MyNfCMK+yDCEgQMOlDNp1FN2wOm\\\n",
              "XbAcAYMOTPc/i+Odf59aH21fjcmVaz1MBPkJGHSgqetomvrU+mA0cQ0MliRg0KNyOI7BaKPvMSAl\\\n",
              "AYMONNWsdb0cjOyDCEsSMOjAmfsgFt7EDMsSMOjA7HC37xFg7QgYdGD3wV9b18fbtpGCZQkYdKCu\\\n",
              "pq3rl7/5cseTwPoQMOjRaMs+iLAsAYMV++IZsPaNfIcblzqeBtaHgMGKVfOTaObtt9FHMeh2GFgj\\\n",
              "AgYrVs9Oop63XwMDlidgsGKzw89jfnJwan0w3ozBaNLDRLAeBAxWbHqwG/Pj/VPrkyvXYrT1TA8T\\\n",
              "wXoQMOjJYDSxjRRcgIDBCjVNE9GyC31ERDnaiHIw6ngiWB8CBivWdv0rIqIoS2+zhAsQMFixMzfy\\\n",
              "DRv5wkUIGKzY0eMPW9fH2892OwisGQGDVWqaOHz8r5YDRWxfe6nzcWCdCBj0ZLR1pe8RIDUBg5Vq\\\n",
              "3wMxiojhho184SIEDFaomk+jqavWY+Vg2PE0sF4EDFaoOjmMppqfcdQdiHARAgYrdPLkUVSz4/aD\\\n",
              "+gUXImCwQsdPPolqenRqffv5b3sXGFyQX8LDgnZ2duLevXvn+tnys79H2xu/dg9n8cc//SWi/P+n\\\n",
              "4K1bt+LmzZsLTgnrr2jOelUs0Oqtt96K11577Vw/e+eHt+NnP/nR6X/jDx/Ez3/1+6jPcfq9+eab\\\n",
              "8cYbbyw8J6w738BghTbGw6iaMh6efCd259dja/B5vDD5W8zm1bniBZxNwGBFyqKIZy5txfsHP4gH\\\n",
              "x9+PJsoooolPp7diVr/f93iQnps4YEWKIuJ4/Eo8OH4lmhhERBFNlPFo9mLcP3q17/EgPQGDFRkO\\\n",
              "ynj15VvRnDrNiqga7wGDixIwWJGiKOLZzVmU8b8PMjd1HQd7j3qaCtaHgMEKXRv/M25vvx2j4jgi\\\n",
              "mhgU07gxfDfee/fXfY8G6T01N3E8fPiw7xFYEzs7O+f6udm8il/85u2YjP4cu/NrsVddjc1yP54Z\\\n",
              "fBSPd5+c+/P29/f9/2Vlbty40fcIS3tqAnb37t2+R2BNnPch5qpu4rdv3//yb+8t/XnvvPOO/7+s\\\n",
              "zOuvv973CEvzIDMsaJEHmb8KHmSGdq6BAZCSgAGQkoABkJKAAZCSgAGQkoABkNJT8xwYfFWuX78e\\\n",
              "d+7c6ezzbt++3dlnQSaeAwMgJb9CBCAlAQMgJQEDICUBAyAlAQMgJQEDICUBAyAlAQMgJQEDICUB\\\n",
              "AyAlAQMgJQEDICUBAyAlAQMgJQEDICUBAyAlAQMgJQEDICUBAyAlAQMgJQEDICUBAyAlAQMgJQED\\\n",
              "ICUBAyAlAQMgJQEDICUBAyAlAQMgJQEDICUBAyAlAQMgJQEDICUBAyAlAQMgJQEDICUBAyAlAQMg\\\n",
              "JQEDICUBAyAlAQMgJQEDICUBAyAlAQMgJQEDICUBAyAlAQMgJQEDICUBAyAlAQMgJQEDICUBAyAl\\\n",
              "AQMgJQEDICUBAyAlAQMgJQEDICUBAyAlAQMgJQEDICUBAyAlAQMgJQEDICUBAyAlAQMgJQEDICUB\\\n",
              "AyAlAQMgJQEDICUBAyAlAQMgJQEDICUBAyAlAQMgJQEDICUBAyAlAQMgJQEDICUBAyAlAQMgJQED\\\n",
              "IKX/AvcbpBjJ3sXPAAAAAElFTkSuQmCC\\\n",
              "\"\n",
              "  frames[30] = \"data:image/png;base64,iVBORw0KGgoAAAANSUhEUgAAAbAAAAEgCAYAAADVKCZpAAAAOXRFWHRTb2Z0d2FyZQBNYXRwbG90\\\n",
              "bGliIHZlcnNpb24zLjcuMSwgaHR0cHM6Ly9tYXRwbG90bGliLm9yZy/bCgiHAAAACXBIWXMAAAsT\\\n",
              "AAALEwEAmpwYAAAJAElEQVR4nO3dPY9cZxnH4fucmdnZtZMg2xE4AQJyARIUQaJLBAU1Rb4CVZQa\\\n",
              "5asEOoTSUiA6oI3kD+AQIScKsRTEhgTHr/syOzOHYlPhWWVn2D3H//V1NZaeM/LcxR79tDvnmafp\\\n",
              "uq4rAAjTDj0AAGxCwACIJGAARBIwACIJGACRBAyASAIGQCQBAyCSgAEQScAAiCRgAEQSMAAiCRgA\\\n",
              "kQQMgEgCBkAkAQMgkoABEEnAAIgkYABEEjAAIgkYAJEEDIBIAgZAJAEDIJKAARBJwACIJGAARBIw\\\n",
              "ACIJGACRBAyASAIGQCQBAyCSgAEQScAAiCRgAEQSMAAiCRgAkQQMgEgCBkAkAQMgkoABEEnAAIgk\\\n",
              "YABEEjAAIgkYAJEEDIBIAgZAJAEDIJKAARBJwACIJGAARBIwACIJGACRBAyASAIGQCQBAyCSgAEQ\\\n",
              "ScAAiCRgAEQSMAAiCRgAkQQMgEgCBkAkAQMgkoABEEnAAIgkYABEEjAAIgkYAJEEDIBIAgZAJAED\\\n",
              "IJKAARBJwACIJGAARBIwACIJGACRBAyASAIGQCQBAyCSgAEQScAAiCRgAEQSMAAiCRgAkQQMgEgC\\\n",
              "BkAkAQMgkoABEEnAAIgkYABEEjAAIgkYAJEEDIBIAgZAJAEDIJKAARBJwACIJGAARBIwACIJGACR\\\n",
              "BAyASAIGQCQBAyCSgAEQScAAiCRgAEQSMAAiCRgAkQQMgEgCBkAkAQMgkoABEEnAAIgkYABEEjAA\\\n",
              "IgkYAJEEDIBIAgZAJAEDIJKAARBJwACIJGAARBIwACIJGACRBAyASOOhB4BnTbdc1uPP/1FNO652\\\n",
              "Mq3RZFrt+Pjfph0NPR7EEDDo2WK2Xx/95be1nM+qnWzXaLJdo63tGm8/Xzd+8asaTy8PPSJEEDDo\\\n",
              "2eLooLrFvBaz/VrM9uvoq/V2PK1usRh0NkjiMzDo2WK2X13XDT0GxBMw6NlidlBdtxx6DIgnYNCz\\\n",
              "R7sf1fLo8In18c5z1bRuSTgtdwv0bLk4qqon/4R46dor1Y63+h8IQgkYPCVGW9tVTTP0GBBDwOAp\\\n",
              "MZpsV9O4JeG03C3Qo67rTnyAY7S1UyVgcGruFuhT19VyPlt5qRnZlgnrEDDoUdctazHbP/F64zMw\\\n",
              "ODUBgz51y1rMDoaeAi4EAYMedctFHe0/GHoMuBAEDHq0mM9q7/NPnlhvRpPaufJS/wNBMAGDp0A7\\\n",
              "Gtf0+ReHHgOiCBg8DZr2eCMzcGoCBk+BpmlrNNkZegyIImDQo24xX7neNE21k2nP00A2AYMeLWZ7\\\n",
              "q88Cs/8L1iZg0KPjTcwOs4SzIGDQo/lsv8ppzHAmBAx6dPDlv1Z+me/Wc1d9Ez2syR0DPTq8//nK\\\n",
              "38AuXfuu05hhTe4YeAqMtnaqyoMcsA4Bg6fA8VlgAgbrEDDoSdd11Z3wBOLxb2DAOgQM+tItTzzM\\\n",
              "snWYJaxNwKAn3XJRy6PDE687zBLWI2DQk265qMX85IAB6xEw6MlyPqujvftDjwEXhoBBT+aH+3Vw\\\n",
              "b/eJ9dH0Um07zBLWJmAwsHa8VZOdF4YeA+IIGAysaUY1cpQKrE3AoDer94A17chZYLABAYOedMv5\\\n",
              "yoY1bVvtaKv/gSCcgEFP5of7J1+0BQzWJmDQk8Vsb+gR4EIRMOjJ4tBpzHCWBAx68viLOyvXj/eA\\\n",
              "+RsirEvAoCezR3dXru9cebnnSeBiEDAYmKNUYDMCBgMbTy8NPQJEEjDoQdd1VZ3DLOEsCRj0oFsu\\\n",
              "armYr7zWtGNngcEGBAx60C3mJ57GDGxGwKAHy+W8lgsBg7MkYNCDxcHjOtp7MPQYcKEIGPTg6OBR\\\n",
              "HT3+8on1yeUrtf2Nbw4wEeQTMBjQaDL1FCJsSMBgQM1oXO3YUSqwCQGDXqzeA9a242rHk55ngYtB\\\n",
              "wKAH3WKxcr1pR9W0456ngYtBwKAHJ54F1pRNzLAhAYMezB1mCWdOwKAHx4dZAmdJwKAHj3Y/Wrl+\\\n",
              "6cXv9TwJXBwCBj042r+/cn37BZuYYVMCBgMaTW1ihk0JGAxotOUwS9iUgME5Oz7McvU1XyMFm7OD\\\n",
              "Ejbw8OHDunXr1qle29ay2ocPatVur7998EF1n3zxtf/H9evX68aNG2tOCRebgMEG3n///Xr99ddP\\\n",
              "9drnd7bqN7/+Zf3gO9eeuPbmm2/WrY///bX/x1tvvVXvvPPO2nPCRSZgcM6mW+Majya1e/j9unv0\\\n",
              "Um23j+vb27dr2h4MPRpEEzA4Z9OtSX06/2ntPfx5ddVWVVefzb5fP3nur9Wd8NkY8PUEDM7Z5Ss/\\\n",
              "qkfTn1VTo69Wmro3/1b9+eMf1mdfPhp0NkjmKUQ4Z007XvGN803d3686mM0HmQkuAgGDczZpDmvU\\\n",
              "zP5ntat2ca+O5stBZoKLQMDgnF2Z7NaPL79XW81+VXU1qqN6efphvTK+WUfz1eeEAV/vmfkMbHd3\\\n",
              "d+gRuEDu3r176td++Ond+v0fflcPF3+qB/MXa6vdr2uTf9Zn/7lXi+XpnuLY29vzM8y5uH79+tAj\\\n",
              "bOyZCdi777479AhcIHfu3Dn1a3fvPqo/vvf3/+v9bt++7WeYc/H2228PPcLGmq7zIC+s6+bNm/Xa\\\n",
              "a6/19n42MsOTfAYGQCQBAyCSgAEQScAAiCRgAEQSMAAiPTP7wOAsXb16td54443e3u/VV1/t7b0g\\\n",
              "hX1gAETyJ0QAIgkYAJEEDIBIAgZAJAEDIJKAARBJwACIJGAARBIwACIJGACRBAyASAIGQCQBAyCS\\\n",
              "gAEQScAAiCRgAEQSMAAiCRgAkQQMgEgCBkAkAQMgkoABEEnAAIgkYABEEjAAIgkYAJEEDIBIAgZA\\\n",
              "JAEDIJKAARBJwACIJGAARBIwACIJGACRBAyASAIGQCQBAyCSgAEQScAAiCRgAEQSMAAiCRgAkQQM\\\n",
              "gEgCBkAkAQMgkoABEEnAAIgkYABEEjAAIgkYAJEEDIBIAgZAJAEDIJKAARBJwACIJGAARBIwACIJ\\\n",
              "GACRBAyASAIGQCQBAyCSgAEQScAAiCRgAEQSMAAiCRgAkQQMgEgCBkAkAQMgkoABEEnAAIgkYABE\\\n",
              "EjAAIgkYAJEEDIBIAgZAJAEDIJKAARBJwACIJGAARBIwACL9FwBPceU7n7dhAAAAAElFTkSuQmCC\\\n",
              "\"\n",
              "  frames[31] = \"data:image/png;base64,iVBORw0KGgoAAAANSUhEUgAAAbAAAAEgCAYAAADVKCZpAAAAOXRFWHRTb2Z0d2FyZQBNYXRwbG90\\\n",
              "bGliIHZlcnNpb24zLjcuMSwgaHR0cHM6Ly9tYXRwbG90bGliLm9yZy/bCgiHAAAACXBIWXMAAAsT\\\n",
              "AAALEwEAmpwYAAAIJElEQVR4nO3dz45UaR3H4d+pomEAmQScDITZmJjMQkPQaGJm50ZXxnAZcgHc\\\n",
              "hFdAjDtuwMQoezMBJ0bUxaAz0UmGBGeMDCJK86er6nWBiXG6cfr0lO+pb/M8y1NN9W/RJx/eU+fU\\\n",
              "O7TWWgFAmNnUAwDAQQgYAJEEDIBIAgZAJAEDIJKAARBJwACIJGAARBIwACIJGACRBAyASAIGQCQB\\\n",
              "AyCSgAEQScAAiCRgAEQSMAAiCRgAkQQMgEgCBkAkAQMgkoABEEnAAIgkYABEEjAAIgkYAJEEDIBI\\\n",
              "AgZAJAEDIJKAARBJwACIJGAARBIwACIJGACRBAyASAIGQCQBAyCSgAEQScAAiCRgAEQSMAAiCRgA\\\n",
              "kQQMgEgCBkAkAQMgkoABEEnAAIgkYABEEjAAIgkYAJEEDIBIAgZAJAEDIJKAARBJwACIJGAARBIw\\\n",
              "ACIJGACRBAyASAIGQCQBAyCSgAEQScAAiCRgAEQSMAAiCRgAkQQMgEgCBkAkAQMgkoABEEnAAIgk\\\n",
              "YABEEjAAIgkYAJEEDIBIAgZAJAEDIJKAARBJwACIJGAARBIwACIJGACRBAyASAIGQCQBAyCSgAEQ\\\n",
              "ScAAiCRgAEQSMAAiCRgAkQQMgEgCBkAkAQMgkoABEEnAAIgkYABEEjAAIgkYAJEEDIBIAgZAJAED\\\n",
              "IJKAARBJwACIJGAARBIwACIJGACRBAyASAIGQCQBAyCSgAEQScAAiCRgAEQSMAAiCRgAkQQMgEgC\\\n",
              "BkAkAQMgkoABEEnAAIgkYABEEjAAIgkYAJEEDIBIAgZAJAEDIJKAARDpyNQDwMvm6cN79fQf93Yd\\\n",
              "P/bqa3Xs1GsTTASZBAw6aq3VX997uz669fNdr53/5vfrjW98b4KpIJNLiNBVq7ZcTj0EHAoCBj21\\\n",
              "VqvlztRTwKEgYNBRa1VtuZh6DDgUBAy6atVWAgbrIGDQU2u1sgKDtRAw6Kq5hAhrImDQUbMCg7UR\\\n",
              "MOioLXfqyd//suv4MDviIWYYScCgo9VqWTuP/rbr+DA/UsdOfXGCiSCXgMEGGIahhrkvxoExBAw2\\\n",
              "wlAzAYNRBAw2wTDUMBMwGEPAYAMMVS4hwkgCBptgcAkRxhIw2AQuIcJoAgYbYHATB4wmYNBRW632\\\n",
              "fmEYqganI4zhjIGOmr3AYG0EDDpaLRfVWpt6DDgUBAw6sgKD9REw6Gi13KkqKzBYBwGDjtpyoV+w\\\n",
              "JgIGHa1cQoS1ETDo6PluzJZgsA4CBh09undnz2fBjp8+X8PM6QhjOGOgo8X2w9prBXb0C6dr8CAz\\\n",
              "jOKMgQ0wzLemHgHiCBhsgNl8q55vqgLsl4DBBrAXGIwnYLABZvMtCzAYScBgAzxfgSkYjCFgsAFm\\\n",
              "buKA0QQMOvlf30IvYDCegEFHre29oaWHmGE8Zw300lq11fKFLw+Dz8BgDAGDTlpb1Wq1mHoMODQE\\\n",
              "DHpprdryxSswYBwBg05aW1WzAoO1ETDo5TM+AwPGETDopLX27/3AgHUQMOhmZQUGayRg0ElbLmrx\\\n",
              "bHv3C8OsZlvH+g8E4QQMOlk8fVxPHny86/iRV07W8dPnJ5gIsgkYTGwYZjXM5lOPAXEEDKY2DDXM\\\n",
              "7AcGYwkYTGwYZjXMrcBgLAGDqQ1DzazAYDQBg4lZgcHBCBhMzWdgcCACBt3svaHlUO5ChIMQMOjk\\\n",
              "hTsyDza0hINw1kAnbbnzokUYcAACBp2sljtTjwCHioBBJ6uFgME6CRh0YisVWC8Bg05cQoT1EjDo\\\n",
              "pC13yl0csD4CBp1YgcF6CRh08uzRgz2PHzl+qu8gcEj4/hr4HD744IP6+OPdm1TuZf7hb/f8H+OD\\\n",
              "Z0fr5s1f7us9Lly4UKdOCR5UVQ3thV8PAHyWy5cv19WrV/f1sz/8wXfq21/70q7jP/7ZrfrRT3+9\\\n",
              "r/e4ceNGvfXWW2NGhEPLCgw6erp6pe4+ebOerE7Wma2P6vWjd+rZznLqsSCSgEEnT1cn6tbD79aD\\\n",
              "xetVNdSdJ1+pL5/4TT3duTn1aBDJTRzQyXuPvlUPFmfr+Wk3VKt5/Wn76/Xn7bNTjwaRBAw6WbSt\\\n",
              "qhr+61ireT12dz0ciIBBJ8fn/6xPP8g8H55VW2xPMxCEEzDo5M0Tv6rzx/5Y83r+jRxHh8f11ZNv\\\n",
              "18m6O/VoEOmluYljv8/qwBjb2/tfPf3kF7+rs+9+WJ/svFHPVsfr1SP36p35J/WHO/f2/R7379/3\\\n",
              "t8xanTt3buoRDuylCdi1a9emHoFD6P3339/3z77z+7tVdbeq3j3w77t+/Xrdvn37wP8ePu3KlStT\\\n",
              "j3BgHmSGz2HMg8zr4EFm+A+fgQEQScAAiCRgAEQSMAAiCRgAkQQMgEgvzXNg8P9w8eLFunTpUrff\\\n",
              "d+bMmW6/Czad58AAiOQSIgCRBAyASAIGQCQBAyCSgAEQScAAiCRgAEQSMAAiCRgAkQQMgEgCBkAk\\\n",
              "AQMgkoABEEnAAIgkYABEEjAAIgkYAJEEDIBIAgZAJAEDIJKAARBJwACIJGAARBIwACIJGACRBAyA\\\n",
              "SAIGQCQBAyCSgAEQScAAiCRgAEQSMAAiCRgAkQQMgEgCBkAkAQMgkoABEEnAAIgkYABEEjAAIgkY\\\n",
              "AJEEDIBIAgZAJAEDIJKAARBJwACIJGAARBIwACIJGACRBAyASAIGQCQBAyCSgAEQScAAiCRgAEQS\\\n",
              "MAAiCRgAkQQMgEgCBkAkAQMgkoABEEnAAIgkYABEEjAAIgkYAJEEDIBIAgZAJAEDIJKAARBJwACI\\\n",
              "JGAARBIwACIJGACRBAyASAIGQCQBAyCSgAEQScAAiCRgAEQSMAAiCRgAkf4F5YdD4JLEWEkAAAAA\\\n",
              "SUVORK5CYII=\\\n",
              "\"\n",
              "  frames[32] = \"data:image/png;base64,iVBORw0KGgoAAAANSUhEUgAAAbAAAAEgCAYAAADVKCZpAAAAOXRFWHRTb2Z0d2FyZQBNYXRwbG90\\\n",
              "bGliIHZlcnNpb24zLjcuMSwgaHR0cHM6Ly9tYXRwbG90bGliLm9yZy/bCgiHAAAACXBIWXMAAAsT\\\n",
              "AAALEwEAmpwYAAAHdElEQVR4nO3dT4tcWR3H4d/trkkk4x9ECfEPJJh2MyDu3Ll1HXduXIXs3OYd\\\n",
              "+ApmO+0qLyGgb0AMBCQLhZlhjJgEkrREZeIk2Ka6j4tBISRineZ66n67nwe6F1XV3N+iL58+p+6t\\\n",
              "nlprrQAgzM62BwCAkxAwACIJGACRBAyASAIGQCQBAyCSgAEQScAAiCRgAEQSMAAiCRgAkQQMgEgC\\\n",
              "BkAkAQMgkoABEEnAAIgkYABEEjAAIgkYAJEEDIBIAgZAJAEDIJKAARBJwACIJGAARBIwACIJGACR\\\n",
              "BAyASAIGQCQBAyCSgAEQScAAiCRgAEQSMAAiCRgAkQQMgEgCBkAkAQMgkoABEEnAAIgkYABEEjAA\\\n",
              "IgkYAJEEDIBIAgZAJAEDIJKAARBJwACIJGAARBIwACIJGACRBAyASAIGQCQBAyCSgAEQScAAiCRg\\\n",
              "AEQSMAAiCRgAkQQMgEgCBkAkAQMgkoABEEnAAIgkYABEEjAAIgkYAJEEDIBIAgZAJAEDIJKAARBJ\\\n",
              "wACIJGAARBIwACIJGACRBAyASAIGQCQBAyCSgAEQScAAiCRgAEQSMAAiCRgAkQQMgEgCBkAkAQMg\\\n",
              "koABEEnAAIgkYABEEjAAIgkYAJEEDIBIAgZAJAEDIJKAARBJwACIJGAARBIwACIJGACRBAyASAIG\\\n",
              "QCQBAyCSgAEQScAAiCRgAEQSMAAiCRgAkQQMgEgCBkAkAQMgkoABEEnAAIgkYABEEjAAIgkYAJEE\\\n",
              "DIBIAgZAJAEDIJKAARBJwACIJGAARBIwACIJGACRBAyASAIGQCQBAyDSatsDwFlyfLSuzw7+WNWO\\\n",
              "X3t82l3VFy9+p6Ydf1PCpgQMBlofvqhPfvV+Ha//+drj71z4Sn3vJz+v3Z3zW5oM8vhzD5agtc+/\\\n",
              "gI0JGCxAq6pWAgY9BAyWwgoMuggYLIWAQRcBg0VothChk4DBUliBQRcBg6UQMOgiYLAEzVWI0EvA\\\n",
              "YCmswKCLgMEiuJEZegkYLIQtROgjYLAUVmDQRcBgKQQMuggYLEFzIzP0EjBYgFZlBQadBAyWQsCg\\\n",
              "i4DBQthChD4CBkthBQZdBAwWwY3M0EvAYCFsIUIfAYMlaGUFBp0EDBaiCRh0ETBYhFbVjrc9BEQR\\\n",
              "MAAiCRgsRLMCgy4CBkvhLTDoImCwGAoGPQQMlqA1W4jQScBgAdp/vgGbEjBYDAWDHgIGC2ELEfoI\\\n",
              "GCxCswCDTgIGA01VVdP01ueswKCPgMFAO6tz9e7XL7/x+PGrw3r57MEWJoJcAgYjTTs1rd5561PH\\\n",
              "R+vBw0A2AYPBpnr7FiLQR8BgtP/yHhjQR8BgNAGDWQgYDGYLEeYhYDDSNFmBwUwEDEYTMJiFgMFA\\\n",
              "U9lChLkIGIxmBQazEDAYTcBgFgIGQ001CRjMQsBgOAGDOQgYjDRVTZPTDubgTILRLMBgFgIGQ03l\\\n",
              "tIN5OJNgMBdxwDwEDEbTL5iFgMFwTjuYgzMJBrODCPMQMBjJp9HDbAQMBvo8XU47mIMzCQZzFSLM\\\n",
              "Q8BgNAGDWQgYDOb/gcE8BAyGchEHzGW17QHgNDg4OKj79+9v8MpWO0+e1O5bnnn06FE9OPzNRsfb\\\n",
              "29urixcvds0Ip42AwQxu375dN27c+J+vm6aqn/34B/XTH33/jef2P/igfvHLexsdb39/v65fv949\\\n",
              "J5wmAgaDHbdWR21Vjw+v1t/XX6svrf5S3zz/h22PBXEEDEZqVevjVf3+sx/Wk8Or1WqqqVr99dU3\\\n",
              "6qj9dtvTQRQXccBAraoevHyvHh/uVaudqpqq1U49PvxuPfzHe9seD6IIGAz2qu3Wmx9JP9VRsyEC\\\n",
              "PQQMBjs3vaipjl57bKqjOr/zcksTQSYBg8G+de7junrhXq2mw6pqtZoOa+/Cvfr2Fz7e9mgQ5czs\\\n",
              "WTx9+nTbI3CKPX/+fOPX/vp3f6pnn75ff1tfqhdHX653dz+tr64O6sMHf+46nt9p5nDp0qVtj3Bi\\\n",
              "ZyZgt27d2vYInGJ3797d+LUfPXxWHz18VlUfnvh4d+7cqfV6feKfh3+7efPmtkc4sam11rY9BKTb\\\n",
              "39/f6EbmOY/nRmbOOu+BARBJwACIJGAARBIwACIJGACRBAyASGfmPjD4f7py5Updu3Zt2PEuX748\\\n",
              "7FiwVO4DAyCSLUQAIgkYAJEEDIBIAgZAJAEDIJKAARBJwACIJGAARBIwACIJGACRBAyASAIGQCQB\\\n",
              "AyCSgAEQScAAiCRgAEQSMAAiCRgAkQQMgEgCBkAkAQMgkoABEEnAAIgkYABEEjAAIgkYAJEEDIBI\\\n",
              "AgZAJAEDIJKAARBJwACIJGAARBIwACIJGACRBAyASAIGQCQBAyCSgAEQScAAiCRgAEQSMAAiCRgA\\\n",
              "kQQMgEgCBkAkAQMgkoABEEnAAIgkYABEEjAAIgkYAJEEDIBIAgZAJAEDIJKAARBJwACIJGAARBIw\\\n",
              "ACIJGACRBAyASAIGQCQBAyCSgAEQScAAiCRgAEQSMAAiCRgAkQQMgEgCBkAkAQMgkoABEEnAAIgk\\\n",
              "YABEEjAAIgkYAJEEDIBIAgZAJAEDIJKAARBJwACIJGAARBIwACL9Cz1I9uZEgrziAAAAAElFTkSu\\\n",
              "QmCC\\\n",
              "\"\n",
              "  frames[33] = \"data:image/png;base64,iVBORw0KGgoAAAANSUhEUgAAAbAAAAEgCAYAAADVKCZpAAAAOXRFWHRTb2Z0d2FyZQBNYXRwbG90\\\n",
              "bGliIHZlcnNpb24zLjcuMSwgaHR0cHM6Ly9tYXRwbG90bGliLm9yZy/bCgiHAAAACXBIWXMAAAsT\\\n",
              "AAALEwEAmpwYAAAIs0lEQVR4nO3dPY8dZxnH4XvmnLPrjZ2QN4yFkiiiAkSBQkHDipqeKt8jLUh8\\\n",
              "C1rSoJQIISFoEAFRQrAgvCQKiSCOnVcna6/37JmHwmmiXcdnXzRz/vF1SW6ePbt7N6OfZ3Zmnq61\\\n",
              "1goAwvRTDwAApyFgAEQSMAAiCRgAkQQMgEgCBkAkAQMgkoABEEnAAIgkYABEEjAAIgkYAJEEDIBI\\\n",
              "AgZAJAEDIJKAARBJwACIJGAARBIwACIJGACRBAyASAIGQCQBAyCSgAEQScAAiCRgAEQSMAAiCRgA\\\n",
              "kQQMgEgCBkAkAQMgkoABEEnAAIgkYABEEjAAIgkYAJEEDIBIAgZAJAEDIJKAARBJwACIJGAARBIw\\\n",
              "ACIJGACRBAyASAIGQCQBAyCSgAEQScAAiCRgAEQSMAAiCRgAkQQMgEgCBkAkAQMgkoABEEnAAIgk\\\n",
              "YABEEjAAIgkYAJEEDIBIAgZAJAEDIJKAARBJwACIJGAARBIwACIJGACRBAyASAIGQCQBAyCSgAEQ\\\n",
              "ScAAiCRgAEQSMAAiCRgAkQQMgEgCBkAkAQMgkoABEEnAAIgkYABEEjAAIgkYAJEEDIBIAgZAJAED\\\n",
              "IJKAARBJwACIJGAARBIwACIJGACRBAyASAIGQCQBAyCSgAEQScAAiCRgAEQSMAAiCRgAkQQMgEgC\\\n",
              "BkAkAQMgkoABEEnAAIgkYABEEjAAIgkYAJEEDIBIAgZAJAEDIJKAARBJwACIJGAARBIwACIJGACR\\\n",
              "BAyASAIGQCQBAyCSgAEQScAAiCRgAEQSMAAiCRgAkQQMgEgCBkCk+dQDwIPk9ofXarn34ZH1C49e\\\n",
              "qa2Lj44+DyQTMBjRO3/5Td149fdH1p/53vN1+Zvfr67rJpgKMrmECBtgWN6ZegSII2CwAe4GrE09\\\n",
              "BkQRMNgAq8M7+gUnJGCwAZyBwckJGIxoduHisesHex9UawIGJyFgMKJLl79WXT87sn7r3TerDasJ\\\n",
              "JoJcAgYj6hfbVeVWeTgPAgYj6udb+gXnRMBgRDNnYHBuBAxG1C+2vW0DzomAwYj62eL4L7R29x+w\\\n",
              "NgGDMd3j7KtVq2G1HHkYyCZgsAlaq+HQ+xDhJAQMNkBrQw2HB1OPAVEEDDZBa7VaChichIDBBmit\\\n",
              "VVsJGJyEgMGIZvOteujLzx5ZH5Z3au/6f8YfCIIJGIyo62e1uPDwMV9pd7dUAdYmYDCmrqt+sTX1\\\n",
              "FPCFIGAwoq7r774PETgzAYNRdQIG50TAYEzd5wfMppawPgGDEXVdV113/GHXvEoKTkTAYEOslgdV\\\n",
              "bZh6DIghYLAhhsM7LiHCCQgYbIjh8MCWKnACAgYbYjg8qFYCBusSMBjZYueRqmNu5Dj45P1qq8MJ\\\n",
              "JoJMAgYj23niqWNvpd//8B0BgxMQMBjZbL5V3T12ZgbWJ2Awsn6xdewlROBkHEUwst4ZGJwLAYOR\\\n",
              "9fOtKgGDMxMwGFnXz6vquIC1GgY3ccC6BAw2yHB4MPUIEEPAYEO01mpY2pUZ1iVgsEFWhwIG6xIw\\\n",
              "2BSt1bB0CRHWJWAwsq7ravvhx4+stzbU/gdvTzARZBIwGFnXz2rnsa8e/UIbav+jd8YfCEIJGEyg\\\n",
              "n29PPQLEEzAYXVf9QsDgrAQMxtZVzQQMzkzAYHTdsdupACcjYDCBewesVWt2ZYZ1CBiM7O6b6I9/\\\n",
              "me+wWla1YdyBIJSAwQYZDpfVBAzWImCwQYbDZbVBwGAdAgYbZFgduIQIaxIwmEDX93Xc38GGg/1q\\\n",
              "w2r8gSCQgMEEHnri6ZpfuHhk/dZ7b9Xh/t4EE0EeAYMJ9POt6vrZkfXWhmrlNnpYh4DBBPr5VlXn\\\n",
              "8IOzcATBBPrZojoBgzNxBMEE+vni0xs5gNNyBMEEutmWMzA4I0cQTKDrunu9Tara4XLcYSCUgMGG\\\n",
              "WR3emXoEiCBgsEla1WopYLCO+dQDwBfJ1atX6+bNm/f9XFetZrf3j1xFbNXqH3/7a63e+ui+P2M2\\\n",
              "m9Vzzz1Xi8XilNNCtq7ZfAjOze7ubr388sv3/VzfdfXzH/+wnr3y6GfWh6HVT372u/rVn/51359x\\\n",
              "6dKleu211+ry5cunHReiuYQIE2jV6vX/vV97q0fqn3vfqb/vfbfeX16p6rr6+jNPTj0eRHAJESbQ\\\n",
              "WtWr1xY1e/YHdWt4pKqq3tr/Rn3r4u/rK4+9Me1wEMIZGEyg6/p66Onn69bwpbp7P31Xq7ZVV/d2\\\n",
              "6/anQQM+n4DBRPr5zpG1VZtXa/d4QAz4DAGDSbT6+Oa1I6vb/e3qO/uBwToEDCbQWqvX//zTenzx\\\n",
              "3+pqVV0NtdPfrG8//NvamX0y9XgQ4YG5iePataP/24XzdnBwsPZn//3mG/XrX/yo3l0+VUOb1WOL\\\n",
              "a/XH/uN6+72P1/r+1lrduHGjhmE47bhQV65cmXqEU3tgAvbiiy9OPQIPgOvXr6/92bff+6R++YdX\\\n",
              "quqVU/2u5XJZL730Ul26dOlU3w9VVS+88MLUI5yaB5nhHK37IPN58CAzDzp/AwMgkoABEEnAAIgk\\\n",
              "YABEEjAAIgkYAJEemOfAYAy7u7v15JPjbIeys7NT29vbo/wu2ESeAwMgkkuIAEQSMAAiCRgAkQQM\\\n",
              "gEgCBkAkAQMgkoABEEnAAIgkYABEEjAAIgkYAJEEDIBIAgZAJAEDIJKAARBJwACIJGAARBIwACIJ\\\n",
              "GACRBAyASAIGQCQBAyCSgAEQScAAiCRgAEQSMAAiCRgAkQQMgEgCBkAkAQMgkoABEEnAAIgkYABE\\\n",
              "EjAAIgkYAJEEDIBIAgZAJAEDIJKAARBJwACIJGAARBIwACIJGACRBAyASAIGQCQBAyCSgAEQScAA\\\n",
              "iCRgAEQSMAAiCRgAkQQMgEgCBkAkAQMgkoABEEnAAIgkYABEEjAAIgkYAJEEDIBIAgZAJAEDIJKA\\\n",
              "ARBJwACIJGAARBIwACIJGACRBAyASAIGQCQBAyCSgAEQScAAiCRgAEQSMAAiCRgAkQQMgEgCBkAk\\\n",
              "AQMgkoABEEnAAIgkYABE+j/sWGdZ9YxOjwAAAABJRU5ErkJggg==\\\n",
              "\"\n",
              "  frames[34] = \"data:image/png;base64,iVBORw0KGgoAAAANSUhEUgAAAbAAAAEgCAYAAADVKCZpAAAAOXRFWHRTb2Z0d2FyZQBNYXRwbG90\\\n",
              "bGliIHZlcnNpb24zLjcuMSwgaHR0cHM6Ly9tYXRwbG90bGliLm9yZy/bCgiHAAAACXBIWXMAAAsT\\\n",
              "AAALEwEAmpwYAAAJX0lEQVR4nO3dPY9cZxnH4fvMzM7ueu0QW8GxCG9CQJHIkqnSUtAiReJDkA9A\\\n",
              "Oj4CXyB0KCUlRagQBbKChBRRJEJKcESIiYNsJ/hld94PhROkZGe9s445Z//xdUl2cc5Ycxe7+nl2\\\n",
              "n+c5Tdu2bQFAmEHfAwDAoxAwACIJGACRBAyASAIGQCQBAyCSgAEQScAAiCRgAEQSMAAiCRgAkQQM\\\n",
              "gEgCBkAkAQMgkoABEEnAAIgkYABEEjAAIgkYAJEEDIBIAgZAJAEDIJKAARBJwACIJGAARBIwACIJ\\\n",
              "GACRBAyASAIGQCQBAyCSgAEQScAAiCRgAEQSMAAiCRgAkQQMgEgCBkAkAQMgkoABEEnAAIgkYABE\\\n",
              "EjAAIgkYAJEEDIBIAgZAJAEDIJKAARBJwACIJGAARBIwACIJGACRBAyASAIGQCQBAyCSgAEQScAA\\\n",
              "iCRgAEQSMAAiCRgAkQQMgEgCBkAkAQMgkoABEEnAAIgkYABEEjAAIgkYAJEEDIBIAgZAJAEDIJKA\\\n",
              "ARBJwACIJGAARBIwACIJGACRBAyASAIGQCQBAyCSgAEQScAAiCRgAEQSMAAiCRgAkQQMgEgCBkAk\\\n",
              "AQMgkoABEEnAAIgkYABEEjAAIgkYAJEEDIBIAgZAJAEDIJKAARBJwACIJGAARBIwACIJGACRBAyA\\\n",
              "SAIGQCQBAyCSgAEQScAAiCRgAEQSMAAiCRgAkQQMgEgCBkAkAQMgkoABEEnAAIgkYABEEjAAIgkY\\\n",
              "AJEEDIBIAgZAJAEDIJKAARBJwACIJGAARBIwACIJGACRBAyASAIGQCQBAyDSqO8B4EnSrpa1nE9r\\\n",
              "NZ/Wcj6p1XxabVXtff071TRN3+NBFAGDjszu3a73/vibWs4OajmfPPgzm9R47+l64We/rGY07ntE\\\n",
              "iCJg0JHlfFZ3/vW3qrb93PXVYl6L2UGNBQxOxO/AoGftalGr2aTvMSCOgEFXmv/99TnL2aSmd292\\\n",
              "Pg6kEzDoyNbO2dp75tuHrq8W05rdu93DRJBNwKAjzXCrRrvn+h4DvjIEDDoyGI5qON5de6+tttov\\\n",
              "LO4AHk7AoCvNoAZHrDRczacdDwP5BAw60jRNNWsWcVRVLSb3Dy2vBx5OwOAUWEzuVZWAwUkIGHRo\\\n",
              "dOapWreU/s4Hb1e7WnY/EAQTMOjQ2We/V81geOj6ajm3iANOSMCgQ6Ods1UO7YXHQsCgQ6PtvfWn\\\n",
              "zvv0BScmYNChwdb22utt29bSeYhwIgIGp0DbLms5u9/3GBBFwOA0WK1qMd3vewqIImDQoeFoXGfW\\\n",
              "HOi7nE/r/kfv9TAR5BIw6FAzGNZ47+k1d9paLhwnBSchYNClwbCG23t9TwFfCQIGHWqaQY3GZ9bf\\\n",
              "bFc2M8MJCBh0rBkePomjqmoxPahqVx1PA7kEDDr0YBPz+pM4lrP9agUMNiZgcEpM79ysdrnoewyI\\\n",
              "IWDQsTPPfGvtgy33b75fq8W8h4kgk4BBx7bPPbP2RHrgZAQMOjbcPiNg8BgIGHRsON494pEqrYda\\\n",
              "wgkIGHSsaQa1diVi29Zieq/zeSCVgMEp0VZbi4kT6WFTAgZda5oajncOX2/bmt673f08EErAoGOD\\\n",
              "wbDOXfrBoevtaln3P7rWw0SQScCgc02Nds72PQTEEzDoWtPUaOfoE+kd6AubETDowXC8u/Z6u1pU\\\n",
              "lYDBJgQMOvawA30Xs4Nql/aCwSYEDE6R1ezg009hwHEEDHowGI7Wnsaxf+t6Lab2gsEmBAx6sHfx\\\n",
              "uzXaOXfo+mJ6r1YeqQIbETDowXB85sGnMOCRCRj0YDjecSI9fEkCBj0YDLc+PdT3sNV82vE0kEnA\\\n",
              "oBfN+pX0bdVi4kR62ISAwSkjYLAZAYM+NFW7559bc6Ote/9+r/NxIJGAQS+a2r2wLmBVM49UgY0I\\\n",
              "GPTEifTw5QgY9ORhAXMiPRxPwKAHTdMcuZF5tZg5DxE2IGBwyqzm01ot5n2PAaeegEFPmsGg1m0G\\\n",
              "W84OarWYdT8QhBEw6Mn21y7V+Oz5Q9cPPv7QSkTYgIBBT4Zb2zUYbq2501ZZxAHHEjDoyXBrp5rR\\\n",
              "uO8xIJaAQU8Go/GRKxHb8gkMjiNg0JemqWbNU5mrqhYTT2WG4wgY9OSoeFU50Bc2IWDQpyOeCbY4\\\n",
              "uNvxIJBHwKBHT33z+bXX71x/u+NJII+AQY/Ge4f3gVVVrZaOkoLjrF8CBXwp165dqxs3bhz7uvaT\\\n",
              "f9S6hfR379ypq1evbvx+ly9frnPnzp1gQsjXtI69hsfu5ZdfrldfffXY1135/qX69S9+euj6X/9+\\\n",
              "o37+q9/VasPvzjfeeKNefPHFk44J0XwCgx599v/H6Wqnrk9+WJPVXl3Y+rC2RrdrZzyq/akfJcJR\\\n",
              "BAx6NlmeqTfv/qQ+WVysqqbenzxfo+Wgdnd+L2DwEBZxQI/2p/P6y80f1SeLZ+vBt2NTbQ1revbH\\\n",
              "deHi5b7Hg1NNwKBHt/5zUP+8OakvPlZlMBhVM1h30C/wGQGDHk3mi2rnH1d94ezDYTOrrcG0n6Eg\\\n",
              "hIBBj6bzRX1rdLW+sf1uDWpeVW2Nm4N6Ye9PdX50/DJ8eJI9MYs4NtmTA4/L/v7+Rq9bLtv67R/e\\\n",
              "rIsXrtWt2XM1a3frqdHN+vPwVr17ffOHWt66dcvXOI/k0qVLfY/wyJ6YgL322mt9j8AT5J133tn4\\\n",
              "tW+8/UFVfVBVbz3y+73++uv11luP/u95cr3yyit9j/DIbGSG/4NNNzI/LjYy8yTyOzAAIgkYAJEE\\\n",
              "DIBIAgZAJAEDIJKAARDpidkHBl26cuVKvfTSS5293/nz65/sDF9l9oEBEMmPEAGIJGAARBIwACIJ\\\n",
              "GACRBAyASAIGQCQBAyCSgAEQScAAiCRgAEQSMAAiCRgAkQQMgEgCBkAkAQMgkoABEEnAAIgkYABE\\\n",
              "EjAAIgkYAJEEDIBIAgZAJAEDIJKAARBJwACIJGAARBIwACIJGACRBAyASAIGQCQBAyCSgAEQScAA\\\n",
              "iCRgAEQSMAAiCRgAkQQMgEgCBkAkAQMgkoABEEnAAIgkYABEEjAAIgkYAJEEDIBIAgZAJAEDIJKA\\\n",
              "ARBJwACIJGAARBIwACIJGACRBAyASAIGQCQBAyCSgAEQScAAiCRgAEQSMAAiCRgAkQQMgEgCBkAk\\\n",
              "AQMgkoABEEnAAIgkYABEEjAAIgkYAJEEDIBIAgZAJAEDIJKAARBJwACIJGAARBIwACIJGACRBAyA\\\n",
              "SAIGQCQBAyCSgAEQScAAiPRfuwSrtkTz8YIAAAAASUVORK5CYII=\\\n",
              "\"\n",
              "  frames[35] = \"data:image/png;base64,iVBORw0KGgoAAAANSUhEUgAAAbAAAAEgCAYAAADVKCZpAAAAOXRFWHRTb2Z0d2FyZQBNYXRwbG90\\\n",
              "bGliIHZlcnNpb24zLjcuMSwgaHR0cHM6Ly9tYXRwbG90bGliLm9yZy/bCgiHAAAACXBIWXMAAAsT\\\n",
              "AAALEwEAmpwYAAAJ50lEQVR4nO3dS28dZxnA8WfOxZcTJyakhIQqvUBaIRXIkiWwrPgObFiwZtFv\\\n",
              "wIotEl8g/QCAWCGxQUKCBapIRVFFW1Tapk6axpf42Oc2MyzCCo/j46id8RP/fst5LZ1n4aO/Zs47\\\n",
              "M0Vd13UAQDK9rgcAgKchYACkJGAApCRgAKQkYACkJGAApCRgAKQkYACkJGAApCRgAKQkYACkJGAA\\\n",
              "pCRgAKQkYACkJGAApCRgAKQkYACkJGAApCRgAKQkYACkJGAApCRgAKQkYACkJGAApCRgAKQkYACk\\\n",
              "JGAApCRgAKQkYACkJGAApCRgAKQkYACkJGAApCRgAKQkYACkJGAApCRgAKQkYACkJGAApCRgAKQk\\\n",
              "YACkJGAApCRgAKQkYACkJGAApCRgAKQkYACkJGAApCRgAKQkYACkJGAApCRgAKQkYACkJGAApCRg\\\n",
              "AKQkYACkJGAApCRgAKQkYACkJGAApCRgAKQkYACkJGAApCRgAKQkYACkJGAApCRgAKQkYACkJGAA\\\n",
              "pCRgAKQkYACkJGAApCRgAKQkYACkJGAApCRgAKQkYACkJGAApCRgAKQkYACkJGAApCRgAKQkYACk\\\n",
              "JGAApCRgAKQkYACkJGAApCRgAKQkYACkJGAApCRgAKQkYACkJGAApCRgAKQkYACkJGAApCRgAKQk\\\n",
              "YACkJGAApCRgAKQkYACkJGAApCRgAKQkYACkJGAApCRgAKQkYACkJGAApCRgAKQkYACkJGAApCRg\\\n",
              "AKQkYACkJGAApCRgAKQkYACkJGAApCRgAKQkYACkJGAApCRgAKQkYACkJGAApCRgAKQkYACkJGAA\\\n",
              "pDToegA4L+q6jmoxi2o+jXI+jWoxiXI+jbXNr8dw/WLX40E6AgYtufu338fex+9EOZ9GOZ9ENZ9E\\\n",
              "OZvESz/4SVx55ftRFEXXI0IqAgYtOfj8o9i/9/6R4/PxdgfTQH5+A4OWFL3mr9ujrfcjom53GHgG\\\n",
              "CBi0ZPPGdxuPT/futzwJPBsEDFqyevFKRBzzO5cTMDg1AYOWDNcvNfarrsoo55P2B4LkBAzaUjR/\\\n",
              "3arFPBaT/ZaHgfwEDFpS9Iooekc3/i6m+3H48JMOJoLcBAxaMli7GBtXXz5yvC4XzsDgKQgYtKQ3\\\n",
              "WInBMU/cqOs66tpODjgNAYOWFL1+9FfWG9cen4EJGJyGgEFLiqKI4pht9LPxdoQzMDgVAYMW9VbW\\\n",
              "Go8/+vRfUVdly9NAbgIGLdq88Z3GnYjldOw3MDglAYMWrYw2IxqeOv94E0fVwUSQl4BBi/qro+bX\\\n",
              "plSlrfRwSgIGbTrmnV9VVcb8YK/lYSA3AYMWFUUvBqsXjhyv5tMY3/ugg4kgLwGDFvWHa7Fx/dWG\\\n",
              "lTrKxbT1eSAzAYMWFb1+DEeXGtfqcmEnIpyCgEGbiiL6w9XGpfnhI/eCwSkIGLTo8Q7E5o0cBw8+\\\n",
              "jGoxa3cgSEzAoGXD0WYUvf6R45Ode1GXiw4mgpwEDFq2ce1b0Rs0X0YElidg0LLh+qXGM7CIOio7\\\n",
              "EWFpAgYt6w1Wjn2c1Oxgt4OJICcBgzOirhaxv/Ve12NAGgIGLSuKXqxtXj26UNcx3XvQ/kCQlIBB\\\n",
              "y4pePzau3Tx23c3MsBwBg7YVRQxHm41L1WIa4bUqsBQBg5YVRRG9/rBxbX64H1U5b3kiyEnA4Aw5\\\n",
              "+Pw/sZiMux4DUhAw6MDqpa9Fb7h25Phi4gwMliVg0IH1y9djsDrqegxITcCgA4PVC1H0B41rLiHC\\\n",
              "cgQMOlD0+v97Mv3/qSNm44ftDwQJCRh0pD9cbzhax97H/2x9FshIwKALRREXn/9249Jist/yMJCT\\\n",
              "gEFHVi5cbl6oa0/jgCUIGHRkOLrUeLycT7yZGZYgYNCBoiiiKJq/fuXs0HvBYAkCBh3pDdeiaHik\\\n",
              "1OH23Zjt24kIJxEw6Mja5tVYufCVI8frchF1WbY/ECQjYNCRweooesPVxrWqEjA4iYBBR3rDtej1\\\n",
              "VxrX5ge7LU8D+QgYdOTxRo7mNb+BwckEDDo0POZesL2P32l5EshHwKBDF6+/0njcK1XgZAIGHTru\\\n",
              "aRx1VdnIAScQMOjQYG2j8Xi1mEY5O2x5GshFwKBTzbs4ytmh94LBCQQMOtRfXW88C5vtP4zp7r0O\\\n",
              "JoI8BAw6NBxtxsrFK82LnkoPTyRg0KH+cDUGK6PGtdIDfeGJBAw6VPQG0RscfaBvRMRsvNPuMJCM\\\n",
              "gEGHiuMexRERex/9IyJcQoTjCBh0bP2rzzcedwYGTyZg0LHRcy92PQKkJGDQsZWNy9F0P1hdlVHN\\\n",
              "Z+0PBEkIGHSsf9w7wcp5LCb7LU8DeQy6HgCeVWVZxltvvRWz2ZPPoorpbvSjPnIOtjjcizt/+WPM\\\n",
              "N24s9Xmj0Shu3br1xI0h8CwpandKwpdiPB7HzZs3Y2tr64l/d+XSevz65z+Ol68ffbDvL27/KX73\\\n",
              "53eX+rzXXnst7ty5E72eCyucD87AoGPjyTw+efAoXrp2OXYXz8XW7JtRRBXfWH3vmCclAhECBp2b\\\n",
              "zhexuz+Nz+Y34s6jH8W8fvyb2N3pq1Gs/T2KeNfdYNDAtQboWF1HjOcr8fajH8a8XovHOxKLmFQb\\\n",
              "8eL3fhb9wUrXI8KZJGBwBtRRxKI+ekFkOFyP4165AuedgMEZ8Pb7d2MQR7fMr/X3oyhcQIQmAgZn\\\n",
              "wN37W3Hrwh9io78dRVQR9SLqyYdxdfqbKOqy6/HgTDo3mzhO2soMX7SDg4Ooqmqpv72/fRAPH3wQ\\\n",
              "u1u/ir/+ezUe7Ixj57O345OtT2O2WC5gi8Uitra2bKPnVK5du9b1CE/t3ATs9u3bXY/AOTObzeLw\\\n",
              "8HCpv72/M46f/vK3UVZ1lFUVT3N35s7OTrz55ptuZOZU3njjja5HeGpuZIYvybI3Mn9R3MjMeeM/\\\n",
              "HYCUBAyAlAQMgJQEDICUBAyAlAQMgJTOzX1g0LZ+vx+vv/56bG9vt/J5L7zwQiufA2eF+8AASMkl\\\n",
              "RABSEjAAUhIwAFISMABSEjAAUhIwAFISMABSEjAAUhIwAFISMABSEjAAUhIwAFISMABSEjAAUhIw\\\n",
              "AFISMABSEjAAUhIwAFISMABSEjAAUhIwAFISMABSEjAAUhIwAFISMABSEjAAUhIwAFISMABSEjAA\\\n",
              "UhIwAFISMABSEjAAUhIwAFISMABSEjAAUhIwAFISMABSEjAAUhIwAFISMABSEjAAUhIwAFISMABS\\\n",
              "EjAAUhIwAFISMABSEjAAUhIwAFISMABSEjAAUhIwAFISMABSEjAAUhIwAFISMABSEjAAUhIwAFIS\\\n",
              "MABSEjAAUhIwAFISMABSEjAAUhIwAFISMABSEjAAUhIwAFISMABSEjAAUhIwAFISMABSEjAAUhIw\\\n",
              "AFISMABSEjAAUhIwAFISMABSEjAAUhIwAFISMABSEjAAUhIwAFL6L22j9bN6dXRUAAAAAElFTkSu\\\n",
              "QmCC\\\n",
              "\"\n",
              "  frames[36] = \"data:image/png;base64,iVBORw0KGgoAAAANSUhEUgAAAbAAAAEgCAYAAADVKCZpAAAAOXRFWHRTb2Z0d2FyZQBNYXRwbG90\\\n",
              "bGliIHZlcnNpb24zLjcuMSwgaHR0cHM6Ly9tYXRwbG90bGliLm9yZy/bCgiHAAAACXBIWXMAAAsT\\\n",
              "AAALEwEAmpwYAAAKW0lEQVR4nO3dzYtddxnA8efct3nNe1LSmLTWUiJIhEbXghQ3Wv8KF+6F7vwn\\\n",
              "3AuCha67EAUXgpsiKGiwWNuOpU1iOol5m8zMnbkv5x4X3XnPNDOxPec+nc8Hsjm/JPNshi/n3t/v\\\n",
              "nKKqqioAIJlO2wMAwLMQMABSEjAAUhIwAFISMABSEjAAUhIwAFISMABSEjAAUhIwAFISMABSEjAA\\\n",
              "UhIwAFISMABSEjAAUhIwAFISMABSEjAAUhIwAFISMABSEjAAUhIwAFISMABSEjAAUhIwAFISMABS\\\n",
              "EjAAUhIwAFISMABSEjAAUhIwAFISMABSEjAAUhIwAFISMABSEjAAUhIwAFISMABSEjAAUhIwAFIS\\\n",
              "MABSEjAAUhIwAFISMABSEjAAUhIwAFISMABSEjAAUhIwAFISMABSEjAAUhIwAFISMABSEjAAUhIw\\\n",
              "AFISMABSEjAAUhIwAFISMABSEjAAUhIwAFISMABSEjAAUhIwAFISMABSEjAAUhIwAFISMABSEjAA\\\n",
              "UhIwAFISMABSEjAAUhIwAFISMABSEjAAUhIwAFISMABSEjAAUhIwAFISMABSEjAAUhIwAFISMABS\\\n",
              "EjAAUhIwAFISMABSEjAAUhIwAFISMABSEjAAUhIwAFISMABSEjAAUhIwAFISMABSEjAAUhIwAFIS\\\n",
              "MABSEjAAUhIwAFISMABSEjAAUhIwAFISMABSEjAAUhIwAFISMABSEjAAUhIwAFISMABSEjAAUhIw\\\n",
              "AFISMABSEjAAUhIwAFISMABSEjAAUhIwAFISMABSEjAAUhIwAFISMABSEjAAUhIwAFISMABSEjAA\\\n",
              "Uuq1PQAcN1VVRTkaxmTvSVTlNFbPX2l7JEhJwKAB5WQUO5sbsXv/Zgzv34zR9v2Y7G7FYP1MXH39\\\n",
              "Z9HtL7U9IqQjYNCAvQe344Pf/mLuetHtxmT4JLqnLrQwFeTmOzBoQlF89ud/jLcfxP7jOy0MBPkJ\\\n",
              "GDRg6cT5WDl7uXatmlVRVVXDE0F+AgYN6C6tRn/lZO3aZLjV8DTw1SBg0IBOtxedXr92bff+Jw1P\\\n",
              "A18NAgYN6Q5Waq/vbG5EhI8Q4agEDBpy5uuvRsT8Ro6IKqrZrOlxID0Bg4YsnTxXe302ncR0b7vh\\\n",
              "aSA/AYOGFJ1+7Q3YdLQbe49spYejEjBoSKfXj97yibnrs8koxjsPbaWHIxIwaEh/5USsP/dS7dps\\\n",
              "Om54GshPwKAhRbcfveX12rXR9oMId2BwJAIGDSmKIoqi/ldu+877Uc3KhieC3AQMGrRy7nJETcQm\\\n",
              "e0+iqmylh6MQMGjQiedfiaLTnbtezWZRjvdamAjyEjBoUG95PYqap9JXs2mMdx62MBHkJWDQoKLT\\\n",
              "je5gde56Od6Pnc1/tTAR5CVg0KBufynWL75cs1JFOdl3FgyOQMCgQUWnF4P1s7Vr0/3tCBs54NAE\\\n",
              "DJpUFNHtL9UubX/6YZSTUcMDQV4CBg0qiiIGa2dqdyKOntyPqpy2MBXkJGDQsLXnXopOr+4urHKY\\\n",
              "GY5AwKBhB92BVVUV491HLUwEOQkYNKzo9iLqzoKV03h88+8tTAQ5CRg0rOh0YvXclZqVyost4QgE\\\n",
              "DBpWFN1Yu/Bi7dqsnEQ1s5UeDkPAoGlFEf2107VLk+GWd4PBIQkYNOzzXquys7kRk70nDU8EOQkY\\\n",
              "tGD1/JXoLa3NXZ+VE69VgUMSMGjB0skL0Rks166Vo2HD00BOAgYt6A1Wo9PpzS9UEXsP7zQ/ECQk\\\n",
              "YNCSolsTsKhi65azYHAYAgZtKIo4/eK3a5eqqvJaFTgEAYOWLJ+6WHu9HO/ZSg+HIGDQgqIoonvA\\\n",
              "Jo7x9gNP5IBDEDBoSac3iKJmI8do+35MhlstTAS5CBi0ZOXc5Vg6eb52zVkweDoBg5b0l9ejO1ip\\\n",
              "XRttP2h4GshHwKAlRacbRc1rVSIidjY/bHgayEfAoEWD9XO11/cefWorPTyFgEGLTr1wrfZ6NSuj\\\n",
              "mpUNTwO5CBi0aLB+pvZ6Od6P6Wi34WkgFwGDFhVFt/b6eOdB7D/ebHgayEXAoEX9lRPRX5u/C5tN\\\n",
              "x1GO930PBp9DwKBF/bXTsXzyQu1aOd5reBrIRcCgRZ3e4MBHSo227jU8DeQiYNCig86BRURs3Xo3\\\n",
              "InyECAcRMGjZycvfqr1eTvYjfAcGBxIwaNnahRciYv5OrCqnMfU9GBxIwKBl3cFq7fVyMorxzsOG\\\n",
              "p4E8BAxa1ukNor96au76dH87hvdvtTAR5CBg0LLe0lqsnL1Uu1bNps6CwQEEDFrW6Q2iv3Kydm28\\\n",
              "+zjsRIR6AgYtKzqdKLrzb2aOiHj88d+iKj3UF+oIGCyA1XNXIor5X8fp/k64A4N6AgYLYO3Ci1F0\\\n",
              "5n8dq6qK2XTSwkSw+AQMFkB/7XQUB5wFs5Ue6gkYLICi6ETUPFaqHA9j6/Y/WpgIFp+AwQLo9pdj\\\n",
              "7blv1K5V5bThaSCH+q1PwBeiqqq4ceNGDIfDp/zFWVS70xjULN25/Ul8Mn7nUI9FHAwGcf369ejU\\\n",
              "fJ8GXzVF5ZQkfGnKsoxr167Fe++999S/+9Mffyd+8qPrc9f/eOPj+Pkv/xCjydO301+6dCk2NjZi\\\n",
              "ZWXlmeaFTNyBwYKYTGcxq6rYLc/GndHLUUUnnh98FN+9OonVpf6hAgbHiYDBgvjz+/+O13d+EB9M\\\n",
              "fhij2WcP+L29fzVeGfy+doMHHHc+KIcFces/+/GXR9+L0WwtPnu9ShGTaiXe3fl+rK3NP+wXjjsB\\\n",
              "gwUxHE1iMpv/UKToDOKbL1xoYSJYbAIGC6KqZjHZnz+0vD7Yj2svnW9hIlhsAgYLoizHsXfzV3Gq\\\n",
              "dy+KKCOijO70bnxt+nZs72y1PR4snGOziWNzc7PtETiGyrKM6fRwB5Fnsyo2792MVx/8Ov760XJs\\\n",
              "3HkUw0f/jE/v3Yl7j3YP+X/M4u7du7G8vPz/jM0xcvHixbZHeGbHJmBvvvlm2yNwDFVVFVtbh797\\\n",
              "+s07H8Tv/rQR5WwW5ezoRzSHw2G89dZb0e/3j/xvOZ7eeOONtkd4Zg4yw5foKAeZvwgOMnOc+A4M\\\n",
              "gJQEDICUBAyAlAQMgJQEDICUBAyAlI7NOTBoQ1EU8dprr8XVq1cb+Xlnz56NbrfbyM+CtjkHBkBK\\\n",
              "PkIEICUBAyAlAQMgJQEDICUBAyAlAQMgJQEDICUBAyAlAQMgJQEDICUBAyAlAQMgJQEDICUBAyAl\\\n",
              "AQMgJQEDICUBAyAlAQMgJQEDICUBAyAlAQMgJQEDICUBAyAlAQMgJQEDICUBAyAlAQMgJQEDICUB\\\n",
              "AyAlAQMgJQEDICUBAyAlAQMgJQEDICUBAyAlAQMgJQEDICUBAyAlAQMgJQEDICUBAyAlAQMgJQED\\\n",
              "ICUBAyAlAQMgJQEDICUBAyAlAQMgJQEDICUBAyAlAQMgJQEDICUBAyAlAQMgJQEDICUBAyAlAQMg\\\n",
              "JQEDICUBAyAlAQMgJQEDICUBAyAlAQMgJQEDICUBAyAlAQMgJQEDICUBAyAlAQMgJQEDICUBAyAl\\\n",
              "AQMgJQEDICUBAyAlAQMgJQEDICUBAyAlAQMgJQEDICUBAyAlAQMgpf8CEYgXUJkgSRUAAAAASUVO\\\n",
              "RK5CYII=\\\n",
              "\"\n",
              "  frames[37] = \"data:image/png;base64,iVBORw0KGgoAAAANSUhEUgAAAbAAAAEgCAYAAADVKCZpAAAAOXRFWHRTb2Z0d2FyZQBNYXRwbG90\\\n",
              "bGliIHZlcnNpb24zLjcuMSwgaHR0cHM6Ly9tYXRwbG90bGliLm9yZy/bCgiHAAAACXBIWXMAAAsT\\\n",
              "AAALEwEAmpwYAAAKX0lEQVR4nO3dTW9c1RnA8efOiz224zghhAQUQKVUiPLSCqmIBYrUFeqy6rrf\\\n",
              "oFs+QJf9FlWRumHFpouu2qqURVkUBKJEDSKQkMSA7fh17DtzbxfZdW7Ajui985DfT8rmHFt5Ntbf\\\n",
              "nrnnTFHXdR0AkEyv6wEA4H4IGAApCRgAKQkYACkJGAApCRgAKQkYACkJGAApCRgAKQkYACkJGAAp\\\n",
              "CRgAKQkYACkJGAApCRgAKQkYACkJGAApCRgAKQkYACkJGAApCRgAKQkYACkJGAApCRgAKQkYACkJ\\\n",
              "GAApCRgAKQkYACkJGAApCRgAKQkYACkJGAApCRgAKQkYACkJGAApCRgAKQkYACkJGAApCRgAKQkY\\\n",
              "ACkJGAApCRgAKQkYACkJGAApCRgAKQkYACkJGAApCRgAKQkYACkJGAApCRgAKQkYACkJGAApCRgA\\\n",
              "KQkYACkJGAApCRgAKQkYACkJGAApCRgAKQkYACkJGAApCRgAKQkYACkJGAApCRgAKQkYACkJGAAp\\\n",
              "CRgAKQkYACkJGAApCRgAKQkYACkJGAApCRgAKQkYACkJGAApCRgAKQkYACkJGAApCRgAKQkYACkJ\\\n",
              "GAApCRgAKQkYACkJGAApCRgAKQkYACkJGAApCRgAKQkYACkJGAApCRgAKQkYACkJGAApCRgAKQkY\\\n",
              "ACkJGAApCRgAKQkYACkJGAApCRgAKQkYACkJGAApCRgAKQkYACkJGAApCRgAKQkYACkJGAApCRgA\\\n",
              "KQkYACkJGAApCRgAKQkYACkJGAApCRgAKQkYACkJGAApCRgAKQkYACkJGAApCRgAKQkYACkJGAAp\\\n",
              "CRgAKQkYACkNuh4AHgTT8jD2v74e5f5WlPvbUe5vxdH+nRgursSlV34VReF3STgpAYMWHHx9Pf79\\\n",
              "1u9m1kdnH42LP30thkunO5gKcvNrH7ShKO7++x9Hu5sxvrPewUCQn4BBC0Zrj8TKw0/OrFflOCbj\\\n",
              "3ajruoOpIDcBgxb0F5djcI+XCcv97Zange8HAYMWFEUvil7zj9vel5+2Owx8TwgYtGT1sWca13dv\\\n",
              "/ScivIQIJyVg0JJTj/wgImYf5KjrKqpJ2f5AkJyAQUv6C0tN/YqqPIyj3Y32B4LkBAxa0hsuxnD5\\\n",
              "zMx6uX8ndtc/aX8gSE7AoCXD0alYOT/7KH1ERD2ZeJQeTkjAoCVFfxiD0anGvcPdjQgBgxMRMGhJ\\\n",
              "URR33wdrcOez96OuJi1PBLkJGLRo7Ynno+jNXkE6Ge94CRFOSMCgRaPV840HmuuqisnhXgcTQV4C\\\n",
              "Bi3qDYaNl/pOy8PYu+1JRDgJAYMW9YaLcerCD2fW62kZB1u3vIwIJyBg0KJefxijMxcb9+rJUbhS\\\n",
              "Co5PwKBFRa8fg8WVxr39zS9cKQUnIGDQst5gGE13Su3c+Diq8rD9gSApAYOWnXnyxegvNp8Hq+uq\\\n",
              "5WkgLwGDli2snI2i159Zr+vKpb5wAgIGbSt60fixKtMyNq6+2/48kJSAQcuK3iDWLv24ca+aHLU8\\\n",
              "DeQlYNCyoteL5XOPN+5Njw6imroTEY5DwKADveFi4/rh9pcxLcctTwM5CRi0rCiKWDz9cPSGo5m9\\\n",
              "va8+i8l4t4OpIB8Bgw4sn3s8BqOmA8111A4zw7EIGHRgsLgcvYaPVYk6Ynxnvf2BICEBgy4URQyW\\\n",
              "Vhs26ti69l7r40BGAgadKGLtiRcad6ZHB26lh2MQMOjI6PT5xvXJ4X5UnkSEbyVg0IGiKO55qe94\\\n",
              "62Yc7W62PxQkI2DQkdHZx2Jh9aGZ9cl4N6ZHBx1MBLkIGHRkuLx2z88GmxzutTwN5CNg0JH+YCF6\\\n",
              "/YZH6SNi9/YnLU8D+QgYdKi/eKpxfefmlZYngXwEDDp07umfNa7XVRV1NW15GshFwKBDC6fONq5P\\\n",
              "D/ei3N9ueRrIRcCgS0Xzj+D4znrsb1xveRjIRcCgQ6PT52Pp3KWGnTrqaupGDvgGAgYdGoxOxXB5\\\n",
              "rXGv3NtqdxhIRsCgQ0WvH71ev3Fv4+q7EeEvMLgXAYOOrVx4qnG9PNhpeRLIRcCgY6cuPB1NdyLW\\\n",
              "9TSq8qj9gSAJAYOODZeaDzNXR+M42t1oeRrIQ8CgY73+QgwaIlYe7MTeV9c6mAhyEDDo2GBpNVYe\\\n",
              "frJhp46qPPQoPdyDgEHHeoOFGC6fbtwbb38VIWDQSMCgY0VRRG84atzbvvGROxHhHgQM5sDapeei\\\n",
              "aDgPNjnYjrquOpgI5p+AwRwYnXmk8V7EuprGxHkwaCRgMAd6g8UoitmzYNPy0JOIcA8CBnOg6PVj\\\n",
              "sLQ6s15Pyxhv3upgIph/AgZzoL+4HGuXnmvcm5Zj74NBAwGDOVAUvcbDzBERB5s3o5qULU8E80/A\\\n",
              "YA4URRG9/rBxb+fmlagmhy1PBPNPwGBOrD3+fPQXlmY36tpZMGggYDAnFlfPRdEbzKzXdRWHO193\\\n",
              "MBHMNwGDOVH0B02fqhL1tIytT99rfyCYc7O/7gHfuQ8++CC2t7e/+YvqaUyqlViK2YPLN69fi+vv\\\n",
              "vHOsi337/X689NJLMRw2v6cG3xdF7apr+L979dVX4+233/7Gryki4tev/SR+88uXZ/b+/M+r8dvf\\\n",
              "/yXK6bc/Tr+6uhpXr16N8+fP3++4kIK/wGBO1BGxs3/3acO96em4Mf5RTGMQFxauxQtP7cbZ1aVY\\\n",
              "39rrdkiYIwIGc2R9cy/W91bjo8NfxH519yNWPh8/G88u/TUWF/7U8XQwXzzEAXPk48834u+3X4n9\\\n",
              "ai3uvqhYxLReiA/3LkfdP9v1eDBXBAzmyObOOPaOZn8sqxjEi08/2sFEML8EDOZIVVcxGc+e+Rr1\\\n",
              "x/HyMxc6mAjml4DBHKnrOnau/SEeGn4RRUwjoopishGXpm/F7s561+PBXHlgHuK4dctHUtCdsjz+\\\n",
              "ZbzXb96In2/+Mf71ySiuXN+O/TtX4tbtz+LWxu6xvr+u61hfX4/p1PVTfLuLFy92PcJ9e2AC9sYb\\\n",
              "b3Q9Ag+w9fXj//X0t/evxT8+/Dym0yqm1cmPaZZlGW+++WasrKyc+Ht58Lz++utdj3DfHGSGFhzn\\\n",
              "IPN3xUFmHhTeAwMgJQEDICUBAyAlAQMgJQEDICUBAyClB+YcGHTp8uXLrT3WvrS0FAsLC638X9Al\\\n",
              "58AASMlLiACkJGAApCRgAKQkYACkJGAApCRgAKQkYACkJGAApCRgAKQkYACkJGAApCRgAKQkYACk\\\n",
              "JGAApCRgAKQkYACkJGAApCRgAKQkYACkJGAApCRgAKQkYACkJGAApCRgAKQkYACkJGAApCRgAKQk\\\n",
              "YACkJGAApCRgAKQkYACkJGAApCRgAKQkYACkJGAApCRgAKQkYACkJGAApCRgAKQkYACkJGAApCRg\\\n",
              "AKQkYACkJGAApCRgAKQkYACkJGAApCRgAKQkYACkJGAApCRgAKQkYACkJGAApCRgAKQkYACkJGAA\\\n",
              "pCRgAKQkYACkJGAApCRgAKQkYACkJGAApCRgAKQkYACkJGAApCRgAKQkYACkJGAApCRgAKQkYACk\\\n",
              "JGAApCRgAKQkYACkJGAApCRgAKQkYACkJGAApCRgAKQkYACkJGAApCRgAKT0X00fBYbDmhfzAAAA\\\n",
              "AElFTkSuQmCC\\\n",
              "\"\n",
              "  frames[38] = \"data:image/png;base64,iVBORw0KGgoAAAANSUhEUgAAAbAAAAEgCAYAAADVKCZpAAAAOXRFWHRTb2Z0d2FyZQBNYXRwbG90\\\n",
              "bGliIHZlcnNpb24zLjcuMSwgaHR0cHM6Ly9tYXRwbG90bGliLm9yZy/bCgiHAAAACXBIWXMAAAsT\\\n",
              "AAALEwEAmpwYAAAKc0lEQVR4nO3dzW8cdxnA8Wd2N+vXJM5bm6QtSaoKEFUT4IBUekbigtQbSPwJ\\\n",
              "Fcde+Cs49MaxfwAXTghOSO0BcjIC0tRp06aN8+bEWXsd79twSCq18Th1ojKzT/z5HOdna5+Dra92\\\n",
              "5jczRVmWZQBAMq2mBwCAZyFgAKQkYACkJGAApCRgAKQkYACkJGAApCRgAKQkYACkJGAApCRgAKQk\\\n",
              "YACkJGAApCRgAKQkYACkJGAApCRgAKQkYACkJGAApCRgAKQkYACkJGAApCRgAKQkYACkJGAApCRg\\\n",
              "AKQkYACkJGAApCRgAKQkYACkJGAApCRgAKQkYACkJGAApCRgAKQkYACkJGAApCRgAKQkYACkJGAA\\\n",
              "pCRgAKQkYACkJGAApCRgAKQkYACkJGAApCRgAKQkYACkJGAApCRgAKQkYACkJGAApCRgAKQkYACk\\\n",
              "JGAApCRgAKQkYACkJGAApCRgAKQkYACkJGAApCRgAKQkYACkJGAApCRgAKQkYACkJGAApCRgAKQk\\\n",
              "YACkJGAApCRgAKQkYACkJGAApCRgAKQkYACkJGAApCRgAKQkYACkJGAApCRgAKQkYACkJGAApCRg\\\n",
              "AKQkYACkJGAApCRgAKQkYACkJGAApCRgAKQkYACkJGAApCRgAKQkYACkJGAApCRgAKQkYACkJGAA\\\n",
              "pCRgAKQkYACkJGAApCRgAKQkYACkJGAApCRgAKQkYACkJGAApCRgAKQkYACkJGAApCRgAKQkYACk\\\n",
              "JGAApCRgAKQkYACkJGAApCRgAKQkYACkJGAApCRgAKQkYACkJGAApCRgAKQkYACkJGAApCRgAKQk\\\n",
              "YACkJGAApNRpegDYD8pyEuPBVoy2+zHcvBf925/F5u3P4uT5X8T8sZebHg9SEjCowZcX/xz3r/0n\\\n",
              "tnu3Y9i/HxFlREQsnDgjYPCMnEKEGvS+/Cg2bqzEsL8eX8UrImLtysXmhoLkBAxqcPjM+crj5WQc\\\n",
              "5WRS8zTwfBAwqMH80Zcqj48HWzF6sFHzNPB8EDCoQevAbOXx7fVb0V+7VvM08HwQMKhBd2EpZg6/\\\n",
              "sON4ORnFZPggyrKs+C3gSQQManBg/nDMHDpRubZ193rN08DzQcCgBkWrHe3OTOXa2sf/iK/vTAT2\\\n",
              "RsCgBkVRxOFXXq9cK8tJhFOI8NQEDGoyd/SliCh2HJ+MBo9ubgaehoBBTdrd+ap+xXDzXvRWL9c/\\\n",
              "ECQnYFCTzuzCo29h3/TVcxLtRISnI2BQk/bMfMwtnapcG2ysuQ4GT0nAoCZF0dr1hub7X1yKcjKu\\\n",
              "eSLITcCgJkVRxOzSixHFzgthg43bD3cjAnsmYFCjpe+9EUVr51uMJuNxDPv36h8IEhMwqFF7Zj6K\\\n",
              "im9g40E/7n223MBEkJeAQY3anW7MHz+zc6EsY7xtJyI8DQGDGrU63Zg//krl2rC/biMHPAUBgzoV\\\n",
              "rejMzFcu9a5fjslou+aBIC8BgxoVRREzh05UbuQYbKxFOR41MBXkJGBQs4OnfxDt7s77wcpyEoP+\\\n",
              "egMTQU4CBjXrzCxEFDv/9crxMNZW/tnARJCTgEHNilY7Fl44W7k23t60ExH2SMCgZkWrFYsnzlau\\\n",
              "jbb7UU5cB4O9EDCoXRGduUOVK5s3rsRoq1fzPJCTgEHNiqKI7sJStDrdHWuD/r0YjwYNTAX5CBg0\\\n",
              "YOGFc9GZO1i55u3MsDcCBg3ozMxHq+JesCjL2LyxUv9AkJCAQROKIjqzi5VLGzc/sRMR9kDAoBFF\\\n",
              "HH3tZ5Ur4+F2lONhzfNAPgIGDekuLFUe31q7Ftu9O/UOAwkJGDSgKIrozB2Mdndux9poqxfj7X4D\\\n",
              "U0EuAgYNmVs6Fd3Fo5Vrw+2NmqeBfAQMGtKemY/WgZnKtY1VOxHh2wgYNKQoiocP9q2wsfpxzdNA\\\n",
              "PgIGDTq2y07EyXgY46GXW8KTCBg0aLdrYNvrt2Jr7Yuap4FcBAwa1O7OR7viNOJ40I/hVs8NzfAE\\\n",
              "AgYN6i4eidmlk5Vr48FWzdNALgIGDWp356IzM1+5ZiMHPJmAQYOKJzwTsXf9ckQ4hQi7ETBo2JFX\\\n",
              "fxoRxY7jZTmOydC7wWA3AgYNmzl4vPL4eLAV273bNU8DeQgYNKwoWhHFzm9go61ebN66aici7ELA\\\n",
              "oGHdhaU4ePr7lWvj4YOap4E8BAwa1jowGzO73NC8uboS5WRc80SQg4BBwx4+E3GXnYirlyPKSc0T\\\n",
              "QQ4CBlPg8JnzUbQ6O46XZemZiLALAYMpMHPoeBQVGznK0SAerN9sYCKYfgIGU6BotSNaO/8dx8MH\\\n",
              "0bt+qYGJYPoJGEyBTncuDr/8euXaZDiwlR4qCBhMgaJ9IGaXXqxc27z1aUxGnsgBjxMwmAJFUTx8\\\n",
              "rUrFdbCN1ZWYjGzkgMcJGEyJQ6d/GO0DsxUrZUxGw9rngWknYDAlZg4eq95KP5nE1t3rDUwE003A\\\n",
              "YEoU7XYUFTsRy8ko1j9fbmAimG4CBlOi1T4QS2fOV65NRsMoPZEDvkHAYFoUrZg9crpyabCx5t1g\\\n",
              "8JiidIMJ/N/1er1YXv7204CttUvR/uLDnccPzMbwtV/FpLOwp887depUnDt37qnnhEx2XjEGvnPL\\\n",
              "y8vx1ltvfevP/ejMifjD734ZS4vf3I04fNCP3/7m13Hl+t09fd4777wT77333jPNClk4hQhTZOXL\\\n",
              "tbjf345J2YrV7bPx740340r/jRjGXLx6+kjT48FU8Q0MpshwNInhqIyV/k9iZevHUUYrIsq4OTgb\\\n",
              "P7/wafz14pWmR4Sp4RsYTJFJWcafLo4fxasdEUVEtOLu6GR8Mniz6kEdsG8JGEyZj66tP4rX1xVx\\\n",
              "aPFQLM51G5kJppGAwZQZjzajXTy+Zb6M89/rxqljBxuZCaaRgMGU2Vj7b5wY/iW6xVZElFGUg1gc\\\n",
              "Lcex8d+9VgW+Zt9s4lhdXW16BPaxO3fu7PlnP795P3o3PoxB+XFc/DTixu0b0bv9r7h2627c39zb\\\n",
              "U+n7/b6/efbk5MmTTY/wzPZNwN5///2mR2Afu3r16p5/djSexO//+Lcoo4zxuIzJM3zrunTpkr95\\\n",
              "9uTdd99teoRn5kkcUIMPPvhgTzcyf1fcyMx+4BoYACkJGAApCRgAKQkYACkJGAApCRgAKe2b+8Cg\\\n",
              "SUePHo233367ts+7cOFCbZ8FTXEfGAApOYUIQEoCBkBKAgZASgIGQEoCBkBKAgZASgIGQEoCBkBK\\\n",
              "AgZASgIGQEoCBkBKAgZASgIGQEoCBkBKAgZASgIGQEoCBkBKAgZASgIGQEoCBkBKAgZASgIGQEoC\\\n",
              "BkBKAgZASgIGQEoCBkBKAgZASgIGQEoCBkBKAgZASgIGQEoCBkBKAgZASgIGQEoCBkBKAgZASgIG\\\n",
              "QEoCBkBKAgZASgIGQEoCBkBKAgZASgIGQEoCBkBKAgZASgIGQEoCBkBKAgZASgIGQEoCBkBKAgZA\\\n",
              "SgIGQEoCBkBKAgZASgIGQEoCBkBKAgZASgIGQEoCBkBKAgZASgIGQEoCBkBKAgZASgIGQEoCBkBK\\\n",
              "AgZASgIGQEoCBkBKAgZASgIGQEoCBkBKAgZASgIGQEoCBkBKAgZASgIGQEoCBkBKAgZASgIGQEoC\\\n",
              "BkBKAgZASv8DZJseSZRn66cAAAAASUVORK5CYII=\\\n",
              "\"\n",
              "  frames[39] = \"data:image/png;base64,iVBORw0KGgoAAAANSUhEUgAAAbAAAAEgCAYAAADVKCZpAAAAOXRFWHRTb2Z0d2FyZQBNYXRwbG90\\\n",
              "bGliIHZlcnNpb24zLjcuMSwgaHR0cHM6Ly9tYXRwbG90bGliLm9yZy/bCgiHAAAACXBIWXMAAAsT\\\n",
              "AAALEwEAmpwYAAAKoklEQVR4nO3dS29cZxnA8efMxfb4kntIeq96gapAFUCogAS7skPqF2DLNygr\\\n",
              "PgHfgHWXZdFKsAEJsUMIlVChtum9TdI0aW0nje3xjGfmHBYFqWhOKjeCc+apf7/l+9rysxn9NeP3\\\n",
              "zFtUVVUFACTTaXsAALgbAgZASgIGQEoCBkBKAgZASgIGQEoCBkBKAgZASgIGQEoCBkBKAgZASgIG\\\n",
              "QEoCBkBKAgZASgIGQEoCBkBKAgZASgIGQEoCBkBKAgZASgIGQEoCBkBKAgZASgIGQEoCBkBKAgZA\\\n",
              "SgIGQEoCBkBKAgZASgIGQEoCBkBKAgZASgIGQEoCBkBKAgZASgIGQEoCBkBKAgZASgIGQEoCBkBK\\\n",
              "AgZASgIGQEoCBkBKAgZASgIGQEoCBkBKAgZASgIGQEoCBkBKAgZASgIGQEoCBkBKAgZASgIGQEoC\\\n",
              "BkBKAgZASgIGQEoCBkBKAgZASgIGQEoCBkBKAgZASgIGQEoCBkBKAgZASgIGQEoCBkBKAgZASgIG\\\n",
              "QEoCBkBKAgZASgIGQEoCBkBKAgZASgIGQEoCBkBKAgZASgIGQEoCBkBKAgZASgIGQEoCBkBKAgZA\\\n",
              "SgIGQEoCBkBKAgZASgIGQEoCBkBKAgZASgIGQEoCBkBKAgZASgIGQEoCBkBKAgZASgIGQEoCBkBK\\\n",
              "AgZASgIGQEoCBkBKAgZASgIGQEoCBkBKAgZASgIGQEoCBkBKAgZASgIGQEoCBkBKAgZASgIGQEoC\\\n",
              "BkBKAgZASgIGQEoCBkBKAgZASgIGQEoCBkBKAgZASgIGQEoCBkBKAgZASgIGQEoCBkBKAgZASgIG\\\n",
              "QEoCBkBKvbYHgKOgqsqYHezHdDyMyd6tGG5ejr3Ny3H+qWdi9fT9bY8HKQkYNODay7+L21dfj/HO\\\n",
              "ZkyGtyOiioiItTMPChjcJR8hQgN2rr0Zuzfeicnw0/hPvCIitt/7e3tDQXICBg048fCF2vVqNo2y\\\n",
              "nDU7DHxFCBg0YHDqvtr16XgY0+HthqeBrwYBgwZ0eku16wc7m7F/81rD08BXg4BBA5Y3TsXKyXvm\\\n",
              "1qtyFtPxMKqqqvkt4IsIGDSgPzgeyxtnaveGW5cbnga+GgQMGlB0Onf8GPHWB/+Mz59MBA5HwKAh\\\n",
              "px75XkQUc+tVOY1yOml+IEhOwKAhg5P31vUrpqPdGG5dbX4gSE7AoCFFrx/d/mBufTYexshJRPjS\\\n",
              "BAwa0h8ci/Vzj9TuTQ/2nUSEL0nAoCGd3lL0V4/X7u1vXYmqKhueCHITMGhIURTR6fVr925/+EZU\\\n",
              "s2nDE0FuAgYNOvXo96Pozl8CUZWzmB3stzAR5CVg0KDlY2ejKOZfduVkFHsfv9fCRJCXgEGDik43\\\n",
              "eivrc+vlbBLD7Q9bmAjyEjBoUHdpEMcf+Gbt3my0G5WrVeDQBAwaVHS6dzyJeOvKqzE7GDU8EeQl\\\n",
              "YNCgoihi5fi52oMck71bUZZOIsJhCRg0bP3co9HtLc+tV1UZE5dbwqEJGDSsN1iP6HTn1qtyFrs3\\\n",
              "3m5hIshJwKBhRdGJ/uqx+Y2qjP2tq75SCg5JwKBhRbf376tV5k1Hu1HNXK0ChyFg0LgieisbtTs7\\\n",
              "19+Jyf5Ow/NATgIGDSuKIlaOnY1Of2VubzraiXJ60MJUkI+AQQtWzz4U/Zpv5IgqYryz2fxAkJCA\\\n",
              "QQu6/ZXaZ8Eiqth666+NzwMZCRi0oShi494narfKydhJRDgEAYOWrH3t4dr16WjX1SpwCAIGLekt\\\n",
              "DWrX97c/jIPdrYangXwEDFpQFEUsbZyO3mD+OP1sMvIODA5BwKAlgxP3xNL6qdq9/Vs3Gp4G8hEw\\\n",
              "aEmn149Op+4kYsTNd19ueBrIR8CgRccf/FbtejkZRVWWDU8DuQgYtGjt7MO165Ph7TjY3W52GEhG\\\n",
              "wKBF3aVBFDVXq4x3NmN/+8MWJoI8BAxatHzsbAxO3Ve7V84mHmiGLyBg0KLe8mr0BzV3g0XE/s2P\\\n",
              "Gp4GchEwaFHR6dZ+hBgRceuDVyLCOzC4EwGDlp14+ELtejkZRzmbNjsMJCJg0LK1sw9GRDG3Ph0P\\\n",
              "Y3TrevMDQRICBi3rdJei0+vPrU9HOzH85HILE0EOAgYt668dj/Xzj9XuzSYjJxHhDgQMWtbpLcfS\\\n",
              "2onavU+vvhpVOWt2IEhCwKBlRVHE0tqpqPs/2P7W1agqXykFdQQMFsCx+5+sPU5fVWWUrlaBWgIG\\\n",
              "C2B541QUxfw7sHJyEMOtqy1MBItPwGABFJ1edPrLc+vldBx7H7/nIAfUEDBYAN3l1Tjx0FO1e9OD\\\n",
              "/QgBgzkCBgug6HSjv3aydm/n2hsxm44bnggWn4DBAvjsJOKJ2oMco1s3oppNWpgKFpuAwYI4dt8T\\\n",
              "0emv1OxUMdnfaXweWHQCBguiPzgeRWf+JVlOJ3Hz3ZdbmAgWm4DBgii63Vg9/WDNzmfvwJxEhP8m\\\n",
              "YLAgik431s89Urs3He1GVbpaBT5PwGBhFHe8nXnvkw9iOtpreB5YbAIGC6IoiuivHY+iO3+1ysHu\\\n",
              "dswmjtLD5wkYLJD1849Ff7XuXVgVk93txueBRdZrewA4Ki5duhTb218coSKq6B5M5r+Xvqrirb/9\\\n",
              "IcaXbx7qbxVFERcuXIjBYHB3w0ICReVoEzTi2WefjZdeeukLf6YoIn7185/Ez370jbm9P198P375\\\n",
              "mz8e6m/1er147bXX4vHHH7+rWSEDHyHCAqmqiItvXY+IiP3ZWrw9/E68vvuD+OTg/jh5bDU2Bkst\\\n",
              "TwiLw0eIsGBuD8exO92If+z8NHZmJyOiiMujJ+Pr92zEA+f+Eq+9/3HbI8JC8A4MFsx7H92MP125\\\n",
              "EDuz0/HZS7SIMnrx5vCHMazOtj0eLAwBgwVz4+ZebO3M5tZnVTfuOXOi+YFgQQkYLJiDySx65e25\\\n",
              "9aXOOJ757n0tTASLScBgAe1feyHOLn0QnZhGRBkx+zTunf0+erNP2h4NFsaROcRx/fr1tkfgiBuP\\\n",
              "D/9NGhcvvRM//vYL8cq7K3Hpym7sffp2fHzj/fho63DXqlRVFZubm7GxsXG343JEnD9/vu0R7tqR\\\n",
              "Cdjzzz/f9ggccVeuXDn0z15863r84te/jemsjFn55R/VrKoqXnzxxThz5syX/l2Olueee67tEe6a\\\n",
              "B5mhIYd5kPl/xYPMHAX+BwZASgIGQEoCBkBKAgZASgIGQEoCBkBKR+Y5MGjb008/HUUxd1Xl/0W3\\\n",
              "24319fVG/ha0xXNgAKTkI0QAUhIwAFISMABSEjAAUhIwAFISMABSEjAAUhIwAFISMABSEjAAUhIw\\\n",
              "AFISMABSEjAAUhIwAFISMABSEjAAUhIwAFISMABSEjAAUhIwAFISMABSEjAAUhIwAFISMABSEjAA\\\n",
              "UhIwAFISMABSEjAAUhIwAFISMABSEjAAUhIwAFISMABSEjAAUhIwAFISMABSEjAAUhIwAFISMABS\\\n",
              "EjAAUhIwAFISMABSEjAAUhIwAFISMABSEjAAUhIwAFISMABSEjAAUhIwAFISMABSEjAAUhIwAFIS\\\n",
              "MABSEjAAUhIwAFISMABSEjAAUhIwAFISMABSEjAAUhIwAFISMABSEjAAUhIwAFISMABSEjAAUhIw\\\n",
              "AFISMABSEjAAUhIwAFISMABSEjAAUhIwAFISMABSEjAAUhIwAFISMABSEjAAUhIwAFISMABS+hc1\\\n",
              "rRgU+YCYnwAAAABJRU5ErkJggg==\\\n",
              "\"\n",
              "  frames[40] = \"data:image/png;base64,iVBORw0KGgoAAAANSUhEUgAAAbAAAAEgCAYAAADVKCZpAAAAOXRFWHRTb2Z0d2FyZQBNYXRwbG90\\\n",
              "bGliIHZlcnNpb24zLjcuMSwgaHR0cHM6Ly9tYXRwbG90bGliLm9yZy/bCgiHAAAACXBIWXMAAAsT\\\n",
              "AAALEwEAmpwYAAAKj0lEQVR4nO3dT5NcVRnA4fd290xPTyZDJkMkQAKKZVGYUiysosq95coFCz6C\\\n",
              "Gz8AH8GVfguW7Cy3LHThQktBjYIpQRJImIwDk/nXPf33ugCrkL7AkNJ770ueZ5U6ZyrzLmbqV9N9\\\n",
              "zu2iLMsyACCZTtMDAMD9EDAAUhIwAFISMABSEjAAUhIwAFISMABSEjAAUhIwAFISMABSEjAAUhIw\\\n",
              "AFISMABSEjAAUhIwAFISMABSEjAAUhIwAFISMABSEjAAUhIwAFISMABSEjAAUhIwAFISMABSEjAA\\\n",
              "UhIwAFISMABSEjAAUhIwAFISMABSEjAAUhIwAFISMABSEjAAUhIwAFISMABSEjAAUhIwAFISMABS\\\n",
              "EjAAUhIwAFISMABSEjAAUhIwAFISMABSEjAAUhIwAFISMABSEjAAUhIwAFISMABSEjAAUhIwAFIS\\\n",
              "MABSEjAAUhIwAFISMABSEjAAUhIwAFISMABSEjAAUhIwAFISMABSEjAAUhIwAFISMABSEjAAUhIw\\\n",
              "AFISMABSEjAAUhIwAFISMABSEjAAUhIwAFISMABSEjAAUhIwAFISMABSEjAAUhIwAFISMABSEjAA\\\n",
              "UhIwAFISMABSEjAAUhIwAFISMABSEjAAUhIwAFISMABSEjAAUhIwAFISMABSEjAAUhIwAFISMABS\\\n",
              "EjAAUhIwAFISMABSEjAAUhIwAFISMABSEjAAUhIwAFISMABSEjAAUhIwAFISMABSEjAAUhIwAFIS\\\n",
              "MABSEjAAUhIwAFISMABSEjAAUhIwAFISMABSEjAAUhIwAFISMABSEjAAUhIwAFISMABSEjAAUhIw\\\n",
              "AFISMABS6jU9ADwIynIR88koZuNhTE/uxXDvVpzs3YrL3/1hrG9fbXo8SEnAoAZ3/vCrOHzvjRgf\\\n",
              "7cV0eBgRZURErD98VcDgPnkJEWpw9P6NOL77VkyHB/GfeEVE7P/zteaGguQEDGqw9Y3nKtfL+SwW\\\n",
              "81nN08BXg4BBDQYXH69cnxx/GKcHd2ueBr4aBAxq0F0dRKfXX1qfDg9ifLjXwESQn4BBDfrnH471\\\n",
              "7SuVe7PT4yjLsnIP+GwCBjXorg6it7ZRubf/9h/ikwc7gLMRMKhBURQx2Hqscm98tKdfcB8EDGqy\\\n",
              "eeWZiCiW1hfzacxOj+ofCJITMKjJyvpDVf2KyfF+HLz3Rv0DQXICBjXprW3E4GLFQY5yEYvZ2EEO\\\n",
              "+JIEDGrSXR3E4MLlyr2P3gcTMPgyBAxqUnS60V1Zq9w7fPdvUS7mNU8EuQkY1KQoili/9EREsfxr\\\n",
              "NxkexGI+bWAqyEvAoEabj387Ot3lD4Eo59MYH/6rgYkgLwGDGnVWVivX55NRHN5+w0EO+BIEDGrU\\\n",
              "XVn7+D7Ystn4JNxohrMTMKhRp7cag63qJ9MP996Lxcz7YHBWAgY1KooiuqtrUXWj+XjnH7GYntY/\\\n",
              "FCQlYFCzC08+G93+oGKnjNnpSe3zQFYCBjVb3diKorN8EnExn8Xh7TcbmAhyEjCoWVF0YnVja3mj\\\n",
              "XMRo/46TiHBGAgY1K7q92Hry2cq96elRlC40w5kIGNSsKDrRG2xW7h3duRHT4WHNE0FOAgYNGGxd\\\n",
              "ju7q8kGO+WQYi/mkgYkgHwGDBgy2r0ZvbWN5o4wY7e/UPxAkJGDQgG6vX3kSMaKMD9/6fe3zQEYC\\\n",
              "Bk0oirjw5HcqtxazaZSLRc0DQT4CBg1Zf/iJyvXx4W5Mhwc1TwP5CBg0oCiK6PXPRdHpLu2d3tuJ\\\n",
              "yfGHDUwFuQgYNGSwfSX6m5cq92aTUc3TQD4CBg1ZWTtfeZQ+IuLeO6/VPA3kI2DQkKLTif7m1yr3\\\n",
              "Rvvve6QUfAEBgwY9dPVa5fpiNonFbFzzNJCLgEGD+hsXK9enJ/difLhX8zSQi4BBgzor/ej0VpfW\\\n",
              "p6PDGB/teRkRPoeAQYPWLlyOc5e+XrnnKD18PgGDBnV6q9FdXavcO7h1veZpIBcBgwYVRRGDrccq\\\n",
              "9z56CdEjpeCzCBg07MLXn42IYml9MR3H9ORe7fNAFgIGDeuurleuT4YHcbzzj5qngTwEDBrWWzsf\\\n",
              "65eeXN4oFzEbD51EhM8gYNCw3tp6DLYerdwbfvBuhPfBoJKAQcOKohPdlX7l3sGt61Eu5jVPBDkI\\\n",
              "GLTA1jeeq/yE5rKcx3zqkVJQRcCgBdYeeiSKovok4vHdtxqYCNpPwKAFim4veoPzS+uL2SRGH9xu\\\n",
              "YCJoPwGDFuiuDmLz8Wcq96anR94HgwoCBi1QdLqxcu5C5d7Bresxn5zWOxAkIGDQAkVRxODCo1F0\\\n",
              "lw9yTIcHUS5mDUwF7SZg0BIbl78Z3d7ycfqyXMT4yJPp4dMEDFqi1z8X0ekurZfzaXz49u8bmAja\\\n",
              "TcCgJYpuLzYfe7pybzEde6QUfIqAQUsUnW6sX3qicm90byfmk1HNE0G7CRi0RFEUsbJ2PqLiQvPx\\\n",
              "zlsxGx01MBW0l4BBi5x75KlYGWxW7JSxmE1qnwfaTMCgRfobF6NTcRIxyojh/p36B4IWEzBokaLT\\\n",
              "i6Kz/BJiRBkHt/7sIAd8goBBmxRFbD31/cqt+XjoQjN8wvK1f+D/YjQaxeuvv/6Ff0UV904qfzFP\\\n",
              "D/fitd/9Nsblypm+3/b2djz9dPWxfPgqKEqvSUAt3nzzzbh27VosFp//Ccs/uHYlfvHTH8VK778v\\\n",
              "NZdlGT/5+S/jL2/vnun7vfjii/HKK6/c97zQdv4Cg5a5/s/duHn3IJ56bDv2pldib3IlVjujuNK/\\\n",
              "ERfPD5oeD1pDwKBljoaTGI5ncev0Wvz95PlYRDciytgZPxXfe+ZG/PpPN5seEVrBIQ5oob/e6X8c\\\n",
              "r15EFBHRiaP5dozO/7jp0aA1BAxa6NU/3vw4Xp9URH9tPTbXK+6JwQNIwKCFjodH0SvGn1ot4+lH\\\n",
              "u/GtqxcbmQnaRsCghUZHt+Li6JfRL04iYhFFOY3B7EY8Mn81nBuGjzwwhzh2dnaaHoEH3N7e3pm/\\\n",
              "dnf/JO7e/l3019+LP73TjTu7u3H8wfW4vftB7B+fnun/OD099XPPF7p8+XLTI9y3ByZgL7/8ctMj\\\n",
              "8IDb3d0986Og5osyfvbybz7697yMxX382XXz5k0/93yhl156qekR7puLzFCTs15k/l9xkZmvOu+B\\\n",
              "AZCSgAGQkoABkJKAAZCSgAGQkoABkNIDcw8MmraxsREvvPBCbcfon3/++Vq+DzTFPTAAUvISIgAp\\\n",
              "CRgAKQkYACkJGAApCRgAKQkYACkJGAApCRgAKQkYACkJGAApCRgAKQkYACkJGAApCRgAKQkYACkJ\\\n",
              "GAApCRgAKQkYACkJGAApCRgAKQkYACkJGAApCRgAKQkYACkJGAApCRgAKQkYACkJGAApCRgAKQkY\\\n",
              "ACkJGAApCRgAKQkYACkJGAApCRgAKQkYACkJGAApCRgAKQkYACkJGAApCRgAKQkYACkJGAApCRgA\\\n",
              "KQkYACkJGAApCRgAKQkYACkJGAApCRgAKQkYACkJGAApCRgAKQkYACkJGAApCRgAKQkYACkJGAAp\\\n",
              "CRgAKQkYACkJGAApCRgAKQkYACkJGAApCRgAKQkYACkJGAApCRgAKQkYACkJGAApCRgAKQkYACkJ\\\n",
              "GAApCRgAKQkYACkJGAApCRgAKQkYACkJGAApCRgAKQkYACn9G2CTJzC65MlwAAAAAElFTkSuQmCC\\\n",
              "\"\n",
              "  frames[41] = \"data:image/png;base64,iVBORw0KGgoAAAANSUhEUgAAAbAAAAEgCAYAAADVKCZpAAAAOXRFWHRTb2Z0d2FyZQBNYXRwbG90\\\n",
              "bGliIHZlcnNpb24zLjcuMSwgaHR0cHM6Ly9tYXRwbG90bGliLm9yZy/bCgiHAAAACXBIWXMAAAsT\\\n",
              "AAALEwEAmpwYAAAKkElEQVR4nO3dT28c9RnA8Wd2116v45g4JiVAgJYeKI0qJCoh9dJjD1UPHHgH\\\n",
              "PfUF8BJ6qfouOHKreu2lh1YtVaFSoEkkCglJSIwDsTde7//pobSCzkJC1M7Mk3w+p+gZKX4Otr72\\\n",
              "7m9mi7IsywCAZDpNLwAAD0LAAEhJwABIScAASEnAAEhJwABIScAASEnAAEhJwABIScAASEnAAEhJ\\\n",
              "wABIScAASEnAAEhJwABIScAASEnAAEhJwABIScAASEnAAEhJwABIScAASEnAAEhJwABIScAASEnA\\\n",
              "AEhJwABIScAASEnAAEhJwABIScAASEnAAEhJwABIScAASEnAAEhJwABIScAASEnAAEhJwABIScAA\\\n",
              "SEnAAEhJwABIScAASEnAAEhJwABIScAASEnAAEhJwABIScAASEnAAEhJwABIScAASEnAAEhJwABI\\\n",
              "ScAASEnAAEhJwABIScAASEnAAEhJwABIScAASEnAAEhJwABIScAASEnAAEhJwABIScAASEnAAEhJ\\\n",
              "wABIScAASEnAAEhJwABIScAASEnAAEhJwABIScAASEnAAEhJwABIScAASEnAAEhJwABIScAASEnA\\\n",
              "AEhJwABIScAASEnAAEhJwABIScAASEnAAEhJwABIScAASEnAAEhJwABIScAASEnAAEhJwABIScAA\\\n",
              "SEnAAEhJwABIScAASEnAAEhJwABIScAASEnAAEhJwABIScAASEnAAEhJwABIScAASEnAAEhJwABI\\\n",
              "ScAASEnAAEhJwABIScAASEnAAEhJwABIScAASEnAAEhJwABIScAASEnAAEhJwABIScAASEnAAEhJ\\\n",
              "wABIScAASKnX9ALwKCjLZcwno5iP78b4zq042vsgOt1ePPnyT6Mo/B4JD0LAoAY3/vLbOLj2bowP\\\n",
              "9mIxOYqIiMHuuTjz4o9jbXO74e0gJ7/6QQ2GNy/H0d4H/4lXRMTx7WsxOfykwa0gNwGDGux85+WV\\\n",
              "8/n0uOZN4OEhYFCDwemnV84Pr/+95k3g4SFgUIPu+iA6vX5lfnTrH1GWZQMbQX4CBjXon3w8NnfP\\\n",
              "VeaL2SQW01EDG0F+AgY16K4PorexVZlPDj+J49vXG9gI8hMwqEFRFDHYeaoyX84nMRsPvYwID0DA\\\n",
              "oCbb516MiKIyH392s/5l4CEgYFCTtc3HVvUrPvvw7YjwFxh8UwIGNeltbMXg9IqDHNNxLGfTBjaC\\\n",
              "3AQMatJdH8Tg1NnKfDEdxfiOlxHhmxIwqEnR6UZ3baMyn4/vxtHtqw5ywDckYFCToihi88yzESue\\\n",
              "Pj8bHYT3weCbETCo0fbT349Ot/ohEMPrl6JcLhrYCPISMKhRZ2195Xx852aUi3nN20BuAgY16q5t\\\n",
              "fH4/2Jct5tMY7X/UwEaQl4BBjTq99RjsVJ9Mv5yN4/Djyw1sBHkJGNSoKIrorm/Eqjual7NJlOWy\\\n",
              "/qUgKQGDmp167qXo9geV+cG192IxHTewEeQkYFCz9a2dKDrVk4iTg70oF7MGNoKcBAxqVhSdWN/a\\\n",
              "qczLchmz0WEDG0FOAgY1K7q92Hnupcq8XMzi9vtvNbAR5CRgULOi6ERvsL3y2nx81yOl4D4JGDRg\\\n",
              "sHM2uuvVgxyTw/1YzhzkgPshYNCAwe4z0dvYqsyHH1/+/LmIwL0IGDSg2+uvPIkYUcZiNql9H8hI\\\n",
              "wKAJRRGnnvtBdV6WcXj9Yv37QEICBg3ZfPzZlfO7t96veRPIScCgAUVRRK9/IopOt3JtMR3HYj5t\\\n",
              "YCvIRcCgIYPdc9HfPlOZj/avxuRgr4GNIBcBg4asbZxceZR+MR3FwlF6uCcBg4YUnU70t7+18tr4\\\n",
              "zq2at4F8BAwa9Ngz51fOP33/LU/kgHsQMGhQf+v0yvliOo5y6bPB4OsIGDSos9aPTm+9Mp+N7sR0\\\n",
              "uN/ARpCHgEGDNk6djRNnvl2ZT+9+Gsd3bnoZEb6GgEGDOr316K5vrLw2Hw9r3gZyETBoUFEUMdh5\\\n",
              "auW1g4/erXkbyEXAoGGnvv1SRBSV+fGn1yNKBzngqwgYNKy7vrlyvpxPYzY6rHkbyEPAoGG9jZOx\\\n",
              "eea5ynw2OvBgX/gaAgYN621sxmDnycq8XC5idjx0EhG+goBBw4qiE921/spro9vXvA8GX0HAoAV2\\\n",
              "vvPyyk9oPvzoQpTLRQMbQfsJGLTAxmNPRFFUTyIuF/OYT0YNbATtJ2DQAkW3F73Bycp8OZ/E0SdX\\\n",
              "GtgI2k/AoAW664PYfvrFynw5n8Zo/6qDHLCCgEELFJ1urJ04tfLa9OiO98FgBQGDFiiKIgannoyi\\\n",
              "Wz3IMfz4Uiznkwa2gnYTMGiJrbPfjW6vepx+dnQQi5mAwX8TMGiJXv9ERKdbmZfLeQxvXG5gI2g3\\\n",
              "AYOWKLq92H7qhcq8XC48UgpWEDBoiaLTjc0zz668tpiOY7mY17wRtJuAQUsURRFrGycjVtzQPLxx\\\n",
              "MWbHnkwPXyRg0CInnng+1gbblfnseBjL+bSBjaC9BAxapL91OjorTiJGlDEZ7te+D7SZgEGLFJ1e\\\n",
              "FJ3qS4hRlnH78p/qXwhaTMCgTYoidp7/4cpLy9k4yqWPVoF/q972D/xfHB8fxzvvvHPP5xoWd45W\\\n",
              "/mBOhvvx9lt/iPHi/n7v3N3djRdeqB7Lh4dFUXpKKNTi4sWLcf78+Vje46+oH50/F7/+xU9irffl\\\n",
              "m5rLsoyf/+o3ceGDvfv6eq+99lq8+eabD7wvtJ2/wKBlLnywF1duHcTzT+3G/uxc7E/PxXrnOM71\\\n",
              "L8fJwXrT60FrCBi0zHA0jdFkHlfH5+PS0SuxjG5ElHFz8nz88Pyl+ON715peEVrBIQ5ooXdv9D+P\\\n",
              "Vy8iiojoxHCxG5NTP2t6NWgNAYMW+t1fr3wery8qot8/EVteRoSIEDBopbujYfSK//4IlTK+92Q3\\\n",
              "Xnhmt5GdoG0EDFroeHg1Th//JvrFUUQsoyhnMZhfjieWvwvHhuFfHplDHDdv3mx6BR5x+/v3/yio\\\n",
              "vc+O4tb1P0d/81r87cNu3Njbi7u3L8T1vdvx2d3xff0f4/HY9z33dPbs2aZXeGCPTMDeeOONplfg\\\n",
              "Ebe3t3fPm5j/bbEs45dv/P5f/16UsXyA2zWvXLni+557ev3115te4YG5kRlqcr83Mv+vuJGZh533\\\n",
              "wABIScAASEnAAEhJwABIScAASEnAAEjpkbkPDJq2tbUVr776am3H6F955ZVavg40xX1gAKTkJUQA\\\n",
              "UhIwAFISMABSEjAAUhIwAFISMABSEjAAUhIwAFISMABSEjAAUhIwAFISMABSEjAAUhIwAFISMABS\\\n",
              "EjAAUhIwAFISMABSEjAAUhIwAFISMABSEjAAUhIwAFISMABSEjAAUhIwAFISMABSEjAAUhIwAFIS\\\n",
              "MABSEjAAUhIwAFISMABSEjAAUhIwAFISMABSEjAAUhIwAFISMABSEjAAUhIwAFISMABSEjAAUhIw\\\n",
              "AFISMABSEjAAUhIwAFISMABSEjAAUhIwAFISMABSEjAAUhIwAFISMABSEjAAUhIwAFISMABSEjAA\\\n",
              "UhIwAFISMABSEjAAUhIwAFISMABSEjAAUhIwAFISMABSEjAAUhIwAFISMABSEjAAUhIwAFISMABS\\\n",
              "EjAAUhIwAFISMABSEjAAUhIwAFISMABSEjAAUhIwAFISMABS+ienuSMNr7HNCwAAAABJRU5ErkJg\\\n",
              "gg==\\\n",
              "\"\n",
              "  frames[42] = \"data:image/png;base64,iVBORw0KGgoAAAANSUhEUgAAAbAAAAEgCAYAAADVKCZpAAAAOXRFWHRTb2Z0d2FyZQBNYXRwbG90\\\n",
              "bGliIHZlcnNpb24zLjcuMSwgaHR0cHM6Ly9tYXRwbG90bGliLm9yZy/bCgiHAAAACXBIWXMAAAsT\\\n",
              "AAALEwEAmpwYAAAKmElEQVR4nO3dS28ddxnA4XfOxfbxJU7cmKQtvai0olwVbipCggULkJCQ+gXY\\\n",
              "8g0qNnwCvgHrLmHRSrBDsEJsEAGhpqG3hLg0iZM0dnw9PpdhUYRAc9raEczMWz/P8j2O/G6sX845\\\n",
              "/5kpyrIsAwCS6TS9AAA8DAEDICUBAyAlAQMgJQEDICUBAyAlAQMgJQEDICUBAyAlAQMgJQEDICUB\\\n",
              "AyAlAQMgJQEDICUBAyAlAQMgJQEDICUBAyAlAQMgJQEDICUBAyAlAQMgJQEDICUBAyAlAQMgJQED\\\n",
              "ICUBAyAlAQMgJQEDICUBAyAlAQMgJQEDICUBAyAlAQMgJQEDICUBAyAlAQMgJQEDICUBAyAlAQMg\\\n",
              "JQEDICUBAyAlAQMgJQEDICUBAyAlAQMgJQEDICUBAyAlAQMgJQEDICUBAyAlAQMgJQEDICUBAyAl\\\n",
              "AQMgJQEDICUBAyAlAQMgJQEDICUBAyAlAQMgJQEDICUBAyAlAQMgJQEDICUBAyAlAQMgJQEDICUB\\\n",
              "AyAlAQMgJQEDICUBAyAlAQMgJQEDICUBAyAlAQMgJQEDICUBAyAlAQMgJQEDICUBAyAlAQMgJQED\\\n",
              "ICUBAyAlAQMgJQEDICUBAyAlAQMgJQEDICUBAyAlAQMgJQEDICUBAyAlAQMgJQEDICUBAyAlAQMg\\\n",
              "JQEDICUBAyAlAQMgJQEDICUBAyAlAQMgJQEDICUBAyAlAQMgJQEDICUBAyAlAQMgJQEDICUBAyAl\\\n",
              "AQMgJQEDICUBAyAlAQMgJQEDICUBAyAlAQMgJQEDICUBAyAlAQMgJQEDICUBAyAlAQMgJQEDICUB\\\n",
              "AyAlAQMgpV7TC8BpUJbTGA/3Y3y4G4dbt2Nv81p0ur149Ks/iKLw/0h4GAIGNXjvj7+K7Xdfi8Pt\\\n",
              "zZgM9yIiYvDIE7H+ue9Ef/FMw9tBTv7rBzXYuflG7G1e+3e8IiIO7m3EcOdOg1tBbgIGNTj79KWZ\\\n",
              "88loWO8i8AkiYFCDwdrjM+cP/nG15k3gk0PAoAad3tzM+e6tN2veBD45BAxqML+yFgvnHq3Mp+OR\\\n",
              "jxHhIQkY1KA/WI35lfOV+eH2Zuzf22hgI8hPwKAGRacz82PE6egwxoe7UZZlA1tBbgIGNVl75msR\\\n",
              "UVTmR7v3618GPgEEDGoyOPfYrH7FvTf+EBHegcFJCRjUpOj1o9sfVOaT0WGEjxDhxAQMatIfnInl\\\n",
              "C89U5tPxMI72txvYCHITMKhJpzcX/cXVynx0sBN7m9frXwiSEzCoSVEU0en1K/NyMo7R/raTiHBC\\\n",
              "AgY1WvvMN6LoVh8Ccbh1K6KcNrAR5CVgUKP5M+szn/+1deOvUU4nDWwEeQkY1KjodKO3sFyZT8dD\\\n",
              "t5SCExIwqFF3bhCrT3yhMp+Oj+Lg3rsNbAR5CRjUqOh0Z55EnI6GsXP7bQc54AQEDGpUFEUsrF6Y\\\n",
              "eZBjMtxzkANOQMCgZssXPhPd3nxlvnPzTd+DwQkIGNSsN1iO6HQr88Ot21FOxg1sBDkJGNSsKDrR\\\n",
              "XzxTmZflNI723JkejkvAoGZFt/evR6v8t3IyjvvXLzewEeQkYFC7InoLKzPmZYz3d5xEhGMSMKhZ\\\n",
              "URSxcGY9Ov2FymvD3XsxdZADjkXAoAGL609Ff8YdOXbeeyNGHq0CxyJg0IBuf2HmtWBlOYnpZNTA\\\n",
              "RpCPgEETiiJWHnu+Oi/L2L31Vv37QEICBg1Z+tTTM+fb716pdxFISsCgIb25wcz5dDyKqQua4WMJ\\\n",
              "GDSgKIqYW3kkeoPqcfqDexsxfHCnga0gFwGDhgzOPhpzy2uV+ejgQUyG+w1sBLkIGDSk0+tHp1M9\\\n",
              "iRgRMTrcqXkbyEfAoEGrT35x5nznppOI8HEEDBq0tP70zPnepodbwscRMGhQd24QxYxHq0yOhr4H\\\n",
              "g48hYNCg+TPrMVh7vDIf7tyNg62bDWwEeQgYNKg3vxj9QfXZYNPRYYwP3JkePoqAQYOKTnfmR4gR\\\n",
              "EYfbmzVvA7kIGDTs7NOXZs7vX/tTRHgHBh9GwKBhS+tPRkRRmU+G+1FOJvUvBEkIGDSs052LTq9f\\\n",
              "mY+PDuLwgY8R4cMIGDSsv7QayxefrczHBw9ib/NaAxtBDgIGDev05mNu6ezM1yZHh04iwocQMGhY\\\n",
              "URQxt7QWs74He/De36Kc+h4MZhEwaIEzn/78zOP0+3euR5TT+heCBAQMWmB+ZS2KovoOrJxOYnS4\\\n",
              "28BG0H4CBi1QdHrR6c9X5pOjg9jeeK2BjaD9BAxaoDu/GGef+nJlXk4nMdrfdpADZhAwaIGi043+\\\n",
              "0rmZrx3tvu8gB8wgYNACH5xEPDvzIMfW9T/H5Oigga2g3QQMWuLM489Hp79QmU/Hoyin4wY2gnYT\\\n",
              "MGiJ/mA1ik71T7KcTmL/7kYDG0G7CRi0RNHtxuIjT1bm5XQcWzf+2sBG0G4CBi1RdLqxfOGZma+V\\\n",
              "k3GUUxc0w38SMGiNYubTmSMihjt3YzIe1rwPtJuAQUsURRH9pdUoutVHq+zefifGBzsNbAXtJWDQ\\\n",
              "IssXn43+YvVdWDkdx3i418BG0F69pheA0+Lq1avx/vvvf+TPFFFG92hUvS99WcaN1/8YW2/dPNbv\\\n",
              "KooiLl26FIPB4OGWhQSK0j1qoBYvvvhivPrqqx/5M0UR8dMffSd++K3PVl773eVr8ZOf/+ZYv6vX\\\n",
              "68WVK1fiueeee6hdIQMfIUKLlGXE5TdvRUTEwWQp3tr/Sry++824c/TpWFyYj/l+9U4dcFr5CBFa\\\n",
              "5sH+MHbHK/Hnne/FzuRcRBRx4/Dzsb7Wiwtrv48bt7eaXhFawTswaJlrN+/Hbzcuxc7kkfjgT7SI\\\n",
              "afTiTve7EfOPNb0etIaAQcvcvr8X93aqd5+flN24uLbawEbQTgIGLXM0mkRv+qAyn+sM4/tff6KB\\\n",
              "jaCdBAxa6OC9X8T63N+jE+OImEZMtuOxya+jP73T9GrQGqfmEMetW7eaXoFTbjg8/q2gLl99O779\\\n",
              "pV/EX95ZiKsbu7G3/VZs3r4eN+8d724cZVnG3bt3Y2Vl5WHX5ZS4ePFi0ys8tFMTsJdffrnpFTjl\\\n",
              "NjaO/0iUy2/eih//7JcxnkxjMj35pZplWcYrr7wS58+fP/G/5XR56aWXml7hobmQGWpynAuZ/1dc\\\n",
              "yMxp4DswAFISMABSEjAAUhIwAFISMABSEjAAUjo114FB01544YUoisqjKv8vut1uLC8v1/K7oCmu\\\n",
              "AwMgJR8hApCSgAGQkoABkJKAAZCSgAGQkoABkJKAAZCSgAGQkoABkJKAAZCSgAGQkoABkJKAAZCS\\\n",
              "gAGQkoABkJKAAZCSgAGQkoABkJKAAZCSgAGQkoABkJKAAZCSgAGQkoABkJKAAZCSgAGQkoABkJKA\\\n",
              "AZCSgAGQkoABkJKAAZCSgAGQkoABkJKAAZCSgAGQkoABkJKAAZCSgAGQkoABkJKAAZCSgAGQkoAB\\\n",
              "kJKAAZCSgAGQkoABkJKAAZCSgAGQkoABkJKAAZCSgAGQkoABkJKAAZCSgAGQkoABkJKAAZCSgAGQ\\\n",
              "koABkJKAAZCSgAGQkoABkJKAAZCSgAGQkoABkJKAAZCSgAGQkoABkJKAAZCSgAGQkoABkJKAAZCS\\\n",
              "gAGQkoABkJKAAZCSgAGQkoABkJKAAZCSgAGQkoABkJKAAZCSgAGQkoABkNI/AYxHEgz+zo08AAAA\\\n",
              "AElFTkSuQmCC\\\n",
              "\"\n",
              "  frames[43] = \"data:image/png;base64,iVBORw0KGgoAAAANSUhEUgAAAbAAAAEgCAYAAADVKCZpAAAAOXRFWHRTb2Z0d2FyZQBNYXRwbG90\\\n",
              "bGliIHZlcnNpb24zLjcuMSwgaHR0cHM6Ly9tYXRwbG90bGliLm9yZy/bCgiHAAAACXBIWXMAAAsT\\\n",
              "AAALEwEAmpwYAAAKgUlEQVR4nO3dO49cZxnA8efMZe9eLxvbsXN1CEUECg6QAhQJiYYCUaRAiM9A\\\n",
              "6jR8Bsp0lPkEFFSIKlIoEBKJExQrF+w1vtvxXrwzOzuXQxOhJHPWWVvxOfN4f7/yfUeep9jR3zt7\\\n",
              "znuKsizLAIBkWk0PAAAPQ8AASEnAAEhJwABIScAASEnAAEhJwABIScAASEnAAEhJwABIScAASEnA\\\n",
              "AEhJwABIScAASEnAAEhJwABIScAASEnAAEhJwABIScAASEnAAEhJwABIScAASEnAAEhJwABIScAA\\\n",
              "SEnAAEhJwABIScAASEnAAEhJwABIScAASEnAAEhJwABIScAASEnAAEhJwABIScAASEnAAEhJwABI\\\n",
              "ScAASEnAAEhJwABIScAASEnAAEhJwABIScAASEnAAEhJwABIScAASEnAAEhJwABIScAASEnAAEhJ\\\n",
              "wABIScAASEnAAEhJwABIScAASEnAAEhJwABIScAASEnAAEhJwABIScAASEnAAEhJwABIScAASEnA\\\n",
              "AEhJwABIScAASEnAAEhJwABIScAASEnAAEhJwABIScAASEnAAEhJwABIScAASEnAAEhJwABIScAA\\\n",
              "SEnAAEhJwABIScAASEnAAEhJwABIScAASEnAAEhJwABIScAASEnAAEhJwABIScAASEnAAEhJwABI\\\n",
              "ScAASEnAAEhJwABIScAASEnAAEhJwABIScAASEnAAEhJwABIScAASEnAAEhJwABIScAASEnAAEhJ\\\n",
              "wABIScAASEnAAEhJwABIScAASEnAAEhJwABIScAASEnAAEhJwABIScAASEnAAEhJwABIScAASEnA\\\n",
              "AEhJwABIqdP0AHAUTEb7MRr0YrR3L/p3r0Xv9ka0u/Nx5se/iqLw/0h4GAIGj9ju7Y248o8/x2D7\\\n",
              "Vgx27kQ5HkZExNITz8bJ7/88uourDU8IOQkYPGLD3c3Y2vggIsqvrPfuXI7B9i0Bg4fkuwt4xBbX\\\n",
              "n4751ROVe5PRsOZp4PEhYPCIdZeOR2dhpXKvv3m95mng8SFg8Ii12p0oWtUfta1L79c8DTw+BAxq\\\n",
              "cPzZlyvXR4PdmIxHNU8DjwcBgxqsnH6xcn3U34nh7t2ap4HHg4BBDVrtbkRRTK0Pdm5H/+7VBiaC\\\n",
              "/AQMajB//FQsn3i+cm+8P4iyLCv3gIMJGNSgM78c3aXq+722r35U8zTweBAwqEFRFNE54Ible9c/\\\n",
              "ia/f5Ax8MwGDmqw9fy4ipv8OVk7GMRkO6h8IkhMwqMn86omqfsV4vx9727fqHwiSEzCoSavViaJo\\\n",
              "T62P9u5F79aGCzngAQkY1KS7vBarT79UuTca7NY8DeQnYFCTVmcuustrlXs71z6OcjKudyBITsCg\\\n",
              "JkVRfPHolOk/hPVuXxIweEACBjVaO/tKFO3px/CVk3GMfY0ID0TAoEZzy2tRVBwpNd7vx9blDxuY\\\n",
              "CPISMKhRq9ON+eOnptbLyTj2e5uuRIQHIGBQo3Z3IVaePPhk+ignNU8EeQkY1KloRXfxWOXW7s2L\\\n",
              "MR7u1zwQ5CVgUKP/n4lYTH/0+nevxWQsYHBYAgY1W3vu5ejMLU6tl+Ukhrub9Q8ESQkY1KyzsBLR\\\n",
              "mj5SqhyPYnPjfAMTQU4CBjUrWq1YWn+6YqeM4e5dVyLCIQkY1KxodQ48E3G/txWT0bDmiSAnAYMG\\\n",
              "tOeXK9d3rnwUw95mvcNAUgIGNSuKIpZOPBudiohNxsMox6MGpoJ8BAwasLB2OtrzS9MbZcRgx8Mt\\\n",
              "4TAEDBrQ7sxH0ar6+JWxufFB7fNARgIGTSgilk+erdwa7m5G6Ugp+EYCBo0oYvWZH1TuDPvbMR70\\\n",
              "a54H8hEwaEBRFNHuLlTu9W5vxN72zZongnwEDBqyuH4m5lbWp9bLydi9YHAIAgYNmVt5IrqLq5V7\\\n",
              "u7cu1jsMJCRg0JCi1Y52xaG+ERGbF/9V7zCQkIBBQ4qiiLWz5yr3yskkJm5ohvsSMGjQwtqZyvXR\\\n",
              "YDeG/e2ap4FcBAwa1Op0K9cH27ei//lVJ9PDfQgYNGh+9WQsVj1apZzEeN+9YHA/AgYN6i4eq7yU\\\n",
              "PiJi9+Z/ap4GchEwaFBRtA68oXnr8ocR4StEOIiAQcO+892fVK6XpRua4X4EDBq2cPxURBRT66P+\\\n",
              "jhua4T4EDBrW7i5EZ2Flan2834/B1i1XIsIBBAwa1lk8Fssnn6/cG+/3ap4G8hAwaFirMxfdpYPP\\\n",
              "RCwn45onghwEDBpWFMWBZyLuXPs4yomHW0IVAYMZsP7iq1G0O1Pr5WTia0Q4gIDBDJhbeSKKYvrj\\\n",
              "OB7uxc61jxuYCGafgMEMKNqd6C4dn1ovx8MYbN1wJSJUEDCYAe3uQhx76qXKveHevYjS38Hg6wQM\\\n",
              "ZkDRakd36Vjl3ubF9xzsCxUEDGZAURSxtP5MFO3px6uM9u65lB4qCBjMiOWTZ6PVmavYmcSw5+GW\\\n",
              "8HUCBjOis7ASRWv6IzkZj2P76oUGJoLZJmAwI4pWK+aPnZjeKCex50pEmCJgMCOKdifWnv9h5d6o\\\n",
              "vxPleFTzRDDbitJ/6+CR29nZifPnz3/j61qfX4j2lb9PrbfnlmL/xV/HpLN0qPc7c+ZMvPDCCw88\\\n",
              "J2QyfXYN8K07f/58vPbaa9/4ule+dzr++PtfxurS/FfW9/v34ne//U1curF1qPd744034q233nqo\\\n",
              "WSELXyHCDPnkyuexvTuISdmK64Oz8e97P4vPei/HsFyM556cPqkDjjK/gcEM6e0NYzCcxKe9H8Wn\\\n",
              "/VeijFZElHFz/2z84tWL8c77G02PCDPDb2AwQ8qyjL+8F1/Eqx0RRUS04u7odHw2+GkUTQ8IM0TA\\\n",
              "YIaUEfHR5c0v4vVlRawsr8by4vRJHXBUCRjMmMFgJ9rF/tdWy3jl7Hw8daL6yc1wFAkYzJjdzy/E\\\n",
              "qeFfY67oR0QZRbkfK6PzcWL8jpuZ4UuOzEUc169fb3oEjrA7d+4c+rUbN7di+8a7sV9+HP+8GHHj\\\n",
              "9o3Yuf1B/PfW3djeHRzq3+j1en7mOZTTp083PcJDOzIBe/vtt5segSPs0qVLh37taDyJP/zpb1FG\\\n",
              "GeNxGZOH+K3rwoULfuY5lDfffLPpER6akzigBu++++6hbmT+triRmaPA38AASEnAAEhJwABIScAA\\\n",
              "SEnAAEhJwABI6cjcBwZNWl9fj9dff7229zt37lxt7wVNcR8YACn5ChGAlAQMgJQEDICUBAyAlAQM\\\n",
              "gJQEDICUBAyAlAQMgJQEDICUBAyAlAQMgJQEDICUBAyAlAQMgJQEDICUBAyAlAQMgJQEDICUBAyA\\\n",
              "lAQMgJQEDICUBAyAlAQMgJQEDICUBAyAlAQMgJQEDICUBAyAlAQMgJQEDICUBAyAlAQMgJQEDICU\\\n",
              "BAyAlAQMgJQEDICUBAyAlAQMgJQEDICUBAyAlAQMgJQEDICUBAyAlAQMgJQEDICUBAyAlAQMgJQE\\\n",
              "DICUBAyAlAQMgJQEDICUBAyAlAQMgJQEDICUBAyAlAQMgJQEDICUBAyAlAQMgJQEDICUBAyAlAQM\\\n",
              "gJQEDICUBAyAlAQMgJQEDICUBAyAlAQMgJQEDICUBAyAlAQMgJQEDICUBAyAlAQMgJQEDICUBAyA\\\n",
              "lAQMgJQEDICUBAyAlAQMgJQEDICU/genDRz6wtnDdAAAAABJRU5ErkJggg==\\\n",
              "\"\n",
              "  frames[44] = \"data:image/png;base64,iVBORw0KGgoAAAANSUhEUgAAAbAAAAEgCAYAAADVKCZpAAAAOXRFWHRTb2Z0d2FyZQBNYXRwbG90\\\n",
              "bGliIHZlcnNpb24zLjcuMSwgaHR0cHM6Ly9tYXRwbG90bGliLm9yZy/bCgiHAAAACXBIWXMAAAsT\\\n",
              "AAALEwEAmpwYAAAKfklEQVR4nO3dyZIc1RWA4ZM19KAeJISEhBiMAQcYh8MOPG0I8MZe+C38EDyA\\\n",
              "V34QItiwMU/gIGytHNiAZRPGZpAYNCKpS+rqrq7KTC/YYFcKdStQZh319y3ztqSz6fhVWTdvFnVd\\\n",
              "1wEAyfS6HgAA7oWAAZCSgAGQkoABkJKAAZCSgAGQkoABkJKAAZCSgAGQkoABkJKAAZCSgAGQkoAB\\\n",
              "kJKAAZCSgAGQkoABkJKAAZCSgAGQkoABkJKAAZCSgAGQkoABkJKAAZCSgAGQkoABkJKAAZCSgAGQ\\\n",
              "koABkJKAAZCSgAGQkoABkJKAAZCSgAGQkoABkJKAAZCSgAGQkoABkJKAAZCSgAGQkoABkJKAAZCS\\\n",
              "gAGQkoABkJKAAZCSgAGQkoABkJKAAZCSgAGQkoABkJKAAZCSgAGQkoABkJKAAZCSgAGQkoABkJKA\\\n",
              "AZCSgAGQkoABkJKAAZCSgAGQkoABkJKAAZCSgAGQkoABkJKAAZCSgAGQkoABkJKAAZCSgAGQkoAB\\\n",
              "kJKAAZCSgAGQkoABkJKAAZCSgAGQkoABkJKAAZCSgAGQkoABkJKAAZCSgAGQkoABkJKAAZCSgAGQ\\\n",
              "koABkJKAAZCSgAGQkoABkJKAAZCSgAGQkoABkJKAAZCSgAGQkoABkJKAAZCSgAGQkoABkJKAAZCS\\\n",
              "gAGQkoABkJKAAZCSgAGQkoABkJKAAZCSgAGQkoABkJKAAZCSgAGQkoABkJKAAZCSgAGQkoABkJKA\\\n",
              "AZCSgAGQkoABkJKAAZCSgAGQkoABkJKAAZCSgAGQkoABkJKAAZCSgAGQkoABkJKAAZCSgAGQkoAB\\\n",
              "kNKg6wHgMKhmezGbjGO2ezt2blyM8bUL0R8ux6Mv/iaKwv8j4V4IGNxn29cuxOd/eTMmo6sxufVl\\\n",
              "1OU0IiKOnHgyTr7wSgxXNzqeEHISMLjPpts3Y+vCuYio/+f6+NqFmIyuCBjcI/cu4D5bfehMLG88\\\n",
              "3LhWlWXL08CDQ8DgPhuuHY3Bynrj2mR0teVp4MEhYHCf9frDKPr9xrUbH/+15WngwSFg0IKNM883\\\n",
              "Xi8n46jrquVp4MEgYNCCjdPPNl6f7d6O6XjU8jTwYBAwaEF/aTWiKOau725djvG18x1MBPkJGLRg\\\n",
              "af14rB57tHGtrqqo67pxDbgzAYMWDFbWY7h2rHFtcutau8PAA0LAoAW9/iB6g6XGtesfvR3//5Az\\\n",
              "cHcCBi3ZePR7jdfLyTjCLUQ4MAGDlqyfeiYi5jdyVLO9mO7YiQgHJWDQkq92Is5fn+3ejvG1C+0P\\\n",
              "BMkJGLSkP1yJpbXjc9er2V7sjbfsRIQDEjBoyWB1I9ZPPd24tnf7RtjIAQcjYNCSXn8Q/eFK49qN\\\n",
              "j96Oupy1PBHkJmDQorVTT0c0vIHZmYhwcAIGLVp75LtR9OZPpq+r0pmIcEACBi0arKxF0XAmYjnd\\\n",
              "jduX/tPBRJCXgEGLev1BLG+cmLteV2VMbl+3ExEOQMCgRf3hSmw89lzj2nQ8ivA9GOybgEGbil4M\\\n",
              "ltcal25+8k7MJuOWB4K8BAxaVBRFHDnxZPT6w7m1cm/HTkQ4AAGDlh15+InGk+nruoqZnYiwbwIG\\\n",
              "LRusrEc0bqWfxdZn/+xgIshJwKBlRdGLlaMn5xfqOiajq3Yiwj4JGLSs6Pdj87EXGtdmk+2oK0dK\\\n",
              "wX4IGLSuiOGRzcaVnRsXo5zstDwP5CRg0LKiKKK/tNp4pNTuzYsx27OVHvZDwKADm2eej+GRY41r\\\n",
              "s51b7Q4DSQkYdGCwsh69/mB+oa7j5vn32h8IEhIw6EIRsXz0kcal3a3LdiLCPggYdKKIo4//oHGl\\\n",
              "mk6iLqctzwP5CBh0ZLh+rPH6ZHTVu8FgHwQMOlAURfSHK1E0fA82uXUtpuOtDqaCXAQMOrJ24jux\\\n",
              "cvRU49psst3yNJCPgEFH+stHojdcbly78ck77Q4DCQkYdKQoiljZbDgTMSJ2b16yExHuQsCgQ3c6\\\n",
              "E7EuZ3Yiwl0IGHRoaePhxut72zdjMrrW8jSQi4BBh/qDpSga3s48Hd+MyehqBxNBHgIGHVo++kgc\\\n",
              "OfFE49psb8f3YPANBAw61F9ajcHyWuPazvXPWp4GchEw6FBRFI2vVYmI2Pr0HxHhExjciYBBx44/\\\n",
              "+7PG61U5i2pmJyLciYBBx1aPnYmIYu56uXs7dm580f5AkISAQcd6g2HjiRyzyXbsfPl5BxNBDgIG\\\n",
              "HRse2Yz1U880rpWzXTsR4Q4EDDrWGyzH0trRxrWd6xcj6qrliSAHAYOOfbUTcf61KhERo0/PRV2V\\\n",
              "LU8EOQgYLIBjT/24cTt9VZVRORMRGgkYLIDV42eiKOZ/HavZJLavnu9gIlh8AgYLoNcfRG9pde56\\\n",
              "NZ3E9uWPO5gIFp+AwQLoD1dj88xzjWtVuWcnIjQQMFgARX9wx1er7N687N1g0EDAYAEURRG9hteq\\\n",
              "RESMPn8/yumk5Ylg8QkYLIjNx1+I3nBl7npdVXYiQgMBgwWxeuxU46ewui5jsnWlg4lgsTU/PQl8\\\n",
              "q86dOxej0egbf6aoZtGfTeeO9a3LWXzw9h9j7/z1ff1b/X4/XnzxxRgOm29JwoOiqG1vgvvupZde\\\n",
              "irNnz37jzwz6vfjdb38Zv/rp/LmIf/jT+/H71/8c+/lt3djYiA8//DBOnjx5j9NCDm4hwoKYlVW8\\\n",
              "99HliIjYLjfjg+2fxPvbv4jr09Px6InNWF32iQq+zi1EWCC7e2WMpg/F3279OsbVZkREfLr7/Xju\\\n",
              "yZU4vnE2xrtbHU8Ii8MnMFggf//wSrx18ecxro7GVy+5LKKsl+L98SsxK5pPrIfDSsBggXz+5a0Y\\\n",
              "7cy/nbmqB/HYyWPtDwQLTMBggexNy1gu5ncrrvR345UfPdbBRLC4BAwWSV3F3hevx/HhF1FEGRFV\\\n",
              "FLPr8Xj1ZvRK33/B1x2aTRyXLl3qegQOsel0fydp1BHx7r/+HT986vV456OV+OCzUYy3PohLly/E\\\n",
              "peu39/d31HVcuXIlytKLMLm706dPdz3CPTs0AXvttde6HoFD7MqV/Z+k8da75+PsuU+jLKsoq4M/\\\n",
              "pjmdTuONN96ItbW1A/9ZDp9XX3216xHumQeZoQX7eZD52+JBZg4L34EBkJKAAZCSgAGQkoABkJKA\\\n",
              "AZCSgAGQ0qF5Dgy69PLLL7e2rX11dTWWlpZa+begS54DAyAltxABSEnAAEhJwABIScAASEnAAEhJ\\\n",
              "wABIScAASEnAAEhJwABIScAASEnAAEhJwABIScAASEnAAEhJwABIScAASEnAAEhJwABIScAASEnA\\\n",
              "AEhJwABIScAASEnAAEhJwABIScAASEnAAEhJwABIScAASEnAAEhJwABIScAASEnAAEhJwABIScAA\\\n",
              "SEnAAEhJwABIScAASEnAAEhJwABIScAASEnAAEhJwABIScAASEnAAEhJwABIScAASEnAAEhJwABI\\\n",
              "ScAASEnAAEhJwABIScAASEnAAEhJwABIScAASEnAAEhJwABIScAASEnAAEhJwABIScAASEnAAEhJ\\\n",
              "wABIScAASEnAAEhJwABIScAASEnAAEhJwABIScAASEnAAEhJwABIScAASEnAAEhJwABIScAASEnA\\\n",
              "AEhJwABIScAASEnAAEhJwABI6b+M0BebDUpw3AAAAABJRU5ErkJggg==\\\n",
              "\"\n",
              "  frames[45] = \"data:image/png;base64,iVBORw0KGgoAAAANSUhEUgAAAbAAAAEgCAYAAADVKCZpAAAAOXRFWHRTb2Z0d2FyZQBNYXRwbG90\\\n",
              "bGliIHZlcnNpb24zLjcuMSwgaHR0cHM6Ly9tYXRwbG90bGliLm9yZy/bCgiHAAAACXBIWXMAAAsT\\\n",
              "AAALEwEAmpwYAAAKV0lEQVR4nO3dTW9cVxnA8efOiz127Ly3SVO1lFRVKtGASEFiwQIpCxZsWfAx\\\n",
              "2PSDsOADQKWKBQskBBIblqiIBY1oKdC0pU2a5qVOYscev8zce1mEVeY6caLmXj/O7ydlc46VPBvr\\\n",
              "n5k5c25R13UdAJBMr+sBAOBJCBgAKQkYACkJGAApCRgAKQkYACkJGAApCRgAKQkYACkJGAApCRgA\\\n",
              "KQkYACkJGAApCRgAKQkYACkJGAApCRgAKQkYACkJGAApCRgAKQkYACkJGAApCRgAKQkYACkJGAAp\\\n",
              "CRgAKQkYACkJGAApCRgAKQkYACkJGAApCRgAKQkYACkJGAApCRgAKQkYACkJGAApCRgAKQkYACkJ\\\n",
              "GAApCRgAKQkYACkJGAApCRgAKQkYACkJGAApCRgAKQkYACkJGAApCRgAKQkYACkJGAApCRgAKQkY\\\n",
              "ACkJGAApCRgAKQkYACkJGAApCRgAKQkYACkJGAApCRgAKQkYACkJGAApCRgAKQkYACkJGAApCRgA\\\n",
              "KQkYACkJGAApCRgAKQkYACkJGAApCRgAKQkYACkJGAApCRgAKQkYACkJGAApCRgAKQkYACkJGAAp\\\n",
              "CRgAKQkYACkJGAApCRgAKQkYACkJGAApCRgAKQkYACkJGAApCRgAKQkYACkJGAApCRgAKQkYACkJ\\\n",
              "GAApCRgAKQkYACkJGAApCRgAKQkYACkJGAApCRgAKQkYACkJGAApCRgAKQkYACkJGAApCRgAKQkY\\\n",
              "ACkJGAApCRgAKQkYACkJGAApCRgAKQkYACkJGAApCRgAKQkYACkJGAApCRgAKQkYACkJGAApCRgA\\\n",
              "KQkYACkJGAApDboeAA66cmczxitXYzJejZ3xakz+/2d++WScefMnURT+HwlPQsDgKVu79p+4/Kdf\\\n",
              "zqwfOnU2Tp2/GIP5xQ6mgvz81w+esqIoIqKYWd+6eyN2Nu60PxAcEAIGT9niyZdjdPTUzHq5vRHl\\\n",
              "zmYHE8HBIGDwlA0XDkd/l7cJJ+O1lqeBg0PA4Ckrer3/v404a+Pmpy1PAweHgEELls+83ri+fuNy\\\n",
              "y5PAwSFg0IKlU2cb1+uyjKqctDwNHAwCBi3ozy00rk+3N3wOBk9IwKAFg7nFGIyWZta3176Kzdtf\\\n",
              "dDAR5Cdg0IK5peMxOvZCw04dVTmNuq5bnwmyEzBoQW84H4O55qP0O+srLU8DB4OAQQuKotj1c7C7\\\n",
              "/30vIrwCg8clYNCSo9/4TjRdKTXZvKdf8AQEDFoyf+T5xvW6nLpSCp6AgEFLeoNhRMONHJOt9Riv\\\n",
              "XOlgIshNwKAlg9FSLJ58eWa9mmzF9totJxHhMQkYtKQ/HMX88snGvWq60/I0kJ+AQUt6/UEMdjmJ\\\n",
              "uLFyJaKuWp4IchMwaFFvONe4vnblg6jKacvTQG4CBi06dvbNKPqD2Y26vv8H2DMBgxbNL52Iopj9\\\n",
              "tauqMnY27rY/ECQmYNCmXvOvXLk9jrufX2p5GMhNwKBF/eEols+ca9ipo5p6Lhg8DgGDFvUGw1ho\\\n",
              "vJX+/quwunISEfZKwKBVRfQGzScRN+9+6enM8BgEDFpUFEWMjp5uPIm4fv1yVJPtDqaCnAQMWrb0\\\n",
              "/NnoDeZnN+raKzB4DAIGLRssLEXR68+s13UV22u3OpgIchIwaFlR9GI4WppZr8tprH7+fgcTQU4C\\\n",
              "Bi0reoM4/NK3GvemO5tupYc9EjBoW1HE/PKJxq3p1r2ofQ4GeyJg0LKi2P0o/catz2Kytd7yRJCT\\\n",
              "gEEHDj33SgwWlmfWJ+O7ng0GeyRg0IG5pRPRH44a98rtjZangZwEDDrQH85H0XSxb13H+o1P2h8I\\\n",
              "EhIw6EIRMZifPUofEXHvy49aHgZyEjDoRBHHX/1e405dlS71hT0QMOjIcOlY4/pkvBZTn4PBIwkY\\\n",
              "dKAoisYnM0dEjFc+d6UU7IGAQUcWT7wU84efm92o66hrbyHCowgYdGS4eCQG84ca9yYbd9sdBhIS\\\n",
              "MOhIrz9oPkofEbc//lvL00A+AgYdOnTq1cb1yeY9l/rCIwgYdGh5l4DV5dSlvvAIAgYdaroPMSJi\\\n",
              "ur0Rk821lqeBXAQMOtSfG0V/bmFmffveV7F553oHE0EeAgYdmls6EaOjL8xu1HVU0x2fg8FDCBh0\\\n",
              "qD83isGo+Sj99trNlqeBXAQMOlQUvV0fq7J65YOI8AoMdiNg0LEjL7/RuD4Zr+kXPISAQcdGR09H\\\n",
              "RDGzXpUTl/rCQwgYdOxhT2bevH2t5WkgDwGDjvX6g8aDHOXOplvp4SEEDDo2XDwaS6dfa9wrJ5uO\\\n",
              "0sMuBAw6VvQHMRgtNu6NV76I8GgVaCRg0LGiKKLXHzburV39Z9RV2fJEkIOAwT5w9JXvRtEbzG7U\\\n",
              "VVQCBo0EDPaB0eHnIoqGo/RVGZP1Ox1MBPufgME+UPQHUTQErNwZx+rVDzqYCPa/hvcsgK9LXddx\\\n",
              "6dKlGI/HD/+5cieqWIpR3H7wL4jPPv04Pt1Y2tNpxLm5ubhw4UL0dnnSMxwkRe2MLjw1ZVnG+fPn\\\n",
              "48MPP3zoz/WKIn7+0x/Ezy7OXiv1mz+/H7/47btRVo/+VT1z5kxcvnw5FhZmH9ECB41XYLAPVHUd\\\n",
              "61s7UdcR6+WxuLb9atTRixfmPonvv/5iLMwPY31zp+sxYV8RMNgnrn11L25tnYz3N38c29X974Vd\\\n",
              "3ToXry33Y9j/Q8fTwf7jjXLYJ977eCX+uvLD2K4Oxf3LfYuY1Avxj/UfRW/Y/MwweJYJGOwTt1Y3\\\n",
              "Y2van1kvevPxxjdPdTAR7G8CBvtEVZUx3b49s748txUXXnu+g4lgfxMw2Ceqcie2r/wqjgxuRhFl\\\n",
              "RJTRn96IF6e/i3vrq12PB/vOM3OI4/r1612PwDOoLMuYTqd7+9mqjmvXP4tvr/w6/v7JKC5fuxPj\\\n",
              "O/+KL29ei5t39vZgy6qq4saNGzEaNT9jDB50+vTprkd4Ys9MwN5+++2uR+AZVNd1rK7u/dXT7//y\\\n",
              "7/jjux9FWVV7+t7Xg8bjcbzzzjsxHDZfDgwPeuutt7oe4Yn5IjM8RXv9IvPXxReZeZb4DAyAlAQM\\\n",
              "gJQEDICUBAyAlAQMgJQEDICUnpnvgUEXiqKIixcvxrlz51r5944fPx79/ux9inAQ+R4YACl5CxGA\\\n",
              "lAQMgJQEDICUBAyAlAQMgJQEDICUBAyAlAQMgJQEDICUBAyAlAQMgJQEDICUBAyAlAQMgJQEDICU\\\n",
              "BAyAlAQMgJQEDICUBAyAlAQMgJQEDICUBAyAlAQMgJQEDICUBAyAlAQMgJQEDICUBAyAlAQMgJQE\\\n",
              "DICUBAyAlAQMgJQEDICUBAyAlAQMgJQEDICUBAyAlAQMgJQEDICUBAyAlAQMgJQEDICUBAyAlAQM\\\n",
              "gJQEDICUBAyAlAQMgJQEDICUBAyAlAQMgJQEDICUBAyAlAQMgJQEDICUBAyAlAQMgJQEDICUBAyA\\\n",
              "lAQMgJQEDICUBAyAlAQMgJQEDICUBAyAlAQMgJQEDICUBAyAlAQMgJQEDICUBAyAlAQMgJQEDICU\\\n",
              "BAyAlAQMgJQEDICUBAyAlAQMgJQEDICUBAyAlAQMgJQEDICU/gdn3A44Lcl3SwAAAABJRU5ErkJg\\\n",
              "gg==\\\n",
              "\"\n",
              "  frames[46] = \"data:image/png;base64,iVBORw0KGgoAAAANSUhEUgAAAbAAAAEgCAYAAADVKCZpAAAAOXRFWHRTb2Z0d2FyZQBNYXRwbG90\\\n",
              "bGliIHZlcnNpb24zLjcuMSwgaHR0cHM6Ly9tYXRwbG90bGliLm9yZy/bCgiHAAAACXBIWXMAAAsT\\\n",
              "AAALEwEAmpwYAAAKEUlEQVR4nO3dTW8dZxmA4WfOh33sOHbSlDYlagooIKpQRULAGlaoe/4BO8SC\\\n",
              "Tbf8ALbwD5oFS9jBGiRUdREpreiHqrYRTeLWqe3YPufY52tYeNWecWJb7Ywf57qW77HkZ2Hr1pl5\\\n",
              "552iLMsyACCZVtMDAMBpCBgAKQkYACkJGAApCRgAKQkYACkJGAApCRgAKQkYACkJGAApCRgAKQkY\\\n",
              "ACkJGAApCRgAKQkYACkJGAApCRgAKQkYACkJGAApCRgAKQkYACkJGAApCRgAKQkYACkJGAApCRgA\\\n",
              "KQkYACkJGAApCRgAKQkYACkJGAApCRgAKQkYACkJGAApCRgAKQkYACkJGAApCRgAKQkYACkJGAAp\\\n",
              "CRgAKQkYACkJGAApCRgAKQkYACkJGAApCRgAKQkYACkJGAApCRgAKQkYACkJGAApCRgAKQkYACkJ\\\n",
              "GAApCRgAKQkYACkJGAApCRgAKQkYACkJGAApCRgAKQkYACkJGAApCRgAKQkYACkJGAApCRgAKQkY\\\n",
              "ACkJGAApCRgAKQkYACkJGAApCRgAKQkYACkJGAApCRgAKQkYACkJGAApCRgAKQkYACkJGAApCRgA\\\n",
              "KQkYACkJGAApCRgAKQkYACkJGAApCRgAKQkYACkJGAApCRgAKQkYACkJGAApCRgAKQkYACkJGAAp\\\n",
              "CRgAKQkYACkJGAApCRgAKQkYACkJGAApCRgAKQkYACkJGAApCRgAKQkYACkJGAApCRgAKQkYACkJ\\\n",
              "GAApCRgAKQkYACkJGAApCRgAKQkYACkJGAApCRgAKQkYACkJGAApCRgAKQkYACkJGAApCRgAKQkY\\\n",
              "ACl1mh4AniVlWcZ0vB/j/nZEWcbSc99teiRIS8CgBsPNB7G7/lH0v/g4hlsPY7S3FUtXrsUPf/27\\\n",
              "aLW7TY8HKQkY1ODTf92OvfWPvrLW6V2IycEgFpbXGpoKcnMPDGpQFPP/asPN+zHafdTANHA+CBjU\\\n",
              "YPXlm5XrZVnWPAmcHwIGNeitvlC5Pj0Y1DwJnB8CBjXoLq9Wrvc3Pq13EDhHBAzqUHEPLCJi5/57\\\n",
              "NQ8C54eAQQ26SyuxcOHy/Ael+2BwWgIGNegurcbCxStz67PpJGaTUQMTQX4CBjVodRajvbA0tz4d\\\n",
              "DWKyv9fARJCfgEENilYrilZ7bv1g98sYbj1sYCLIT8CgJp3eyvxiOYtyNnEfDE5BwKAml66/FhHF\\\n",
              "3Ppkv1//MHAOCBjUZGHlucp1lxDhdAQMatLqLFR9AYvH/3s3IlxChJMSMKhLUURlwcqZfsEpCBjU\\\n",
              "pLu0Gisv/mBuvZxNYzoeNjAR5CZgUJNWd7HyPtjkYBD7j79oYCLITcCgJq1WO9qdxbn16UE/hl9+\\\n",
              "1sBEkJuAQY2KTrdyvYzSs2BwQgIGNVq99mrliRyeBYOTEzCo0eLFK5WvVjnYeXS4GxE4NgGDGnV6\\\n",
              "K1EU81vpd+7/N8rZtIGJIC8BgzpVxCsiopyO3QODExIwqFG7sxDLz78yt17OZjE9cB8MTkLAoEZF\\\n",
              "uxtLl6/Orc+mk9jf2WhgIshLwKBGRasdnd7FufXZeD/2Hn7UwESQl4BBjYqiqNxGH+FZMDgpAYOa\\\n",
              "dZfXjngWbM9WejgBAYOarVy9Ea2KI6WGm/djNhk3MBHkJGBQs4XltSja89/A+l98GrPJqIGJICcB\\\n",
              "g5oV7U5UvhcsDu+DAccjYNCAVtVGjnIWk+Fu/cNAUgIGNWu1O7H2yq259bIsD89EBI5FwKBuRSt6\\\n",
              "q8/PLZezSew8eL+BgSAnAYOaFUURrW6v8jNnIsLxCRg0oNVZqHytyuRgEOVs0sBEkI+AQQMufOeV\\\n",
              "6PZW5tZHe5sxHR80MBHkI2DQgO7y6uG3sK/pb9w7PJEDeCoBgwa0u0tHnIlYRrgHBsciYNCUqpdb\\\n",
              "lhHj4U79s0BCAgZNKIpYvfbjig/KGGzcq30cyEjAoCG9Sy9Vru+uey8YHIeAQUO6y2tHfOK9YHAc\\\n",
              "AgYNKIoiiqp7YBExHe07lR6OQcCgId2l1WgvLM2t729/HuP+dv0DQTICBg1ZXHshuhcuz62PB9ue\\\n",
              "BYNjEDBoSGdxOdrd+TczR0SU5azmaSAfAYOGFK32kffBxgPPgsHTCBg06KhT6YdbD2qeBPIRMGjQ\\\n",
              "5e//tHJ95773gsHTCBg0aPHileoPyplnweApBAwa1OpUb+KYTkYxHQ1rngZyETBoUKvTrYzYZLgT\\\n",
              "o72tBiaCPAQMGrSw8lz0Lr04tz4ePI7R7qMGJoI8BAwa1F7oRWfxQuVnZelMRHgSAYMGFa1OtDrd\\\n",
              "ys9GA5cQ4UkEDBpUFEVEUf1vuPvgw5qngVwEDBq29vLNyvXh5oOIcAkRjiJg0LDe2osRUXWkVBnh\\\n",
              "HhgcqdP0AHBeTafTuHPnToxGT363V7G/He0o5xK2P+zH2//5d0yK6ntkX7e8vBy3bt068nxFOG+K\\\n",
              "0jYn+Fb0+/24ceNGrK+vP/Hnvnf1Uvz1j7+JVuur4dnaHcYf/vKPeO/e8bbT37x5M+7evRutlgsr\\\n",
              "PBv8pUPD9oaj+GzjcZRlxPb4+Xi//4v4oP+z6Cy9FDeuHXHUFOASIjRtd3AQnzx8HL3Lr8Xd3V/F\\\n",
              "uDw8mePBwY9iWLwdER80OyCcUb6BQcMOxtPY2Cvind1fxrjsxeGGjiL2Zyvx6s9/H53OQtMjwpkk\\\n",
              "YHAGTGcRk3L+gsjiwnJU71AEBAzOgN3+IBaL/tx6r70XRWGfFVQRMDgD3nr3w/jJ8j9jpb0VRcwi\\\n",
              "ykmU+/fihYO/RVFOmx4PzqRnZhPH07YywzdtMBjEbDY71s+ub+7F5qOP4/H6n+OtTxbj0XY/tjfe\\\n",
              "ifvrD2M0OV7AJpNJrK+v20bPiVy9erXpEU7tmQnYm2++2fQIPGNGo1EMh8d7KeXnW/347Z/+HtNZ\\\n",
              "GdPZ7FQHcGxvb8ft27c9yMyJvPHGG02PcGoeZIZvyXEfZP6meJCZZ42/dABSEjAAUhIwAFISMABS\\\n",
              "EjAAUhIwAFJ6Zp4Dg7q12+14/fXXY2trq5bfd/369Vp+D5wVngMDICWXEAFIScAASEnAAEhJwABI\\\n",
              "ScAASEnAAEhJwABIScAASEnAAEhJwABIScAASEnAAEhJwABIScAASEnAAEhJwABIScAASEnAAEhJ\\\n",
              "wABIScAASEnAAEhJwABIScAASEnAAEhJwABIScAASEnAAEhJwABIScAASEnAAEhJwABIScAASEnA\\\n",
              "AEhJwABIScAASEnAAEhJwABIScAASEnAAEhJwABIScAASEnAAEhJwABIScAASEnAAEhJwABIScAA\\\n",
              "SEnAAEhJwABIScAASEnAAEhJwABIScAASEnAAEhJwABIScAASEnAAEhJwABIScAASEnAAEhJwABI\\\n",
              "ScAASEnAAEhJwABIScAASEnAAEhJwABIScAASEnAAEhJwABIScAASEnAAEhJwABIScAASEnAAEhJ\\\n",
              "wABIScAASEnAAEhJwABIScAASEnAAEjp/6Jt99vwehlzAAAAAElFTkSuQmCC\\\n",
              "\"\n",
              "  frames[47] = \"data:image/png;base64,iVBORw0KGgoAAAANSUhEUgAAAbAAAAEgCAYAAADVKCZpAAAAOXRFWHRTb2Z0d2FyZQBNYXRwbG90\\\n",
              "bGliIHZlcnNpb24zLjcuMSwgaHR0cHM6Ly9tYXRwbG90bGliLm9yZy/bCgiHAAAACXBIWXMAAAsT\\\n",
              "AAALEwEAmpwYAAAJtklEQVR4nO3dP48c9R3H8e/s7p19dzYGA8EkIEikpAAh6JBSRVGKlFRRHkFE\\\n",
              "kTI8hjR5AtRINClTOG2UInREihBE5o8CONgBg/+c7/Zud2dSmBTEc/Ldhcz4c369JMvSzFr7LXx6\\\n",
              "3+785jdN13VdAUCYydgDAMBxCBgAkQQMgEgCBkAkAQMgkoABEEnAAIgkYABEEjAAIgkYAJEEDIBI\\\n",
              "AgZAJAEDIJKAARBJwACIJGAARBIwACIJGACRBAyASAIGQCQBAyCSgAEQScAAiCRgAEQSMAAiCRgA\\\n",
              "kQQMgEgCBkAkAQMgkoABEEnAAIgkYABEEjAAIgkYAJEEDIBIAgZAJAEDIJKAARBJwACIJGAARBIw\\\n",
              "ACIJGACRBAyASAIGQCQBAyCSgAEQScAAiCRgAEQSMAAiCRgAkQQMgEgCBkAkAQMgkoABEEnAAIgk\\\n",
              "YABEEjAAIgkYAJEEDIBIAgZAJAEDIJKAARBJwACIJGAARBIwACIJGACRBAyASAIGQCQBAyCSgAEQ\\\n",
              "ScAAiCRgAEQSMAAiCRgAkQQMgEgCBkAkAQMgkoABEEnAAIgkYABEEjAAIgkYAJEEDIBIAgZAJAED\\\n",
              "IJKAARBJwACIJGAARBIwACIJGACRBAyASAIGQCQBAyCSgAEQScAAiCRgAEQSMAAiCRgAkQQMgEgC\\\n",
              "BkAkAQMgkoABEEnAAIgkYABEEjAAIgkYAJEEDIBIAgZAJAEDIJKAARBJwACIJGAARBIwACIJGACR\\\n",
              "BAyASAIGQCQBAyCSgAEQScAAiCRgAEQSMAAiCRgAkQQMgEgCBkAkAQMgkoABEGk29gDwIOi6rtrl\\\n",
              "Xq0We9Uu/vP3vDbOP1WzUxtjjweRBAwG8Mlffl+3//VRrRbzO3/259Uu5vXDn/+6zj39/NjjQSQB\\\n",
              "gwHc/vyj2r76wV3H929fH34YOCFcA4MBNM209/j2lUsDTwInh4DBAB566rne4/MbVweeBE4OAYMB\\\n",
              "rJ85f+C5rusGnARODgGDAaxtnus93rVtdW078DRwMggYDGAyW+893i72a7XYHXgaOBkEDEa0WuzW\\\n",
              "cr499hgQScBgALNTW71fI+5vf1l7FnLAsQgYDGBt82ytn3m095w1HHA8AgYDmMxO1XS9f8uorl1Z\\\n",
              "iQjHIGAwgGYyrcmsf+Obxe6NgaeBk0HAYABN01RV03tuft01MDgOAYOBHLSU/uan71aVrxDhqAQM\\\n",
              "BvLwMy9W/6cw8YLjEDAYyPrWIweftIgDjkzAYCCz01u9H8C61bKW+3bjgKMSMBhM/yKOdrWo5fz2\\\n",
              "wLNAPgGDgTSTSe9CjuV8u3avfTLCRJBNwGAgs9NnauuxZ+463rWrWvkKEY5MwGAgk+laTU9vHXje\\\n",
              "bhxwNAIGA2mms5qtb/aeW+7tDDwN5BMwGEjTNNU0/T9yi50bltLDEQkY3AdufPy36trl2GNAFAGD\\\n",
              "AW1d+EFVz6ew1WLuGhgckYDBgDYefrKayXTsMeBEEDAY0Nrmua93pv+mrmurXe6PMBHkEjAYUDPt\\\n",
              "fyZY165qsXtr4Gkgm4DBfaBdLmp+/bOxx4AoAgYDms7Wa+vxZ+863q0WtfuVgMFRCBgMqJnOav3M\\\n",
              "o2OPASeCgMGAmsm01jbP9p7rVgtL6eEIBAwG1fTuSF9Vtdi9VV27GngeyCVgMKA7S+j7nwu22Lkp\\\n",
              "YHAEAgYDW9t8qHc3ju2rH1S73BthIsgkYDCwrce/X9O1U3cd71bLKpfA4NAEDAa2tnH2gO2kumpt\\\n",
              "6AuHJmAwsOmpjd6vELuuq6XdOODQBAwG17+Io7qu9re/HHYUCCZgMILeDX3bZd28/O4I00AmAYOB\\\n",
              "TaazOvf0873nurYdeBrIJWAwtKY5eDuprrMbBxySgMHgmlrb6N9Oarm/W52ViHAoAgYDa5qmdxVi\\\n",
              "VdVyvl3tSsDgMAQMRtBMJtW3GnH+1T9rtbcz/EAQSMBgBFuPP1Oz02fuOr6Y36p2tRhhIsgjYDCC\\\n",
              "2emzNZmt9Z+0hgMORcBgBLNTW9VMZ73nlnu3B54GMgkYjKCZTHtvZq6uarFzffB5IJGAwX2lq5uX\\\n",
              "3xt7CIggYDCGpmrj/FO9pxY7NwYeBjIJGIyiqa3Hnz3wrN044N4EDEaytnmu93i7WlTXrgaeBvII\\\n",
              "GIyk76nMVVWr/d1ql/sDTwN5BAxG0LsC8WvLnZt244BDEDAYyfqZ8727cezd+sJCDjgEAYORrG2e\\\n",
              "q9mprbHHgFgCBiOZrm/U5IDrYPZDhHsTMBjJZLZ+4HZS+75ChHsSMBhJ0zQ9D1S5Y/fap4POAon6\\\n",
              "f/0D/icffvhhXbly5Z6v27l6rfruBvvs0tv1Sfvkod/vhRdeqLNn+5/yDCdV07nlH751r776ar3+\\\n",
              "+uv3fN0vfvJ8/eaXP77r+F/fv1K/+t0fDv1+b731Vr388stHmhHS+QQGI/r8xp1Hp+y1p+vy/Ec1\\\n",
              "b7fq/NpnVfV5TZqmWr9fwoEEDEZ0fXte89VmvX3rZ3V9+Z2qaurj+XPVtV1tbfyxbu3Mxx4R7lsW\\\n",
              "ccCI2rarv++8XNeXT9SdH8emuppWe+6n9cT3Xhx7PLivCRiMbNmtVf3XesTJdK0mk/VxBoIQAgYj\\\n",
              "uvrV7fr8i8tV9c1rXdNmv9Yme+MMBSEEDEZ08/a8Hlv+qb576v2a1KKqa2u1f7POzy/W6dUnY48H\\\n",
              "97UHZhHHYe7JgW/Lzs7hdpPf3V/WlS++rEeXb9Y7H52uD68saufWP+ryp+/VV9uHX8Bx7do1/8c5\\\n",
              "lgsXLow9wrE9MAF74403xh6BB8ilS5cO9bquq/rtm3+uqqrVqjv2svmLFy/WO++8c6x/y4Pttdde\\\n",
              "G3uEY3MjM/wfHPZG5m+LG5l5ELkGBkAkAQMgkoABEEnAAIgkYABEEjAAIj0w94HBkF566aV65ZVX\\\n",
              "Bnu/Rx55ZLD3gvuF+8AAiOQrRAAiCRgAkQQMgEgCBkAkAQMgkoABEEnAAIgkYABEEjAAIgkYAJEE\\\n",
              "DIBIAgZAJAEDIJKAARBJwACIJGAARBIwACIJGACRBAyASAIGQCQBAyCSgAEQScAAiCRgAEQSMAAi\\\n",
              "CRgAkQQMgEgCBkAkAQMgkoABEEnAAIgkYABEEjAAIgkYAJEEDIBIAgZAJAEDIJKAARBJwACIJGAA\\\n",
              "RBIwACIJGACRBAyASAIGQCQBAyCSgAEQScAAiCRgAEQSMAAiCRgAkQQMgEgCBkAkAQMgkoABEEnA\\\n",
              "AIgkYABEEjAAIgkYAJEEDIBIAgZAJAEDIJKAARBJwACIJGAARBIwACIJGACRBAyASAIGQCQBAyCS\\\n",
              "gAEQScAAiCRgAEQSMAAiCRgAkQQMgEgCBkAkAQMgkoABEEnAAIgkYABEEjAAIv0bRIfXU6X2aRMA\\\n",
              "AAAASUVORK5CYII=\\\n",
              "\"\n",
              "  frames[48] = \"data:image/png;base64,iVBORw0KGgoAAAANSUhEUgAAAbAAAAEgCAYAAADVKCZpAAAAOXRFWHRTb2Z0d2FyZQBNYXRwbG90\\\n",
              "bGliIHZlcnNpb24zLjcuMSwgaHR0cHM6Ly9tYXRwbG90bGliLm9yZy/bCgiHAAAACXBIWXMAAAsT\\\n",
              "AAALEwEAmpwYAAAJYklEQVR4nO3dv29ddxnH8efce/0rcZo2itJURKISygAsqHvE3J2N/4Gtayf+\\\n",
              "CeYOSEViQCxIbBQYqUoRMKRpKW3SpKFtHDu274/DEHVAvlauTfQ9+divlxRFOsdxnuXqbd97znO6\\\n",
              "vu/7AoAwo6EHAIDTEDAAIgkYAJEEDIBIAgZAJAEDIJKAARBJwACIJGAARBIwACIJGACRBAyASAIG\\\n",
              "QCQBAyCSgAEQScAAiCRgAEQSMAAiCRgAkQQMgEgCBkAkAQMgkoABEEnAAIgkYABEEjAAIgkYAJEE\\\n",
              "DIBIAgZAJAEDIJKAARBJwACIJGAARBIwACIJGACRBAyASAIGQCQBAyCSgAEQScAAiCRgAEQSMAAi\\\n",
              "CRgAkQQMgEgCBkAkAQMgkoABEEnAAIgkYABEEjAAIgkYAJEEDIBIAgZAJAEDIJKAARBJwACIJGAA\\\n",
              "RBIwACIJGACRBAyASAIGQCQBAyCSgAEQScAAiCRgAEQSMAAiCRgAkQQMgEgCBkAkAQMgkoABEEnA\\\n",
              "AIgkYABEEjAAIgkYAJEEDIBIAgZAJAEDIJKAARBJwACIJGAARBIwACIJGACRBAyASAIGQCQBAyCS\\\n",
              "gAEQScAAiCRgAEQSMAAiCRgAkQQMgEgCBkAkAQMgkoABEEnAAIgkYABEEjAAIgkYAJEEDIBIAgZA\\\n",
              "JAEDIJKAARBJwACIJGAARBIwACIJGACRBAyASAIGQCQBAyCSgAEQScAAiCRgAEQSMAAiCRgAkQQM\\\n",
              "gEgCBkAkAQMgkoABEEnAAIgkYABEEjAAIgkYAJEEDIBIAgZAJAEDINJk6AHgPOj7vhazg5pPD2ox\\\n",
              "/fbv/dq6cqMmG1tDjweRBAwa+PTPv6rd+3dqPt1/+udwvxbT/br55s/q8o3vDz0eRBIwaGD3wZ16\\\n",
              "/MXtI8dn+zsDTANng8/AYECz/cdDjwCxBAya6JYe3Xv478ZzwNkhYNDA5Rs/XHp8/+u7jSeBs0PA\\\n",
              "oIH17VeGHgHOHAGDBiZbl5af6J9eYg+cnIBBA+P15fd69Yt59fNZ42ngbBAwaGL5RRyL+bTms4PG\\\n",
              "s8DZIGAwoMXssBZTAYPTEDBoYDxZr/Ha0bcRD3Ye1pOvXIkIpyFg0MDaxcu18dLVoyf6RfWLefuB\\\n",
              "4AwQMGhgNF6v0drm0GPAmSJg0EA3XqvR2voxZ3uX0sMpCBg00I1GNRov3509P9hrPA2cDQIGDXRd\\\n",
              "V8ddSm+hL5yOgMHApgIGpyJg0Mj2q99benzn839Wlc/A4KQEDBrZuHSllr2NOD980n4YOAMEDBqZ\\\n",
              "bB6z0Bc4FQGDRiYb28ee6xeLhpPA2SBg0Eg3Hi+9ELFfzO1DhFMQMGjmuI30s5pPfQ4GJyVgMLDF\\\n",
              "7KAOd78eegyII2DQyGTjQm29/NqR4/ODvdq3kR5OTMCgkdHaeq1dfGXoMeDMEDBopBtNarxuIz08\\\n",
              "LwIGjXSjcY2PeaRKv5jbSA8nJGDQSNd11XXLX3Kz/d2yTgpORsDgBTA7eKxfcEICBg2NjvkM7GDn\\\n",
              "P9X3tnHASQgYNHTptZvVjcZHju/e/6j6xXyAiSCXgEFDk43tqm75Rg7gZAQMGppsXqzjVkoBJyNg\\\n",
              "0NB4fau6Jb+B9X1f/Xw2wESQS8CgpePePlzMa3a413YWCCdg8ALo+0XNDwQMTkLAoKGuuhpN1o8c\\\n",
              "n08PavfBx+0HgmACBg2N1zdr+7WbR0/0i5o+2Wk/EAQTMGipG9Vk4+LQU8CZIGDQUDca1WTjwrHn\\\n",
              "LfSF1QkYNLX8M7CqqsXssCxEhNUJGDT09B6w5ZfSz/d3q1/YhwirEjB4QcwO96os9IWVCRg0tnn5\\\n",
              "WnXjyZHjew8/rcVsOsBEkEnAoLHNl1+t0XjtyPHp7jc20sMJCBg0Nt64WHXMk5mB1XkVQWOT9QvV\\\n",
              "HROw3lWIsDIBg8a68eSYpb59zQ/3m88DqQQMXhB939ds//HQY0AMAYMBjEbjowf7Rc2ePGo/DIQS\\\n",
              "MGisG42XLvTtF/N69NnfB5gIMgkYNNZ1Xa1tXVp6ziYOWJ2AQWtdV5PN7aGngHgCBs11NV4/7pEq\\\n",
              "vY30sCIBg8a6rqtutPylNz/ct40DViRg8AKZHz4RMFiRgMEAuqU3MlfNDp9UP581ngYyCRgM4MLV\\\n",
              "7y69kGPvy3/V7MDNzLAKAYMBTDYvVrdkI32/mLmIA1Z09KFEwKl9+OGH9ejRs7dp9LODmhxOj/wE\\\n",
              "2fdV7//l/eo3Xnrm9xiPx/XGG2/U2trREMJ50PV+3IPn5tatW/Xee+898+vGo65++fZP6vXrL//P\\\n",
              "8fliUT/9+a/ro8+/eub32N7ertu3b9e1a9dOOy5E8xsYDODbHxt35y/VZ/s3a16TenX9k7o8vlsv\\\n",
              "XdgYdjgIIWAwkJ3Zlfrkmzdrb/H07cJP979fP7jwh7q8vTnwZJDBRRwwgL66+uvjH9fe4nJVdVXV\\\n",
              "1bxfr7/t3qrvXH994Okgg4DBQGb90YsvFjWpmzeuDjAN5BEwGERfuztfHDm6MXpSo84mDliFgMEA\\\n",
              "+r6vjz/4RV1Z+6y6mldXi9oaPaofXfp9bY3dyAyrODcXcdy7d2/oETgHDg8PV/7af9y5U7/7zdv1\\\n",
              "5fRGLfpxvbJ2r/402qm7D3dW+vd939eDBw9q4Rli/B+uX78+9Aindm4C9s477ww9AufA/fv3V/7a\\\n",
              "uw8f12//+EFVfXCq/2s6nda7775b29ueLcbpvfXWW0OPcGpuZIbnaNUbmZ8HNzJz3vkMDIBIAgZA\\\n",
              "JAEDIJKAARBJwACIJGAARDo394FBC7du3aqrV9vsMtza2qqNDY9e4fxyHxgAkbyFCEAkAQMgkoAB\\\n",
              "EEnAAIgkYABEEjAAIgkYAJEEDIBIAgZAJAEDIJKAARBJwACIJGAARBIwACIJGACRBAyASAIGQCQB\\\n",
              "AyCSgAEQScAAiCRgAEQSMAAiCRgAkQQMgEgCBkAkAQMgkoABEEnAAIgkYABEEjAAIgkYAJEEDIBI\\\n",
              "AgZAJAEDIJKAARBJwACIJGAARBIwACIJGACRBAyASAIGQCQBAyCSgAEQScAAiCRgAEQSMAAiCRgA\\\n",
              "kQQMgEgCBkAkAQMgkoABEEnAAIgkYABEEjAAIgkYAJEEDIBIAgZAJAEDIJKAARBJwACIJGAARBIw\\\n",
              "ACIJGACRBAyASAIGQCQBAyCSgAEQScAAiCRgAEQSMAAiCRgAkQQMgEgCBkAkAQMgkoABEEnAAIgk\\\n",
              "YABEEjAAIgkYAJEEDIBIAgZApP8CbPir8x9Y13YAAAAASUVORK5CYII=\\\n",
              "\"\n",
              "  frames[49] = \"data:image/png;base64,iVBORw0KGgoAAAANSUhEUgAAAbAAAAEgCAYAAADVKCZpAAAAOXRFWHRTb2Z0d2FyZQBNYXRwbG90\\\n",
              "bGliIHZlcnNpb24zLjcuMSwgaHR0cHM6Ly9tYXRwbG90bGliLm9yZy/bCgiHAAAACXBIWXMAAAsT\\\n",
              "AAALEwEAmpwYAAAImklEQVR4nO3dT69cdR3H8e85M/dOS7FCBFKISVGKTXwIJj4EE3auTcPaheER\\\n",
              "+Axcd8fGlRuegCtJSExjTARMKqEotJQ/Um/h/pk5xwVxQe40dIbr7/Qzfb2Wv5nkfBf35p1zZub3\\\n",
              "68ZxHAsAwvRTDwAA2xAwACIJGACRBAyASAIGQCQBAyCSgAEQScAAiCRgAEQSMAAiCRgAkQQMgEgC\\\n",
              "BkAkAQMgkoABEEnAAIgkYABEEjAAIgkYAJEEDIBIAgZAJAEDIJKAARBJwACIJGAARBIwACIJGACR\\\n",
              "BAyASAIGQCQBAyCSgAEQScAAiCRgAEQSMAAiCRgAkQQMgEgCBkAkAQMgkoABEEnAAIgkYABEEjAA\\\n",
              "IgkYAJEEDIBIAgZAJAEDIJKAARBJwACIJGAARBIwACIJGACRBAyASAIGQCQBAyCSgAEQScAAiCRg\\\n",
              "AEQSMAAiCRgAkQQMgEgCBkAkAQMgkoABEEnAAIgkYABEEjAAIgkYAJEEDIBIAgZAJAEDIJKAARBJ\\\n",
              "wACIJGAARBIwACIJGACRBAyASAIGQCQBAyCSgAEQScAAiCRgAEQSMAAiCRgAkQQMgEgCBkAkAQMg\\\n",
              "koABEEnAAIgkYABEEjAAIgkYAJEEDIBIAgZAJAEDIJKAARBJwACIJGAARBIwACIJGACRBAyASAIG\\\n",
              "QCQBAyCSgAEQScAAiCRgAEQSMAAiCRgAkQQMgEgCBkAkAQMgkoABEEnAAIgkYABEEjAAIgkYAJEE\\\n",
              "DIBIAgZAJAEDIJKAARBJwACIJGAARBIwACIJGACRBAyASAIGQCQBAyDSfOoB4HFw/+77tTr+6tT6\\\n",
              "E89crvni/AQTQT4BgwZu/en3dXD75qn1q7/4TV184eoEE0E+jxBhQsPJ0dQjQCwBgwmtTg6nHgFi\\\n",
              "CRhMaOUODLYmYDAhjxBhewIGDcwXT65dPz74rPEksDsEDBp48tKVtev3777XeBLYHQIGDcz2z009\\\n",
              "AuwcAYMG+vli6hFg5wgYNDDbEzA4awIGDfR7D36EOI5jw0lgdwgYNNDP99a/oF2wNQGDJrq1q+Ow\\\n",
              "qnG1bDwL7AYBgwmNw6oGAYOtCBhMaBiWNQ4nU48BkQQMJuQODLYnYDAhn4HB9gQMGti/8P1aXHz2\\\n",
              "1PrJ/X/X0b27E0wE+QQMGujni5rtnz+17hEibE/AoIGun1U3m089BuwUAYMGun5WfS9gcJYEDBr4\\\n",
              "+g7sAbtxAFsRMGig62fVz2YPeHW0HyJsQcCgga7rqrr1/27D0g+ZYRsCBhMbTo6mHgEiCRhMbLU8\\\n",
              "nHoEiCRgMDF3YLAdAYOJrQQMtiJg0Mj+hafWrttKCrYjYNDIhWd/tHb9q8/+VY5mhs0JGDTS7y3q\\\n",
              "QSczA5sTMGhktreYegTYKQIGjfR756YeAXaKgEEjs739qUeAnSJg0EjXz9d/BDaONQ5D83kgnYBB\\\n",
              "M+u/wDGOQw0r+yHCpgQMJjaOQ4029IWNCRhMbByGGlbHU48BcQQMpjYOjlSBLQgYNNLP92rv/MVT\\\n",
              "66vjwzo++HSCiSCbgEEjs/1ztfjeM6fWh+VRHR98PsFEkE3AoJGu66ub7009BuwMAYNWur76mYDB\\\n",
              "WREwaKTrZ9XP7cYBZ0XAoJHOHRicKQGDVrquutl87UvjONY4OhMMNiFg0EjXddU9YDupYemHzLAp\\\n",
              "AYNHwLA8Kqcyw2YEDB4Bq5Mj/YINCRg8AoYTd2CwKQGDhrrZbO368uhL+YINCRg09OSll6vrT0fs\\\n",
              "Px/9vcZhNcFEkEvAoKHZ/vlae7DlOFT5Gj1sRMCgodne/oMOZgY2JGDQUD9flILB2RAwaKjfW8gX\\\n",
              "nBEBg4Zm80VVJ2FwFgQMWurX/8uN41jjsGw8DGQTMHgUjEMNJ/ZDhE0IGDwCxnGslQ19YSPrz3YA\\\n",
              "NnLnzp26efPmt76vW35Vs9Vw6oscy+VJ/eXGn2tYPPVQ17ty5Uo999xzmw8KO0TA4Ay88cYb9eqr\\\n",
              "r37r+35w8Xz94be/rPOLbx5sef/goH597Vf11/c+fqjrXb9+va5du7bVrLArPEKEho5PVnXr4y9q\\\n",
              "Nc7rg8Or9beDn9UHh1drPl/Uj194eurxIIo7MGjoeLmqf949rMOnfl4fHb1UY3XV1VjPL56vpy/e\\\n",
              "mHo8iOIODBoax6p37/2kPjy6UmP1VdXVWH19ePRy3Tr86dTjQRQBg4aGcaz7R1Wnt5PqajV6IAKb\\\n",
              "EDBoaBjGGpdfVFffPDqlq1Ut+i8nmgoyCRg0NIxjPdP/rV564kbNu69PYZ53R3XliRv1w3PvTj0e\\\n",
              "RHlsnlncvn176hHYYffu3Xvo9/7xxj/q9qe/q8+Xl+r+6mJdmH1RT8/v1NvvP9xX6P93PX/TnIVL\\\n",
              "ly5NPcLWHpuAvf7661OPwA576623Hvq979z6pN659UlVvb319d58881aLu2dyHf32muvTT3C1rpx\\\n",
              "dAwsfFfXr19/qB8yn+X1/JCZx53PwACIJGAARBIwACIJGACRBAyASAIGQKTH5ndg8P/04osv1iuv\\\n",
              "vNLsepcvX252LXhU+R0YAJE8QgQgkoABEEnAAIgkYABEEjAAIgkYAJEEDIBIAgZAJAEDIJKAARBJ\\\n",
              "wACIJGAARBIwACIJGACRBAyASAIGQCQBAyCSgAEQScAAiCRgAEQSMAAiCRgAkQQMgEgCBkAkAQMg\\\n",
              "koABEEnAAIgkYABEEjAAIgkYAJEEDIBIAgZAJAEDIJKAARBJwACIJGAARBIwACIJGACRBAyASAIG\\\n",
              "QCQBAyCSgAEQScAAiCRgAEQSMAAiCRgAkQQMgEgCBkAkAQMgkoABEEnAAIgkYABEEjAAIgkYAJEE\\\n",
              "DIBIAgZAJAEDIJKAARBJwACIJGAARBIwACIJGACRBAyASAIGQCQBAyCSgAEQScAAiCRgAEQSMAAi\\\n",
              "CRgAkQQMgEgCBkAkAQMgkoABEEnAAIgkYABEEjAAIgkYAJEEDIBIAgZAJAEDINJ/AQFXYQMjOy+O\\\n",
              "AAAAAElFTkSuQmCC\\\n",
              "\"\n",
              "  frames[50] = \"data:image/png;base64,iVBORw0KGgoAAAANSUhEUgAAAbAAAAEgCAYAAADVKCZpAAAAOXRFWHRTb2Z0d2FyZQBNYXRwbG90\\\n",
              "bGliIHZlcnNpb24zLjcuMSwgaHR0cHM6Ly9tYXRwbG90bGliLm9yZy/bCgiHAAAACXBIWXMAAAsT\\\n",
              "AAALEwEAmpwYAAAGMUlEQVR4nO3bwWpcVRzA4TNJTCnGVbQUKgh1UWzRZV34Dhb6EL5B8CXEJ+iu\\\n",
              "uBEKgrp3oV13IxhxoUElmFBtY5q2JBk3bkqEpjHM8Eu/b3m4cP6Le/kxd+6ZTKfT6QCAmIV5DwAA\\\n",
              "JyFgACQJGABJAgZAkoABkCRgACQJGABJAgZAkoABkCRgACQJGABJAgZAkoABkCRgACQJGABJAgZA\\\n",
              "koABkCRgACQJGABJAgZAkoABkCRgACQJGABJAgZAkoABkCRgACQJGABJAgZAkoABkCRgACQJGABJ\\\n",
              "AgZAkoABkCRgACQJGABJAgZAkoABkCRgACQJGABJAgZAkoABkCRgACQJGABJAgZAkoABkCRgACQJ\\\n",
              "GABJAgZAkoABkCRgACQJGABJAgZAkoABkCRgACQJGABJAgZAkoABkCRgACQJGABJAgZAkoABkCRg\\\n",
              "ACQJGABJAgZAkoABkCRgACQJGABJAgZAkoABkCRgACQJGABJAgZAkoABkCRgACQJGABJAgZAkoAB\\\n",
              "kCRgACQJGABJAgZAkoABkCRgACQJGABJAgZAkoABkCRgACQJGABJAgZAkoABkCRgACQJGABJAgZA\\\n",
              "koABkCRgACQJGABJAgZAkoABkCRgACQJGABJAgZAkoABkCRgACQJGABJAgZAkoABkCRgACQJGABJ\\\n",
              "AgZAkoABkCRgACQJGABJAgZAkoABkCRgACQJGABJAgZAkoABkCRgACQJGABJAgZAkoABkCRgACQJ\\\n",
              "GABJAgZAkoABkCRgACQtzXsAeBnsP9kbj7Z/ObK+uHx+vPrGW3OYCPoEDGZg78/fx/pXnx5ZX7n4\\\n",
              "9njnxsdzmAj6vEIEIEnAAEgSMACSBAyAJAEDIEnAAEgSMACSBAyAJAEDIEnAAEgSMACSBAyAJAED\\\n",
              "IEnAAEgSMACSBAyAJAEDIEnAAEgSMACSBAyAJAEDIEnAAEgSMACSBAyAJAEDIEnAAEgSMACSBAyA\\\n",
              "JAEDIEnAAEgSMACSBAyAJAEDIEnAAEgSMACSBAyAJAEDIEnAAEgSMACSBAyAJAEDIEnAAEgSMACS\\\n",
              "BAyAJAEDIEnAAEgSMACSBAyAJAEDIEnAAEgSMACSBAyAJAEDIEnAAEgSMACSBAyAJAEDIEnAAEgS\\\n",
              "MACSluY9AFTt7e2Ne/fujel0+txrJ4/++M+Hbefhzrh79+6x9ltdXR1Xrlx5wSnh7JpMj/P0AUes\\\n",
              "r6+Pa9eujYODg+de++7lC+PW2odjMpk8s37vp83x0SdfHmu/mzdvjjt37pxoVjiL/AKDGZmOhbH9\\\n",
              "9NLYevrmWF54Mi6d+3HeI0GagMFMTMbG46tjfff9cTgWxxjTsfnk8lg8uD3vwSDLRxwwAw/2X/83\\\n",
              "XktjjMkYY2HsHKyO73c/mPdokCVgMAPT6eI4mC4eWd+fvjKHaeBsEDCYgaXJ07G88OTI+vmFv+cw\\\n",
              "DZwNAgYzsLJ0f7z32jfj3MLuGONwLIz9cWH553F15bt5jwZZL81HHJubm/MegTNme3v7WGfAxhjj\\\n",
              "t62dcevzz8buwdfjr/0LY2nydLy+/Ot48HDn2Ps9fvzYfcypu3jx4rxHOLGXJmC3b/vai9O1tbV1\\\n",
              "7IDd39kbX3z7w//ab2Njw33MqVtbW5v3CCfmIDOc0IscZD4NDjLDs/wHBkCSgAGQJGAAJAkYAEkC\\\n",
              "BkCSgAGQ9NKcA4PTtrKyMm7cuDEODw9nst/169dnsg9UOAcGQJJXiAAkCRgASQIGQJKAAZAkYAAk\\\n",
              "CRgASQIGQJKAAZAkYAAkCRgASQIGQJKAAZAkYAAkCRgASQIGQJKAAZAkYAAkCRgASQIGQJKAAZAk\\\n",
              "YAAkCRgASQIGQJKAAZAkYAAkCRgASQIGQJKAAZAkYAAkCRgASQIGQJKAAZAkYAAkCRgASQIGQJKA\\\n",
              "AZAkYAAkCRgASQIGQJKAAZAkYAAkCRgASQIGQJKAAZAkYAAkCRgASQIGQJKAAZAkYAAkCRgASQIG\\\n",
              "QJKAAZAkYAAkCRgASQIGQJKAAZAkYAAkCRgASQIGQJKAAZAkYAAkCRgASQIGQJKAAZAkYAAkCRgA\\\n",
              "SQIGQJKAAZAkYAAkCRgASQIGQJKAAZAkYAAkCRgASQIGQJKAAZAkYAAkCRgASQIGQJKAAZAkYAAk\\\n",
              "/QPSZaQGWtcdzgAAAABJRU5ErkJggg==\\\n",
              "\"\n",
              "  frames[51] = \"data:image/png;base64,iVBORw0KGgoAAAANSUhEUgAAAbAAAAEgCAYAAADVKCZpAAAAOXRFWHRTb2Z0d2FyZQBNYXRwbG90\\\n",
              "bGliIHZlcnNpb24zLjcuMSwgaHR0cHM6Ly9tYXRwbG90bGliLm9yZy/bCgiHAAAACXBIWXMAAAsT\\\n",
              "AAALEwEAmpwYAAAIwUlEQVR4nO3dz48kZR3H8W9VT8/uLIzoria7QRNjEOVAhLMxIeFg4s2jf4Nn\\\n",
              "/Bf8J7wRw1E9eRATEw1R40E44MGNRkHYRSEsuwwzdHc9HvAiM52F7q2ufJrX6zZPdWa+l8o7z3T9\\\n",
              "6FprrQAgTD/1AACwCQEDIJKAARBJwACIJGAARBIwACIJGACRBAyASAIGQCQBAyCSgAEQScAAiCRg\\\n",
              "AEQSMAAiCRgAkQQMgEgCBkAkAQMgkoABEEnAAIgkYABEEjAAIgkYAJEEDIBIAgZAJAEDIJKAARBJ\\\n",
              "wACIJGAARBIwACIJGACRBAyASAIGQCQBAyCSgAEQScAAiCRgAEQSMAAiCRgAkQQMgEgCBkAkAQMg\\\n",
              "koABEEnAAIgkYABEEjAAIgkYAJEEDIBIAgZAJAEDIJKAARBJwACIJGAARBIwACIJGACRBAyASAIG\\\n",
              "QCQBAyCSgAEQScAAiCRgAEQSMAAiCRgAkQQMgEgCBkAkAQMgkoABEEnAAIgkYABEEjAAIgkYAJEE\\\n",
              "DIBIAgZAJAEDIJKAARBJwACIJGAARBIwACIJGACRBAyASAIGQCQBAyCSgAEQScAAiCRgAEQSMAAi\\\n",
              "CRgAkQQMgEgCBkAkAQMgkoABEEnAAIgkYABEEjAAIgkYAJEEDIBIAgZAJAEDIJKAARBJwACIJGAA\\\n",
              "RBIwACIJGACRBAyASAIGQCQBAyCSgAEQScAAiCRgAEQSMAAiCRgAkQQMgEgCBkAkAQMgkoABEEnA\\\n",
              "AIgkYABEEjAAIgkYAJEEDIBIAgZAJAEDIJKAARBJwACIJGAARBIwACIdTD0AfFacvP16LU/vnVs/\\\n",
              "uvpozY+OJ5gIsgkY7EAbhnr9jz+vO/985dyxx777w/rCV781wVSQzb8QYQfasKq2Wkw9BuwVAYMd\\\n",
              "aMOqhmE59RiwVwQMduCjHZiAwYMkYLADbVjVIGDwQAkY7MBqcVqrs/fPrXezec3mhxNMBPkEDHZg\\\n",
              "8cHd+vDeO+fWD688UofHX5pgIsgnYDChbjarfuZuFtiEgMGEum5WnYDBRgQMJtTNDqrvBQw2IWAw\\\n",
              "oa63A4NNCRjsQhsuXO66vrp+tuNhYD8IGOzAanF28YGuquu63Q4De0LAYAeG5ZqAARsTMNiBtTsw\\\n",
              "YGMCBjswLE6nHgH2joDBDgxrd2C+/4JNCRjswN03/3rh+vH1r+94EtgfAgY7sFp8cOH6/MojO54E\\\n",
              "9oeAwYT6+aWpR4BYAgYTms0vTz0CxBIwmJAdGGxOwGBkrbWqdvGxmYDBxgQMRtaGVbU1z0KszikI\\\n",
              "m3L2wMjasKw2rKYeA/aOgMHIhpWAwRgEDEbWVstqw3LqMWDvCBiMrK2W1VZrvgMDNiZgMLLF6b1a\\\n",
              "fnhybn12eOQqRNiCgMHIFid3anX2/rn1w+NrNT/63AQTwX4QMJhIP5tX18+mHgNiCRhMpOsPBAy2\\\n",
              "IGAwkX4mYLANAYMRtdZq3XOkOgGDrQgYjGzdTcxd31d13sgMmxIwGNmwOFtzpKtOwGBjAgYjW60N\\\n",
              "GLANAYORDUsBgzEIGIzMDgzGIWAwqlYfvPOvC49cOr6241lgvwgYjKlVnb5768JDR1cf3fEwsF8E\\\n",
              "DCbRVT+/PPUQEE3AYCKeRA/bETCYSH8gYLANAYMpdHZgsC0Bg1Fd/BzEqqr+4HCHc8D+ETAY0bBa\\\n",
              "VmvDmqMeIwXbEDAY0bD8sNqwLmDANgQMRjSsFlVrd2DANgQMRjQsF3ZgMBIBgxENi9Nqw/LcetfN\\\n",
              "vEoFtiRgMKKTt1+r5em9c+tXrn25ZpcfmmAi2B8CBiNadwViP79UXTfb8TSwXwQMJtDP5tX1Tj/Y\\\n",
              "hjMIJtAfzKvrnH6wDWcQTKCbHdqBwZacQTCS1traJ0n1B/MqOzDYijMIRtRW5y+hr6rqus5l9LAl\\\n",
              "AYMRrZZnU48Ae0vAYCyt1bAQMBjLwdQDQJLWWr388st1cnJy38921Wp26x8XPnP+9u3b9cZLL933\\\n",
              "dxweHtbTTz9ds5l7xuDjutba+hcWAf9nGIZ68skn69VXX73vZ2d9Vz/6wbfr+9954tyxn/32L/Xj\\\n",
              "n/7uvr/jxo0bdfPmzbpy5cpG88I+swODkcz6vr7xlS/W3eXn642zx6pVXzcO/1YP9f+uv7/57tTj\\\n",
              "QTwBg5H0fVeHx1+rP733vTodPnru4eun36wnjl6s1956b+LpIJ+LOGAkqzarV+4+U6fDw/XR25e7\\\n",
              "WrTL9crdZ+rOqe+0YFsCBqPpatnm51aXw0GdnK0mmAf2i4DBaFod9edfpXKpf7/OzlxeD9sSMBjJ\\\n",
              "rFvVU8e/rkcO3qquVtXVUA/P3qmnjn9Vy8X5sAGfzmfmIo5bt25NPQJ7YBiGWi4vfjzUxy2Wq/rJ\\\n",
              "L16s/uD39Z/Fo9VaV9fmb9Rv6l69e+/0E/+927dv19HR0TZjw1rXr1+feoSNfWYC9vzzz089Anug\\\n",
              "tVZ37tz5RJ9dDa1++Yeb//vpzxv9vZOTk3rhhRdqPj//XRo8CM8999zUI2zMjczwKXyaG5kfBDcy\\\n",
              "w3q+AwMgkoABEEnAAIgkYABEEjAAIgkYAJE+M/eBwYPy7LPP1uOPP76Tv3X16lUvs4Q13AcGQCT/\\\n",
              "QgQgkoABEEnAAIgkYABEEjAAIgkYAJEEDIBIAgZAJAEDIJKAARBJwACIJGAARBIwACIJGACRBAyA\\\n",
              "SAIGQCQBAyCSgAEQScAAiCRgAEQSMAAiCRgAkQQMgEgCBkAkAQMgkoABEEnAAIgkYABEEjAAIgkY\\\n",
              "AJEEDIBIAgZAJAEDIJKAARBJwACIJGAARBIwACIJGACRBAyASAIGQCQBAyCSgAEQScAAiCRgAEQS\\\n",
              "MAAiCRgAkQQMgEgCBkAkAQMgkoABEEnAAIgkYABEEjAAIgkYAJEEDIBIAgZAJAEDIJKAARBJwACI\\\n",
              "JGAARBIwACIJGACRBAyASAIGQCQBAyCSgAEQScAAiCRgAEQSMAAiCRgAkQQMgEgCBkAkAQMgkoAB\\\n",
              "EEnAAIgkYABEEjAAIgkYAJEEDIBIAgZAJAEDINJ/Ab5rbrE24CybAAAAAElFTkSuQmCC\\\n",
              "\"\n",
              "  frames[52] = \"data:image/png;base64,iVBORw0KGgoAAAANSUhEUgAAAbAAAAEgCAYAAADVKCZpAAAAOXRFWHRTb2Z0d2FyZQBNYXRwbG90\\\n",
              "bGliIHZlcnNpb24zLjcuMSwgaHR0cHM6Ly9tYXRwbG90bGliLm9yZy/bCgiHAAAACXBIWXMAAAsT\\\n",
              "AAALEwEAmpwYAAAJtElEQVR4nO3dv48cZxnA8Wdmf9ztOWcndkhsID8kgiIQUYToUlBSp6ChQKJO\\\n",
              "n5qSElHlD0iDqCgo0iGCkioiQgIZLMUiRlFsc3F89u167/bHUBghyM0l59udWT3jz6ey3vd89xS3\\\n",
              "+t7uzr5TVFVVBQAkU256AAA4CwEDICUBAyAlAQMgJQEDICUBAyAlAQMgJQEDICUBAyAlAQMgJQED\\\n",
              "ICUBAyAlAQMgJQEDICUBAyAlAQMgJQEDICUBAyAlAQMgJQEDICUBAyAlAQMgJQEDICUBAyAlAQMg\\\n",
              "JQEDICUBAyAlAQMgJQEDICUBAyAlAQMgJQEDICUBAyAlAQMgJQEDICUBAyAlAQMgJQEDICUBAyAl\\\n",
              "AQMgJQEDICUBAyAlAQMgJQEDICUBAyAlAQMgJQEDICUBAyAlAQMgJQEDICUBAyAlAQMgJQEDICUB\\\n",
              "AyAlAQMgJQEDICUBAyAlAQMgJQEDICUBAyAlAQMgJQEDICUBAyAlAQMgJQEDICUBAyAlAQMgJQED\\\n",
              "ICUBAyAlAQMgJQEDICUBAyAlAQMgJQEDICUBAyAlAQMgJQEDICUBAyAlAQMgJQEDICUBAyAlAQMg\\\n",
              "JQEDICUBAyAlAQMgJQEDICUBAyAlAQMgJQEDICUBAyAlAQMgJQEDICUBAyAlAQMgJQEDICUBAyAl\\\n",
              "AQMgJQEDICUBAyAlAQMgJQEDICUBAyAlAQMgJQEDICUBAyAlAQMgJQEDICUBAyAlAQMgJQEDICUB\\\n",
              "AyAlAQMgJQEDICUBAyAlAQMgJQEDICUBAyAlAQMgJQEDICUBAyAlAQMgJQEDICUBAyAlAQMgJQED\\\n",
              "ICUBAyCl/qYHgMfFYnYYk70bUQ62ojfYirK/Fb3BdpSDYRSFvyXhUQkYtGR692b8/Xe/jHIwjN5g\\\n",
              "+2G8htsxeupKvPjDn4oYPCIBg5bMJvtRLRexOJzE4nDy3/X//Tdwev7kg5YcjT+PiGrTY0BnCBi0\\\n",
              "5N4nf6td3zr/TMuTQDcIGLSkWi5q13evvBQRRbvDQAcIGLSgqqqIqv7lw8HOhZangW4QMGhBtZjF\\\n",
              "Yn5Yu9cbjlqeBrpBwKAFi/lRLI6mJ+wWURReQoRHJWDQgvlkP47u79XsiBeclYBBC+ZH05hPD46t\\\n",
              "D3cvxfZTVzYwEeQnYLBBvcFW9Ic7mx4DUhIwaEG1mNWul/1hlIOtlqeBbhAwaMHswf3a9aIso+w5\\\n",
              "0Q3OQsCgBfUXcACrEDBowd0bf6ld337SBRxwVgIGrVjWru48/XzLc0B3CBg0rDrhCKmIiKFjpODM\\\n",
              "BAwaVi3mUS3qD/Ltbz/R8jTQHQIGDVvMHpx4DmK4CzOcmUcPNGw+HX/JOYjAWQkYNOxw/3bMxp8f\\\n",
              "Wx/sXIj+9rkNTATdIGDQsJMu4RjuXorB6Hyrs0CXCBg06OGNLOsvoe8NRlH2hy1PBN0hYNCw2bT+\\\n",
              "GKmy14+i7LU8DXSHgEHDZpN79RuFe4HBKgQMGlXF/U+v1e6U/UHLs0C3CBg0qYqYje/WbBRx4bnv\\\n",
              "tT0NdIqAwYYMRo6RglUIGDSoWs7rz0IsIgaj3fYHgg4RMGjQ/HAS1WJeu1f0vAcGqxAwaNBsfDeW\\\n",
              "J52DCKxEwKBB489uxHx6cGx96/wz0Rtub2Ai6A4Bgw3Y2r0UvYGAwSoEDBry8Bip+r3+1k4UvX67\\\n",
              "A0HHCBg0aHH0oHa9Nxg5RgpWJGDQlKqK2YOTjpEKx0jBigQMGlJVyzi8969NjwGdJWDQkGq5iPGt\\\n",
              "68c3ijLOfe3F1ueBrhEwaFlRljF66uubHgPSEzBoSFUtay9CLIoy+u7EDCsTMGjIYjqOWC5q98qB\\\n",
              "OzHDqgQMGjKbHkRVLWv3XH8IqxMwaMj41kexmB0/B7E32I4oPPRgVR5F0JD54SSi5hnYE1deit5g\\\n",
              "awMTQbcIGDSg9h5g/9Hf3o1wCgesTMCgEVUsF0e1O/2tc1F4CRFW5lEEDaiWy5hPx7V7RdlzjBSs\\\n",
              "gYBBA6rFPKZ3b216DOg0AYMGLOdHMdn7+Nh62R/GzqXnNjARdI+AQYuKsh9b55/e9BjQCQIGDahO\\\n",
              "uJNlUZbR336i5WmgmwQMGrA4nETUXEpfFGX0hqMNTATdI2DQgNmDeyc+CwPWQ8CgAdO7N6Na1p+D\\\n",
              "CKyHgEEDJnv/POEYqW9H4RQOWAsBgxZtX3jWKRywJh5JsGZVtYzqhPuA9Ue7EU7hgLUQMFizarGI\\\n",
              "+dGkdq/sD1qeBrpLwGDNlovZw8voT+AcRFgPAYM1m08PYnz7H8fWi7IX/eFO+wNBR/U3PQBkcP36\\\n",
              "9bh58+apvrY4vBe9+VF88XnWohjE1Y9vR3Hr/a/8Hq+88krs7u6eYVJ4fBTVl915D4iIiDfeeCPe\\\n",
              "euutU33tC89eiF///MfRK///BY5P9u7Fz37x29gfH37l93jvvffitddeO9Os8LjwDAzWbLQ1iKPl\\\n",
              "KD6dvhzT5bm4OPg0nhneiPl8GQcP6m9yCTw6AYM1O3/+6fjw/o9if/FsRBRxY/rd+NbOh9GP39cd\\\n",
              "jwickYs4YM2e/85P4u78cjx8eBVRRS8+mnw/9o6+senRoFMEDNasPxgdu1S+il58cO12eMsZ1kfA\\\n",
              "YM1G5UHEF06i7xVHcfuzPefTwxoJGKzZk7M/RHHwp5jPp1FVyyiW43h59MeoJtc3PRp0ymNzEcdp\\\n",
              "P8MDdSaTk0/W+KJf/ebd2D33QXzzhR/E9vaTMVjcjPeHd+LPH53+d/DOnTt+Z2nF5cuXNz3CmT02\\\n",
              "AXv77bc3PQKJXbt27dRfu6yq2D8Yx/5f3z3zz3vnnXfi6tWrZ/7/cFpvvvnmpkc4Mx9khlN4lA8y\\\n",
              "r4MPMsNX8x4YACkJGAApCRgAKQkYACkJGAApCRgAKT02nwODVbz66qvx+uuvt/bzLl682NrPgqx8\\\n",
              "DgyAlLyECEBKAgZASgIGQEoCBkBKAgZASgIGQEoCBkBKAgZASgIGQEoCBkBKAgZASgIGQEoCBkBK\\\n",
              "AgZASgIGQEoCBkBKAgZASgIGQEoCBkBKAgZASgIGQEoCBkBKAgZASgIGQEoCBkBKAgZASgIGQEoC\\\n",
              "BkBKAgZASgIGQEoCBkBKAgZASgIGQEoCBkBKAgZASgIGQEoCBkBKAgZASgIGQEoCBkBKAgZASgIG\\\n",
              "QEoCBkBKAgZASgIGQEoCBkBKAgZASgIGQEoCBkBKAgZASgIGQEoCBkBKAgZASgIGQEoCBkBKAgZA\\\n",
              "SgIGQEoCBkBKAgZASgIGQEoCBkBKAgZASgIGQEoCBkBKAgZASgIGQEoCBkBKAgZASgIGQEoCBkBK\\\n",
              "AgZASgIGQEoCBkBKAgZASgIGQEoCBkBKAgZASgIGQEoCBkBKAgZASgIGQEr/Btimq8q1mDs3AAAA\\\n",
              "AElFTkSuQmCC\\\n",
              "\"\n",
              "  frames[53] = \"data:image/png;base64,iVBORw0KGgoAAAANSUhEUgAAAbAAAAEgCAYAAADVKCZpAAAAOXRFWHRTb2Z0d2FyZQBNYXRwbG90\\\n",
              "bGliIHZlcnNpb24zLjcuMSwgaHR0cHM6Ly9tYXRwbG90bGliLm9yZy/bCgiHAAAACXBIWXMAAAsT\\\n",
              "AAALEwEAmpwYAAAKJ0lEQVR4nO3dO49cdxnA4ffMba/eXd/iJc46IaEwRCAaJIgEDQ1NJH8BREEH\\\n",
              "DU3aSGn4ELT5BEihDJ0jpBRgWchIjuJcnMTO2t61s/e5HIqIAuZE8e6eOcM7fp7ynbX9Fjv6ec/+\\\n",
              "55yiLMsyACCZ1rQXAICTEDAAUhIwAFISMABSEjAAUhIwAFISMABSEjAAUhIwAFISMABSEjAAUhIw\\\n",
              "AFISMABSEjAAUhIwAFISMABSEjAAUhIwAFISMABSEjAAUhIwAFISMABSEjAAUhIwAFISMABSEjAA\\\n",
              "UhIwAFISMABSEjAAUhIwAFISMABSEjAAUhIwAFISMABSEjAAUhIwAFISMABSEjAAUhIwAFISMABS\\\n",
              "EjAAUhIwAFISMABSEjAAUhIwAFISMABSEjAAUhIwAFISMABSEjAAUhIwAFISMABSEjAAUhIwAFIS\\\n",
              "MABSEjAAUhIwAFISMABSEjAAUhIwAFISMABSEjAAUhIwAFISMABSEjAAUhIwAFISMABSEjAAUhIw\\\n",
              "AFISMABSEjAAUhIwAFISMABSEjAAUhIwAFISMABSEjAAUhIwAFISMABSEjAAUhIwAFISMABSEjAA\\\n",
              "UhIwAFISMABSEjAAUhIwAFISMABSEjAAUhIwAFISMABSEjAAUhIwAFISMABSEjAAUhIwAFISMABS\\\n",
              "EjAAUhIwAFISMABSEjAAUhIwAFISMABSEjAAUhIwAFISMABSEjAAUhIwAFISMABSEjAAUhIwAFIS\\\n",
              "MABSEjAAUhIwAFISMABSEjAAUhIwAFISMABSEjAAUhIwAFISMABSEjAAUhIwAFISMABSEjAAUhIw\\\n",
              "AFISMABS6kx7AXhWlGUZ92++G7sPPo7e4mp0F9eiu7gavcXVWDj3fHTml6e9IqQiYNCQ0eAonnx2\\\n",
              "Kx5/cnPstZd+8eu4+P2fT2EryMslRGjI4HA39h7erX6x5a0Ix+VdAw0Z9Q+jv7c9Nu8ursWZS99r\\\n",
              "fiFITsCgIaNBP6Icn7e6c9FbPtv8QpCcgEFDDp9sVs6Looii7dfRcFwCBg15fPefUfUj2PKlVyKi\\\n",
              "aHwfyE7AoAFlWcZg/6vK15YuvtTsMjAjBAwaUA4HMRocVb7WXVpteBuYDQIGDRge7UX/oPonsKIo\\\n",
              "oihcQoTjEjBowOHOozjY+mJsPrdyMRbOXp7CRpCfgEEDyuEgytFwbN6ZW3IJEU5IwKABR7vblfOi\\\n",
              "3Y5Wu9vsMjAjBAwasP3xjcr54vkrDW8Cs0PAoAFHOw8r58uXXm54E5gdAgYTVo6GUY4q7iEVEb3l\\\n",
              "cw1vA7NDwGDCBoe7MezvV79YeAvCSXn3wITtPbwbh4/H74M4v/admPMTGJyYgMGEjQb9KEeDsXlv\\\n",
              "+Wx0FjyFGU5KwGCCyrL8xsuHrU4vipa70MNJCRhM2MH2/cr5/Nq6W0jBKQgYTFQZ2x/9o2JexPK6\\\n",
              "pzDDaQgYTFIZlbeQiiJi7sz55veBGSJgMEHDo/0oh+MHOCIiiqLd8DYwWwQMJujgyWYM+wdj88Vz\\\n",
              "L0RnfmkKG8HsEDCYoL2Hn8TgYGdsPr+2Hu3ewhQ2gtkhYDAhZVlGjEaVr7V781G0XEKE0xAwmJiy\\\n",
              "+jEqRRG95fOO0MMpCRhMSDkaxu7mR2PzotV2hB5qIGAwIeVoFPsP747Ni6LlCD3UQMBgQsrhIMqo\\\n",
              "foxKq+0WUnBaAgYTcrS7FeVw/EPMi+c3otXpTWEjmC0CBhOy++WdGA0Ox+aLF64IGNRAwGACyvLr\\\n",
              "E4hVt5HqzC95kCXUwLsIJqEsK+/AEUUrOgsrjtBDDQQMJmA0PIq9h5+OzdvduVh+7uUpbASzR8Bg\\\n",
              "Akb9o9i9/+HYvGh3Yu7MuSlsBLNHwGACyrL6+HwRRRTtbsPbwGwSMJiAwf6TyogtnLscRcvbDurg\\\n",
              "nQQT8NW925UnEJfXX3ETX6iJgMEE7D/6PKIcvxN9d3E1IpxAhDoIGNSsLMsoK+IVERFF4Qg91ETA\\\n",
              "oGajwVH095+MzTvzy7F04cUpbASzScCgZoODndj98s7YvN1biPm19SlsBLNJwKBmo2E/Bgc7Y/Oi\\\n",
              "1YqWI/RQGwGDmo0GR5Xz+dVLzm9AjQQManb4eDOqHgN25vmroWBQHwGDmm1/fCOqCtZbdgspqJOA\\\n",
              "QY3Kb7oLfUQUjtBDrQQMalQOBzHqjz/Esru4GvOrz01hI5hdAgY1GhzuRn9v/DNg3cXVmFu5OIWN\\\n",
              "YHYJGNToaOdR7G99PjYv2h13oYeaCRjUqByNouoAx5wDHFA7AYMaHe1tVc5XXni14U1g9gkY1Gjv\\\n",
              "waeV87mVC04gQs0EDGq0c++DynlReAYY1E3AoCblaFj5GJXe8rnoLq5MYSOYbQIGNekf7MTwcH9s\\\n",
              "PrfyXPSW1ppfCGacgEFN9h98GgeP74/N292eI/QwAQIGNSlHw4iKS4idhRUHOGACOtNeAP5fbW1t\\\n",
              "xa1bt57qa4uI6O58MjYvI+LukyK+eO+9b/07NjY2YmNj45hbwrNLwOAbXL9+PV5//fWn/vrfX/tJ\\\n",
              "/OZXP/6vWTkq47e/+0PcvvvoW//8W2+9FW+++eZx14RnloBBDYoi4rUffjc+O3glHg8uxWL7cVye\\\n",
              "ux2tOIj+YPyyInB6AgY1aLU68cH+T6PYeS3KaEURZTw42ogLh3+OvYP+tNeDmSRgUIMfvPrLGJ75\\\n",
              "WbTj6w8sl1HEZn8j/vavK7G1M360Hjg9pxChBt3uXLTb//v/wSK290YuIcKECBjUoNc6iFYM/mtW\\\n",
              "lqPoH3z74Q3gZAQMarA4uB1rh+/GaLATEWW0i6N4vnsz7n/4l2mvBjPrmfkd2L1796a9Aslsb28/\\\n",
              "9df+9e934uadP8blF16N1bMvxo+uzMeVF/fjs82n/wlsZ2fH9ymNW19fn/YKJ/bMBOztt9+e9gok\\\n",
              "87QfYv6Pze292Nx+PyLej+vtVvypVcRhf/jUf/7GjRu+T2ncG2+8Me0VTqwoy3L88bFAvPPOO8f6\\\n",
              "IPNp+SAzHI/fgQGQkoABkJKAAZCSgAGQkoABkJKAAZDSM/M5MDiu9fX1uHbtWmP/3tWrVxv7t2AW\\\n",
              "+BwYACm5hAhASgIGQEoCBkBKAgZASgIGQEoCBkBKAgZASgIGQEoCBkBKAgZASgIGQEoCBkBKAgZA\\\n",
              "SgIGQEoCBkBKAgZASgIGQEoCBkBKAgZASgIGQEoCBkBKAgZASgIGQEoCBkBKAgZASgIGQEoCBkBK\\\n",
              "AgZASgIGQEoCBkBKAgZASgIGQEoCBkBKAgZASgIGQEoCBkBKAgZASgIGQEoCBkBKAgZASgIGQEoC\\\n",
              "BkBKAgZASgIGQEoCBkBKAgZASgIGQEoCBkBKAgZASgIGQEoCBkBKAgZASgIGQEoCBkBKAgZASgIG\\\n",
              "QEoCBkBKAgZASgIGQEoCBkBKAgZASgIGQEoCBkBKAgZASgIGQEoCBkBKAgZASgIGQEoCBkBKAgZA\\\n",
              "SgIGQEoCBkBKAgZASgIGQEoCBkBKAgZASgIGQEoCBkBKAgZASgIGQEoCBkBK/wa38dQ0zBdgrgAA\\\n",
              "AABJRU5ErkJggg==\\\n",
              "\"\n",
              "  frames[54] = \"data:image/png;base64,iVBORw0KGgoAAAANSUhEUgAAAbAAAAEgCAYAAADVKCZpAAAAOXRFWHRTb2Z0d2FyZQBNYXRwbG90\\\n",
              "bGliIHZlcnNpb24zLjcuMSwgaHR0cHM6Ly9tYXRwbG90bGliLm9yZy/bCgiHAAAACXBIWXMAAAsT\\\n",
              "AAALEwEAmpwYAAAKx0lEQVR4nO3dy49cZ1rA4ffUrauvbt9iey5x5EDGMyBEAAmJFRsWbKJkxZ7/\\\n",
              "IauwGbFB/BnJmpEiNhESKJoNAygik6BIgVEm7jiJ047ddrtvdf1YZMFkqiLs7qo6equfZ+fvlLtf\\\n",
              "qV36uet855yqlFICAJJp1D0AAJyGgAGQkoABkJKAAZCSgAGQkoABkJKAAZCSgAGQkoABkJKAAZCS\\\n",
              "gAGQkoABkJKAAZCSgAGQkoABkJKAAZCSgAGQkoABkJKAAZCSgAGQkoABkJKAAZCSgAGQkoABkJKA\\\n",
              "AZCSgAGQkoABkJKAAZCSgAGQkoABkJKAAZCSgAGQkoABkJKAAZCSgAGQkoABkJKAAZCSgAGQkoAB\\\n",
              "kJKAAZCSgAGQkoABkJKAAZCSgAGQkoABkJKAAZCSgAGQkoABkJKAAZCSgAGQkoABkJKAAZCSgAGQ\\\n",
              "koABkJKAAZCSgAGQkoABkJKAAZCSgAGQkoABkJKAAZCSgAGQkoABkJKAAZCSgAGQkoABkJKAAZCS\\\n",
              "gAGQkoABkJKAAZCSgAGQkoABkJKAAZCSgAGQkoABkJKAAZCSgAGQkoABkJKAAZCSgAGQkoABkJKA\\\n",
              "AZCSgAGQkoABkJKAAZCSgAGQkoABkJKAAZCSgAGQkoABkJKAAZCSgAGQkoABkJKAAZCSgAGQkoAB\\\n",
              "kJKAAZCSgAGQkoABkJKAAZCSgAGQkoABkJKAAZCSgAGQkoABkJKAAZCSgAGQkoABkJKAAZCSgAGQ\\\n",
              "koABkJKAAZCSgAGQkoABkJKAAZCSgAGQkoABkJKAAZCSgAGQkoABkJKAAZCSgAGQkoABkJKAAZCS\\\n",
              "gAGQkoABkJKAAZBSq+4B4DwZHO/HZ7/4h1i7/MNYv3ozOhuXotVdj0ZrJaqqqns8SEXAYIEOdz+N\\\n",
              "h7/6j3jw3/8aUTWis34xutvX4sbLfxlb3/tR3eNBKj5ChAV6dOeDKOPhN38o4+gfPIj9ux9Fb//r\\\n",
              "egeDhAQMFqSMxzEe9ifW22sXYuParRomgtwEDBZk2DuIowefTaw32t1Y2bxcw0SQm4DBggxPjuJ4\\\n",
              "74uJ9aqqomo6HQ3PSsBgQYa9g4gyuX7hh78fEXYgwrMSMFiQvU/ei2kF27j+4uKHgSUgYLAApZTv\\\n",
              "2GlYRaPZdg0YnIKAwQKMB70Y9o8m1rsXrsXaledrmAjyEzBYgJNH9+Lwq19PrLe669Fe26phIshP\\\n",
              "wGABxqP+/13A/Btaq5tRVd6GcBreObAAJ99xp43tF/5wsYPAEhEwWIDHOx9OXe9uXVnwJLA8BAzm\\\n",
              "rIxH0T/YmzxQNaJquIAZTkvAYM4GR/sx7B1OrK8/90J0t6/XMBEsBwGDOSqlxNHDz6O3f3/iWLu7\\\n",
              "Gc3Oag1TwXIQMJizUe8woown1ttrWy5ghjMQMJizg93J678iqrh4648XPgssEwGDeSol9u9+NLle\\\n",
              "RXTWLy5+HlgiAgZzNOofRxmPJtZXNi5Hs9OtYSJYHgIGc3T49Z0YHD+ZWF+78ny0VjZqmAiWh4DB\\\n",
              "nJRSovfk6xgPTiaOtVbWPcQSzkjAYG5KDA4fTVmvor12wQ5EOCMBgzkpo2Hs/fo/J9arZisu3vqj\\\n",
              "GiaC5SJgMCdlPJ56/quqqmivbtYwESwXAYM5Odm/H2U0mFjvbt+IqtmuYSJYLgIGc/J458MY9Y8n\\\n",
              "1jdv/E4027bQw1kJGMxBKSXGw97UY83OaoQNHHBmAgZzMB724/D+zsR6o7USG9detAMRZkDAYA7G\\\n",
              "g14c3PufifVGqxOrl39Qw0SwfAQM5mA0mDz3FfHNDkTnv2A2BAzm4NGdD2I8Gk6sr129GVXD2w5m\\\n",
              "wTsJZqyUEiePvpr6DLCt79+OquEWUjALAgYzVsajGPWPph5rtrs2cMCMCBjM2Kh3FEcPv5hYb3U3\\\n",
              "Yu3qC4sfCJaUgMGMDXuHcfLoy4n1ZmctutvXapgIlpOAwYz1Dx5GlMn1ZqcbDY9QgZkRMJixx5/9\\\n",
              "V0wr2PbNP4gI579gVgQMZqiUEr39r6ce627fWPA0sNwEDGZo1D+a+giViIhGs20HIsyQgMEM9fbv\\\n",
              "x9GDyXsgrmxeiTW3kIKZEjCYoVH/JMqUO3C0Vjejs3GpholgeQkYzNDh/TtT15vtrkeowIwJGMzQ\\\n",
              "ozsfTF2/9OKfLHgSWH4CBjMyHg6ijAZTj61ceG7B08DyEzCYkZPHX0Xv4OHEerOzGq3Omh2IMGMC\\\n",
              "BjPSf/Ighsf7E+vd7RvR2bxcw0Sw3AQMZqCUEoMp8YqIaHXXo9lZXfBEsPwEDGaixMNP3pt6pNlZ\\\n",
              "9fEhzIGAwSyUiP7B3pQDVVz+3T9d+DhwHggYzMDg+HGMh73JA1XEyobzXzAPAgYzsP/5x9E/nPwN\\\n",
              "rN3djEa7U8NEsPwEDM6olPLNb19l8hEq69duRXt1q4apYPkJGJxVGX/nLaRa3Y2omu0FDwTng4DB\\\n",
              "GY1Hw3i88+HkgaoR61eetwMR5kTA4IzKaBBlyseHVaMZG9derGEiOB8EDM7o5PHu1HsgVlUVrdXN\\\n",
              "GiaC80HA4AxKKfHki49j1D+eONZZvxiNZquGqeB8EDA4i1JieHIw9dDWD37iFlIwR/57CL/l7t27\\\n",
              "sbOz81SvbVbj2Nz9dOqxL+/vxee/+Lf/92vcvn07Ll3ytGZ4VgIGv+XNN9+MN95446lee2lzNX72\\\n",
              "t38Va91vb5U/6Q/jb3769/HzX07fXv+b3n777XjllVdONSucZwIGZ3BxsxvjqhN3jn8ch6PtuNDa\\\n",
              "jesrn8RxbxAffXq/7vFgqQkYnMHLP7oVHx39RTwcPR8lqqjix/F4+FxcHv1LHB736x4PlppNHHAG\\\n",
              "w60/jwejm1GiERFVlGjGzslP4h9/2Y3BaFz3eLDUBAxOaaXdjAubWxHx7TttlGjEx3f3YyhgMFcC\\\n",
              "Bqd0eWst/uz2ZkR8O1SNGMagP/3pzMDsCBicUokSF0f/HheG70VVehFRol2dxI34eezvTn86MzA7\\\n",
              "52YTx7179+oegSSePHnyVK/78sFB/PXf/Sy+f/Wf48KV34urV74XL99sRH9jL371+cOn/n57e3v+\\\n",
              "fVKb69ev1z3CqZ2bgL311lt1j0AS77///lO/9uC4Hx/v3I/YeTeqKuKfGo2oGlX0B6On/hrvvvtu\\\n",
              "7O7unmJSOLvXX3+97hFO7dwELPMPicUaDAbxzjvvPPPfKyW+2Xn49O2KiIjXXnvNhcxwCs6BAZCS\\\n",
              "gAGQkoABkJKAAZCSgAGQkoABkNK52UYPT+ull16KV199dWHfL/OFpFCnqpRS6h4CAJ6VjxABSEnA\\\n",
              "AEhJwABIScAASEnAAEhJwABIScAASEnAAEhJwABIScAASEnAAEhJwABIScAASEnAAEhJwABIScAA\\\n",
              "SEnAAEhJwABIScAASEnAAEhJwABIScAASEnAAEhJwABIScAASEnAAEhJwABIScAASEnAAEhJwABI\\\n",
              "ScAASEnAAEhJwABIScAASEnAAEhJwABIScAASEnAAEhJwABIScAASEnAAEhJwABIScAASEnAAEhJ\\\n",
              "wABIScAASEnAAEhJwABIScAASEnAAEhJwABIScAASEnAAEhJwABIScAASEnAAEhJwABIScAASEnA\\\n",
              "AEhJwABIScAASEnAAEhJwABIScAASEnAAEhJwABIScAASEnAAEhJwABIScAASEnAAEhJwABIScAA\\\n",
              "SEnAAEhJwABIScAASEnAAEhJwABIScAASEnAAEhJwABI6X8B88z/jPOd3wEAAAAASUVORK5CYII=\\\n",
              "\"\n",
              "\n",
              "\n",
              "    /* set a timeout to make sure all the above elements are created before\n",
              "       the object is initialized. */\n",
              "    setTimeout(function() {\n",
              "        anim0d3c2464b2514be6a9c36797a0bb0ea0 = new Animation(frames, img_id, slider_id, 40.0,\n",
              "                                 loop_select_id);\n",
              "    }, 0);\n",
              "  })()\n",
              "</script>\n"
            ]
          },
          "metadata": {},
          "execution_count": 24
        }
      ],
      "source": [
        "# extra code – this cell displays an animation of one episode\n",
        "\n",
        "def update_scene(num, frames, patch):\n",
        "    patch.set_data(frames[num])\n",
        "    return patch,\n",
        "\n",
        "def plot_animation(frames, repeat=False, interval=40):\n",
        "    fig = plt.figure()\n",
        "    patch = plt.imshow(frames[0])\n",
        "    plt.axis('off')\n",
        "    anim = matplotlib.animation.FuncAnimation(\n",
        "        fig, update_scene, fargs=(frames, patch),\n",
        "        frames=len(frames), repeat=repeat, interval=interval)\n",
        "    plt.close()\n",
        "    return anim\n",
        "\n",
        "def show_one_episode(policy, n_max_steps=200, seed=42):\n",
        "    frames = []\n",
        "    env = gym.make(\"CartPole-v1\", render_mode=\"rgb_array\")\n",
        "    np.random.seed(seed)\n",
        "    obs, info = env.reset(seed=seed)\n",
        "    for step in range(n_max_steps):\n",
        "        frames.append(env.render())\n",
        "        action = policy(obs)\n",
        "        obs, reward, done, truncated, info = env.step(action)\n",
        "        if done or truncated:\n",
        "            break\n",
        "    env.close()\n",
        "    return plot_animation(frames)\n",
        "\n",
        "show_one_episode(basic_policy)"
      ]
    },
    {
      "cell_type": "markdown",
      "metadata": {
        "id": "MiUffr4GZwt4"
      },
      "source": [
        "Clearly the system is unstable and after just a few wobbles, the pole ends up too tilted: game over. We will need to be smarter than that!"
      ]
    },
    {
      "cell_type": "markdown",
      "metadata": {
        "id": "3-9elhABZwt4"
      },
      "source": [
        "# Neural Network Policies"
      ]
    },
    {
      "cell_type": "markdown",
      "metadata": {
        "id": "rehF5eu5Zwt5"
      },
      "source": [
        "Let's create a neural network that will take observations as inputs, and output the probabilities of actions to take for each observation. To choose an action, the network will estimate a probability for each action, then we will select an action randomly according to the estimated probabilities. In the case of the CartPole environment, there are just two possible actions (left or right), so we only need one output neuron: it will output the probability `p` of the action 0 (left), and of course the probability of action 1 (right) will be `1 - p`."
      ]
    },
    {
      "cell_type": "code",
      "execution_count": 25,
      "metadata": {
        "id": "JK14Edy5Zwt5"
      },
      "outputs": [],
      "source": [
        "import tensorflow as tf\n",
        "\n",
        "tf.random.set_seed(42)  # extra code – ensures reproducibility on the CPU\n",
        "\n",
        "model = tf.keras.Sequential([\n",
        "    tf.keras.layers.Dense(5, activation=\"relu\"),\n",
        "    tf.keras.layers.Dense(1, activation=\"sigmoid\"),\n",
        "])"
      ]
    },
    {
      "cell_type": "markdown",
      "metadata": {
        "id": "IbrQ7CFOZwt5"
      },
      "source": [
        "In this particular environment, the past actions and observations can safely be ignored, since each observation contains the environment's full state. If there were some hidden state then you may need to consider past actions and observations in order to try to infer the hidden state of the environment. For example, if the environment only revealed the position of the cart but not its velocity, you would have to consider not only the current observation but also the previous observation in order to estimate the current velocity. Another example is if the observations are noisy: you may want to use the past few observations to estimate the most likely current state. Our problem is thus as simple as can be: the current observation is noise-free and contains the environment's full state."
      ]
    },
    {
      "cell_type": "markdown",
      "metadata": {
        "id": "k3Sj6fF5Zwt5"
      },
      "source": [
        "You may wonder why we plan to pick a random action based on the probability given by the policy network, rather than just picking the action with the highest probability. This approach lets the agent find the right balance between _exploring_ new actions and _exploiting_ the actions that are known to work well. Here's an analogy: suppose you go to a restaurant for the first time, and all the dishes look equally appealing so you randomly pick one. If it turns out to be good, you can increase the probability to order it next time, but you shouldn't increase that probability to 100%, or else you will never try out the other dishes, some of which may be even better than the one you tried."
      ]
    },
    {
      "cell_type": "markdown",
      "metadata": {
        "id": "QBQZi39EZwt5"
      },
      "source": [
        "Let's write a small policy function that will use the neural net to get the probability of moving left, then let's use it to run one episode:"
      ]
    },
    {
      "cell_type": "code",
      "execution_count": 26,
      "metadata": {
        "id": "s9hCRlbSZwt5",
        "colab": {
          "base_uri": "https://localhost:8080/",
          "height": 386
        },
        "outputId": "15868ced-0824-4c47-d598-72c4c1ff8aed"
      },
      "outputs": [
        {
          "output_type": "execute_result",
          "data": {
            "text/plain": [
              "<matplotlib.animation.FuncAnimation at 0x7f670653d220>"
            ],
            "text/html": [
              "\n",
              "<link rel=\"stylesheet\"\n",
              "href=\"https://maxcdn.bootstrapcdn.com/font-awesome/4.4.0/css/font-awesome.min.css\">\n",
              "<script language=\"javascript\">\n",
              "  function isInternetExplorer() {\n",
              "    ua = navigator.userAgent;\n",
              "    /* MSIE used to detect old browsers and Trident used to newer ones*/\n",
              "    return ua.indexOf(\"MSIE \") > -1 || ua.indexOf(\"Trident/\") > -1;\n",
              "  }\n",
              "\n",
              "  /* Define the Animation class */\n",
              "  function Animation(frames, img_id, slider_id, interval, loop_select_id){\n",
              "    this.img_id = img_id;\n",
              "    this.slider_id = slider_id;\n",
              "    this.loop_select_id = loop_select_id;\n",
              "    this.interval = interval;\n",
              "    this.current_frame = 0;\n",
              "    this.direction = 0;\n",
              "    this.timer = null;\n",
              "    this.frames = new Array(frames.length);\n",
              "\n",
              "    for (var i=0; i<frames.length; i++)\n",
              "    {\n",
              "     this.frames[i] = new Image();\n",
              "     this.frames[i].src = frames[i];\n",
              "    }\n",
              "    var slider = document.getElementById(this.slider_id);\n",
              "    slider.max = this.frames.length - 1;\n",
              "    if (isInternetExplorer()) {\n",
              "        // switch from oninput to onchange because IE <= 11 does not conform\n",
              "        // with W3C specification. It ignores oninput and onchange behaves\n",
              "        // like oninput. In contrast, Microsoft Edge behaves correctly.\n",
              "        slider.setAttribute('onchange', slider.getAttribute('oninput'));\n",
              "        slider.setAttribute('oninput', null);\n",
              "    }\n",
              "    this.set_frame(this.current_frame);\n",
              "  }\n",
              "\n",
              "  Animation.prototype.get_loop_state = function(){\n",
              "    var button_group = document[this.loop_select_id].state;\n",
              "    for (var i = 0; i < button_group.length; i++) {\n",
              "        var button = button_group[i];\n",
              "        if (button.checked) {\n",
              "            return button.value;\n",
              "        }\n",
              "    }\n",
              "    return undefined;\n",
              "  }\n",
              "\n",
              "  Animation.prototype.set_frame = function(frame){\n",
              "    this.current_frame = frame;\n",
              "    document.getElementById(this.img_id).src =\n",
              "            this.frames[this.current_frame].src;\n",
              "    document.getElementById(this.slider_id).value = this.current_frame;\n",
              "  }\n",
              "\n",
              "  Animation.prototype.next_frame = function()\n",
              "  {\n",
              "    this.set_frame(Math.min(this.frames.length - 1, this.current_frame + 1));\n",
              "  }\n",
              "\n",
              "  Animation.prototype.previous_frame = function()\n",
              "  {\n",
              "    this.set_frame(Math.max(0, this.current_frame - 1));\n",
              "  }\n",
              "\n",
              "  Animation.prototype.first_frame = function()\n",
              "  {\n",
              "    this.set_frame(0);\n",
              "  }\n",
              "\n",
              "  Animation.prototype.last_frame = function()\n",
              "  {\n",
              "    this.set_frame(this.frames.length - 1);\n",
              "  }\n",
              "\n",
              "  Animation.prototype.slower = function()\n",
              "  {\n",
              "    this.interval /= 0.7;\n",
              "    if(this.direction > 0){this.play_animation();}\n",
              "    else if(this.direction < 0){this.reverse_animation();}\n",
              "  }\n",
              "\n",
              "  Animation.prototype.faster = function()\n",
              "  {\n",
              "    this.interval *= 0.7;\n",
              "    if(this.direction > 0){this.play_animation();}\n",
              "    else if(this.direction < 0){this.reverse_animation();}\n",
              "  }\n",
              "\n",
              "  Animation.prototype.anim_step_forward = function()\n",
              "  {\n",
              "    this.current_frame += 1;\n",
              "    if(this.current_frame < this.frames.length){\n",
              "      this.set_frame(this.current_frame);\n",
              "    }else{\n",
              "      var loop_state = this.get_loop_state();\n",
              "      if(loop_state == \"loop\"){\n",
              "        this.first_frame();\n",
              "      }else if(loop_state == \"reflect\"){\n",
              "        this.last_frame();\n",
              "        this.reverse_animation();\n",
              "      }else{\n",
              "        this.pause_animation();\n",
              "        this.last_frame();\n",
              "      }\n",
              "    }\n",
              "  }\n",
              "\n",
              "  Animation.prototype.anim_step_reverse = function()\n",
              "  {\n",
              "    this.current_frame -= 1;\n",
              "    if(this.current_frame >= 0){\n",
              "      this.set_frame(this.current_frame);\n",
              "    }else{\n",
              "      var loop_state = this.get_loop_state();\n",
              "      if(loop_state == \"loop\"){\n",
              "        this.last_frame();\n",
              "      }else if(loop_state == \"reflect\"){\n",
              "        this.first_frame();\n",
              "        this.play_animation();\n",
              "      }else{\n",
              "        this.pause_animation();\n",
              "        this.first_frame();\n",
              "      }\n",
              "    }\n",
              "  }\n",
              "\n",
              "  Animation.prototype.pause_animation = function()\n",
              "  {\n",
              "    this.direction = 0;\n",
              "    if (this.timer){\n",
              "      clearInterval(this.timer);\n",
              "      this.timer = null;\n",
              "    }\n",
              "  }\n",
              "\n",
              "  Animation.prototype.play_animation = function()\n",
              "  {\n",
              "    this.pause_animation();\n",
              "    this.direction = 1;\n",
              "    var t = this;\n",
              "    if (!this.timer) this.timer = setInterval(function() {\n",
              "        t.anim_step_forward();\n",
              "    }, this.interval);\n",
              "  }\n",
              "\n",
              "  Animation.prototype.reverse_animation = function()\n",
              "  {\n",
              "    this.pause_animation();\n",
              "    this.direction = -1;\n",
              "    var t = this;\n",
              "    if (!this.timer) this.timer = setInterval(function() {\n",
              "        t.anim_step_reverse();\n",
              "    }, this.interval);\n",
              "  }\n",
              "</script>\n",
              "\n",
              "<style>\n",
              ".animation {\n",
              "    display: inline-block;\n",
              "    text-align: center;\n",
              "}\n",
              "input[type=range].anim-slider {\n",
              "    width: 374px;\n",
              "    margin-left: auto;\n",
              "    margin-right: auto;\n",
              "}\n",
              ".anim-buttons {\n",
              "    margin: 8px 0px;\n",
              "}\n",
              ".anim-buttons button {\n",
              "    padding: 0;\n",
              "    width: 36px;\n",
              "}\n",
              ".anim-state label {\n",
              "    margin-right: 8px;\n",
              "}\n",
              ".anim-state input {\n",
              "    margin: 0;\n",
              "    vertical-align: middle;\n",
              "}\n",
              "</style>\n",
              "\n",
              "<div class=\"animation\">\n",
              "  <img id=\"_anim_img90624fd0a1014895a346d0b41366e2eb\">\n",
              "  <div class=\"anim-controls\">\n",
              "    <input id=\"_anim_slider90624fd0a1014895a346d0b41366e2eb\" type=\"range\" class=\"anim-slider\"\n",
              "           name=\"points\" min=\"0\" max=\"1\" step=\"1\" value=\"0\"\n",
              "           oninput=\"anim90624fd0a1014895a346d0b41366e2eb.set_frame(parseInt(this.value));\">\n",
              "    <div class=\"anim-buttons\">\n",
              "      <button title=\"Decrease speed\" aria-label=\"Decrease speed\" onclick=\"anim90624fd0a1014895a346d0b41366e2eb.slower()\">\n",
              "          <i class=\"fa fa-minus\"></i></button>\n",
              "      <button title=\"First frame\" aria-label=\"First frame\" onclick=\"anim90624fd0a1014895a346d0b41366e2eb.first_frame()\">\n",
              "        <i class=\"fa fa-fast-backward\"></i></button>\n",
              "      <button title=\"Previous frame\" aria-label=\"Previous frame\" onclick=\"anim90624fd0a1014895a346d0b41366e2eb.previous_frame()\">\n",
              "          <i class=\"fa fa-step-backward\"></i></button>\n",
              "      <button title=\"Play backwards\" aria-label=\"Play backwards\" onclick=\"anim90624fd0a1014895a346d0b41366e2eb.reverse_animation()\">\n",
              "          <i class=\"fa fa-play fa-flip-horizontal\"></i></button>\n",
              "      <button title=\"Pause\" aria-label=\"Pause\" onclick=\"anim90624fd0a1014895a346d0b41366e2eb.pause_animation()\">\n",
              "          <i class=\"fa fa-pause\"></i></button>\n",
              "      <button title=\"Play\" aria-label=\"Play\" onclick=\"anim90624fd0a1014895a346d0b41366e2eb.play_animation()\">\n",
              "          <i class=\"fa fa-play\"></i></button>\n",
              "      <button title=\"Next frame\" aria-label=\"Next frame\" onclick=\"anim90624fd0a1014895a346d0b41366e2eb.next_frame()\">\n",
              "          <i class=\"fa fa-step-forward\"></i></button>\n",
              "      <button title=\"Last frame\" aria-label=\"Last frame\" onclick=\"anim90624fd0a1014895a346d0b41366e2eb.last_frame()\">\n",
              "          <i class=\"fa fa-fast-forward\"></i></button>\n",
              "      <button title=\"Increase speed\" aria-label=\"Increase speed\" onclick=\"anim90624fd0a1014895a346d0b41366e2eb.faster()\">\n",
              "          <i class=\"fa fa-plus\"></i></button>\n",
              "    </div>\n",
              "    <form title=\"Repetition mode\" aria-label=\"Repetition mode\" action=\"#n\" name=\"_anim_loop_select90624fd0a1014895a346d0b41366e2eb\"\n",
              "          class=\"anim-state\">\n",
              "      <input type=\"radio\" name=\"state\" value=\"once\" id=\"_anim_radio1_90624fd0a1014895a346d0b41366e2eb\"\n",
              "             checked>\n",
              "      <label for=\"_anim_radio1_90624fd0a1014895a346d0b41366e2eb\">Once</label>\n",
              "      <input type=\"radio\" name=\"state\" value=\"loop\" id=\"_anim_radio2_90624fd0a1014895a346d0b41366e2eb\"\n",
              "             >\n",
              "      <label for=\"_anim_radio2_90624fd0a1014895a346d0b41366e2eb\">Loop</label>\n",
              "      <input type=\"radio\" name=\"state\" value=\"reflect\" id=\"_anim_radio3_90624fd0a1014895a346d0b41366e2eb\"\n",
              "             >\n",
              "      <label for=\"_anim_radio3_90624fd0a1014895a346d0b41366e2eb\">Reflect</label>\n",
              "    </form>\n",
              "  </div>\n",
              "</div>\n",
              "\n",
              "\n",
              "<script language=\"javascript\">\n",
              "  /* Instantiate the Animation class. */\n",
              "  /* The IDs given should match those used in the template above. */\n",
              "  (function() {\n",
              "    var img_id = \"_anim_img90624fd0a1014895a346d0b41366e2eb\";\n",
              "    var slider_id = \"_anim_slider90624fd0a1014895a346d0b41366e2eb\";\n",
              "    var loop_select_id = \"_anim_loop_select90624fd0a1014895a346d0b41366e2eb\";\n",
              "    var frames = new Array(26);\n",
              "    \n",
              "  frames[0] = \"data:image/png;base64,iVBORw0KGgoAAAANSUhEUgAAAbAAAAEgCAYAAADVKCZpAAAAOXRFWHRTb2Z0d2FyZQBNYXRwbG90\\\n",
              "bGliIHZlcnNpb24zLjcuMSwgaHR0cHM6Ly9tYXRwbG90bGliLm9yZy/bCgiHAAAACXBIWXMAAAsT\\\n",
              "AAALEwEAmpwYAAAINklEQVR4nO3dv49VaR3H8e9zZyaArAIFCyYatDEQO2vdxpYCafXfoLAioTX+\\\n",
              "FRTGxI7KbYiJMe4as1C40bj+YkIWf+yC2YGZZe49x2K2Ysb1Xub63PuB16s8c8P9JnDy5jnznHPa\\\n",
              "OI5jAUCYyaoHAICXIWAARBIwACIJGACRBAyASAIGQCQBAyCSgAEQScAAiCRgAEQSMAAiCRgAkQQM\\\n",
              "gEgCBkAkAQMgkoABEEnAAIgkYABEEjAAIgkYAJEEDIBIAgZAJAEDIJKAARBJwACIJGAARBIwACIJ\\\n",
              "GACRBAyASAIGQCQBAyCSgAEQScAAiCRgAEQSMAAiCRgAkQQMgEgCBkAkAQMgkoABEEnAAIgkYABE\\\n",
              "EjAAIgkYAJEEDIBIAgZAJAEDIJKAARBJwACIJGAARBIwACIJGACRBAyASAIGQCQBAyCSgAEQScAA\\\n",
              "iCRgAEQSMAAiCRgAkQQMgEgCBkAkAQMgkoABEEnAAIgkYABEEjAAIgkYAJEEDIBIAgZAJAEDIJKA\\\n",
              "ARBJwACIJGAARBIwACIJGACRBAyASAIGQCQBAyCSgAEQScAAiCRgAEQSMAAiCRgAkQQMgEgCBkAk\\\n",
              "AQMgkoABEEnAAIgkYABEEjAAIgkYAJEEDIBIAgZAJAEDIJKAARBJwACIJGAARBIwACIJGACRBAyA\\\n",
              "SAIGQCQBAyCSgAEQScAAiCRgAEQSMAAiCRgAkQQMgEgCBkAkAQMgkoABEEnAAIgkYABEEjAAIgkY\\\n",
              "AJEEDIBIAgZAJAEDIJKAARBJwACIJGAARBIwACIJGACRBAyASAIGQKTNVQ8Ar6PnT5/U3pNHh45v\\\n",
              "nT5bp85eXMFEkEfAoLNxHOvxX9+rB7/8yaGfnb/yVn3trR+sYCrI4xIirMA4m656BIgnYLACw3R/\\\n",
              "1SNAPAGD7kYrMFgCAYPexqphsAKD4xIw6M4KDJZBwGAF/A4Mjk/AoLOxqgYrMDg2AYPehlntPfnw\\\n",
              "8PE2qRNn3uw/D4QSMOhsHMf69JOPDh1vbVInv3R+BRNBJgGDNdI2tlY9AsQQMFgXrWqyKWAwLwGD\\\n",
              "tdGqTTyeFOYlYLBGJi4hwtwEDNZEa60mG1ZgMC8BgzViEwfMT8BgjUw2rcBgXgIGnY3jUAfP43hR\\\n",
              "q9Y2eo8DsQQMOhtn06P7BSxEwKCzgyfRKxgcl4BBZ8MwrXEUMDguAYPOrMBgOQQMOhtm0yorMDg2\\\n",
              "AYPOxtm+gMESCBh0Ng5TFxBhCQQMOnv28cMaps8PHT959mI1j5KCuQkYdDbd3akah0PHt06fqTZx\\\n",
              "IzPMS8BgTUw2tqq1tuoxIIaAwZo4eBeYgMG8BAzWxGRjs8oKDOYmYLAmmoDBQgQM1sRkY9MFRFiA\\\n",
              "gMGasAKDxQgYdHTwEN+jb2Nuk62yiQPmJ2DQ2X97En2bOB1hEc4Y6Gr87Gn0R3MfGMxPwKCncTx4\\\n",
              "Gj1wbAIGHY1VNQ77qx4DXgkCBj2Nn38JEZifgEFPLiHC0ggYdGUFBssiYNDROI41DAIGyyBg0NE4\\\n",
              "DjXde3r4B63VxtbJ/gNBMAGDjobp89r9aPvQ8cnmiTp9/tIKJoJcAgZroLX22fvAgHkJGKyFdvAw\\\n",
              "X2BuAgbroLWDF1oCcxMwWAOtygoMFiRgsA6swGBhAgbrwCYOWJiAwVqwiQMWJWDQ0zAcebi1Vq05\\\n",
              "HWERzhjoaJh5lQosi4BBR+NsWuM4rnoMeCUIGHRkBQbLI2DQ0cG7wKzAYBkEDDoarcBgaQQMOhpm\\\n",
              "UwswWBIBg44OVmAKBssgYNDR86dPjtyFuHnyjWqtrWAiyOXWfzim7e3t2t4+/JLKo2w8/G1NxsM3\\\n",
              "M+8Mp+rX7/6mDh7r+/muXLlS586dW3RMeOW00U0pcCy3bt2qmzdvzvXZH37/2/W971w5dPxnv3i/\\\n",
              "fvzTX9Vs+N+n4507d+rq1asLzwmvGisw6Gx/2KqHn36jns3O1JnNv9fFE3+p5/uz8l9JWIyAQUf7\\\n",
              "44m6/8l361/7X6mxWrW6Uv+evll7+/dWPRrEsYkDOvrTs2/VP/e/WmNNqqrVWBv1YO+b9eDppRrt\\\n",
              "ToSFCBh0NB236sWNGmNNane/2V0PCxIw6OjUZKdeLNWkptVmO/oFCxIw6OjrX7hfl07+rjba86oa\\\n",
              "a6vt1eXT79TZ9udVjwZxXptNHI8ePVr1CLyidnZ25v7sz9/5Q/3+bz+qj/e/XLvDG/XFjcf17uY/\\\n",
              "6r0/fjj3n/H48WP/nlmaixcvrnqEl/baBOz27durHoFX1P379+f+7L0PHtW9Dx5V1fsv/X13794V\\\n",
              "MJbmxo0bqx7hpb02AUv+S2K97e7u1ttvv93t+65fv+5GZii/AwMglIABEEnAAIgkYABEEjAAIgkY\\\n",
              "AJFem2308P9y+fLlunbtWrfvu3DhQrfvgnXmhZYARHIJEYBIAgZAJAEDIJKAARBJwACIJGAARBIw\\\n",
              "ACIJGACRBAyASAIGQCQBAyCSgAEQScAAiCRgAEQSMAAiCRgAkQQMgEgCBkAkAQMgkoABEEnAAIgk\\\n",
              "YABEEjAAIgkYAJEEDIBIAgZAJAEDIJKAARBJwACIJGAARBIwACIJGACRBAyASAIGQCQBAyCSgAEQ\\\n",
              "ScAAiCRgAEQSMAAiCRgAkQQMgEgCBkAkAQMgkoABEEnAAIgkYABEEjAAIgkYAJEEDIBIAgZAJAED\\\n",
              "IJKAARBJwACIJGAARBIwACIJGACRBAyASAIGQCQBAyCSgAEQScAAiCRgAEQSMAAiCRgAkQQMgEgC\\\n",
              "BkAkAQMgkoABEEnAAIgkYABEEjAAIgkYAJEEDIBIAgZAJAEDIJKAARBJwACIJGAARBIwACIJGACR\\\n",
              "BAyASP8BSHNP0JHogzgAAAAASUVORK5CYII=\\\n",
              "\"\n",
              "  frames[1] = \"data:image/png;base64,iVBORw0KGgoAAAANSUhEUgAAAbAAAAEgCAYAAADVKCZpAAAAOXRFWHRTb2Z0d2FyZQBNYXRwbG90\\\n",
              "bGliIHZlcnNpb24zLjcuMSwgaHR0cHM6Ly9tYXRwbG90bGliLm9yZy/bCgiHAAAACXBIWXMAAAsT\\\n",
              "AAALEwEAmpwYAAAINklEQVR4nO3dv49VaR3H8e9zZyaArAIFCyYatDEQO2vdxpYCafXfoLAioTX+\\\n",
              "FRTGxI7KbYiJMe4as1C40bj+YkIWf+yC2YGZZe49x2K2Ysb1Xub63PuB16s8c8P9JnDy5jnznHPa\\\n",
              "OI5jAUCYyaoHAICXIWAARBIwACIJGACRBAyASAIGQCQBAyCSgAEQScAAiCRgAEQSMAAiCRgAkQQM\\\n",
              "gEgCBkAkAQMgkoABEEnAAIgkYABEEjAAIgkYAJEEDIBIAgZAJAEDIJKAARBJwACIJGAARBIwACIJ\\\n",
              "GACRBAyASAIGQCQBAyCSgAEQScAAiCRgAEQSMAAiCRgAkQQMgEgCBkAkAQMgkoABEEnAAIgkYABE\\\n",
              "EjAAIgkYAJEEDIBIAgZAJAEDIJKAARBJwACIJGAARBIwACIJGACRBAyASAIGQCQBAyCSgAEQScAA\\\n",
              "iCRgAEQSMAAiCRgAkQQMgEgCBkAkAQMgkoABEEnAAIgkYABEEjAAIgkYAJEEDIBIAgZAJAEDIJKA\\\n",
              "ARBJwACIJGAARBIwACIJGACRBAyASAIGQCQBAyCSgAEQScAAiCRgAEQSMAAiCRgAkQQMgEgCBkAk\\\n",
              "AQMgkoABEEnAAIgkYABEEjAAIgkYAJEEDIBIAgZAJAEDIJKAARBJwACIJGAARBIwACIJGACRBAyA\\\n",
              "SAIGQCQBAyCSgAEQScAAiCRgAEQSMAAiCRgAkQQMgEgCBkAkAQMgkoABEEnAAIgkYABEEjAAIgkY\\\n",
              "AJEEDIBIAgZAJAEDIJKAARBJwACIJGAARBIwACIJGACRBAyASAIGQKTNVQ8Ar6PnT5/U3pNHh45v\\\n",
              "nT5bp85eXMFEkEfAoLNxHOvxX9+rB7/8yaGfnb/yVn3trR+sYCrI4xIirMA4m656BIgnYLACw3R/\\\n",
              "1SNAPAGD7kYrMFgCAYPexqphsAKD4xIw6M4KDJZBwGAF/A4Mjk/AoLOxqgYrMDg2AYPehlntPfnw\\\n",
              "8PE2qRNn3uw/D4QSMOhsHMf69JOPDh1vbVInv3R+BRNBJgGDNdI2tlY9AsQQMFgXrWqyKWAwLwGD\\\n",
              "tdGqTTyeFOYlYLBGJi4hwtwEDNZEa60mG1ZgMC8BgzViEwfMT8BgjUw2rcBgXgIGnY3jUAfP43hR\\\n",
              "q9Y2eo8DsQQMOhtn06P7BSxEwKCzgyfRKxgcl4BBZ8MwrXEUMDguAYPOrMBgOQQMOhtm0yorMDg2\\\n",
              "AYPOxtm+gMESCBh0Ng5TFxBhCQQMOnv28cMaps8PHT959mI1j5KCuQkYdDbd3akah0PHt06fqTZx\\\n",
              "IzPMS8BgTUw2tqq1tuoxIIaAwZo4eBeYgMG8BAzWxGRjs8oKDOYmYLAmmoDBQgQM1sRkY9MFRFiA\\\n",
              "gMGasAKDxQgYdHTwEN+jb2Nuk62yiQPmJ2DQ2X97En2bOB1hEc4Y6Gr87Gn0R3MfGMxPwKCncTx4\\\n",
              "Gj1wbAIGHY1VNQ77qx4DXgkCBj2Nn38JEZifgEFPLiHC0ggYdGUFBssiYNDROI41DAIGyyBg0NE4\\\n",
              "DjXde3r4B63VxtbJ/gNBMAGDjobp89r9aPvQ8cnmiTp9/tIKJoJcAgZroLX22fvAgHkJGKyFdvAw\\\n",
              "X2BuAgbroLWDF1oCcxMwWAOtygoMFiRgsA6swGBhAgbrwCYOWJiAwVqwiQMWJWDQ0zAcebi1Vq05\\\n",
              "HWERzhjoaJh5lQosi4BBR+NsWuM4rnoMeCUIGHRkBQbLI2DQ0cG7wKzAYBkEDDoarcBgaQQMOhpm\\\n",
              "UwswWBIBg44OVmAKBssgYNDR86dPjtyFuHnyjWqtrWAiyOXWfzim7e3t2t4+/JLKo2w8/G1NxsM3\\\n",
              "M+8Mp+rX7/6mDh7r+/muXLlS586dW3RMeOW00U0pcCy3bt2qmzdvzvXZH37/2/W971w5dPxnv3i/\\\n",
              "fvzTX9Vs+N+n4507d+rq1asLzwmvGisw6Gx/2KqHn36jns3O1JnNv9fFE3+p5/uz8l9JWIyAQUf7\\\n",
              "44m6/8l361/7X6mxWrW6Uv+evll7+/dWPRrEsYkDOvrTs2/VP/e/WmNNqqrVWBv1YO+b9eDppRrt\\\n",
              "ToSFCBh0NB236sWNGmNNane/2V0PCxIw6OjUZKdeLNWkptVmO/oFCxIw6OjrX7hfl07+rjba86oa\\\n",
              "a6vt1eXT79TZ9udVjwZxXptNHI8ePVr1CLyidnZ25v7sz9/5Q/3+bz+qj/e/XLvDG/XFjcf17uY/\\\n",
              "6r0/fjj3n/H48WP/nlmaixcvrnqEl/baBOz27durHoFX1P379+f+7L0PHtW9Dx5V1fsv/X13794V\\\n",
              "MJbmxo0bqx7hpb02AUv+S2K97e7u1ttvv93t+65fv+5GZii/AwMglIABEEnAAIgkYABEEjAAIgkY\\\n",
              "AJFem2308P9y+fLlunbtWrfvu3DhQrfvgnXmhZYARHIJEYBIAgZAJAEDIJKAARBJwACIJGAARBIw\\\n",
              "ACIJGACRBAyASAIGQCQBAyCSgAEQScAAiCRgAEQSMAAiCRgAkQQMgEgCBkAkAQMgkoABEEnAAIgk\\\n",
              "YABEEjAAIgkYAJEEDIBIAgZAJAEDIJKAARBJwACIJGAARBIwACIJGACRBAyASAIGQCQBAyCSgAEQ\\\n",
              "ScAAiCRgAEQSMAAiCRgAkQQMgEgCBkAkAQMgkoABEEnAAIgkYABEEjAAIgkYAJEEDIBIAgZAJAED\\\n",
              "IJKAARBJwACIJGAARBIwACIJGACRBAyASAIGQCQBAyCSgAEQScAAiCRgAEQSMAAiCRgAkQQMgEgC\\\n",
              "BkAkAQMgkoABEEnAAIgkYABEEjAAIgkYAJEEDIBIAgZAJAEDIJKAARBJwACIJGAARBIwACIJGACR\\\n",
              "BAyASP8BSHNP0JHogzgAAAAASUVORK5CYII=\\\n",
              "\"\n",
              "  frames[2] = \"data:image/png;base64,iVBORw0KGgoAAAANSUhEUgAAAbAAAAEgCAYAAADVKCZpAAAAOXRFWHRTb2Z0d2FyZQBNYXRwbG90\\\n",
              "bGliIHZlcnNpb24zLjcuMSwgaHR0cHM6Ly9tYXRwbG90bGliLm9yZy/bCgiHAAAACXBIWXMAAAsT\\\n",
              "AAALEwEAmpwYAAAIuklEQVR4nO3dPXMdZxnH4Xv36EiRkzghMImT4WUYkya4gA/gli4tH4I+H4CC\\\n",
              "ki9AQeMSilAywwyMB+oMBQMEAlWILZM3W46k87JLocyAkRSfIym7529fV7nrse5CO7/Z1T7PNn3f\\\n",
              "9wUAYdqxBwCA8xAwACIJGACRBAyASAIGQCQBAyCSgAEQScAAiCRgAEQSMAAiCRgAkQQMgEgCBkAk\\\n",
              "AQMgkoABEEnAAIgkYABEEjAAIgkYAJEEDIBIAgZAJAEDIJKAARBJwACIJGAARBIwACIJGACRBAyA\\\n",
              "SAIGQCQBAyCSgAEQScAAiCRgAEQSMAAiCRgAkQQMgEgCBkAkAQMgkoABEEnAAIgkYABEEjAAIgkY\\\n",
              "AJEEDIBIAgZAJAEDIJKAARBJwACIJGAARBIwACIJGACRBAyASAIGQCQBAyCSgAEQScAAiCRgAEQS\\\n",
              "MAAiCRgAkQQMgEgCBkAkAQMgkoABEEnAAIgkYABEEjAAIgkYAJEEDIBIAgZAJAEDIJKAARBJwACI\\\n",
              "JGAARBIwACIJGACRBAyASAIGQCQBAyCSgAEQScAAiCRgAEQSMAAiCRgAkQQMgEgCBkAkAQMgkoAB\\\n",
              "EEnAAIgkYABEEjAAIgkYAJEEDIBIAgZAJAEDIJKAARBJwACIJGAARBIwACIJGACRBAyASAIGQCQB\\\n",
              "AyCSgAEQScAAiCRgAEQSMAAiCRgAkQQMgEgCBkAkAQMgkoABEEnAAIgkYABEEjAAIgkYAJEEDIBI\\\n",
              "AgZAJAEDIJKAARBJwACIJGAARBIwACIJGACRBAyASAIGQCQBAyDS1tgDwNOo7/t6uPfP6hazE+ee\\\n",
              "ffnbNZnujDAVZBEwGEHfLeofv/15HX269+iJpqkbP/xx7b54bZzBIIhHiDCCbjGv6rqxx4BoAgYj\\\n",
              "6Bbz6nsBg4sQMBhBt5wJGFyQgMEI+sW8eo8Q4UIEDEYwP3xQ/XJ+4vhkulttOxlhIsgjYDCCw0/u\\\n",
              "1nJ2cOL47kuv1WTnyggTQR4Bgw3Sbm1X07gDg1UIGGyQdjKtal2WsApXCmyQZmtaTeOyhFW4UmBg\\\n",
              "fd+fea6dbAsYrMiVAmM4Yw1YO5lUNc3Aw0AmAYMRLE/ZxPdYU42AwUoEDAbXVzc/GnsIiCdgMLS+\\\n",
              "qlsIGFyUgMHg+lq6A4MLEzAYWF916ocsgfUIGAys75a1f+fvJ4437aSee+X6CBNBJgGDofVnPEJs\\\n",
              "mppeuTr8PBBKwGBjNNVu7Yw9BMQQMNggk6mAwaoEDDZE0zTVTrfHHgNiCBhsDI8QYR0CBgPrlvOq\\\n",
              "Mzb0tZEvrM7VAgM7XgN29o70wGoEDAbWLWbVn7EbPbA6AYOBdYujMx8hAqsTMBhYN59/4UctgdUI\\\n",
              "GAxstv9R9d3ixPHplavVtC5JWJWrBQZ2+Ond6pcnA3blq1+vdss6MFiVgMGGaLd2qnyNGVYmYLAh\\\n",
              "ju++BAxWJWCwIdqtbQuZYQ2uFhjQ8duHp7+B2E63PUKENQgYDKzvTl/E3LRbA08C2QQMhtT3n28l\\\n",
              "dbrGHRisTMBgQH3ffWHAgNUJGAyqP95KCrgwAYMh9X0t3YHBpRAwGFC3nNfRp3snjjftpLaf/coI\\\n",
              "E0EuAYMBdctFHd2/d+J4M5nWMy+8MsJEkEvAYAM0TWMfRFiTgMEmaNrjhczAygQMNoA7MFifgMEm\\\n",
              "EDBYm4DBkPoztpFqmmon04GHgWwCBgPqFvMzzthCCtYlYDCg5fzo8x3pgYsSMBjQ8TZSAgaXQcBg\\\n",
              "QN38SL/gkggYDGhx9FmdVrCmnfiUCqxJwGBADz54t/pueeL486++XtVORpgIcgkYDOmMrzG3013v\\\n",
              "IcKaBAw2wGS6U16lh/UIGGyAdrqtX7AmAYMNMNlyBwbrEjAYSN/31Z/xDn073Rl4GsgnYDCUvj/1\\\n",
              "DcSqqqZpvUYPaxIwGEjfd1+wFyKwLgGDgfR9V91SwOCybI09ACSbzWb1zjvv1HJ5+qPB/9V0i5p8\\\n",
              "9O9TX9V477336m8fP34h89WrV+vGjRvnmBSePE1va2w4t7t379b169fr4cOHj/23z+1u109/9IP6\\\n",
              "/uuvnjj3k1u361d/+Otj/4+bN2/W7du3zzUrPGncgcFAntvdrm+8/GJ9NL9Wd4++VVvNol575t2q\\\n",
              "+Yf1wYf7Y48HcQQMBrI93aqD7Rv15/s3a9kff335X0ffqW/2b9feJ4+/gwMe5SUOGMjB8mr9af9m\\\n",
              "LfvtOl603NRn3Qv1x/s362j++L+hAY8SMBhIX00t+5MvahwttwQMzkHAYCBts6yd9vDE8e26X0fz\\\n",
              "xQgTQTYBg4Hstg/qe8//pnbb+1XVVVPLemn6fn33yu9qJmCwtqfmJY47d+6MPQJPoHv37tWqK1E+\\\n",
              "vH9QP/vFL+ug+3V9PL9WbbOor03fr4PDBzVfnP6dsP83m838LnOprl27NvYI5/bUBOzWrVtjj8AT\\\n",
              "aH9/vxaL1e6e9g9m9fbv/3Khn7e3t+d3mUv11ltvjT3CuVnIDBewzkLmy2AhM/yXv4EBEEnAAIgk\\\n",
              "YABEEjAAIgkYAJEEDIBIT806MPgy7Ozs1JtvvlmHhye3iPoyvPHGG4P8HEhgHRgAkTxCBCCSgAEQ\\\n",
              "ScAAiCRgAEQSMAAiCRgAkQQMgEgCBkAkAQMgkoABEEnAAIgkYABEEjAAIgkYAJEEDIBIAgZAJAED\\\n",
              "IJKAARBJwACIJGAARBIwACIJGACRBAyASAIGQCQBAyCSgAEQScAAiCRgAEQSMAAiCRgAkQQMgEgC\\\n",
              "BkAkAQMgkoABEEnAAIgkYABEEjAAIgkYAJEEDIBIAgZAJAEDIJKAARBJwACIJGAARBIwACIJGACR\\\n",
              "BAyASAIGQCQBAyCSgAEQScAAiCRgAEQSMAAiCRgAkQQMgEgCBkAkAQMgkoABEEnAAIgkYABEEjAA\\\n",
              "IgkYAJEEDIBIAgZAJAEDIJKAARBJwACIJGAARBIwACIJGACRBAyASAIGQCQBAyCSgAEQScAAiCRg\\\n",
              "AEQSMAAiCRgAkQQMgEgCBkAkAQMg0n8Afi2IOjC1gjcAAAAASUVORK5CYII=\\\n",
              "\"\n",
              "  frames[3] = \"data:image/png;base64,iVBORw0KGgoAAAANSUhEUgAAAbAAAAEgCAYAAADVKCZpAAAAOXRFWHRTb2Z0d2FyZQBNYXRwbG90\\\n",
              "bGliIHZlcnNpb24zLjcuMSwgaHR0cHM6Ly9tYXRwbG90bGliLm9yZy/bCgiHAAAACXBIWXMAAAsT\\\n",
              "AAALEwEAmpwYAAAIuklEQVR4nO3dPXMdZxnH4Xv36EiRkzghMImT4WUYkya4gA/gli4tH4I+H4CC\\\n",
              "ki9AQeMSilAywwyMB+oMBQMEAlWILZM3W46k87JLocyAkRSfIym7529fV7nrse5CO7/Z1T7PNn3f\\\n",
              "9wUAYdqxBwCA8xAwACIJGACRBAyASAIGQCQBAyCSgAEQScAAiCRgAEQSMAAiCRgAkQQMgEgCBkAk\\\n",
              "AQMgkoABEEnAAIgkYABEEjAAIgkYAJEEDIBIAgZAJAEDIJKAARBJwACIJGAARBIwACIJGACRBAyA\\\n",
              "SAIGQCQBAyCSgAEQScAAiCRgAEQSMAAiCRgAkQQMgEgCBkAkAQMgkoABEEnAAIgkYABEEjAAIgkY\\\n",
              "AJEEDIBIAgZAJAEDIJKAARBJwACIJGAARBIwACIJGACRBAyASAIGQCQBAyCSgAEQScAAiCRgAEQS\\\n",
              "MAAiCRgAkQQMgEgCBkAkAQMgkoABEEnAAIgkYABEEjAAIgkYAJEEDIBIAgZAJAEDIJKAARBJwACI\\\n",
              "JGAARBIwACIJGACRBAyASAIGQCQBAyCSgAEQScAAiCRgAEQSMAAiCRgAkQQMgEgCBkAkAQMgkoAB\\\n",
              "EEnAAIgkYABEEjAAIgkYAJEEDIBIAgZAJAEDIJKAARBJwACIJGAARBIwACIJGACRBAyASAIGQCQB\\\n",
              "AyCSgAEQScAAiCRgAEQSMAAiCRgAkQQMgEgCBkAkAQMgkoABEEnAAIgkYABEEjAAIgkYAJEEDIBI\\\n",
              "AgZAJAEDIJKAARBJwACIJGAARBIwACIJGACRBAyASAIGQCQBAyDS1tgDwNOo7/t6uPfP6hazE+ee\\\n",
              "ffnbNZnujDAVZBEwGEHfLeofv/15HX269+iJpqkbP/xx7b54bZzBIIhHiDCCbjGv6rqxx4BoAgYj\\\n",
              "6Bbz6nsBg4sQMBhBt5wJGFyQgMEI+sW8eo8Q4UIEDEYwP3xQ/XJ+4vhkulttOxlhIsgjYDCCw0/u\\\n",
              "1nJ2cOL47kuv1WTnyggTQR4Bgw3Sbm1X07gDg1UIGGyQdjKtal2WsApXCmyQZmtaTeOyhFW4UmBg\\\n",
              "fd+fea6dbAsYrMiVAmM4Yw1YO5lUNc3Aw0AmAYMRLE/ZxPdYU42AwUoEDAbXVzc/GnsIiCdgMLS+\\\n",
              "qlsIGFyUgMHg+lq6A4MLEzAYWF916ocsgfUIGAys75a1f+fvJ4437aSee+X6CBNBJgGDofVnPEJs\\\n",
              "mppeuTr8PBBKwGBjNNVu7Yw9BMQQMNggk6mAwaoEDDZE0zTVTrfHHgNiCBhsDI8QYR0CBgPrlvOq\\\n",
              "Mzb0tZEvrM7VAgM7XgN29o70wGoEDAbWLWbVn7EbPbA6AYOBdYujMx8hAqsTMBhYN59/4UctgdUI\\\n",
              "GAxstv9R9d3ixPHplavVtC5JWJWrBQZ2+Ond6pcnA3blq1+vdss6MFiVgMGGaLd2qnyNGVYmYLAh\\\n",
              "ju++BAxWJWCwIdqtbQuZYQ2uFhjQ8duHp7+B2E63PUKENQgYDKzvTl/E3LRbA08C2QQMhtT3n28l\\\n",
              "dbrGHRisTMBgQH3ffWHAgNUJGAyqP95KCrgwAYMh9X0t3YHBpRAwGFC3nNfRp3snjjftpLaf/coI\\\n",
              "E0EuAYMBdctFHd2/d+J4M5nWMy+8MsJEkEvAYAM0TWMfRFiTgMEmaNrjhczAygQMNoA7MFifgMEm\\\n",
              "EDBYm4DBkPoztpFqmmon04GHgWwCBgPqFvMzzthCCtYlYDCg5fzo8x3pgYsSMBjQ8TZSAgaXQcBg\\\n",
              "QN38SL/gkggYDGhx9FmdVrCmnfiUCqxJwGBADz54t/pueeL486++XtVORpgIcgkYDOmMrzG3013v\\\n",
              "IcKaBAw2wGS6U16lh/UIGGyAdrqtX7AmAYMNMNlyBwbrEjAYSN/31Z/xDn073Rl4GsgnYDCUvj/1\\\n",
              "DcSqqqZpvUYPaxIwGEjfd1+wFyKwLgGDgfR9V91SwOCybI09ACSbzWb1zjvv1HJ5+qPB/9V0i5p8\\\n",
              "9O9TX9V477336m8fP34h89WrV+vGjRvnmBSePE1va2w4t7t379b169fr4cOHj/23z+1u109/9IP6\\\n",
              "/uuvnjj3k1u361d/+Otj/4+bN2/W7du3zzUrPGncgcFAntvdrm+8/GJ9NL9Wd4++VVvNol575t2q\\\n",
              "+Yf1wYf7Y48HcQQMBrI93aqD7Rv15/s3a9kff335X0ffqW/2b9feJ4+/gwMe5SUOGMjB8mr9af9m\\\n",
              "LfvtOl603NRn3Qv1x/s362j++L+hAY8SMBhIX00t+5MvahwttwQMzkHAYCBts6yd9vDE8e26X0fz\\\n",
              "xQgTQTYBg4Hstg/qe8//pnbb+1XVVVPLemn6fn33yu9qJmCwtqfmJY47d+6MPQJPoHv37tWqK1E+\\\n",
              "vH9QP/vFL+ug+3V9PL9WbbOor03fr4PDBzVfnP6dsP83m838LnOprl27NvYI5/bUBOzWrVtjj8AT\\\n",
              "aH9/vxaL1e6e9g9m9fbv/3Khn7e3t+d3mUv11ltvjT3CuVnIDBewzkLmy2AhM/yXv4EBEEnAAIgk\\\n",
              "YABEEjAAIgkYAJEEDIBIT806MPgy7Ozs1JtvvlmHhye3iPoyvPHGG4P8HEhgHRgAkTxCBCCSgAEQ\\\n",
              "ScAAiCRgAEQSMAAiCRgAkQQMgEgCBkAkAQMgkoABEEnAAIgkYABEEjAAIgkYAJEEDIBIAgZAJAED\\\n",
              "IJKAARBJwACIJGAARBIwACIJGACRBAyASAIGQCQBAyCSgAEQScAAiCRgAEQSMAAiCRgAkQQMgEgC\\\n",
              "BkAkAQMgkoABEEnAAIgkYABEEjAAIgkYAJEEDIBIAgZAJAEDIJKAARBJwACIJGAARBIwACIJGACR\\\n",
              "BAyASAIGQCQBAyCSgAEQScAAiCRgAEQSMAAiCRgAkQQMgEgCBkAkAQMgkoABEEnAAIgkYABEEjAA\\\n",
              "IgkYAJEEDIBIAgZAJAEDIJKAARBJwACIJGAARBIwACIJGACRBAyASAIGQCQBAyCSgAEQScAAiCRg\\\n",
              "AEQSMAAiCRgAkQQMgEgCBkAkAQMg0n8Afi2IOjC1gjcAAAAASUVORK5CYII=\\\n",
              "\"\n",
              "  frames[4] = \"data:image/png;base64,iVBORw0KGgoAAAANSUhEUgAAAbAAAAEgCAYAAADVKCZpAAAAOXRFWHRTb2Z0d2FyZQBNYXRwbG90\\\n",
              "bGliIHZlcnNpb24zLjcuMSwgaHR0cHM6Ly9tYXRwbG90bGliLm9yZy/bCgiHAAAACXBIWXMAAAsT\\\n",
              "AAALEwEAmpwYAAAIeklEQVR4nO3dPY9cZxnH4fvMzPo1wTFItpGMojTIFhQI8QGQaCgsFLmgpoMv\\\n",
              "4Nqi5kO4yEdwhRuXKG6IhUBEJFjJiuAEZMvyy8Y7Lw/Fpkl27ZzxmnPmb19XeWa0c0v20U/n7Tld\\\n",
              "a60VAISZjD0AALwIAQMgkoABEEnAAIgkYABEEjAAIgkYAJEEDIBIAgZAJAEDIJKAARBJwACIJGAA\\\n",
              "RBIwACIJGACRBAyASAIGQCQBAyCSgAEQScAAiCRgAEQSMAAiCRgAkQQMgEgCBkAkAQMgkoABEEnA\\\n",
              "AIgkYABEEjAAIgkYAJEEDIBIAgZAJAEDIJKAARBJwACIJGAARBIwACIJGACRBAyASAIGQCQBAyCS\\\n",
              "gAEQScAAiCRgAEQSMAAiCRgAkQQMgEgCBkAkAQMgkoABEEnAAIgkYABEEjAAIgkYAJEEDIBIAgZA\\\n",
              "JAEDIJKAARBJwACIJGAARBIwACIJGACRBAyASAIGQCQBAyCSgAEQScAAiCRgAEQSMAAiCRgAkQQM\\\n",
              "gEgCBkAkAQMgkoABEEnAAIgkYABEEjAAIgkYAJEEDIBIAgZAJAEDIJKAARBJwACIJGAARBIwACIJ\\\n",
              "GACRBAyASAIGQCQBAyCSgAEQScAAiCRgAEQSMAAiCRgAkQQMgEgCBkAkAQMgkoABEEnAAIgkYABE\\\n",
              "EjAAIgkYAJEEDIBIAgZAJAEDIJKAARBJwACIJGAARBIwACIJGACRBAyASAIGQCQBAyCSgAEQScAA\\\n",
              "iCRgAEQSMAAiCRgAkQQMgEgCBkAkAQMgkoABEEnAAIgkYABEEjAAIs3GHgBeR621evzFnVotdvd9\\\n",
              "dvLMOzXdOjrCVJBFwGAEbbWsf968Vk8ffP71D7qufvzr39fxt86NMxgEcQoRRtCW86q2GnsMiCZg\\\n",
              "MILVclFNwOBQBAxG0JbzqpWAwWEIGIxg7wisjT0GRBMwGEFzChEOTcBgBIvdJ9WWi33bJ7Mj1XV2\\\n",
              "S+jDngIj2Ln3WS13n+zbfuK752t29OQIE0EeAYMN0k1nVRO7JfRhT4ENMpluVdd1Y48BEQQMNkg3\\\n",
              "nbkGBj3ZU2CDdNOtKgGDXuwpsEEmjsCgN3sKDGzvAeaDH2KeTGdVroFBLwIGIzjoGbA9nZs4oCcB\\\n",
              "gxEsD3gPGLAeAYPBtQNfZAmsR8BgaK2qLeZjTwHxBAwG12q1dAQGhyVgMAKnEOHwBAwG1lbL2rn3\\\n",
              "2f4Pukkde+vs8ANBKAGDgbXW6umje/u2d92kjn7nzAgTQSYBg03R7b0PDOhHwGBjdDWZbY09BMQQ\\\n",
              "MNggjsCgPwGDDdF1nYDBGgQMNshk6hQi9CVgMLR28Er0Vd3eavRALwIGA1st58+NGNCPgMHAVovd\\\n",
              "qrYaewyIJ2AwsNVyXu0ZL7QE+hMwGFhbPO8UItCXgMHAnn8NDOhLwGBgq8XuwacQOzdwwDoEDAb2\\\n",
              "6Is7tZo/3bf9jTPv1GTLg8zQl4DBwNpyceD26ZHj1XV2SejL3gIbYm8hX6cRoS8Bgw3RTbdcB4M1\\\n",
              "CBhsiMnsSHUCBr0JGGyIiSMwWIuAwYBaa1XPWIXDNTBYj4DBwNpqefAH3cQpRFiDgMGQWqvVYj72\\\n",
              "FPBKEDAYUKu2t5QUcGgCBkNyBAYvjYDBkFqr5ggMXgoBgwG15hQivCwCBgNqq0XNnzzY/0E3qdnR\\\n",
              "k8MPBMEEDAa0Ws5r596/9m2fzI7Uie+dH2EiyCVgsAG6rttbiQPoTcBgE3RddTMBg3UIGGyArhyB\\\n",
              "wboEDDZB1321FiLQl4DBJnANDNYmYDCkdvBK9F11ey+0BHoTMBjQM1fhsAo9rE3AYEDLxfyrd4IB\\\n",
              "hyVgMKDVYnfsEeCVIWAwoLbYrWe9kRlYj4DBgFbLXf2Cl2Q29gCQbnt7u7a3t3t9d/pwu7q2qm/e\\\n",
              "srG7u1u3bt2q1k2/9W9cvHixTp8+/QKTwqtFwOCQrl27VlevXu313d/96mf1m1/+pLrJ1xP2pw8+\\\n",
              "rCu//XnNl6tv/RvXr1+vS5cuvdCs8CoRMBjQ6TeP1bKO1Kc7P6wny1N1avZ5nTt6p+7ee1wrdyfC\\\n",
              "WgQMBjRvR+v2w1/Uf+fnq1VXXV2sB4sztTP/y7OecQaewU0cMKCPn/y0/jP/QbWaVFVXrab16Zc/\\\n",
              "qk8evj32aBBHwGBAi7ZV9Y1bOFpN6vFuVXN7IqxFwGBAxyeP6pv30U9qUW3x0ClEWJOAwYDeOXG7\\\n",
              "3j7215p2ew80b3Vf1oWT79ep+njs0SDOa3MTx927d8cegVfUo0ePen/3j+9/WH//5A91b/792lm9\\\n",
              "UW9O79et2Rf153/8u/ffuH//vv/PvDTnzp0be4QX9toE7L333ht7BF5Rt2/f7v3dDz66Wx98dLeq\\\n",
              "/vbCv3fz5k0B46W5cuXK2CO8sNcmYMn/SGy2nZ2dunHjxmC/d/nyZQ8yQ7kGBkAoAQMgkoABEEnA\\\n",
              "AIgkYABEEjAAIr02t9HD/8uFCxfq3XffHez3zp49O9hvwSbrWrMCGwB5nEIEIJKAARBJwACIJGAA\\\n",
              "RBIwACIJGACRBAyASAIGQCQBAyCSgAEQScAAiCRgAEQSMAAiCRgAkQQMgEgCBkAkAQMgkoABEEnA\\\n",
              "AIgkYABEEjAAIgkYAJEEDIBIAgZAJAEDIJKAARBJwACIJGAARBIwACIJGACRBAyASAIGQCQBAyCS\\\n",
              "gAEQScAAiCRgAEQSMAAiCRgAkQQMgEgCBkAkAQMgkoABEEnAAIgkYABEEjAAIgkYAJEEDIBIAgZA\\\n",
              "JAEDIJKAARBJwACIJGAARBIwACIJGACRBAyASAIGQCQBAyCSgAEQScAAiCRgAEQSMAAiCRgAkQQM\\\n",
              "gEgCBkAkAQMgkoABEEnAAIgkYABEEjAAIgkYAJEEDIBIAgZAJAEDIJKAARBJwACIJGAARBIwACIJ\\\n",
              "GACRBAyASAIGQCQBAyDS/wCpimK2GI7ALQAAAABJRU5ErkJggg==\\\n",
              "\"\n",
              "  frames[5] = \"data:image/png;base64,iVBORw0KGgoAAAANSUhEUgAAAbAAAAEgCAYAAADVKCZpAAAAOXRFWHRTb2Z0d2FyZQBNYXRwbG90\\\n",
              "bGliIHZlcnNpb24zLjcuMSwgaHR0cHM6Ly9tYXRwbG90bGliLm9yZy/bCgiHAAAACXBIWXMAAAsT\\\n",
              "AAALEwEAmpwYAAAID0lEQVR4nO3dsY5cVx3H8f+d3c3aXgORSCKDsGSQjIQbixeIUiH5CWioeQM/\\\n",
              "AS0vQG2LDpqkQxRIiNZRTBVFEJDACxbGVrxee3bmHoqt0G7wjGc4M7/s51PeWe2c5uqrc+bce4bW\\\n",
              "WisACDPZ9AAA4E0IGACRBAyASAIGQCQBAyCSgAEQScAAiCRgAEQSMAAiCRgAkQQMgEgCBkAkAQMg\\\n",
              "koABEEnAAIgkYABEEjAAIgkYAJEEDIBIAgZAJAEDIJKAARBJwACIJGAARBIwACIJGACRBAyASAIG\\\n",
              "QCQBAyCSgAEQScAAiCRgAEQSMAAiCRgAkQQMgEgCBkAkAQMgkoABEEnAAIgkYABEEjAAIgkYAJEE\\\n",
              "DIBIAgZAJAEDIJKAARBJwACIJGAARBIwACIJGACRBAyASAIGQCQBAyCSgAEQScAAiCRgAEQSMAAi\\\n",
              "CRgAkQQMgEgCBkAkAQMgkoABEEnAAIgkYABEEjAAIgkYAJEEDIBIAgZAJAEDIJKAARBJwACIJGAA\\\n",
              "RBIwACIJGACRBAyASAIGQCQBAyCSgAEQScAAiCRgAEQSMAAiCRgAkQQMgEgCBkAkAQMgkoABEEnA\\\n",
              "AIgkYABEEjAAIgkYAJEEDIBIAgZAJAEDIJKAARBJwACIJGAARBIwACIJGACRBAyASAIGQCQBAyCS\\\n",
              "gAEQScAAiCRgAEQSMAAiCRgAkQQMgEgCBkAkAQMgkoABEEnAAIgkYABEEjAAIgkYAJEEDIBIAgZA\\\n",
              "JAEDIJKAARBJwACIJGAARBIwACIJGACRBAyASAIGQCQBAyCSgAEQaXfTA4CLaHr0tF4+PTxzfe/g\\\n",
              "7br89rUNjAjyCBh01lqrf3/+cf31978889m7P3i/brz/kw2MCvJYQoQNaON800OAeAIGG9Dms00P\\\n",
              "AeIJGHTXzMBgDQQMNkDAYHUCBr21qjZaQoRVCRhswDg3A4NVCRh018zAYA0EDDbAb2CwOgGDDRAw\\\n",
              "WJ2AQWetNc+BwRoIGHTW2ljP//GnM9eHYVIH793oPyAIJWDQW2s1P3l59vow1O7+Qf/xQCgBg60x\\\n",
              "1DDZ2fQgIIaAwbYYqoYdB0TAogQMtogZGCxOwGBrWEKEZQgYbJFhYgkRFiVgsCWGqprsmIHBogQM\\\n",
              "tsUwmIHBEgQMtojfwGBxAgZbxAwMFidgsDWGGvwGBgsTMOisjWNVtXM/G2roOxgIJmDQWRvnX9Yv\\\n",
              "YAkCBp2dnsasYLAqAYPOTmdgAgarEjDorI1z8y9YAwGDzto4L0uIsDoBg85s4oD1EDDozAwM1kPA\\\n",
              "oLM2zqvZxAErEzDo7HQGBqxKwKCzcT47fxv94C0csAwBg86OHn9e4+zVmesH796oye5bGxgRZBIw\\\n",
              "6KzNZ+de39nbNwuDJQgYbIlhslODgMHCBAy2xOlhlgIGixIw2BLDzo5+wRIEDLbE6WnMCgaLEjDY\\\n",
              "EsPE7QjLcMfAlhgmuzZxwBIEDLaETRywHAGDLTFMbOKAZQgYbAkzMFiOgEFHp2+hP/9N9KcBAxYl\\\n",
              "YNDZ/3obvU0csDgBg66a41RgTQQMemrOA4N1ETDoqlWbCxisg4BBR621GpuAwToIGHRmBgbrIWDQ\\\n",
              "U7OJA9ZFwKArAYN1ETDoqJVdiLAuAgY9WUKEtREw6Km1Gmevzv1o4lVSsBQBg47G2as6evyXM9cn\\\n",
              "e/t18N6N/gOCYAIGHbWqqjae88lQw85e59FANgGDLTAMg7fRw5J2Nz0ASDefz+vBgwc1nU5f+7fD\\\n",
              "7Lh25uOZU79ms3l98vCPVZcfvfZ/XLlypW7fvu3N9Vx4Qzs9oAh4Q0dHR3Xz5s169Oj18fnm1y/X\\\n",
              "r3/247q8/9/Lhc+OXtZPf/5h/fnR09f+j1u3btXDhw9rMrGAwsVmBgbdDfX05J06nH6vhhrr2/uf\\\n",
              "VWuHNZuf99sY8GUEDDpqNdTj6Xfq0+mP6qTtV1XV3199v747fCRgsCRrENDRdLxUnzz/oE7apaoa\\\n",
              "qmqol+PV+viLD2o6czvCMtwx0NVQ83Z2u/xs3KsTMzBYioBBR8Mw1qXJ0ZnrlyZf1NwxK7AUAYOO\\\n",
              "3hpe1g+/9pu6uvOkhhprqHl9Y/efdfvqb2scTzY9PIhyYTZxHB4ebnoIfEUdHx/XOC62/Pf8eFq/\\\n",
              "+NVHNavf1b9OvlXD0Oqdvb/VePK8pieLzcBms1kdHh7aRs9aXLt2bdNDeGMXJmD37t3b9BD4ippO\\\n",
              "p/XixYuF/vbVybw+/MOnK33fs2fP6v79+x5kZi3u3r276SG8MQ8yw4qWeZB5HTzIDKfcAQBEEjAA\\\n",
              "IgkYAJEEDIBIAgZAJAEDINKFeQ4M/l92d3frzp079eTJky7fd/369S7fA9vOc2AARLKECEAkAQMg\\\n",
              "koABEEnAAIgkYABEEjAAIgkYAJEEDIBIAgZAJAEDIJKAARBJwACIJGAARBIwACIJGACRBAyASAIG\\\n",
              "QCQBAyCSgAEQScAAiCRgAEQSMAAiCRgAkQQMgEgCBkAkAQMgkoABEEnAAIgkYABEEjAAIgkYAJEE\\\n",
              "DIBIAgZAJAEDIJKAARBJwACIJGAARBIwACIJGACRBAyASAIGQCQBAyCSgAEQScAAiCRgAEQSMAAi\\\n",
              "CRgAkQQMgEgCBkAkAQMgkoABEEnAAIgkYABEEjAAIgkYAJEEDIBIAgZAJAEDIJKAARBJwACIJGAA\\\n",
              "RBIwACIJGACRBAyASAIGQCQBAyCSgAEQScAAiCRgAEQSMAAiCRgAkQQMgEgCBkAkAQMgkoABEEnA\\\n",
              "AIgkYABEEjAAIgkYAJEEDIBIAgZApP8AEJtkTB17zLIAAAAASUVORK5CYII=\\\n",
              "\"\n",
              "  frames[6] = \"data:image/png;base64,iVBORw0KGgoAAAANSUhEUgAAAbAAAAEgCAYAAADVKCZpAAAAOXRFWHRTb2Z0d2FyZQBNYXRwbG90\\\n",
              "bGliIHZlcnNpb24zLjcuMSwgaHR0cHM6Ly9tYXRwbG90bGliLm9yZy/bCgiHAAAACXBIWXMAAAsT\\\n",
              "AAALEwEAmpwYAAAID0lEQVR4nO3dsY5cVx3H8f+d3c3aXgORSCKDsGSQjIQbixeIUiH5CWioeQM/\\\n",
              "AS0vQG2LDpqkQxRIiNZRTBVFEJDACxbGVrxee3bmHoqt0G7wjGc4M7/s51PeWe2c5uqrc+bce4bW\\\n",
              "WisACDPZ9AAA4E0IGACRBAyASAIGQCQBAyCSgAEQScAAiCRgAEQSMAAiCRgAkQQMgEgCBkAkAQMg\\\n",
              "koABEEnAAIgkYABEEjAAIgkYAJEEDIBIAgZAJAEDIJKAARBJwACIJGAARBIwACIJGACRBAyASAIG\\\n",
              "QCQBAyCSgAEQScAAiCRgAEQSMAAiCRgAkQQMgEgCBkAkAQMgkoABEEnAAIgkYABEEjAAIgkYAJEE\\\n",
              "DIBIAgZAJAEDIJKAARBJwACIJGAARBIwACIJGACRBAyASAIGQCQBAyCSgAEQScAAiCRgAEQSMAAi\\\n",
              "CRgAkQQMgEgCBkAkAQMgkoABEEnAAIgkYABEEjAAIgkYAJEEDIBIAgZAJAEDIJKAARBJwACIJGAA\\\n",
              "RBIwACIJGACRBAyASAIGQCQBAyCSgAEQScAAiCRgAEQSMAAiCRgAkQQMgEgCBkAkAQMgkoABEEnA\\\n",
              "AIgkYABEEjAAIgkYAJEEDIBIAgZAJAEDIJKAARBJwACIJGAARBIwACIJGACRBAyASAIGQCQBAyCS\\\n",
              "gAEQScAAiCRgAEQSMAAiCRgAkQQMgEgCBkAkAQMgkoABEEnAAIgkYABEEjAAIgkYAJEEDIBIAgZA\\\n",
              "JAEDIJKAARBJwACIJGAARBIwACIJGACRBAyASAIGQCQBAyCSgAEQaXfTA4CLaHr0tF4+PTxzfe/g\\\n",
              "7br89rUNjAjyCBh01lqrf3/+cf31978889m7P3i/brz/kw2MCvJYQoQNaON800OAeAIGG9Dms00P\\\n",
              "AeIJGHTXzMBgDQQMNkDAYHUCBr21qjZaQoRVCRhswDg3A4NVCRh018zAYA0EDDbAb2CwOgGDDRAw\\\n",
              "WJ2AQWetNc+BwRoIGHTW2ljP//GnM9eHYVIH793oPyAIJWDQW2s1P3l59vow1O7+Qf/xQCgBg60x\\\n",
              "1DDZ2fQgIIaAwbYYqoYdB0TAogQMtogZGCxOwGBrWEKEZQgYbJFhYgkRFiVgsCWGqprsmIHBogQM\\\n",
              "tsUwmIHBEgQMtojfwGBxAgZbxAwMFidgsDWGGvwGBgsTMOisjWNVtXM/G2roOxgIJmDQWRvnX9Yv\\\n",
              "YAkCBp2dnsasYLAqAYPOTmdgAgarEjDorI1z8y9YAwGDzto4L0uIsDoBg85s4oD1EDDozAwM1kPA\\\n",
              "oLM2zqvZxAErEzDo7HQGBqxKwKCzcT47fxv94C0csAwBg86OHn9e4+zVmesH796oye5bGxgRZBIw\\\n",
              "6KzNZ+de39nbNwuDJQgYbIlhslODgMHCBAy2xOlhlgIGixIw2BLDzo5+wRIEDLbE6WnMCgaLEjDY\\\n",
              "EsPE7QjLcMfAlhgmuzZxwBIEDLaETRywHAGDLTFMbOKAZQgYbAkzMFiOgEFHp2+hP/9N9KcBAxYl\\\n",
              "YNDZ/3obvU0csDgBg66a41RgTQQMemrOA4N1ETDoqlWbCxisg4BBR621GpuAwToIGHRmBgbrIWDQ\\\n",
              "U7OJA9ZFwKArAYN1ETDoqJVdiLAuAgY9WUKEtREw6Km1Gmevzv1o4lVSsBQBg47G2as6evyXM9cn\\\n",
              "e/t18N6N/gOCYAIGHbWqqjae88lQw85e59FANgGDLTAMg7fRw5J2Nz0ASDefz+vBgwc1nU5f+7fD\\\n",
              "7Lh25uOZU79ms3l98vCPVZcfvfZ/XLlypW7fvu3N9Vx4Qzs9oAh4Q0dHR3Xz5s169Oj18fnm1y/X\\\n",
              "r3/247q8/9/Lhc+OXtZPf/5h/fnR09f+j1u3btXDhw9rMrGAwsVmBgbdDfX05J06nH6vhhrr2/uf\\\n",
              "VWuHNZuf99sY8GUEDDpqNdTj6Xfq0+mP6qTtV1XV3199v747fCRgsCRrENDRdLxUnzz/oE7apaoa\\\n",
              "qmqol+PV+viLD2o6czvCMtwx0NVQ83Z2u/xs3KsTMzBYioBBR8Mw1qXJ0ZnrlyZf1NwxK7AUAYOO\\\n",
              "3hpe1g+/9pu6uvOkhhprqHl9Y/efdfvqb2scTzY9PIhyYTZxHB4ebnoIfEUdHx/XOC62/Pf8eFq/\\\n",
              "+NVHNavf1b9OvlXD0Oqdvb/VePK8pieLzcBms1kdHh7aRs9aXLt2bdNDeGMXJmD37t3b9BD4ippO\\\n",
              "p/XixYuF/vbVybw+/MOnK33fs2fP6v79+x5kZi3u3r276SG8MQ8yw4qWeZB5HTzIDKfcAQBEEjAA\\\n",
              "IgkYAJEEDIBIAgZAJAEDINKFeQ4M/l92d3frzp079eTJky7fd/369S7fA9vOc2AARLKECEAkAQMg\\\n",
              "koABEEnAAIgkYABEEjAAIgkYAJEEDIBIAgZAJAEDIJKAARBJwACIJGAARBIwACIJGACRBAyASAIG\\\n",
              "QCQBAyCSgAEQScAAiCRgAEQSMAAiCRgAkQQMgEgCBkAkAQMgkoABEEnAAIgkYABEEjAAIgkYAJEE\\\n",
              "DIBIAgZAJAEDIJKAARBJwACIJGAARBIwACIJGACRBAyASAIGQCQBAyCSgAEQScAAiCRgAEQSMAAi\\\n",
              "CRgAkQQMgEgCBkAkAQMgkoABEEnAAIgkYABEEjAAIgkYAJEEDIBIAgZAJAEDIJKAARBJwACIJGAA\\\n",
              "RBIwACIJGACRBAyASAIGQCQBAyCSgAEQScAAiCRgAEQSMAAiCRgAkQQMgEgCBkAkAQMgkoABEEnA\\\n",
              "AIgkYABEEjAAIgkYAJEEDIBIAgZApP8AEJtkTB17zLIAAAAASUVORK5CYII=\\\n",
              "\"\n",
              "  frames[7] = \"data:image/png;base64,iVBORw0KGgoAAAANSUhEUgAAAbAAAAEgCAYAAADVKCZpAAAAOXRFWHRTb2Z0d2FyZQBNYXRwbG90\\\n",
              "bGliIHZlcnNpb24zLjcuMSwgaHR0cHM6Ly9tYXRwbG90bGliLm9yZy/bCgiHAAAACXBIWXMAAAsT\\\n",
              "AAALEwEAmpwYAAAID0lEQVR4nO3dsY5cVx3H8f+d3c3aXgORSCKDsGSQjIQbixeIUiH5CWioeQM/\\\n",
              "AS0vQG2LDpqkQxRIiNZRTBVFEJDACxbGVrxee3bmHoqt0G7wjGc4M7/s51PeWe2c5uqrc+bce4bW\\\n",
              "WisACDPZ9AAA4E0IGACRBAyASAIGQCQBAyCSgAEQScAAiCRgAEQSMAAiCRgAkQQMgEgCBkAkAQMg\\\n",
              "koABEEnAAIgkYABEEjAAIgkYAJEEDIBIAgZAJAEDIJKAARBJwACIJGAARBIwACIJGACRBAyASAIG\\\n",
              "QCQBAyCSgAEQScAAiCRgAEQSMAAiCRgAkQQMgEgCBkAkAQMgkoABEEnAAIgkYABEEjAAIgkYAJEE\\\n",
              "DIBIAgZAJAEDIJKAARBJwACIJGAARBIwACIJGACRBAyASAIGQCQBAyCSgAEQScAAiCRgAEQSMAAi\\\n",
              "CRgAkQQMgEgCBkAkAQMgkoABEEnAAIgkYABEEjAAIgkYAJEEDIBIAgZAJAEDIJKAARBJwACIJGAA\\\n",
              "RBIwACIJGACRBAyASAIGQCQBAyCSgAEQScAAiCRgAEQSMAAiCRgAkQQMgEgCBkAkAQMgkoABEEnA\\\n",
              "AIgkYABEEjAAIgkYAJEEDIBIAgZAJAEDIJKAARBJwACIJGAARBIwACIJGACRBAyASAIGQCQBAyCS\\\n",
              "gAEQScAAiCRgAEQSMAAiCRgAkQQMgEgCBkAkAQMgkoABEEnAAIgkYABEEjAAIgkYAJEEDIBIAgZA\\\n",
              "JAEDIJKAARBJwACIJGAARBIwACIJGACRBAyASAIGQCQBAyCSgAEQaXfTA4CLaHr0tF4+PTxzfe/g\\\n",
              "7br89rUNjAjyCBh01lqrf3/+cf31978889m7P3i/brz/kw2MCvJYQoQNaON800OAeAIGG9Dms00P\\\n",
              "AeIJGHTXzMBgDQQMNkDAYHUCBr21qjZaQoRVCRhswDg3A4NVCRh018zAYA0EDDbAb2CwOgGDDRAw\\\n",
              "WJ2AQWetNc+BwRoIGHTW2ljP//GnM9eHYVIH793oPyAIJWDQW2s1P3l59vow1O7+Qf/xQCgBg60x\\\n",
              "1DDZ2fQgIIaAwbYYqoYdB0TAogQMtogZGCxOwGBrWEKEZQgYbJFhYgkRFiVgsCWGqprsmIHBogQM\\\n",
              "tsUwmIHBEgQMtojfwGBxAgZbxAwMFidgsDWGGvwGBgsTMOisjWNVtXM/G2roOxgIJmDQWRvnX9Yv\\\n",
              "YAkCBp2dnsasYLAqAYPOTmdgAgarEjDorI1z8y9YAwGDzto4L0uIsDoBg85s4oD1EDDozAwM1kPA\\\n",
              "oLM2zqvZxAErEzDo7HQGBqxKwKCzcT47fxv94C0csAwBg86OHn9e4+zVmesH796oye5bGxgRZBIw\\\n",
              "6KzNZ+de39nbNwuDJQgYbIlhslODgMHCBAy2xOlhlgIGixIw2BLDzo5+wRIEDLbE6WnMCgaLEjDY\\\n",
              "EsPE7QjLcMfAlhgmuzZxwBIEDLaETRywHAGDLTFMbOKAZQgYbAkzMFiOgEFHp2+hP/9N9KcBAxYl\\\n",
              "YNDZ/3obvU0csDgBg66a41RgTQQMemrOA4N1ETDoqlWbCxisg4BBR621GpuAwToIGHRmBgbrIWDQ\\\n",
              "U7OJA9ZFwKArAYN1ETDoqJVdiLAuAgY9WUKEtREw6Km1Gmevzv1o4lVSsBQBg47G2as6evyXM9cn\\\n",
              "e/t18N6N/gOCYAIGHbWqqjae88lQw85e59FANgGDLTAMg7fRw5J2Nz0ASDefz+vBgwc1nU5f+7fD\\\n",
              "7Lh25uOZU79ms3l98vCPVZcfvfZ/XLlypW7fvu3N9Vx4Qzs9oAh4Q0dHR3Xz5s169Oj18fnm1y/X\\\n",
              "r3/247q8/9/Lhc+OXtZPf/5h/fnR09f+j1u3btXDhw9rMrGAwsVmBgbdDfX05J06nH6vhhrr2/uf\\\n",
              "VWuHNZuf99sY8GUEDDpqNdTj6Xfq0+mP6qTtV1XV3199v747fCRgsCRrENDRdLxUnzz/oE7apaoa\\\n",
              "qmqol+PV+viLD2o6czvCMtwx0NVQ83Z2u/xs3KsTMzBYioBBR8Mw1qXJ0ZnrlyZf1NwxK7AUAYOO\\\n",
              "3hpe1g+/9pu6uvOkhhprqHl9Y/efdfvqb2scTzY9PIhyYTZxHB4ebnoIfEUdHx/XOC62/Pf8eFq/\\\n",
              "+NVHNavf1b9OvlXD0Oqdvb/VePK8pieLzcBms1kdHh7aRs9aXLt2bdNDeGMXJmD37t3b9BD4ippO\\\n",
              "p/XixYuF/vbVybw+/MOnK33fs2fP6v79+x5kZi3u3r276SG8MQ8yw4qWeZB5HTzIDKfcAQBEEjAA\\\n",
              "IgkYAJEEDIBIAgZAJAEDINKFeQ4M/l92d3frzp079eTJky7fd/369S7fA9vOc2AARLKECEAkAQMg\\\n",
              "koABEEnAAIgkYABEEjAAIgkYAJEEDIBIAgZAJAEDIJKAARBJwACIJGAARBIwACIJGACRBAyASAIG\\\n",
              "QCQBAyCSgAEQScAAiCRgAEQSMAAiCRgAkQQMgEgCBkAkAQMgkoABEEnAAIgkYABEEjAAIgkYAJEE\\\n",
              "DIBIAgZAJAEDIJKAARBJwACIJGAARBIwACIJGACRBAyASAIGQCQBAyCSgAEQScAAiCRgAEQSMAAi\\\n",
              "CRgAkQQMgEgCBkAkAQMgkoABEEnAAIgkYABEEjAAIgkYAJEEDIBIAgZAJAEDIJKAARBJwACIJGAA\\\n",
              "RBIwACIJGACRBAyASAIGQCQBAyCSgAEQScAAiCRgAEQSMAAiCRgAkQQMgEgCBkAkAQMgkoABEEnA\\\n",
              "AIgkYABEEjAAIgkYAJEEDIBIAgZApP8AEJtkTB17zLIAAAAASUVORK5CYII=\\\n",
              "\"\n",
              "  frames[8] = \"data:image/png;base64,iVBORw0KGgoAAAANSUhEUgAAAbAAAAEgCAYAAADVKCZpAAAAOXRFWHRTb2Z0d2FyZQBNYXRwbG90\\\n",
              "bGliIHZlcnNpb24zLjcuMSwgaHR0cHM6Ly9tYXRwbG90bGliLm9yZy/bCgiHAAAACXBIWXMAAAsT\\\n",
              "AAALEwEAmpwYAAAIZklEQVR4nO3dT68bVx3H4d/Yzk3StFBKQaGiQlQKiwop4h10hdQ3AK+CZV8A\\\n",
              "4h2wY8Wi3cIGEAuQEJtuq1KJRUUBodLe/gskzb3JtT1zWFwkVDlt7Poy42/zPMuxZZ/N6KNzPOe4\\\n",
              "a621AoAws6kHAACfh4ABEEnAAIgkYABEEjAAIgkYAJEEDIBIAgZAJAEDIJKAARBJwACIJGAARBIw\\\n",
              "ACIJGACRBAyASAIGQCQBAyCSgAEQScAAiCRgAEQSMAAiCRgAkQQMgEgCBkAkAQMgkoABEEnAAIgk\\\n",
              "YABEEjAAIgkYAJEEDIBIAgZAJAEDIJKAARBJwACIJGAARBIwACIJGACRBAyASAIGQCQBAyCSgAEQ\\\n",
              "ScAAiCRgAEQSMAAiCRgAkQQMgEgCBkAkAQMgkoABEEnAAIgkYABEEjAAIgkYAJEEDIBIAgZAJAED\\\n",
              "IJKAARBJwACIJGAARBIwACIJGACRBAyASAIGQCQBAyCSgAEQScAAiCRgAEQSMAAiCRgAkQQMgEgC\\\n",
              "BkAkAQMgkoABEEnAAIgkYABEEjAAIgkYAJEEDIBIAgZAJAEDIJKAARBJwACIJGAARBIwACIJGACR\\\n",
              "BAyASAIGQCQBAyCSgAEQScAAiCRgAEQSMAAiCRgAkQQMgEgCBkAkAQMgkoABEEnAAIgkYABEEjAA\\\n",
              "IgkYAJEEDIBIAgZAJAEDIJKAARBJwACIJGAARBIwACIJGACRBAyASAIGQCQBAyCSgAEQScAAiCRg\\\n",
              "AEQSMAAiCRgAkQQMgEgCBkAkAQMgkoABEEnAAIgkYABEEjAAIgkYAJEWUw8AHkWttTp5/281rJcb\\\n",
              "r137+rdrfunyBKOCLAIGE2hDX3/9w8/r7PZ7n3yh6+q7P/hxXX3y+jQDgyCWEGECbeir2jD1MCCa\\\n",
              "gMEEWr+u1trUw4BoAgYTOJ+BCRjsQ8BgAsOwtoQIexIwmEAbekuIsCcBgwm03gwM9iVgMAEzMNif\\\n",
              "gMEEzj7+sPrV/Y3rR9eeqvnCJmbYhoDBBFand6r1q43rR9eerNmlowlGBHkEDA5IN1+U2xK2406B\\\n",
              "A9LN5tV13dTDgAgCBgekmy+qBAy2ImBwQM5nYG5L2IY7BQ7IbGYGBtsSMDgg3dxvYLAtAYORfdYG\\\n",
              "5m62qLKECFtxp8AE2qccI9V1MzMw2JKAwQQetIkZ2I2AwQSGfj31ECCegMHomhkYXAABg7G1qkHA\\\n",
              "YG8CBqNrNawtIcK+BAwmYAkR9idgMIE2mIHBvgQMRtaGvk4+/MfmC92srj71zPgDglACBiNrrdXq\\\n",
              "9M7G9a6b1dG1r0wwIsgkYHBAuvmlqYcAMQQMDkVXNZsvph4FxBAwOBidGRjsQMDggJiBwfYEDA5E\\\n",
              "15mBwS4EDA7IbCFgsC0BgwMym1lChG0JGIzs/M8sH/SvzF11M7ckbMvdAiNr/frB/aqqKv/GDNsS\\\n",
              "MBhZ69f1GQUDtiRgMLJhWFdrAgb7EjAYmRkYXAwBg5EN/brKDAz2JmAwsiZgcCEEDEbWhpUFRLgA\\\n",
              "AgYjW98/qTb0G9fnR1eqOo/Rw7YEDEZ2+tHb1frVxvVrX/tWzRZHE4wIMgkYHIhutqjODAy2JmBw\\\n",
              "IM5Pohcw2JaAwYGYzRd+A4MdCBgciE7AYCcCBgdiNl9YQIQdCBgcCDMw2I2AwYjOD/F98DbmbrYo\\\n",
              "D3HA9gQMRvZpJ9F3s/nII4FsAgajav89jf7B7AOD7QkYjKl9dsCA7QkYjKhV1TBsHiMF7E7AYEyt\\\n",
              "Ves3D/IFdidgMKbWanjAQb7A7gQMRuU3MLgoAgYjaq3VMAgYXAQBgxG1oa/16Z3NF7pZLS5fG39A\\\n",
              "EGwx9QAgXd/39dprr9VyuXzoe7v1vZp/+PbGeRutm9db7/yr3rrz6kM/47HHHqubN2/aM8Yjr2uf\\\n",
              "diwAsJWTk5O6ceNGvfvuuw9971e/dLV++ZMf1tXLlz5x/ePTs/rRT39bf/77Bw/9jOeff77eeOON\\\n",
              "ms0soPBoMwOD0XX179XTdbx8rroa6pnLf6nW3qvVyuP1sAsBgxG16uqD5TfrzeX3a9UuV1XVO2ff\\\n",
              "qedmv6llP0w8OshiDQJGtByu1J/uvlCrdqXOT57v6v7weL3+8Qt1ZnsY7ETAYFRd9e3SxtXVsKjl\\\n",
              "2gwMdiFgMKKuG+rK7GTj+uXubq3WfgODXQgYjOiou1/fe+J39fj8VnU1VFd9fXnxft184vfV9w9/\\\n",
              "DB/4n0fmIY7j4+Oph8AX1L1792oYtlv+u3tvWT/7xa9rXX+sj1bfqK5r9fSlf9awultny+1O6Fiv\\\n",
              "13V8fOwxei7E9evXpx7C5/bIBOzll1+eegh8QS2Xyzo9Pd3qvWervn716pt7fd/t27frlVdesZGZ\\\n",
              "C/HSSy9NPYTPzUZm2NMuG5kvgo3McM4dAEAkAQMgkoABEEnAAIgkYABEEjAAIj0y+8Dg/2WxWNSL\\\n",
              "L75Yt27dGuX7nn322VG+Bw6dfWAARLKECEAkAQMgkoABEEnAAIgkYABEEjAAIgkYAJEEDIBIAgZA\\\n",
              "JAEDIJKAARBJwACIJGAARBIwACIJGACRBAyASAIGQCQBAyCSgAEQScAAiCRgAEQSMAAiCRgAkQQM\\\n",
              "gEgCBkAkAQMgkoABEEnAAIgkYABEEjAAIgkYAJEEDIBIAgZAJAEDIJKAARBJwACIJGAARBIwACIJ\\\n",
              "GACRBAyASAIGQCQBAyCSgAEQScAAiCRgAEQSMAAiCRgAkQQMgEgCBkAkAQMgkoABEEnAAIgkYABE\\\n",
              "EjAAIgkYAJEEDIBIAgZAJAEDIJKAARBJwACIJGAARBIwACIJGACRBAyASAIGQCQBAyCSgAEQScAA\\\n",
              "iCRgAEQSMAAiCRgAkQQMgEgCBkAkAQMgkoABEEnAAIgkYABEEjAAIgkYAJEEDIBIAgZApP8AumZ+\\\n",
              "C60eNCoAAAAASUVORK5CYII=\\\n",
              "\"\n",
              "  frames[9] = \"data:image/png;base64,iVBORw0KGgoAAAANSUhEUgAAAbAAAAEgCAYAAADVKCZpAAAAOXRFWHRTb2Z0d2FyZQBNYXRwbG90\\\n",
              "bGliIHZlcnNpb24zLjcuMSwgaHR0cHM6Ly9tYXRwbG90bGliLm9yZy/bCgiHAAAACXBIWXMAAAsT\\\n",
              "AAALEwEAmpwYAAAIZklEQVR4nO3dT68bVx3H4d/Yzk3StFBKQaGiQlQKiwop4h10hdQ3AK+CZV8A\\\n",
              "4h2wY8Wi3cIGEAuQEJtuq1KJRUUBodLe/gskzb3JtT1zWFwkVDlt7Poy42/zPMuxZZ/N6KNzPOe4\\\n",
              "a621AoAws6kHAACfh4ABEEnAAIgkYABEEjAAIgkYAJEEDIBIAgZAJAEDIJKAARBJwACIJGAARBIw\\\n",
              "ACIJGACRBAyASAIGQCQBAyCSgAEQScAAiCRgAEQSMAAiCRgAkQQMgEgCBkAkAQMgkoABEEnAAIgk\\\n",
              "YABEEjAAIgkYAJEEDIBIAgZAJAEDIJKAARBJwACIJGAARBIwACIJGACRBAyASAIGQCQBAyCSgAEQ\\\n",
              "ScAAiCRgAEQSMAAiCRgAkQQMgEgCBkAkAQMgkoABEEnAAIgkYABEEjAAIgkYAJEEDIBIAgZAJAED\\\n",
              "IJKAARBJwACIJGAARBIwACIJGACRBAyASAIGQCQBAyCSgAEQScAAiCRgAEQSMAAiCRgAkQQMgEgC\\\n",
              "BkAkAQMgkoABEEnAAIgkYABEEjAAIgkYAJEEDIBIAgZAJAEDIJKAARBJwACIJGAARBIwACIJGACR\\\n",
              "BAyASAIGQCQBAyCSgAEQScAAiCRgAEQSMAAiCRgAkQQMgEgCBkAkAQMgkoABEEnAAIgkYABEEjAA\\\n",
              "IgkYAJEEDIBIAgZAJAEDIJKAARBJwACIJGAARBIwACIJGACRBAyASAIGQCQBAyCSgAEQScAAiCRg\\\n",
              "AEQSMAAiCRgAkQQMgEgCBkAkAQMgkoABEEnAAIgkYABEEjAAIgkYAJEWUw8AHkWttTp5/281rJcb\\\n",
              "r137+rdrfunyBKOCLAIGE2hDX3/9w8/r7PZ7n3yh6+q7P/hxXX3y+jQDgyCWEGECbeir2jD1MCCa\\\n",
              "gMEEWr+u1trUw4BoAgYTOJ+BCRjsQ8BgAsOwtoQIexIwmEAbekuIsCcBgwm03gwM9iVgMAEzMNif\\\n",
              "gMEEzj7+sPrV/Y3rR9eeqvnCJmbYhoDBBFand6r1q43rR9eerNmlowlGBHkEDA5IN1+U2xK2406B\\\n",
              "A9LN5tV13dTDgAgCBgekmy+qBAy2ImBwQM5nYG5L2IY7BQ7IbGYGBtsSMDgg3dxvYLAtAYORfdYG\\\n",
              "5m62qLKECFtxp8AE2qccI9V1MzMw2JKAwQQetIkZ2I2AwQSGfj31ECCegMHomhkYXAABg7G1qkHA\\\n",
              "YG8CBqNrNawtIcK+BAwmYAkR9idgMIE2mIHBvgQMRtaGvk4+/MfmC92srj71zPgDglACBiNrrdXq\\\n",
              "9M7G9a6b1dG1r0wwIsgkYHBAuvmlqYcAMQQMDkVXNZsvph4FxBAwOBidGRjsQMDggJiBwfYEDA5E\\\n",
              "15mBwS4EDA7IbCFgsC0BgwMym1lChG0JGIzs/M8sH/SvzF11M7ckbMvdAiNr/frB/aqqKv/GDNsS\\\n",
              "MBhZ69f1GQUDtiRgMLJhWFdrAgb7EjAYmRkYXAwBg5EN/brKDAz2JmAwsiZgcCEEDEbWhpUFRLgA\\\n",
              "AgYjW98/qTb0G9fnR1eqOo/Rw7YEDEZ2+tHb1frVxvVrX/tWzRZHE4wIMgkYHIhutqjODAy2JmBw\\\n",
              "IM5Pohcw2JaAwYGYzRd+A4MdCBgciE7AYCcCBgdiNl9YQIQdCBgcCDMw2I2AwYjOD/F98DbmbrYo\\\n",
              "D3HA9gQMRvZpJ9F3s/nII4FsAgajav89jf7B7AOD7QkYjKl9dsCA7QkYjKhV1TBsHiMF7E7AYEyt\\\n",
              "Ves3D/IFdidgMKbWanjAQb7A7gQMRuU3MLgoAgYjaq3VMAgYXAQBgxG1oa/16Z3NF7pZLS5fG39A\\\n",
              "EGwx9QAgXd/39dprr9VyuXzoe7v1vZp/+PbGeRutm9db7/yr3rrz6kM/47HHHqubN2/aM8Yjr2uf\\\n",
              "diwAsJWTk5O6ceNGvfvuuw9971e/dLV++ZMf1tXLlz5x/ePTs/rRT39bf/77Bw/9jOeff77eeOON\\\n",
              "ms0soPBoMwOD0XX179XTdbx8rroa6pnLf6nW3qvVyuP1sAsBgxG16uqD5TfrzeX3a9UuV1XVO2ff\\\n",
              "qedmv6llP0w8OshiDQJGtByu1J/uvlCrdqXOT57v6v7weL3+8Qt1ZnsY7ETAYFRd9e3SxtXVsKjl\\\n",
              "2gwMdiFgMKKuG+rK7GTj+uXubq3WfgODXQgYjOiou1/fe+J39fj8VnU1VFd9fXnxft184vfV9w9/\\\n",
              "DB/4n0fmIY7j4+Oph8AX1L1792oYtlv+u3tvWT/7xa9rXX+sj1bfqK5r9fSlf9awultny+1O6Fiv\\\n",
              "13V8fOwxei7E9evXpx7C5/bIBOzll1+eegh8QS2Xyzo9Pd3qvWervn716pt7fd/t27frlVdesZGZ\\\n",
              "C/HSSy9NPYTPzUZm2NMuG5kvgo3McM4dAEAkAQMgkoABEEnAAIgkYABEEjAAIj0y+8Dg/2WxWNSL\\\n",
              "L75Yt27dGuX7nn322VG+Bw6dfWAARLKECEAkAQMgkoABEEnAAIgkYABEEjAAIgkYAJEEDIBIAgZA\\\n",
              "JAEDIJKAARBJwACIJGAARBIwACIJGACRBAyASAIGQCQBAyCSgAEQScAAiCRgAEQSMAAiCRgAkQQM\\\n",
              "gEgCBkAkAQMgkoABEEnAAIgkYABEEjAAIgkYAJEEDIBIAgZAJAEDIJKAARBJwACIJGAARBIwACIJ\\\n",
              "GACRBAyASAIGQCQBAyCSgAEQScAAiCRgAEQSMAAiCRgAkQQMgEgCBkAkAQMgkoABEEnAAIgkYABE\\\n",
              "EjAAIgkYAJEEDIBIAgZAJAEDIJKAARBJwACIJGAARBIwACIJGACRBAyASAIGQCQBAyCSgAEQScAA\\\n",
              "iCRgAEQSMAAiCRgAkQQMgEgCBkAkAQMgkoABEEnAAIgkYABEEjAAIgkYAJEEDIBIAgZApP8AumZ+\\\n",
              "C60eNCoAAAAASUVORK5CYII=\\\n",
              "\"\n",
              "  frames[10] = \"data:image/png;base64,iVBORw0KGgoAAAANSUhEUgAAAbAAAAEgCAYAAADVKCZpAAAAOXRFWHRTb2Z0d2FyZQBNYXRwbG90\\\n",
              "bGliIHZlcnNpb24zLjcuMSwgaHR0cHM6Ly9tYXRwbG90bGliLm9yZy/bCgiHAAAACXBIWXMAAAsT\\\n",
              "AAALEwEAmpwYAAAIZklEQVR4nO3dT68bVx3H4d/Yzk3StFBKQaGiQlQKiwop4h10hdQ3AK+CZV8A\\\n",
              "4h2wY8Wi3cIGEAuQEJtuq1KJRUUBodLe/gskzb3JtT1zWFwkVDlt7Poy42/zPMuxZZ/N6KNzPOe4\\\n",
              "a621AoAws6kHAACfh4ABEEnAAIgkYABEEjAAIgkYAJEEDIBIAgZAJAEDIJKAARBJwACIJGAARBIw\\\n",
              "ACIJGACRBAyASAIGQCQBAyCSgAEQScAAiCRgAEQSMAAiCRgAkQQMgEgCBkAkAQMgkoABEEnAAIgk\\\n",
              "YABEEjAAIgkYAJEEDIBIAgZAJAEDIJKAARBJwACIJGAARBIwACIJGACRBAyASAIGQCQBAyCSgAEQ\\\n",
              "ScAAiCRgAEQSMAAiCRgAkQQMgEgCBkAkAQMgkoABEEnAAIgkYABEEjAAIgkYAJEEDIBIAgZAJAED\\\n",
              "IJKAARBJwACIJGAARBIwACIJGACRBAyASAIGQCQBAyCSgAEQScAAiCRgAEQSMAAiCRgAkQQMgEgC\\\n",
              "BkAkAQMgkoABEEnAAIgkYABEEjAAIgkYAJEEDIBIAgZAJAEDIJKAARBJwACIJGAARBIwACIJGACR\\\n",
              "BAyASAIGQCQBAyCSgAEQScAAiCRgAEQSMAAiCRgAkQQMgEgCBkAkAQMgkoABEEnAAIgkYABEEjAA\\\n",
              "IgkYAJEEDIBIAgZAJAEDIJKAARBJwACIJGAARBIwACIJGACRBAyASAIGQCQBAyCSgAEQScAAiCRg\\\n",
              "AEQSMAAiCRgAkQQMgEgCBkAkAQMgkoABEEnAAIgkYABEEjAAIgkYAJEWUw8AHkWttTp5/281rJcb\\\n",
              "r137+rdrfunyBKOCLAIGE2hDX3/9w8/r7PZ7n3yh6+q7P/hxXX3y+jQDgyCWEGECbeir2jD1MCCa\\\n",
              "gMEEWr+u1trUw4BoAgYTOJ+BCRjsQ8BgAsOwtoQIexIwmEAbekuIsCcBgwm03gwM9iVgMAEzMNif\\\n",
              "gMEEzj7+sPrV/Y3rR9eeqvnCJmbYhoDBBFand6r1q43rR9eerNmlowlGBHkEDA5IN1+U2xK2406B\\\n",
              "A9LN5tV13dTDgAgCBgekmy+qBAy2ImBwQM5nYG5L2IY7BQ7IbGYGBtsSMDgg3dxvYLAtAYORfdYG\\\n",
              "5m62qLKECFtxp8AE2qccI9V1MzMw2JKAwQQetIkZ2I2AwQSGfj31ECCegMHomhkYXAABg7G1qkHA\\\n",
              "YG8CBqNrNawtIcK+BAwmYAkR9idgMIE2mIHBvgQMRtaGvk4+/MfmC92srj71zPgDglACBiNrrdXq\\\n",
              "9M7G9a6b1dG1r0wwIsgkYHBAuvmlqYcAMQQMDkVXNZsvph4FxBAwOBidGRjsQMDggJiBwfYEDA5E\\\n",
              "15mBwS4EDA7IbCFgsC0BgwMym1lChG0JGIzs/M8sH/SvzF11M7ckbMvdAiNr/frB/aqqKv/GDNsS\\\n",
              "MBhZ69f1GQUDtiRgMLJhWFdrAgb7EjAYmRkYXAwBg5EN/brKDAz2JmAwsiZgcCEEDEbWhpUFRLgA\\\n",
              "AgYjW98/qTb0G9fnR1eqOo/Rw7YEDEZ2+tHb1frVxvVrX/tWzRZHE4wIMgkYHIhutqjODAy2JmBw\\\n",
              "IM5Pohcw2JaAwYGYzRd+A4MdCBgciE7AYCcCBgdiNl9YQIQdCBgcCDMw2I2AwYjOD/F98DbmbrYo\\\n",
              "D3HA9gQMRvZpJ9F3s/nII4FsAgajav89jf7B7AOD7QkYjKl9dsCA7QkYjKhV1TBsHiMF7E7AYEyt\\\n",
              "Ves3D/IFdidgMKbWanjAQb7A7gQMRuU3MLgoAgYjaq3VMAgYXAQBgxG1oa/16Z3NF7pZLS5fG39A\\\n",
              "EGwx9QAgXd/39dprr9VyuXzoe7v1vZp/+PbGeRutm9db7/yr3rrz6kM/47HHHqubN2/aM8Yjr2uf\\\n",
              "diwAsJWTk5O6ceNGvfvuuw9971e/dLV++ZMf1tXLlz5x/ePTs/rRT39bf/77Bw/9jOeff77eeOON\\\n",
              "ms0soPBoMwOD0XX179XTdbx8rroa6pnLf6nW3qvVyuP1sAsBgxG16uqD5TfrzeX3a9UuV1XVO2ff\\\n",
              "qedmv6llP0w8OshiDQJGtByu1J/uvlCrdqXOT57v6v7weL3+8Qt1ZnsY7ETAYFRd9e3SxtXVsKjl\\\n",
              "2gwMdiFgMKKuG+rK7GTj+uXubq3WfgODXQgYjOiou1/fe+J39fj8VnU1VFd9fXnxft184vfV9w9/\\\n",
              "DB/4n0fmIY7j4+Oph8AX1L1792oYtlv+u3tvWT/7xa9rXX+sj1bfqK5r9fSlf9awultny+1O6Fiv\\\n",
              "13V8fOwxei7E9evXpx7C5/bIBOzll1+eegh8QS2Xyzo9Pd3qvWervn716pt7fd/t27frlVdesZGZ\\\n",
              "C/HSSy9NPYTPzUZm2NMuG5kvgo3McM4dAEAkAQMgkoABEEnAAIgkYABEEjAAIj0y+8Dg/2WxWNSL\\\n",
              "L75Yt27dGuX7nn322VG+Bw6dfWAARLKECEAkAQMgkoABEEnAAIgkYABEEjAAIgkYAJEEDIBIAgZA\\\n",
              "JAEDIJKAARBJwACIJGAARBIwACIJGACRBAyASAIGQCQBAyCSgAEQScAAiCRgAEQSMAAiCRgAkQQM\\\n",
              "gEgCBkAkAQMgkoABEEnAAIgkYABEEjAAIgkYAJEEDIBIAgZAJAEDIJKAARBJwACIJGAARBIwACIJ\\\n",
              "GACRBAyASAIGQCQBAyCSgAEQScAAiCRgAEQSMAAiCRgAkQQMgEgCBkAkAQMgkoABEEnAAIgkYABE\\\n",
              "EjAAIgkYAJEEDIBIAgZAJAEDIJKAARBJwACIJGAARBIwACIJGACRBAyASAIGQCQBAyCSgAEQScAA\\\n",
              "iCRgAEQSMAAiCRgAkQQMgEgCBkAkAQMgkoABEEnAAIgkYABEEjAAIgkYAJEEDIBIAgZApP8AumZ+\\\n",
              "C60eNCoAAAAASUVORK5CYII=\\\n",
              "\"\n",
              "  frames[11] = \"data:image/png;base64,iVBORw0KGgoAAAANSUhEUgAAAbAAAAEgCAYAAADVKCZpAAAAOXRFWHRTb2Z0d2FyZQBNYXRwbG90\\\n",
              "bGliIHZlcnNpb24zLjcuMSwgaHR0cHM6Ly9tYXRwbG90bGliLm9yZy/bCgiHAAAACXBIWXMAAAsT\\\n",
              "AAALEwEAmpwYAAAH/UlEQVR4nO3dz65VZx3H4d9ae1MKqKkxoafGBBowMY0jHXsHHTDyBgiXwAU4\\\n",
              "c+yYxAHxCrwAJ42kTDrQSJsUKzVBDtIaEFoP3Xu9Dk4c1AN1bfZxrf2F5xmus0/Wb3BOPnnfvf50\\\n",
              "rbVWABCmn3sAAHgRAgZAJAEDIJKAARBJwACIJGAARBIwACIJGACRBAyASAIGQCQBAyCSgAEQScAA\\\n",
              "iCRgAEQSMAAiCRgAkQQMgEgCBkAkAQMgkoABEEnAAIgkYABEEjAAIgkYAJEEDIBIAgZAJAEDIJKA\\\n",
              "ARBJwACIJGAARBIwACIJGACRBAyASAIGQCQBAyCSgAEQScAAiCRgAEQSMAAiCRgAkQQMgEgCBkAk\\\n",
              "AQMgkoABEEnAAIgkYABEEjAAIgkYAJEEDIBIAgZAJAEDIJKAARBJwACIJGAARBIwACIJGACRBAyA\\\n",
              "SAIGQCQBAyCSgAEQScAAiCRgAEQSMAAiCRgAkQQMgEgCBkAkAQMgkoABEEnAAIgkYABEEjAAIgkY\\\n",
              "AJEEDIBIAgZAJAEDIJKAARBJwACIJGAARBIwACIJGACRBAyASAIGQCQBAyCSgAEQScAAiCRgAEQS\\\n",
              "MAAiCRgAkQQMgEgCBkAkAQMgkoABEEnAAIgkYABEEjAAIgkYAJEEDIBIAgZAJAEDIJKAARBJwACI\\\n",
              "JGAARBIwACIJGACRBAyASAIGQCQBAyCSgAEQScAAiCRgAEQSMAAiCRgAkQQMgEgCBkAkAQMgkoAB\\\n",
              "EEnAAIgkYABEEjAAIgkYAJEEDIBIAgZAJAEDIJKAARBJwACIJGAARFrOPQC8ilpr9eT+JzWsnh75\\\n",
              "2Zmzb9fixMkZpoIsAgYzaMO6Pvndr+tfD/e//oOuqx///Bd16o29eQaDILYQYQatDdWqzT0GRBMw\\\n",
              "mMOwrmoCBtsQMJhBG4ZqAgZbETCYQbMCg60JGMygtXWV78BgKwIGM7CFCNsTMJiBLUTYnoDBDNpg\\\n",
              "CxG2JWAwg9ZsIcK2BAxmcLiFOMw9BkQTMJjBl5/frdXBF0eOn3rjrVq+dnqGiSCPgMEMhtXTZ67A\\\n",
              "Fq+dqq5fzDAR5BEw2CX9oqrr5p4CIggY7JCu76sTMBhFwGCHdFZgMJqAwQ7pur6qBAzGEDDYIV2/\\\n",
              "sIUIIwkY7BBbiDCegMEOObyEXsBgDAGDHdJ1rkKEsQQMdogtRBhPwGBi3/QQ3653FSKMJWAwg8PX\\\n",
              "qTxLZwsRRhIwmMHzAwaMJWAwgzas5h4B4gkYTK5VW1uBwbYEDGYwWIHB1gQMptZ8BwbHQcBgBgIG\\\n",
              "2xMwmFyrtraFCNsSMJiBFRhsT8BgBi6jh+0JGEystVbD87YQPYUDRhMwmFgb1vX43sdHjnf9or71\\\n",
              "5oUZJoJMAgYzePYKrKvFidcnnwVSCRjskG6xmHsEiCFgsCu6qq5fzj0FxBAw2Bnd4QstgVEEDHZI\\\n",
              "v7ACg7EEDHaIFRiMJ2CwI7oSMNiEgMGu6LrqbCHCaAIGO8QKDMYTMNghvcvoYTQBg8m15xzvquv9\\\n",
              "S8JY/ltgYm0Y6psiBowjYDCxNqyf3y9gNAGDiR2+zFLBYFsCBhNrw6qqCRhsS8BgYm1YW3/BMRAw\\\n",
              "mJgtRDgeAgYTa+u1LUQ4BgIGExuG9dwjwEtBwGBqw7qaFRhsTcBgYlZgcDwEDCY2rJ5WteHI8a5f\\\n",
              "eBAHbEDAYGJf/P0vhxH7L2fefLv65ckZJoJMAgYTe973X/3iRFVnCQZjCRjsiK5f2EGEDXj5EByD\\\n",
              "/f39un379qjP9vt/rWe9tvLBZ5/X/fffr+r+90stL168WGfPnt1wSni5dM31vLC1a9eu1ZUrV0Z9\\\n",
              "9sq7P6kr7/70yPHf/v6j+uVv3quv1kcv8HjW+S5fvrzxnPAysQKDGazbsu4eXKh/rr5X315+Vt8/\\\n",
              "+XGt1oMHTMEGBAwmtm7L+uPjn9XfDi5Uq666avX5V2/VwepPbnCGDbiIAyZ258t36u7BxWrVV1VX\\\n",
              "rfq6e/DD+vOTH1mBwQYEDCa2rhN19I7lrg5WvRUYbEDAYGKv90+qq68/TqqrdS3aY29ZgQ0IGEzs\\\n",
              "Byc/qgunP6hld1BVrZbdQV08/UHtLW/pF2zglbmI4969e3OPwEvs0aNHoz/73h/u1IOHv6p/rPbq\\\n",
              "yfo7dWbxsL673K9bd+5vdD5/0xyHvb29uUd4Ya9MwK5fvz73CLzEbt68OfqzH376oD789EFV3Xrh\\\n",
              "8924caNWq9UL/z78x9WrV+ce4YW5kRmOwSY3Mh/X+dzIzKvOd2AARBIwACIJGACRBAyASAIGQCQB\\\n",
              "AyDSK3MfGPw/nT9/vi5dujTZ+c6dOzfZuWBXuQ8MgEi2EAGIJGAARBIwACIJGACRBAyASAIGQCQB\\\n",
              "AyCSgAEQScAAiCRgAEQSMAAiCRgAkQQMgEgCBkAkAQMgkoABEEnAAIgkYABEEjAAIgkYAJEEDIBI\\\n",
              "AgZAJAEDIJKAARBJwACIJGAARBIwACIJGACRBAyASAIGQCQBAyCSgAEQScAAiCRgAEQSMAAiCRgA\\\n",
              "kQQMgEgCBkAkAQMgkoABEEnAAIgkYABEEjAAIgkYAJEEDIBIAgZAJAEDIJKAARBJwACIJGAARBIw\\\n",
              "ACIJGACRBAyASAIGQCQBAyCSgAEQScAAiCRgAEQSMAAiCRgAkQQMgEgCBkAkAQMgkoABEEnAAIgk\\\n",
              "YABEEjAAIgkYAJEEDIBIAgZAJAEDIJKAARBJwACIJGAARBIwACIJGACRBAyASAIGQCQBAyCSgAEQ\\\n",
              "ScAAiPRvfg1UroK45D4AAAAASUVORK5CYII=\\\n",
              "\"\n",
              "  frames[12] = \"data:image/png;base64,iVBORw0KGgoAAAANSUhEUgAAAbAAAAEgCAYAAADVKCZpAAAAOXRFWHRTb2Z0d2FyZQBNYXRwbG90\\\n",
              "bGliIHZlcnNpb24zLjcuMSwgaHR0cHM6Ly9tYXRwbG90bGliLm9yZy/bCgiHAAAACXBIWXMAAAsT\\\n",
              "AAALEwEAmpwYAAAIJUlEQVR4nO3dT49Vdx3H8e+5dwYYQK2YtBRXTU3YSCL6CExYdu3eRR8CD8Cd\\\n",
              "D8GdC2J4ACbu1IXGpCttN9BgilJD+FeCgkyBOefnYtzYgXJm7njO/TCv127O3OR+Nzfv/H7nX9da\\\n",
              "awUAYRZzDwAAByFgAEQSMAAiCRgAkQQMgEgCBkAkAQMgkoABEEnAAIgkYABEEjAAIgkYAJEEDIBI\\\n",
              "AgZAJAEDIJKAARBJwACIJGAARBIwACIJGACRBAyASAIGQCQBAyCSgAEQScAAiCRgAEQSMAAiCRgA\\\n",
              "kQQMgEgCBkAkAQMgkoABEEnAAIgkYABEEjAAIgkYAJEEDIBIAgZAJAEDIJKAARBJwACIJGAARBIw\\\n",
              "ACIJGACRBAyASAIGQCQBAyCSgAEQScAAiCRgAEQSMAAiCRgAkQQMgEgCBkAkAQMgkoABEEnAAIgk\\\n",
              "YABEEjAAIgkYAJEEDIBIAgZAJAEDIJKAARBJwACIJGAARBIwACIJGACRBAyASAIGQCQBAyCSgAEQ\\\n",
              "ScAAiCRgAEQSMAAiCRgAkQQMgEgCBkAkAQMgkoABEEnAAIgkYABEEjAAIgkYAJEEDIBIAgZAJAED\\\n",
              "IJKAARBJwACIJGAARBIwACIJGACRBAyASAIGQCQBAyCSgAEQScAAiCRgAEQSMAAiCRgAkQQMgEgC\\\n",
              "BkAkAQMgkoABEEnAAIgkYABEEjAAIgkYAJEEDIBIAgZAJAEDIJKAARBJwACIJGAARBIwACIJGACR\\\n",
              "BAyASAIGQCQBAyCSgAEQScAAiCRgAEQSMAAiCRgAkQQMgEgCBkCkjbkHgKOotVb/vnezhp3ne/53\\\n",
              "6u33arl5fIapIIuAwQza0NfN3/+yvvzn3f/9R9fV93/ys9p66+w8g0EQW4gwg9aGatXmHgOiCRjM\\\n",
              "YeirmoDBKgQMZtCGoZqAwUoEDGbQrMBgZQIGM2itr3IODFYiYDADW4iwOgGDGdhChNUJGMygDbYQ\\\n",
              "YVUCBjNozRYirErAYAa7W4jD3GNANAGDGWw/vF07z57uOb711ru1cezkDBNBHgGDGQw7z1+6Alse\\\n",
              "26pusZxhIsgjYLBOFsuqrpt7CoggYLBGusWiOgGDUQQM1khnBQajCRiska5bVJWAwRgCBmukWyxt\\\n",
              "IcJIAgZrxBYijCdgsEZ2L6EXMBhDwGCNdJ2rEGEsAYM1YgsRxhMwmNjXPcS3W7gKEcYSMJjB7utU\\\n",
              "XqazhQgjCRjM4NUBA8YSMJhBG3bmHgHiCRhMrlXrrcBgVQIGMxiswGBlAgZTa86BwWEQMJiBgMHq\\\n",
              "BAwm16r1thBhVQIGM7ACg9UJGMzAZfSwOgGDibXWanjVFqKncMBoAgYTa0NfT+78dc/xbrGs0++8\\\n",
              "P8NEkEnAYAYvX4F1tdw8MfkskErAYI10y+XcI0AMAYN10VV1i425p4AYAgZro9t9oSUwioDBGlks\\\n",
              "rcBgLAGDNWIFBuMJGKyJrgQM9kPAYF10XXW2EGE0AYM1YgUG4wkYrJGFy+hhNAGDybVXHO+qW/hJ\\\n",
              "wlh+LTCxNgz1dREDxhEwmFgb+lf3CxhNwGBiuy+zVDBYlYDBxNqwU9UEDFYlYDCxNvTWX3AIBAwm\\\n",
              "ZgsRDoeAwcRa39tChEMgYDCxYejnHgHeCAIGUxv6alZgsDIBg4lZgcHhEDCY2LDzvKoNe453i6UH\\\n",
              "ccA+CBhM7On9v+1G7CtOvfNeLTaOzzARZBIwmNirzn8tlptVnSUYjCVgsCa6xdIOIuyDlw/BIWit\\\n",
              "1ccff1xPnz597WcXdz+vl7228sEXD+veRx9Vda9/qeWxY8fq4sWLtVx6ASZHV9dczwsr6/u+Lly4\\\n",
              "UNeuXXvtZz/84If14Qc/2nP813/6tH7+qz/Wi37vBR5fde7cubpx40adPHnyQPPCm8AKDGbQWtWT\\\n",
              "/tt1+9n71WpR7x77rHb66x4wBfsgYDCx1qoe7bxdf358qZ4Np6qq6h9fnq/7z28KGOyDizhgYkNt\\\n",
              "1CePf1zPhtO1e+NXVy/aVp353k/r+Ilvzj0exBAwmFirqp22uef4xsaJ6vwkYTS/FphYV622lk/2\\\n",
              "HH/y+H4Nw84ME0EmAYOJLbu+fvCN39a3Nu5VV311NdTp5cO6d/0Xtb39r7nHgxhH5iKOO3fuzD0C\\\n",
              "b7BhGKrvxz2k9w+f3Kr7j35Tz9vv6osX363WuvrO5u367PO/j/6+vu/r7t27tbW1ddCRoaqqzp49\\\n",
              "O/cIB3ZkAnblypW5R+AN1lqrR48ejfrs9VsP6vqtB//96y8H+r7t7e26evVqbW7uPZcG+3H58uW5\\\n",
              "RzgwNzLDIdjPjcyHwY3M4BwYAKEEDIBIAgZAJAEDIJKAARBJwACIdGTuA4P/p67r6tKlS3X+/PlJ\\\n",
              "vu/MmTNeZsmR5z4wACLZQgQgkoABEEnAAIgkYABEEjAAIgkYAJEEDIBIAgZAJAEDIJKAARBJwACI\\\n",
              "JGAARBIwACIJGACRBAyASAIGQCQBAyCSgAEQScAAiCRgAEQSMAAiCRgAkQQMgEgCBkAkAQMgkoAB\\\n",
              "EEnAAIgkYABEEjAAIgkYAJEEDIBIAgZAJAEDIJKAARBJwACIJGAARBIwACIJGACRBAyASAIGQCQB\\\n",
              "AyCSgAEQScAAiCRgAEQSMAAiCRgAkQQMgEgCBkAkAQMgkoABEEnAAIgkYABEEjAAIgkYAJEEDIBI\\\n",
              "AgZAJAEDIJKAARBJwACIJGAARBIwACIJGACRBAyASAIGQCQBAyCSgAEQScAAiCRgAEQSMAAiCRgA\\\n",
              "kQQMgEgCBkAkAQMgkoABEEnAAIgkYABEEjAAIgkYAJEEDIBIAgZAJAEDINJ/ADcXYpHhYptwAAAA\\\n",
              "AElFTkSuQmCC\\\n",
              "\"\n",
              "  frames[13] = \"data:image/png;base64,iVBORw0KGgoAAAANSUhEUgAAAbAAAAEgCAYAAADVKCZpAAAAOXRFWHRTb2Z0d2FyZQBNYXRwbG90\\\n",
              "bGliIHZlcnNpb24zLjcuMSwgaHR0cHM6Ly9tYXRwbG90bGliLm9yZy/bCgiHAAAACXBIWXMAAAsT\\\n",
              "AAALEwEAmpwYAAAHzUlEQVR4nO3dP48V1x3H4d/c3YWALTmWJbSJEFLsAuVPkS7vAlHFtZXXQEcT\\\n",
              "8RLyAlJQRkqkUKRMRUERhYiIECWWIyuR1ynAWGvDwu6cFEuDMWLY2dwzX/Z5OmavdH/FHn00c+aw\\\n",
              "Q2utFQCEWfUeAACOQsAAiCRgAEQSMAAiCRgAkQQMgEgCBkAkAQMgkoABEEnAAIgkYABEEjAAIgkY\\\n",
              "AJEEDIBIAgZAJAEDIJKAARBJwACIJGAARBIwACIJGACRBAyASAIGQCQBAyCSgAEQScAAiCRgAEQS\\\n",
              "MAAiCRgAkQQMgEgCBkAkAQMgkoABEEnAAIgkYABEEjAAIgkYAJEEDIBIAgZAJAEDIJKAARBJwACI\\\n",
              "JGAARBIwACIJGACRBAyASAIGQCQBAyCSgAEQScAAiCRgAEQSMAAiCRgAkQQMgEgCBkAkAQMgkoAB\\\n",
              "EEnAAIgkYABEEjAAIgkYAJEEDIBIAgZAJAEDIJKAARBJwACIJGAARBIwACIJGACRBAyASAIGQCQB\\\n",
              "AyCSgAEQScAAiCRgAEQSMAAiCRgAkQQMgEgCBkAkAQMgkoABEEnAAIgkYABEEjAAIgkYAJEEDIBI\\\n",
              "AgZAJAEDIJKAARBJwACIJGAARBIwACIJGACRBAyASAIGQCQBAyCSgAEQScAAiCRgAEQSMAAiCRgA\\\n",
              "kQQMgEgCBkAkAQMgkoABEEnAAIgkYABEEjAAIgkYAJEEDIBIAgZAJAEDIJKAARBJwACIJGAARBIw\\\n",
              "ACIJGACRBAyASAIGQCQBAyCSgAEQScAAiCRgAEQSMAAiCRgAkQQMgEibvQeAk6i1Vl/995Ma95+8\\\n",
              "8LO3zv2gNrZOd5gKsggY9NDG+uSPv67HDz9//vow1E9+/ss6893tPnNBEI8QoYPWxmrVeo8B0QQM\\\n",
              "OmjjWPoF8wgY9NBaKRjMI2DQQWvjs4gBRyVg0MHhHhgwh4BBD625A4OZBAw6aG0se2Awj4BBD+PY\\\n",
              "ewKIJ2DQQWtjNY8QYRYBgx48QoTZBAw6aF7igNkEDDo4fIkDmEPAoIfRHhjMJWDQgdfoYT4Bgw4O\\\n",
              "98B6TwHZBAx6cAcGswkYdPDowWe1v/f1C9fPvPv92jx1tsNEkEfAoINx/8mzu7DnbWydrmG10WEi\\\n",
              "yCNgsCTDqmoYek8BEQQMFmQYLEmYymqBJRlWNbgDg0kEDBZkWK2qSsBgCgGDJRkG/YKJBAwW5HAP\\\n",
              "TMFgCgGDBRm8hQiTCRgsybBy/wUTCRgsyOEbiBIGUwgYLMiw8ggRphIwWBIHmWEyqwUWZHCQGSYT\\\n",
              "MFgSe2AwmYDBghy+Rt97CsggYLBmrb38D1n6r6RgOgGDHl4ascEeGEwkYNBB+5Y/Zgm8HgGDDlo7\\\n",
              "6D0CxBMw6KCN7sBgLgGDHgQMZhMwWLvmESIcAwGDDjxChPkEDDrwFiLMJ2Cwbq3sgcExEDDowB4Y\\\n",
              "zCdg0IE9MJhPwGDtmj0wOAYCBh200SNEmEvAoAd3YDCbgEEH9sBgPgGDNWvlHBgcBwGDdWutxv0n\\\n",
              "3/qjYbWx5mEgl4DBmrXxoHZ3Pn7h+rDaqLe3P+gwEWQSMOjgZY8Qh9XmmieBXAIGizHUsLIkYSqr\\\n",
              "BRZkGOyBwVQCBksxlDsweA1WCyyJgMFkVgssiEeIMJ2AwWJ4iQNeh9UCCzIMliRM5dAJHJP79+/X\\\n",
              "vXv3Xvm5YdyvjadPa/jG9XEc686dv1b7eGfS9124cKHOnz9/hEnhzSBgcExu3rxZly5deuXnvnNq\\\n",
              "s3537cN6752zz13f29urX3z0Uf3j3/cnfd+1a9fq6tWrR5oV3gQCBp0ctFXt7L1fD/fP1dmNL+q9\\\n",
              "4W91cNB6jwUxBAw6GGtVf//qZ/Xp4x9Vq1UN1ert+l7tt9/3Hg1i2DGGDj7b+6A+ffzjarVRVUO1\\\n",
              "WtWX7f364U8/7D0axBAw6OCgbVb7xvIbhqG2Tp3pNBHkETDo4PTqUa1q/7lr43hQXz78vNNEkEfA\\\n",
              "oINzp/5VF9+6VVvD46pqtTE8qe2Nv9SdP/+m92gQ48S8xLGzM+1sDRzVgwcPJn3u6f5B/eq3t+r0\\\n",
              "1p/qi/1ztXvwbp1Z7dY7q//U148eTf6+3d1dv9fMtr293XuEIzsxAbt+/XrvEXjD3b17d9LnDsZW\\\n",
              "f7j1z2f/evXB55e5ffu232tmu3LlSu8RjmxorTl4Asfgxo0bkw4yHxcHmTnp7IEBEEnAAIgkYABE\\\n",
              "EjAAIgkYAJEEDIBIJ+YcGPy/bW9v1+XLl9f2fRcvXlzbd8ESOQcGQCSPEAGIJGAARBIwACIJGACR\\\n",
              "BAyASAIGQCQBAyCSgAEQScAAiCRgAEQSMAAiCRgAkQQMgEgCBkAkAQMgkoABEEnAAIgkYABEEjAA\\\n",
              "IgkYAJEEDIBIAgZAJAEDIJKAARBJwACIJGAARBIwACIJGACRBAyASAIGQCQBAyCSgAEQScAAiCRg\\\n",
              "AEQSMAAiCRgAkQQMgEgCBkAkAQMgkoABEEnAAIgkYABEEjAAIgkYAJEEDIBIAgZAJAEDIJKAARBJ\\\n",
              "wACIJGAARBIwACIJGACRBAyASAIGQCQBAyCSgAEQScAAiCRgAEQSMAAiCRgAkQQMgEgCBkAkAQMg\\\n",
              "koABEEnAAIgkYABEEjAAIgkYAJEEDIBIAgZAJAEDIJKAARBJwACIJGAARBIwACIJGACRBAyASAIG\\\n",
              "QCQBAyCSgAEQScAAiPQ/ueMu/EvPR3kAAAAASUVORK5CYII=\\\n",
              "\"\n",
              "  frames[14] = \"data:image/png;base64,iVBORw0KGgoAAAANSUhEUgAAAbAAAAEgCAYAAADVKCZpAAAAOXRFWHRTb2Z0d2FyZQBNYXRwbG90\\\n",
              "bGliIHZlcnNpb24zLjcuMSwgaHR0cHM6Ly9tYXRwbG90bGliLm9yZy/bCgiHAAAACXBIWXMAAAsT\\\n",
              "AAALEwEAmpwYAAAGY0lEQVR4nO3bMY8cdxmA8XfvfD4fnJMQWcYFBRQUkRAS7k/U9Ag+iWuUT4KQ\\\n",
              "G2TR0qWIwJQoEZjSRAFFODZC5OLYlu3boQhNOCRbR+Thyf1+1eq/szNvs3q0s/PfLMuyDADE7Kw9\\\n",
              "AACchYABkCRgACQJGABJAgZAkoABkCRgACQJGABJAgZAkoABkCRgACQJGABJAgZAkoABkCRgACQJ\\\n",
              "GABJAgZAkoABkCRgACQJGABJAgZAkoABkCRgACQJGABJAgZAkoABkCRgACQJGABJAgZAkoABkCRg\\\n",
              "ACQJGABJAgZAkoABkCRgACQJGABJAgZAkoABkCRgACQJGABJAgZAkoABkCRgACQJGABJAgZAkoAB\\\n",
              "kCRgACQJGABJAgZAkoABkCRgACQJGABJAgZAkoABkCRgACQJGABJAgZAkoABkCRgACQJGABJAgZA\\\n",
              "koABkCRgACQJGABJAgZAkoABkCRgACQJGABJAgZAkoABkCRgACQJGABJAgZAkoABkCRgACQJGABJ\\\n",
              "AgZAkoABkCRgACQJGABJAgZAkoABkCRgACQJGABJAgZAkoABkCRgACQJGABJAgZAkoABkCRgACQJ\\\n",
              "GABJAgZAkoABkCRgACQJGABJAgZAkoABkCRgACQJGABJAgZAkoABkCRgACQJGABJAgZAkoABkCRg\\\n",
              "ACQJGABJAgZAkoABkCRgACQJGABJAgZAkoABkCRgACQJGABJAgZAkoABkCRgACQJGABJAgZAkoAB\\\n",
              "kCRgACQJGABJAgZAkoABkHRh7QHgPFqWZT67/8Fsnz899d7Xr35ndvf2V5gKWgQM1rAs88G7P58n\\\n",
              "//z4i+ubzXzvJ2/PwRvX1pkLQtxCBCBJwABIEjAAkgQMgCQBAyBJwABIEjAAkgQMgCQBAyBJwABI\\\n",
              "EjAAkgQMgCQBAyBJwABIEjAAkgQMgCQBAyBJwABIEjAAkgQMgCQBAyBJwABIEjAAkgQMgCQBAyBJ\\\n",
              "wABIEjAAkgQMgCQBAyBJwABIEjAAkgQMgCQBAyBJwABIEjAAkgQMgCQBAyBJwABIEjAAkgQMgCQB\\\n",
              "AyBJwABIEjAAkgQMgCQBAyBJwABIEjAAkgQMgCQBAyBJwABIEjAAkgQMgCQBAyBJwABIEjAAkgQM\\\n",
              "gCQBAyBJwABIEjAAki6sPQB8ldy5c2eOj49feNxmltl9/GQ2/7G+LDPvv/f+LPuvvfAcu7u7c/36\\\n",
              "9dnb2zvjtNC2WZZlWXsI+Ko4Ojqa27dvv/C4nc1mfvmzH8+3r73xhfWT7XZ++vav5i8ff/LCcxwe\\\n",
              "Hs7du3fn6tWrZx0X0vwCgxV9dvLafPTku3MyF+abFz+c13f/tvZIkCFgsJJPn785H37yo3m0/fx2\\\n",
              "4V+fvDVvfe03M6duLAL/jYc4YAXLbOaPD384j7avz+fB2szJcnH+9PBoHp1cXns8SBAwWMnz5fTD\\\n",
              "FyfLhVl8LeGl+KbAKpY52Hl4avXizuPZnecrzAM9AgYr2MzM9y+/O2/ufTSbOZnNbOdg53h+cPmd\\\n",
              "ubR7OmzAaefmIY579+6tPQLnwNOnT1/quO2yzC9+/du5dOm9+fuzb8122Z1v7N2b3+18Ov84fvxS\\\n",
              "51iWZR48eDDb7fZ/GZlz7tq1a2uPcGbnJmA3b95cewTOgfv377/0se/8/s//fvWHM13r2bNnc+vW\\\n",
              "rTk8PDzT52Fm5saNG2uPcGY2MsOX6GU3Mn8ZbGTmvPMfGABJAgZAkoABkCRgACQJGABJAgZA0rnZ\\\n",
              "BwavwtHR0Vy5cuWVXOvg4GD29/dfybXg/5F9YAAkuYUIQJKAAZAkYAAkCRgASQIGQJKAAZAkYAAk\\\n",
              "CRgASQIGQJKAAZAkYAAkCRgASQIGQJKAAZAkYAAkCRgASQIGQJKAAZAkYAAkCRgASQIGQJKAAZAk\\\n",
              "YAAkCRgASQIGQJKAAZAkYAAkCRgASQIGQJKAAZAkYAAkCRgASQIGQJKAAZAkYAAkCRgASQIGQJKA\\\n",
              "AZAkYAAkCRgASQIGQJKAAZAkYAAkCRgASQIGQJKAAZAkYAAkCRgASQIGQJKAAZAkYAAkCRgASQIG\\\n",
              "QJKAAZAkYAAkCRgASQIGQJKAAZAkYAAkCRgASQIGQJKAAZAkYAAkCRgASQIGQJKAAZAkYAAkCRgA\\\n",
              "SQIGQJKAAZAkYAAkCRgASQIGQJKAAZAkYAAkCRgASQIGQJKAAZAkYAAkCRgASQIGQNK/AGIbn6Kg\\\n",
              "KwW8AAAAAElFTkSuQmCC\\\n",
              "\"\n",
              "  frames[15] = \"data:image/png;base64,iVBORw0KGgoAAAANSUhEUgAAAbAAAAEgCAYAAADVKCZpAAAAOXRFWHRTb2Z0d2FyZQBNYXRwbG90\\\n",
              "bGliIHZlcnNpb24zLjcuMSwgaHR0cHM6Ly9tYXRwbG90bGliLm9yZy/bCgiHAAAACXBIWXMAAAsT\\\n",
              "AAALEwEAmpwYAAAHMklEQVR4nO3cP49UVRzH4TOzy79goWh0UGMCwUoTtKGhsrOk8Q1Y0mNtfA8k\\\n",
              "VhpDa6G1DYVuZWFC44oEMRoWDAtxlwWXZa6FFCpbHLhkz/nuPk85O5n5FXvzyTn33JkMwzAUAAgz\\\n",
              "bT0AADwNAQMgkoABEEnAAIgkYABEEjAAIgkYAJEEDIBIAgZAJAEDIJKAARBJwACIJGAARBIwACIJ\\\n",
              "GACRBAyASAIGQCQBAyCSgAEQScAAiCRgAEQSMAAiCRgAkQQMgEgCBkAkAQMgkoABEEnAAIgkYABE\\\n",
              "EjAAIgkYAJEEDIBIAgZAJAEDIJKAARBJwACIJGAARBIwACIJGACRBAyASAIGQCQBAyCSgAEQScAA\\\n",
              "iCRgAEQSMAAiCRgAkQQMgEgCBkAkAQMgkoABEEnAAIgkYABEEjAAIgkYAJEEDIBIAgZAJAEDIJKA\\\n",
              "ARBJwACIJGAARBIwACIJGACRBAyASAIGQCQBAyCSgAEQScAAiCRgAEQSMAAiCRgAkQQMgEgCBkAk\\\n",
              "AQMgkoABEEnAAIgkYABEEjAAIgkYAJEEDIBIAgZAJAEDIJKAARBJwACIJGAARBIwACIJGACRBAyA\\\n",
              "SAIGQCQBAyCSgAEQScAAiCRgAEQSMAAiCRgAkQQMgEgCBkAkAQMgkoABEEnAAIgkYABEEjAAIgkY\\\n",
              "AJEEDIBIAgZAJAEDIJKAARBJwACIJGAARBIwACIJGACRBAyASAIGQCQBAyCSgAEQScAAiCRgAEQS\\\n",
              "MAAiCRgAkQQMgEgCBkAkAQMgkoABEEnAAIgkYABEEjAAIi22HgD2omEYyt2bV8t8a/Oxvx1++VhZ\\\n",
              "2HegwVSQRcCghWEoVy9+Xu7fufHf1yeT8vYHH5dDLxxtMxcEsYUIvRmG1hNABAGDzgxFwKCGgEFv\\\n",
              "rMCgioBBZwYBgyoCBr0RMKgiYNCbYd56AoggYNAZhzigjoBBb2whQhUBg844xAF1BAx64x4YVBEw\\\n",
              "6Ix7YFBHwKAnQ3EPDCoJGPRGwKCKgEFnHOKAOgIGvREwqCJg0JmhOIUINQQMemMFBlUEDHojYFBF\\\n",
              "wKAzDnFAHQGD3ggYVBEw6Ixf4oA6Aga98VuIUEXAoDPugUEdAYPeCBhUETDojS1EqCJg0BlbiFBH\\\n",
              "wKA7AgY1BAx6YwUGVQQMOmMLEeoIGPRGwKCKgEFXhjI4hQhVBAy6YwUGNQQMmtn+8hvmVmBQQ8Cg\\\n",
              "hcmkPDc7se2f1ld+3uFhIJOAQSPTxf3bvj5/+GCHJ4FMAgaNTCaT1iNANAGDVgQMRhEwaMQKDMYR\\\n",
              "MGhGwGAMAYNWJi4/GMMVBI3YQoRxBAxaETAYRcCgESswGEfAoBkBgzEEDBqZOMQBo7iCoBVbiDCK\\\n",
              "gEErAgajCBg04hAHjCNg0IyAwRgCBo04xAHjuIKgFQswGEXAoBUrMBjFFQSNOMQB4wgYNCNgMIaA\\\n",
              "QSNWYDCOgEEr7oHBKK4gaMUKDEYRMGjEFiKMI2DQioDBKIutB4DdZG1trVy6dKnqvZPbV7a9AFdX\\\n",
              "V8vS0lLVZ8xms3L8+PEnmBB2j8kwDEPrIWC3WFpaKqdPn6567/unTpRPPnzvsdcv/vBL+ejTb6o+\\\n",
              "4+zZs+X8+fNPNCPsFlZg0Mh8GMp8mJabm2+U1QdHy8Hpenn94OXWY0EMAYNG5vNSrtx7p1zZeLcM\\\n",
              "ZVpKGcrNzWPlr/mvrUeDCA5xQCN/bL72KF4L5Z9f5ZiW21uvlOW7p1qPBhEEDBrZmk8fxevfJmVr\\\n",
              "2NdkHkgjYNDIYrlfFiab/3t1KIem603mgTQCBo08v3i9vHX4u7J/cq+UMpSF8qC8euByefPw961H\\\n",
              "gwh75hDHyspK6xHYA1ZXV6vf+9Nvt8oXX35W/nz4dVnbeqnsn94rL+77vdy4daf6MzY2NvxvM8ps\\\n",
              "Nms9wlPbMwG7cOFC6xHYA65du1b93uu31stX3/446vuWl5f9bzPKuXPnWo/w1DzIDM/QkzzI/Cx4\\\n",
              "kJm9zD0wACIJGACRBAyASAIGQCQBAyCSgAEQac88BwY74ciRI+XMmTM79n0nT57cse+C3ngODIBI\\\n",
              "thABiCRgAEQSMAAiCRgAkQQMgEgCBkAkAQMgkoABEEnAAIgkYABEEjAAIgkYAJEEDIBIAgZAJAED\\\n",
              "IJKAARBJwACIJGAARBIwACIJGACRBAyASAIGQCQBAyCSgAEQScAAiCRgAEQSMAAiCRgAkQQMgEgC\\\n",
              "BkAkAQMgkoABEEnAAIgkYABEEjAAIgkYAJEEDIBIAgZAJAEDIJKAARBJwACIJGAARBIwACIJGACR\\\n",
              "BAyASAIGQCQBAyCSgAEQScAAiCRgAEQSMAAiCRgAkQQMgEgCBkAkAQMgkoABEEnAAIgkYABEEjAA\\\n",
              "IgkYAJEEDIBIAgZAJAEDIJKAARBJwACIJGAARBIwACIJGACRBAyASAIGQCQBAyCSgAEQScAAiCRg\\\n",
              "AEQSMAAiCRgAkQQMgEgCBkAkAQMgkoABEEnAAIj0N1gn7qz+VioHAAAAAElFTkSuQmCC\\\n",
              "\"\n",
              "  frames[16] = \"data:image/png;base64,iVBORw0KGgoAAAANSUhEUgAAAbAAAAEgCAYAAADVKCZpAAAAOXRFWHRTb2Z0d2FyZQBNYXRwbG90\\\n",
              "bGliIHZlcnNpb24zLjcuMSwgaHR0cHM6Ly9tYXRwbG90bGliLm9yZy/bCgiHAAAACXBIWXMAAAsT\\\n",
              "AAALEwEAmpwYAAAHMklEQVR4nO3cP49UVRzH4TOzy79goWh0UGMCwUoTtKGhsrOk8Q1Y0mNtfA8k\\\n",
              "VhpDa6G1DYVuZWFC44oEMRoWDAtxlwWXZa6FFCpbHLhkz/nuPk85O5n5FXvzyTn33JkMwzAUAAgz\\\n",
              "bT0AADwNAQMgkoABEEnAAIgkYABEEjAAIgkYAJEEDIBIAgZAJAEDIJKAARBJwACIJGAARBIwACIJ\\\n",
              "GACRBAyASAIGQCQBAyCSgAEQScAAiCRgAEQSMAAiCRgAkQQMgEgCBkAkAQMgkoABEEnAAIgkYABE\\\n",
              "EjAAIgkYAJEEDIBIAgZAJAEDIJKAARBJwACIJGAARBIwACIJGACRBAyASAIGQCQBAyCSgAEQScAA\\\n",
              "iCRgAEQSMAAiCRgAkQQMgEgCBkAkAQMgkoABEEnAAIgkYABEEjAAIgkYAJEEDIBIAgZAJAEDIJKA\\\n",
              "ARBJwACIJGAARBIwACIJGACRBAyASAIGQCQBAyCSgAEQScAAiCRgAEQSMAAiCRgAkQQMgEgCBkAk\\\n",
              "AQMgkoABEEnAAIgkYABEEjAAIgkYAJEEDIBIAgZAJAEDIJKAARBJwACIJGAARBIwACIJGACRBAyA\\\n",
              "SAIGQCQBAyCSgAEQScAAiCRgAEQSMAAiCRgAkQQMgEgCBkAkAQMgkoABEEnAAIgkYABEEjAAIgkY\\\n",
              "AJEEDIBIAgZAJAEDIJKAARBJwACIJGAARBIwACIJGACRBAyASAIGQCQBAyCSgAEQScAAiCRgAEQS\\\n",
              "MAAiCRgAkQQMgEgCBkAkAQMgkoABEEnAAIgkYABEEjAAIi22HgD2omEYyt2bV8t8a/Oxvx1++VhZ\\\n",
              "2HegwVSQRcCghWEoVy9+Xu7fufHf1yeT8vYHH5dDLxxtMxcEsYUIvRmG1hNABAGDzgxFwKCGgEFv\\\n",
              "rMCgioBBZwYBgyoCBr0RMKgiYNCbYd56AoggYNAZhzigjoBBb2whQhUBg844xAF1BAx64x4YVBEw\\\n",
              "6Ix7YFBHwKAnQ3EPDCoJGPRGwKCKgEFnHOKAOgIGvREwqCJg0JmhOIUINQQMemMFBlUEDHojYFBF\\\n",
              "wKAzDnFAHQGD3ggYVBEw6Ixf4oA6Aga98VuIUEXAoDPugUEdAYPeCBhUETDojS1EqCJg0BlbiFBH\\\n",
              "wKA7AgY1BAx6YwUGVQQMOmMLEeoIGPRGwKCKgEFXhjI4hQhVBAy6YwUGNQQMmtn+8hvmVmBQQ8Cg\\\n",
              "hcmkPDc7se2f1ld+3uFhIJOAQSPTxf3bvj5/+GCHJ4FMAgaNTCaT1iNANAGDVgQMRhEwaMQKDMYR\\\n",
              "MGhGwGAMAYNWJi4/GMMVBI3YQoRxBAxaETAYRcCgESswGEfAoBkBgzEEDBqZOMQBo7iCoBVbiDCK\\\n",
              "gEErAgajCBg04hAHjCNg0IyAwRgCBo04xAHjuIKgFQswGEXAoBUrMBjFFQSNOMQB4wgYNCNgMIaA\\\n",
              "QSNWYDCOgEEr7oHBKK4gaMUKDEYRMGjEFiKMI2DQioDBKIutB4DdZG1trVy6dKnqvZPbV7a9AFdX\\\n",
              "V8vS0lLVZ8xms3L8+PEnmBB2j8kwDEPrIWC3WFpaKqdPn6567/unTpRPPnzvsdcv/vBL+ejTb6o+\\\n",
              "4+zZs+X8+fNPNCPsFlZg0Mh8GMp8mJabm2+U1QdHy8Hpenn94OXWY0EMAYNG5vNSrtx7p1zZeLcM\\\n",
              "ZVpKGcrNzWPlr/mvrUeDCA5xQCN/bL72KF4L5Z9f5ZiW21uvlOW7p1qPBhEEDBrZmk8fxevfJmVr\\\n",
              "2NdkHkgjYNDIYrlfFiab/3t1KIem603mgTQCBo08v3i9vHX4u7J/cq+UMpSF8qC8euByefPw961H\\\n",
              "gwh75hDHyspK6xHYA1ZXV6vf+9Nvt8oXX35W/nz4dVnbeqnsn94rL+77vdy4daf6MzY2NvxvM8ps\\\n",
              "Nms9wlPbMwG7cOFC6xHYA65du1b93uu31stX3/446vuWl5f9bzPKuXPnWo/w1DzIDM/QkzzI/Cx4\\\n",
              "kJm9zD0wACIJGACRBAyASAIGQCQBAyCSgAEQac88BwY74ciRI+XMmTM79n0nT57cse+C3ngODIBI\\\n",
              "thABiCRgAEQSMAAiCRgAkQQMgEgCBkAkAQMgkoABEEnAAIgkYABEEjAAIgkYAJEEDIBIAgZAJAED\\\n",
              "IJKAARBJwACIJGAARBIwACIJGACRBAyASAIGQCQBAyCSgAEQScAAiCRgAEQSMAAiCRgAkQQMgEgC\\\n",
              "BkAkAQMgkoABEEnAAIgkYABEEjAAIgkYAJEEDIBIAgZAJAEDIJKAARBJwACIJGAARBIwACIJGACR\\\n",
              "BAyASAIGQCQBAyCSgAEQScAAiCRgAEQSMAAiCRgAkQQMgEgCBkAkAQMgkoABEEnAAIgkYABEEjAA\\\n",
              "IgkYAJEEDIBIAgZAJAEDIJKAARBJwACIJGAARBIwACIJGACRBAyASAIGQCQBAyCSgAEQScAAiCRg\\\n",
              "AEQSMAAiCRgAkQQMgEgCBkAkAQMgkoABEEnAAIj0N1gn7qz+VioHAAAAAElFTkSuQmCC\\\n",
              "\"\n",
              "  frames[17] = \"data:image/png;base64,iVBORw0KGgoAAAANSUhEUgAAAbAAAAEgCAYAAADVKCZpAAAAOXRFWHRTb2Z0d2FyZQBNYXRwbG90\\\n",
              "bGliIHZlcnNpb24zLjcuMSwgaHR0cHM6Ly9tYXRwbG90bGliLm9yZy/bCgiHAAAACXBIWXMAAAsT\\\n",
              "AAALEwEAmpwYAAAHMklEQVR4nO3cP49UVRzH4TOzy79goWh0UGMCwUoTtKGhsrOk8Q1Y0mNtfA8k\\\n",
              "VhpDa6G1DYVuZWFC44oEMRoWDAtxlwWXZa6FFCpbHLhkz/nuPk85O5n5FXvzyTn33JkMwzAUAAgz\\\n",
              "bT0AADwNAQMgkoABEEnAAIgkYABEEjAAIgkYAJEEDIBIAgZAJAEDIJKAARBJwACIJGAARBIwACIJ\\\n",
              "GACRBAyASAIGQCQBAyCSgAEQScAAiCRgAEQSMAAiCRgAkQQMgEgCBkAkAQMgkoABEEnAAIgkYABE\\\n",
              "EjAAIgkYAJEEDIBIAgZAJAEDIJKAARBJwACIJGAARBIwACIJGACRBAyASAIGQCQBAyCSgAEQScAA\\\n",
              "iCRgAEQSMAAiCRgAkQQMgEgCBkAkAQMgkoABEEnAAIgkYABEEjAAIgkYAJEEDIBIAgZAJAEDIJKA\\\n",
              "ARBJwACIJGAARBIwACIJGACRBAyASAIGQCQBAyCSgAEQScAAiCRgAEQSMAAiCRgAkQQMgEgCBkAk\\\n",
              "AQMgkoABEEnAAIgkYABEEjAAIgkYAJEEDIBIAgZAJAEDIJKAARBJwACIJGAARBIwACIJGACRBAyA\\\n",
              "SAIGQCQBAyCSgAEQScAAiCRgAEQSMAAiCRgAkQQMgEgCBkAkAQMgkoABEEnAAIgkYABEEjAAIgkY\\\n",
              "AJEEDIBIAgZAJAEDIJKAARBJwACIJGAARBIwACIJGACRBAyASAIGQCQBAyCSgAEQScAAiCRgAEQS\\\n",
              "MAAiCRgAkQQMgEgCBkAkAQMgkoABEEnAAIgkYABEEjAAIi22HgD2omEYyt2bV8t8a/Oxvx1++VhZ\\\n",
              "2HegwVSQRcCghWEoVy9+Xu7fufHf1yeT8vYHH5dDLxxtMxcEsYUIvRmG1hNABAGDzgxFwKCGgEFv\\\n",
              "rMCgioBBZwYBgyoCBr0RMKgiYNCbYd56AoggYNAZhzigjoBBb2whQhUBg844xAF1BAx64x4YVBEw\\\n",
              "6Ix7YFBHwKAnQ3EPDCoJGPRGwKCKgEFnHOKAOgIGvREwqCJg0JmhOIUINQQMemMFBlUEDHojYFBF\\\n",
              "wKAzDnFAHQGD3ggYVBEw6Ixf4oA6Aga98VuIUEXAoDPugUEdAYPeCBhUETDojS1EqCJg0BlbiFBH\\\n",
              "wKA7AgY1BAx6YwUGVQQMOmMLEeoIGPRGwKCKgEFXhjI4hQhVBAy6YwUGNQQMmtn+8hvmVmBQQ8Cg\\\n",
              "hcmkPDc7se2f1ld+3uFhIJOAQSPTxf3bvj5/+GCHJ4FMAgaNTCaT1iNANAGDVgQMRhEwaMQKDMYR\\\n",
              "MGhGwGAMAYNWJi4/GMMVBI3YQoRxBAxaETAYRcCgESswGEfAoBkBgzEEDBqZOMQBo7iCoBVbiDCK\\\n",
              "gEErAgajCBg04hAHjCNg0IyAwRgCBo04xAHjuIKgFQswGEXAoBUrMBjFFQSNOMQB4wgYNCNgMIaA\\\n",
              "QSNWYDCOgEEr7oHBKK4gaMUKDEYRMGjEFiKMI2DQioDBKIutB4DdZG1trVy6dKnqvZPbV7a9AFdX\\\n",
              "V8vS0lLVZ8xms3L8+PEnmBB2j8kwDEPrIWC3WFpaKqdPn6567/unTpRPPnzvsdcv/vBL+ejTb6o+\\\n",
              "4+zZs+X8+fNPNCPsFlZg0Mh8GMp8mJabm2+U1QdHy8Hpenn94OXWY0EMAYNG5vNSrtx7p1zZeLcM\\\n",
              "ZVpKGcrNzWPlr/mvrUeDCA5xQCN/bL72KF4L5Z9f5ZiW21uvlOW7p1qPBhEEDBrZmk8fxevfJmVr\\\n",
              "2NdkHkgjYNDIYrlfFiab/3t1KIem603mgTQCBo08v3i9vHX4u7J/cq+UMpSF8qC8euByefPw961H\\\n",
              "gwh75hDHyspK6xHYA1ZXV6vf+9Nvt8oXX35W/nz4dVnbeqnsn94rL+77vdy4daf6MzY2NvxvM8ps\\\n",
              "Nms9wlPbMwG7cOFC6xHYA65du1b93uu31stX3/446vuWl5f9bzPKuXPnWo/w1DzIDM/QkzzI/Cx4\\\n",
              "kJm9zD0wACIJGACRBAyASAIGQCQBAyCSgAEQac88BwY74ciRI+XMmTM79n0nT57cse+C3ngODIBI\\\n",
              "thABiCRgAEQSMAAiCRgAkQQMgEgCBkAkAQMgkoABEEnAAIgkYABEEjAAIgkYAJEEDIBIAgZAJAED\\\n",
              "IJKAARBJwACIJGAARBIwACIJGACRBAyASAIGQCQBAyCSgAEQScAAiCRgAEQSMAAiCRgAkQQMgEgC\\\n",
              "BkAkAQMgkoABEEnAAIgkYABEEjAAIgkYAJEEDIBIAgZAJAEDIJKAARBJwACIJGAARBIwACIJGACR\\\n",
              "BAyASAIGQCQBAyCSgAEQScAAiCRgAEQSMAAiCRgAkQQMgEgCBkAkAQMgkoABEEnAAIgkYABEEjAA\\\n",
              "IgkYAJEEDIBIAgZAJAEDIJKAARBJwACIJGAARBIwACIJGACRBAyASAIGQCQBAyCSgAEQScAAiCRg\\\n",
              "AEQSMAAiCRgAkQQMgEgCBkAkAQMgkoABEEnAAIj0N1gn7qz+VioHAAAAAElFTkSuQmCC\\\n",
              "\"\n",
              "  frames[18] = \"data:image/png;base64,iVBORw0KGgoAAAANSUhEUgAAAbAAAAEgCAYAAADVKCZpAAAAOXRFWHRTb2Z0d2FyZQBNYXRwbG90\\\n",
              "bGliIHZlcnNpb24zLjcuMSwgaHR0cHM6Ly9tYXRwbG90bGliLm9yZy/bCgiHAAAACXBIWXMAAAsT\\\n",
              "AAALEwEAmpwYAAAGKklEQVR4nO3bPW9WZQDH4bstRRQHU0yshvhCwuRQXVwY3HTla9gdv4Qz0cnE\\\n",
              "sDroqouDdnIwYRGBRIiESqQaWttQkMeFwYhDeQnHX3td452Tc/7Dk/zSp8+Zm81mswEAMfNTDwCA\\\n",
              "RyFgACQJGABJAgZAkoABkCRgACQJGABJAgZAkoABkCRgACQJGABJAgZAkoABkCRgACQJGABJAgZA\\\n",
              "koABkCRgACQJGABJAgZAkoABkCRgACQJGABJAgZAkoABkCRgACQJGABJAgZAkoABkCRgACQJGABJ\\\n",
              "AgZAkoABkCRgACQJGABJAgZAkoABkCRgACQJGABJAgZAkoABkCRgACQJGABJAgZAkoABkCRgACQJ\\\n",
              "GABJAgZAkoABkCRgACQJGABJAgZAkoABkCRgACQJGABJAgZAkoABkCRgACQJGABJAgZAkoABkCRg\\\n",
              "ACQJGABJAgZAkoABkCRgACQJGABJAgZAkoABkCRgACQJGABJAgZAkoABkCRgACQJGABJAgZAkoAB\\\n",
              "kCRgACQJGABJAgZAkoABkCRgACQJGABJAgZAkoABkCRgACQJGABJAgZAkoABkCRgACQJGABJAgZA\\\n",
              "koABkCRgACQJGABJAgZAkoABkCRgACQJGABJAgZAkoABkCRgACQJGABJAgZAkoABkCRgACQJGABJ\\\n",
              "AgZAkoABkCRgACQJGABJAgZAkoABkCRgACQJGABJAgZAkoABkCRgACQJGABJAgZAkoABkCRgACQJ\\\n",
              "GABJAgZAkoABkCRgACQdmnoAHFR3djbHzsa1B84PHXl+PHfs+ASLoEXAYCJb65fGpa8+fuD8hdff\\\n",
              "GiffX51gEbT4ChGAJAEDIEnAAEgSMACSBAyAJAEDIEnAAEgSMACSBAyAJAEDIEnAAEgSMACSBAyA\\\n",
              "JAEDIEnAAEgSMACSBAyAJAEDIEnAAEgSMACSBAyAJAEDIEnAAEgSMACSBAyAJAEDIEnAAEgSMACS\\\n",
              "BAyAJAEDIEnAAEgSMACSBAyAJAEDIEnAAEgSMACSBAyAJAEDIEnAAEgSMACSBAyAJAEDIEnAAEgS\\\n",
              "MACSBAyAJAEDIEnAAEgSMACSBAyAJAEDIEnAAEgSMACSBAyAJAEDIEnAAEgSMACSBAyAJAEDIEnA\\\n",
              "AEg6NPUA2E82NzfH+fPn93Tt/K2rY+E/zjc2Nsba2tqe7rG8vDxOnDjxEAth/5ibzWazqUfAfrG2\\\n",
              "tjZOnTq1p2vfXXltfPTBew+cf/PDz+PDT77e0z1WV1fH2bNnH2oj7Bf+AoMJ3ZvNjxu7r46NOy+P\\\n",
              "I/Nb4/iRi1NPggwBg4nMxty4vPPWuLz99piN+THGbNzYfWPcvnd16mmQ4EccMJHfdo/fj9fCGGNu\\\n",
              "jDE/fr/70rjw5ztTT4MEAYOJ3BsL9+P1T3Pj7mxxkj1QI2AwkcW522Nhbvdfp7Px7PzWJHugRsBg\\\n",
              "IkuL18ebR78bh+d2xhizsTDujFeeuThOHv1+6mmQcGB+xLG+vj71BA6AjY2NPV/70y83x2effzpu\\\n",
              "/fXl2Lz74jg8vzOOLV4bv978Y8/32N7e9tnmsSwvL0894ZEdmICdO3du6gkcAFeuXNnztddvbo0v\\\n",
              "vv3xsZ534cIFn20ey5kzZ6ae8Mi8yAxP0MO8yPwkeJGZg8z/wABIEjAAkgQMgCQBAyBJwABIEjAA\\\n",
              "kg7Me2DwNCwtLY3Tp08/teetrKw8tWfB/433wABI8hUiAEkCBkCSgAGQJGAAJAkYAEkCBkCSgAGQ\\\n",
              "JGAAJAkYAEkCBkCSgAGQJGAAJAkYAEkCBkCSgAGQJGAAJAkYAEkCBkCSgAGQJGAAJAkYAEkCBkCS\\\n",
              "gAGQJGAAJAkYAEkCBkCSgAGQJGAAJAkYAEkCBkCSgAGQJGAAJAkYAEkCBkCSgAGQJGAAJAkYAEkC\\\n",
              "BkCSgAGQJGAAJAkYAEkCBkCSgAGQJGAAJAkYAEkCBkCSgAGQJGAAJAkYAEkCBkCSgAGQJGAAJAkY\\\n",
              "AEkCBkCSgAGQJGAAJAkYAEkCBkCSgAGQJGAAJAkYAEkCBkCSgAGQJGAAJAkYAEkCBkCSgAGQJGAA\\\n",
              "JAkYAEkCBkCSgAGQJGAAJAkYAEkCBkCSgAGQJGAAJAkYAEkCBkCSgAGQJGAAJAkYAEl/A8Tmk7Qr\\\n",
              "M6QPAAAAAElFTkSuQmCC\\\n",
              "\"\n",
              "  frames[19] = \"data:image/png;base64,iVBORw0KGgoAAAANSUhEUgAAAbAAAAEgCAYAAADVKCZpAAAAOXRFWHRTb2Z0d2FyZQBNYXRwbG90\\\n",
              "bGliIHZlcnNpb24zLjcuMSwgaHR0cHM6Ly9tYXRwbG90bGliLm9yZy/bCgiHAAAACXBIWXMAAAsT\\\n",
              "AAALEwEAmpwYAAAHUklEQVR4nO3dPW8cVRiG4Xf8kcTIfEfBBQUFFFAglN6iRPT8AVr61LT8A2qU\\\n",
              "BqWjoEEUCEKJkIgLigQJUISVABKOE0dxdg8NDXIkjzzIZx58XZU1Xu2+zej2mTmzHlprrQAgzErv\\\n",
              "AQDgJAQMgEgCBkAkAQMgkoABEEnAAIgkYABEEjAAIgkYAJEEDIBIAgZAJAEDIJKAARBJwACIJGAA\\\n",
              "RBIwACIJGACRBAyASAIGQCQBAyCSgAEQScAAiCRgAEQSMAAiCRgAkQQMgEgCBkAkAQMgkoABEEnA\\\n",
              "AIgkYABEEjAAIgkYAJEEDIBIAgZAJAEDIJKAARBJwACIJGAARBIwACIJGACRBAyASAIGQCQBAyCS\\\n",
              "gAEQScAAiCRgAEQSMAAiCRgAkQQMgEgCBkAkAQMgkoABEEnAAIgkYABEEjAAIgkYAJEEDIBIAgZA\\\n",
              "JAEDIJKAARBJwACIJGAARBIwACIJGACRBAyASAIGQCQBAyCSgAEQScAAiCRgAEQSMAAiCRgAkQQM\\\n",
              "gEgCBkAkAQMgkoABEEnAAIgkYABEEjAAIgkYAJEEDIBIAgZAJAEDIJKAARBJwACIJGAARBIwACIJ\\\n",
              "GACRBAyASAIGQCQBAyCSgAEQScAAiCRgAEQSMAAiCRgAkQQMgEgCBkAkAQMgkoABEEnAAIgkYABE\\\n",
              "EjAAIgkYAJEEDIBIAgZAJAEDIJKAARBJwACIJGAARBIwACIJGACRBAyASAIGQCQBAyCSgAEQScAA\\\n",
              "iCRgAEQSMAAiCRgAkQQMgEgCBkAkAQMgkoABEEnAAIi01nsAOKsOD+7VwZ+3jxxfu7BZT734coeJ\\\n",
              "IIuAQQettdrfvVk3v/j4yO+ee+Wteu2dDzpMBVlcQoROWmu9R4BoAga9tGXvCSCagEEn1l8wjYBB\\\n",
              "L1ZgMImAQS/ugcEkAgad2MQB0wgY9CJgMImAQSfNNg6YRMCgF5s4YBIBg15cQoRJBAw6sYkDphEw\\\n",
              "6EXAYBIBg06ae2AwiYBBN1ZgMIWAQSfugcE0Aga9CBhMImDQi4DBJAIGnfgmDphGwKAXuxBhEgGD\\\n",
              "TmzigGkEDHoRMJhEwKATKzCYRsCgF/fAYBIBg26swGAKAYNOXEKEaQQMehEwmETAoBcBg0kEDDrx\\\n",
              "71RgGgGDbqzAYAoBg05s4oBpBAx6ETCYRMCgEyswmEbAoJPWFk88PgzDKU8CmQQMemit9ndvPvFX\\\n",
              "m1uvnvIwkEnAoJO2OHzi8ZW1c6c8CWQSMJgdlxBhDAGDWRlqGJyWMIYzBebGJg4YRcBgbgQMRhEw\\\n",
              "mBnb6GEcAYPZETAYQ8BgZqzAYBwBg7mxCxFGcabA3FiBwSgCBjPjEiKMI2AwOwIGYwgYzIxv4oBx\\\n",
              "nCkwNy4hwigCBjPjHhiMI2AwNwIGowgYzI6AwRgCBjPjEiKMI2AwNwIGowgYzIxt9DCOMwXmxgoM\\\n",
              "RhEwmJOhBAxGEjCYmcEuRBhFwGBu3AODUZwpMDO20cM4a70HgP+TnZ2d2tvbO/Z1Q7VaPXh45GJh\\\n",
              "a1U3buxUu7V77Husrq7W5cuXa319/YTTQrahtdZ6DwH/F9vb23X9+vVjX7cyDPXph+/VK1vP/ev4\\\n",
              "Yrms9z/6rH785fdj32Nzc7Nu3bpVly5dOum4EM0KDDq6v3imbj98rRa1Vi+d+7meXf2tlv6mhFEE\\\n",
              "DDq59/iF+vmvd+vB8pmqqvr14ev1xlNf13LZeTAIYRMHdNBqqBv7b9eD5bP1z8NftWjnamd/u+4v\\\n",
              "NnuPBxEEDDp53I5uvli0tVou7UKEMQQMumi1sbJ/5Oj5lYOqenz640AgAYMOhqp68+mv6oX12zXU\\\n",
              "ooZa1sbKXr319Jd1YbjXezyIcGY2cezuHv9cDUz16NGjUa9btlaffP5NXbjwff1++HIt22o9v75b\\\n",
              "367cqz/2Dka9R2ut7t69W0u7Pphga2ur9wgndmYCdvXq1d4jcAbcuXNn9Gu//O6nf3764USfdXh4\\\n",
              "WNeuXavNTZs+OLkrV670HuHEPMgM/6GxDzL/FzzIzFnnHhgAkQQMgEgCBkAkAQMgkoABEEnAAIh0\\\n",
              "Zp4Dg9Owvb1dFy9ePJXP2tjYqPPnz5/KZ8EceQ4MgEguIQIQScAAiCRgAEQSMAAiCRgAkQQMgEgC\\\n",
              "BkAkAQMgkoABEEnAAIgkYABEEjAAIgkYAJEEDIBIAgZAJAEDIJKAARBJwACIJGAARBIwACIJGACR\\\n",
              "BAyASAIGQCQBAyCSgAEQScAAiCRgAEQSMAAiCRgAkQQMgEgCBkAkAQMgkoABEEnAAIgkYABEEjAA\\\n",
              "IgkYAJEEDIBIAgZAJAEDIJKAARBJwACIJGAARBIwACIJGACRBAyASAIGQCQBAyCSgAEQScAAiCRg\\\n",
              "AEQSMAAiCRgAkQQMgEgCBkAkAQMgkoABEEnAAIgkYABEEjAAIgkYAJEEDIBIAgZAJAEDIJKAARBJ\\\n",
              "wACIJGAARBIwACIJGACRBAyASAIGQCQBAyCSgAEQScAAiCRgAEQSMAAiCRgAkQQMgEgCBkAkAQMg\\\n",
              "koABEOlvZ9D3CSTBQXgAAAAASUVORK5CYII=\\\n",
              "\"\n",
              "  frames[20] = \"data:image/png;base64,iVBORw0KGgoAAAANSUhEUgAAAbAAAAEgCAYAAADVKCZpAAAAOXRFWHRTb2Z0d2FyZQBNYXRwbG90\\\n",
              "bGliIHZlcnNpb24zLjcuMSwgaHR0cHM6Ly9tYXRwbG90bGliLm9yZy/bCgiHAAAACXBIWXMAAAsT\\\n",
              "AAALEwEAmpwYAAAIOklEQVR4nO3dPY9cZxnH4fvMzK69i02EI4RxkChSGApL+BMgJDdUlHwSiw/A\\\n",
              "h6Chs4RL6JDABQUK0OEUcWFEZCuK7EQhVuz1y+6c81CYBtb2Tjxmn/l7r6vbmdHs3Tz66TlzXobW\\\n",
              "WisACDPrPQAAvA4BAyCSgAEQScAAiCRgAEQSMAAiCRgAkQQMgEgCBkAkAQMgkoABEEnAAIgkYABE\\\n",
              "EjAAIgkYAJEEDIBIAgZAJAEDIJKAARBJwACIJGAARBIwACIJGACRBAyASAIGQCQBAyCSgAEQScAA\\\n",
              "iCRgAEQSMAAiCRgAkQQMgEgCBkAkAQMgkoABEEnAAIgkYABEEjAAIgkYAJEEDIBIAgZAJAEDIJKA\\\n",
              "ARBJwACIJGAARBIwACIJGACRBAyASAIGQCQBAyCSgAEQScAAiCRgAEQSMAAiCRgAkQQMgEgCBkAk\\\n",
              "AQMgkoABEEnAAIgkYABEEjAAIgkYAJEEDIBIAgZAJAEDIJKAARBJwACIJGAARBIwACIJGACRBAyA\\\n",
              "SAIGQCQBAyCSgAEQScAAiCRgAEQSMAAiCRgAkQQMgEgCBkAkAQMgkoABEEnAAIgkYABEEjAAIgkY\\\n",
              "AJEEDIBIAgZAJAEDIJKAARBJwACIJGAARBIwACIJGACRBAyASAIGQCQBAyCSgAEQScAAiCRgAEQS\\\n",
              "MAAiCRgAkQQMgEgCBkAkAQMgkoABEEnAAIgkYABEEjAAIgkYAJEEDIBIAgZAJAEDIJKAARBJwACI\\\n",
              "JGAARBIwACIJGACRBAyASAIGQCQBAyCSgAEQScAAiCRgAEQSMAAiLXoPACfZ3ud3atx/cuj13W9/\\\n",
              "vxbbOx0mghwCBp20NtWdP/+m9j77+NB7P/zZL+rM+fc7TAU5HEKETto0VmtT7zEgloBBJ22aqiYB\\\n",
              "g9clYNCJHRisR8CgEwGD9QgYdNKm0SFEWIOAQSd2YLAeAYNO2jQJGKxBwKCTg8cPavl079Dri52z\\\n",
              "NT+122EiyCJg0Mny6aOaDp4een1r55s1dxcOOJKAwYYZZvMaZpYmHMUqgQ0zzGY1DJYmHMUqgQ0z\\\n",
              "DPMqAYMjWSWwYRxChNVYJbBhhtn8+S4MeCUBgw0zzOZVw9B7DNh4AgYdtNZe+t7zQ4h2YHAUAYNO\\\n",
              "XnoXjmGowQ4MjiRg0Mk0LnuPANEEDDpp40HvESCagEEn01LAYB0CBp3YgcF6BAw68RsYrEfAoJNp\\\n",
              "ud97BIgmYNBJm+zAYB0CBl202vv8zgvf2T33vWOeBTIJGPTQnj+R+bChts+eO+5pIJKAwYYZ5lu9\\\n",
              "R4AIAgYbZiZgsBIBgw0zmy96jwARBAw2jEOIsBoBg00yVM0WAgarEDDYMH4Dg9UIGGyYwW9gsBIB\\\n",
              "gw5am+plD2X2NGZYjYBBB20a66UFA1YiYNBBm5ZVbeo9BkQTMOigjWM1OzBYi4BBB5MdGKxNwKCD\\\n",
              "NtmBwboEDDpo49JJHLAmAYMO2jRWK4cQYR0CBh0s9x8/34X9j9nilOvAYEUCBh08/fJejftPDr2+\\\n",
              "e+69Wpza7TAR5BEw2CDDbFFVQ+8xIIKAwQYZ5vMaBssSVmGlwAYZZouqwQ4MViFgsEHswGB1Vgps\\\n",
              "kJkdGKxMwGCDDLN5DQIGKxEwOGavuoXUMF9UOYQIK7FSoIP2khv5+v0LVme1QAdtPHjpew4hwmoE\\\n",
              "DDqYXnAbKeDrETA4du2VOzBgNQIGx63ZgcGbIGBw7OzA4E0QMOjADgzWJ2DQgR0YrE/A4Ji1NtX+\\\n",
              "3oMXvDPU4vSZ4x4HYi16DwBvg9Za3bx5sx4/fnzkZ4dpWfN7Hx966lcbhrr7xZO6+8EHR37H9vZ2\\\n",
              "Xb58ueZzT2/m5Braq+5rA6xkHMe6dOlS3bp168jPnt5e1G9/+fN6953/fvLy/sFYV3/1h/rLR58c\\\n",
              "+R0XLlyo27dv1+6upzdzctmBQScPl9+qT5+9X61m9d3tf9bpul/7y7H3WBBDwKCDL5ffqbtf/bSe\\\n",
              "Td+oqqpPnl6sH5y+Uc8OBAxW5SQOOGZjW9SHD39Sz6YzVTVU1VAHbac+fPjj2jvY6j0exBAw6GBs\\\n",
              "h0O1nLbq2cGL71IPHCZgcMyGanV6/ujQ66dme7U8cH0YrErA4JjNhrF+dPZGvbP4rIYaa6ipzsz/\\\n",
              "VZfP/rHadPRp+MBzJ+Ykjnv37vUegbfYNE01jqudgHGwHOvXv7tRw+Kv9cXBe9XaUO9ufVp/qkf1\\\n",
              "1d6zlb5jHMe6f/9+7ezsrDM21Pnz53uP8NpOTMCuXbvWewTeYq21evDgwUqfHadWv//bP/7z199f\\\n",
              "6/89efKkrl+/XltbTvpgPVevXu09wmtzITO8AV/nQuY3wYXM4DcwAEIJGACRBAyASAIGQCQBAyCS\\\n",
              "gAEQ6cRcBwb/T8Mw1JUrV+rixYvH8v/OnTvnYZaceK4DAyCSQ4gARBIwACIJGACRBAyASAIGQCQB\\\n",
              "AyCSgAEQScAAiCRgAEQSMAAiCRgAkQQMgEgCBkAkAQMgkoABEEnAAIgkYABEEjAAIgkYAJEEDIBI\\\n",
              "AgZAJAEDIJKAARBJwACIJGAARBIwACIJGACRBAyASAIGQCQBAyCSgAEQScAAiCRgAEQSMAAiCRgA\\\n",
              "kQQMgEgCBkAkAQMgkoABEEnAAIgkYABEEjAAIgkYAJEEDIBIAgZAJAEDIJKAARBJwACIJGAARBIw\\\n",
              "ACIJGACRBAyASAIGQCQBAyCSgAEQScAAiCRgAEQSMAAiCRgAkQQMgEgCBkAkAQMgkoABEEnAAIgk\\\n",
              "YABEEjAAIgkYAJEEDIBIAgZAJAEDIJKAARBJwACIJGAARBIwACIJGACRBAyASAIGQCQBAyCSgAEQ\\\n",
              "ScAAiCRgAET6N93DbJ+NApNuAAAAAElFTkSuQmCC\\\n",
              "\"\n",
              "  frames[21] = \"data:image/png;base64,iVBORw0KGgoAAAANSUhEUgAAAbAAAAEgCAYAAADVKCZpAAAAOXRFWHRTb2Z0d2FyZQBNYXRwbG90\\\n",
              "bGliIHZlcnNpb24zLjcuMSwgaHR0cHM6Ly9tYXRwbG90bGliLm9yZy/bCgiHAAAACXBIWXMAAAsT\\\n",
              "AAALEwEAmpwYAAAI50lEQVR4nO3dv4tlZx3H8e+5P2ZmfwQNBtkEo6isQhSDlSBov2Jt55+Rzn/C\\\n",
              "MoVV0tqoBEQbmzQGtkgXg5As2Z2EZNwkszNzf51jsUWEuZO5m433uZ/s6wXTnHOZ+20Ob56Zc87T\\\n",
              "DcMwFACEGbUeAAC+CAEDIJKAARBJwACIJGAARBIwACIJGACRBAyASAIGQCQBAyCSgAEQScAAiCRg\\\n",
              "AEQSMAAiCRgAkQQMgEgCBkAkAQMgkoABEEnAAIgkYABEEjAAIgkYAJEEDIBIAgZAJAEDIJKAARBJ\\\n",
              "wACIJGAARBIwACIJGACRBAyASAIGQCQBAyCSgAEQScAAiCRgAEQSMAAiCRgAkQQMgEgCBkAkAQMg\\\n",
              "koABEEnAAIgkYABEEjAAIgkYAJEEDIBIAgZAJAEDIJKAARBJwACIJGAARBIwACIJGACRBAyASAIG\\\n",
              "QCQBAyCSgAEQScAAiCRgAEQSMAAiCRgAkQQMgEgCBkAkAQMgkoABEEnAAIgkYABEEjAAIgkYAJEE\\\n",
              "DIBIAgZAJAEDIJKAARBJwACIJGAARBIwACIJGACRBAyASAIGQCQBAyCSgAEQScAAiCRgAEQSMAAi\\\n",
              "CRgAkQQMgEgCBkAkAQMgkoABEEnAAIgkYABEEjAAIgkYAJEEDIBIAgZAJAEDIJKAARBJwACIJGAA\\\n",
              "RBIwACIJGACRBAyASAIGQCQBAyCSgAEQScAAiCRgAEQSMAAiCRgAkQQMgEgCBkAkAQMgkoABEEnA\\\n",
              "AIgkYABEEjAAIgkYAJEEDIBIAgZAJAEDIJKAARBJwACIJGAARBIwACJNWg8AT7Ll7KROj96r8fSg\\\n",
              "RtP9Gk/3azTdr9Fkv7quaz0e7DQBg4ZOPny33nrt9zWaHtR476DG04c/17753fr2z3/TejzYaQIG\\\n",
              "Da3mpzX0q1rNHtRq9uCzE1ZfcCn/A4OGVvPT1iNALAGDhlaLs9YjQCwBg4bO7r/fegSIJWDQ0MmH\\\n",
              "76w9fv3G97c8CeQRMNhBe1e/3noE2HkCBjtovHel9Qiw8wQMdpCAweUEDBoZhqGGC86NpwdbnQUS\\\n",
              "CRg0MvSrGvp+7bnRZG/L00AeAYNG+tWihn7ZegyIJWDQyLBc1LBatR4DYgkYNGIFBo9HwKCR+fFR\\\n",
              "LU4/PX+i67zMFzYgYNDI8uy4+jXvQjz42o3au/Z0g4kgi4DBjhlN96qbTFuPATtPwGDHjMbTGo3G\\\n",
              "rceAnSdgsGNG473qRvaahcsIGDQwDEMNw/r3cIwmk+rGVmBwGQGDRvrlbP2JblRV7kKEywgYNLKa\\\n",
              "X7wbc+c2eriUgEEjq8Vp6xEgmoBBI5+3AgMuJ2DQxFDH9/619oy9wGAzAgYtDFXL2fGaE1099dwP\\\n",
              "tz4OJBIw2DFWYLAZAYMdYzdm2IyAwS7pqsZ7AgabEDBoYBj6uuBFHFZgsCEBgwb65byqv2A3Zg8x\\\n",
              "w0YEDBrol/Mahr71GBBNwKCBfjmv4aIVGLARAYMG+sWshn7dCqzzGl/YkIBBAw8+ereWZ+cfZL76\\\n",
              "jW/VeP9ag4kgj4BBA8NqVVXnb0Mc712xmSVsSMBgh4wme9WNXJawCVcK7BABg825UmDLhoueYK6q\\\n",
              "0WS/um68xWkgl4BBA8Nqsfb4aDzxIDNsSMBg64ZaLS7ezLITMNiIgMG2DVWrxaz1FBBPwGDrhlrN\\\n",
              "L16BAZsRMNiyYRhqefrJ2nOjyd6Wp4FcAgZbNvSrOn7/7XPHu9G4rj97s8FEkEnAoIG1d9J3nb3A\\\n",
              "4BEIGOyMzm7M8AgEDHZEZwUGj0TAYOsufhOHgMHmBAy2rF8uLvonWHUjr5GCTQkYbFm/mFUN6zaz\\\n",
              "BB6FgMGWrRazz32hL7AZAYMt65dnNViBwWMTMNiy+fH9GvrVueOTg2tV9gKDjblaYMtO/3N37XYq\\\n",
              "V5/5To29Sgo2JmCwI8bTfXuBwSMQMNgRo+lBdZ1LEjblaoEdYQUGj0bAYIuGYbjwDsSHW6kIGGxK\\\n",
              "wGCbhqH65Xz9ua6rzgoMNjZpPQCkW61Wdfv27ZrPLwjT/+hqqPHdO2vXWXfu3Kl3Zq9f+juuXr1a\\\n",
              "L774otjxxOsGrwSAx/LgwYO6efNm3bt379LPTiej+t1vf1m3fnZ+48qX//RG/eG125f+jhdeeKHe\\\n",
              "fPPNGnlmjCecFRhs0ajr6sr+tO4vnqnD+feqq76e23+7ro/vtx4N4ggYbNHedFJXn/5xvfHJr2ox\\\n",
              "7FdV1d3ZD+pHV/5adz/6tPF0kMXfIGCLhtG1+mDv17UYDurhHYddnfXX659Hv6h/3ztuPR5EETDY\\\n",
              "qq5Ww/Tc0Xk/qZPZssE8kEvAYIu6rq+D0YNzx/fr0zqdXX4XI/AZAYMt2uvO6qdP/a2uj4+qq766\\\n",
              "WtXXJh/UT67/vWazs9bjQZQn5iaOw8PD1iPwFXV6elp9v9n+Xsen83r5j3+pZf2jPlo8W1031DPT\\\n",
              "96pfHNfJ7Pwb6tdZLpd1eHjoNnq+FDdu3Gg9whf2xATslVdeaT0CX1Hz+bxOTk42+uxssao/v/7W\\\n",
              "Y33fxx9/XK+++qoHmflSvPTSS61H+MI8yAyP6VEeZP4yeJAZHnIFABBJwACIJGAARBIwACIJGACR\\\n",
              "BAyASE/Mc2Dw/zKZTOrWrVt1dHS0le97/vnnt/I9sOs8BwZAJH9CBCCSgAEQScAAiCRgAEQSMAAi\\\n",
              "CRgAkQQMgEgCBkAkAQMgkoABEEnAAIgkYABEEjAAIgkYAJEEDIBIAgZAJAEDIJKAARBJwACIJGAA\\\n",
              "RBIwACIJGACRBAyASAIGQCQBAyCSgAEQScAAiCRgAEQSMAAiCRgAkQQMgEgCBkAkAQMgkoABEEnA\\\n",
              "AIgkYABEEjAAIgkYAJEEDIBIAgZAJAEDIJKAARBJwACIJGAARBIwACIJGACRBAyASAIGQCQBAyCS\\\n",
              "gAEQScAAiCRgAEQSMAAiCRgAkQQMgEgCBkAkAQMgkoABEEnAAIgkYABEEjAAIgkYAJEEDIBIAgZA\\\n",
              "JAEDIJKAARBJwACIJGAARBIwACIJGACRBAyASAIGQCQBAyCSgAEQScAAiCRgAEQSMAAiCRgAkQQM\\\n",
              "gEgCBkAkAQMg0n8By15+L5UiiCQAAAAASUVORK5CYII=\\\n",
              "\"\n",
              "  frames[22] = \"data:image/png;base64,iVBORw0KGgoAAAANSUhEUgAAAbAAAAEgCAYAAADVKCZpAAAAOXRFWHRTb2Z0d2FyZQBNYXRwbG90\\\n",
              "bGliIHZlcnNpb24zLjcuMSwgaHR0cHM6Ly9tYXRwbG90bGliLm9yZy/bCgiHAAAACXBIWXMAAAsT\\\n",
              "AAALEwEAmpwYAAAJW0lEQVR4nO3dvY8cdx3H8e/sw+36fIkTEtkGJUUCCrboaZCgoI1QSM+fkYoi\\\n",
              "f0AkCv6BFCmokJDSpSDiSUprhBAoPEick9iBxHF8vru9fRiKIIRye/GeHWbuY79ekpuZlfcrnUfv\\\n",
              "8+5vftO0bdsWAIQZ9D0AANwPAQMgkoABEEnAAIgkYABEEjAAIgkYAJEEDIBIAgZAJAEDIJKAARBJ\\\n",
              "wACIJGAARBIwACIJGACRBAyASAIGQCQBAyCSgAEQScAAiCRgAEQSMAAiCRgAkQQMgEgCBkAkAQMg\\\n",
              "koABEEnAAIgkYABEEjAAIgkYAJEEDIBIAgZAJAEDIJKAARBJwACIJGAARBIwACIJGACRBAyASAIG\\\n",
              "QCQBAyCSgAEQScAAiCRgAEQSMAAiCRgAkQQMgEgCBkAkAQMgkoABEEnAAIgkYABEEjAAIgkYAJEE\\\n",
              "DIBIAgZAJAEDIJKAARBJwACIJGAARBIwACIJGACRBAyASAIGQCQBAyCSgAEQScAAiCRgAEQSMAAi\\\n",
              "CRgAkQQMgEgCBkAkAQMgkoABEEnAAIgkYABEEjAAIgkYAJEEDIBIAgZAJAEDIJKAARBJwACIJGAA\\\n",
              "RBIwACIJGACRBAyASAIGQCQBAyCSgAEQScAAiCRgAEQSMAAiCRgAkQQMgEgCBkAkAQMgkoABEEnA\\\n",
              "AIgkYABEEjAAIgkYAJEEDIBIAgZAJAEDIJKAARBJwACIJGAARBIwACIJGACRBAyASAIGQCQBAyCS\\\n",
              "gAEQScAAiCRgAEQSMAAiCRgAkQQMgEgCBkAkAQMgkoABEEnAAIgkYABEEjAAIo36HgAedfsfv1er\\\n",
              "xVENR5MajCc1HE9qMJ7WYOjyhC/iCoEetatlXX/n53Xng3druDWtwXhaw/Gkhlvn6plv/7B2Lj3f\\\n",
              "94hwZgkY9Gi1mNdyflirxaxWi1lV3f7vucXBnf4GgwC+A4MerZZHtZrP+h4DIgkY9GhxuFdH+5+s\\\n",
              "P9k0nc4CaQQMerQ43F/7UeHWzldq+sSlHiaCHAIGZ9BwPK3h1nbfY8CZJmDQq3bt0cFoq4bjScez\\\n",
              "QBYBgx4t54drjzfDUTXDccfTQBYBgx4tDvdOPNdYxAFfSMCgR3P3esF9EzDo0ae7f1h7fLz9RLeD\\\n",
              "QCABgx6tFkdrjz92+RsdTwJ5BAzOoNG5nb5HgDNPwKAnbduesIi+ajQVMLgXAYOerBZH1S4Xa88N\\\n",
              "R+4Bg3sRMOjJZzvQz/seA2IJGPRkNZ/VailgcL8EDHpyePtmze/eOnZ88tjTNd6+0MNEkEXAoCer\\\n",
              "xbza1fLY8eH0fA22pj1MBFkEDM6Y4XhaA/sgwj0JGPSgbdtq29Xac4PRRMBgAwIGPVnM9tcebwYD\\\n",
              "T2OGDQgY9MRO9PBgBAx6Mrt9s+8RIJqAQR/atvZu/nXtqZ1LX+94GMgkYHCmNDW9cLHvISCCgMFZ\\\n",
              "0tjIFzYlYNCDtl1Ve8JW9MPJ+W6HgVACBj1YHh1Uu1q/E30zcFnCJlwp0IPl0UG1y+PbSAGbEzDo\\\n",
              "wfzg01otjo4dH4wm1TQuS9iEKwV6cPDx+7U8Or4Tx/ZTz1rEARsSMDhDhlvnqhkM+x4DIggYdKw9\\\n",
              "aflhVQ23ptUMRx1OA7kEDHpw0pOYh2PfgcGmXCnQubYWh3dPONfYyBc2JGDQtbat5ezkneiBzQgY\\\n",
              "dKxdLevOjfUb+Q5GWx1PA7kEDDrWtm3N928fO94MRvX4M1d7mAgyCRicFU3jHjA4BQGDM6IRMDgV\\\n",
              "AYOOrRZHtX4r+qaGvgODjQkYdGwxu1tte9JGvpbQw6YEDDq2nO1XrVZ9jwHxBAw6tv/R9bU7cUwv\\\n",
              "XLSNFJyCgEHH5vu3q10d/whx+sTlGgzHPUwEmQQMzojh5LynMcMpuFqgQ23bnrACsWo02a6ykS9s\\\n",
              "zNUCXWrbWi4O155qhiMb+cIpCBh0qG1XtTg8/iRm4PQEDDrUrpa1OLyz9pwnMcPpCBh0aDU/rDsf\\\n",
              "vHvs+GA8qZ2Lz/UwEeQSMOhQW1XVHr+JuWmG9kGEUxIwOAOawaCGk+2+x4AoAgZdWvO/r6qqphnU\\\n",
              "aOtcx8NANgGDDi1m+5/dC/Z5TeMeMDglVwx0aHF4t/7zTRjwgAQMOrQ43Fu/E0fTfPYH2JiAQYfu\\\n",
              "vP/ntRv5Pv61KzVwHxicioBBh9rlYu3x8faF8jBLOB0PH4IHtLu7W7u7uxu9dvjhzbW/Ne5+8GHt\\\n",
              "vvPORn/H1atX68knnzzFhPBwEjB4QK+//nq9+uqr93xdU1U//tF36wff+eaxc6/95Kf1i9/+aaP3\\\n",
              "e/PNN+vFF1887Zjw0BEw6MhoOKjt6bjmq3G9N3uh9pcX6sLoZl2e/H390nrgCwkYdGQ0GtRkslPX\\\n",
              "7ny//jV/ptpqqqmrdXtxsVb1677HgzgWcUBHzk+3an/7e/XP+bPV1qCqmmprWP84/FbdmD3f93gQ\\\n",
              "R8CgI+en47r89FP1+dWGbQ1q2fowBE5LwKBD5wZ79fmdOBaLWR0efNLLPJDMr33QoefO/b4WtV3X\\\n",
              "Zy/Ush3XuJnVzuyX9be//K7v0SDOIxOwGzdu9D0CD6m9vb2NXvfRpwf12s9+VW39pj6ef7UOVjv1\\\n",
              "2PBWDebX6/Bo/Q3O69y6dcu/Z740ly9f7nuE+/bIBOyNN97oewQeUteuXdvodXsHR/9zr9cf7/v9\\\n",
              "3n77bQHjS/PKK6/0PcJ9e2QClvxD4mw7ODiot956q7P3e/nll93IDGURBwChBAyASAIGQCQBAyCS\\\n",
              "gAEQScAAiPTILKOH/5crV67USy+91Nn7Xbp0qbP3grOsaT2ICIBAPkIEIJKAARBJwACIJGAARBIw\\\n",
              "ACIJGACRBAyASAIGQCQBAyCSgAEQScAAiCRgAEQSMAAiCRgAkQQMgEgCBkAkAQMgkoABEEnAAIgk\\\n",
              "YABEEjAAIgkYAJEEDIBIAgZAJAEDIJKAARBJwACIJGAARBIwACIJGACRBAyASAIGQCQBAyCSgAEQ\\\n",
              "ScAAiCRgAEQSMAAiCRgAkQQMgEgCBkAkAQMgkoABEEnAAIgkYABEEjAAIgkYAJEEDIBIAgZAJAED\\\n",
              "IJKAARBJwACIJGAARBIwACIJGACRBAyASAIGQCQBAyCSgAEQScAAiCRgAEQSMAAiCRgAkQQMgEgC\\\n",
              "BkAkAQMgkoABEEnAAIgkYABEEjAAIgkYAJEEDIBIAgZAJAEDIJKAARBJwACIJGAARBIwACIJGACR\\\n",
              "BAyASAIGQCQBAyDSvwE1o5Gyt4om7wAAAABJRU5ErkJggg==\\\n",
              "\"\n",
              "  frames[23] = \"data:image/png;base64,iVBORw0KGgoAAAANSUhEUgAAAbAAAAEgCAYAAADVKCZpAAAAOXRFWHRTb2Z0d2FyZQBNYXRwbG90\\\n",
              "bGliIHZlcnNpb24zLjcuMSwgaHR0cHM6Ly9tYXRwbG90bGliLm9yZy/bCgiHAAAACXBIWXMAAAsT\\\n",
              "AAALEwEAmpwYAAAKBUlEQVR4nO3dy64l51nH4bfWYR96e3fbbacPQchJUDKAGBMxwQMkJiCGvgcm\\\n",
              "+AJ8BUwQV+Ap8pApiScBKRPjDEgmiYE2OJHB7sbGdp/2YZ2qGDQiSnZte+0mVPXffh6p1dJXS+p3\\\n",
              "0KWfVq2qr5qu67oCgDCTsQcAgMchYABEEjAAIgkYAJEEDIBIAgZAJAEDIJKAARBJwACIJGAARBIw\\\n",
              "ACIJGACRBAyASAIGQCQBAyCSgAEQScAAiCRgAEQSMAAiCRgAkQQMgEgCBkAkAQMgkoABEEnAAIgk\\\n",
              "YABEEjAAIgkYAJEEDIBIAgZAJAEDIJKAARBJwACIJGAARBIwACIJGACRBAyASAIGQCQBAyCSgAEQ\\\n",
              "ScAAiCRgAEQSMAAiCRgAkQQMgEgCBkAkAQMgkoABEEnAAIgkYABEEjAAIgkYAJEEDIBIAgZAJAED\\\n",
              "IJKAARBJwACIJGAARBIwACIJGACRBAyASAIGQCQBAyCSgAEQScAAiCRgAEQSMAAiCRgAkQQMgEgC\\\n",
              "BkAkAQMgkoABEEnAAIgkYABEEjAAIgkYAJEEDIBIAgZAJAEDIJKAARBJwACIJGAARBIwACIJGACR\\\n",
              "BAyASAIGQCQBAyCSgAEQScAAiCRgAEQSMAAiCRgAkQQMgEgCBkAkAQMgkoABEEnAAIgkYABEEjAA\\\n",
              "IgkYAJEEDIBIAgZAJAEDIJKAARBJwACIJGAARBIwACIJGACRBAyASAIGQCQBAyCSgAEQScAAiCRg\\\n",
              "AEQSMAAiCRgAkQQMgEgCBkAkAQMgkoABEEnAAIgkYABEEjAAIgkYAJEEDIBIAgZApNnYAwBVJ3fv\\\n",
              "1GZxXJP5bk3ne//z9241k1k1TTP2ePBEEjAYWddu6oN//G7d/fmPazLfq+nOXk3nj/7c/M6f1pXf\\\n",
              "/PbYI8ITScBgZO16VevTB9Wul9Wul7U+uf+/x5795h+MOBk82fwGBiNbL47q5NMPeo81E6conMfZ\\\n",
              "ASNr18taHd07sz7fv1wHX3l+hIkgg4DB2Lqud7mZ7dRs//LAw0AOAYORrRdHveuT6axmu5cGngZy\\\n",
              "CBiMbHl0t6r6voU1VW6hh3MJGIzswe1/6V2fzOYDTwJZBAxGtjq627v+9PO/W1W+gcF5BAxG1HXd\\\n",
              "efdw1M5TV4cdBsIIGIzo0cPLp73HZntPDTwNZBEwGFG7WtR6cdJ7rKnGPojwGQQMRrQ8+rQW9/7z\\\n",
              "zHozmVXjJg74TAIGI2rXq2rXyzPru5efq/1nvjrCRJBDwGBEXbfpXZ/Md2u6sz/wNJBFwGBEq+Oz\\\n",
              "eyBWVU2m85rMdgaeBrIIGIxo+fDTc4+5gQM+m4DBiO6//0+96/P9w4EngTwCBiNqV/3PgHkLM3w+\\\n",
              "AYORtO2muq7tPbZz8MzA00AeAYORbJYntVmdvYW+qtyBCFsQMBjJ4v5H596FCHw+AYORrI7u1qbn\\\n",
              "ZZbTnUs1me+OMBFkETB4wuw9c8NO9LAFAYMRdF3Xu4VUVdXMNzDYioDBSJbnvMiymc6qaZya8Hmc\\\n",
              "JTCKrh7cvnXuUbtwwOcTMBhDV7W4/2Hvob0r1wceBjIJGDxRmjr86rfGHgIiCBiMoF0vqmt7duFo\\\n",
              "quaXrgw/EAQSMBjB6vRhtetV7zGvUYHtCBiM4Pi/3qv14uHYY0A0AYMRrE+Pqtusz6zvXr5W0/ne\\\n",
              "CBNBHgGDgXVdd+6x/Wdu1mz30oDTQC4BgxGse/ZArKqa7R5UM50NPA1kEjAYWtfW6rxdOCZTu3DA\\\n",
              "lpwpMLCu3dT99/+599h0x+9fsC0Bg4F1Xdd7CbGZzOrwpoeYYVsCBkM77yaOpqn5wdODjgLJBAwG\\\n",
              "tl48rGo3Z9abpqn5/uEIE0EmAYOBrY7vV9cTsKqmmmY6+DyQSsBgYA9uv1Ob1eLM+mz3UtXEKQnb\\\n",
              "crbAwB69ifns72AH179RU/sgwtYEDAbUdd05lw8f7ULfTFxChG0JGAyoaze1Pn3Qe2y2e1DlIWbY\\\n",
              "mrMFBtS1m1oe3es/2DTVNM2wA0EwAYMBtatFPbzzr2fWm8m05vuXR5gIcgkYDKirrrr27GtUJrOd\\\n",
              "OvjK8yNMBLkEDAbUnfMW5mYyrfkl38DgIgQMBrQ8vldd155Zb5pJTXe8BwwuQsBgQMuHH/fvhejm\\\n",
              "DbgwAYMBPbj9Tu9zYLuHz1VjFw64EGcMDKTruqr27OXDqqqDa1+3DyJckIDBULq22s2y99D84GmX\\\n",
              "EeGCBAwG0m7WtTo9+yLLqqrpzv7A00A+AYOBrE8e1PFHP+891lTZhQMuSMBgIO1mXevF2W9gk/le\\\n",
              "7Rw+O8JEkE3AYDA9t8/Xo8uHe1euDzwL5BMwGMhmedLbsMlsXrO9p4YfCMIJGAxkefRp73rTTGoy\\\n",
              "nQ88DeSbjT0AJHv33Xfrzp07W312984Pq+8r2MnJSb311lvnXGD8ZS+88EIdHh5ebEj4gmq6rm9f\\\n",
              "G2Abr7zySr322mtbffav/vyP649+72tn1v/2H27VX/z1D7YK2JtvvlkvvfTSxYaELyjfwGAgTVUt\\\n",
              "2r16//Rbddoe1NX57bq281698x8fbxUv4JcJGAxgZzatZn6lfnT/T+ru+lpVNfXe6W/Xb136cX14\\\n",
              "9/tjjweR3MQBA7i0N6sPuj+su+vr9ei0a6qraf3b8XfqgyO30MPjEDAYwM1nD+v5m9fr0YXEX+hq\\\n",
              "Wm3ZxBceh4DBAGbTSV3ZPa5fvQtxvTqu9bJ/f0TgswkYDGCx2tRTJ39fB+ufVNMtq6qrneakLh9/\\\n",
              "rz6689Oxx4NIX5qbOLZ9Vgcu4vj4eKvP3fr3j+vP/vJv6jeu/V0dPvs7deO5G/X7X+tq0n1YD0/7\\\n",
              "X7HS55NPPvF/mV+rGzdujD3CY/vSBOz1118fewS+gG7durX1Z+8dLerez25X/ex2TZqmvjdtqqmm\\\n",
              "2nb7m+jfeOONevvttx9nVOj16quvjj3CY/MgM/wfXORB5l8HDzLDL/gNDIBIAgZAJAEDIJKAARBJ\\\n",
              "wACIJGAARPrSPAcG/x9efPHFevnllwf7965evTrYvwVPOs+BARDJJUQAIgkYAJEEDIBIAgZAJAED\\\n",
              "IJKAARBJwACIJGAARBIwACIJGACRBAyASAIGQCQBAyCSgAEQScAAiCRgAEQSMAAiCRgAkQQMgEgC\\\n",
              "BkAkAQMgkoABEEnAAIgkYABEEjAAIgkYAJEEDIBIAgZAJAEDIJKAARBJwACIJGAARBIwACIJGACR\\\n",
              "BAyASAIGQCQBAyCSgAEQScAAiCRgAEQSMAAiCRgAkQQMgEgCBkAkAQMgkoABEEnAAIgkYABEEjAA\\\n",
              "IgkYAJEEDIBIAgZAJAEDIJKAARBJwACIJGAARBIwACIJGACRBAyASAIGQCQBAyCSgAEQScAAiCRg\\\n",
              "AEQSMAAiCRgAkQQMgEgCBkAkAQMgkoABEEnAAIgkYABEEjAAIgkYAJEEDIBIAgZAJAEDIJKAARBJ\\\n",
              "wACIJGAARBIwACL9NyU1xAy/okZvAAAAAElFTkSuQmCC\\\n",
              "\"\n",
              "  frames[24] = \"data:image/png;base64,iVBORw0KGgoAAAANSUhEUgAAAbAAAAEgCAYAAADVKCZpAAAAOXRFWHRTb2Z0d2FyZQBNYXRwbG90\\\n",
              "bGliIHZlcnNpb24zLjcuMSwgaHR0cHM6Ly9tYXRwbG90bGliLm9yZy/bCgiHAAAACXBIWXMAAAsT\\\n",
              "AAALEwEAmpwYAAAKL0lEQVR4nO3dS28dZxnA8WfO1bHjuEmbxk2vCRSkgloRCRbdIlaw6JY1UqV+\\\n",
              "gH4EdpWQWPQLdMsOBELqvgsKqghIbXqRorTBudSJY/v43IdFu6FnnNgumcnj/n5SNvOexM/CR/+c\\\n",
              "y/tOUZZlGQCQTKvpAQDgKAQMgJQEDICUBAyAlAQMgJQEDICUBAyAlAQMgJQEDICUBAyAlAQMgJQE\\\n",
              "DICUBAyAlAQMgJQEDICUBAyAlAQMgJQEDICUBAyAlAQMgJQEDICUBAyAlAQMgJQEDICUBAyAlAQM\\\n",
              "gJQEDICUBAyAlAQMgJQEDICUBAyAlAQMgJQEDICUBAyAlAQMgJQEDICUBAyAlAQMgJQEDICUBAyA\\\n",
              "lAQMgJQEDICUBAyAlAQMgJQEDICUBAyAlAQMgJQEDICUBAyAlAQMgJQEDICUBAyAlAQMgJQEDICU\\\n",
              "BAyAlAQMgJQEDICUBAyAlAQMgJQEDICUBAyAlAQMgJQEDICUBAyAlAQMgJQEDICUBAyAlAQMgJQE\\\n",
              "DICUBAyAlAQMgJQEDICUBAyAlAQMgJQEDICUBAyAlAQMgJQEDICUBAyAlAQMgJQEDICUBAyAlAQM\\\n",
              "gJQEDICUBAyAlAQMgJQEDICUBAyAlAQMgJQEDICUBAyAlAQMgJQEDICUBAyAlAQMgJQEDICUBAyA\\\n",
              "lAQMgJQEDICUBAyAlAQMgJQEDICUBAyAlAQMgJQEDICUBAyAlAQMgJQEDICUBAyAlAQMgJQEDICU\\\n",
              "BAyAlAQMgJQEDICUBAyAlAQMgJQEDICUBAyAlAQMgJQEDICUBAyAlAQMgJQEDICUBAyAlAQMgJQE\\\n",
              "DICUBAweAfPZNHZufBbDrZsxm4yaHgdS6DQ9ABAxuncrrvz599HuL0dvZS2WHnsqVp54LpbPvhAr\\\n",
              "Z5+LovB/TfgmAYNHwPDuRsyno5iNBzHevh07G5/G7YjoLq/Fy7/+bRSdXtMjwiPHf+vgEbB17V9R\\\n",
              "zmcL14tWu4FpIAcBg4aVZRllWVaunXrmJRGDfQgYNKycz2I+GVauLa09GeHzL6jkmQENm433Yrh1\\\n",
              "s3Kt01+peRrIQ8CgYdPhTgxuX1tcKFrR6vSiKIr6h4IEBAyats/nX90Tq7F89vmah4E8BAwaNh0N\\\n",
              "Kq+3Or3onjhV8zSQh4BBw0b3bkXE4quwotWJdnep/oEgCQGDhm1du1y9UHz9B6gkYNCgsixjPh1X\\\n",
              "rq09+6NQMNifgEGDytk0ZpPqgJ0480zN00AuAgYNmo52Y7J3r3Ktaw8Y3JeAQYNG27djeOd6xUoR\\\n",
              "0WrZAwb3IWDQpH32gPVPPREnTp+veRjIRcCgQdPhTuX1dn85OkurNU8DuQgYNGj31tXK6612N1qd\\\n",
              "bs3TQC4CBg3avv5h5fV2b8nnX/AAAgYNKcuy4vyNr6w9++NaZ4GMBAwaMp+OopxOKtf6q2drngby\\\n",
              "ETBoyHRvJ6bjvcq1Tn+55mkgHwGDhuzduR7jnc3qRR9/wQMJGDSgLMso57OIcr6wduL0+eidfLyB\\\n",
              "qSAXAYOGTIbblde7K49FZ8kxUvAgAgYNGd75T+X1VqcXRatT8zSQj4BBE8oytq79u3KpaHXsAYMD\\\n",
              "EDBoSuU5iEWcfuHl2keBjAQMGjAbD2I+ny0uFBH9tXP1DwQJCRg0YHj3RszGg8q1du9EzdNATgIG\\\n",
              "DRhsfhGz0WLAWp1+FK12AxNBPgIGNSvLMmKfUxBPPnkhuksn6x0IkhIwqF0Zk7199oAtr0Wr06t5\\\n",
              "HshJwKBmZVnG6N7tyrVWpxdReFrCQXimQM3K2XSf+4AV0V0+ZQ8YHJCAQd3KMuaz6cLlot2Ok+sv\\\n",
              "NjAQ5CRgULPpaDeiYg9YUbSiv+oQXzgoAYOaDbduVr4Ciyii3V2qfR7ISsCgZjsbn8R8Olq4XrTb\\\n",
              "7gMGhyBgUKP77QE79fRLXoHBIQgY1Kmcx2Rvp3Kpv/p4FG23UYGDEjCo0Xw6jr3NLyrXWt1+FPaA\\\n",
              "wYF5tkCNZtNxDG5fXVwofIEDDkvAoE6V9wCLaHdPxOr5H9Q8DOQmYFCjyeDe11/k+F9Fux29ldMN\\\n",
              "TAR5CRjUaHvj4yj32cTsEF84HAGDGg03r0eU84Xr3eU1X+CAQ/KMgZqUZRllLMYrImL1qRfdyBIO\\\n",
              "ScCgJuVsGtPh4l2YIyJ6q49HOIUeDkXAoCazyTDGO19WrrU7fbdRgUMSMKjJdLQbgy8/r1gpvH0I\\\n",
              "RyBgUJf5PKrOQewur8XJ9e/XPw8kJ2BQk/Fgq/Ic31a3F93ltfoHguQEDGry1RFSFZuYi1a0Ot36\\\n",
              "B4LkBAxqsnPjs8rrnf5KzZPA8SBgUIOyLPc9B3Ht+ZfDnSzh8AQMajCfjGI6rt4D1l99ouZp4HgQ\\\n",
              "MKjBePdujLZuVq75/AuORsCgBtPRbkwGWwvXW91+dPrLNjHDEQgY1KHiAN+IiN7K6eivnat5GDge\\\n",
              "Ok0PABltb2/H5cuXD/z43m7VCRwRg+E0/vaPfz7wJI719fW4ePHioWaE464oq+6uB9zXe++9F6++\\\n",
              "+uqBH//6ry7Fb355aeGtwg8+2YjX3/rjA//+G2+8EW+//fah54TjzCswqMGlHz4bN8YXYnPyVCy1\\\n",
              "duPppSvRbw1jPFm8uSVwMAIGD1mr1Yqro0txc/vnUUYrIsq4MX4hfnLq3Xj37582PR6k5Usc8JBd\\\n",
              "uPjT6J79RZTRjq82LLfi7vRcfLT7s/ji1nbT40FaAgYPWafTi3b7m3u9ipiWvRhOpo3MBMeBgMFD\\\n",
              "1i1G0S7G37haRjG94zMw+BYEDB6ypfnncWb4l5iN70WU82jHJM73P47izl/j+m1vIcJRfWe+xLGx\\\n",
              "sdH0CBwjm5ubB37s+x9dj09/91Y8/cyfYvnU8/G9c91YvTCML+9ux+5wcqB/YzAY+B3moVhfX296\\\n",
              "hCP7zgTsnXfeaXoEjpGrV68e6vF3doZx58MPIuKDeL8o4g/tr/aDzQ+4DfPKlSt+h3ko3nzzzaZH\\\n",
              "ODIbmeEIDruR+duykRkW+QwMgJQEDICUBAyAlAQMgJQEDICUBAyAlL4z+8Dg/+nMmTPx2muv1fbz\\\n",
              "Xnnlldp+FmRhHxgAKXkLEYCUBAyAlAQMgJQEDICUBAyAlAQMgJQEDICUBAyAlAQMgJQEDICUBAyA\\\n",
              "lAQMgJQEDICUBAyAlAQMgJQEDICUBAyAlAQMgJQEDICUBAyAlAQMgJQEDICUBAyAlAQMgJQEDICU\\\n",
              "BAyAlAQMgJQEDICUBAyAlAQMgJQEDICUBAyAlAQMgJQEDICUBAyAlAQMgJQEDICUBAyAlAQMgJQE\\\n",
              "DICUBAyAlAQMgJQEDICUBAyAlAQMgJQEDICUBAyAlAQMgJQEDICUBAyAlAQMgJQEDICUBAyAlAQM\\\n",
              "gJQEDICUBAyAlAQMgJQEDICUBAyAlAQMgJQEDICUBAyAlAQMgJQEDICUBAyAlAQMgJQEDICUBAyA\\\n",
              "lAQMgJQEDICUBAyAlAQMgJQEDICUBAyAlAQMgJQEDICUBAyAlAQMgJQEDICUBAyAlAQMgJT+C5KX\\\n",
              "1wZTPLs7AAAAAElFTkSuQmCC\\\n",
              "\"\n",
              "  frames[25] = \"data:image/png;base64,iVBORw0KGgoAAAANSUhEUgAAAbAAAAEgCAYAAADVKCZpAAAAOXRFWHRTb2Z0d2FyZQBNYXRwbG90\\\n",
              "bGliIHZlcnNpb24zLjcuMSwgaHR0cHM6Ly9tYXRwbG90bGliLm9yZy/bCgiHAAAACXBIWXMAAAsT\\\n",
              "AAALEwEAmpwYAAAKoUlEQVR4nO3dT29c13nA4ffOnT/USCL132JiyUnjGEkQuXU26cYrf4R21c9Q\\\n",
              "dOddP0SBfgSjMbILuui2QIF20SIB3DpK4jBOLNmxFMuSKIrkcDhzTxcCAhQzUkiqvJcv/TzLc4bk\\\n",
              "uxn8wLnn3qlKKSUAIJle1wMAwFEIGAApCRgAKQkYACkJGAApCRgAKQkYACkJGAApCRgAKQkYACkJ\\\n",
              "GAApCRgAKQkYACkJGAApCRgAKQkYACkJGAApCRgAKQkYACkJGAApCRgAKQkYACkJGAApCRgAKQkY\\\n",
              "ACkJGAApCRgAKQkYACkJGAApCRgAKQkYACkJGAApCRgAKQkYACkJGAApCRgAKQkYACkJGAApCRgA\\\n",
              "KQkYACkJGAApCRgAKQkYACkJGAApCRgAKQkYACkJGAApCRgAKQkYACkJGAApCRgAKQkYACkJGAAp\\\n",
              "CRgAKQkYACkJGAApCRgAKQkYACkJGAApCRgAKQkYACkJGAApCRgAKQkYACkJGAApCRgAKQkYACkJ\\\n",
              "GAApCRgAKQkYACkJGAApCRgAKQkYACkJGAApCRgAKQkYACkJGAApCRgAKQkYACkJGAApCRgAKQkY\\\n",
              "ACkJGAApCRgAKQkYACkJGAApCRgAKQkYACkJGAApCRgAKQkYACkJGAApCRgAKQkYACkJGAApCRgA\\\n",
              "KQkYACkJGAApCRgAKQkYACkJGAApCRgAKQkYACkJGAApCRgAKQkYACkJGAApCRgAKQkYACkJGAAp\\\n",
              "CRgAKQkYACkJGAApCRgAKQkYACkJGAApCRgAKQkYACkJGAApCRgAKQkYACkJGAApCRgAKQkYACkJ\\\n",
              "GAApCRgAKQkYACn1ux4AeGY+ncSd//hxjM5fifHVmzFavRr90dmoh+Po1XXX48GJI2BwQuw++n08\\\n",
              "+vinMd+fREREPRzHaPVKrFxYj2+8/TdRD890PCGcLD5ChBNi8+6Hf4xXRMR8uhM7D+7E5p3/jmY+\\\n",
              "63AyOJkEDE6AUkqU+Xzp3uqr34t6MGp5Ijj5BAxOgNLMYm/74dK9lbVXoqoHLU8EJ5+AwQkwn+7G\\\n",
              "k09vL93r1YOoqqrlieDkEzA4Acp8Fs10srDeG6zEufXXO5gITj4BgxNg9/G9KKUsrNf9YYwv3+xg\\\n",
              "Ijj5BAxOgEcf/zRKs3jSsKr77gGD5xAw6FgpJUrTLN27+M0fRNVzuyYsI2DQsWY2jf3dJ0v3Vi5c\\\n",
              "j3CAA5YSMOjY/s5mbH3+64X1qldHfzR2AhGeQ8CgY818P5r9vYX1wXgtzr7yZx1MBDkIGHRsuvXl\\\n",
              "0vVefxjD8VrL00AeAgYde3YD8+IR+qruu/4FLyBg0KFSSky2Hizdu/ztv4wIAYPnETDoULM/ifne\\\n",
              "ztK9lbVrLU8DuQgYdGjy+H5sf/HJwnqvP4x6eMYJRHgBAYMONfNplPn+wvpo7VqML9/oYCLIQ8Cg\\\n",
              "Q9Onj5au14MV38AMf4KAQYc27/586fqZi1/z8SH8CQIGHSmlxOTJH5burb763ZangXwEDDoyn+4u\\\n",
              "fQJHxLOncAAvJmDQke0//DYmj+8vrNfDM1EPRh1MBLkIGHSglBLNbLr0O8DGV1+L0dorHUwFuQgY\\\n",
              "dGR/Z3Ppej1YiV49aHkayEfAoBMlHt/5n6U748s3nECEAxAw6EKJ2NtccgKxqmL11e+1Pw8kJGDQ\\\n",
              "gdnedjRLrn9FRPRXzrY8DeQkYNCByaPPlz7Ed3zlZvRH5zqYCPIRMGhZKSV2H9+L+XR3YW9l7XrU\\\n",
              "I4+QgoMQMGhdidnk6dKdejCKqvK2hIPwToGWlfk8Nu8uOYFY9WJ85aYTiHBAAgYtK6WJyeYXC+u9\\\n",
              "uh+rX/cMRDgoAYOWzfd2IkqzZKfyCCk4BAGDlm0/uBPNbLqwfv5rb0RPwODABAxatvOcgI0vvRq9\\\n",
              "vkdIwUEJGLSoNE3Mp4v3f0VUUY/GEeEABxyUgEGL5tPdePLpLxbW6+FKrH79O04gwiEIGLSoaWax\\\n",
              "t/VgYb2qBzFavdLBRJCXgEGL5tPdKKUsrFdVFVWv38FEkJeAQYue3v9NRDNfWF977c3o1QIGhyFg\\\n",
              "0KLtex9HWXIP2NnLNyI8QgoOxTsGWlKaecxne4sbVS96gxUHOOCQBAxaMp9OYu/J4gGOwXgtzq+/\\\n",
              "3sFEkJuAQUv2J1ux8+CThfV6MIrB+EL7A0FyAgYtmU8nUZrF61/Dsxej6nkrwmF510BLnt7biIjF\\\n",
              "I/SrN74fnsABhydg0JKtzz9aur6yernlSeB0EDBoQTOfRZnvL6xXvTp6/ZETiHAEAgYtmO1tx3T7\\\n",
              "8cL6yoXrcfbqa+0PBKeAgEELpltfxu7D3y+s14OVqEdnO5gI8hMwaEEz24tlBziG5y/7+BCOSMCg\\\n",
              "BVuf/3rp+oXX/rzlSeD0EDBowZPPFr8DLOLZPWDA0QgYHLNmPlt+A/O5SzEYr3YwEZwOAgbHbH9n\\\n",
              "M2aTpwvro9WrMRivdTARnA4CBsds9+FnSx/iWw9WotcfdjARnA4CBseolBLNbBrLTiCOVq86gQgv\\\n",
              "QcDgmO0+vr9ktYqL33yr9VngNPEd5nAIpZT44IMPYmdn50CvryJi+Lv/XPw9EfHhLzei/PaLF/78\\\n",
              "cDiMt956K+q6PsK0cLpVpZTFzzaApZqmiVu3bsXt27cP9PpBvxf/9Pd/Fd+4fuH/rG989jD+9h/+\\\n",
              "JR5u7b7w59fX12NjYyPG4/FRR4ZTy39gcIzWL52PZnAtfrX9ZpToxfrw41jtP4iNzx7G5vak6/Eg\\\n",
              "NQGDY/Stb/1F/C7+OvZ2nz3v8NPJd+LN8/8aT3dvx7zx4Qe8DIc44Jj0+6O49cO/i71yLp5dDati\\\n",
              "v6zEzx6/Hf/+i4ddjwfpCRgck6qqYjhavHY1ndex8emjDiaC00XA4NiUONNb8gSOajt2Jq5/wcsS\\\n",
              "MDgmvZjFtelPIvbuRJRZVNHEufphDL/8Ucz3t7seD9L7yhziuHfvXtcjcAo0TROz2exAr93bn8e7\\\n",
              "//jjuLn+b3Hx2q248crFePv1/fhw46PYne4f+O/dv38/zpw58zJjw3Ndv3696xGO7CsTsPfee6/r\\\n",
              "ETgFSimxubl54NdPprP46JO7EZ/cjf+qqvjnuhdNKXHQuy93dnbi/fffj8FgcMSJ4cXefffdrkc4\\\n",
              "MjcywyEc9kbml+VGZng+18AASEnAAEhJwABIScAASEnAAEhJwABI6StzHxj8f3nnnXfijTfeaOVv\\\n",
              "Xbp0yZdZwnO4DwyAlHyECEBKAgZASgIGQEoCBkBKAgZASgIGQEoCBkBKAgZASgIGQEoCBkBKAgZA\\\n",
              "SgIGQEoCBkBKAgZASgIGQEoCBkBKAgZASgIGQEoCBkBKAgZASgIGQEoCBkBKAgZASgIGQEoCBkBK\\\n",
              "AgZASgIGQEoCBkBKAgZASgIGQEoCBkBKAgZASgIGQEoCBkBKAgZASgIGQEoCBkBKAgZASgIGQEoC\\\n",
              "BkBKAgZASgIGQEoCBkBKAgZASgIGQEoCBkBKAgZASgIGQEoCBkBKAgZASgIGQEoCBkBKAgZASgIG\\\n",
              "QEoCBkBKAgZASgIGQEoCBkBKAgZASgIGQEoCBkBKAgZASgIGQEoCBkBKAgZASgIGQEoCBkBKAgZA\\\n",
              "SgIGQEoCBkBKAgZASgIGQEoCBkBKAgZASgIGQEoCBkBKAgZASgIGQEoCBkBKAgZASgIGQEr/C2TN\\\n",
              "CSkITGF+AAAAAElFTkSuQmCC\\\n",
              "\"\n",
              "\n",
              "\n",
              "    /* set a timeout to make sure all the above elements are created before\n",
              "       the object is initialized. */\n",
              "    setTimeout(function() {\n",
              "        anim90624fd0a1014895a346d0b41366e2eb = new Animation(frames, img_id, slider_id, 40.0,\n",
              "                                 loop_select_id);\n",
              "    }, 0);\n",
              "  })()\n",
              "</script>\n"
            ]
          },
          "metadata": {},
          "execution_count": 26
        }
      ],
      "source": [
        "# extra code – a function that creates an animation for a given policy model\n",
        "\n",
        "def pg_policy(obs):\n",
        "    left_proba = model.predict(obs[np.newaxis], verbose=0)\n",
        "    return int(np.random.rand() > left_proba)\n",
        "\n",
        "np.random.seed(42)\n",
        "show_one_episode(pg_policy)"
      ]
    },
    {
      "cell_type": "markdown",
      "metadata": {
        "id": "wmqy1H0oZwt5"
      },
      "source": [
        "Yeah... pretty bad. The neural network will have to learn to do better. First let's see if it is capable of learning the basic policy we used earlier: go left if the pole is tilting left, and go right if it is tilting right."
      ]
    },
    {
      "cell_type": "markdown",
      "metadata": {
        "id": "Wjl6Doc7Zwt6"
      },
      "source": [
        "Let's see if it can learn a better policy on its own. One that does not wobble as much."
      ]
    },
    {
      "cell_type": "markdown",
      "metadata": {
        "id": "jDi2SJNIZwt6"
      },
      "source": [
        "# Policy Gradients"
      ]
    },
    {
      "cell_type": "markdown",
      "metadata": {
        "id": "odBnxWyMZwt6"
      },
      "source": [
        "To train this neural network we will need to define the target probabilities **y**. If an action is good we should increase its probability, and conversely if it is bad we should reduce it. But how do we know whether an action is good or bad? The problem is that most actions have delayed effects, so when you win or lose points in an episode, it is not clear which actions contributed to this result: was it just the last action? Or the last 10? Or just one action 50 steps earlier? This is called the _credit assignment problem_.\n",
        "\n",
        "The _Policy Gradients_ algorithm tackles this problem by first playing multiple episodes, then making the actions near positive rewards slightly more likely, while actions near negative rewards are made slightly less likely. First we play, then we go back and think about what we did."
      ]
    },
    {
      "cell_type": "markdown",
      "metadata": {
        "id": "ZCrIa46dZwt6"
      },
      "source": [
        "Let's start by creating a function to play a single step using the model. We will also pretend for now that whatever action it takes is the right one, so we can compute the loss and its gradients. We will just save these gradients for now, and modify them later depending on how good or bad the action turned out to be."
      ]
    },
    {
      "cell_type": "code",
      "execution_count": 27,
      "metadata": {
        "id": "UFzcpNFhZwt6"
      },
      "outputs": [],
      "source": [
        "def play_one_step(env, obs, model, loss_fn):\n",
        "    with tf.GradientTape() as tape:\n",
        "        left_proba = model(obs[np.newaxis]) # reshape the observation so it becomes a batch containing a single instance, as the model expects a batch\n",
        "        action = (tf.random.uniform([1, 1]) > left_proba)\n",
        "        y_target = tf.constant([[1.]]) - tf.cast(action, tf.float32)\n",
        "        loss = tf.reduce_mean(loss_fn(y_target, left_proba))\n",
        "\n",
        "    grads = tape.gradient(loss, model.trainable_variables)\n",
        "    obs, reward, done, truncated, info = env.step(int(action))\n",
        "    return obs, reward, done, truncated, grads"
      ]
    },
    {
      "cell_type": "markdown",
      "metadata": {
        "id": "alX8S7KEZwt6"
      },
      "source": [
        "If `left_proba` is high, then `action` will most likely be `False` (since a random number uniformally sampled between 0 and 1 will probably not be greater than `left_proba`). And `False` means 0 when you cast it to a number, so `y_target` would be equal to 1 - 0 = 1. In other words, we set the target to 1, meaning we pretend that the probability of going left should have been 100% (so we took the right action)."
      ]
    },
    {
      "cell_type": "markdown",
      "metadata": {
        "id": "MPvOmnChZwt6"
      },
      "source": [
        "Now let's create another function that will rely on the `play_one_step()` function to play multiple episodes, returning all the rewards and gradients, for each episode and each step:"
      ]
    },
    {
      "cell_type": "code",
      "execution_count": 28,
      "metadata": {
        "id": "d8dnLAPsZwt6"
      },
      "outputs": [],
      "source": [
        "def play_multiple_episodes(env, n_episodes, n_max_steps, model, loss_fn):\n",
        "    all_rewards = []\n",
        "    all_grads = []\n",
        "    for episode in range(n_episodes):\n",
        "        current_rewards = []\n",
        "        current_grads = []\n",
        "        obs, info = env.reset()\n",
        "        for step in range(n_max_steps):\n",
        "            obs, reward, done, truncated, grads = play_one_step(\n",
        "                env, obs, model, loss_fn)\n",
        "            current_rewards.append(reward)\n",
        "            current_grads.append(grads)\n",
        "            if done or truncated:\n",
        "                break\n",
        "\n",
        "        all_rewards.append(current_rewards)\n",
        "        all_grads.append(current_grads)\n",
        "\n",
        "    return all_rewards, all_grads"
      ]
    },
    {
      "cell_type": "markdown",
      "metadata": {
        "id": "kBwcXxzpZwt7"
      },
      "source": [
        "The Policy Gradients algorithm uses the model to play the episode several times (e.g., 10 times), then it goes back and looks at all the rewards, discounts them and normalizes them. So let's create couple functions for that: the first will compute discounted rewards; the second will normalize the discounted rewards across many episodes."
      ]
    },
    {
      "cell_type": "code",
      "execution_count": 29,
      "metadata": {
        "id": "ipAkZuQnZwt7"
      },
      "outputs": [],
      "source": [
        "def discount_rewards(rewards, discount_factor):\n",
        "    discounted = np.array(rewards)\n",
        "    for step in range(len(rewards) - 2, -1, -1):\n",
        "        discounted[step] += discounted[step + 1] * discount_factor\n",
        "    return discounted\n",
        "\n",
        "def discount_and_normalize_rewards(all_rewards, discount_factor):\n",
        "    all_discounted_rewards = [discount_rewards(rewards, discount_factor)\n",
        "                              for rewards in all_rewards]\n",
        "    flat_rewards = np.concatenate(all_discounted_rewards)\n",
        "    reward_mean = flat_rewards.mean()\n",
        "    reward_std = flat_rewards.std()\n",
        "    return [(discounted_rewards - reward_mean) / reward_std\n",
        "            for discounted_rewards in all_discounted_rewards]"
      ]
    },
    {
      "cell_type": "markdown",
      "metadata": {
        "id": "Jpbnd3B5Zwt7"
      },
      "source": [
        "Say there were 3 actions, and after each action there was a reward: first 10, then 0, then -50. If we use a discount factor of 80%, then the 3rd action will get -50 (full credit for the last reward), but the 2nd action will only get -40 (80% credit for the last reward), and the 1st action will get 80% of -40 (-32) plus full credit for the first reward (+10), which leads to a discounted reward of -22:"
      ]
    },
    {
      "cell_type": "code",
      "execution_count": 30,
      "metadata": {
        "id": "h6GufT5rZwt7",
        "outputId": "6451150e-a5e7-441b-99ee-c7fdec587ae7",
        "colab": {
          "base_uri": "https://localhost:8080/"
        }
      },
      "outputs": [
        {
          "output_type": "execute_result",
          "data": {
            "text/plain": [
              "array([-22, -40, -50])"
            ]
          },
          "metadata": {},
          "execution_count": 30
        }
      ],
      "source": [
        "discount_rewards([10, 0, -50], discount_factor=0.8)"
      ]
    },
    {
      "cell_type": "markdown",
      "metadata": {
        "id": "4HTACfEVZwt7"
      },
      "source": [
        "To normalize all discounted rewards across all episodes, we compute the mean and standard deviation of all the discounted rewards, and we subtract the mean from each discounted reward, and divide by the standard deviation:"
      ]
    },
    {
      "cell_type": "code",
      "execution_count": 31,
      "metadata": {
        "scrolled": true,
        "id": "WxM4bE2cZwt7",
        "outputId": "43f3ffae-afe7-4f56-89df-88e3479bf35b",
        "colab": {
          "base_uri": "https://localhost:8080/"
        }
      },
      "outputs": [
        {
          "output_type": "execute_result",
          "data": {
            "text/plain": [
              "[array([-0.28435071, -0.86597718, -1.18910299]),\n",
              " array([1.26665318, 1.0727777 ])]"
            ]
          },
          "metadata": {},
          "execution_count": 31
        }
      ],
      "source": [
        "discount_and_normalize_rewards([[10, 0, -50], [10, 20]],\n",
        "                               discount_factor=0.8)"
      ]
    },
    {
      "cell_type": "code",
      "execution_count": 32,
      "metadata": {
        "id": "7kcJXtoVZwt8"
      },
      "outputs": [],
      "source": [
        "n_iterations = 150\n",
        "n_episodes_per_update = 10\n",
        "n_max_steps = 200\n",
        "discount_factor = 0.95"
      ]
    },
    {
      "cell_type": "code",
      "execution_count": 33,
      "metadata": {
        "id": "c98klN_-Zwt8"
      },
      "outputs": [],
      "source": [
        "# extra code – let's create the neural net and reset the environment, for\n",
        "#              reproducibility\n",
        "\n",
        "tf.random.set_seed(42)\n",
        "\n",
        "model = tf.keras.Sequential([\n",
        "    tf.keras.layers.Dense(5, activation=\"relu\"),\n",
        "    tf.keras.layers.Dense(1, activation=\"sigmoid\"),\n",
        "])\n",
        "\n",
        "obs, info = env.reset(seed=42)"
      ]
    },
    {
      "cell_type": "code",
      "execution_count": 34,
      "metadata": {
        "id": "XCW21lFfZwt8"
      },
      "outputs": [],
      "source": [
        "optimizer = tf.keras.optimizers.Nadam(learning_rate=0.01)\n",
        "loss_fn = tf.keras.losses.binary_crossentropy"
      ]
    },
    {
      "cell_type": "code",
      "execution_count": null,
      "metadata": {
        "id": "oO4O1PlGZwt8",
        "outputId": "bf5cd19e-456e-4b65-9dbc-4e37bc211821",
        "colab": {
          "base_uri": "https://localhost:8080/"
        }
      },
      "outputs": [
        {
          "output_type": "stream",
          "name": "stdout",
          "text": [
            "Iteration: 135/150, mean rewards: 200.0"
          ]
        }
      ],
      "source": [
        "for iteration in range(n_iterations):\n",
        "    all_rewards, all_grads = play_multiple_episodes(\n",
        "        env, n_episodes_per_update, n_max_steps, model, loss_fn)\n",
        "\n",
        "    # extra code – displays some debug info during training\n",
        "    total_rewards = sum(map(sum, all_rewards))\n",
        "    print(f\"\\rIteration: {iteration + 1}/{n_iterations},\"\n",
        "          f\" mean rewards: {total_rewards / n_episodes_per_update:.1f}\", end=\"\")\n",
        "\n",
        "    all_final_rewards = discount_and_normalize_rewards(all_rewards,\n",
        "                                                       discount_factor)\n",
        "    all_mean_grads = []\n",
        "    for var_index in range(len(model.trainable_variables)):\n",
        "        mean_grads = tf.reduce_mean(\n",
        "            [final_reward * all_grads[episode_index][step][var_index]\n",
        "             for episode_index, final_rewards in enumerate(all_final_rewards)\n",
        "                 for step, final_reward in enumerate(final_rewards)], axis=0)\n",
        "        all_mean_grads.append(mean_grads)\n",
        "\n",
        "    optimizer.apply_gradients(zip(all_mean_grads, model.trainable_variables))"
      ]
    },
    {
      "cell_type": "code",
      "execution_count": null,
      "metadata": {
        "id": "9S3TDpGAZwt8"
      },
      "outputs": [],
      "source": [
        "# extra code – displays the animation\n",
        "np.random.seed(42)\n",
        "show_one_episode(pg_policy)"
      ]
    },
    {
      "cell_type": "markdown",
      "metadata": {
        "id": "lDXJ79SSZwt8"
      },
      "source": [
        "# Extra Material – Markov Chains"
      ]
    },
    {
      "cell_type": "markdown",
      "metadata": {
        "id": "XNZLKPhFZwt8"
      },
      "source": [
        "The following transition probabilities correspond to the Markov Chain represented in Figure 18–7. Let's run this stochastic process a few times to see what it looks like:"
      ]
    },
    {
      "cell_type": "code",
      "execution_count": null,
      "metadata": {
        "id": "vmvzuYioZwt8",
        "outputId": "5991f58c-bc9d-4e28-8201-6ea9cf408dc6"
      },
      "outputs": [
        {
          "name": "stdout",
          "output_type": "stream",
          "text": [
            "Run #1: 0 0 3 \n",
            "Run #2: 0 1 2 1 2 1 2 1 2 1 3 \n",
            "Run #3: 0 1 2 1 2 1 2 1 2 1 2 1 2 1 2 1 2 1 2 1 2 1 3 \n",
            "Run #4: 0 3 \n",
            "Run #5: 0 1 2 1 2 1 2 1 2 1 2 1 2 1 2 1 3 \n",
            "Run #6: 0 1 3 \n",
            "Run #7: 0 1 2 1 2 1 2 1 2 1 2 1 2 1 2 1 2 1 2 1 2 1 2 1 2 1 2 1 2 1 2 1 2 1 2 1 2 1 2 1 2 1 2 1 2 1 2 1 2 1 2 1 3 \n",
            "Run #8: 0 0 0 1 2 1 2 1 3 \n",
            "Run #9: 0 1 2 1 2 1 2 1 2 1 2 1 2 1 2 1 2 1 2 1 2 1 3 \n",
            "Run #10: 0 0 0 1 2 1 3 \n"
          ]
        }
      ],
      "source": [
        "np.random.seed(42)\n",
        "\n",
        "transition_probabilities = [ # shape=[s, s']\n",
        "        [0.7, 0.2, 0.0, 0.1],  # from s0 to s0, s1, s2, s3\n",
        "        [0.0, 0.0, 0.9, 0.1],  # from s1 to s0, s1, s2, s3\n",
        "        [0.0, 1.0, 0.0, 0.0],  # from s2 to s0, s1, s2, s3\n",
        "        [0.0, 0.0, 0.0, 1.0]]  # from s3 to s0, s1, s2, s3\n",
        "\n",
        "n_max_steps = 1000  # to avoid blocking in case of an infinite loop\n",
        "terminal_states = [3]\n",
        "\n",
        "def run_chain(start_state):\n",
        "    current_state = start_state\n",
        "    for step in range(n_max_steps):\n",
        "        print(current_state, end=\" \")\n",
        "        if current_state in terminal_states:\n",
        "            break\n",
        "        current_state = np.random.choice(\n",
        "            range(len(transition_probabilities)),\n",
        "            p=transition_probabilities[current_state]\n",
        "        )\n",
        "    else:\n",
        "        print(\"...\", end=\"\")\n",
        "\n",
        "    print()\n",
        "\n",
        "for idx in range(10):\n",
        "    print(f\"Run #{idx + 1}: \", end=\"\")\n",
        "    run_chain(start_state=0)"
      ]
    },
    {
      "cell_type": "markdown",
      "metadata": {
        "id": "zXhbnujEZwt9"
      },
      "source": [
        "# Markov Decision Process"
      ]
    },
    {
      "cell_type": "markdown",
      "metadata": {
        "id": "T2efrxGWZwt9"
      },
      "source": [
        "Let's define some transition probabilities, rewards and possible actions. For example, in state s0, if action a0 is chosen then with proba 0.7 we will go to state s0 with reward +10, with probability 0.3 we will go to state s1 with no reward, and with never go to state s2 (so the transition probabilities are `[0.7, 0.3, 0.0]`, and the rewards are `[+10, 0, 0]`):"
      ]
    },
    {
      "cell_type": "code",
      "execution_count": null,
      "metadata": {
        "id": "mvX6aAbEZwt9"
      },
      "outputs": [],
      "source": [
        "transition_probabilities = [  # shape=[s, a, s']\n",
        "    [[0.7, 0.3, 0.0], [1.0, 0.0, 0.0], [0.8, 0.2, 0.0]],\n",
        "    [[0.0, 1.0, 0.0], None, [0.0, 0.0, 1.0]],\n",
        "    [None, [0.8, 0.1, 0.1], None]\n",
        "]\n",
        "rewards = [  # shape=[s, a, s']\n",
        "    [[+10, 0, 0], [0, 0, 0], [0, 0, 0]],\n",
        "    [[0, 0, 0], [0, 0, 0], [0, 0, -50]],\n",
        "    [[0, 0, 0], [+40, 0, 0], [0, 0, 0]]\n",
        "]\n",
        "possible_actions = [[0, 1, 2], [0, 2], [1]]"
      ]
    },
    {
      "cell_type": "markdown",
      "metadata": {
        "id": "AL8kIsWWZwt9"
      },
      "source": [
        "# Q-Value Iteration"
      ]
    },
    {
      "cell_type": "code",
      "execution_count": null,
      "metadata": {
        "id": "UhMZYqlMZwt9"
      },
      "outputs": [],
      "source": [
        "Q_values = np.full((3, 3), -np.inf)  # -np.inf for impossible actions\n",
        "for state, actions in enumerate(possible_actions):\n",
        "    Q_values[state, actions] = 0.0  # for all possible actions"
      ]
    },
    {
      "cell_type": "code",
      "execution_count": null,
      "metadata": {
        "id": "VtPgPGl7Zwt9"
      },
      "outputs": [],
      "source": [
        "gamma = 0.90  # the discount factor\n",
        "\n",
        "history1 = []  # extra code – needed for the figure below\n",
        "for iteration in range(50):\n",
        "    Q_prev = Q_values.copy()\n",
        "    history1.append(Q_prev) # extra code\n",
        "    for s in range(3):\n",
        "        for a in possible_actions[s]:\n",
        "            Q_values[s, a] = np.sum([\n",
        "                    transition_probabilities[s][a][sp]\n",
        "                    * (rewards[s][a][sp] + gamma * Q_prev[sp].max())\n",
        "                for sp in range(3)])\n",
        "\n",
        "history1 = np.array(history1)  # extra code"
      ]
    },
    {
      "cell_type": "code",
      "execution_count": null,
      "metadata": {
        "id": "Udcx0ijWZwt9",
        "outputId": "732fc0dc-f8f1-461f-9338-f5a8ff922532"
      },
      "outputs": [
        {
          "data": {
            "text/plain": [
              "array([[18.91891892, 17.02702702, 13.62162162],\n",
              "       [ 0.        ,        -inf, -4.87971488],\n",
              "       [       -inf, 50.13365013,        -inf]])"
            ]
          },
          "execution_count": 41,
          "metadata": {},
          "output_type": "execute_result"
        }
      ],
      "source": [
        "Q_values"
      ]
    },
    {
      "cell_type": "code",
      "execution_count": null,
      "metadata": {
        "id": "2DdkJhH4Zwt-",
        "outputId": "bb42bc11-86b1-48e5-bc79-15857c63ac22"
      },
      "outputs": [
        {
          "data": {
            "text/plain": [
              "array([0, 0, 1])"
            ]
          },
          "execution_count": 42,
          "metadata": {},
          "output_type": "execute_result"
        }
      ],
      "source": [
        "Q_values.argmax(axis=1)  # optimal action for each state"
      ]
    },
    {
      "cell_type": "markdown",
      "metadata": {
        "id": "evGRj_2TZwt-"
      },
      "source": [
        "The optimal policy for this MDP, when using a discount factor of 0.90, is to choose action a0 when in state s0, and choose action a0 when in state s1, and finally choose action a1 (the only possible action) when in state s2. If you try again with a discount factor of 0.95 instead of 0.90, you will find that the optimal action for state s1 becomes a2. This is because the discount factor is larger so the agent values the future more, and it is therefore ready to pay an immediate penalty in order to get more future rewards."
      ]
    },
    {
      "cell_type": "markdown",
      "metadata": {
        "id": "_uwr-Kb2Zwt-"
      },
      "source": [
        "# Q-Learning"
      ]
    },
    {
      "cell_type": "markdown",
      "metadata": {
        "id": "Bls1mfWkZwt-"
      },
      "source": [
        "Q-Learning works by watching an agent play (e.g., randomly) and gradually improving its estimates of the Q-Values. Once it has accurate Q-Value estimates (or close enough), then the optimal policy consists in choosing the action that has the highest Q-Value (i.e., the greedy policy)."
      ]
    },
    {
      "cell_type": "markdown",
      "metadata": {
        "id": "gwhlHpNfZwt-"
      },
      "source": [
        "We will need to simulate an agent moving around in the environment, so let's define a function to perform some action and get the new state and a reward:"
      ]
    },
    {
      "cell_type": "code",
      "execution_count": null,
      "metadata": {
        "id": "N042aJKhZwt-"
      },
      "outputs": [],
      "source": [
        "def step(state, action):\n",
        "    probas = transition_probabilities[state][action]\n",
        "    next_state = np.random.choice([0, 1, 2], p=probas)\n",
        "    reward = rewards[state][action][next_state]\n",
        "    return next_state, reward"
      ]
    },
    {
      "cell_type": "markdown",
      "metadata": {
        "id": "hg3vQ38FZwt-"
      },
      "source": [
        "We also need an exploration policy, which can be any policy, as long as it visits every possible state many times. We will just use a random policy, since the state space is very small:"
      ]
    },
    {
      "cell_type": "code",
      "execution_count": null,
      "metadata": {
        "id": "8S5n89mbZwt_"
      },
      "outputs": [],
      "source": [
        "def exploration_policy(state):\n",
        "    return np.random.choice(possible_actions[state])"
      ]
    },
    {
      "cell_type": "markdown",
      "metadata": {
        "id": "iJXW86qfZwt_"
      },
      "source": [
        "Now let's initialize the Q-Values like earlier, and run the Q-Learning algorithm:"
      ]
    },
    {
      "cell_type": "code",
      "execution_count": null,
      "metadata": {
        "id": "FTiQtcdLZwt_"
      },
      "outputs": [],
      "source": [
        "# extra code – initializes the Q-Values, just like earlier\n",
        "np.random.seed(42)\n",
        "Q_values = np.full((3, 3), -np.inf)\n",
        "for state, actions in enumerate(possible_actions):\n",
        "    Q_values[state][actions] = 0"
      ]
    },
    {
      "cell_type": "code",
      "execution_count": null,
      "metadata": {
        "id": "FFagMcvVZwt_"
      },
      "outputs": [],
      "source": [
        "alpha0 = 0.05  # initial learning rate\n",
        "decay = 0.005  # learning rate decay\n",
        "gamma = 0.90  # discount factor\n",
        "state = 0  # initial state\n",
        "history2 = []  # extra code – needed for the figure below\n",
        "\n",
        "for iteration in range(10_000):\n",
        "    history2.append(Q_values.copy())  # extra code\n",
        "    action = exploration_policy(state)\n",
        "    next_state, reward = step(state, action)\n",
        "    next_value = Q_values[next_state].max()  # greedy policy at the next step\n",
        "    alpha = alpha0 / (1 + iteration * decay)\n",
        "    Q_values[state, action] *= 1 - alpha\n",
        "    Q_values[state, action] += alpha * (reward + gamma * next_value)\n",
        "    state = next_state\n",
        "\n",
        "history2 = np.array(history2)  # extra code"
      ]
    },
    {
      "cell_type": "code",
      "execution_count": null,
      "metadata": {
        "id": "Fwu1OFEuZwt_",
        "outputId": "1f035d88-696e-43b1-d2a8-5acf190931ab"
      },
      "outputs": [
        {
          "data": {
            "image/png": "[encoded data removed]",
            "text/plain": [
              "<Figure size 720x288 with 2 Axes>"
            ]
          },
          "metadata": {
            "needs_background": "light"
          },
          "output_type": "display_data"
        }
      ],
      "source": [
        "# extra code – this cell generates and saves Figure 18–9\n",
        "\n",
        "true_Q_value = history1[-1, 0, 0]\n",
        "\n",
        "fig, axes = plt.subplots(1, 2, figsize=(10, 4), sharey=True)\n",
        "axes[0].set_ylabel(\"Q-Value$(s_0, a_0)$\", fontsize=14)\n",
        "axes[0].set_title(\"Q-Value Iteration\", fontsize=14)\n",
        "axes[1].set_title(\"Q-Learning\", fontsize=14)\n",
        "for ax, width, history in zip(axes, (50, 10000), (history1, history2)):\n",
        "    ax.plot([0, width], [true_Q_value, true_Q_value], \"k--\")\n",
        "    ax.plot(np.arange(width), history[:, 0, 0], \"b-\", linewidth=2)\n",
        "    ax.set_xlabel(\"Iterations\", fontsize=14)\n",
        "    ax.axis([0, width, 0, 24])\n",
        "    ax.grid(True)\n",
        "\n",
        "save_fig(\"q_value_plot\")\n",
        "plt.show()"
      ]
    },
    {
      "cell_type": "markdown",
      "metadata": {
        "id": "O0KYzgW4ZwuA"
      },
      "source": [
        "# Deep Q-Network"
      ]
    },
    {
      "cell_type": "markdown",
      "metadata": {
        "id": "58G_wlHzZwuA"
      },
      "source": [
        "Let's build the DQN. Given a state, it will estimate, for each possible action, the sum of discounted future rewards it can expect after it plays that action (but before it sees its outcome):"
      ]
    },
    {
      "cell_type": "code",
      "execution_count": null,
      "metadata": {
        "id": "S7tmeblLZwuA"
      },
      "outputs": [],
      "source": [
        "tf.random.set_seed(42)  # extra code – ensures reproducibility on the CPU\n",
        "\n",
        "input_shape = [4]  # == env.observation_space.shape\n",
        "n_outputs = 2  # == env.action_space.n\n",
        "\n",
        "model = tf.keras.Sequential([\n",
        "    tf.keras.layers.Dense(32, activation=\"elu\", input_shape=input_shape),\n",
        "    tf.keras.layers.Dense(32, activation=\"elu\"),\n",
        "    tf.keras.layers.Dense(n_outputs)\n",
        "])"
      ]
    },
    {
      "cell_type": "markdown",
      "metadata": {
        "id": "jVyYKyj2ZwuA"
      },
      "source": [
        "To select an action using this DQN, we just pick the action with the largest predicted Q-value. However, to ensure that the agent explores the environment, we choose a random action with probability `epsilon`."
      ]
    },
    {
      "cell_type": "code",
      "execution_count": null,
      "metadata": {
        "id": "LmUdXkNlZwuA"
      },
      "outputs": [],
      "source": [
        "def epsilon_greedy_policy(state, epsilon=0):\n",
        "    if np.random.rand() < epsilon:\n",
        "        return np.random.randint(n_outputs)  # random action\n",
        "    else:\n",
        "        Q_values = model.predict(state[np.newaxis], verbose=0)[0]\n",
        "        return Q_values.argmax()  # optimal action according to the DQN"
      ]
    },
    {
      "cell_type": "markdown",
      "metadata": {
        "id": "awR29DvwZwuA"
      },
      "source": [
        "We will also need a replay buffer. It will contain the agent's experiences, in the form of tuples: `(obs, action, reward, next_obs, done)`. We can use the `deque` class for that:"
      ]
    },
    {
      "cell_type": "code",
      "execution_count": null,
      "metadata": {
        "id": "aicIxRaXZwuB"
      },
      "outputs": [],
      "source": [
        "from collections import deque\n",
        "\n",
        "replay_buffer = deque(maxlen=2000)"
      ]
    },
    {
      "cell_type": "markdown",
      "metadata": {
        "id": "AbGaEz7TZwuB"
      },
      "source": [
        "**Note**: for very large replay buffers, you may want to use a circular buffer instead, as random access time will be O(1) instead of O(N). Or you can check out DeepMind's [Reverb library](https://github.com/deepmind/reverb)."
      ]
    },
    {
      "cell_type": "code",
      "execution_count": null,
      "metadata": {
        "id": "DeVaVLEZZwuB"
      },
      "outputs": [],
      "source": [
        "# extra code – A basic circular buffer implementation\n",
        "\n",
        "class ReplayBuffer:\n",
        "    def __init__(self, max_size):\n",
        "        self.buffer = np.empty(max_size, dtype=object)\n",
        "        self.max_size = max_size\n",
        "        self.index = 0\n",
        "        self.size = 0\n",
        "\n",
        "    def append(self, obj):\n",
        "        self.buffer[self.index] = obj\n",
        "        self.size = min(self.size + 1, self.max_size)\n",
        "        self.index = (self.index + 1) % self.max_size\n",
        "\n",
        "    def sample(self, batch_size):\n",
        "        indices = np.random.randint(self.size, size=batch_size)\n",
        "        return self.buffer[indices]"
      ]
    },
    {
      "cell_type": "markdown",
      "metadata": {
        "id": "DXIK1E_LZwuB"
      },
      "source": [
        "And let's create a function to sample experiences from the replay buffer. It will return 6 NumPy arrays: `[obs, actions, rewards, next_obs, dones, truncateds]`."
      ]
    },
    {
      "cell_type": "code",
      "execution_count": null,
      "metadata": {
        "id": "jcYFdswuZwuB"
      },
      "outputs": [],
      "source": [
        "def sample_experiences(batch_size):\n",
        "    indices = np.random.randint(len(replay_buffer), size=batch_size)\n",
        "    batch = [replay_buffer[index] for index in indices]\n",
        "    return [\n",
        "        np.array([experience[field_index] for experience in batch])\n",
        "        for field_index in range(6)\n",
        "    ]  # [states, actions, rewards, next_states, dones, truncateds]"
      ]
    },
    {
      "cell_type": "markdown",
      "metadata": {
        "id": "YvbDnJMnZwuB"
      },
      "source": [
        "Now we can create a function that will use the DQN to play one step, and record its experience in the replay buffer:"
      ]
    },
    {
      "cell_type": "code",
      "execution_count": null,
      "metadata": {
        "id": "40NPm1ILZwuB"
      },
      "outputs": [],
      "source": [
        "def play_one_step(env, state, epsilon):\n",
        "    action = epsilon_greedy_policy(state, epsilon)\n",
        "    next_state, reward, done, truncated, info = env.step(action)\n",
        "    replay_buffer.append((state, action, reward, next_state, done, truncated))\n",
        "    return next_state, reward, done, truncated, info"
      ]
    },
    {
      "cell_type": "markdown",
      "metadata": {
        "id": "E0fLtj2pZwuB"
      },
      "source": [
        "Lastly, let's create a function that will sample some experiences from the replay buffer and perform a training step:"
      ]
    },
    {
      "cell_type": "code",
      "execution_count": null,
      "metadata": {
        "id": "x8etIVVIZwuC"
      },
      "outputs": [],
      "source": [
        "# extra code – for reproducibility, and to generate the next figure\n",
        "env.reset(seed=42)\n",
        "np.random.seed(42)\n",
        "tf.random.set_seed(42)\n",
        "rewards = [] \n",
        "best_score = 0"
      ]
    },
    {
      "cell_type": "code",
      "execution_count": null,
      "metadata": {
        "id": "XJ1FYU5_ZwuC"
      },
      "outputs": [],
      "source": [
        "batch_size = 32\n",
        "discount_factor = 0.95\n",
        "optimizer = tf.keras.optimizers.Nadam(learning_rate=1e-2)\n",
        "loss_fn = tf.keras.losses.mean_squared_error\n",
        "\n",
        "def training_step(batch_size):\n",
        "    experiences = sample_experiences(batch_size)\n",
        "    states, actions, rewards, next_states, dones, truncateds = experiences\n",
        "    next_Q_values = model.predict(next_states, verbose=0)\n",
        "    max_next_Q_values = next_Q_values.max(axis=1)\n",
        "    runs = 1.0 - (dones | truncateds)  # episode is not done or truncated\n",
        "    target_Q_values = rewards + runs * discount_factor * max_next_Q_values\n",
        "    target_Q_values = target_Q_values.reshape(-1, 1)\n",
        "    mask = tf.one_hot(actions, n_outputs)\n",
        "    with tf.GradientTape() as tape:\n",
        "        all_Q_values = model(states)\n",
        "        Q_values = tf.reduce_sum(all_Q_values * mask, axis=1, keepdims=True)\n",
        "        loss = tf.reduce_mean(loss_fn(target_Q_values, Q_values))\n",
        "\n",
        "    grads = tape.gradient(loss, model.trainable_variables)\n",
        "    optimizer.apply_gradients(zip(grads, model.trainable_variables))"
      ]
    },
    {
      "cell_type": "markdown",
      "metadata": {
        "id": "Do1GX7PrZwuC"
      },
      "source": [
        "And now, let's train the model!"
      ]
    },
    {
      "cell_type": "code",
      "execution_count": null,
      "metadata": {
        "scrolled": true,
        "id": "b3EDVnXcZwuC",
        "outputId": "7ae2209c-f6bb-44e5-ba8d-2967d56c2dc3"
      },
      "outputs": [
        {
          "name": "stdout",
          "output_type": "stream",
          "text": [
            "Episode: 600, Steps: 200, eps: 0.010"
          ]
        }
      ],
      "source": [
        "for episode in range(600):\n",
        "    obs, info = env.reset()    \n",
        "    for step in range(200):\n",
        "        epsilon = max(1 - episode / 500, 0.01)\n",
        "        obs, reward, done, truncated, info = play_one_step(env, obs, epsilon)\n",
        "        if done or truncated:\n",
        "            break\n",
        "\n",
        "    # extra code – displays debug info, stores data for the next figure, and\n",
        "    #              keeps track of the best model weights so far\n",
        "    print(f\"\\rEpisode: {episode + 1}, Steps: {step + 1}, eps: {epsilon:.3f}\",\n",
        "          end=\"\")\n",
        "    rewards.append(step)\n",
        "    if step >= best_score:\n",
        "        best_weights = model.get_weights()\n",
        "        best_score = step\n",
        "\n",
        "    if episode > 50:\n",
        "        training_step(batch_size)\n",
        "\n",
        "model.set_weights(best_weights)  # extra code – restores the best model weights"
      ]
    },
    {
      "cell_type": "code",
      "execution_count": null,
      "metadata": {
        "id": "MNVEl8kkZwuC",
        "outputId": "0fcd1cad-4995-4278-c68c-e6ebee1fa868"
      },
      "outputs": [
        {
          "data": {
            "image/png": "[encoded data removed]",
            "text/plain": [
              "<Figure size 576x288 with 1 Axes>"
            ]
          },
          "metadata": {
            "needs_background": "light"
          },
          "output_type": "display_data"
        }
      ],
      "source": [
        "# extra code – this cell generates and saves Figure 18–10\n",
        "plt.figure(figsize=(8, 4))\n",
        "plt.plot(rewards)\n",
        "plt.xlabel(\"Episode\", fontsize=14)\n",
        "plt.ylabel(\"Sum of rewards\", fontsize=14)\n",
        "plt.grid(True)\n",
        "save_fig(\"dqn_rewards_plot\")\n",
        "plt.show()"
      ]
    },
    {
      "cell_type": "code",
      "execution_count": null,
      "metadata": {
        "id": "ZU7Fr5eBZwuC"
      },
      "outputs": [],
      "source": [
        "# extra code – shows an animation of the trained DQN playing one episode\n",
        "show_one_episode(epsilon_greedy_policy)"
      ]
    },
    {
      "cell_type": "markdown",
      "metadata": {
        "id": "0FSa3d9aZwuD"
      },
      "source": [
        "Not bad at all! 😀"
      ]
    },
    {
      "cell_type": "markdown",
      "metadata": {
        "id": "5AKdHiWlZwuD"
      },
      "source": [
        "## Fixed Q-Value Targets"
      ]
    },
    {
      "cell_type": "markdown",
      "metadata": {
        "id": "eeQc17j2ZwuD"
      },
      "source": [
        "Let's create the online DQN:"
      ]
    },
    {
      "cell_type": "code",
      "execution_count": null,
      "metadata": {
        "id": "VDw5fpJVZwuD"
      },
      "outputs": [],
      "source": [
        "# extra code – creates the same DQN model as earlier\n",
        "\n",
        "tf.random.set_seed(42)\n",
        "\n",
        "model = tf.keras.Sequential([\n",
        "    tf.keras.layers.Dense(32, activation=\"elu\", input_shape=input_shape),\n",
        "    tf.keras.layers.Dense(32, activation=\"elu\"),\n",
        "    tf.keras.layers.Dense(n_outputs)\n",
        "])"
      ]
    },
    {
      "cell_type": "markdown",
      "metadata": {
        "id": "IlDriiPAZwuD"
      },
      "source": [
        "Now create the target DQN: it's just a clone of the online DQN:"
      ]
    },
    {
      "cell_type": "code",
      "execution_count": null,
      "metadata": {
        "id": "sl0lU33zZwuD"
      },
      "outputs": [],
      "source": [
        "target = tf.keras.models.clone_model(model)  # clone the model's architecture\n",
        "target.set_weights(model.get_weights())  # copy the weights"
      ]
    },
    {
      "cell_type": "markdown",
      "metadata": {
        "id": "k1H3M2HaZwuD"
      },
      "source": [
        "Next, we use the same code as above except for the line marked with `# <= CHANGED`:"
      ]
    },
    {
      "cell_type": "code",
      "execution_count": null,
      "metadata": {
        "id": "kErhMW75ZwuE"
      },
      "outputs": [],
      "source": [
        "env.reset(seed=42)\n",
        "np.random.seed(42)\n",
        "tf.random.set_seed(42)\n",
        "rewards = [] \n",
        "best_score = 0\n",
        "\n",
        "batch_size = 32\n",
        "discount_factor = 0.95\n",
        "optimizer = tf.keras.optimizers.Nadam(learning_rate=1e-2)\n",
        "loss_fn = tf.keras.losses.mean_squared_error\n",
        "\n",
        "replay_buffer = deque(maxlen=2000)  # resets the replay buffer\n",
        "\n",
        "def training_step(batch_size):\n",
        "    experiences = sample_experiences(batch_size)\n",
        "    states, actions, rewards, next_states, dones, truncateds = experiences\n",
        "    next_Q_values = target.predict(next_states, verbose=0)  # <= CHANGED\n",
        "    max_next_Q_values = next_Q_values.max(axis=1)\n",
        "    runs = 1.0 - (dones | truncateds)  # episode is not done or truncated\n",
        "    target_Q_values = rewards + runs * discount_factor * max_next_Q_values\n",
        "    target_Q_values = target_Q_values.reshape(-1, 1)\n",
        "    mask = tf.one_hot(actions, n_outputs)\n",
        "    with tf.GradientTape() as tape:\n",
        "        all_Q_values = model(states)\n",
        "        Q_values = tf.reduce_sum(all_Q_values * mask, axis=1, keepdims=True)\n",
        "        loss = tf.reduce_mean(loss_fn(target_Q_values, Q_values))\n",
        "\n",
        "    grads = tape.gradient(loss, model.trainable_variables)\n",
        "    optimizer.apply_gradients(zip(grads, model.trainable_variables))"
      ]
    },
    {
      "cell_type": "markdown",
      "metadata": {
        "id": "WHIIaMYYZwuE"
      },
      "source": [
        "Again, this is the same code as earlier, except for the lines marked with `# <= CHANGED`:"
      ]
    },
    {
      "cell_type": "code",
      "execution_count": null,
      "metadata": {
        "id": "hMQ-MuVAZwuE",
        "outputId": "5f6e1d35-4a82-4ce2-ef3b-5b329ab8d30e"
      },
      "outputs": [
        {
          "name": "stdout",
          "output_type": "stream",
          "text": [
            "Episode: 600, Steps: 200, eps: 0.010"
          ]
        }
      ],
      "source": [
        "for episode in range(600):\n",
        "    obs, info = env.reset()    \n",
        "    for step in range(200):\n",
        "        epsilon = max(1 - episode / 500, 0.01)\n",
        "        obs, reward, done, info, truncated = play_one_step(env, obs, epsilon)\n",
        "        if done or truncated:\n",
        "            break\n",
        "\n",
        "    # extra code – displays debug info, stores data for the next figure, and\n",
        "    #              keeps track of the best model weights so far\n",
        "    print(f\"\\rEpisode: {episode + 1}, Steps: {step + 1}, eps: {epsilon:.3f}\",\n",
        "          end=\"\")\n",
        "    rewards.append(step)\n",
        "    if step >= best_score:\n",
        "        best_weights = model.get_weights()\n",
        "        best_score = step\n",
        "\n",
        "    if episode > 50:\n",
        "        training_step(batch_size)\n",
        "        if episode % 50 == 0:                        # <= CHANGED\n",
        "            target.set_weights(model.get_weights())  # <= CHANGED\n",
        "\n",
        "    # Alternatively, you can do soft updates at each step:\n",
        "    #if episode > 50:\n",
        "        #training_step(batch_size)\n",
        "        #target_weights = target.get_weights()\n",
        "        #online_weights = model.get_weights()\n",
        "        #for index, online_weight in enumerate(online_weights):\n",
        "        #    target_weights[index] = (0.99 * target_weights[index]\n",
        "        #                             + 0.01 * online_weight)\n",
        "        #target.set_weights(target_weights)\n",
        "\n",
        "model.set_weights(best_weights)  # extra code – restores the best model weights"
      ]
    },
    {
      "cell_type": "code",
      "execution_count": null,
      "metadata": {
        "id": "uuui-oOcZwuE",
        "outputId": "27b2c2e2-dba0-42b9-a494-22566e71c76d"
      },
      "outputs": [
        {
          "data": {
            "image/png": "[encoded data removed]",
            "text/plain": [
              "<Figure size 576x288 with 1 Axes>"
            ]
          },
          "metadata": {
            "needs_background": "light"
          },
          "output_type": "display_data"
        }
      ],
      "source": [
        "# extra code – this cell plots the learning curve\n",
        "plt.figure(figsize=(8, 4))\n",
        "plt.plot(rewards)\n",
        "plt.xlabel(\"Episode\", fontsize=14)\n",
        "plt.ylabel(\"Sum of rewards\", fontsize=14)\n",
        "plt.grid(True)\n",
        "plt.show()"
      ]
    },
    {
      "cell_type": "code",
      "execution_count": null,
      "metadata": {
        "scrolled": true,
        "tags": [],
        "id": "HUjz76iTZwuE"
      },
      "outputs": [],
      "source": [
        "# extra code – shows an animation of the trained DQN playing one episode\n",
        "show_one_episode(epsilon_greedy_policy)"
      ]
    },
    {
      "cell_type": "markdown",
      "metadata": {
        "id": "Y8pz9T-JZwuE"
      },
      "source": [
        "## Double DQN"
      ]
    },
    {
      "cell_type": "markdown",
      "metadata": {
        "id": "l6q5DjPqZwuF"
      },
      "source": [
        "The code is exactly the same as for fixed Q-Value targets, except for the section marked as changed in the `training_step()` function:"
      ]
    },
    {
      "cell_type": "code",
      "execution_count": null,
      "metadata": {
        "id": "B-aUtFC8ZwuF"
      },
      "outputs": [],
      "source": [
        "tf.random.set_seed(42)\n",
        "\n",
        "model = tf.keras.Sequential([\n",
        "    tf.keras.layers.Dense(32, activation=\"elu\", input_shape=input_shape),\n",
        "    tf.keras.layers.Dense(32, activation=\"elu\"),\n",
        "    tf.keras.layers.Dense(n_outputs)\n",
        "])\n",
        "\n",
        "target = tf.keras.models.clone_model(model)  # clone the model's architecture\n",
        "target.set_weights(model.get_weights())  # copy the weights\n",
        "\n",
        "env.reset(seed=42)\n",
        "np.random.seed(42)\n",
        "tf.random.set_seed(42)\n",
        "rewards = [] \n",
        "best_score = 0\n",
        "\n",
        "batch_size = 32\n",
        "discount_factor = 0.95\n",
        "optimizer = tf.keras.optimizers.Nadam(learning_rate=1e-2)\n",
        "loss_fn = tf.keras.losses.mean_squared_error\n",
        "\n",
        "def training_step(batch_size):\n",
        "    experiences = sample_experiences(batch_size)\n",
        "    states, actions, rewards, next_states, dones, truncateds = experiences\n",
        "\n",
        "    #################### CHANGED SECTION ####################\n",
        "    next_Q_values = model.predict(next_states, verbose=0)  # ≠ target.predict()\n",
        "    best_next_actions = next_Q_values.argmax(axis=1)\n",
        "    next_mask = tf.one_hot(best_next_actions, n_outputs).numpy()\n",
        "    max_next_Q_values = (target.predict(next_states, verbose=0) * next_mask\n",
        "                        ).sum(axis=1)\n",
        "    #########################################################\n",
        "\n",
        "    runs = 1.0 - (dones | truncateds)  # episode is not done or truncated\n",
        "    target_Q_values = rewards + runs * discount_factor * max_next_Q_values\n",
        "    target_Q_values = target_Q_values.reshape(-1, 1)\n",
        "    mask = tf.one_hot(actions, n_outputs)\n",
        "    with tf.GradientTape() as tape:\n",
        "        all_Q_values = model(states)\n",
        "        Q_values = tf.reduce_sum(all_Q_values * mask, axis=1, keepdims=True)\n",
        "        loss = tf.reduce_mean(loss_fn(target_Q_values, Q_values))\n",
        "\n",
        "    grads = tape.gradient(loss, model.trainable_variables)\n",
        "    optimizer.apply_gradients(zip(grads, model.trainable_variables))\n",
        "\n",
        "replay_buffer = deque(maxlen=2000)\n",
        "\n",
        "for episode in range(600):\n",
        "    obs, info = env.reset()    \n",
        "    for step in range(200):\n",
        "        epsilon = max(1 - episode / 500, 0.01)\n",
        "        obs, reward, done, info, truncated = play_one_step(env, obs, epsilon)\n",
        "        if done or truncated:\n",
        "            break\n",
        "\n",
        "    print(f\"\\rEpisode: {episode + 1}, Steps: {step + 1}, eps: {epsilon:.3f}\",\n",
        "          end=\"\")\n",
        "    rewards.append(step)\n",
        "    if step >= best_score:\n",
        "        best_weights = model.get_weights()\n",
        "        best_score = step\n",
        "\n",
        "    if episode > 50:\n",
        "        training_step(batch_size)\n",
        "        if episode % 50 == 0:\n",
        "            target.set_weights(model.get_weights())\n",
        "\n",
        "model.set_weights(best_weights)"
      ]
    },
    {
      "cell_type": "code",
      "execution_count": null,
      "metadata": {
        "id": "JeqRQoQuZwuF",
        "outputId": "e60e4c12-2874-42d3-c570-1109828d9eb0"
      },
      "outputs": [
        {
          "data": {
            "image/png": "[encoded data removed]",
            "text/plain": [
              "<Figure size 576x288 with 1 Axes>"
            ]
          },
          "metadata": {
            "needs_background": "light"
          },
          "output_type": "display_data"
        }
      ],
      "source": [
        "# extra code – this cell plots the learning curve\n",
        "plt.figure(figsize=(8, 4))\n",
        "plt.plot(rewards)\n",
        "plt.xlabel(\"Episode\", fontsize=14)\n",
        "plt.ylabel(\"Sum of rewards\", fontsize=14)\n",
        "plt.grid(True)\n",
        "plt.show()"
      ]
    },
    {
      "cell_type": "code",
      "execution_count": null,
      "metadata": {
        "scrolled": true,
        "id": "6Evs8DyWZwuF"
      },
      "outputs": [],
      "source": [
        "# extra code – shows an animation of the trained DQN playing one episode\n",
        "show_one_episode(epsilon_greedy_policy)"
      ]
    },
    {
      "cell_type": "markdown",
      "metadata": {
        "id": "5oJduGPfZwuF"
      },
      "source": [
        "# Dueling Double DQN"
      ]
    },
    {
      "cell_type": "code",
      "execution_count": null,
      "metadata": {
        "id": "ROC4_aFXZwuF"
      },
      "outputs": [],
      "source": [
        "tf.random.set_seed(42)  # extra code – ensures reproducibility on the CPU\n",
        "\n",
        "input_states = tf.keras.layers.Input(shape=[4])\n",
        "hidden1 = tf.keras.layers.Dense(32, activation=\"elu\")(input_states)\n",
        "hidden2 = tf.keras.layers.Dense(32, activation=\"elu\")(hidden1)\n",
        "state_values = tf.keras.layers.Dense(1)(hidden2)\n",
        "raw_advantages = tf.keras.layers.Dense(n_outputs)(hidden2)\n",
        "advantages = raw_advantages - tf.reduce_max(raw_advantages, axis=1,\n",
        "                                            keepdims=True)\n",
        "Q_values = state_values + advantages\n",
        "model = tf.keras.Model(inputs=[input_states], outputs=[Q_values])"
      ]
    },
    {
      "cell_type": "markdown",
      "metadata": {
        "id": "TNTmxwMnZwuG"
      },
      "source": [
        "The rest is the same code as earlier:"
      ]
    },
    {
      "cell_type": "code",
      "execution_count": null,
      "metadata": {
        "id": "uPrIWzM_ZwuG",
        "outputId": "b063d60e-3228-41ab-e042-09d6d4ece4b7"
      },
      "outputs": [
        {
          "name": "stdout",
          "output_type": "stream",
          "text": [
            "Episode: 600, Steps: 137, eps: 0.010"
          ]
        }
      ],
      "source": [
        "# extra code – trains the model\n",
        "\n",
        "batch_size = 32\n",
        "discount_factor = 0.95\n",
        "optimizer = tf.keras.optimizers.Nadam(learning_rate=5e-3)\n",
        "loss_fn = tf.keras.losses.mean_squared_error\n",
        "\n",
        "target = tf.keras.models.clone_model(model)  # clone the model's architecture\n",
        "target.set_weights(model.get_weights())  # copy the weights\n",
        "\n",
        "env.reset(seed=42)\n",
        "replay_buffer = deque(maxlen=2000)\n",
        "rewards = []\n",
        "best_score = 0\n",
        "\n",
        "for episode in range(600):\n",
        "    obs, info = env.reset()    \n",
        "    for step in range(200):\n",
        "        epsilon = max(1 - episode / 500, 0.01)\n",
        "        obs, reward, done, info, truncated = play_one_step(env, obs, epsilon)\n",
        "        if done or truncated:\n",
        "            break\n",
        "\n",
        "    print(f\"\\rEpisode: {episode + 1}, Steps: {step + 1}, eps: {epsilon:.3f}\",\n",
        "          end=\"\")\n",
        "    rewards.append(step)\n",
        "    if step >= best_score:\n",
        "        best_weights = model.get_weights()\n",
        "        best_score = step\n",
        "\n",
        "    if episode > 50:\n",
        "        training_step(batch_size)\n",
        "        if episode % 50 == 0:\n",
        "            target.set_weights(model.get_weights())\n",
        "\n",
        "model.set_weights(best_weights)"
      ]
    },
    {
      "cell_type": "code",
      "execution_count": null,
      "metadata": {
        "id": "dpFGpEcfZwuG",
        "outputId": "91a801c7-6461-400c-dc99-4f793a1bdbe3"
      },
      "outputs": [
        {
          "data": {
            "image/png": "[encoded data removed]",
            "text/plain": [
              "<Figure size 576x288 with 1 Axes>"
            ]
          },
          "metadata": {
            "needs_background": "light"
          },
          "output_type": "display_data"
        }
      ],
      "source": [
        "# extra code – this cell plots the learning curve\n",
        "plt.figure(figsize=(8, 4))\n",
        "plt.plot(rewards)\n",
        "plt.xlabel(\"Episode\", fontsize=14)\n",
        "plt.ylabel(\"Sum of rewards\", fontsize=14)\n",
        "plt.grid(True)\n",
        "plt.show()"
      ]
    },
    {
      "cell_type": "code",
      "execution_count": null,
      "metadata": {
        "scrolled": true,
        "id": "xu3f0IdPZwuG"
      },
      "outputs": [],
      "source": [
        "# extra code – shows an animation of the trained DQN playing one episode\n",
        "show_one_episode(epsilon_greedy_policy)"
      ]
    },
    {
      "cell_type": "markdown",
      "metadata": {
        "id": "BjDlsv20ZwuG"
      },
      "source": [
        "This looks like a pretty robust agent!"
      ]
    },
    {
      "cell_type": "code",
      "execution_count": null,
      "metadata": {
        "id": "xX2Q-aaBZwuG"
      },
      "outputs": [],
      "source": [
        "env.close()"
      ]
    },
    {
      "cell_type": "markdown",
      "metadata": {
        "id": "4qhjILV1ZwuH"
      },
      "source": [
        "# Exercise Solutions"
      ]
    },
    {
      "cell_type": "markdown",
      "metadata": {
        "id": "S-YyaVDQZwuN"
      },
      "source": [
        "## 1. to 7."
      ]
    },
    {
      "cell_type": "markdown",
      "metadata": {
        "id": "nrrasKskZwuN"
      },
      "source": [
        "1. Reinforcement Learning is an area of Machine Learning aimed at creating agents capable of taking actions in an environment in a way that maximizes rewards over time. There are many differences between RL and regular supervised and unsupervised learning. Here are a few:\n",
        "    * In supervised and unsupervised learning, the goal is generally to find patterns in the data and use them to make predictions. In Reinforcement Learning, the goal is to find a good policy.\n",
        "    * Unlike in supervised learning, the agent is not explicitly given the \"right\" answer. It must learn by trial and error.\n",
        "    * Unlike in unsupervised learning, there is a form of supervision, through rewards. We do not tell the agent how to perform the task, but we do tell it when it is making progress or when it is failing.\n",
        "    * A Reinforcement Learning agent needs to find the right balance between exploring the environment, looking for new ways of getting rewards, and exploiting sources of rewards that it already knows. In contrast, supervised and unsupervised learning systems generally don't need to worry about exploration; they just feed on the training data they are given.\n",
        "    * In supervised and unsupervised learning, training instances are typically independent (in fact, they are generally shuffled). In Reinforcement Learning, consecutive observations are generally _not_ independent. An agent may remain in the same region of the environment for a while before it moves on, so consecutive observations will be very correlated. In some cases a replay buffer (memory) is used to ensure that the training algorithm gets fairly independent observations.\n",
        "2. Here are a few possible applications of Reinforcement Learning, other than those mentioned in Chapter 18:\n",
        "    * Music personalization: The environment is a user's personalized web radio. The agent is the software deciding what song to play next for that user. Its possible actions are to play any song in the catalog (it must try to choose a song the user will enjoy) or to play an advertisement (it must try to choose an ad that the user will be interested in). It gets a small reward every time the user listens to a song, a larger reward every time the user listens to an ad, a negative reward when the user skips a song or an ad, and a very negative reward if the user leaves.\n",
        "    * Marketing: The environment is your company's marketing department. The agent is the software that defines which customers a mailing campaign should be sent to, given their profile and purchase history (for each customer it has two possible actions: send or don't send). It gets a negative reward for the cost of the mailing campaign, and a positive reward for estimated revenue generated from this campaign.\n",
        "    * Product delivery: Let the agent control a fleet of delivery trucks, deciding what they should pick up at the depots, where they should go, what they should drop off, and so on. It will get positive rewards for each product delivered on time, and negative rewards for late deliveries.\n",
        "3. When estimating the value of an action, Reinforcement Learning algorithms typically sum all the rewards that this action led to, giving more weight to immediate rewards and less weight to later rewards (considering that an action has more influence on the near future than on the distant future). To model this, a discount factor is typically applied at each time step. For example, with a discount factor of 0.9, a reward of 100 that is received two time steps later is counted as only 0.9<sup>2</sup> × 100 = 81 when you are estimating the value of the action. You can think of the discount factor as a measure of how much the future is valued relative to the present: if it is very close to 1, then the future is valued almost as much as the present; if it is close to 0, then only immediate rewards matter. Of course, this impacts the optimal policy tremendously: if you value the future, you may be willing to put up with a lot of immediate pain for the prospect of eventual rewards, while if you don't value the future, you will just grab any immediate reward you can find, never investing in the future.\n",
        "4. To measure the performance of a Reinforcement Learning agent, you can simply sum up the rewards it gets. In a simulated environment, you can run many episodes and look at the total rewards it gets on average (and possibly look at the min, max, standard deviation, and so on).\n",
        "5. The credit assignment problem is the fact that when a Reinforcement Learning agent receives a reward, it has no direct way of knowing which of its previous actions contributed to this reward. It typically occurs when there is a large delay between an action and the resulting reward (e.g., during a game of Atari's _Pong_, there may be a few dozen time steps between the moment the agent hits the ball and the moment it wins the point). One way to alleviate it is to provide the agent with shorter-term rewards, when possible. This usually requires prior knowledge about the task. For example, if we want to build an agent that will learn to play chess, instead of giving it a reward only when it wins the game, we could give it a reward every time it captures one of the opponent's pieces.\n",
        "6. An agent can often remain in the same region of its environment for a while, so all of its experiences will be very similar for that period of time. This can introduce some bias in the learning algorithm. It may tune its policy for this region of the environment, but it will not perform well as soon as it moves out of this region. To solve this problem, you can use a replay buffer; instead of using only the most immediate experiences for learning, the agent will learn based on a buffer of its past experiences, recent and not so recent (perhaps this is why we dream at night: to replay our experiences of the day and better learn from them?).\n",
        "7. An off-policy RL algorithm learns the value of the optimal policy (i.e., the sum of discounted rewards that can be expected for each state if the agent acts optimally) while the agent follows a different policy. Q-Learning is a good example of such an algorithm. In contrast, an on-policy algorithm learns the value of the policy that the agent actually executes, including both exploration and exploitation."
      ]
    },
    {
      "cell_type": "markdown",
      "metadata": {
        "id": "Q6NaJ286ZwuO"
      },
      "source": [
        "## 8.\n",
        "_Exercise: Use policy gradients to solve OpenAI Gym's LunarLander-v2 environment._"
      ]
    },
    {
      "cell_type": "markdown",
      "metadata": {
        "id": "qIdZNmReZwuO"
      },
      "source": [
        "Let's start by creating a LunarLander-v2 environment:"
      ]
    },
    {
      "cell_type": "code",
      "execution_count": null,
      "metadata": {
        "id": "FujZ3UqmZwuP"
      },
      "outputs": [],
      "source": [
        "env = gym.make(\"LunarLander-v2\", render_mode=\"rgb_array\")"
      ]
    },
    {
      "cell_type": "markdown",
      "metadata": {
        "id": "UmsiWAopZwuP"
      },
      "source": [
        "The inputs are 8-dimensional:"
      ]
    },
    {
      "cell_type": "code",
      "execution_count": null,
      "metadata": {
        "id": "LbM86xbWZwuP",
        "outputId": "6200518a-f08b-4ddf-da34-1efd5dc38835"
      },
      "outputs": [
        {
          "data": {
            "text/plain": [
              "Box([-1.5       -1.5       -5.        -5.        -3.1415927 -5.\n",
              " -0.        -0.       ], [1.5       1.5       5.        5.        3.1415927 5.        1.\n",
              " 1.       ], (8,), float32)"
            ]
          },
          "execution_count": 74,
          "metadata": {},
          "output_type": "execute_result"
        }
      ],
      "source": [
        "env.observation_space"
      ]
    },
    {
      "cell_type": "code",
      "execution_count": null,
      "metadata": {
        "id": "BdoM06nHZwuQ",
        "outputId": "b3af0c91-db30-43b4-9e84-b8a222b9f8ca"
      },
      "outputs": [
        {
          "data": {
            "text/plain": [
              "array([ 0.00229702,  1.4181306 ,  0.2326471 ,  0.3204666 , -0.00265488,\n",
              "       -0.05269805,  0.        ,  0.        ], dtype=float32)"
            ]
          },
          "execution_count": 75,
          "metadata": {},
          "output_type": "execute_result"
        }
      ],
      "source": [
        "obs, info = env.reset(seed=42)\n",
        "obs"
      ]
    },
    {
      "cell_type": "markdown",
      "metadata": {
        "id": "VBgkl_yLZwuQ"
      },
      "source": [
        "From the [source code](https://github.com/openai/gym/blob/master/gym/envs/box2d/lunar_lander.py), we can see that these each 8D observation (x, y, h, v, a, w, l, r) correspond to:\n",
        "* x,y: the coordinates of the spaceship. It starts at a random location near (0, 1.4) and must land near the target at (0, 0).\n",
        "* h,v: the horizontal and vertical speed of the spaceship. It starts with a small random speed.\n",
        "* a,w: the spaceship's angle and angular velocity.\n",
        "* l,r: whether the left or right leg touches the ground (1.0) or not (0.0)."
      ]
    },
    {
      "cell_type": "markdown",
      "metadata": {
        "id": "TAxlX3s4ZwuQ"
      },
      "source": [
        "The action space is discrete, with 4 possible actions:"
      ]
    },
    {
      "cell_type": "code",
      "execution_count": null,
      "metadata": {
        "id": "lqYFUEkFZwuR",
        "outputId": "4704a6a8-90ee-480d-8af6-50a8c016bc47"
      },
      "outputs": [
        {
          "data": {
            "text/plain": [
              "Discrete(4)"
            ]
          },
          "execution_count": 76,
          "metadata": {},
          "output_type": "execute_result"
        }
      ],
      "source": [
        "env.action_space"
      ]
    },
    {
      "cell_type": "markdown",
      "metadata": {
        "id": "6vtvvKmdZwuR"
      },
      "source": [
        "Looking at the [LunarLander-v2's description](https://gym.openai.com/envs/LunarLander-v2/), these actions are:\n",
        "* do nothing\n",
        "* fire left orientation engine\n",
        "* fire main engine\n",
        "* fire right orientation engine"
      ]
    },
    {
      "cell_type": "markdown",
      "metadata": {
        "id": "NnPPJ6g7ZwuR"
      },
      "source": [
        "Let's create a simple policy network with 4 output neurons (one per possible action):"
      ]
    },
    {
      "cell_type": "code",
      "execution_count": null,
      "metadata": {
        "id": "ZI7Hadf3ZwuR"
      },
      "outputs": [],
      "source": [
        "np.random.seed(42)\n",
        "tf.random.set_seed(42)\n",
        "\n",
        "n_inputs = env.observation_space.shape[0]\n",
        "n_outputs = env.action_space.n\n",
        "\n",
        "model = tf.keras.Sequential([\n",
        "    tf.keras.layers.Dense(32, activation=\"relu\", input_shape=[n_inputs]),\n",
        "    tf.keras.layers.Dense(32, activation=\"relu\"),\n",
        "    tf.keras.layers.Dense(n_outputs, activation=\"softmax\"),\n",
        "])"
      ]
    },
    {
      "cell_type": "markdown",
      "metadata": {
        "id": "IgwC_yunZwuS"
      },
      "source": [
        "Note that we're using the softmax activation function in the output layer, instead of the sigmoid activation function \n",
        "like we did for the CartPole-v1 environment. This is because we only had two possible actions for the CartPole-v1 environment, so a binary classification model worked fine. However, since we now how more than two possible actions, we need a multiclass classification model."
      ]
    },
    {
      "cell_type": "markdown",
      "metadata": {
        "id": "j_uCb0q8ZwuS"
      },
      "source": [
        "Next, let's reuse the `play_one_step()` and `play_multiple_episodes()` functions we defined for the CartPole-v1 Policy Gradient code above, but we'll just tweak the `play_one_step()` function to account for the fact that the model is now a multiclass classification model rather than a binary classification model. We'll also tweak the `play_multiple_episodes()` function to call our tweaked `play_one_step()` function rather than the original one, and we add a big penalty if the spaceship does not land (or crash) before a maximum number of steps."
      ]
    },
    {
      "cell_type": "code",
      "execution_count": null,
      "metadata": {
        "id": "Qkmp6412ZwuS"
      },
      "outputs": [],
      "source": [
        "def lander_play_one_step(env, obs, model, loss_fn):\n",
        "    with tf.GradientTape() as tape:\n",
        "        probas = model(obs[np.newaxis])\n",
        "        logits = tf.math.log(probas + tf.keras.backend.epsilon())\n",
        "        action = tf.random.categorical(logits, num_samples=1)\n",
        "        loss = tf.reduce_mean(loss_fn(action, probas))\n",
        "    grads = tape.gradient(loss, model.trainable_variables)\n",
        "    obs, reward, done, info, truncated = env.step(action[0, 0].numpy())\n",
        "    return obs, reward, done, truncated, grads\n",
        "\n",
        "def lander_play_multiple_episodes(env, n_episodes, n_max_steps, model, loss_fn):\n",
        "    all_rewards = []\n",
        "    all_grads = []\n",
        "    for episode in range(n_episodes):\n",
        "        current_rewards = []\n",
        "        current_grads = []\n",
        "        obs, info = env.reset()\n",
        "        for step in range(n_max_steps):\n",
        "            obs, reward, done, truncated, grads = lander_play_one_step(\n",
        "                env, obs, model, loss_fn)\n",
        "            current_rewards.append(reward)\n",
        "            current_grads.append(grads)\n",
        "            if done or truncated:\n",
        "                break\n",
        "        all_rewards.append(current_rewards)\n",
        "        all_grads.append(current_grads)\n",
        "    return all_rewards, all_grads"
      ]
    },
    {
      "cell_type": "markdown",
      "metadata": {
        "id": "G-1EBX4_ZwuT"
      },
      "source": [
        "We'll keep exactly the same `discount_rewards()` and `discount_and_normalize_rewards()` functions as earlier:"
      ]
    },
    {
      "cell_type": "code",
      "execution_count": null,
      "metadata": {
        "id": "47VQQF8hZwuT"
      },
      "outputs": [],
      "source": [
        "def discount_rewards(rewards, discount_factor):\n",
        "    discounted = np.array(rewards)\n",
        "    for step in range(len(rewards) - 2, -1, -1):\n",
        "        discounted[step] += discounted[step + 1] * discount_factor\n",
        "    return discounted\n",
        "\n",
        "def discount_and_normalize_rewards(all_rewards, discount_factor):\n",
        "    all_discounted_rewards = [discount_rewards(rewards, discount_factor)\n",
        "                              for rewards in all_rewards]\n",
        "    flat_rewards = np.concatenate(all_discounted_rewards)\n",
        "    reward_mean = flat_rewards.mean()\n",
        "    reward_std = flat_rewards.std()\n",
        "    return [(discounted_rewards - reward_mean) / reward_std\n",
        "            for discounted_rewards in all_discounted_rewards]"
      ]
    },
    {
      "cell_type": "markdown",
      "metadata": {
        "id": "vXBVvpuNZwuT"
      },
      "source": [
        "Now let's define some hyperparameters:"
      ]
    },
    {
      "cell_type": "code",
      "execution_count": null,
      "metadata": {
        "id": "SZkz_XsXZwuT"
      },
      "outputs": [],
      "source": [
        "n_iterations = 200\n",
        "n_episodes_per_update = 16\n",
        "n_max_steps = 1000\n",
        "discount_factor = 0.99"
      ]
    },
    {
      "cell_type": "markdown",
      "metadata": {
        "id": "JAf8OLjeZwuU"
      },
      "source": [
        "Again, since the model is a multiclass classification model, we must use the categorical cross-entropy rather than the binary cross-entropy. Moreover, since the `lander_play_one_step()` function sets the targets as class indices rather than class probabilities, we must use the `sparse_categorical_crossentropy()` loss function:"
      ]
    },
    {
      "cell_type": "code",
      "execution_count": null,
      "metadata": {
        "id": "tuuBqDBNZwuU"
      },
      "outputs": [],
      "source": [
        "optimizer = tf.keras.optimizers.Nadam(learning_rate=0.005)\n",
        "loss_fn = tf.keras.losses.sparse_categorical_crossentropy"
      ]
    },
    {
      "cell_type": "markdown",
      "metadata": {
        "id": "s39Tz4FKZwuU"
      },
      "source": [
        "We're ready to train the model. Let's go!"
      ]
    },
    {
      "cell_type": "code",
      "execution_count": null,
      "metadata": {
        "id": "Qxrh3nXRZwuV",
        "outputId": "b0b0015c-9ecc-4b7e-db4f-4fa9a6447e02"
      },
      "outputs": [
        {
          "name": "stdout",
          "output_type": "stream",
          "text": [
            "Iteration: 200/200, mean reward: 167.1  "
          ]
        }
      ],
      "source": [
        "env.reset(seed=42)\n",
        "\n",
        "mean_rewards = []\n",
        "\n",
        "for iteration in range(n_iterations):\n",
        "    all_rewards, all_grads = lander_play_multiple_episodes(\n",
        "        env, n_episodes_per_update, n_max_steps, model, loss_fn)\n",
        "    mean_reward = sum(map(sum, all_rewards)) / n_episodes_per_update\n",
        "    print(f\"\\rIteration: {iteration + 1}/{n_iterations},\"\n",
        "          f\" mean reward: {mean_reward:.1f}  \", end=\"\")\n",
        "    mean_rewards.append(mean_reward)\n",
        "    all_final_rewards = discount_and_normalize_rewards(all_rewards,\n",
        "                                                       discount_factor)\n",
        "    all_mean_grads = []\n",
        "    for var_index in range(len(model.trainable_variables)):\n",
        "        mean_grads = tf.reduce_mean(\n",
        "            [final_reward * all_grads[episode_index][step][var_index]\n",
        "             for episode_index, final_rewards in enumerate(all_final_rewards)\n",
        "                 for step, final_reward in enumerate(final_rewards)], axis=0)\n",
        "        all_mean_grads.append(mean_grads)\n",
        "    optimizer.apply_gradients(zip(all_mean_grads, model.trainable_variables))"
      ]
    },
    {
      "cell_type": "markdown",
      "metadata": {
        "id": "GcMzUFbuZwuV"
      },
      "source": [
        "Let's look at the learning curve:"
      ]
    },
    {
      "cell_type": "code",
      "execution_count": null,
      "metadata": {
        "id": "tYs0ZSbNZwuV",
        "outputId": "7d68c54c-fa46-45c3-cea8-8dcb1321ff0e"
      },
      "outputs": [
        {
          "data": {
            "image/png": "[encoded data removed]",
            "text/plain": [
              "<Figure size 432x288 with 1 Axes>"
            ]
          },
          "metadata": {
            "needs_background": "light"
          },
          "output_type": "display_data"
        }
      ],
      "source": [
        "plt.plot(mean_rewards)\n",
        "plt.xlabel(\"Episode\")\n",
        "plt.ylabel(\"Mean reward\")\n",
        "plt.grid()\n",
        "plt.show()"
      ]
    },
    {
      "cell_type": "markdown",
      "metadata": {
        "id": "liPbzc96ZwuV"
      },
      "source": [
        "Now let's look at the result!"
      ]
    },
    {
      "cell_type": "code",
      "execution_count": null,
      "metadata": {
        "id": "IJmze9n5ZwuW"
      },
      "outputs": [],
      "source": [
        "def lander_render_policy_net(model, n_max_steps=500, seed=42):\n",
        "    frames = []\n",
        "    env = gym.make(\"LunarLander-v2\", render_mode=\"rgb_array\")\n",
        "    tf.random.set_seed(seed)\n",
        "    np.random.seed(seed)\n",
        "    obs, info = env.reset(seed=seed)\n",
        "    for step in range(n_max_steps):\n",
        "        frames.append(env.render())\n",
        "        probas = model(obs[np.newaxis])\n",
        "        logits = tf.math.log(probas + tf.keras.backend.epsilon())\n",
        "        action = tf.random.categorical(logits, num_samples=1)\n",
        "        obs, reward, done, truncated, info = env.step(action[0, 0].numpy())\n",
        "        if done or truncated:\n",
        "            break\n",
        "    env.close()\n",
        "    return frames"
      ]
    },
    {
      "cell_type": "code",
      "execution_count": null,
      "metadata": {
        "id": "-CDtQ4SSZwuW"
      },
      "outputs": [],
      "source": [
        "frames = lander_render_policy_net(model, seed=42)\n",
        "plot_animation(frames)"
      ]
    },
    {
      "cell_type": "markdown",
      "metadata": {
        "id": "m-iEAm3QZwuW"
      },
      "source": [
        "That's pretty good. You can try training it for longer and/or tweaking the hyperparameters to see if you can get it to go over 200."
      ]
    },
    {
      "cell_type": "markdown",
      "metadata": {
        "id": "-l4ED0TgZwuX"
      },
      "source": [
        "## 9.\n",
        "_Exercise: Use a Double Dueling DQN to train an agent that can achieve a superhuman level at the famous Atari Breakout game (`\"ALE/Breakout-v5\"`). The observations are images. To simplify the task, you should convert them to grayscale (i.e., average over the channels axis), crop them and downsample them, so they're just large enough to play, but not much more. An individual image does not tell you which way the ball and the paddles are going, so you should merge two or three consecutive images to form each state. Lastly, the DQN should be composed mostly of convolutional layers._"
      ]
    },
    {
      "cell_type": "markdown",
      "metadata": {
        "id": "el6BtUGMZwuX"
      },
      "source": [
        "TODO"
      ]
    },
    {
      "cell_type": "markdown",
      "metadata": {
        "id": "fJnU0kWGZwuX"
      },
      "source": [
        "Check out the [State-of-the-Art for Atari Games on paperswithcode.com](https://paperswithcode.com/task/atari-games)."
      ]
    },
    {
      "cell_type": "markdown",
      "metadata": {
        "id": "eFEKqTJNZwuY"
      },
      "source": [
        "## 10.\n",
        "_Exercise: If you have about $100 to spare, you can purchase a Raspberry Pi 3 plus some cheap robotics components, install TensorFlow on the Pi, and go wild! For an example, check out this [fun post](https://homl.info/2) by Lukas Biewald, or take a look at GoPiGo or BrickPi. Start with simple goals, like making the robot turn around to find the brightest angle (if it has a light sensor) or the closest object (if it has a sonar sensor), and move in that direction. Then you can start using Deep Learning: for example, if the robot has a camera, you can try to implement an object detection algorithm so it detects people and moves toward them. You can also try to use RL to make the agent learn on its own how to use the motors to achieve that goal. Have fun!_"
      ]
    },
    {
      "cell_type": "markdown",
      "metadata": {
        "id": "gpx4F17BZwuY"
      },
      "source": [
        "It's your turn now: go crazy, be creative, but most of all, be patient and move forward step by step, you can do it!"
      ]
    }
  ],
  "metadata": {
    "accelerator": "GPU",
    "interpreter": {
      "hash": "95c485e91159f3a8b550e08492cb4ed2557284663e79130c96242e7ff9e65ae1"
    },
    "kernelspec": {
      "display_name": "Python 3",
      "language": "python",
      "name": "python3"
    },
    "language_info": {
      "codemirror_mode": {
        "name": "ipython",
        "version": 3
      },
      "file_extension": ".py",
      "mimetype": "text/x-python",
      "name": "python",
      "nbconvert_exporter": "python",
      "pygments_lexer": "ipython3",
      "version": "3.9.10"
    },
    "colab": {
      "provenance": []
    },
    "gpuClass": "standard"
  },
  "nbformat": 4,
  "nbformat_minor": 0
}